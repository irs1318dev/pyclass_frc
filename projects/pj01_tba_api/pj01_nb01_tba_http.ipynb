{
 "cells": [
  {
   "cell_type": "markdown",
   "metadata": {},
   "source": [
    "[Table of Contents](../../index.ipynb)"
   ]
  },
  {
   "cell_type": "markdown",
   "metadata": {},
   "source": [
    "# Project 1: Analyzing Blue Alliance Data with Python\n",
    "## Notebook 1: Submitting HTTP Requests to the Blue Alliance API\n",
    "\n",
    "## I. Introduction\n",
    "[The Blue Alliance](http://www.thebluealliance.com) is an extensive online repository of FIRST Robotics Competition (FRC) data. The Blue Alliance (TBA) contains detailed information on every single FRC match. [Click here for an example.](https://www.thebluealliance.com/match/2020wasno_qf2m1)\n",
    "\n",
    "In addition providing information website, TBA makes all FRC competition data available via hyptetext transfer protocol (HTTP). The FRC data is provided as javascript object notation (JSON) text, which can be read by Python. This allows us to find new ways to analyze and visualize FRC data.\n",
    "\n",
    "In this project, you will learn how to retrieve FRC data from TBA by submitting HTTP requests, how to convert the FRC data into Pandas data frames, and how to plot the data using the Bokeh package. Finally, you will learn how to organize the code needed to complete these tasks in easy-to-use functions or classes.\n",
    "\n",
    "This first notebook provides an overview of TBA's application programming interface (API) and explains how to submit HTTP requests to the API. For brevity, we will use the acronym TBA-API to refer to *The Blue Alliance Application Programming Interface* throughout the rest of this project.\n",
    "\n",
    "I know of at least one Python package available on Github for retrieving TBA-API data with Python. We are not using that package because it does not convert the downloaded data into Pandas data frames. The Issaquah Robotics Society prefers to use Pandas data frames for data manipulation, analysis, and visualization because they are extremely capable and they work well with other Python data analysis tools."
   ]
  },
  {
   "cell_type": "markdown",
   "metadata": {},
   "source": [
    "## II. Preparations\n",
    "Complete these items before starting on this project:\n",
    "\n",
    "1. Get a TBA-API authorization key. See [See Instructions here](../../procedures/pc03_tba_api_key/pc03_tba_api_key.ipynb).\n",
    "2. Review [session 09 on Hypertext Transfer Protocol](../../sessions/s09_http/s09_http.ipynb)"
   ]
  },
  {
   "cell_type": "markdown",
   "metadata": {},
   "source": [
    "## III. Reading the API Documentation\n",
    "TBA actually has a few different APIs. We will be using the version 3 of the *Read API*. Whenever this course refers to the TBA-API, it means version 3 of the *Read API*. There is also a *Write API* that can be used by organizers of off-season FRC competitions to upload competition results, and there are older versions of the *Read API*. When viewing TBA-API documentation, make sure you are reviwing the documentation for the correct API.\n",
    "\n",
    "This project will teach you to use the *Read API v3* documentation to correctly formulate HTTP requests for TBA-API.\n",
    "\n",
    "### A. API Overview Page\n",
    "The documentation for TBA-API is contained within two different web pages. The first web page is an [overview of all TBA APIs.](https://www.thebluealliance.com/apidocs). Open this webpage and read the *Getting Started* section and the first part of the *Read API (v3)* section. You do not need to read the sections on Last-Modified or Cache-Control headers. These are advanced topics that are not necessary for this project.\n",
    "\n",
    "### B. Read API Documentation Page\n",
    "[The main documentation page for TBA-API is here.](https://www.thebluealliance.com/apidocs/v3) This page explains how to format uniform resource locators (URL) to retrieve information from TBA-API.\n",
    "\n",
    "#### B.1 Requirements for All HTTP Requests to TBA-API\n",
    "Open the main documentation page now and retrieve the following information, which is required for all requests to the TBA-API:\n",
    "1. There is an *Authentication* section the top of the *Read API v3* page. This section lists two headers that are required for HTTP requests to TBA-API. Record the values of the headers in the code cell below."
   ]
  },
  {
   "cell_type": "code",
   "execution_count": null,
   "metadata": {},
   "outputs": [],
   "source": [
    "# Two headers are required for all TBA-API requests.\n",
    "# Replace the content of the two strings below with the names of the headers.\n",
    "# Record the header names in the order they appear on the page.\n",
    "# Don't mix up the order or you will run into problems later.\n",
    "header_1 = 'Replace with Header 1'\n",
    "header_2 = 'Replace with Header 2'"
   ]
  },
  {
   "cell_type": "markdown",
   "metadata": {},
   "source": [
    "2. There is a URL immediately below the *Authentication* section, underneath the label *Servers*. All URLs sent to the TBA-API must start with this base URL. Record this URL in the code cell below:"
   ]
  },
  {
   "cell_type": "code",
   "execution_count": null,
   "metadata": {},
   "outputs": [],
   "source": [
    "# All URLs sent to TBA-API must start with a base URL.\n",
    "# Replace the content of the string below with this URL.\n",
    "base_url = 'Replace with Base URL'"
   ]
  },
  {
   "cell_type": "markdown",
   "metadata": {},
   "source": [
    "#### B.2 Parameter Strings\n",
    "Users specify what information they want to retrieve from TBA-API by adding several parameters to the end of the base URL. \n",
    "The next portion of the TBA-API main documentation page lists all of the parameter strings that are accepted by TBA-API. According to my count, there are 121 different parameter strings.\n",
    "\n",
    "This is what you'll see if you scroll down to look at the last section of the list:\n",
    "![TBA API District Instructions](images/tba_api_district1.png)\n",
    "\n",
    "This section lists the parameter strings that are used to retrieve information on FRC competition districts. Values enclosed in curly braces are replaced with a parameter, but the rest of the parameter string is left as-is.\n",
    "\n",
    "For example, if you want to retrive a list of FRC districts for the year 2020 (see last parameter sting in image above), then send this URL: `base_url\\districts\\2020`. Of course you will replace `base_url` with the actual URL you copied from the documentation page. Also note that the curly braces themselves are not included in the URL."
   ]
  },
  {
   "cell_type": "markdown",
   "metadata": {},
   "source": [
    "#### B.3 Returned Data\n",
    "Click on the `/districts/{year}` parameter string on the [main TBA-API documentation page](https://www.thebluealliance.com/apidocs). to see a detailed description of the data that will be retreived. There are four data fields that will be returned by the TBA-API for requests with the `/districts/{year}` parameter string. Record the names of those fields as comments in the code cell below:"
   ]
  },
  {
   "cell_type": "code",
   "execution_count": null,
   "metadata": {},
   "outputs": [],
   "source": [
    "# Record the field names for the `/districts/{year}` parameter string below:\n",
    "# Field 1:\n",
    "# Field 2:\n",
    "# Field 3:\n",
    "# Field 4:"
   ]
  },
  {
   "cell_type": "markdown",
   "metadata": {},
   "source": [
    "You can click on any parameter string to see additional details, such as parameter descriptions and the format of the returned data."
   ]
  },
  {
   "cell_type": "markdown",
   "metadata": {},
   "source": [
    "#### B.4 Schemas\n",
    "There is yet another list below the list of parameter strings. This list contains the schemas that are available from TBA-API. A schema is a detailed description of how a set of data is structured. Find the *Team_Simple* schema. Click on this schema to bring up additional details. Answer the two questions below:"
   ]
  },
  {
   "cell_type": "code",
   "execution_count": null,
   "metadata": {},
   "outputs": [],
   "source": [
    "# How many data fields are contained in the *Team_Simple* schema?\n",
    "# Answer here: \n",
    "\n",
    "# What is the team key for your FRC team?\n",
    "# Answer here:"
   ]
  },
  {
   "cell_type": "markdown",
   "metadata": {},
   "source": [
    "## IV. Constructing the HTTP Request\n",
    "### A. Authorization Header\n",
    "Next we need our TBA authorization key. For this project, save the authorization key in a Python file named *auth.py*. The key should be assigned as a string value to a variable called `key`:\n",
    "```Python\n",
    "key = 'uytfuiguytaiufygsoigyiyidfsiufyiaduyfaiudfy` # This is not a real key.```\n",
    "\n",
    "When the key is saved in this manner, we can access it by importing the *auth* module."
   ]
  },
  {
   "cell_type": "code",
   "execution_count": null,
   "metadata": {},
   "outputs": [],
   "source": [
    "# Getting the authorization key from an external file\n",
    "import auth\n",
    "key = auth.key"
   ]
  },
  {
   "cell_type": "markdown",
   "metadata": {},
   "source": [
    "Now we can start assembling the HTTP request. The authorization key must be passed to TBA-API in a custom header with a specific name, which you retrieved from the TBA-API documentation page back in step III.B.1. Run the code cell below to create your authorization header. "
   ]
  },
  {
   "cell_type": "code",
   "execution_count": null,
   "metadata": {},
   "outputs": [],
   "source": [
    "# Assembling The authorization header\n",
    "hdrs = {header_1: key}\n",
    "hdrs"
   ]
  },
  {
   "cell_type": "markdown",
   "metadata": {},
   "source": [
    "### B. The Other Header\n",
    "TBA-API requires a second header, in addition to the authorization header, be included with all HTTP requests. You should have assigned the name of this header to the variable `header_2` back in step III.B.1. Run the code cell below to add this header to the `hdrs` dictionary. This other header identifies the client program to the server. For requests sent by your web browser, this header identifies the type of browswer used. But our request will come from the Python package that assembles HTTP requests, so we will need to set it to something else."
   ]
  },
  {
   "cell_type": "code",
   "execution_count": null,
   "metadata": {},
   "outputs": [],
   "source": [
    "# Adding the other header\n",
    "hdrs[header_2] = 'HTTP Training Project'\n",
    "hdrs"
   ]
  },
  {
   "cell_type": "markdown",
   "metadata": {},
   "source": [
    "### C. Building the URL\n",
    "Finally we are ready to assemble the full URL. TBA-API documentation uses curly braces to denote user-provided parameters. The URL command `/districts/{year}` means we should replace `{year}` with a four-digit year corresponding to an FRC season, such as 2019 or 2020. We'll build the full URL by joining the root portion with the command portion, replacing the `{year}` parameter with the current year. Note that this will only work if you assigned the correct URL to the `base_url` variable back in step III.B.1."
   ]
  },
  {
   "cell_type": "code",
   "execution_count": null,
   "metadata": {},
   "outputs": [],
   "source": [
    "# Building the Full URL\n",
    "year = 2020\n",
    "url = base_url + \"/districts/\" + str(year)\n",
    "url"
   ]
  },
  {
   "cell_type": "markdown",
   "metadata": {},
   "source": [
    "### D. Assembling the HTTP Request\n",
    "Now it's time to assemble and the HTTP request."
   ]
  },
  {
   "cell_type": "code",
   "execution_count": null,
   "metadata": {},
   "outputs": [],
   "source": [
    "# Assembling the HTTP request.\n",
    "\n",
    "# Importing a module for sending HTTP requests\n",
    "import urllib.request\n",
    "\n",
    "req = urllib.request.Request(url, headers = hdrs)"
   ]
  },
  {
   "cell_type": "markdown",
   "metadata": {},
   "source": [
    "## V. Sending the HTTP Request\n",
    "Finally we are ready to send the request."
   ]
  },
  {
   "cell_type": "code",
   "execution_count": null,
   "metadata": {},
   "outputs": [],
   "source": [
    "import json\n",
    "\n",
    "with urllib.request.urlopen(req) as resp:\n",
    "    resp_text = resp.read()\n",
    "    districts = json.loads(resp_text)\n",
    "districts[:3]"
   ]
  },
  {
   "cell_type": "markdown",
   "metadata": {},
   "source": [
    "If data on three FRC districts was displayed, then everything worked as planned. The `urlopen()` method sent the HTTP request, TBA-API responded with infomration on all 2020 FRC districts, formatted as JSON text. We used the `json.loads()` function from the Standard Library's *json* module to convert the JSON text into a Python list of dictionary objects, with one dictionary for each FRC district. Then we displayed the first three districts from the list. It's easy to see how many districts were returned by using Pthon's `len()` function:"
   ]
  },
  {
   "cell_type": "code",
   "execution_count": null,
   "metadata": {},
   "outputs": [],
   "source": [
    "# Get number of districts returnd from TBA-API\n",
    "len(districts)"
   ]
  },
  {
   "cell_type": "markdown",
   "metadata": {},
   "source": [
    "## VI. Structure of TBA-API URLs\n",
    "Now we'll take an in-depth look at the HTTP request we just sent. First, let's disect the URL to whhich we submitted our HTTP request:\n",
    "```\n",
    "https://www.thebluealliance.com/api/v3/districts/2020\n",
    "```\n",
    "\n",
    "The URL can be broken down into the following sections:\n",
    "\n",
    "#### The Scheme - `https:`\n",
    "The first portion of the URL, `https:`, is called the *scheme*. The abbreviation *https* stands for the secure version of Hypertext Transfer Protocol Secure (HTTPS), which is just a secure version of HTTP. Fortunately we can submit an HTTPS request the same way we would submit an HTTP request. The *https:* portion of the URL signals to Python (or a browser) that an added layer of encryption should be used to send the request and receive the response. From our perspective, all of the encryption and decryption work is done automatically. Other popular schemes include plain old HTTP, mailto, and ftp (File Transfer Protocol).\n",
    "\n",
    "#### The Slashy Thingies -  `//`\n",
    "As far as I can tell, the two slashes don't really mean anything. They just separate the scheme from the rest of the URL.\n",
    "\n",
    "#### The Domain Name - `www.thebluealliance.com`\n",
    "*Thebluealliance.com* is the domain name that the owners of TBA registered in order to set up their website. The *www* portion of the domain name might signify a specific server, or the TBA developers might have added it just for looks.\n",
    "\n",
    "#### The Path - `/api/v3/districts/2020`\n",
    "Here is where things get interesting. This part of the URL is the *path*. In the old days (like the 90s), the path portion of a URL often represented the file structure on a server. A URL such as `http://nineties.com/collections/tamagotchi/index.html` told the web server that it should find a file called *index.html* in the *tamagotchi* subdirectory of the *collections* directory. That's still true today for many websites, including the website that is hosting the notebook you are reading right now (look at the URL). \n",
    "\n",
    "For security reasons, most popular websites prefer for their users to NOT be able to see their server's directory structure. The parts of the path that look like directories and subdirectories have nothing to do with the server's file structure. Instead they are just parameters that the server uses to generate the HTTP response.\n",
    "\n",
    "My guess is that `api/v3` tells the web server to forward the HTTP request to a program that accesses a database and formulates the HTTP response. The `districts` and `2020` portions of the URL represent parameters. The TBA developers could have set up the server to use traditional query parameters so the URL would have looked like `https://apiv3.thebluealliance.com?cmd=districts&year=2020`, ..., but they didn't. There is a commonly-accepted set of best practices for designing URL syntaxes for APIs and this URL would violate those best practices. We won't discuss that now because API design is beyond the scope of this project (but if you must know more, search for *RESTful APIs*).\n",
    "\n",
    "The bottom line is that for TBA-API, all items that follow `api/v3/` are arguments that are passed to the TBA-API server, much like you would pass arguments to a Python function. Slashes are used to separate different arguments.\n",
    "\n",
    "One final note - I am proud to say that I never owned a Tamagotchi. Not that there's anything wrong with that.\n",
    "![Tamagotchi](images/tamagotchi.jpg)"
   ]
  },
  {
   "cell_type": "markdown",
   "metadata": {},
   "source": [
    "## VII. Dissecting the HTTP Response\n",
    "We retrieved the content of the HTTP response by calling the `read()` method on the response object. TBA-API sent us the following text:\n",
    "\n",
    "```json\n",
    "b'[\\n {\\n  \"abbreviation\": \"chs\", \\n  \"display_name\": \"FIRST Chesapeake\", \\n  \"key\": \"2020chs\", \\n  \"year\": 2020\\n }, \\n {\\n  \"abbreviation\": \"fim\", \\n  \"display_name\": \"FIRST In Michigan\", \\n  \"key\": \"2020fim\", \\n  \"year\": 2020\\n }, \\n {\\n  \"abbreviation\": \"fma\", \\n  \"display_name\": \"FIRST Mid-Atlantic\", \\n  \"key\": \"2020fma\", \\n  \"year\": 2020\\n }, \\n {\\n  \"abbreviation\": \"fnc\", \\n  \"display_name\": \"FIRST North Carolina\", \\n  \"key\": \"2020fnc\", \\n  \"year\": 2020\\n }, \\n {\\n  \"abbreviation\": \"in\", \\n  \"display_name\": \"Indiana FIRST\", \\n  \"key\": \"2020in\", \\n  \"year\": 2020\\n }, \\n {\\n  \"abbreviation\": \"isr\", \\n  \"display_name\": \"FIRST Israel\", \\n  \"key\": \"2020isr\", \\n  \"year\": 2020\\n }, \\n {\\n  \"abbreviation\": \"ne\", \\n  \"display_name\": \"New England\", \\n  \"key\": \"2020ne\", \\n  \"year\": 2020\\n }, \\n {\\n  \"abbreviation\": \"ont\", \\n  \"display_name\": \"Ontario\", \\n  \"key\": \"2020ont\", \\n  \"year\": 2020\\n }, \\n {\\n  \"abbreviation\": \"pch\", \\n  \"display_name\": \"Peachtree\", \\n  \"key\": \"2020pch\", \\n  \"year\": 2020\\n }, \\n {\\n  \"abbreviation\": \"pnw\", \\n  \"display_name\": \"Pacific Northwest\", \\n  \"key\": \"2020pnw\", \\n  \"year\": 2020\\n }, \\n {\\n  \"abbreviation\": \"tx\", \\n  \"display_name\": \"FIRST In Texas\", \\n  \"key\": \"2020tx\", \\n  \"year\": 2020\\n }\\n]'\n",
    "```\n",
    "\n",
    "It looks right - it clearly contains information on FRC districts, but it's not too easy to read is it? Also, since it's a string, extracting useful information is tedious. Suppose I want the key value for the Pacific Northwest district. I could pull it out using a slicing technique, but first I would need to figure out that the key is located at positions 1037 - 1044 withing the string."
   ]
  },
  {
   "cell_type": "code",
   "execution_count": null,
   "metadata": {},
   "outputs": [],
   "source": [
    "# Run this cell to see the key value for the PNW district.\n",
    "resp_text[1037:1044]"
   ]
  },
  {
   "cell_type": "markdown",
   "metadata": {},
   "source": [
    "#### Converting to JSON\n",
    "Fortunately, the Python Standard Library includes a package for reading [JSON](https://docs.python.org/3/library/json.html). We can conver the string into a useful Python object with the line `districts = json.loads(resp_text)`. Run the next cell to see the results."
   ]
  },
  {
   "cell_type": "code",
   "execution_count": null,
   "metadata": {},
   "outputs": [],
   "source": [
    "districts"
   ]
  },
  {
   "cell_type": "markdown",
   "metadata": {},
   "source": [
    "But what is this exactly? Let's ask Python!"
   ]
  },
  {
   "cell_type": "code",
   "execution_count": null,
   "metadata": {},
   "outputs": [],
   "source": [
    "# Run this cell to see the data type.\n",
    "type(districts)"
   ]
  },
  {
   "cell_type": "markdown",
   "metadata": {},
   "source": [
    "The `json.loads()` method gave us a list, with each element of the list representing the data for one district. We can see that the object is a list because the first and last characters are square brackets. Run the cell below to see information for one of the districts."
   ]
  },
  {
   "cell_type": "code",
   "execution_count": null,
   "metadata": {},
   "outputs": [],
   "source": [
    "# Run this cell\n",
    "print(\"Object type for first element in list:\", type(districts[0]))\n",
    "districts[0]"
   ]
  },
  {
   "cell_type": "markdown",
   "metadata": {},
   "source": [
    "Each element in the list is a Python dictionary. It's now easy to get the TBA key for the PNW district."
   ]
  },
  {
   "cell_type": "code",
   "execution_count": null,
   "metadata": {},
   "outputs": [],
   "source": [
    "# Run this cell to see the TBA key for the 10th district in the list\n",
    "districts[9][\"key\"]"
   ]
  },
  {
   "cell_type": "markdown",
   "metadata": {},
   "source": [
    "Or we can use a list comprehension if we don't know where the PNW district is located in the list."
   ]
  },
  {
   "cell_type": "code",
   "execution_count": null,
   "metadata": {},
   "outputs": [],
   "source": [
    "# Run this cell to see a method for searching a list\n",
    "[x['key'] for x in districts if x['display_name'] == 'Pacific Northwest'][0]"
   ]
  },
  {
   "cell_type": "markdown",
   "metadata": {},
   "source": [
    "In this instance, our JSON text transformed into a Python list of Python dictionaries. But that won't always be the case. JSON could also consist of just a dictionary, or just a list, or a dictionary where every value is a list, or a dictionary that contains other dictionaries. In short, importing JSON text into Python can result in a structure with dictionaries and/or lists that are nested to any depth."
   ]
  },
  {
   "cell_type": "markdown",
   "metadata": {},
   "source": [
    "## VIII. HTTP Exercises\n",
    "### Exercise 1 - Event Information\n",
    "Now that we have the TBA key for all of the districts, write the Python code to retrieve a list of events for the Pacific Northwest District in 2020. \n",
    "\n",
    "Use this syntax for the URL:\n",
    "![District Event URL](images/tba_api_district2.png)\n",
    "\n",
    "Remember to include both headers in your request. Print out the JSON form of the response."
   ]
  },
  {
   "cell_type": "code",
   "execution_count": null,
   "metadata": {},
   "outputs": [],
   "source": []
  },
  {
   "cell_type": "markdown",
   "metadata": {},
   "source": [
    "### Exercise 2 - Match Information\n",
    "Using the event key for the 2020 competition at Glacier Peak High School, retrieve detailed match information in JSON form."
   ]
  },
  {
   "cell_type": "code",
   "execution_count": null,
   "metadata": {},
   "outputs": [],
   "source": []
  },
  {
   "cell_type": "markdown",
   "metadata": {},
   "source": [
    "## IX. More on Accessing JSON Data\n",
    "We receive JSON data from TBA-API as a long text string. As we discussed earlier in part 1, JSON data is not very useful as a text string. But the JSON data becomes more useful after running `json.loads()` or `json.load()` to convert the text into a Python data structure. We can drill down into any part of the JSON data structure with a sequence of list and dictionary indexes and keys.\n",
    "\n",
    "For example, suppose we want to know how many powercells were scored into the inner port by the blue alliance in the 7th match in the data set:"
   ]
  },
  {
   "cell_type": "code",
   "execution_count": null,
   "metadata": {},
   "outputs": [],
   "source": [
    "matches[6]['score_breakdown']['blue']['teleopCellsInner']"
   ]
  },
  {
   "cell_type": "markdown",
   "metadata": {},
   "source": [
    "What match was this specifically?"
   ]
  },
  {
   "cell_type": "code",
   "execution_count": null,
   "metadata": {},
   "outputs": [],
   "source": [
    "matches[6]['key'], matches[6]['match_number']"
   ]
  },
  {
   "cell_type": "markdown",
   "metadata": {},
   "source": [
    "It was the 3rd match of the 1st quarterfinals set. Now for a quick exercise. Using a loop and the JSON data structure stored in the variable `matches`, find the qualification match that had the highest number of powercells scored into the inner port, counting both the blue and red alliances and both the autonomous and teleop periods."
   ]
  },
  {
   "cell_type": "code",
   "execution_count": null,
   "metadata": {},
   "outputs": [],
   "source": []
  },
  {
   "cell_type": "markdown",
   "metadata": {},
   "source": [
    "## X. Final Notes\n",
    "Pay special attention to the *key* column in the dataframe printout. TBA assigns unique codes, called keys, to every FRC district, competition, and team. Many TBA-API commands require the user to submit a key as a path argument in order to retrieve more information. Also note that TBA-API often includes the season (i.e., year) in the key>"
   ]
  },
  {
   "cell_type": "markdown",
   "metadata": {},
   "source": [
    "## XI. The Next Step\n",
    "Go to [Notebook 2: Simple Dataframes](pj01_nb02_tba_flat_data.ipynb) to continue with this project."
   ]
  },
  {
   "cell_type": "markdown",
   "metadata": {},
   "source": [
    "[Table of Contents](../../index.ipynb)"
   ]
  }
 ],
 "metadata": {
  "kernelspec": {
   "display_name": "Python 3",
   "language": "python",
   "name": "python3"
  },
  "language_info": {
   "codemirror_mode": {
    "name": "ipython",
    "version": 3
   },
   "file_extension": ".py",
   "mimetype": "text/x-python",
   "name": "python",
   "nbconvert_exporter": "python",
   "pygments_lexer": "ipython3",
   "version": "3.8.5"
  }
 },
 "nbformat": 4,
 "nbformat_minor": 4
}
