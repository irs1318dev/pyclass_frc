{
 "cells": [
  {
   "cell_type": "markdown",
   "metadata": {},
   "source": [
    "# Notes for FRC Mentors\n",
    "I'm a mentor for the *Issaquah Robotics Society*, FRC 1318, in Issaquah, WA. We developed a scouting application in Python that uses SQL database and HTTP server for data exchange between the SQL server and data-entry tablets. I created this course to help new FRC students learn the basics of Python and SQL so they could maintain and extend the scouting system. Here are a few notes on why the class is structured the way it is.\n",
    "\n",
    "## Focus on Analytics\n",
    "I think some students have the misconception that coding is only for people who want to become software developers. If you are an FRC mentor who is reading this document, then you know that the ability to write simple computer programs is a valuable skill for every STEM major. I'm starting to realize that we need to expand our scope beyond students who will be STEM majors. I recently completed a class that covered advanced regression techniques and time series analysis and I was impressed by the mathematical sophistication required to analyze data in the social sciences and business. (Full disclosure -- I was a physics major.) For FRC 1318, I'm trying to convey the message that it doesn't matter if you are an engineer, biologist, psychologist, or business leader -- the analytical skills acquired by learning to program are useful for anyone who wants to make decisions based on data. I'm using this message to encourage students to try programming who might not otherwise have considered it.\n",
    "\n",
    "I've been inserting the terms *analysis* and *analytics* into scouting conversations with our students. I think these terms better describe the skills we want our scouters to learn and align better with terminology used in business and other fields. In general, the term *scouting* does not convey evidence-based decision making to the same extent as *anaysis* or *analytics*. Consider the book *Moneyball*, by Micheal Lewis, about the Oakland Athletics success that was attributed to their use of rigorous statistical analysis. The *scouts* are former players or coaches who are employed by major league baseball teams to observe high school, college, and minor league players and assist with deciding which players are recruited. *Moneyball* portrays the scouts' methods as heavily based on instinct and bias. The book describes one of the Athletics' recruiting meetings and I was shocked at how similar it was to one of our FRC alliance selection meetings. But in hindsight it shouldn't have been surprising. We're basically doing sports analytics, but for robots. (Another full disclosure -- I have only read excerpts of *Moneyball*. It's on my list.)"
   ]
  },
  {
   "cell_type": "markdown",
   "metadata": {},
   "source": [
    "## Programming Tools\n",
    "It's easy for students attempting to learn to program to get frustrated and give up. I noticed that they weren't getting frustrated because they couldn't understand things like variable assignment or if-else statements (they learn that stuff pretty easily). They were getting frustrated when their programming tools were not working as expected. Maybe they're trying to run something from the command line but they're in the wrong folder or their PATH variable is not set correctly. Or maybe they don't have the right Python packages installed. I needed training materials that explained the programming tools in the same level of detail as the Python code.\n",
    "\n",
    "The course focuses on the specific tools we use for our scouting system. These tools are all freely available and widely used for data analysis in academia and industry. They are transferable skills. The primary tools are:\n",
    "* The Anaconda distribution of Python\n",
    "* Structured Query Language.\n",
    "* Jupyter notebooks\n",
    "* The Pandas Python package for analysis of tabular data\n",
    "* The Bokeh and Matplotlib Python packages for data visualization\n",
    "* Jupyter notebooks and the VS Code text editor.\n",
    "* Git and Github.\n",
    "\n",
    "This course is available on [Gooble Colab](https://colab.research.google.com/), so no software needs to be installed for the first few sessions. Later sessions will require students to draft code in external Python files, so it is best if the students promptly get Python and the course installed and downloaded to their machines. The course includes detailed instructions on how to download, install, and configure all of these tools. Nevetheless, I find that most students need help when it comes to installing Python and other tools."
   ]
  },
  {
   "cell_type": "markdown",
   "metadata": {},
   "source": [
    "## Instructional Techniques\n",
    "While I try to explain concepts within the course, I do direct students to review relevant, official documentation, such as the official *Python Tutorial* or *Pandas User Guide*. Students who are more comfortable with official documentation are better able to independently solve problems or develop new features. I'm still working on this. The students appear to be as excited about my reading assignments as they are about their reading assignments in other classes.\n",
    "\n",
    "My theory is that students don't join robotics because they want to spend even more time sitting in a classroom or attending lectures. They want to *do stuff*. I try to present small chunks of information and get the students into active problem solving as quickly as I can. I'm still working on this too. I know there are chunks of information that should be condensed or broken up. I also try to include some fun stuff like memes or XKCD cartoons. Yes, the number 1318 shows up in code examples more than would be expected if I was randomly generating integers. Feel free to fork this repository and customize it for your team.\n",
    "\n",
    "Students seem to learn more if they are able to learn with friends. Also, most students who are just starting out with Python generally don't work on the course outside of team meetings. We've had the most success with having students work on the exercises during a team meeting (or Zoom meeting -- most of this course was develped in 2020 during the pandemic) with one or two more experienced students available to help get them unstuck. New students generally need to be walked through the first few sessions. When I first started to teach Python I worried that I was providing so much detail that maybe the students weren't really learning anything. I don't worry about that anymore. The students who stuck with it learned the concepts and developed the ability to work independently. Getting the students to stick with it is the most important thing."
   ]
  },
  {
   "cell_type": "markdown",
   "metadata": {},
   "source": [
    "## Scouting vs. Robot Programming\n",
    "Our FRC team is located in the Seattle metropolitan area, not too far from Amazon and Microsoft headquarters. Many of our student's parents work for technology companies and we generally have as many students that want to program as want to build a robot. We're having new students who are interested in programming start with Python and scouting. Many students choose to stick with scouting programming, but a few go work with our robot programming mentor after their first year to learn Java and robot programmng techniques. We've only been doing it this way for a couple years. I'll let you know how it works.\n",
    "\n",
    "I've learned via discussions with mentors from other FRC teams that our reality is different from the reality of many other FRC teams. Some teams are located at high schools that don't have classes in computer science. For some teams it's a challenge to get the robot programmed, much less develop a scouting application. I am interested in how we can improve equity amongst FIRST teams and would enjoy discussing this with any other mentors who are interested. My Chief Delphi user name is sirwin."
   ]
  }
 ],
 "metadata": {
  "kernelspec": {
   "display_name": "Python 3 (ipykernel)",
   "language": "python",
   "name": "python3"
  },
  "language_info": {
   "codemirror_mode": {
    "name": "ipython",
    "version": 3
   },
   "file_extension": ".py",
   "mimetype": "text/x-python",
   "name": "python",
   "nbconvert_exporter": "python",
   "pygments_lexer": "ipython3",
   "version": "3.9.6"
  }
 },
 "nbformat": 4,
 "nbformat_minor": 4
}
