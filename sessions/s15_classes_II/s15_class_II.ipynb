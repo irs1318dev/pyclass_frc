{
 "cells": [
  {
   "cell_type": "markdown",
   "id": "9293fa3d",
   "metadata": {},
   "source": [
    "[Table of Contents](../../index.ipynb)"
   ]
  },
  {
   "cell_type": "markdown",
   "id": "6500675d",
   "metadata": {},
   "source": [
    "# FRC Analytics with Python - Session 15\n",
    "# Composition and Inheritance\n",
    "**Last Updated: 13 May 2021**\n",
    "\n",
    "In the previous session we learned what a class is. In this session we'll learn a couple techniques for combining classes. *Composition* refers to creating a class with instance properties that are other classes. *Inheritance* refers to having a class acquire features from another class."
   ]
  },
  {
   "cell_type": "markdown",
   "id": "fa9f690d",
   "metadata": {},
   "source": [
    "## I. Prep Work: Importing Modules from Arbitrary Folders\n",
    "The examples in this section use the `dice.py` module from the previous session.The following code allows us to import that module into this notebook without having to modify environment variables or other aspects of the system's configuration. The functions used below are not necessary for understanding composition, but they are useful."
   ]
  },
  {
   "cell_type": "code",
   "execution_count": 1,
   "id": "1237d6dd",
   "metadata": {},
   "outputs": [],
   "source": [
    "import os\n",
    "import os.path\n",
    "import sys\n",
    "\n",
    "sys.path.append(os.path.abspath(os.path.join(os.getcwd(),\n",
    "                                             os.pardir,\n",
    "                                             \"s14_classes_I\")))\n",
    "\n",
    "from tenthou.dice import Die, Dice, RollableDice"
   ]
  },
  {
   "cell_type": "markdown",
   "id": "73541e06",
   "metadata": {},
   "source": [
    "The `sys.path.append(...` statement is pretty dense. The next code cell breaks the line into smaller pieces and explains how it works."
   ]
  },
  {
   "cell_type": "code",
   "execution_count": 2,
   "id": "ed84dc72",
   "metadata": {},
   "outputs": [
    {
     "name": "stdout",
     "output_type": "stream",
     "text": [
      "Current Working Directory:\t C:\\Users\\stacy\\OneDrive\\Projects\\pyclass_v2\\pyclass_frc\\sessions\\s15_classes_II\n",
      "Parent Directory:\t\t C:\\Users\\stacy\\OneDrive\\Projects\\pyclass_v2\\pyclass_frc\\sessions\\s15_classes_II\\..\n",
      "Sibling Directory:\t\t C:\\Users\\stacy\\OneDrive\\Projects\\pyclass_v2\\pyclass_frc\\sessions\\s15_classes_II\\..\\s14_classes_I\n",
      "Coverted to Absolute path:\t C:\\Users\\stacy\\OneDrive\\Projects\\pyclass_v2\\pyclass_frc\\sessions\\s14_classes_I\n"
     ]
    }
   ],
   "source": [
    "print(\"Current Working Directory:\\t\", os.getcwd())\n",
    "print(\"Parent Directory:\\t\\t\", os.path.join(os.getcwd(),\n",
    "                                            os.pardir))\n",
    "print(\"Sibling Directory:\\t\\t\", os.path.join(os.getcwd(),\n",
    "                                             os.pardir,\n",
    "                                             \"s14_classes_I\"))\n",
    "print(\"Coverted to Absolute path:\\t\", os.path.abspath(os.path.join(os.getcwd(),\n",
    "                                                                   os.pardir,\n",
    "                                                                   \"s14_classes_I\")))"
   ]
  },
  {
   "cell_type": "markdown",
   "id": "8c6bce1e",
   "metadata": {},
   "source": [
    "Here are descriptions of the functions and properties that we used.\n",
    "* `os.getcwd()`: Gets Python's current working directory. For Jupyter notebooks, the working directory is the directory that contains the notebook.\n",
    "* `os.pardir`: Returns a string representing a relative path to the parent directory. The value is appropriate for the operating system in use. On most systems the string is two periods: \"..\"\n",
    "* `os.path.join()`: Joins a path and folder names to create a longer path. In this example, we join the current working directory, a relative link to the parent directory, and the folder name *s14_classes_I*"
   ]
  },
  {
   "cell_type": "markdown",
   "id": "8f7b4fc2",
   "metadata": {},
   "source": [
    "## II. Composition\n",
    "### A. Simple Composition Example\n",
    "The word *composition* does not refer to any sort of keyword, module, or built-in function. Composition is a principle that is commonly used to structure programs. Consider the following class."
   ]
  },
  {
   "cell_type": "code",
   "execution_count": null,
   "id": "08e76647",
   "metadata": {},
   "outputs": [],
   "source": [
    "class DiceSimple():\n",
    "    def __init__(self, num_dice):\n",
    "        self.dice = []\n",
    "        for _ in range(num_dice):\n",
    "            self.dice.append(Die())\n",
    "            self.roll()\n",
    "\n",
    "    def roll(self):\n",
    "        for die in self.dice:\n",
    "            die.roll()\n",
    "            \n",
    "    def __str__(self):\n",
    "        return \" | \".join([str(die) for die in self.dice])"
   ]
  },
  {
   "cell_type": "markdown",
   "id": "ba13e392",
   "metadata": {},
   "source": [
    "Dice games would be pretty boring if they used only one die. They usually use several dice. The `DiceSimple` has a `.dice` property that is a list that contains several dice. The next cell creates a `Dice` object with three dice and prints their values."
   ]
  },
  {
   "cell_type": "code",
   "execution_count": null,
   "id": "a74f6730",
   "metadata": {},
   "outputs": [],
   "source": [
    "# Create a group of three dice\n",
    "dice = DiceSimple(3)\n",
    "print(dice)"
   ]
  },
  {
   "cell_type": "markdown",
   "id": "f2434061",
   "metadata": {},
   "source": [
    "We can call `.roll()` on the dice object. It calls the `.roll()` method on each individual die."
   ]
  },
  {
   "cell_type": "code",
   "execution_count": null,
   "id": "c5cf3875",
   "metadata": {},
   "outputs": [],
   "source": [
    "# Roll all three dice at once.\n",
    "dice.roll()\n",
    "print(dice)"
   ]
  },
  {
   "cell_type": "markdown",
   "id": "0c4dce0b",
   "metadata": {},
   "source": [
    "Composition allows us to build sophisticated objects that are relatively simple to understand. The `SimpleDice` object requires only the code needed to join several `Die` objects together. Each separate `Die` object maintains its own value and handles initialization, rolling, and display on its own."
   ]
  },
  {
   "cell_type": "markdown",
   "id": "bcf1ef70",
   "metadata": {},
   "source": [
    "### B. The TenThou Game's `Dice` Class\n",
    "The code for the `Dice` class below is used in the *ten1000* game. You should be able to understand all of it except for the `@property` statements.\n",
    "\n",
    "```python\n",
    "class Dice():\n",
    "    \"\"\"A group of dice used to play Ten Thousand.\n",
    "    \n",
    "    Attributes:\n",
    "        __init__(): Takes no arguments.\n",
    "        add_die(): Adds a die to the group.\n",
    "        add_dice(): Adds a list of dice to the group.\n",
    "        ones: The number of die that have value 1.\n",
    "        fives: The number of die that have value 5.\n",
    "        triple: Indicates if there are three or more die with\n",
    "            value 2, 3, 4, or 6.\n",
    "        score: The score, counting all dice.\n",
    "        scored_dice: The number of dice that score points.\n",
    "    \"\"\"\n",
    "    def __init__(self):\n",
    "        \"\"\"Constructs a new Dice object.\n",
    "        \"\"\"\n",
    "        self.dice = []\n",
    "        # Tracks how many dice have each value.\n",
    "        self.counts = {1: 0, 2: 0, 3: 0, 4: 0, 5: 0, 6: 0}\n",
    "\n",
    "    def add_die(self, die):\n",
    "        \"\"\"Adds a single die to the Dice.\n",
    "        \n",
    "        Args:\n",
    "            die: A tenthou.dice.Die object.\n",
    "        \"\"\"\n",
    "        self.dice.append(die)\n",
    "        if die.value is not None:\n",
    "            self.counts[die.value] += 1\n",
    "\n",
    "    def add_dice(self, dice):\n",
    "        \"\"\"Adds a list of dice to the Dice object.\n",
    "        \n",
    "        Args:\n",
    "            dice: A Python list of tenthou.dice.Die objects.\n",
    "        \"\"\"\n",
    "        for die in dice:\n",
    "            self.add_die(die)\n",
    "\n",
    "    @property\n",
    "    def ones(self):\n",
    "        \"\"\"The number of dice with value 1.\"\"\"\n",
    "        return self.counts[1]\n",
    "\n",
    "    @property\n",
    "    def fives(self):\n",
    "        \"\"\"The number of dice with value 5.\"\"\"\n",
    "        return self.counts[5]\n",
    "\n",
    "    @property\n",
    "    def triple(self):\n",
    "        \"\"\"Indicates if there are 3 or more die with the same value.\n",
    "        \n",
    "        The possible values are 0, 2, 3, 4, and 6. The die with value\n",
    "        1 or 5 have no impact on this property. Use the ones or fives\n",
    "        properties to see how many 1 or 5 die are in the group. If 0,\n",
    "        there are no triples. If 2, then there is are three or more die\n",
    "        with value 2. If 3, there are three or more die with value 3,\n",
    "        etc.\n",
    "        \"\"\"\n",
    "        for key, val in self.counts.items():\n",
    "            if key not in [1, 5]:\n",
    "                if val >= 3:\n",
    "                    return key\n",
    "        return 0\n",
    "        \n",
    "    @property\n",
    "    def score(self):\n",
    "        \"\"\"The points available from 1s, 5s, and triples.\"\"\"\n",
    "        return (\n",
    "            self.fives +\n",
    "            2 * self.ones +\n",
    "            (14 if self.ones >= 3 else 0) +\n",
    "            (7 if self.fives >= 3 else 0) +\n",
    "            2 * self.triple) * 50\n",
    "\n",
    "    @property\n",
    "    def scored_dice(self):\n",
    "        \"\"\"The number of dice that score points.\n",
    "        \"\"\"\n",
    "        return self.fives + self.ones + (3 if self.triple != 0 else 0)\n",
    "\n",
    "    def __len__(self):\n",
    "        return len(self.dice)\n",
    "\n",
    "    def __str__(self):\n",
    "        return \" | \".join([str(die) for die in self.dice])\n",
    "```"
   ]
  },
  {
   "cell_type": "code",
   "execution_count": 3,
   "id": "980ec680",
   "metadata": {},
   "outputs": [
    {
     "name": "stdout",
     "output_type": "stream",
     "text": [
      "None | None | None | None | None\n"
     ]
    }
   ],
   "source": [
    "dice = Dice()\n",
    "dice.add_dice([Die(), Die(), Die(), Die(), Die()])\n",
    "print(dice)"
   ]
  },
  {
   "cell_type": "code",
   "execution_count": null,
   "id": "d04b8ee6",
   "metadata": {},
   "outputs": [],
   "source": [
    "die = Die()"
   ]
  },
  {
   "cell_type": "code",
   "execution_count": null,
   "id": "7ae25424",
   "metadata": {},
   "outputs": [],
   "source": [
    "str(die)"
   ]
  },
  {
   "cell_type": "code",
   "execution_count": 4,
   "id": "8d98a9a0",
   "metadata": {},
   "outputs": [],
   "source": [
    "import inspect"
   ]
  },
  {
   "cell_type": "code",
   "execution_count": 5,
   "id": "180f53d6",
   "metadata": {},
   "outputs": [
    {
     "name": "stdout",
     "output_type": "stream",
     "text": [
      "class Dice():\n",
      "    def __init__(self):\n",
      "        self.dice = []\n",
      "        self.counts = {1: 0, 2: 0, 3: 0, 4: 0, 5: 0, 6: 0}\n",
      "\n",
      "    def add_die(self, die):\n",
      "        self.dice.append(die)\n",
      "        if die.value is not None:\n",
      "            self.counts[die.value] += 1\n",
      "\n",
      "    def add_dice(self, dice):\n",
      "        for die in dice:\n",
      "            self.add_die(die)\n",
      "\n",
      "    @property\n",
      "    def ones(self):\n",
      "        return self.counts[1]\n",
      "\n",
      "    @property\n",
      "    def fives(self):\n",
      "        return self.counts[5]\n",
      "\n",
      "    @property\n",
      "    def triple(self):\n",
      "        for key, val in self.counts.items():\n",
      "            if key not in [1, 5]:\n",
      "                if val >= 3:\n",
      "                    return key\n",
      "        return 0\n",
      "        \n",
      "    @property\n",
      "    def score(self):\n",
      "        return (\n",
      "            self.fives +\n",
      "            2 * self.ones +\n",
      "            (14 if self.ones >= 3 else 0) +\n",
      "            (7 if self.fives >= 3 else 0) +\n",
      "            2 * self.triple) * 50\n",
      "\n",
      "    @property\n",
      "    def scored_dice(self):\n",
      "        return self.fives + self.ones + (3 if self.triple != 0 else 0)\n",
      "\n",
      "    def __len__(self):\n",
      "        return len(self.dice)\n",
      "\n",
      "    def __str__(self):\n",
      "        return \" | \".join([str(die) for die in self.dice])\n",
      "\n"
     ]
    }
   ],
   "source": [
    "print(inspect.getsource(Dice))"
   ]
  },
  {
   "cell_type": "code",
   "execution_count": null,
   "id": "5895013b",
   "metadata": {},
   "outputs": [],
   "source": []
  }
 ],
 "metadata": {
  "kernelspec": {
   "display_name": "Python 3",
   "language": "python",
   "name": "python3"
  },
  "language_info": {
   "codemirror_mode": {
    "name": "ipython",
    "version": 3
   },
   "file_extension": ".py",
   "mimetype": "text/x-python",
   "name": "python",
   "nbconvert_exporter": "python",
   "pygments_lexer": "ipython3",
   "version": "3.9.4"
  }
 },
 "nbformat": 4,
 "nbformat_minor": 5
}
