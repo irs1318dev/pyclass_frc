{
 "cells": [
  {
   "cell_type": "markdown",
   "id": "9293fa3d",
   "metadata": {},
   "source": [
    "[Table of Contents](../../index.ipynb)"
   ]
  },
  {
   "cell_type": "markdown",
   "id": "6500675d",
   "metadata": {},
   "source": [
    "# FRC Analytics with Python - Session 15\n",
    "# Classes Part II - Object Oriented Programming\n",
    "**Last Updated: 26 Oct 2021**\n",
    "\n",
    "In the previous session we learned what a class is. In this session we'll learn about object-oriented programming (OOP), which is a programming technique that uses classes and objects. Object oriented programs demonstrate several design principles, including *composition*, *inheritance*, *encapsulation*, and *polymorphism*. We will create classes that use these principles in this notebook.\n",
    "\n",
    "The exercises in this session, especially exercieses 10 - 14, are intended to be challenging. Try to complete them on your own first. Pair up with another student if you get stuck."
   ]
  },
  {
   "cell_type": "markdown",
   "id": "fa9f690d",
   "metadata": {},
   "source": [
    "## I. Prep Work: Importing Modules from Arbitrary Folders\n",
    "The examples in this section use the `dice.py` module from the previous session.The following code allows us to import that module into this notebook without having to modify environment variables or other aspects of the system's configuration. The functions used below are not necessary for understanding composition, but they are useful."
   ]
  },
  {
   "cell_type": "code",
   "execution_count": null,
   "id": "1237d6dd",
   "metadata": {},
   "outputs": [],
   "source": [
    "import os\n",
    "import os.path\n",
    "import sys\n",
    "\n",
    "import pytest\n",
    "\n",
    "import_path = os.path.join(os.getcwd(), os.pardir, \"s14_classes_I\")\n",
    "sys.path.append(os.path.abspath(import_path))\n",
    "\n",
    "from tenthou.dice import Die, Dice, RollableDice"
   ]
  },
  {
   "cell_type": "markdown",
   "id": "73541e06",
   "metadata": {},
   "source": [
    "The statements with path functions are dense. The next code cell breaks them into smaller pieces and explains how they work."
   ]
  },
  {
   "cell_type": "code",
   "execution_count": null,
   "id": "ed84dc72",
   "metadata": {},
   "outputs": [],
   "source": [
    "print(\"Current Working Directory:\\t\", os.getcwd())\n",
    "print(\"Parent Directory:\\t\\t\", os.path.join(os.getcwd(), os.pardir))\n",
    "print(\"Sibling Directory:\\t\\t\",\n",
    "      os.path.join(os.getcwd(), os.pardir, \"s14_classes_I\"))\n",
    "print(\"Converted to Absolute path:\\t\",\n",
    "      os.path.abspath(os.path.join(os.getcwd(), os.pardir, \"s14_classes_I\")))"
   ]
  },
  {
   "cell_type": "markdown",
   "id": "8c6bce1e",
   "metadata": {},
   "source": [
    "Here are descriptions of the functions and properties that we used.\n",
    "* `os.getcwd()`: Gets Python's current working directory. For Jupyter notebooks, the working directory is the directory that contains the notebook.\n",
    "* `os.pardir`: Returns a string representing a relative path to the parent directory. The value is appropriate for the operating system in use. On most systems the string is two periods: \"..\"\n",
    "* `os.path.join()`: Joins a path and folder names to create a longer path. In this example, we join the current working directory, a relative link to the parent directory, and the folder name *s14_classes_I*.\n",
    "\n",
    "Refer to the Python Standard Library documentation for more information on the [os](https://docs.python.org/3/library/os.html), [os.path](https://docs.python.org/3/library/os.path.html), and [sys](https://docs.python.org/3/library/sys.html) modules."
   ]
  },
  {
   "cell_type": "markdown",
   "id": "bcf1ef70",
   "metadata": {
    "tags": []
   },
   "source": [
    "## II. Example Class\n",
    "We will use the TenThou game's `Dice` class to illustrate several concepts.\n",
    "\n",
    "### A. `Dice` Class Code\n",
    "The code for the `Dice` class is included below. You should be able to understand all of it except for the `__len__()` method and `@property` decorators. We will cover decorators in the next section.\n",
    "\n",
    "Skim over the code and answer the questions in section II.B.\n",
    "\n",
    "```python\n",
    "class Dice():\n",
    "    \"\"\"A group of dice used to play Ten Thousand.\n",
    "    \n",
    "    This class is used both for tabled and untabled dice.\n",
    "    \n",
    "    Attributes:\n",
    "        __init__(): Takes no arguments.\n",
    "        add_die(): Adds a die to the group.\n",
    "        add_dice(): Adds a list of dice to the group.\n",
    "        ones: The number of die that have value 1.\n",
    "        fives: The number of die that have value 5.\n",
    "        triple: Indicates if there are three or more die with\n",
    "            value 2, 3, 4, or 6.\n",
    "        score: The score, counting all dice.\n",
    "        scored_dice: The number of dice that score points.\n",
    "        _counts: dict, number of dice with each value.\n",
    "            Has keys 1 - 6.\n",
    "    \"\"\"\n",
    "    def __init__(self):\n",
    "        \"\"\"Constructs a new Dice object.\n",
    "        \"\"\"\n",
    "        self.dice = []\n",
    "        # Tracks how many dice have each value.\n",
    "        self._counts = {1: 0, 2: 0, 3: 0, 4: 0, 5: 0, 6: 0}\n",
    "\n",
    "    def add_die(self, die):\n",
    "        \"\"\"Adds a single die to the Dice.\n",
    "        \n",
    "        Args:\n",
    "            die: A tenthou.dice.Die object.\n",
    "        \"\"\"\n",
    "        self.dice.append(die)\n",
    "        if die.value is not None:\n",
    "            self._counts[die.value] += 1\n",
    "\n",
    "    def add_dice(self, dice):\n",
    "        \"\"\"Adds a list of dice to the Dice object.\n",
    "        \n",
    "        Args:\n",
    "            dice: A Python list of tenthou.dice.Die objects.\n",
    "        \"\"\"\n",
    "        for die in dice:\n",
    "            self.add_die(die)\n",
    "\n",
    "    @property\n",
    "    def ones(self):\n",
    "        \"\"\"The number of dice with value 1.\"\"\"\n",
    "        return self._counts[1]\n",
    "\n",
    "    @property\n",
    "    def fives(self):\n",
    "        \"\"\"The number of dice with value 5.\"\"\"\n",
    "        return self._counts[5]\n",
    "\n",
    "    @property\n",
    "    def triple(self):\n",
    "        \"\"\"Indicates if there are 3 or more die with the same value.\n",
    "        \n",
    "        The possible values are 0, 2, 3, 4, and 6. The die with value\n",
    "        1 or 5 have no impact on this property. Use the ones or fives\n",
    "        properties to see how many 1 or 5 die are in the group. If 0,\n",
    "        there are no triples. If 2, then there is are three or more die\n",
    "        with value 2. If 3, there are three or more die with value 3,\n",
    "        etc.\n",
    "        \"\"\"\n",
    "        for key, val in self._counts.items():\n",
    "            if key not in [1, 5]:\n",
    "                if val >= 3:\n",
    "                    return key\n",
    "        return 0\n",
    "        \n",
    "    @property\n",
    "    def score(self):\n",
    "        \"\"\"The points available from 1s, 5s, and triples.\"\"\"\n",
    "        return (\n",
    "            self.fives +\n",
    "            2 * self.ones +\n",
    "            (14 if self.ones >= 3 else 0) +\n",
    "            (7 if self.fives >= 3 else 0) +\n",
    "            2 * self.triple) * 50\n",
    "\n",
    "    @property\n",
    "    def scored_dice(self):\n",
    "        \"\"\"The number of dice that score points.\n",
    "        \"\"\"\n",
    "        return self.fives + self.ones + (3 if self.triple != 0 else 0)\n",
    "\n",
    "    def __len__(self):\n",
    "        \"\"\"Number of dice in set.\"\"\"\n",
    "        return len(self.dice)\n",
    "\n",
    "    def __str__(self):\n",
    "        \"\"\"String showing values of all dice in set.\"\"\"\n",
    "        return \" | \".join([str(die) for die in self.dice])\n",
    "```"
   ]
  },
  {
   "cell_type": "markdown",
   "id": "e0d04854-8f09-4e28-8603-8a66c1d96663",
   "metadata": {},
   "source": [
    "### B. The `__len__()` Special Method\n",
    "Adding a `__len__()` method to a class allows the class to be passed to Python's built-in `len()` function. The `__len__()` method should return a positive integer. In the `Dice` class, the `__len__()` method returns the number of `Die` objects contained in the `Dice` object. The official documentation for the `__len__()` method is here: https://docs.python.org/3/reference/datamodel.html#emulating-container-types."
   ]
  },
  {
   "cell_type": "markdown",
   "id": "3819a02f-514f-47da-9654-20bbe2f2dfe0",
   "metadata": {},
   "source": [
    "### C. Exercises 1 - 7"
   ]
  },
  {
   "cell_type": "markdown",
   "id": "b20d0bdb-776d-4eb1-a1a0-495add49e970",
   "metadata": {},
   "source": [
    "**Ex. #1.** What is the difference between the `Dice.add_die()` and `Dice.add_dice()` methods?"
   ]
  },
  {
   "cell_type": "code",
   "execution_count": null,
   "id": "d7308375-c802-4a45-8ddf-fcddb22a54b7",
   "metadata": {},
   "outputs": [],
   "source": [
    "# Ex. #1. Enter answer as a comment.\n",
    "#\n",
    "#"
   ]
  },
  {
   "cell_type": "markdown",
   "id": "d269c13e-af81-44c5-85b1-e0cd843b5aa4",
   "metadata": {},
   "source": [
    "**Ex. #2.** The `Dice` class has a `._counts` attribute that is a Python dictionary. What do the keys and values of this dictionary represent?"
   ]
  },
  {
   "cell_type": "code",
   "execution_count": null,
   "id": "7c257d6c-5a14-4799-9112-94d4b80b149f",
   "metadata": {},
   "outputs": [],
   "source": [
    "# Ex. #2. Enter answer as a comment.\n",
    "#\n",
    "#"
   ]
  },
  {
   "cell_type": "markdown",
   "id": "e064e3b4-1bc6-484c-a819-2c0b0ea303a5",
   "metadata": {},
   "source": [
    "**Ex. #3.** What will be displayed if you pass a `Dice` object to a `print()` function? What method in the `Dice` class controls this behavior?"
   ]
  },
  {
   "cell_type": "code",
   "execution_count": null,
   "id": "875596b7-1c75-49c5-bee9-941346bf0bf0",
   "metadata": {},
   "outputs": [],
   "source": [
    "# Ex. #3. Enter answer as a comment.\n",
    "#\n",
    "#"
   ]
  },
  {
   "cell_type": "markdown",
   "id": "9232dd60-39f7-4e55-82fb-b9729bacd7d6",
   "metadata": {},
   "source": [
    "**Ex. #4.** This exercise requires you to create `Dice` and `Die` objects. Those classes were imported at the beginning of this notebook.\n",
    "\n",
    "1. Create a `Dice` object. Name it `my_dice`.\n",
    "2. Use a `for` loop to instantiate twenty `Die` objects and add them to the `Dice` object.\n",
    "3. Pass the `Dice` object to the `print()` function (try to complete exercise #3 before doing this). Does the output from the `print()` statement look like what you expected?"
   ]
  },
  {
   "cell_type": "code",
   "execution_count": null,
   "id": "87074719-e5b6-436f-89f9-59fe24f77486",
   "metadata": {},
   "outputs": [],
   "source": [
    "# Ex. #3.\n",
    "\n"
   ]
  },
  {
   "cell_type": "markdown",
   "id": "a1b635ba-1ce5-47f0-a394-03abbed8b126",
   "metadata": {},
   "source": [
    "**Ex. #5.** Display your `Dice` object's `._counts` dictionary. If you were to sum its values, what would the sum be?"
   ]
  },
  {
   "cell_type": "code",
   "execution_count": null,
   "id": "1c8f58ca-3e51-44f7-8a6c-ea6b31834ffa",
   "metadata": {},
   "outputs": [],
   "source": [
    "# Ex. #5: Display ._counts attribute\n",
    "\n"
   ]
  },
  {
   "cell_type": "code",
   "execution_count": null,
   "id": "e6fe2d22-f419-4e39-aca2-b8c693e73434",
   "metadata": {},
   "outputs": [],
   "source": [
    "# Ex. #5: Answer question\n",
    "#\n",
    "#"
   ]
  },
  {
   "cell_type": "markdown",
   "id": "9d41d0d9-a5f6-407d-be49-c3e703413cc0",
   "metadata": {},
   "source": [
    "**Ex. #6.** Run the following code cell. The cell displays the contents of two difference `Dice` attributes. Where are these attributes defined in the class?"
   ]
  },
  {
   "cell_type": "code",
   "execution_count": null,
   "id": "8f27d02e-fbfd-4f35-b805-305091279096",
   "metadata": {},
   "outputs": [],
   "source": [
    "# Ex. #6: Run this code\n",
    "print(\"Ones:\", my_dice.ones)\n",
    "print(\"Fives:\", my_dice.fives)"
   ]
  },
  {
   "cell_type": "code",
   "execution_count": null,
   "id": "edf1e67f-10c8-4942-a2a9-90072f68b4d7",
   "metadata": {},
   "outputs": [],
   "source": [
    "# Ex. #6: Answer question\n",
    "#\n",
    "#"
   ]
  },
  {
   "cell_type": "markdown",
   "id": "13f3c5b4-43e6-43a4-ad1e-c4c33384c6f9",
   "metadata": {},
   "source": [
    "**#7.** Read [section 3.3.7 of the Python Language Reference](https://docs.python.org/3/reference/datamodel.html#emulating-container-types). Several special functions, includng `.__getitem__()`, `.__setitem__()` and `.__delitem__()`. These methods allow a custom class to emulate certain Python data types. What is an example of a data type that can be emulated with these special methods? What specifically does each special method do?"
   ]
  },
  {
   "cell_type": "code",
   "execution_count": null,
   "id": "155a9746-57ea-4eb2-8f7d-e99fba0b40d3",
   "metadata": {},
   "outputs": [],
   "source": [
    "# Ex. #7 Answer Question\n",
    "#\n",
    "#"
   ]
  },
  {
   "cell_type": "markdown",
   "id": "4827a51d-ea99-4af1-8029-afe1ce2d85a0",
   "metadata": {},
   "source": [
    "## III. Decorators\n",
    "The statement `@property` in the `Dice` class is a type of decorator. There are several decorators that commonly occur in Python class definitions, including `@property`, `@staticmethod`, and `@classmethod`."
   ]
  },
  {
   "cell_type": "markdown",
   "id": "3dc1ab6c-ad79-48b3-9605-0d08d6b40749",
   "metadata": {},
   "source": [
    "### A. The `@property` Decorator\n",
    "In the game *Ten Thousand*, each die roll of 1 is worth 100 points and each roll of 5 is worth 50 points. It would be useful to be able to see how many ones or fives are in each roll of the dice. There are a few ways to do this:\n",
    "* We could used the `Dice._counts` property. If our `Dice` object is named `my_dice`, then the expression `my_dice._counts[1]` would get the number of rolls showing 1, and `my_dice._counts[5]` would get the number of rolls showing 5. \n",
    "* We could also create methods like `my_dice.get_ones()` and `my_dice.get_fives()`. The advantage of using methods is that we don't have to remember how the `._counts` ditionary works. Also, if we decide to replace `._counts` with some other data structure down the road, we can modify the `.get_ones()` and `.get_fives()` methods and other programs that use the `Dice` class need updating.\n",
    "* We could create attributes, so you would be able to get the number of ones and fives with the expressions `my_dice.ones` and `my_dice.fives`. This syntax is short and intuitive. The problem is that the number of ones and fives will change if we re-roll the dice. We would have to remember to update the attributes every time we re-rolled the dice. If we forgot, we would have a bug in our program.\n",
    "\n",
    "Wouldn't it be nice if we could create an attribute that automatically updates itself? The `@property` decorator allows us to do exactly that. Consider the code for the `Dice` class's `.ones` method.\n",
    "\n",
    "```python\n",
    "    @property\n",
    "    def ones(self):\n",
    "        \"\"\"The number of dice with value 1.\"\"\"\n",
    "        return self._counts[1]\n",
    "```\n",
    "\n",
    "Placing the `@property` decorator before a method allows us to call the method without parentheses. The method is not allowed to have any parameters other than `self`. Run the next cell to try it out."
   ]
  },
  {
   "cell_type": "code",
   "execution_count": null,
   "id": "2fa62bf7-4167-4c43-94e6-2f62b70644b6",
   "metadata": {},
   "outputs": [],
   "source": [
    "print(\"Ones:\", my_dice.ones)\n",
    "print(\"Fives:\", my_dice.fives)"
   ]
  },
  {
   "cell_type": "markdown",
   "id": "b447a7f3-5415-4f1a-b507-dee3801c641f",
   "metadata": {},
   "source": [
    "There is another benefit to using the `@property` decorator in this fashion. The `.ones` and `.fives` attributes are read-only. It is not possible to assign a value to these properties."
   ]
  },
  {
   "cell_type": "code",
   "execution_count": null,
   "id": "67c76611-2e57-4ccc-922a-bcda37020250",
   "metadata": {},
   "outputs": [],
   "source": [
    "# Generates an error\n",
    "my_dice.ones = 2"
   ]
  },
  {
   "cell_type": "markdown",
   "id": "65e16c33-6207-4ce0-b675-13de7a9c3237",
   "metadata": {},
   "source": [
    "The `@property` decorator is sometimes used only to make an attribute read-only. Our `Robot` class has two attributes: `.name` and `.drive_type`. The `.drive_type` attribute is read-only."
   ]
  },
  {
   "cell_type": "code",
   "execution_count": null,
   "id": "a751292e-ca29-4ac5-81fc-d388badab2db",
   "metadata": {},
   "outputs": [],
   "source": [
    "# A class with a read-only attribute\n",
    "class Robot:\n",
    "    \"\"\"A robot\n",
    "    \n",
    "    Args:\n",
    "        name: str, name of robot\n",
    "        drive_type: str, type of drive system. Read-only\n",
    "    \"\"\"\n",
    "    def __init__(self, name, drive_type):\n",
    "        \n",
    "        # A typical instance attribute\n",
    "        self.name = name\n",
    "        \n",
    "        # The leading underscore (_) indicates the ._drive_type attribute\n",
    "        #   is for internal use only\n",
    "        self._drive_type = drive_type\n",
    "        \n",
    "    @property\n",
    "    def drive_type(self):\n",
    "        \"\"\"Create a read-only attribute\"\"\"\n",
    "        return self._drive_type\n",
    "    \n",
    "    def __str__(self):\n",
    "        \"\"\"Makes Robot objects behave nicely when sent to print()\"\"\"\n",
    "        return f\"Robot Name: {self.name}, Drive Type: {self.drive_type}\"\n",
    "    \n",
    "    \n",
    "robot2017 = Robot(\"Cerberus\", \"differential\")\n",
    "print(robot2017)"
   ]
  },
  {
   "cell_type": "markdown",
   "id": "42d42376-a4c0-4ac1-a3e1-d11a765d642f",
   "metadata": {},
   "source": [
    "Using a leading underscore on an instance attribute, like `._drive_train`, is a common naming convention used by Python programmers. The leading underscore indicates the attribute is private, meaning it should only be used within the class definition. Other programmers who use the class should not make use of private attributes, because they might be changed in subsequent versions of the class. Note that the leading underscore does not change the behavior of the attribute in any way - it's just a naming convention.\n",
    "\n",
    "The `Robot` class allows us to assign new values to the `.name` attribute, but we get an error if we try to change the `.drive_train` attribute."
   ]
  },
  {
   "cell_type": "code",
   "execution_count": null,
   "id": "ca8ef801-9e56-4fe2-8a08-93cfef2e0b52",
   "metadata": {
    "tags": []
   },
   "outputs": [],
   "source": [
    "# Can change robot's name\n",
    "robot2017.name = \"Cerberus the Triumphant!\"\n",
    "print(robot2017)"
   ]
  },
  {
   "cell_type": "code",
   "execution_count": null,
   "id": "f832be74-35b8-4024-bb2e-0d3533b5ae59",
   "metadata": {},
   "outputs": [],
   "source": [
    "# Trying to change drive type causes an error.\n",
    "robot2017.drive_type = \"holonomic\"\n",
    "print(robot2017)"
   ]
  },
  {
   "cell_type": "markdown",
   "id": "74a3dc08-3d5d-4831-b56b-5e9492a7864e",
   "metadata": {},
   "source": [
    "### B. The `@x.setter` Decorator\n",
    "It's often useful to have read-only attributes in our classes. But sometimes we need to allow users to set to change the values of some of our attributes. The `@x.setter` decorator allows our attributes to be writeable. The code snippet below creates a new version of the `Dice` class called `DangerousDice`. The `DangerousDice` class has methods that allow us to change the number of ones and fives in our set of dice. `DangerousDice` uses a feature called inheritance to modify the `Dice` class. We'll cover inheritance later in this notebook."
   ]
  },
  {
   "cell_type": "code",
   "execution_count": null,
   "id": "586b5f9c-2244-4664-abff-db255868a394",
   "metadata": {},
   "outputs": [],
   "source": [
    "class DangerousDice(Dice):\n",
    "    \"\"\"Dice class with writable ones and fives attributes.\n",
    "    \n",
    "    Uses inheritance to modify original Dice class.\n",
    "    \"\"\"\n",
    "    @property\n",
    "    def ones(self):\n",
    "        \"\"\"The number of dice with value 1\"\"\"\n",
    "        return self._counts[1]\n",
    "    \n",
    "    @ones.setter\n",
    "    def ones(self, value):\n",
    "        \"\"\"Changes the number of dice with value 1\"\"\"\n",
    "        self._counts[1] = value\n",
    "        \n",
    "    @property\n",
    "    def fives(self):\n",
    "        \"\"\"The number of dice with value 5\"\"\"\n",
    "        return self._counts[5]\n",
    "    \n",
    "    @fives.setter\n",
    "    def fives(self, value):\n",
    "        \"\"\"Changes the number of dice with value 5\"\"\"\n",
    "        self._counts[5] = value"
   ]
  },
  {
   "cell_type": "markdown",
   "id": "6b572a4e-d687-4bf9-868f-b72f856f28d6",
   "metadata": {},
   "source": [
    "To make the `.ones` and `.fives` attributes writable, we added a second `.ones()` method and a second `.fives()` method. Both methods accept a single, non-self argument. We prefaced the new methods with the decorators `@ones.setter` and `@fives.setter`. The first part of the decorator is always the name of the method (`ones` or `fives` in this example) and the second part is always `.setter`.\n",
    "\n",
    "Let's try it out."
   ]
  },
  {
   "cell_type": "code",
   "execution_count": null,
   "id": "213a0444-5461-4d38-8e60-4a9416298671",
   "metadata": {},
   "outputs": [],
   "source": [
    "dgr_dice = DangerousDice()\n",
    "dice_list = [Die() for _ in range(20)]\n",
    "dgr_dice.add_dice(dice_list)\n",
    "print(\"Ones:\", dgr_dice.ones)\n",
    "\n",
    "dgr_dice.ones = 942\n",
    "print(\"After changing ones...\")\n",
    "print(\"Ones:\", dgr_dice.ones)"
   ]
  },
  {
   "cell_type": "markdown",
   "id": "9957cd03-376c-47af-99e4-dfd3cd1f5e2d",
   "metadata": {},
   "source": [
    "When we executed the statment `dgr_dice = 942`, the `DangerousDice` class called the second `.ones()` method and passed the integer 942 to the method in the `value` parameter."
   ]
  },
  {
   "cell_type": "markdown",
   "id": "84ac99f7-db2e-4548-bb94-28ff170dd491",
   "metadata": {},
   "source": [
    "### C. Decorators Explained\n",
    "The `@property` decorator is just one example of a decorator. Python programmers can make their own decorators if desired. When the mentor first discovered decorators, he thought they looked weird. The weirdness dissapates when one understands what a decorator really is. Fundamentally, a decorator is a Python function that takes another function as an argument.\n",
    "\n",
    "The next code cell contains a decorator function called `my_decorator()`."
   ]
  },
  {
   "cell_type": "code",
   "execution_count": null,
   "id": "5083a297-0edb-4ea3-894f-a780f0edca80",
   "metadata": {},
   "outputs": [],
   "source": [
    "# Decorator example\n",
    "def do_something():\n",
    "    print(\"I'm doing something!\")\n",
    "    \n",
    "print(\"Without the decorator...\")\n",
    "do_something()\n",
    "\n",
    "# This is the decorator function\n",
    "def my_decorator(func):\n",
    "    def wrapper():\n",
    "        print(\"I'm about to do something!\")\n",
    "        func()\n",
    "        print(\"I just did something!\")\n",
    "        \n",
    "    return wrapper\n",
    "\n",
    "print()\n",
    "print(\"With the decorator...\")\n",
    "decorated_do_something = my_decorator(do_something)\n",
    "decorated_do_something()"
   ]
  },
  {
   "cell_type": "markdown",
   "id": "82235ba5-cde2-43ab-9dce-e473ba8ded50",
   "metadata": {},
   "source": [
    "The `my_decorator()` function takes any function as an argument and returns another function. The returned function calls the function passed in as an argument, sandwhiched between two print statements. Note that this example does not use any statements with `@`. The `@` symbol is a shorthand syntax for calling a decorator."
   ]
  },
  {
   "cell_type": "code",
   "execution_count": null,
   "id": "28f5d0b7-1b48-441d-ac8a-66ca0dca24f2",
   "metadata": {},
   "outputs": [],
   "source": [
    "@my_decorator\n",
    "def do_something_else():\n",
    "    print(\"Never mind. I'm going to do something else.\")\n",
    "    \n",
    "do_something_else()"
   ]
  },
  {
   "cell_type": "markdown",
   "id": "feed9ae7-83f9-46a3-8a75-a99bebd96aab",
   "metadata": {},
   "source": [
    "The `@my_decorator` statement is a shortcut for passing `do_something_else` to the `my_decorator()` function and assigning the returned function to a variable with the same name. It's equivalent to the following:"
   ]
  },
  {
   "cell_type": "code",
   "execution_count": null,
   "id": "a8b9f4a0-d808-4512-9f4c-ab45f6ebff90",
   "metadata": {},
   "outputs": [],
   "source": [
    "def do_something_else():\n",
    "    print(\"Never mind. I'm going to do something else.\")\n",
    "    \n",
    "do_something_else = my_decorator(do_something_else)\n",
    "\n",
    "do_something_else()"
   ]
  },
  {
   "cell_type": "markdown",
   "id": "f4a0a7a4-e76e-419e-8937-7de3217ec30e",
   "metadata": {},
   "source": [
    "We'll cover two more decorators later in this notebook: `@staticmethod` and `@classmethod`.\n",
    "\n",
    "This section is not meant to make you an expert on decorators. For a more thorough explanation, [check out the decorator article on the RealPython website.](https://realpython.com/primer-on-python-decorators/)"
   ]
  },
  {
   "cell_type": "markdown",
   "id": "645a27d1-aeb6-47cc-9be0-3790b9e20699",
   "metadata": {},
   "source": [
    "### D. Encapsulation\n",
    "#### Definition\n",
    "The `@property` and `@x.setter` decorators are examples of encapsulation. Encapsulation refers to hiding the internal details of an object from the other classes or functions that use that object. The `Dice._counts` dictionary, which stores the number of dice that have each value (1 - 6) is an example of an internal detail. We don't need to know anything about the `._counts` dictionary to use a `Dice` object. Suppose we replaceed the `._counts` dictionary with a list or some other type of data structure. As long as we update the `Dice.ones`, `Dice.fives` and `Dice.score` properties to use the new data structure, we won't have to change any code outside the `Dice` class. Two benefits of encapsulation are that it makes our code easier to update and it helps prevent bugs.\n",
    "\n",
    "#### Name Mangling\n",
    "There is nothing that prevents a user of the `Dice` class from directly accessing the `._counts()` attribute . Starting attribute names with an underscore is a naming convention that indicates the property or method name is for internal use only, but programmers are free to ignore it. Python provides a feature called *name mangling* to make it less likely that a programmer will access a class's private attributes. \n",
    "\n",
    "If an attribute or method name starts with *two* underscores, and at most one trailing underscore, Python replaces the name of the attribute with `._ClassName__methodname`. Within the class definition, attributes with two leading underscores can be accessed with no special requirements. Name mangling occurs only when trying to access the attribute from outside the class definition. Run the cell below to see an example."
   ]
  },
  {
   "cell_type": "code",
   "execution_count": null,
   "id": "04dee5d2-68d7-4616-9ce1-2a928f7f7de5",
   "metadata": {},
   "outputs": [],
   "source": [
    "# Python Name Mangling\n",
    "class Mangled:\n",
    "    def __init__(self):\n",
    "        self.__one = 1\n",
    "        \n",
    "    def __print_one(self):\n",
    "        print(self.__one)\n",
    "        \n",
    "    def print_one(self):\n",
    "        self.__print_one()\n",
    "        \n",
    "mangle = Mangled()        \n",
    "# Following lines would cause an error\n",
    "# print(mangle.__one)\n",
    "# mangle.__print_one()\n",
    "\n",
    "# Following lines work fine\n",
    "print(mangle._Mangled__one)\n",
    "mangle._Mangled__print_one()\n",
    "mangle.print_one()"
   ]
  },
  {
   "cell_type": "markdown",
   "id": "2b8af04a-2041-4c89-8d7e-3f3fe3d825ff",
   "metadata": {},
   "source": [
    "As long as they provied the mangled attribute name, users are free to access methods and properties that are intended to be internal. Name mangling reduces the risk that accessing internal attributes will happen accidentally."
   ]
  },
  {
   "cell_type": "markdown",
   "id": "6a940fe4-ca71-46d2-bb9a-4184aa5fce4c",
   "metadata": {},
   "source": [
    "#### Comparison of Encapsulation in Python and Other Languages\n",
    "Other langugages, like Java and C, allow class attributes to be marked as private. The compiler for these languages ensures that private attributes cannot be accessed from outside the class definitition, period. Python does not have such strict controls. Python's philosopy, which is often summarized by the phrase \"We're all adults here\", is that programmers should have more freedom. The freedom provided by Python is useful when writing smaller programs for data analysis. But strict access controls are useful when writing large or complex programs. "
   ]
  },
  {
   "cell_type": "markdown",
   "id": "416dbaf9-486d-4b8b-b799-ba91e767c5dd",
   "metadata": {},
   "source": [
    "### E. Exercise 8\n",
    "Create a `Card` class that represents a single playing card. The `Card` class should have two read-only properties, `.rank` and `.suit`.\n",
    "* The __init__ method should take two parameters, the rank and the suit.\n",
    "* The rank should be one of the characters in the string \"a123456789tjqk\", where \"a\" is an Ace, \"t\" is a ten, \"j\" is a Jack, \"q\" is a Queen, and \"k\" is a King. The integers represent numbered cards.\n",
    "* The suit should be one of the characters in the string \"cdhs\" for Clubs, Diamonds, Hearts, and Spades, respectively.\n",
    "* Accept either uppercase or lowercase characters in the `__init__` method, but store the characters as lower case.\n",
    "* Raise a `ValueError` if the user passes incorrect input to the `__init__()` method, like \"x\" for suit or rank. The `in` operator could be useful for checking input.\n",
    "* Add a `__str__()` method that returns a two character string consisting of the rank and suit characters. For example, it should return \"qh\" for the Queen of Hearts."
   ]
  },
  {
   "cell_type": "code",
   "execution_count": null,
   "id": "a5941831-22fe-4d58-b9d9-2f109035d01d",
   "metadata": {},
   "outputs": [],
   "source": [
    "%%writefile card.py\n",
    "# 1. Do not delete the %%writefile ... line. It must be the first line\n",
    "#    the cell.\n",
    "# 2. Create your Card class in this cell.\n",
    "# 3. Save the Card class in the file card.py by running this cell.\n",
    "# 4. If you make changes to the class, re-run this cell to save\n",
    "#    the changes to card.py\n",
    "\n",
    "\n",
    "\n",
    "\n"
   ]
  },
  {
   "cell_type": "markdown",
   "id": "f6cdb039-3f99-4107-bbca-130ab97e1467",
   "metadata": {},
   "source": [
    "Run the next cell to save the test code in a file."
   ]
  },
  {
   "cell_type": "code",
   "execution_count": null,
   "id": "ee100391-d5c8-43a0-8a16-c9e9be2cecd8",
   "metadata": {},
   "outputs": [],
   "source": [
    "%%writefile test_card.py\n",
    "# DO NOT ALTER THIS CELL\n",
    "# Run this cell to save this test code in test_card.py\n",
    "import pytest\n",
    "\n",
    "from card import Card\n",
    "\n",
    "def test_card_creation():\n",
    "    card_ah = Card(\"a\", \"H\")\n",
    "    assert card_ah.rank == \"a\"\n",
    "    assert card_ah.suit == \"h\"\n",
    "    assert str(card_ah) == \"ah\"\n",
    "    \n",
    "    card_9s = Card(\"9\", \"s\")\n",
    "    assert str(card_9s) == \"9s\"\n",
    "\n",
    "def test_badargs_error():\n",
    "    with pytest.raises(ValueError):\n",
    "        bad_card = Card(\"a\", \"x\")\n",
    "    \n",
    "def test_readonly_error():\n",
    "    card_5d = Card(\"5\", \"d\")\n",
    "    with pytest.raises(AttributeError):\n",
    "        card_5d.rank = \"7\"\n",
    "        \n",
    "    with pytest.raises(AttributeError):\n",
    "        card_5d.suit = \"c\""
   ]
  },
  {
   "cell_type": "markdown",
   "id": "97e243d2-4dad-4ec6-a58d-739112eeac34",
   "metadata": {},
   "source": [
    "Finally, run this cell to test your `Card` class. All tests should pass if you followed instructions. The output should look something like this:\n",
    "```\n",
    "============================= test session starts =============================\n",
    "platform win32 -- Python 3.9.7, pytest-6.2.4, py-1.10.0, pluggy-0.13.1\n",
    "rootdir: C:\\Users\\stacy\\OneDrive\\Projects\\Python_Training\\pyclass_frc\\pyclass_frc\\sessions\\s15_classes_II\n",
    "plugins: anyio-3.3.3\n",
    "collected 3 items\n",
    "\n",
    "test_card.py ...                                                         [100%]\n",
    "\n",
    "============================== 3 passed in 0.05s ==============================\n",
    "```\n",
    "\n",
    "If the test fails, debug and revise your code and try again until it passes. Carefully inspecting the test code will help. The test code assumes your class methods and properties have specific names and produce specific output."
   ]
  },
  {
   "cell_type": "code",
   "execution_count": null,
   "id": "f34c3c9d-aa00-4365-b962-115a1b1cd335",
   "metadata": {},
   "outputs": [],
   "source": [
    "# DO NOT ALTER THIS CELL\n",
    "# Run this cell to test your Piece class\n",
    "# Ensure you see passing results\n",
    "!pytest test_card.py"
   ]
  },
  {
   "cell_type": "markdown",
   "id": "8f7b4fc2",
   "metadata": {},
   "source": [
    "## IV. Composition\n",
    "### A. Simple Composition Example\n",
    "The word *composition* does not refer to any sort of keyword, module, or built-in function. Composition refers to having a class that is composed of other classes. It is a principle that is used to structure programs. Consider the following class."
   ]
  },
  {
   "cell_type": "code",
   "execution_count": null,
   "id": "08e76647",
   "metadata": {},
   "outputs": [],
   "source": [
    "class DiceSimple():\n",
    "    def __init__(self, num_dice):\n",
    "        self.dice = []\n",
    "        for _ in range(num_dice):\n",
    "            self.dice.append(Die())\n",
    "            self.roll()\n",
    "\n",
    "    def roll(self):\n",
    "        for die in self.dice:\n",
    "            die.roll()\n",
    "            \n",
    "    def __str__(self):\n",
    "        return \" | \".join([str(die) for die in self.dice])"
   ]
  },
  {
   "cell_type": "markdown",
   "id": "ba13e392",
   "metadata": {},
   "source": [
    "Dice games would be pretty boring if they used only one die. The `DiceSimple` class allows us to use several die. It has a `.dice` property that is a list that contains several dice objects. The next cell creates a `Dice` object with three dice and prints their values."
   ]
  },
  {
   "cell_type": "code",
   "execution_count": null,
   "id": "a74f6730",
   "metadata": {},
   "outputs": [],
   "source": [
    "# Create a group of three dice\n",
    "dice = DiceSimple(3)\n",
    "print(dice)"
   ]
  },
  {
   "cell_type": "markdown",
   "id": "f2434061",
   "metadata": {},
   "source": [
    "We can call `.roll()` on the `dice` object. It calls the `.roll()` method on each individual die."
   ]
  },
  {
   "cell_type": "code",
   "execution_count": null,
   "id": "c5cf3875",
   "metadata": {},
   "outputs": [],
   "source": [
    "# Roll all three dice at once.\n",
    "dice.roll()\n",
    "print(dice)"
   ]
  },
  {
   "cell_type": "markdown",
   "id": "0c4dce0b",
   "metadata": {},
   "source": [
    "Composition allows us to build sophisticated objects from simple components. The `SimpleDice` object need not concern itself with how each individual die works. The only code it needs is the code that joins the `Die` objects together. Each separate `Die` object maintains its own value and handles initialization, rolling, and display."
   ]
  },
  {
   "cell_type": "markdown",
   "id": "3b6edb0d-0d5b-4641-8267-dbd406ebe4eb",
   "metadata": {},
   "source": [
    "### B. Exercise 9\n",
    "Create a `Pile` class that contains one or more `Card` objects.\n",
    "* Add an `.add_card()` method to the class. It should take a `Card` object as an argument. The `.add_card()` method should check that it's argument is a `Card` object and raise a `ValueError` if it is not. (Remember `isinstance()`?)\n",
    "* The `.__init__()` method should take no argments (other than `self`). We'll use the `.add_card()` to add cards to our pile.\n",
    "* Add a `__len__()` method that returns the number of cards in the pile.\n",
    "* Add a `.draw_card()` that returns the top card from the pile and removes that card.\n",
    "* Use a list to store the cards. Make the list's instance attribute private, so the user will interact with the list via methods or properties.\n",
    "* The order of the card objects in the list will represent the order of the cards in the pile, with the last card in the list representing the top card of the pile. The `.place_card()` will add a `Card` object to the end of the list and the `.draw_card()` method will remove a card from the end of the list. Check out https://docs.python.org/3/library/stdtypes.html#mutable-sequence-types to see some useful list methods.\n",
    "* Add a `.__str__()` method that displays all cards in the pile, starting with the top card. If a pile contains the 8, 9, and 10 of hearts, the output should be \"8h | 9h | th\"\n",
    "* Add a `.__getitem__(self, i)` special method that returns the card at the *ith* position. For example, `.__getitem__(0)` will return the top card on the pile, and `__getitem__(9)` will return the 10th in the pile. Do not remove the retrieved card from the deck.\n",
    "* Add a `.shuffle()` method that shuffles the pile.\n"
   ]
  },
  {
   "cell_type": "code",
   "execution_count": null,
   "id": "2d199890-640c-4f63-b410-971b85773422",
   "metadata": {},
   "outputs": [],
   "source": [
    "%%writefile pile.py\n",
    "# 1. Do not delete the %%writefile ... line. It must be the first line\n",
    "#    the cell.\n",
    "# 2. Create your Pile class in this cell.\n",
    "# 3. Save the Card class in the file card.py by running this cell.\n",
    "# 4. If you make changes to the class, re-run this cell to save\n",
    "#    the changes to card.py\n",
    "# 5. The cell contains a couple import statements that might be helpful.\n",
    "\n",
    "import random\n",
    "\n",
    "from card import Card\n",
    "\n",
    "\n",
    "\n",
    "\n",
    "\n",
    "            "
   ]
  },
  {
   "cell_type": "markdown",
   "id": "01f13920-c682-4c16-9623-6d1f33c4122d",
   "metadata": {},
   "source": [
    "Run the next cell to create our pytest file for the `Pile` class."
   ]
  },
  {
   "cell_type": "code",
   "execution_count": null,
   "id": "dd2bcc6c-71fe-4ffe-ba5a-077e73778f25",
   "metadata": {
    "tags": []
   },
   "outputs": [],
   "source": [
    "%%writefile test_pile.py\n",
    "# DO NOT ALTER THIS CELL\n",
    "# Run this cell to save this test code in test_pile.py\n",
    "import pytest\n",
    "\n",
    "from card import Card\n",
    "from pile import Pile\n",
    "\n",
    "def test_pile():\n",
    "    pile = Pile()\n",
    "    pile.place_card(Card(rank=\"8\", suit=\"h\"))\n",
    "    assert len(pile) == 1  # Testing __len__()\n",
    "    pile.place_card(Card(rank=\"9\", suit=\"d\"))\n",
    "    pile.place_card(Card(rank=\"a\", suit=\"c\"))\n",
    "    assert len(pile) == 3\n",
    "    \n",
    "    with pytest.raises(ValueError):\n",
    "        pile.place_card(\"This is not a card object\")\n",
    "        \n",
    "    assert str(pile) == \"ac | 9d | 8h\"  # Testing __str__()\n",
    "    assert str(pile[1]) == \"9d\"  # Testing __getitem__()\n",
    "    assert str(pile[2]) == \"8h\"\n",
    "        \n",
    "    drawn_card = pile.draw_card()\n",
    "    assert len(pile) == 2\n",
    "    assert drawn_card.rank == \"a\"\n",
    "    assert drawn_card.suit == \"c\"\n",
    "    \n",
    "    for rank in \"a23456789tjqk\":\n",
    "        pile.place_card(Card(rank=rank, suit=\"s\"))\n",
    "    assert len(pile) == 15\n",
    "    \n",
    "    unshuffled_pile = str(pile)\n",
    "    pile.shuffle()\n",
    "    assert unshuffled_pile != str(pile)\n",
    "    print()\n",
    "    print(\"Unshuffled:\\t\", unshuffled_pile)\n",
    "    print(\"Shuffled:\\t\", pile)\n",
    "    "
   ]
  },
  {
   "cell_type": "markdown",
   "id": "76d061ad-9899-4cbd-acda-87c0ebce4d0e",
   "metadata": {},
   "source": [
    "Run the next cell to run the tests on the `Pile` class. The `-s` switch causes output from print statements to be displayed. We're using print statements to convince ourselves that the `.shuffle()` method is working as intended. The test output should look something like this:\n",
    "```\n",
    "============================= test session starts =============================\n",
    "platform win32 -- Python 3.9.7, pytest-6.2.4, py-1.10.0, pluggy-0.13.1\n",
    "rootdir: C:\\Users\\stacy\\OneDrive\\Projects\\Python_Training\\pyclass_frc\\pyclass_frc\\sessions\\s15_classes_II\n",
    "plugins: anyio-3.3.3\n",
    "collected 1 item\n",
    "\n",
    "test_pile.py \n",
    "Unshuffled:\t ks | qs | js | ts | 9s | 8s | 7s | 6s | 5s | 4s | 3s | 2s | as | 9d | 8h\n",
    "Shuffled:\t as | 6s | 2s | ts | ks | 9d | 3s | 8s | qs | 7s | 4s | 5s | js | 8h | 9s\n",
    ".\n",
    "\n",
    "============================== 1 passed in 0.05s ==============================\n",
    "```\n",
    "\n",
    "If your tests fail, debug and try again."
   ]
  },
  {
   "cell_type": "code",
   "execution_count": null,
   "id": "5895013b",
   "metadata": {},
   "outputs": [],
   "source": [
    "# DO NOT ALTER THIS CELL\n",
    "# Run this cell to test your Piece class\n",
    "# Ensure you see passing results\n",
    "!pytest -s test_pile.py"
   ]
  },
  {
   "cell_type": "markdown",
   "id": "9f5e13d5-8070-4560-ba8a-bb97d92d7320",
   "metadata": {},
   "source": [
    "## V. Inheritance\n",
    "Inheritance is an important aspect of classes and object oriented programming.\n",
    "\n",
    "### A. `RollableDice` Class\n",
    "Before we discuss inheritance specifically, let's take another look at the `Dice` class from the Ten Thousand game. Did you notice that the `Dice` class does not have a `roll()` method? Each `Die` object has its own `roll()` method, but there is no easy way to re-roll all of the `Dice` object's dice at once. There is a reason for this. In the game Ten Thousand, once dice are tabled they are never re-rolled. The developer of the Ten Thousand game wanted didn't want to accidentally change dice once they were tabled, so he created a `Dice()` class that didn't have a `roll()` method, or any other method that would change the value of the tabled dice. Another aspect of the `Dice` class is that we can add a die to a `Dice` object (see `add_dice()`) but there is no method for removing a die.\n",
    "\n",
    "However, non-tabled dice are re-rolled in Ten Thousand. We need another composite class that can hold `Die` objects that allows the dice to be re-rolled. We also need to be able to remove one or more dice from the set of non-tabled dice when we table dice. The `RollableDice` class, defined below, accomplishes both objectives. Review the class's code.\n",
    "```python\n",
    "class RollableDice(Dice):\n",
    "    \"\"\"The untabled dice used in the game TenThousand.\n",
    "    \n",
    "    Inherits from Dice class.\n",
    "    \n",
    "    Unatabled dice can still be rolled. Therefore this class\n",
    "    contains a method for rolling the dice.\n",
    "    \"\"\"\n",
    "\n",
    "    def __init__(self, values=None, num_dice=5):\n",
    "        \"\"\"Initialized a RollableDice object.\n",
    "        \n",
    "        Args:\n",
    "            values: [integer], list of dice values.\n",
    "            num_dice: integer, number of dice in set.\n",
    "        \"\"\"\n",
    "        super().__init__()\n",
    "\n",
    "        if values is None:\n",
    "            values = [None] * num_dice\n",
    "\n",
    "        for val in values:\n",
    "            self.add_die(Die(val))\n",
    "\n",
    "    def roll(self):\n",
    "        \"\"\"Roll all dice in set.\n",
    "        \n",
    "        Assigns a random number, 1 - 6, to each die in set.\n",
    "        \"\"\"\n",
    "        self._counts = {1: 0, 2: 0, 3: 0, 4: 0, 5: 0, 6: 0}\n",
    "        for die in self.dice:\n",
    "            die.roll()\n",
    "            self._counts[die.value] += 1\n",
    "\n",
    "    def remove_dice(self, dice):\n",
    "        \"\"\"Removes dice from set. Used for tabling dice.\n",
    "        \n",
    "        Args:\n",
    "            dice: string, contains integers 1 - 6 representing\n",
    "                dice that should be removed.\n",
    "                \n",
    "        Returns: list of removed Die objects.\n",
    "        \"\"\"\n",
    "        # Check that dice contains only digits 1 - 6\n",
    "        if re.fullmatch(r\"[1-6]{1,5}\", dice) is None:\n",
    "            return \"Invalid Input. Enter up to five digits 1 through 6.\"\n",
    "        # Check that all dice were present in roll and scorable\n",
    "        for val in range(1, 7):\n",
    "            if dice.count(str(val)) > self._counts[val]:\n",
    "                return f\"You entered too many {val}'s.\"\n",
    "        # Check that exactly three die entered for die not 1 or 5.\n",
    "        for die_val in dice:\n",
    "            if die_val not in [\"1\", \"5\"] and dice.count(die_val) != 3:\n",
    "                return f\"You must table exactly three {die_val}'s.\"\n",
    "\n",
    "        removed_dice = []\n",
    "        for die_val in dice:\n",
    "            for idx, die in enumerate(self.dice):\n",
    "                if die.value == int(die_val):\n",
    "                    removed_dice.append(die)\n",
    "                    del self.dice[idx]\n",
    "                    self._counts[int(die_val)] -= 1\n",
    "                    break\n",
    "        return removed_dice\n",
    "```\n",
    "The `RollableDice` class has `roll()` and `remove_dice()` methods, as expected. But it's missing many features of the `Dice` class, like `ones`, `fives`, and `score` properties, and `__len__()` and `__str__()` special methods.\n",
    "\n",
    "Run the next cell to observe the `RollableDice` class in action."
   ]
  },
  {
   "cell_type": "code",
   "execution_count": null,
   "id": "4e530cee-3a4b-44e0-a5aa-8858f963ff2f",
   "metadata": {},
   "outputs": [],
   "source": [
    "# Run this cell to see RollableDice in action.\n",
    "rdice = RollableDice(num_dice=5)\n",
    "print(\"Initial Dice Values:\\t\", rdice)\n",
    "rdice.roll()\n",
    "print(\"Dice Values After Roll:\\t\", rdice)\n",
    "print(\"Number of dice: \\t\", len(rdice))\n",
    "print(\"Number of ones: \\t\", rdice.ones)\n",
    "print(\"Number of fives:\\t\", rdice.fives)\n",
    "print(\"Score:\\t\\t\\t\", rdice.score)"
   ]
  },
  {
   "cell_type": "markdown",
   "id": "2c0d6770-afa9-4302-bde7-c44d3314881f",
   "metadata": {},
   "source": [
    "Hold on! `RollableDice` does not define `__len__()` or `__str__()` methods, so why does passing a `RollableDice` object to `len()` and `print()` work? And how can we use the `ones`, `fives` and `score` attributes when they are not defined either? Keep reading."
   ]
  },
  {
   "cell_type": "markdown",
   "id": "c7ca33e7-7485-4412-ba4c-e3021b504308",
   "metadata": {},
   "source": [
    "### B. Inheritance Defined\n",
    "The answer is in the very first line of the class definition: `RollableDice(Dice):`. Up until now, the parentheses at the end of the `class` statement have been empty. But here we are placing the `Dice` class within the parentheses. This tells Python that we want the `RollableDice` class to *inherit* from the `Dice` class. In this example, `Dice` is the *parent* class and `RollableDice` is the *child* class. A child class inherits the methods and properties of its parent class. For example, when accessed the `ones` property on the `RollableDice` object, Python looked for a `ones` attribute in `RollableDice` but didn't find one. Next, Python looked for and found a `ones` attribute in the parent class, `Dice`.\n",
    "\n",
    "In this example, there are only two generations in out class structure, the parent and child. But we could easily create a new class that inherits form `RollableDice`, like `ExplodingDice`, where the dice explode and set your table on fire if anyone rolls all sixes. And we could create yet another class that inherits from `ExplodingDice`, and so on. Any class can use any method or attribute that is defined in the class or any of its ancestor classes.\n",
    "\n",
    "Inheritance provides several benefits.\n",
    "1. It reduces the amount of code we need to write. For `RollableDice`, we needed to define only two methods, `roll()` and `remove_dice()`.\n",
    "2. It makes code easier to maintain. For example, if we wanted to change the rules for calculating the score, we only need to modify one `score(0` method to update both classes.\n",
    "3. It makes code easier to think about. The relationship between `Dice` and `RollableDice` reflects real life. For example, all `RollableDice` are `Dice` but not all `Dice` are `RollableDice`."
   ]
  },
  {
   "cell_type": "markdown",
   "id": "5c5c1b42-9372-4733-9ac5-717324bdb911",
   "metadata": {},
   "source": [
    "### C. Calling Parent's `__init__()` with `super()`\n",
    "Consider the `RollableDice`'s `__init__()` method:\n",
    "```python\n",
    "    def __init__(self, values=None, num_dice=5):\n",
    "        \"\"\"Initialized a RollableDice object.\n",
    "        \n",
    "        Args:\n",
    "            values: [integer], list of dice values.\n",
    "            num_dice: integer, number of dice in set.\n",
    "        \"\"\"\n",
    "        super().__init__()\n",
    "\n",
    "        if values is None:\n",
    "            values = [None] * num_dice\n",
    "\n",
    "        for val in values:\n",
    "            self.add_die(Die(val))\n",
    "```\n",
    "If we had not included an `__init__()` method in the `RollableDice` class, what would happen if we tried to create a new `RollableDice` object (i.e., `rdice = RollableDice()`?\n",
    "\n",
    "If you guessed that the parent class's `__init__()` class would have been called, you are correct. So there are at least two different ways to initialize a class that descends from another class:\n",
    "1. Omit the `__init__()` method, which will cause the parent's `__init__()` method to be called.\n",
    "2. Include an `__init__()` method, which will cause the child class's `__init__()` method to be called instead of the parent's `__init__()` method. In this case, the parent's `__init__()` method will not run at all.\n",
    "\n",
    "There is a third scenario. The parent class's `__init__()` method sometimes does useful stuff. A common scenario for when a class is instantiated is that we want everything defined in the parent's `__init__()` to happen, plus we want additional child-class code to run. We could copy statements from the parent class's `__init__()` method to the child class's `__init__()` method, but that would be a disaster waiting to happen. It's likely that we would forget to update the child class when making changes to the parent class's `__init__()` method. It also would violate the DRY principle, *do not repeat yourself*. The best option is to call the parent class's `__init__()` method from within the child class's `__init__()` method.\n",
    "\n",
    "We can call the parent class's `__init__()` method with the statement `super().__init__()`, which is the first line in `RollableDice`'s `__init__()` method. `super()` is a built-in Python function that returns a modified `RollableDice` object, where all methods come from `RollableDice`'s parent class, regardless of whether the methods have been overridden in `RollableDice`. So when initializing `RollableDice`, we first call `Dice`'s `__init__()` method, then we automatically add `Die` objects to `RollableDice`."
   ]
  },
  {
   "cell_type": "markdown",
   "id": "766a3ce1-7620-45ba-83a4-116bbac5821a",
   "metadata": {},
   "source": [
    "### D. Using `isinstance()` with Custom Classes\n",
    "We have used the built-in `isinstance()` function to verify basic datatypes. The next cell contains examples of `isinstance()` to refresh our memories on how this function works."
   ]
  },
  {
   "cell_type": "code",
   "execution_count": null,
   "id": "5a2a309c-0559-4954-ada8-d634199181e0",
   "metadata": {},
   "outputs": [],
   "source": [
    "# isinstance examples\n",
    "str1 = \"This is a string.\"\n",
    "print(isinstance(str1, str))\n",
    "print(isinstance(str1, list))"
   ]
  },
  {
   "cell_type": "markdown",
   "id": "db509ed6-46bc-45e9-8b27-10b50c370539",
   "metadata": {},
   "source": [
    "We can use `isinstance()` to check if an object is an instance of a custom class using the same syntax."
   ]
  },
  {
   "cell_type": "code",
   "execution_count": null,
   "id": "a69958b5-2dbe-4721-b4d4-53af11278b76",
   "metadata": {},
   "outputs": [],
   "source": [
    "# Using isinstance() with custom classes\n",
    "some_dice = RollableDice()\n",
    "isinstance(some_dice, RollableDice)"
   ]
  },
  {
   "cell_type": "markdown",
   "id": "5fa1668c-04ae-453d-b78e-99fc26d492da",
   "metadata": {},
   "source": [
    "Run the next cell to see what happens if we pass the object's parent class to `isinstance()`."
   ]
  },
  {
   "cell_type": "code",
   "execution_count": null,
   "id": "4d544d0b-208d-4ab5-ad5f-a66df2a19efa",
   "metadata": {},
   "outputs": [],
   "source": [
    "isinstance(some_dice, Dice)"
   ]
  },
  {
   "cell_type": "markdown",
   "id": "0574a567-34e3-438e-8629-2b33d407cbfd",
   "metadata": {},
   "source": [
    "The `isinstance()` method also returns `True` when an object is checked against a parent class. The behavior reflects how we think about inheritance in OOP. Analogous to how my pet could be both a cat and a mammal, the `some_dice` object is an instance of both `RollableDice` and `Dice`."
   ]
  },
  {
   "cell_type": "markdown",
   "id": "9bbace70-00a8-4ba7-9ec9-5ae7dc3fc9d6",
   "metadata": {},
   "source": [
    "Here's another trick. The `isinstance()` function will also accept a tuple for the second argument. It will return true if the object is an instance of any of the classes in the tuple."
   ]
  },
  {
   "cell_type": "code",
   "execution_count": null,
   "id": "bba41be0-f1c1-4541-bed2-cb717e3a9428",
   "metadata": {},
   "outputs": [],
   "source": [
    "# isinstance() with a tuple\n",
    "isinstance({\"team\": 1318}, (int, dict))"
   ]
  },
  {
   "cell_type": "markdown",
   "id": "c42aa9c9-3176-47a9-9545-6a8d769bdd77",
   "metadata": {},
   "source": [
    "[The official documentation for `isinstance()` is here.](https://docs.python.org/3/library/functions.html#isinstance)"
   ]
  },
  {
   "cell_type": "markdown",
   "id": "54a51093-4fc6-4c26-9864-1f5bd485aca4",
   "metadata": {},
   "source": [
    "### E. Exercise 10\n",
    "Create a `Deck` class that inherits from the `Pile` class you created earlier.\n",
    "* A `Deck` object will contain the 52 playing cards that are included in a standard deck of cards. The code that accomplishes this should be in `Deck`'s `__init__()` method.\n",
    "* Add a `cut()` method that randomly cuts the deck. [Watch this video](https://www.youtube.com/watch?v=ywfTVxlfgK0) if you don't know what it means to cut a deck of playing cards. You don't need to watch the entire video -- everything you need to know is in the first 45 seconds or so. Add an optional parameter to your `cut()` method that specifies the location at which the deck will be cut. The parameter is a non-negative integer. If 0, the deck remains unchanged. If 1, the top card is moved to the bottom. If 2, the top two cards are moved to the bottom, and etc. If this parameter is missing, then the cut position is chosen randomly."
   ]
  },
  {
   "cell_type": "code",
   "execution_count": null,
   "id": "095eaa0d-074d-46a3-8047-946ce7442ddc",
   "metadata": {},
   "outputs": [],
   "source": [
    "%%writefile deck.py\n",
    "# 1. Do not delete the %%writefile ... line. It must be the first line\n",
    "#    the cell.\n",
    "# 2. Create your Deck class in this cell.\n",
    "# 3. Save the Deck class in the file deck.py by running this cell.\n",
    "# 4. If you make changes to the class, re-run this cell to save\n",
    "#    the changes to deck.py\n",
    "# 5. You will need to import some modules for the Deck class to work.\n",
    "\n",
    "\n",
    "\n",
    "\n",
    "        "
   ]
  },
  {
   "cell_type": "code",
   "execution_count": null,
   "id": "60894580-f302-4eea-979d-d6069d548454",
   "metadata": {},
   "outputs": [],
   "source": [
    "%%writefile test_deck.py\n",
    "# DO NOT ALTER THIS CELL\n",
    "# Run this cell to save this test code in test_pile.py\n",
    "import pytest\n",
    "\n",
    "from card import Card\n",
    "from pile import Pile\n",
    "from deck import Deck\n",
    "\n",
    "def test_deck():\n",
    "    deck = Deck()\n",
    "    # Check number of cards in deck\n",
    "    assert len(deck) == 52\n",
    "    \n",
    "    # Verify shuffling changes order\n",
    "    unshuffled_deck = str(deck)\n",
    "    deck.shuffle()\n",
    "    shuffled_deck = str(deck)\n",
    "    assert shuffled_deck != unshuffled_deck\n",
    "    \n",
    "    # Test drawing a card\n",
    "    card = deck.draw_card()\n",
    "    assert isinstance(card, Card)\n",
    "    assert len(deck) == 51\n",
    "    \n",
    "    # Test placing a card back on the deck\n",
    "    deck.place_card(card)\n",
    "    assert len(deck) == 52\n",
    "    assert shuffled_deck == str(deck)\n",
    "    \n",
    "def test_cut():\n",
    "    deck = Deck()\n",
    "    \n",
    "    # Cutting at position zero leaves deck unchanged\n",
    "    deck_str = str(deck)\n",
    "    deck.cut(0)\n",
    "    assert deck_str == str(deck)\n",
    "    \n",
    "    # Cutting at position 1 puts top card on bottom\n",
    "    top_card = str(deck[0])\n",
    "    deck.cut(1)\n",
    "    assert str(deck[51]) == top_card\n",
    "    \n",
    "    # Cutting at position 20\n",
    "    top_cards = str(deck._cards[-20:])\n",
    "    deck.cut(20)\n",
    "    assert str(deck._cards[:20]) == top_cards\n",
    "    "
   ]
  },
  {
   "cell_type": "code",
   "execution_count": null,
   "id": "6deb28e6-b970-4b96-95de-1976942c4dc5",
   "metadata": {},
   "outputs": [],
   "source": [
    "# DO NOT ALTER THIS CELL\n",
    "# Run this cell to test your Piece class\n",
    "# Ensure you see passing results\n",
    "!pytest test_deck.py"
   ]
  },
  {
   "cell_type": "markdown",
   "id": "c77127a8-ba0e-498e-8f15-727180665117",
   "metadata": {},
   "source": [
    "### F. Multiple Inheritance\n",
    "The child classes in this notebook inherit attributes from a single parent class. Python supports a feature called *multiple inheritance*, where a child class inherits attributes and methods from more than one parent class. Multiple inheritance quickly gets complicated. Since we don't expect that we'll need multiple inheritance for our data analysis code, it's not covered in this course. [You can read about multiple inheritance on the RealPython website.](https://realpython.com/lessons/multiple-inheritance-python/)."
   ]
  },
  {
   "cell_type": "markdown",
   "id": "2d8bb796-b1de-4bdc-b480-c458e615e20c",
   "metadata": {},
   "source": [
    "## VI. More Exercises\n",
    "Exercises 11 - 14 are intended to be challenging. You can work in pairs to solve them if you want.\n",
    "\n",
    "These exercises assume knowlege of how chess pieces move. Don't worry if you are unfamiliar with chess - you can learn how chess pieces move in just a few minutes. [You can use online search to find many online guides.](https://chessmisfits.com/how-chess-pieces-move-quick-learning-guide/) Focus on how the knight and the rook move.\n",
    "\n",
    "### A. Exercise 11\n",
    "Create a `Piece` class that represents a chess piece. Give the class the following attributes and methods:\n",
    "* Read-only `piece_type` property: a string containing the name of the piece. The allowed values are \"pawn\", \"rook\", \"knight\", \"bishop\", \"queen\", and \"king\".\n",
    "* Read-only `color` property: A string with the value \"white\" or \"black\".\n",
    "* `__init__()`: The `__init__()` method should accept two arguments: `piece_type` and `color`. This method should set the values of the `type` and `color` attributes. This method should raise a `ValueError` if the values passed to `piece_type` or `color` are not allowed values. The `piece_type` and `color` arguments should accept uppercase or lowercase values, but store the values as lowercase.\n",
    "* `__str__()`: Returns the unicode character for the chesspiece symbol (see below). It's not hard to insert characters that don't appear on your keyboard into Python strings. You can copy the literal character into your Python code, or you can use a unicode escape sequence in the Python string, e.g., `\"Black King: \\u265A\"`\n",
    "\n",
    "|Name          | Symbol | Python Escape Sequence | HTML Escape Sequence |\n",
    "|--------------|:------:|:----------------------:|:--------------------:|\n",
    "| White King   | ♔     | `\"\\u2654\"`             | &amp;#9812;          |\n",
    "| White Queen  | ♕     | `\"\\u2655\"`             | &amp;#9813;          |\n",
    "| White Rook   | ♖     | `\"\\u2656\"`             | &amp;#9814;          |\n",
    "| White Bishop | ♗     | `\"\\u2657\"`             | &amp;#9815;          |\n",
    "| White Knight | ♘     | `\"\\u2658\"`             | &amp;#9816;          |\n",
    "| White Pawn   | ♙     | `\"\\u2659\"`             | &amp;#9817;          |\n",
    "| Black King   | ♚     | `\"\\u265A\"`             | &amp;#9818;          |\n",
    "| Black Queen  | ♛     | `\"\\u265B\"`             | &amp;#9819;          |\n",
    "| Black Rook   | ♜     | `\"\\u265C\"`             | &amp;#9820;          |\n",
    "| Black Bishop | ♝     | `\"\\u265D\"`             | &amp;#9821;          |\n",
    "| Black Knight | ♞     | `\"\\u265E\"`             | &amp;#9822;          |\n",
    "| Black Pawn   | ♟     | `\"\\u265F\"`             | &amp;#9823;          |"
   ]
  },
  {
   "cell_type": "code",
   "execution_count": null,
   "id": "56978389-0422-423a-814c-39484d90ecf8",
   "metadata": {},
   "outputs": [],
   "source": [
    "%%writefile piece.py\n",
    "# 1. Do not delete the %%writefile ... line. It must be the first line\n",
    "#    the cell.\n",
    "# 2. Create your Piece class in this cell.\n",
    "# 3. Save the Piece class in the file piece.py by running this cell.\n",
    "# 4. If you make changes to the class, re-run this cell to save\n",
    "#    the changes to piece.py\n",
    "\n",
    "\n",
    "\n",
    "\n",
    "\n"
   ]
  },
  {
   "cell_type": "code",
   "execution_count": null,
   "id": "eb2aae6e-ca0d-4f76-812f-75ef36b5597a",
   "metadata": {},
   "outputs": [],
   "source": [
    "%%writefile test_piece.py\n",
    "# DO NOT ALTER THIS CELL\n",
    "# Run this cell to create a test file\n",
    "\n",
    "import pytest\n",
    "\n",
    "from piece import Piece\n",
    "\n",
    "def test_piece():\n",
    "    bpawn = Piece(piece_type=\"pawn\", color=\"BLACK\")\n",
    "    assert bpawn.piece_type == \"pawn\"\n",
    "    assert bpawn.color == \"black\"\n",
    "    assert str(bpawn) == \"♟\"\n",
    "    \n",
    "    with pytest.raises(ValueError):\n",
    "        bad_color = Piece(piece_type=\"pawn\", color=\"red\")\n",
    "    \n",
    "    with pytest.raises(ValueError):\n",
    "        bad_type = Piece(piece_type=\"checker\", color=\"white\")"
   ]
  },
  {
   "cell_type": "code",
   "execution_count": null,
   "id": "bec415e3-73f1-4f5c-948b-03cd740fecbc",
   "metadata": {},
   "outputs": [],
   "source": [
    "# DO NOT ALTER THIS CELL\n",
    "# Run this cell to test your Piece class\n",
    "# Ensure you see passing results\n",
    "!pytest test_piece.py"
   ]
  },
  {
   "cell_type": "markdown",
   "id": "d26f2728-6d5b-4ba5-ac7b-e9ff146a29be",
   "metadata": {},
   "source": [
    "### B. Exercise 12\n",
    "Create a `Board` class that represents a chess board. Practice the principle of composition by having the board class contain the chess pieces that are placed on it. The board should have the following attributes and methods.\n",
    "* `__init__()`: Initializes the board object. Initially, the board contains no chess pieces. Takes no arguments.\n",
    "* `place_piece(square, piece)`: Accepts two arguments, a string representing the position on the board (`square`) and a `Piece` object (`piece`).\n",
    "  * The `square` argument is a two character string that uses [standard algebraic chess notation](https://www.dummies.com/games/chess/understanding-chess-notation/). In this notation, the letters a - h represent columns and the numbers 1 - 8 represent rows. The lower-left corner is \"a1\" and the upper-right corner is \"h8\".\n",
    "  * The `square` argument will place a chess piece only if the square is unoccupied. If the square is occupied, the method returns `False` and does nothing else. If the piece is placed on the board, the method returns `True`.\n",
    "* `__getitem__(square)`: Takes a string representing a square, e.g., \"a1\" and returns the chess piece located on that square. If the square is unoccupied, returns a hyphen character: \"-\".\n",
    "* `__str__()`: Returns a string that displays all board squares, their coordinates, and the chess pieces currently placed on the board. Run the next two cells to see examples of what this method's return value should look like:  "
   ]
  },
  {
   "cell_type": "code",
   "execution_count": null,
   "id": "1734489f-4307-401e-8209-e77895da5891",
   "metadata": {},
   "outputs": [],
   "source": [
    "# Run cell to see expected printout for an empty board\n",
    "print('8\\t-\\t-\\t-\\t-\\t-\\t-\\t-\\t-\\t\\n'\n",
    "      '7\\t-\\t-\\t-\\t-\\t-\\t-\\t-\\t-\\t\\n'\n",
    "      '6\\t-\\t-\\t-\\t-\\t-\\t-\\t-\\t-\\t\\n'\n",
    "      '5\\t-\\t-\\t-\\t-\\t-\\t-\\t-\\t-\\t\\n'\n",
    "      '4\\t-\\t-\\t-\\t-\\t-\\t-\\t-\\t-\\t\\n'\n",
    "      '3\\t-\\t-\\t-\\t-\\t-\\t-\\t-\\t-\\t\\n'\n",
    "      '2\\t-\\t-\\t-\\t-\\t-\\t-\\t-\\t-\\t\\n'\n",
    "      '1\\t-\\t-\\t-\\t-\\t-\\t-\\t-\\t-\\t\\n'\n",
    "      '\\ta\\tb\\tc\\td\\te\\tf\\tg\\th\\t')"
   ]
  },
  {
   "cell_type": "code",
   "execution_count": null,
   "id": "3d64e61e-eccd-423b-85fe-0f4431a6ec9e",
   "metadata": {},
   "outputs": [],
   "source": [
    "print('8\\t-\\t♔\\t-\\t♚\\t-\\t-\\t-\\t-\\t\\n'\n",
    "      '7\\t-\\t♙\\t-\\t-\\t-\\t-\\t-\\t-\\t\\n'\n",
    "      '6\\t-\\t-\\t-\\t-\\t-\\t-\\t-\\t-\\t\\n'\n",
    "      '5\\t-\\t-\\t-\\t-\\t-\\t-\\t-\\t-\\t\\n'\n",
    "      '4\\t-\\t-\\t-\\t-\\t-\\t-\\t-\\t-\\t\\n'\n",
    "      '3\\t-\\t-\\t-\\t-\\t-\\t-\\t-\\t-\\t\\n'\n",
    "      '2\\t♜\\t-\\t-\\t-\\t-\\t-\\t-\\t-\\t\\n'\n",
    "      '1\\t-\\t-\\t♖\\t-\\t-\\t-\\t-\\t-\\t\\n'\n",
    "      '\\ta\\tb\\tc\\td\\te\\tf\\tg\\th\\t')"
   ]
  },
  {
   "cell_type": "code",
   "execution_count": null,
   "id": "c5c1f757-ebc8-4b02-8dee-058a06a0d017",
   "metadata": {},
   "outputs": [],
   "source": [
    "%%writefile board.py\n",
    "# 1. Do not delete the %%writefile ... line. It must be the first line\n",
    "#    the cell.\n",
    "# 2. Create your Board class in this cell.\n",
    "# 3. Save the Board class in the file deck.py by running this cell.\n",
    "# 4. If you make changes to the class, re-run this cell to save\n",
    "#    the changes to Board.py\n",
    "\n",
    "\n",
    "\n",
    "\n",
    "\n"
   ]
  },
  {
   "cell_type": "code",
   "execution_count": null,
   "id": "63a08634-7fc3-43cc-b8c3-32b8e9f201bb",
   "metadata": {},
   "outputs": [],
   "source": [
    "%%writefile test_board.py\n",
    "# DO NOT ALTER THIS CELL\n",
    "# Run this cell to create a test file\n",
    "\n",
    "from board import Board\n",
    "from piece import Piece\n",
    "\n",
    "def test_board():\n",
    "    board = Board()\n",
    "    assert board.place_piece(\"a1\", Piece(\"rook\", \"white\"))\n",
    "    assert str(board[\"a1\"]) == \"♖\"\n",
    "    assert not board.place_piece(\"a1\", Piece(\"pawn\", \"black\"))\n",
    "    assert board.place_piece(\"B2\", Piece(\"KniGHT\", \"black\"))\n",
    "    assert str(board[\"b2\"]) == \"♞\""
   ]
  },
  {
   "cell_type": "code",
   "execution_count": null,
   "id": "0725b571-5ba8-4124-8b20-dc568abc2d96",
   "metadata": {},
   "outputs": [],
   "source": [
    "# Run this cell to test the Board class\n",
    "!pytest test_board.py"
   ]
  },
  {
   "cell_type": "code",
   "execution_count": null,
   "id": "b209578f-94fe-4d25-8046-728cd8bc2788",
   "metadata": {},
   "outputs": [],
   "source": [
    "# DO NOT ALTER THIS CELL\n",
    "# Run this cell to test board output\n",
    "# There should be a black king in position e8.\n",
    "import importlib\n",
    "import board\n",
    "# Re-imports board module every time cell is run\n",
    "importlib.reload(board) \n",
    "\n",
    "from piece import Piece\n",
    "\n",
    "test_board = board.Board()\n",
    "test_board.place_piece(\"e8\", Piece(\"king\", \"black\"))\n",
    "print(test_board)"
   ]
  },
  {
   "cell_type": "markdown",
   "id": "66c183b2-dce3-459a-925b-342ab03b8dd4",
   "metadata": {},
   "source": [
    "### C. Exercise 13\n",
    "Practice inheritance by creating a `Rook` and a `Knight` class that both inherit from `Piece`. The `Rook` and `Knight` classes should have the following attributes:\n",
    "* `__init__(color)`: This method should accept a single color argument and call the `Piece.__init__()` method, providing the `piece_type` and `color` arguments. \n",
    "* `get_moves(square)`: This method should return a list of all legal moves, assuming there are no other pieces on the board. For example, a knight in position \"a1\" can move to positions \"b3\" and \"c2\", so `knight.get_moves(\"a1\") should return [\"b3\", \"c2\"]`.\n",
    "* `can_jump`: A read-only property that is true if the piece can jump other pieces. This property should be `True` for the knight and `False` for all other pieces."
   ]
  },
  {
   "cell_type": "code",
   "execution_count": null,
   "id": "ff04f046-d71e-4b55-8339-483d7329b849",
   "metadata": {},
   "outputs": [],
   "source": [
    "%%writefile pieces.py\n",
    "# 1. Do not delete the %%writefile ... line. It must be the first line\n",
    "#    the cell.\n",
    "# 2. Create your Rook and Knight classes in this cell.\n",
    "# 3. Save the classes in the file pieces.py by running this cell.\n",
    "# 4. If you make changes to the classes, re-run this cell to save\n",
    "#    the changes to pieces.py\n",
    "\n",
    "\n",
    "\n",
    "\n"
   ]
  },
  {
   "cell_type": "code",
   "execution_count": null,
   "id": "46a18e7b-d08a-4768-a82f-e70358f7907d",
   "metadata": {},
   "outputs": [],
   "source": [
    "%%writefile moves_test.py\n",
    "# DO NOT ALTER THIS CELL\n",
    "# Run this cell to create a test file\n",
    "\n",
    "from pieces import Rook\n",
    "from pieces import Knight\n",
    "\n",
    "\n",
    "def test_rook():\n",
    "    rook = Rook(\"white\")\n",
    "    rook_moves = set(rook.get_moves(\"d3\"))\n",
    "    assert len(rook_moves) == 14\n",
    "    for move in ['a3', 'b3', 'c3', 'e3', 'f3', 'g3', 'h3',\n",
    "                 'd1', 'd2', 'd4', 'd5', 'd6', 'd7', 'd8']:\n",
    "        assert move in rook_moves\n",
    "        \n",
    "    assert not rook.can_jump\n",
    "    \n",
    "    \n",
    "def test_knight():\n",
    "    knight = Knight(\"black\")\n",
    "    knight_moves = set(knight.get_moves(\"d4\"))\n",
    "    for move in ['b3', 'b5', 'c2', 'c6', 'e2', 'e6', 'f3', 'f5']:\n",
    "        assert move in knight_moves\n",
    "        \n",
    "    knight_moves = set(knight.get_moves(\"h8\"))\n",
    "    for move in ['f7', 'g6']:\n",
    "        assert move in knight_moves\n",
    "        \n",
    "    assert knight.can_jump"
   ]
  },
  {
   "cell_type": "code",
   "execution_count": null,
   "id": "992a8fb7-ea9a-4ff5-9464-b1542b37108e",
   "metadata": {},
   "outputs": [],
   "source": [
    "# DO NOT ALTER THIS CELL\n",
    "# Run this cell to test the Rook and Knight classes.\n",
    "# Ensure you see passing test reults.\n",
    "!pytest moves_test.py"
   ]
  },
  {
   "cell_type": "markdown",
   "id": "e9473666-e097-4325-bb4e-a014b6b3c783",
   "metadata": {},
   "source": [
    "### D. Exercise 14\n",
    "Add two additional methods to the `Board` class, then rerun the cell to update *board.py*. The two methods to add are:\n",
    "* `show_moves(square)`: This method places an \"X\" on every square that a piece can move to. To keep things simple, this method ignores the fact that most pieces cannot jump -- it will place on X on squares even if the path to those squares is blocked by another piece. The method takes the coordinates for a square, e.g., \"g6\". If the square is empty, the method does nothing. If the square contains a chess piece, then call that piece's `get_moves()` method. For every legal move, replace the \"-\" with an \"X\" if the destination square is empty. After running `show_moves()`, your `Board` printouts should look like this:\n",
    "\n",
    "    ```\n",
    "    8\t-\t-\t-\tX\t-\t-\t-\t-\t\n",
    "    7\t-\t-\t-\tX\t-\t-\t-\t-\t\n",
    "    6\t-\t-\t-\tX\t-\t-\t-\t-\t\n",
    "    5\t-\t-\t-\tX\t-\t-\t-\t-\t\n",
    "    4\tX\tX\tX\t♜\tX\tX\tX\tX\t\n",
    "    3\t-\t-\t-\tX\t-\t-\t-\t-\t\n",
    "    2\t-\t-\t-\tX\t-\t-\t-\t-\t\n",
    "    1\t-\t-\t-\tX\t-\t-\t-\t-\t\n",
    "        a\tb\tc\td\te\tf\tg\th\n",
    "    ```\n",
    "* `clear_moves()`: This method restores the board to its normal appearance. It replaces every \"X\" on the board with a hyphen, \"-\"."
   ]
  },
  {
   "cell_type": "code",
   "execution_count": null,
   "id": "b66b86e5-1514-4574-a65c-ded073f453a8",
   "metadata": {},
   "outputs": [],
   "source": [
    "%%writefile show_moves_test.py\n",
    "# DO NOT ALTER THIS CELL\n",
    "# Run this cell to create a test file\n",
    "from board import Board\n",
    "from pieces import Knight, Rook\n",
    "\n",
    "def test_show_moves():\n",
    "    board = Board()\n",
    "    board.place_piece(\"d4\", Rook(\"black\"))\n",
    "    board.show_moves(\"a8\")\n",
    "    board.show_moves(\"d4\")\n",
    "    for col in \"abcdefgh\":\n",
    "        for row in range(1, 9):\n",
    "            square = col + str(row)\n",
    "            if square == \"d4\":\n",
    "                assert str(board[square]) == \"♜\"\n",
    "            elif col == \"d\" or row == 4:\n",
    "                assert board[square] == \"X\"\n",
    "            else:\n",
    "                assert board[square] == \"-\"\n",
    "    board.clear_moves()\n",
    "    for col in \"abcdefgh\":\n",
    "        for row in range(1, 9):\n",
    "            if square == \"d4\":\n",
    "                assert str(board[square]) == \"♜\"\n",
    "            else:\n",
    "                assert board[square] == \"-\""
   ]
  },
  {
   "cell_type": "code",
   "execution_count": null,
   "id": "dae5c153-1c14-4560-81d2-1e5a3b8d2183",
   "metadata": {},
   "outputs": [],
   "source": [
    "# DO NOT ALTER THIS CELL\n",
    "# Run this cell to test the Rook and Knight classes.\n",
    "# Ensure you see passing test reults.\n",
    "!pytest show_moves_test.py"
   ]
  },
  {
   "cell_type": "code",
   "execution_count": null,
   "id": "82d9a14f-27ce-491e-9a48-2521ae6560f5",
   "metadata": {},
   "outputs": [],
   "source": [
    "# DO NOT ALTER THIS CELL\n",
    "# Run this cell to ensure your board printout is correct.\n",
    "# There should be a knight in position e7 and six potential moves.\n",
    "import importlib\n",
    "import board\n",
    "# Re-imports board module every time cell is run\n",
    "importlib.reload(board)\n",
    "\n",
    "from pieces import Knight\n",
    "\n",
    "test_board = board.Board()\n",
    "test_board.place_piece(\"e7\", Knight(\"black\"))\n",
    "test_board.show_moves(\"e7\")\n",
    "print(test_board)"
   ]
  },
  {
   "cell_type": "markdown",
   "id": "3106e30f-0a81-49d5-8c61-1376c05c3bcd",
   "metadata": {},
   "source": [
    "## VII. Polymorphism\n",
    "We've practiced using composition, inheritance, and encapsulation, but we have not yet discussed polymorphism. Polymorphism refers to using a single interface for objects of different types. We used polymorphism in our `Rook` and `Knight` classes. Both objects have the same interface consisting of `.get_moves()` and `.can_jump` attributes, but have different rules for how they move on the board. Consquently, the `Board` class doesn't have to concern itself with the rules for how a piece moves. A `Board` object can call one of its pieces `.get_moves()` methods no matter what type of chess piece it is. There are different types of polymorphism - the type we used is called subtype polymorphism."
   ]
  },
  {
   "cell_type": "markdown",
   "id": "0f5263ec-6a45-4a70-bc31-c0ecfaf60cc7",
   "metadata": {},
   "source": [
    "## VIII. Quiz"
   ]
  },
  {
   "cell_type": "markdown",
   "id": "0014d9f0-e07b-4b1a-8e94-118d7051b338",
   "metadata": {},
   "source": [
    "**1.** What does the function `os.path.abspath` do? What would it return if the input is \"../pictures\" and the current directory is *C:/users/deank/documents*?"
   ]
  },
  {
   "cell_type": "code",
   "execution_count": null,
   "id": "66bc62ef-d000-4e01-92a0-b089381b4a87",
   "metadata": {},
   "outputs": [],
   "source": [
    "# Ex. #1\n",
    "#\n",
    "#"
   ]
  },
  {
   "cell_type": "markdown",
   "id": "021d3749-e91d-402b-b8bc-2b2130332f7e",
   "metadata": {},
   "source": [
    "**2.** What is the naming convention for special methods? When is name mangling invoked? Are special method names mangled? Why or why not?"
   ]
  },
  {
   "cell_type": "code",
   "execution_count": null,
   "id": "7a14d9bc-532d-4b94-9329-28624cb3e938",
   "metadata": {},
   "outputs": [],
   "source": [
    "# Ex. #2\n",
    "#\n",
    "#"
   ]
  },
  {
   "cell_type": "markdown",
   "id": "608a4375-3c75-4198-b90d-057f6ef94b6a",
   "metadata": {},
   "source": [
    "**3.** What are the benefits of using `@property` and `@x.setter` decorators? What principle of object oriented programming do these decorators support?"
   ]
  },
  {
   "cell_type": "code",
   "execution_count": null,
   "id": "faf2a1e4-452d-495a-8383-b1ceaa119b9f",
   "metadata": {},
   "outputs": [],
   "source": [
    "# Ex. #3\n",
    "#\n",
    "#"
   ]
  },
  {
   "cell_type": "markdown",
   "id": "3b10dd47-b1a9-427a-a2d4-736e579b72ef",
   "metadata": {},
   "source": [
    "**4.** In your own words, what is composition? What are the benefits of composition?"
   ]
  },
  {
   "cell_type": "code",
   "execution_count": null,
   "id": "6fe999ff-1a5f-4de3-a660-826b73a44158",
   "metadata": {},
   "outputs": [],
   "source": [
    "# Ex. #4\n",
    "#\n",
    "#"
   ]
  },
  {
   "cell_type": "markdown",
   "id": "2e2b1be7-59bd-45a2-9a90-43899f29ec79",
   "metadata": {},
   "source": [
    "**5.** What is the output from the calls to `.order_sandwich()` and `.order_fries()`?\n",
    "\n",
    "Hint: when a child class contains a method with the same name as a parent class, that child class is said to have *overridden* the method in the parent class.\n",
    "\n",
    "```python\n",
    "class Diner():\n",
    "    def order_sandwich():\n",
    "        print(\"I would like a ham and cheese.\")\n",
    "        \n",
    "    def order_fries():\n",
    "        print(\"I would like some french fries.\")\n",
    "        \n",
    "\n",
    "class IssaquahDiner():\n",
    "    def order_sandwich():\n",
    "        print(\"I would like a pork banh mi.\")\n",
    "        \n",
    "diner = IssaquahDiner()\n",
    "diner.order_sandwhich()\n",
    "diner.order_fries()\n",
    "```"
   ]
  },
  {
   "cell_type": "code",
   "execution_count": null,
   "id": "8f92171a-7e62-41eb-abff-56ae16a76bf0",
   "metadata": {},
   "outputs": [],
   "source": [
    "# Ex. #5\n",
    "#\n",
    "#"
   ]
  },
  {
   "cell_type": "markdown",
   "id": "7f0923df-9902-40eb-b120-e4d2c92704ab",
   "metadata": {},
   "source": [
    "**6.** We defined a `.get_moves()` method in our `Rook` and `Knight` classes. Both of these classes inherit from `Piece`. What would happen if we ran the following code?\n",
    "```python\n",
    "pawn = Piece(\"pawn\", \"black\")\n",
    "pawn.get_moves(\"a1\")\n",
    "```\n",
    "\n",
    "Are the results what we would want to happen? If not, how can we fix the `Piece` class?"
   ]
  },
  {
   "cell_type": "code",
   "execution_count": null,
   "id": "79764ae2-cbdf-4ca7-bf55-cbe18707ef13",
   "metadata": {},
   "outputs": [],
   "source": [
    "# Ex. #6\n",
    "#\n",
    "#"
   ]
  },
  {
   "cell_type": "markdown",
   "id": "588a689b-f294-4b66-a52b-d02e374bfac7",
   "metadata": {},
   "source": [
    "**7.** What is the output of the following statement?\n",
    "```python\n",
    "board = Board()\n",
    "knight = Knight(\"black\")\n",
    "board.place_piece(\"b7\", knight)\n",
    "print(isinstance(knight, board))\n",
    "print(isinstance(knight, Piece))\n",
    "```"
   ]
  },
  {
   "cell_type": "code",
   "execution_count": null,
   "id": "f65b485a-2c45-456b-9851-060016e16f22",
   "metadata": {},
   "outputs": [],
   "source": [
    "# Ex. #7\n",
    "#\n",
    "#"
   ]
  },
  {
   "cell_type": "markdown",
   "id": "0ca3a5d1-933c-4a9b-8a49-0cc3858a552d",
   "metadata": {},
   "source": [
    "**8.** Why are the Unicode and HTML escape sequence codes different for the chess pieces (i.e.,white king is 2654 in Unicode and 9812 in HTML)? Is there a realtionship between these two numbers? Are there any Python functions that could convert between the two numbers? If so, what are they?"
   ]
  },
  {
   "cell_type": "code",
   "execution_count": null,
   "id": "42f0f3b7-223d-45fb-932a-139ea3bfd069",
   "metadata": {},
   "outputs": [],
   "source": [
    "# Ex #8\n",
    "#\n",
    "#\n",
    "#"
   ]
  },
  {
   "cell_type": "markdown",
   "id": "13ae1a39-540c-4147-a4cd-adbdb5955662",
   "metadata": {},
   "source": [
    "**9.** The `.show_moves()` method that we added to our `Board` class does not consider the effect of other pieces on the board. Specifically, `.show_moves()` will mark squares with an \"X\" that are blocked by other pieces and are not legal moves (because rooks can't jump). How could we modify the `.show_moves()` method so that it does not mark blocked squares with an \"X\"?\n",
    "\n",
    "This is not an easy problem to solve. Just give it some thought and write a few sentences describing your ideas."
   ]
  },
  {
   "cell_type": "code",
   "execution_count": null,
   "id": "c4c507ec-3861-4312-8e6f-0f8510bfaf2c",
   "metadata": {},
   "outputs": [],
   "source": [
    "# Ex #9\n",
    "#\n",
    "#\n",
    "#\n",
    "#\n",
    "#\n",
    "#"
   ]
  },
  {
   "cell_type": "markdown",
   "id": "9f24eaf8-37dc-4659-81bc-3c58b6777a47",
   "metadata": {},
   "source": [
    "## IX. Concept and Terminology Review\n",
    "You should be able to define the following terms or describe the concept. Re-review this and prior sessions if any of the terms are unfamiliar.\n",
    "* Object oriented programming (OOP)\n",
    "* `os.path.join()`\n",
    "* `os.path.abspath()`\n",
    "* `sys.path`\n",
    "* `os.pardir`\n",
    "* `__len__()`\n",
    "* `__str__()`\n",
    "* `__getitem__()`, `__setitem__()`, and `__delitem__()`\n",
    "* Decorators\n",
    "* `@property`\n",
    "* `@x.setter`\n",
    "* Encapsulation\n",
    "* Name mangling\n",
    "* ValueError\n",
    "* `%%writefile`\n",
    "* Composition\n",
    "* Inheritance\n",
    "* Parent class\n",
    "* Child class\n",
    "* `super()`\n",
    "* Overridden methods\n",
    "* `isinstance()`\n",
    "* Polymorphism"
   ]
  },
  {
   "cell_type": "markdown",
   "id": "6d03e37e-e14a-4e5e-8db9-8a19e4ddb8f4",
   "metadata": {},
   "source": [
    "[Table of Contents](../../index.ipynb)"
   ]
  }
 ],
 "metadata": {
  "kernelspec": {
   "display_name": "Python 3 (ipykernel)",
   "language": "python",
   "name": "python3"
  },
  "language_info": {
   "codemirror_mode": {
    "name": "ipython",
    "version": 3
   },
   "file_extension": ".py",
   "mimetype": "text/x-python",
   "name": "python",
   "nbconvert_exporter": "python",
   "pygments_lexer": "ipython3",
   "version": "3.9.7"
  }
 },
 "nbformat": 4,
 "nbformat_minor": 5
}
