{
 "cells": [
  {
   "cell_type": "markdown",
   "id": "b3d83b5a-2c2f-4dba-97c8-527d1a83b15e",
   "metadata": {},
   "source": [
    "[Table of Contents](../../index.ipynb)"
   ]
  },
  {
   "cell_type": "markdown",
   "id": "0ff7b6f8-4b1f-46e2-8776-c8601721c8e3",
   "metadata": {
    "tags": []
   },
   "source": [
    "# FRC Analytics with Python - Session 23\n",
    "# JavaScript First Steps\n",
    "**Last Updated: 18 December 2021**\n",
    "\n",
    "## I. Introdution\n",
    "### A. Short History of JavaScript\n",
    "The final language that we'll study for developing web interfaces is JavaScript. JavaScript is a programming language with variables, `if` statements, `for` loops, and other features that we would expect from a programming language. It was released by a company called Netscape in 1995.\n",
    "\n",
    "JavaScript was designed to be a scripting language for interactive web pages. For the first 14 years of its existence it could run only within a web browser, but that changed in 2009 when an ex-doctoral student in mathematics named Ryan Dahl released a JavaScript runtime environment called *node.js*. JavaScript can now be run outside a browser on any computer and has developed into a general-purpose programming language. Nevertheless, we will focus on using JavaScript within web pages.\n",
    "\n",
    "### B. Assumptions\n",
    "This session assumes that students have completed sessions 1 - 7, are familiar with the basic elements of Python, and don't need detailed explanations on standard stuff like variables and for loops. We'll focus on JavaScript's syntax, how it behaves differently than Python, and how it interacts with web servers and web pages. That said, we'll lean heavily on the Mozilla tutorials to learn JavaScript, and these tutorials assume no prior programming experience. If you have not yet completed the Python sessions, you should still do fine if you work slowly and methodically through the Mozilla tutorials. Carefully read the explanations, ensure you understand the code, and try all of the exercises.\n",
    "\n",
    "### C. Observable Notebooks\n",
    "Jupyter notebooks are a useful tool for learning Python. Students can draft a few Python statements, run them with a couple keystroks, and immediately see the results. Wouldn't it be great if there was a similar tool for JavaScript? Good news, there is and it's called [Observable](https://observablehq.com/). Like Jupyter, Observable notebooks can contain markdown and code cells, but instead of Python, the code cells use JavaScript. Observable is great for making interactive visualizations. The mentor likes this one on [robot pizza](https://observablehq.com/@hhammond/robot_pizza).\n",
    "\n",
    "It is possible to edit and run Observable notebooks on your local machine, but that requires installation of a JavaScript runtime environment and package manager. We'll keep things simple and just use the free, online Observable notebook service. Follow these steps.\n",
    "1. Go to https://observablehq.com and create an Observable account. It's free. You can log in with your Github credentials if you like.\n",
    "2. Learn more about Observable by [watching a few of their their tutorial videos](https://observablehq.com/tutorials). The mentor recommends the [Notebooks & Cells](https://observablehq.com/@observablehq/notebooks-cells?collection=@observablehq/learning-observable) and [Reactive Markdown & HTML](https://observablehq.com/@observablehq/reactive-markdown-html?collection=@observablehq/learning-observable).\n",
    "3. [Navigate to the Pyclass session 23 notebook.](https://observablehq.com/@irwinsnet/frc-analytics-with-python-session-23).\n",
    "4. Create a copy of the session 23 notebook in your own Observable account by hitting the *Fork* button.\n",
    "\n",
    "**Note:** Observable has made some small updates to their user interface since the tutorial videos were recorded. When adding a new cell, you can select the type of cell from a menu (e.g., JavaScript, Markdown, HTML, SQL). It's no longer necessary to type ``` md` ` ``` to add markdown text."
   ]
  },
  {
   "cell_type": "markdown",
   "id": "f9f7a49f-59cd-4c61-884f-eb9b870eaea3",
   "metadata": {
    "jp-MarkdownHeadingCollapsed": true,
    "tags": []
   },
   "source": [
    "## II. Get Feedback on Your Work\n",
    "Follow these steps to let others see your Observable notebook and get feedback on your work.\n",
    "\n",
    "1. Click on the *Publish* button at the top of your notebook. You will see the publish dialog, which should look like this:\n",
    "  * <img src=\"images/s23-publish.png\" style=\"height:500px\">\n",
    "2. Under *Visibility*, select *Unlisted*.\n",
    "3. Click *Publish*.\n",
    "4. Copy the notebook's URL into the comment cell below.\n",
    "5. Upload this notebook to your Github assignments repository"
   ]
  },
  {
   "cell_type": "code",
   "execution_count": null,
   "id": "f2c024bc-97eb-4b8f-a105-a4d8c8aa8dd5",
   "metadata": {},
   "outputs": [],
   "source": [
    "# Feedback\n",
    "# URL of published Observable notebook:"
   ]
  },
  {
   "cell_type": "markdown",
   "id": "b7680569-ac1a-4382-8976-1941025c8da1",
   "metadata": {},
   "source": [
    "## III. Concept and Terminology Review\n",
    "* Client-Side vs. Server-Side Code\n",
    "* `<script>` element\n",
    "* `defer` attribute\n",
    "* `let`\n",
    "* `const`\n",
    "* `typeof`\n",
    "* `.toFixed()`\n",
    "* `++` and `--`\n",
    "* `==` vs. `===` and `!=` vs `!==`\n",
    "* Template Literals\n",
    "* `Number()`\n",
    "* `.toString()`\n",
    "* `.length`\n",
    "* `.includes()`\n",
    "* `.startsWith()` and `.endsWith()`\n",
    "* `.slice()`\n",
    "* `.toLowerCase()` and `.toUpperCase()`\n",
    "* `.replace()`\n",
    "* `.push()`\n",
    "* `.unshift()` and `.shift()`\n",
    "* `.pop()`\n",
    "* `for ... of`\n",
    "* `.filter()`\n",
    "* `.split()`\n",
    "* `.join()`"
   ]
  },
  {
   "cell_type": "markdown",
   "id": "feac7634-e6c7-4464-a4d8-00ca4eb74bac",
   "metadata": {},
   "source": [
    "[Table of Contents](../../index.ipynb)"
   ]
  }
 ],
 "metadata": {
  "kernelspec": {
   "display_name": "Python 3 (ipykernel)",
   "language": "python",
   "name": "python3"
  },
  "language_info": {
   "codemirror_mode": {
    "name": "ipython",
    "version": 3
   },
   "file_extension": ".py",
   "mimetype": "text/x-python",
   "name": "python",
   "nbconvert_exporter": "python",
   "pygments_lexer": "ipython3",
   "version": "3.9.7"
  },
  "toc-autonumbering": false
 },
 "nbformat": 4,
 "nbformat_minor": 5
}
