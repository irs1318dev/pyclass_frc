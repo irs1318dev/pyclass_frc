{
 "cells": [
  {
   "cell_type": "markdown",
   "metadata": {},
   "source": [
    "[Table of Contents](../../index.ipynb)"
   ]
  },
  {
   "cell_type": "markdown",
   "metadata": {},
   "source": [
    "# FRC Analytics - Session 27\n",
    "# Flask - Serving Dynamic Websites\n",
    "**Last Updated: 30 December 2021**\n",
    "\n",
    "# I. Introduction\n",
    "\n",
    "We have spent many sessions learning about Web technologies. So far, our study of the Web has been from the persepective of the web browser, i.e., the client. In this session we will learn how to set up and run a web server, which is the program that generates the webpage and sends it to the client. Specifically, we are going to lean how to use a web server to generate a dynamic website.\n",
    "\n",
    "The code in this session will not work on Google Colab. This session must be completed on your own computer.\n",
    "\n",
    "## A. Static vs. Dynamic Websites\n",
    "\n",
    "To understand web servers, we need to understand the difference between static and dynamic websites.\n",
    "\n",
    "The webpages that we've hosted on Github are examples of static websites. We uploaded HTML, CSS, Javascript, and image files to our Github repository. When a user types the URL that corresponds to one of the HTML files in their browser's address bar, the Github web server reads the HTML file from disk and sends its content to the user's browser. The Github web server will also provide any other files that are referenced in the HTML file. The website is *static* because the content of each file is provided unaltered. The web server reads the file from disk and sends the data &mdash; that's all.\n",
    "\n",
    "Now consider Amazon's website. According to Google, Amazon sells more than 12 million different products. Did the web developers at Amazon create 12 million different HTML files? Of course not. All of the information about Amazon's products is stored in a a massive database. When a customer clicks on a link to view information about a product, Amazon's web server retrieves the product's information from the database and generates the webpage on the fly from the product data. This approach allows Amazon to add new products just by adding records to their product database. If the price changes, Amazon can update the price in the database and the webpage will be updated automatically. Websites that generate the web pages when the user requests them are called *dynamic* websites.\n",
    "\n",
    "This session covers a web framework for serving dynamic websites called *Flask*. Flask is an open-source framework that uses Python and works with several different web servers.\n",
    "\n",
    "## B. Installing Flask\n",
    "It's easy to install Flask with conda. Make sure you've activated the environment where you want to install flask, then run the following command.\n",
    "```bash\n",
    "conda install flask\n",
    "```"
   ]
  },
  {
   "cell_type": "markdown",
   "metadata": {},
   "source": [
    "# II. Our First Flask Site\n",
    "[The Flask framework has excellent documentation](https://flask.palletsprojects.com/en/2.0.x/). We will get started by working through [Flask's Quickstart tutorial](https://flask.palletsprojects.com/en/2.0.x/quickstart/)"
   ]
  },
  {
   "cell_type": "markdown",
   "metadata": {},
   "source": [
    "### A. A Minimal Application\n",
    "The next cell contains the example Flask application from the *Quickstart Tutorial*. Run the cell to save the minimimal Flask application to the file *hello.py*. Then read the [Minimal Application](https://flask.palletsprojects.com/en/2.0.x/quickstart/#a-minimal-application) section of the tutorial, which will explain what this code does."
   ]
  },
  {
   "cell_type": "code",
   "execution_count": null,
   "metadata": {},
   "outputs": [],
   "source": [
    "%%writefile hello.py\n",
    "# A minimal application\n",
    "from flask import Flask\n",
    "\n",
    "app = Flask(__name__)\n",
    "\n",
    "@app.route(\"/\")\n",
    "def hello_world():\n",
    "    return \"<p>Hello, World!</p>\""
   ]
  },
  {
   "cell_type": "markdown",
   "metadata": {},
   "source": [
    "Follow the tutorial instructions to run the application. Use the Bash instructions if working on a Mac or Linux, and use the powershell instructions if working on Windows. Once the Flask server is running, go to http://127.0.0.1:5000 to see your page."
   ]
  },
  {
   "cell_type": "markdown",
   "metadata": {},
   "source": [
    "Scan the [What to do if the Server does not Start](https://flask.palletsprojects.com/en/2.0.x/quickstart/#what-to-do-if-the-server-does-not-start) and [Debug Mode](https://flask.palletsprojects.com/en/2.0.x/quickstart/#debug-mode) sections of the tutorial. (Read them carefully if your server is not running correctly.)"
   ]
  },
  {
   "cell_type": "markdown",
   "metadata": {},
   "source": [
    "### B. Making it Dynamic\n",
    "The *hello.py* application's HTML response is generated by Python code instead of being read from a disk file. Even so, it's still quite static. The HTML response will always be `<p>Hello, World!</p>`, no matter what. Let's update our application to provide a personallized greeting."
   ]
  },
  {
   "cell_type": "code",
   "execution_count": null,
   "metadata": {},
   "outputs": [],
   "source": [
    "%%writefile hello.py\n",
    "from flask import Flask\n",
    "from markupsafe import escape\n",
    "\n",
    "app = Flask(__name__)\n",
    "\n",
    "@app.route(\"/\")\n",
    "def hello_world():\n",
    "    return \"<p>Hello, World!</p>\"\n",
    "\n",
    "@app.route(\"/first\")\n",
    "def hello_first():\n",
    "    return \"<p>In hello_first() function. Hello, FIRST!</p>\"\n",
    "\n",
    "@app.route(\"/<name>\")\n",
    "def hello(name):\n",
    "    return f\"<p> In hello() function. Hello, {escape(name)}!\""
   ]
  },
  {
   "cell_type": "markdown",
   "metadata": {},
   "source": [
    "Run the preceeding cell to overwrite the *hello.py* file, then run the Flask server. Stop and restart the Flask server if it is still running from the last example. Now test the revised application by going to the link http://127.0.0.1:5000/Bathilda.  If everything is running correctly, you'll open a new webpage that displays the text \"Hello, Bathilda!\". Keep in mind that the original URL, http://127.0.0.1:5000 still works.\n",
    "\n",
    "How does this all work? Let's step through it.\n",
    "1. `app = Flask(__name__)`\n",
    "  * The `Flask()` function returns a Flask application object. The Flask object has several properties and methods that are used for interacting with the Flask framework.\n",
    "  * Flask applications need to have a name. We set the name by passing it to the `Flask()` method as the first parameter . It's standard practice to set the application name to the name of the module that contains the application. The module name is available via [Python's built-in `__name__` variable](https://docs.python.org/3/library/__main__.html).\n",
    "2. `@app.route(\"/\")`\n",
    "  * This line specifies what happens when we enter a base URL like `http://127.0.0.1:5000` or `http://localhost:5000`. A base URL is a URL with no path, filename, or GET parameters. It's the part of a website's URL that is stays constant, regardless ow which page within the website the user navigates to. The parameter `\"/\"` is a shorthand for a base URL.\n",
    "  * Statements that precede a function definition and start with `@` are called decorators. A decorator is a function that accepts another function as an argument. Decorators are useful, but are tricky to understand. [The RealPython site has a good explanation of decorators](https://realpython.com/primer-on-python-decorators/), in case you want to understand them better.The `@` syntax is equivalent to the following snippet.\n",
    "  \n",
    "  ```python\n",
    "    from flask import Flask\n",
    "\n",
    "    app = Flask(__name__)\n",
    "\n",
    "    def hello_world():\n",
    "      return \"<p>Hello, World!</p>\"\n",
    "      \n",
    "    app.route(\"/\")(hello_world)\n",
    "  ```\n",
    "  * In summary, the `@app.route(\"/\")` statement directs Flask to run the `hello_world()` function whenever the server receives an HTTP request for the base URL.\n",
    "3. `def hello_world() ...`\n",
    "  * The `hello_world()` function is a Flask *view* function. View functions are called by the Flask framework and return text that will be sent to the client in an HTTP response.\n",
    "3. `@app.route(\"/first\") / def hello_first():`\n",
    "  * This section adds a new view function that responds to the URL `http://127.0.0.1:5000/first`.\n",
    "4. `@app.route(\"/<name>\") / def hello(name):`\n",
    "  * This section adds a view function that takes a parameter from the URL. Values passed to `route()` that are enclosed in angle brackets  (\"<\" and \">\") are treated as parameters. In this case, Flask takes the portion of the URL that comes after the forward slash (\"/\") and passes it to `hello()` as the `name` argument.\n",
    "5. `from markupsafe import escape` and `escape(name)`\n",
    "  * It's dangerous to insert user-supplied text directly into a web page. Malicious users might insert malicious JavaScript code into your web page. Read the [Flask tutorial on HTML Escaping](https://flask.palletsprojects.com/en/2.0.x/quickstart/#html-escaping), which explains why this is a problem.\n",
    "  * The `escape` function, which is provided by the [markupsafe package](https://flask.palletsprojects.com/en/2.0.x/quickstart/#html-escaping), converts HTML and JavaScript code to text that cannot be executed in a browser.\n",
    "  \n",
    "The order in which view functions are defined matters. Flask will stop comparing URLs to view function routes as soon as it finds a match."
   ]
  },
  {
   "cell_type": "markdown",
   "metadata": {},
   "source": [
    "### C. The Loopback IP Address\n",
    "The URL that we're using to retrieve our Flask web pages, `http://127.0.0.1:5000`, looks different than the URLs we're used to. Instead of a domain names like *github.com* or *firstinspires.org*, our Flask URL uses 127.0.0.1. This series of integers and periods is an internet protocol (IP) address. The Internet uses IP addresses to identify the detination and origin of internet traffic.\n",
    "\n",
    "When you type a web address into your browsers address bar, your browser gets the IP address that corresponds to the domain name. It does this by sending a request to a special type of server that is called a DNS server. DNS stands for [domain name system](https://en.wikipedia.org/wiki/Domain_Name_System). For example, as of 26 December 2021, the IP address for *github.com* is 140.82.114.4 and the IP address for *firstinspires.org* is 52.216.249.115. (You can look up IP addresses at https://domaintoipconverter.com/.)\n",
    "\n",
    "The IP address 127.0.0.1 is a special IP address called the *loopback address*. When you attempt to retrieve a webpage from the 127.0.0.1 IP address, your computur's operating system recognizes that the IP address is the loopback address and it doesn't let the HTTP request leave your computer. Instead, your operating system treats the HTTP request as if it's an *incoming* HTTP request from some other computer.\n",
    "\n",
    "We can use the domain *localhost* instead of 127.0.0.1 if desired. The URLs `http://127.0.0.1` and `http://localhost` are equivalent. The loopback address is useful for testing web servers during develoopment, because we don't need to know our computer's actual network IP address. Also, the default configuration of operating systems like macOS or Windows is to block incoming HTTP requests. Using *locahost* or 127.0.0.1 allows us to test a webserver without reconfiguring our operating system to allow incoming HTTP requests."
   ]
  },
  {
   "cell_type": "markdown",
   "metadata": {},
   "source": [
    "### D. Ports\n",
    "The other part of the URL that might look new is the string *:5000* that follows the IP address. The number 5000 is the *port* and the colon is used to separate the domain name or IP address from the port. The port is used to direct internet traffic to the right program on your computer.\n",
    "\n",
    "If you are working through this tutorial by running Jupyter on your local computer, then you are running two web servers simultaneously on your computer. Your browser is requesting web pages from the Jupyter server in one tab, and it is requesting web pages from the Flask server in another tab. The browser is sending both Jupyter and Flask requests to 127.0.0.1. How do we avoid mixing up the requests, i.e., sending Flask requests to the Jupyter server and vise-versa? We avoid mixing up requests by using different port numbers for our Jupyter and Flask servers. If you look at the address bar of this Jupyter notebook, you'll probably see that Jupyter is running on port 8888. Flask is running on port 5000. Using different port numbers allows your computer to avoid mixing up the Flask and Jupyter HTTP requests.\n",
    "\n",
    "Here is an anology. Suppose HTTP packets are letters, and your computer is a house. The postal service is the Internet, and you have a butler named Wadsworth that represents your computer's operating system. There are several people living in your house. Their names are Chromia, Jupyter, Flaskbert, and Emailia. The residents don't speak to each other &#151; they communicate via letters that are delivered by Wadsworth. Wadsworth isn't a great butler because he has no clue who lives in the house, much less know their names. The rooms in the house are numbered and Chromia lives in room 80, Jupyter lives in room 8888, Flaskbert lives in room 5000, and Emailia lives in room 25.\n",
    "\n",
    "Chromia decides she needs some information from Flaskbert and from Jupyter. She writes two letters to request the information, one to Flaskbert and one to Jupyter. She's given up on getting Wadsworth to remember anyone's name, so she write Flaskbert's and Jupyter's room numbers on their respective envelopes. She also includes the code 127.0.0.1 on both envelopes and gives the letters to Wadsworth. Wadsworth knows that 127.0.0.1 means the recipients live in the same house, so he doesn't give the letters to the letter carrier. Instead, Wadsworth delivers the letters to their respective rooms and a little bit later he delivers the responses from Jupyter and Flaskbert back to room 80.\n",
    "\n",
    "Next, Chromia decides she needs information from Wikipedius, who lives in a different house. She writes Wikipedius' house number (208.80.154.232) and room number (80) on the envelope. She also writes her own room number (80) in the return address, but she doesn't know her own house's address, so she leaves that off and gives the letter to Wadsworth. Wadsworth sees that the letter is addressed to someone in a different house, so he adds their house number (67.168.13.18) to the return address and gives the letter to the letter carrier. The letter carrier returns the next day with a response from Wikipedius, addressed to room 80 in house 67.168.13.18. Wadsworth delivers the response to room 80 and Chromia is satisfied.\n",
    "\n",
    "The letters to Flaskbert and Jupyter are like using *localhost* or *127.0.0.1* to request information from a server running on your own computer. The letter to *Wikipedius* is like requesting information from an external server. In both cases, port numbers are used to get the letters (HTTP traffic) to the right servers and clients. The purpose of the analogy is to illustrate how port numbers work, so it glosses over a lot of details. For example, Chromia normally would not remember Wikipedius's house number. She would have to request his house number from her friend **D**e**N**i**S**e.\n",
    "\n",
    "The default port number for traffic on the World Wide Web is 80. If you omit the port number from a URL in your browser, your browser assumes you meant to use port 80. That's why you don't see port numbers on most URLs."
   ]
  },
  {
   "cell_type": "markdown",
   "metadata": {},
   "source": [
    "### E. Our First Quiz\n",
    "#### Question II.1\n",
    "If the order of the `@app.route(\"/first\")` and `@app.route(\"/<name>\")` were changed, would it still be possible to run the `hello_first()` function? Why or why not?"
   ]
  },
  {
   "cell_type": "code",
   "execution_count": null,
   "metadata": {},
   "outputs": [],
   "source": [
    "# Question II.1\n",
    "#"
   ]
  },
  {
   "cell_type": "markdown",
   "metadata": {},
   "source": [
    "## III. Understanding Routes\n",
    "### A. Reading about Routes\n",
    "Read the [Flask tutorials on routing](https://flask.palletsprojects.com/en/2.0.x/quickstart/#routing) and [variable rules](https://flask.palletsprojects.com/en/2.0.x/quickstart/#variable-rules).\n",
    "\n",
    "### B. Exercises 1 - 3\n",
    "Exercises 1 - 3 will complete the *sum.py* flask application, which is started in the following cell."
   ]
  },
  {
   "cell_type": "code",
   "execution_count": null,
   "metadata": {},
   "outputs": [],
   "source": [
    "%%writefile sum.py\n",
    "from flask import Flask\n",
    "from markupsafe import escape\n",
    "\n",
    "app = Flask(__name__)\n",
    "\n",
    "# Add your code below for exercises 1\n",
    "\n",
    "\n",
    "# Add your code below for exercise 2\n",
    "\n",
    "\n",
    "# Add you answer (as a comment) and code for exercise 3\n",
    "\n",
    "\n"
   ]
  },
  {
   "cell_type": "markdown",
   "metadata": {},
   "source": [
    "#### Exercise #1\n",
    "Add a default route (i.e., \"/\") that displays an `<h1>` header with the text \"Welcome to the Sum App!\". Run the Flask application in development mode to test it."
   ]
  },
  {
   "cell_type": "markdown",
   "metadata": {},
   "source": [
    "#### Exercise #2\n",
    "Add a route that starts with \"sum\" and accepts two integers, for example, `http://127.0.0.1:5000/sum/45.2/184.3`. The route's view function should return an `<h2>` header that displays both numbers and their sum, e.g., `<h2>45.2 + 184.3 = 229.5</h2>`. Use converters so the route will not match URLs with non-float parameters."
   ]
  },
  {
   "cell_type": "markdown",
   "metadata": {},
   "source": [
    "##### Exercise #3\n",
    "Does the route you added in exercise #2 work with integers (i.e., numbers without a decimal point)? If not, add a route that sums two integers."
   ]
  },
  {
   "cell_type": "markdown",
   "metadata": {},
   "source": [
    "## IV. Serving Data from Files\n",
    "So far, the example view functions in this notebook have returned short snippets of HTML. Real Flask applications will need to return entire HTML webpages, but enclosing an entire HTML page in a Python string would be tedious. Actual Flask applications generally serve HTML pages that are stored in files from disk.\n",
    "\n",
    "### A. Reading Assignmeent\n",
    "Read the Flask quickstart tutorials on [static files](https://flask.palletsprojects.com/en/2.0.x/quickstart/#static-files) and [rendering templates](https://flask.palletsprojects.com/en/2.0.x/quickstart/#rendering-templates)"
   ]
  },
  {
   "cell_type": "markdown",
   "metadata": {},
   "source": [
    "### B. Simple HTML File\n",
    "Run the next cell to create a small HTML file in the *templates* subfolder."
   ]
  },
  {
   "cell_type": "code",
   "execution_count": null,
   "metadata": {},
   "outputs": [],
   "source": [
    "%%writefile templates/xkcd.html\n",
    "<!DOCTYPE html>\n",
    "<html>\n",
    "    <head>\n",
    "        <title>Session 27 Flask Example</title>\n",
    "    </head>\n",
    "    <body>\n",
    "        <h1>A Relevant XKCD Comic </h1>\n",
    "        <img src=\"{{ url_for('static', filename='images/tags_2x.png') }}\" alt=\"XKCD Comic\">\n",
    "        <p>XKCD comics are available from <a href=\"https://xkcd.com\">xkcd.com</a>\n",
    "           and are provided via a Creative Commons license.</p>\n",
    "    </body>\n",
    "</html>"
   ]
  },
  {
   "cell_type": "code",
   "execution_count": null,
   "metadata": {},
   "outputs": [],
   "source": [
    "%%writefile xkcd.py\n",
    "import flask\n",
    "\n",
    "app = flask.Flask(__name__)\n",
    "\n",
    "@app.route(\"/\")\n",
    "def xkcd():\n",
    "    return flask.render_template(\"xkcd.html\")"
   ]
  },
  {
   "cell_type": "markdown",
   "metadata": {},
   "source": [
    "Run the next cell to create a small xkcd flask application. Run the xkcd Flask application from your terminal and view the web page in your browser.\n",
    "\n",
    "If everything went according to plan, you should see a simple web page with a single XKCD comic. Flask's `render_template()` method looks for the file named *xkcd.html* located in the *templates* subfolder and sends it's contents to the client (i.e., web browser)."
   ]
  },
  {
   "cell_type": "markdown",
   "metadata": {},
   "source": [
    "### C. Static Files\n",
    "Websites are usually composed of many different files. There's the main HTML file that contains the content of the website, but there are also image file, CSS files, JavaScript files, video files, and so forth. Such files are called *static files* because they are read from disk and sent analtered to the client, instead of being dynamically generated by software.\n",
    "\n",
    "Flask requires static files to be placed in a subfolder named *static*. In the preceding example, we placed the image with our XKCD comic in an *images* folder within the *static* subfolder. We then used Flask's `.url_for()` method to generate a URL to the image folder.\n",
    "\n",
    "The first argument to the `.url_for()` method is normally the name of a view function, but our application does not have a view function named \"static\". When \"static\" is passed as the first argument, `.url_for()` constructs a URL that points to the file in the *static* subfolder. It's tempting to try changing the name of the subfolder. It looks like we should be able to change the name of the subfolder from *static* to *images* and build a URL with `.url_for('images', filename='tags_2x.png')` or create the URL ourselves with `href=\"images/tags_2x.png\"`. But neither approach will work. Flask will serve static files *only from a subfolder named \"static\"*."
   ]
  },
  {
   "cell_type": "markdown",
   "metadata": {},
   "source": [
    "### D. Jinja Templates\n",
    "The mentor likes XKCD comics. Wouldn't it be great if we could just save XKCD comics to a folder, and have the server build a page that shows all of the comics? Without having to tediously type out the path to each file? With Jinja templates we can do exactly that. [Jinja is a separate project from Flask and has its own documentation](https://jinja.palletsprojects.com/en/3.0.x/templates/), but Flask was designed to use Jinja templates.\n",
    "\n",
    "Run the next two cells to overwrite the XKCD application. Run the application in Flask and check out the results at http://localhost:5000."
   ]
  },
  {
   "cell_type": "code",
   "execution_count": null,
   "metadata": {},
   "outputs": [],
   "source": [
    "%%writefile xkcd.py\n",
    "# There isn't much new to see in this Pyton file.\n",
    "# It gets a list of image filenames and passes them to Flask's\n",
    "# render_template() method.\n",
    "\n",
    "import flask\n",
    "import os\n",
    "\n",
    "app = flask.Flask(__name__)\n",
    "\n",
    "@app.route(\"/\")\n",
    "def xkcd():\n",
    "    # Get a list of all .png filenames in images subfolder.\n",
    "    image_files = list(filter(\n",
    "        lambda x: x[-4:] == \".png\",\n",
    "        os.listdir(\"static/images\")\n",
    "    ))\n",
    "    \n",
    "    # Add the list of images to our HTML template\n",
    "    return flask.render_template(\"xkcd.html\", images=image_files)"
   ]
  },
  {
   "cell_type": "code",
   "execution_count": null,
   "metadata": {},
   "outputs": [],
   "source": [
    "%%writefile templates/xkcd.html\n",
    "<!--\n",
    "This file is a Jinja template. It mostly contains standard HTML.\n",
    "The statements that start and end with curly brackets are Jinja commands.\n",
    "-->\n",
    "\n",
    "<!DOCTYPE html>\n",
    "<html>\n",
    "    <head>\n",
    "        <title>Session 27 Flask Example</title>\n",
    "    </head>\n",
    "    <body>\n",
    "        <h1>Relevant XKCD Comics</h1>\n",
    "        \n",
    "            {# This line is a Jinja comment. #}\n",
    "            {# The next line is a Jinja statment #}\n",
    "            {% for img in images %}\n",
    "                <h2>{{ img[:-4]|replace(\"_\", \" \")|title }}</h2>\n",
    "                <img src=\"{{ url_for('static', filename='images/' ~ img) }}\" alt=\"xkcd comic\">\n",
    "            {% endfor %}\n",
    "            \n",
    "            <p>XKCD comics are available from\n",
    "               <a href=\"https://xkcd.com\">xkcd.com</a> and are provided\n",
    "               via a Creative Commons license.</p>\n",
    "    </body>\n",
    "</html>"
   ]
  },
  {
   "cell_type": "markdown",
   "metadata": {},
   "source": [
    "A Jinja template is a text file that contains Jinja expressions, statements, and comments. Jinja templates can generate any type of text file, not just HTML.\n",
    "* Jinja expressions use `{{ ... }}` delimiters.\n",
    "* Jinja statements use `{% ... %}` delimiters.\n",
    "* Jinja comments use `{# ... #}` delimiters.\n",
    "\n",
    "#### Jinja For Loop\n",
    "Consider the Jinja statement `{% for img in images %}`. This statement starts a *for* loop. The HTML code between the opening `{% for ...` statement and `{% endfor %}` is repeated for each iteration of the loop. There will be one iteration of the loop for each element in the `images` list.\n",
    "\n",
    "But where did the `images` list come from? Look at the last line in *xkcd.py*. In the `render_template()` function, we passed the list of image file names to the function using a named argument, `images`. Named arguments that are passed to `render_template()` become variables within the Jinja template.\n",
    "\n",
    "Consequently the Jinja *for* loop inserts a separate `<h2>` and `<img>` element into the page for each element in the `images` list. If there are four elements in the `images` list, there will be four sets of `<h2>` and `<img>` elements.\n",
    "\n",
    "The `{% for ...` statement is what Jinja calls a control structure. You can see descriptions of other control structures in [Jinja's documentation for template designers](https://jinja.palletsprojects.com/en/3.0.x/templates/#list-of-control-structures)."
   ]
  },
  {
   "cell_type": "markdown",
   "metadata": {},
   "source": [
    "#### Jinja Expressions\n",
    "Let's look at Jinja template's `<img>` element. Except for its `src` attribute, it looks like a normal image element. The `src` attribute contains the value `{{ url_for('static', filename='images/' ~ img) }}`. The value starts and ends with double curly brackets, which tell Flask that the value is a Jinja expression that needs to be evaluated before the web page is sent to the client.\n",
    "\n",
    "The `url_for()` function is creating a URL that will link to each image in the `static/images/` subfolder. The full path is constructed with the expression `'static/images' ~ img`. The tilde, `~`, is a special Jinja operator that concatenates text, and the `img` variable contains a filename for a *.png* file that contains an XKCD comic. Remember, this expression is occuring within a Jinja *for* loop, which is looping over every element in the `images` list. Similar to a Python *for* loop, Jinja places the current element (i.e., a filename) from `images` into the `img` variable, which is defined in the *for* loop's opening statement."
   ]
  },
  {
   "cell_type": "markdown",
   "metadata": {},
   "source": [
    "#### Jinja Filters\n",
    "Finally, take a look at the `<h2>` element. It contains the Jinja expression `{{ img[:-4]|replace(\"_\", \" \")|title }}`. Seeing the content of the `images` list will make it easier to figure out what this expression does."
   ]
  },
  {
   "cell_type": "code",
   "execution_count": null,
   "metadata": {},
   "outputs": [],
   "source": [
    "# Run cell to see content of images list\n",
    "import os\n",
    "images = os.listdir(\"images\")\n",
    "print(images)"
   ]
  },
  {
   "cell_type": "markdown",
   "metadata": {},
   "source": [
    "If you remember your string slicing in Python, you'll realize that the expression `img[:-4]` strips the last four characters (\".png\") from each filename.\n",
    "\n",
    "The next two items, `replace` and `title` are Jinja *filters*. Filters modify the value of Jinja expressions.\n",
    "* In this example, the `replace` filter replaces underscores in the file names with spaces.\n",
    "* The `title` filter converts the string to title case, i.e., it capitalizes each word.\n",
    "* Filters are separated by pipe characters: `|`. Multiple filters can be applied sequentially.\n",
    "\n",
    "https://jinja.palletsprojects.com/en/3.0.x/templates/#filters"
   ]
  },
  {
   "cell_type": "markdown",
   "metadata": {},
   "source": [
    "### E. More Reading about Jinja\n",
    "Read the following sections from Jinja's documentation.\n",
    "* [Jinja Synopsis](https://jinja.palletsprojects.com/en/3.0.x/templates/#synopsis)\n",
    "* [Template Variables](https://jinja.palletsprojects.com/en/3.0.x/templates/#variables)\n",
    "* [Filters](https://jinja.palletsprojects.com/en/3.0.x/templates/#filters)\n",
    "* [Tests](https://jinja.palletsprojects.com/en/3.0.x/templates/#tests)\n",
    "* [Control Structures](https://jinja.palletsprojects.com/en/3.0.x/templates/#list-of-control-structures)  \n",
    "  Carefully read the sections on *for* and *if* statements. Scan the rest.\n",
    "* [Expressions](https://jinja.palletsprojects.com/en/3.0.x/templates/#expressions)"
   ]
  },
  {
   "cell_type": "markdown",
   "metadata": {},
   "source": [
    "### F. Quiz\n"
   ]
  },
  {
   "cell_type": "markdown",
   "metadata": {},
   "source": [
    "#### Question IV.1\n",
    "Consider the following view function and Jinja template.\n",
    "\n",
    "```python\n",
    "@app.route(\"/\")\n",
    "def index():\n",
    "    words = [\"this\", \"and\", \"that\"]\n",
    "    flask.render_template(\"index.html\", words=words)\n",
    "```\n",
    "\n",
    "```html\n",
    "<!-- Extract from index.html -->\n",
    "<p>{words}</p>\n",
    "```\n",
    "\n",
    "Add a filter to the Jinja template that will join all elements of the list `words` into a single string, with elements separated by spaces. Refer to [Jinja's list of built-in filters](https://jinja.palletsprojects.com/en/3.0.x/templates/#builtin-filters) to find an appropriate filter."
   ]
  },
  {
   "cell_type": "code",
   "execution_count": null,
   "metadata": {},
   "outputs": [],
   "source": [
    "# Q. IV.1\n",
    "#\n",
    "#"
   ]
  },
  {
   "cell_type": "markdown",
   "metadata": {},
   "source": [
    "#### Question IV.2\n",
    "Using the same view function as in question IV.1, write a Jinja *if* statement renders a portion of the template if the string \"that\" is contained in the list `words`. Refer to [Jinja's list of built-in tests](https://jinja.palletsprojects.com/en/3.0.x/templates/#builtin-tests) to find an appropriate test."
   ]
  },
  {
   "cell_type": "code",
   "execution_count": null,
   "metadata": {},
   "outputs": [],
   "source": [
    "# Q. IV.2\n",
    "#\n",
    "#"
   ]
  },
  {
   "cell_type": "markdown",
   "metadata": {},
   "source": [
    "#### Question IV.3\n",
    "Suppose you are using a Jinja *for* loop to repeatedly render a section of an HTML template. How would you display a number representing the current iteration of the loop? That is, display 1 in the first iteration, 2 in the second, etc."
   ]
  },
  {
   "cell_type": "code",
   "execution_count": null,
   "metadata": {},
   "outputs": [],
   "source": [
    "# Q. IV.3\n",
    "#\n",
    "#"
   ]
  },
  {
   "cell_type": "markdown",
   "metadata": {},
   "source": [
    "#### Question IV.4\n",
    "Suppose the variable `board_game` is set to `Ticket to Ride`. What will the Jinja expression `{{\"We played \" ~ board_game ~ \".\"}}` display?"
   ]
  },
  {
   "cell_type": "code",
   "execution_count": null,
   "metadata": {},
   "outputs": [],
   "source": [
    "# Q. IV.4\n",
    "#\n",
    "#"
   ]
  },
  {
   "cell_type": "markdown",
   "metadata": {},
   "source": [
    "## IV. A Flask Project - FRC Schedule Viewer\n",
    "Write a Flask application that displays an interactive schedule from a FIRST Robotics Competition (FRC). Your schedule should contain these features:\n",
    "1. The default route, `\"/\"`, should display the entire schedule in an HTML table. Include columns for time, comp_level, match_number, team, alliance, and station.\n",
    "2. Add another route, `\"/<team>\"`. The route variable `<team>` will contain a team number and the page will display only the matches in which the team specified by `<team>` is playing.\n",
    "3. Add yet another route, `\"/<comp_level>/<match_number>\"` that displays a single match, as specified by the route variables.\n",
    "4. Add two drop-down controls to the page served by the default route. One should display all teams, and the other should display all matches. Selecting a team will load the applicable `\"/<team>\"` page, and selecting a match will load the applicable `\"/<comp_level>/<match_number>\"` page.\n",
    "5. The single-team and single-match pages should have a navigational element that goes back to the full schedule.\n",
    "\n",
    "Hints:\n",
    "\n",
    "* The schedule data is contained in the *sched.json* file. Create a Pandas dataframe from this file with the statement `pd.read_json(\"sched.json\")`, where `pd` comes from `import pandas as pd`.\n",
    "* Use Pandas's indexing features to filter the dataframe to a single team or schedule.\n",
    "* You can iterate over every row of a Pandas dataframe inside a Jinja template. [Read more about iteration with dataframes in the Pandas documentation](https://pandas.pydata.org/pandas-docs/stable/user_guide/basics.html#iteration). See the example below:\n",
    "\n",
    "  ```python\n",
    "  {% for row in df.itertuples() %}\n",
    "  ```\n",
    "  \n",
    "Create a folder in your Git assignments repository to hold this application and upload the folder to Github. Paste the Github URL to the application folder in the cell below. You won't be able to run this application on *Github Pages* because *Github Pages* can only serve static HTML pages."
   ]
  },
  {
   "cell_type": "markdown",
   "metadata": {},
   "source": [
    "For Extra Bragging Rights:\n",
    "* The JSON file containing the schedule (and the dataframe created from the JSON file) is in *narrow* format, with each row containing one team and six rows per match. Narrow format is usually the best format for filtering and aggregating tabular data, but it's often not optimal for displaying the data. Use Pandas's `.pivot()` method to convert the dataframe to a wide format, where there are two lines per match, with each team on the alliance displayed in a separate column. The columns containing the team numbers should be named \"Station 1\", \"Station 2\", and \"Station 3\", or something similar. Add an feature to your flask application to display the schedule in this format. This format is called *wide* because it has more columns, i.e., the dataframe is wider.\n",
    "* The `.pivot()` method is tricky. Read about the `.pivot()` and other dataframe reshaping methods on the Pandas documentation website](https://pandas.pydata.org/pandas-docs/stable/user_guide/reshaping.html).\n",
    "* Run `.pivot()` again to create an even wider dataframe with only one row per match, and six teams on each row. The column names should be something like \"Blue 1\", \"Red 2\", etc."
   ]
  },
  {
   "cell_type": "code",
   "execution_count": null,
   "metadata": {},
   "outputs": [],
   "source": [
    "# Project\n",
    "# URL to Github folder containing Flask application:"
   ]
  },
  {
   "cell_type": "markdown",
   "metadata": {},
   "source": [
    "## V. Save Your Work\n",
    "Once you have completed the exercises, save a copy of the notebook outside of the git repository (outside of the *pyclass_frc* folder). Include your name in the file name. Send the notebook file to another student to check your answers."
   ]
  },
  {
   "cell_type": "markdown",
   "metadata": {},
   "source": [
    "## VI. Concept and Terminology Review\n",
    "You should be able to define the following terms or describe the concept.\n",
    "* Static vs dynamic websites\n",
    "* Flask view functions\n",
    "* Python decorators\n",
    "* `@app.route`\n",
    "* Default route (`\"/\"`)\n",
    "* Route variables\n",
    "* Loopback address (127.0.0.1 or localhost)\n",
    "* HTTP ports\n",
    "* `url_for()`\n",
    "* `render_template()`\n",
    "* Serving static files\n",
    "* Jinja templates \n",
    "* Jinja expressions\n",
    "* Jinja statements\n",
    "* Jinja comments\n",
    "* Jinja *for* loops\n",
    "* Filters\n",
    "* Tests"
   ]
  },
  {
   "cell_type": "markdown",
   "metadata": {},
   "source": [
    "[Table of Contents](../../index.ipynb)"
   ]
  }
 ],
 "metadata": {
  "kernelspec": {
   "display_name": "Python 3 (ipykernel)",
   "language": "python",
   "name": "python3"
  },
  "language_info": {
   "codemirror_mode": {
    "name": "ipython",
    "version": 3
   },
   "file_extension": ".py",
   "mimetype": "text/x-python",
   "name": "python",
   "nbconvert_exporter": "python",
   "pygments_lexer": "ipython3",
   "version": "3.9.7"
  }
 },
 "nbformat": 4,
 "nbformat_minor": 4
}
