{
 "cells": [
  {
   "cell_type": "markdown",
   "metadata": {},
   "source": [
    "[Table of Contents](../../index.ipynb)"
   ]
  },
  {
   "cell_type": "markdown",
   "metadata": {},
   "source": [
    "# Hyptertext Transfer Protocol (HTTP)\n",
    "Hyptertext transfer protocol (HTTP) is the foundation of communications on the World Wide Web. Initial development of HTTP was conducted by [Tim Berners-Lee](https://en.wikipedia.org/wiki/Tim_Berners-Lee) in 1989 while he was a research fellow at the *European Organization for Nuclear Research*, better known as CERN (*Conseil européen pour la recherche nucléaire*).  \n",
    "![Tim Berners-Lee](tbl.jpg)\n",
    "\n",
    "You may be wondering why we are stuyding HTTP in a Python course.\n",
    "* This isn't just a Python course -- it's a course on FRC analytics that happens to use Python.\n",
    "* We will use HTTP to retrieve detailed information on FRC competitions from [The Blue Alliance](https://www.thebluealliance.com/) website. We will then use Python tools to analyze this data.\n",
    "* HTTP can also be used to download FRC competition data from directly from FIRST. It's a bit more difficult to get an authorization key from FIRST, so we will use *The Blue Alliance* in this class. You can learn more about retrieving data from FIRST at https://usfirst.collab.net/sf/projects/first_community_developers/ and https://frcevents2.docs.apiary.io/.\n",
    "\n",
    "Our FRC team's scouting system uses HTTP for a couple different things:\n",
    "* Exchanging data between Android tablets and scouting system server that runs on a Windows laptop. The tablets are used to enter data during FRC matches.\n",
    "* Downloading match schedules from the *FIRST API* or *The Blue Alliance* (so we don’t have to enter them manually.\n",
    "* We are considering additional uses of HTTP for our system, such as automatically downloading match scores or rankings, so we can display this information along with the scouting data that we collect ourselves.\n",
    "\n",
    "This session covers the bare minimum. Students are encouraged to other HTTP references.\n",
    "* [TutorialsPoint HTTP Tutorial](https://www.tutorialspoint.com/http/http_quick_guide.htm)"
   ]
  },
  {
   "cell_type": "markdown",
   "metadata": {},
   "source": [
    "## A. What is HTTP?\n",
    "HTTP is a communications protocol, which is a set of rules that allows two different computers to transmit and receive information.\n",
    "\n",
    "HTTP operates at the application layer. This means HTTP doesn’t care about the physics of how the information is transmitted (wireless, serial cable, cat 6 network cable, etc.)\n",
    "\n",
    "There are many application layer protocols:\n",
    "* POP3, SMTP, and IMAP are used for email.\n",
    "* FTP is used to transfer files.\n",
    "* NTP is used for synchronizing clocks over a network.\n",
    "* *There are many more… .*\n",
    "\n",
    "HTTP messages are classified as requests or responses.\n",
    "* A client sends a request to a server.\n",
    "* Based on the information in the request, the servers sends a response back to the client.\n",
    "* For example, you might use Chrome (an HTTP client) to send an HTTP request to the web server that provides The Blue Alliance web page. The Blue Alliance will send the web page back as an HTTP response."
   ]
  },
  {
   "cell_type": "markdown",
   "metadata": {},
   "source": [
    "## B. HTTP Requests\n",
    "Suppose I want to see if my local library has a copy of one of my favorite sience fiction books, *I Robot*, by Isaac Asimov (copyright 1950). I navigate to their search page at `http://kcls.org/catalog/search` and type `asimov` into the author field and `robot` into the title field. The web browser will send an HTTP request message to the library's web server. The request message could look something like this:\n",
    "```\n",
    "GET catalog/search?author=asimov&title=robot&mediatype=book HTTP/1.1\n",
    "Accept: text/html\n",
    "Accept-Language: en-US\n",
    "\n",
    "```\n",
    "\n",
    "### Request Line\n",
    "The first line of the message is the request line.\n",
    "* The first word in the request line is the request method.\n",
    "* In the example above, we are using the GET request method, which is the most common method.\n",
    "* POST is another commonly used request method.\n",
    "* There are many other methods (e.g., PUT, DELETE, HEAD, CONNECT) that are not as common.\n",
    "\n",
    "The next portion of the request line tells the server what we want. This example tells the server to to find a page called *search* in a folder named *catalog*.\n",
    "\n",
    "Finally, the last part of the request line specified that the request is per HTTP version 1.1.\n",
    "\n",
    "### Header Lines\n",
    "The 2nd and 3rd lines are header lines, consisting of a header name, followed by a colon, followed by a value.\n",
    "* The *Accept* header tells the server to format the response as HTML text.\n",
    "* The *Accdpt-Language* header tells the server that our preferred language for the response is English.\n",
    "* HTTP requests can have any number of headers (including zero headers)\n",
    "\n",
    "### URL\n",
    "Notice that there is no URL in the request (e.g., kcls.org). HTTP has no idea how to actually get the request to its destination. It depends on the internet protocol (IP) for that.\n",
    "\n",
    "### Request Content\n",
    "HTTP requests can include a blank line after the headers, followed by more text. We won't need to include content in our HTTP requests for this class."
   ]
  },
  {
   "cell_type": "markdown",
   "metadata": {},
   "source": [
    "## HTTP Responses"
   ]
  },
  {
   "cell_type": "markdown",
   "metadata": {},
   "source": [
    "[Table of Contents](../../index.ipynb)"
   ]
  }
 ],
 "metadata": {
  "kernelspec": {
   "display_name": "Python 3",
   "language": "python",
   "name": "python3"
  },
  "language_info": {
   "codemirror_mode": {
    "name": "ipython",
    "version": 3
   },
   "file_extension": ".py",
   "mimetype": "text/x-python",
   "name": "python",
   "nbconvert_exporter": "python",
   "pygments_lexer": "ipython3",
   "version": "3.7.6"
  }
 },
 "nbformat": 4,
 "nbformat_minor": 4
}
