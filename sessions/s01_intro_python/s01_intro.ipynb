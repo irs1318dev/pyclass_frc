{
 "cells": [
  {
   "cell_type": "markdown",
   "metadata": {},
   "source": [
    "[Table of Contents](../../index.ipynb)"
   ]
  },
  {
   "cell_type": "markdown",
   "metadata": {},
   "source": [
    "# FRC Analytics with Python - Session 01\n",
    "**Last Updated: 20 September 2021**\n",
    "\n",
    "This is an introductory course in programming in Python that was developed for FIRST Robotics Competition (FRC) students. The course focuses on using Python for data analysis and visualization. This course was developed by the Issaquah Robotics Society (IRS), FRC 1318, to prepare students to maintain, operate, and extend the IRS's FRC scouting system."
   ]
  },
  {
   "cell_type": "markdown",
   "metadata": {},
   "source": [
    "## I. Course Overview\n",
    "### Course Objectives\n",
    "Participants who complete this course will be able to:\n",
    "* Create and run Python **functions**.\n",
    "* Organize Python code into **classes**.\n",
    "* **Get data from external sources** using *hypertext transfer protocol* (HTTP) and *structured query language* (SQL).\n",
    "* Manipulate and **analyze tabular data** *using Pandas*, a powerful Python package for data analysis.\n",
    "* **Create data visualizations** using *Bokeh*, a Python package for creating charts and graphs.\n",
    "* Introduce new robotics students to **FIRST Robotics Competitions**.\n",
    "* Evaluate data using **descriptive statistics**.\n",
    "* Evaluate the likelihood of events using **probability theory**.\n",
    "* Use Python for other **scientific or engineering projects**.\n",
    "\n",
    "### Necessary materials\n",
    "* Laptop, preferably Windows 10 because that’s what the mentor uses, but Mac and Linux operating systems work too.\n",
    "* No books needed - all necessary reference materials are online."
   ]
  },
  {
   "cell_type": "markdown",
   "metadata": {},
   "source": [
    "## II. Introduction to Python\n",
    "![XKCD Python Cartoon](images/python.png)  \n",
    "**Cartoon from xkcd.com. [Creative Commons License](https://creativecommons.org/licenses/by-nc/2.5/)**\n",
    "\n",
    "One of the most popular computer programming languages, along with Java, C, and C++\n",
    "* First released in 1991.\n",
    "* Open source and free to use.\n",
    "* Designed for readability.\n",
    "* Supports many different styles of programming, such as functional and object-oriented.\n",
    "\n",
    "Python is an interpreted language\n",
    "* Interpreted means program code is not compiled.\n",
    "* Instead, text files with program code are read and executed by another program called the Python interpreter.\n",
    "\n",
    "Benefits of an interpreted language\n",
    "* Programs can be run on any operating system (e.g., Linux, Windows, Mac, etc.).\n",
    "* Simpler development cycle since no compilation is required.\n",
    "Disadvantages of an interpreted language\n",
    "* Computer must have interpreter installed to be able to run program.\n",
    "* Programs do not execute as fast as compiled languages.\n",
    "\n",
    "#### Why is it Named *Python*?\n",
    "It has nothing to do with snakes. The creator of Python, Guido van Rossum, is apparently a fan of *Monty Python's Flying Circus*, which was a British sketch comedy TV series that ran from 1969 to 1974. The name reflects one of the goals of Python's developers - Python should be fun to use. [Here is a link to the mentor's favorite sketch](https://youtu.be/xpAvcGcEc0k).\n",
    "![Monty Python and the Holy Grail](images/MontyPythonHolyGrail.jpg)"
   ]
  },
  {
   "cell_type": "markdown",
   "metadata": {},
   "source": [
    "## III. Why Does the IRS Use Python for Data Analysis?\n",
    "* Python is one of the most popular languages for data science. So there are many excellent and free packages available in Python for data analysis, data access and retrieval, graphing, statistics, etc.\n",
    "* Python is relatively easy to learn (compared to C or Java)\n",
    "* Python programming is a valuable skill for all STEM majors (not just computer science).\n",
    "* Python is an excellent tool for:\n",
    "  * Statistical analysis via numpy and scipy packages\n",
    "  * Symbolic mathematics via Sympy package\n",
    "  * Writing technical reports via Jupyter Notebooks\n",
    "  * And much more...\n",
    "* Slow speed due to being interpreted is not an issue - Python is plenty fast for our purposes.\n",
    "\n",
    "The IRS uses the CPython implementation, which is the most common implementation. It is written in C and can be extended with modules written in C or C++.\n",
    "\n",
    "The IRS uses Python 3. Python 2 is no longer be supported as of 1 January 2020."
   ]
  },
  {
   "cell_type": "markdown",
   "metadata": {},
   "source": [
    "## IV. Running Python Code in this Notebook\n",
    "\n",
    "#### Jupyter Notebooks\n",
    "Later on we'll cover how to write Python programs that you can run by double clicking an icon or from a command line, but for our first few class sessions we'll run Python code directly in this document, which is called a **Notebook**. Notebooks are a special kind of document that can include descriptive text (like the sentence you are reading right now), graphics, and Python code. Notebooks are useful because you can run the Python code and inspect its output directly in the notebook.\n",
    "\n",
    "#### Google Colab\n",
    "If you are reading this notebook for the first time, you are probably accessing this page from a [Google Colab](https://colab.research.google.com/). Gooble Colab allows us to get started quickly because we can experiment with simple Python code without having to install and configure special software on our computers.\n",
    "\n",
    "Google Colab will display a warning the first time you try to run Python code within a given notebook (see below). It's fine to click *Run Anyway*.\n",
    "<img src=\"images/colab-warning.png\" style=\"height: 200px;\">\n",
    "  \n",
    "Later sessions require installing Python and downloading course materials to your local computer. [Session 03](../../sessions/s03_tools/s03_tools.ipynb) will walk you through the process of installing Python and downloading all of the *FRC Analytics with Python* course materials. If you are feel confident with respect to your computer skills (or you're just feeling lucky), then you can skip ahead to session 04 and set up Python on your computer. Once downloaded, you'll use a program called [Jupyter](https://jupyter.org/) to run notebooks. The interface for Jupyter notebooks is slightly different than the Google Colab interface.\n",
    "\n",
    "#### Notebook Cells\n",
    "Jupyter and Colab notebooks have two kinds of cells: code cells and markdown cells.\n",
    "\n",
    "##### Markdown Cells\n",
    "The cell you are reading this very instant is a markdown cell, which is used to display formated text, hyperlinks, and images. Double click on this cell to enter edit mode and see how the text is formatted. See if you can figure out how to do the following formatting:\n",
    "* Italic text\n",
    "* Bold text\n",
    "* Paragraph breaks\n",
    "* Hyperlinks\n",
    "* Headers\n",
    "* Bulletized list\n",
    "* Numbered list\n",
    "\n",
    "Put the cursor in the cell and press *SHIFT + ENTER* to convert the cell back into nice-looking, formatted text. In Jupyter, *SHIFT + CTRL* will also work."
   ]
  },
  {
   "cell_type": "markdown",
   "metadata": {},
   "source": [
    "##### Code Cells\n",
    "The cell immediately below this cell is a code cell. Put the cursor in that cell and press *SHIFT + ENTER* to run the Python code and see the results. Remember, if you are working in Google Colab, then Google Colab will ask if you trust the notebook the first time you try to run a cell. Click on *Run Anyways*."
   ]
  },
  {
   "cell_type": "code",
   "execution_count": null,
   "metadata": {},
   "outputs": [],
   "source": [
    "# This is a code cell. Press SHIFT + ENTER to run the code\n",
    "#   and see the results.\n",
    "num = 1737124\n",
    "f'The square root of {num} is {int(num**0.5)}!'"
   ]
  },
  {
   "cell_type": "markdown",
   "metadata": {},
   "source": [
    "Here is what you should understand about the code above:\n",
    "* The green text following the hash mark (#) is a comment and is ignored by the Python interpreter. \n",
    "* Everything else is Python code. Don't worry if you don't understand it at this point.\n",
    "* When you run a code cell (by pressing *SHIFT + ENTER* or *CTRL + ENTER*), Jupyter will print out the results of the last line below the cell. That's why you see the message appear below the cell.\n",
    "\n",
    "**For this course, whenever you come across a code cell, you should run it.**"
   ]
  },
  {
   "cell_type": "markdown",
   "metadata": {},
   "source": [
    "#### Working in the Notebook\n",
    "1. Google Colab frequently collapses sections and hides cells. To expand the sections, click the triangle to the left of the section header, or click the message that states cells are hidden. You can also select *Expand Sections* from the *View* menu.\n",
    "2. You can create new cells by pressing the \"+\" button (Jupyter) or \"+ Code\" and \"+ Text\" (Google Colab) in the notebook toolbar. Or you can press *ESC* then *A* to insert a cell above the current cell. Can you guess what *ESC* then *B* does?\n",
    "3. You change the cell from code to markdown using the dropdown box in the tool menu. Or you can press *ESC + M* to change to a markdown cell, or *ESC + Y* to change back to a code cell.\n",
    "4. The notebook toolbar also includes buttons for cutting, copying, and pasting cells, as well as saving your notebook, running cells, and moving cells up or down within the notebook.\n",
    "5. There are lots of keyboard shortcuts. Go to *Help->Keyboard Shortcuts* to see them all. Explore the notebook menu while you are at it.\n",
    "6. Both *SHIFT + ENTER* and *CTRL + ENTER* will run the code cell that the cursor is in. *SHIFT + ENTER* will run the cell and select the next cell down (or create a new empty code cell if you ran the last cell in the notebook). *SHIFT + ENTER* is handy if you want to run a sequence of cells in order. *CTRL + ENTER* will also run the cell, but the cursor will not move the next cell -- the cell you just ran will stay selected. *CTRL + ENTER* is useful if you want to run the same cell repeatedly.\n",
    "7. You can also run a cell by pressing *ALT + ENTER*. Pressing *ALT + ENTER* will always insert a new empty cell after the cell you just ran.\n",
    "8. Finally, in Jupyter you can run a cell by clicking on the *Run* button in the toolbar, or by selecting *Cell -> Run Cells* from the menu. In Colab you can run a cell by clicking on the run button to the left of the cell (looks like a *Play* button)."
   ]
  },
  {
   "cell_type": "markdown",
   "metadata": {},
   "source": [
    "## V. First Steps\n",
    "This section covers how to use Python for basic calculations. Work through the information, examples, and exercises in the rest of this notebook.\n",
    "\n",
    "Do note that I said *work through*, not *Read through* or *Scan*. You won't successfully learn to code just by reading or scanning!  \n",
    "\n",
    "*Work through* means that you should type the example code from the tutorial into your Python interpreter.  \n",
    "\n",
    "Experiment! Make changes to the example code and predict what will happen. Then run the modified code and see if you were right.\n",
    "* If you were, that's a good sign that you understand the material.\n",
    "* If not, think about the concept some more and keep experimenting."
   ]
  },
  {
   "cell_type": "markdown",
   "metadata": {},
   "source": [
    "### A. Comments and Basic Operations\n",
    "Let's analyze our first lines of code. We'll start with comments and some basic math. Place the cursor in the cell below and hit CTRL+ENTER to run it."
   ]
  },
  {
   "cell_type": "code",
   "execution_count": null,
   "metadata": {},
   "outputs": [],
   "source": [
    "# Text that starts with a `#` is a comment\n",
    "3 + 7  # Comments don't have to be placed at the beginning of a line."
   ]
  },
  {
   "cell_type": "markdown",
   "metadata": {},
   "source": [
    "The first line of the cell is a comment. Comments start with the hash character (*#*). Comments explain code to human readers and are ignored by Python. You will learn later in this class that *comments are extremely important.*\n",
    "\n",
    "Surely you can guess what the second line of the code cell does. It adds the numbers 3 and 7. And if you ran the cell, you can see the sum immediately below the cell. (If you don't see '10' below the cell, please run it). The second line of code also contains a comment. While a comment can follow code on a line, code can never follow a comment.\n",
    "\n",
    "Besides addition, Python can also subtract using the dash symbol `-`, multiply using the asterisk `*`, and divide using the forward slash `/`. Yes, multiplication and division would be more intuitive if Python used $\\times$ and $\\div$, but I've never been able to find those keys on my keyboard. Here is an example of subtraction (run the cell):"
   ]
  },
  {
   "cell_type": "code",
   "execution_count": null,
   "metadata": {},
   "outputs": [],
   "source": [
    "# Subtraction Example\n",
    "25 - 36"
   ]
  },
  {
   "cell_type": "markdown",
   "metadata": {},
   "source": [
    "Now let's try multiplication and division. Run this cell:"
   ]
  },
  {
   "cell_type": "code",
   "execution_count": null,
   "metadata": {},
   "outputs": [],
   "source": [
    "8 * 9\n",
    "75 / 5"
   ]
  },
  {
   "cell_type": "markdown",
   "metadata": {},
   "source": [
    "That's weird. We're only seeing the results of the division (quotient), but not the results of the multiplication (product).\n",
    "\n",
    "Actually it's not weird. Jupyter notebook code cells only display the result of the last line of code in the cell. If we swap the order of the operations we'll see the product instead of the quotient."
   ]
  },
  {
   "cell_type": "code",
   "execution_count": null,
   "metadata": {},
   "outputs": [],
   "source": [
    "75 / 5\n",
    "8 * 9"
   ]
  },
  {
   "cell_type": "markdown",
   "metadata": {},
   "source": [
    "Python provides a way to display multiple results from a single code cell: the `print()` function."
   ]
  },
  {
   "cell_type": "markdown",
   "metadata": {},
   "source": [
    "### B. The `print()` Function\n",
    "Run the next cell."
   ]
  },
  {
   "cell_type": "code",
   "execution_count": null,
   "metadata": {
    "scrolled": true
   },
   "outputs": [],
   "source": [
    "# The print() function\n",
    "print(75 / 5)\n",
    "print(8 * 9)"
   ]
  },
  {
   "cell_type": "markdown",
   "metadata": {},
   "source": [
    "`print()` is a function that's built into Python. We'll discuss exactly what a function is in session 04. For now, just understand that the `print()` function will display whatever we put between the parentheses."
   ]
  },
  {
   "cell_type": "markdown",
   "metadata": {},
   "source": [
    "### C. Operators and More Math\n",
    "In Python and other programming languages, the symbols `+`, `-`, `*`, and `/` are called operators. An operator is a symbol that instructs Python to do something. The `+` operator tells Python to add the number to the left of the `+` sign to the number on the right of the `+` sign. The `-` operator tells Python to subtract the number on the right of the `-` sign from the number on the left of the `-` sign. The `*` operator tells Python to ... well, you get the idea.\n",
    "\n",
    "More specifically, `+`, `-`, `*`, and `/` are *binary* operators because they each operate on two numbers.\n",
    "\n",
    "The `-` operator can also be used as a unary operator, meaning it operates on only one number. Run the next cell."
   ]
  },
  {
   "cell_type": "code",
   "execution_count": null,
   "metadata": {},
   "outputs": [],
   "source": [
    "# Using '-' as a unary operator\n",
    "print(5 + -10)\n",
    "print(5 - -10)"
   ]
  },
  {
   "cell_type": "markdown",
   "metadata": {},
   "source": [
    "Python correctly determined that we wanted the `-` sign to negate the number 10. As a unary operator, the `-` symbol negates the number that follows it.\n",
    "\n",
    "There are a few other mathematical operators. Run the next cell."
   ]
  },
  {
   "cell_type": "code",
   "execution_count": null,
   "metadata": {},
   "outputs": [],
   "source": [
    "print(23 // 5)  # Two slashes is floor division - answer is always an integer.\n",
    "print(24 / 5)   # Remember, one slash is regular division \n",
    "print(23 % 5)   # Percent sign gives us the remainder\n",
    "print(5 ** 3)   # Two asterisks is exponentiation."
   ]
  },
  {
   "cell_type": "markdown",
   "metadata": {},
   "source": [
    "Parentheses can be used to control order of operation. Without parenthesis, Python follows standard rules for precedence."
   ]
  },
  {
   "cell_type": "code",
   "execution_count": null,
   "metadata": {},
   "outputs": [],
   "source": [
    "# Operators within parentheses are executed first.\n",
    "print((10 + 5) * 2)\n",
    "print(10 + 5 * 2) # Without paretheses, multiplicaton is completed before addition"
   ]
  },
  {
   "cell_type": "markdown",
   "metadata": {},
   "source": [
    "#### Math Exercises\n",
    "Complete the following exercises by writing code in the code cells and then running the cell.\n",
    "\n",
    "**Ex. C.1** What is 13 to the 18th power?"
   ]
  },
  {
   "cell_type": "code",
   "execution_count": null,
   "metadata": {},
   "outputs": [],
   "source": [
    "# Ex C.1\n"
   ]
  },
  {
   "cell_type": "markdown",
   "metadata": {},
   "source": [
    "**Ex. C.2** What is the remainder of 13 to the 18th power divided by 1318?"
   ]
  },
  {
   "cell_type": "code",
   "execution_count": null,
   "metadata": {},
   "outputs": [],
   "source": [
    "# Ex C.2\n"
   ]
  },
  {
   "cell_type": "markdown",
   "metadata": {},
   "source": [
    "**Ex. C.3** How are the expressions 5/2 and 5//2 different? Write your answers in a comment in the code cell. Predict the result of each expression and then try them out in the code cell to see if you are right."
   ]
  },
  {
   "cell_type": "code",
   "execution_count": null,
   "metadata": {},
   "outputs": [],
   "source": [
    "# Ex C.3\n"
   ]
  },
  {
   "cell_type": "markdown",
   "metadata": {},
   "source": [
    "### D. Variables\n",
    "In computer programming, we often need to save the results of calculations and use them later. And by often, I mean *all the time*. For this we use **variables**. Variables are named values. In Python we create a variable by typing the name of the variable followed by an `=` sign, followed by the value we want the variable to represent."
   ]
  },
  {
   "cell_type": "code",
   "execution_count": null,
   "metadata": {},
   "outputs": [],
   "source": [
    "# Using Variables\n",
    "radius = 2     # Assignment statement\n",
    "pi = 3.14      # Assignment statement\n",
    "height = 5     # Assignment statement\n",
    "\n",
    "# This line both reads variables and assigns the results of a mathematical expression to\n",
    "#   a new variable\n",
    "cylinder_volume = pi * radius**2 * height\n",
    "\n",
    "# Placing the variable on the final line of the code cell causes Jupyter to\n",
    "#   display it's value.\n",
    "cylinder_volume"
   ]
  },
  {
   "cell_type": "markdown",
   "metadata": {},
   "source": [
    "There are a few things to keep in mind regarding variables if you don't want errors."
   ]
  },
  {
   "cell_type": "code",
   "execution_count": null,
   "metadata": {},
   "outputs": [],
   "source": [
    "# Trying to access a variable before it's defined causes an error.\n",
    "var1 = 5 + undefined_var"
   ]
  },
  {
   "cell_type": "code",
   "execution_count": null,
   "metadata": {},
   "outputs": [],
   "source": [
    "# Numbers on the left side of the `=` sign cause an error\n",
    "5 = height"
   ]
  },
  {
   "cell_type": "markdown",
   "metadata": {},
   "source": [
    "Variable names must start with either a letter or an underscore (\\_) character. Variable names can contain numbers, letters, or th underscore."
   ]
  },
  {
   "cell_type": "markdown",
   "metadata": {},
   "source": [
    "#### Variable Exercises\n",
    "The programming exercises in this course will frequently refer to FIRST robotics competitions (FRC). [Watch this video of an FRC match if you have never attended an FRC competition.](https://youtu.be/jT9xj5XoELw) The match is from the 2019 Pacific Northwest district championships. [Watch this video to learn more about the game rules.](https://youtu.be/Mew6G_og-PI)\n",
    "\n",
    "FRC competitions consist of both qualification matches and playoff matches. The next several exercises focus on qualification matches.\n",
    "\n",
    "**Ex. D.1** Six different teams compete in every FRC qualification match. Assign that number to a variable. Give the variable a descriptive name."
   ]
  },
  {
   "cell_type": "code",
   "execution_count": null,
   "metadata": {},
   "outputs": [],
   "source": [
    "# Ex D.1:\n"
   ]
  },
  {
   "cell_type": "markdown",
   "metadata": {},
   "source": [
    "**Ex. D.2** Suppose there are 37 teams competing at an FRC competition, and every team will play 12 qualification matches. Assign these two numbers to variables and give them both descriptive names."
   ]
  },
  {
   "cell_type": "code",
   "execution_count": null,
   "metadata": {},
   "outputs": [],
   "source": [
    "# Ex D.2:\n"
   ]
  },
  {
   "cell_type": "markdown",
   "metadata": {},
   "source": [
    "**Ex. D.3** Use the variables you defined in exercises D.1 and D.2 to calculate the number of qualification matches required for 37 teams to play 12 matches each, when there are six teams competing in each match. The code to calculate the answer should not contain any integers, just the variable names you already created. If you get an error stating one of your variables is undefined, check that you ran the cells that defined the variables, and then check for spelling on uppercase-lowercase errors.\n",
    "\n",
    "If you are having trouble figuring out how to do this calculation:\n",
    "  1. First try calculating how many qualification matches would be required if only one team competed in each match.\n",
    "  2. Now think about how many matches would be required for every team to participate in 12 qualification matches if 37 teams competed in each match.\n",
    "  3. Now adjust your calculation to account for there being six teams in each match. The answer should be between the answers for items 1. and 2."
   ]
  },
  {
   "cell_type": "code",
   "execution_count": null,
   "metadata": {},
   "outputs": [],
   "source": [
    "# Ex. D.3\n"
   ]
  },
  {
   "cell_type": "markdown",
   "metadata": {},
   "source": [
    "### E. The `round()` Function\n",
    "Now we'll try out another function: `round()`. It will round a decimal value to a specified number of digits."
   ]
  },
  {
   "cell_type": "code",
   "execution_count": null,
   "metadata": {},
   "outputs": [],
   "source": [
    "# round() function.\n",
    "third = 1/3\n",
    "round(third, 2)"
   ]
  },
  {
   "cell_type": "markdown",
   "metadata": {},
   "source": [
    "For `round()` to work, we must give it two different values, separated by commas. Values that are passed to functions are called **arguments**. The first argument is the number that will be rounded, and the second argument is the number of digits to display after the decimal point. Here is an example that displays more digits:"
   ]
  },
  {
   "cell_type": "code",
   "execution_count": null,
   "metadata": {},
   "outputs": [],
   "source": [
    "round(third, 6)"
   ]
  },
  {
   "cell_type": "markdown",
   "metadata": {},
   "source": [
    "We can specify zero digits:"
   ]
  },
  {
   "cell_type": "code",
   "execution_count": null,
   "metadata": {},
   "outputs": [],
   "source": [
    "round(third, 0)"
   ]
  },
  {
   "cell_type": "markdown",
   "metadata": {},
   "source": [
    "So far, `round()` has been rounding down. But if the first digit to be truncated (i.e., cut off) is 5 or greater, `round()` will round up."
   ]
  },
  {
   "cell_type": "code",
   "execution_count": null,
   "metadata": {},
   "outputs": [],
   "source": [
    "two_thirds = 2 * third\n",
    "print(two_thirds)\n",
    "round(two_thirds, 0)"
   ]
  },
  {
   "cell_type": "markdown",
   "metadata": {},
   "source": [
    "When we specified zero digits, `round()` rounded the fraction up to the nearest integer, 1.0. The `round()` function will allow us to omit the second argument entirely, but it will behave a little differently."
   ]
  },
  {
   "cell_type": "code",
   "execution_count": null,
   "metadata": {},
   "outputs": [],
   "source": [
    "round(two_thirds)"
   ]
  },
  {
   "cell_type": "markdown",
   "metadata": {},
   "source": [
    "Interesting. The code `round(two_thirds, 0)` gave us an output of *1.0*, but `round(two_thirds)` gave us *1*, without the decimal point and trailing zero. There is a reason for this, which we'll cover in the next section."
   ]
  },
  {
   "cell_type": "markdown",
   "metadata": {},
   "source": [
    "#### Exercises for `round()` Function\n",
    "**Ex. E.1** Suppose the sum of the weight of all 37 robots competing in the FRC competition is 4,579 pounds. Calculate the average robot weight and report the answer rounded to the nearest integer."
   ]
  },
  {
   "cell_type": "code",
   "execution_count": null,
   "metadata": {},
   "outputs": [],
   "source": [
    "# Ex E.1:\n"
   ]
  },
  {
   "cell_type": "markdown",
   "metadata": {},
   "source": [
    "**Ex. E.2** Round the answer from exercise E.1 to two decimal places."
   ]
  },
  {
   "cell_type": "code",
   "execution_count": null,
   "metadata": {},
   "outputs": [],
   "source": [
    "# Ex E.2\n"
   ]
  },
  {
   "cell_type": "markdown",
   "metadata": {},
   "source": [
    "### F. Important! Python is Case Sensitive\n",
    "Python, like many well-known programming languages (Java, C, C++, Ruby, R, Julia, JavaScript) is case sensitive. That means the variables `weight` and `Weight` are two different variables."
   ]
  },
  {
   "cell_type": "code",
   "execution_count": null,
   "metadata": {},
   "outputs": [],
   "source": [
    "# Creating an error by using the wrong case\n",
    "weight = 125\n",
    "print(Weight)"
   ]
  },
  {
   "cell_type": "markdown",
   "metadata": {},
   "source": [
    "You can use the `print()` function all day, but using `Print()` is problematic."
   ]
  },
  {
   "cell_type": "code",
   "execution_count": null,
   "metadata": {},
   "outputs": [],
   "source": [
    "# Using the wrong case with print() causes an error\n",
    "Print(2 + 2)"
   ]
  },
  {
   "cell_type": "markdown",
   "metadata": {},
   "source": [
    "Options are a bit limited if you want to use a case-insensitive language. Examples of case insensitive languages include Visual Basic, most other versions of BASIC, Pascal, and Fortran."
   ]
  },
  {
   "cell_type": "markdown",
   "metadata": {},
   "source": [
    "### G. Strings (i.e., Text)\n",
    "\n",
    "#### Variable assignments and Quotation Marks\n",
    "Variables can hold text as well as numbers. In computer programming, sequences of letters and other characters are called strings. Strings must be surrounded with either single or double quotes."
   ]
  },
  {
   "cell_type": "code",
   "execution_count": null,
   "metadata": {},
   "outputs": [],
   "source": [
    "# Example String Variables\n",
    "string1 = 'Keep calm and build robots.'\n",
    "\n",
    "# Can place single quote in string surrounded by double quotes.\n",
    "string2 = \"Sir, it's quite possible this asterioid is not entirely stable.\"\n",
    "\n",
    "# A backwards slash allows single quote in string surrounded by single quotes.\n",
    "string3 = 'Dean said \"If you\\'re going to fail, you might as well fail at the big ones.\"'\n",
    "\n",
    "# Let's see how these print out\n",
    "print(string1)\n",
    "print(string2)  \n",
    "print(string3)"
   ]
  },
  {
   "cell_type": "markdown",
   "metadata": {},
   "source": [
    "The fact that Python allows strings to be enclosed in both single and double quotes comes in handy. If we need to have a single quote within our string we can enclose the string in double quotes (like in `string1`), and vice versa. We can also place a single or double quote inside a string if we precede it with a backwards slash (`\\`, like in `string3`).\n",
    "\n",
    "If you want to place a backwards slash inside a string, use two backward slashes: `\"\\\\\"`."
   ]
  },
  {
   "cell_type": "code",
   "execution_count": null,
   "metadata": {},
   "outputs": [],
   "source": [
    "back_slash = \"This is a backwards slash: \\\\\"\n",
    "print(back_slash)"
   ]
  },
  {
   "cell_type": "markdown",
   "metadata": {},
   "source": [
    "In computer programming, the backwards slash (\\\\) and the forward slash (/) *are not interchangeable*. The backwards slash won't divide squat, and the forward slash won't help you put a quotation mark inside a string. The mentor has spent time than he would like to admit debugging because he mixed up his slashes. \n",
    "\n",
    "There are no special rules for placing a forward slash in a string."
   ]
  },
  {
   "cell_type": "markdown",
   "metadata": {},
   "source": [
    "#### Concatenating (i.e., Joining) Strings\n",
    "Strings can be concatenated (joined) with the `+` operator."
   ]
  },
  {
   "cell_type": "code",
   "execution_count": null,
   "metadata": {},
   "outputs": [],
   "source": [
    "str1 = \"Space, \"\n",
    "str2 = \"The final frontier. \"\n",
    "str3 = \"These are the voyages of the starhip Enterprise. \"\n",
    "str4 = str1 + str2 + str3 + \"It's continuing mission: to explore strange new worlds. \"\n",
    "str5 = str4 + \"To seek out new life and new civilizations. \"\n",
    "star_trek = str5 + \"To boldly go where no one has gone before.\"\n",
    "star_trek"
   ]
  },
  {
   "cell_type": "markdown",
   "metadata": {},
   "source": [
    "The `+` operator can join both string variables and literal strings. A literal string is text enclosed between quotation marks."
   ]
  },
  {
   "cell_type": "markdown",
   "metadata": {},
   "source": [
    "#### Getting the Length of a String\n",
    "We'll introduce one more function in this section. The `len()` function can be used to get the number of characters in a string."
   ]
  },
  {
   "cell_type": "code",
   "execution_count": null,
   "metadata": {},
   "outputs": [],
   "source": [
    "# Using the len() function.\n",
    "len(star_trek)"
   ]
  },
  {
   "cell_type": "code",
   "execution_count": null,
   "metadata": {},
   "outputs": [],
   "source": [
    "# Another len() example\n",
    "len(str1)"
   ]
  },
  {
   "cell_type": "markdown",
   "metadata": {},
   "source": [
    "#### String Indexing and Slicing\n",
    "We can use square brackets to extract individual characters or portions of a string."
   ]
  },
  {
   "cell_type": "code",
   "execution_count": null,
   "metadata": {},
   "outputs": [],
   "source": [
    "# First character of str3\n",
    "str3[0]"
   ]
  },
  {
   "cell_type": "code",
   "execution_count": null,
   "metadata": {},
   "outputs": [],
   "source": [
    "# Second character of str3\n",
    "str3[1]"
   ]
  },
  {
   "cell_type": "markdown",
   "metadata": {},
   "source": [
    "Note how we select the first character of the string stored in the `str3` variable by appending a `0` in square brackets to the end of the variable. Assigning the first item in a string or sequence to position zero (instead of position 1) is a common practice in many programming languages. The position of the character within the string can also be called the index. For example, the second character in the string is at index 1. Extracting a single character from the string is called indexing.\n",
    "\n",
    "Extracting multiple characters from a string is called slicing."
   ]
  },
  {
   "cell_type": "code",
   "execution_count": null,
   "metadata": {},
   "outputs": [],
   "source": [
    "# First 5 characters of str3\n",
    "str3[0:5]"
   ]
  },
  {
   "cell_type": "code",
   "execution_count": null,
   "metadata": {},
   "outputs": [],
   "source": [
    "# First 5 characters of str3, alternate sytax\n",
    "str3[:5]"
   ]
  },
  {
   "cell_type": "markdown",
   "metadata": {},
   "source": [
    "We can use a colon to slice the string (select a range of sequential characters). The index of the first character (0) is placed before the colon - this is the *start* value. The character at index 5 is the first character *that is not* returned - this is the *stop* value. In other words, placing `0:5` in the square brackets causes the characters at positions 0, 1, 2, 3, and 4 to be returned, but *not* the character at position 5. This practice seems counter-intuitive, but it has its advantages. Note that when selecting characters starting at the beginning of a string, the start value, `0`, is optional."
   ]
  },
  {
   "cell_type": "code",
   "execution_count": null,
   "metadata": {},
   "outputs": [],
   "source": [
    "# Last character of str3\n",
    "str3[-1]"
   ]
  },
  {
   "cell_type": "markdown",
   "metadata": {},
   "source": [
    "Passing negative indices within square brackets tells Python to count backwards from the end of the string. So `str3[-1]` extracts the last character from `str3`. (From a mathematical perspective, passing `-0` wouldn't make any sense.)"
   ]
  },
  {
   "cell_type": "code",
   "execution_count": null,
   "metadata": {},
   "outputs": [],
   "source": [
    "# Characters 6 through 10\n",
    "str3[5:10]"
   ]
  },
  {
   "cell_type": "markdown",
   "metadata": {},
   "source": [
    "The `5:10` construct within the square brackets is called a slice, and extracting portions of strings is often called *slicing* in Python."
   ]
  },
  {
   "cell_type": "code",
   "execution_count": null,
   "metadata": {},
   "outputs": [],
   "source": [
    "# Last 5 characters of str3\n",
    "str3[-5:]"
   ]
  },
  {
   "cell_type": "markdown",
   "metadata": {},
   "source": [
    "Negative numbers can be used in slices to extract characters from the end of the string. Note that the character at position -5 (`i`) is included in the results."
   ]
  },
  {
   "cell_type": "code",
   "execution_count": null,
   "metadata": {},
   "outputs": [],
   "source": [
    "# Characters 10 through 20\n",
    "str3[10:20]"
   ]
  },
  {
   "cell_type": "code",
   "execution_count": null,
   "metadata": {},
   "outputs": [],
   "source": [
    "# Characters 10 through 20, but every other character\n",
    "str3[10:20:2]"
   ]
  },
  {
   "cell_type": "markdown",
   "metadata": {},
   "source": [
    "Slice objects can contain a second colon and a third integer. The third integer is the *step* value. In the example above, the step value `2` instructs Python to return every other character. If the step value was changed to a `3`, Python would return every third character."
   ]
  },
  {
   "cell_type": "code",
   "execution_count": null,
   "metadata": {},
   "outputs": [],
   "source": [
    "str3[20:10:-1]"
   ]
  },
  {
   "cell_type": "markdown",
   "metadata": {},
   "source": [
    "Passing a negative step value causes Python to return characters in reverse order. Negative step values make it easy to reverse the order of character strings:"
   ]
  },
  {
   "cell_type": "code",
   "execution_count": null,
   "metadata": {},
   "outputs": [],
   "source": [
    "str3[::-1]"
   ]
  },
  {
   "cell_type": "markdown",
   "metadata": {},
   "source": [
    "#### String Exercises\n",
    "**Ex. G.1** Assign the phrase *Autonomous Period* to a variable. Use indexing (i.e., [] notation) to get the 13th character."
   ]
  },
  {
   "cell_type": "code",
   "execution_count": null,
   "metadata": {},
   "outputs": [],
   "source": [
    "# Ex G.1\n"
   ]
  },
  {
   "cell_type": "markdown",
   "metadata": {},
   "source": [
    "**Ex. G.2** Using the string variable created above, use indexing to retrieve the last three characters from the variable."
   ]
  },
  {
   "cell_type": "code",
   "execution_count": null,
   "metadata": {},
   "outputs": [],
   "source": [
    "# Ex G.2\n"
   ]
  },
  {
   "cell_type": "markdown",
   "metadata": {},
   "source": [
    "**Ex. #G.3.** Use the len() function to get the number of characters in the variable `str_var`."
   ]
  },
  {
   "cell_type": "code",
   "execution_count": null,
   "metadata": {},
   "outputs": [],
   "source": [
    "# Ex G.3\n",
    "str_var = \"technical foul\"\n"
   ]
  },
  {
   "cell_type": "markdown",
   "metadata": {},
   "source": [
    "**Ex. G.4** Use string concatenation to assemble the quote from Dean Kamen and display it in the correct order."
   ]
  },
  {
   "cell_type": "code",
   "execution_count": null,
   "metadata": {},
   "outputs": [],
   "source": [
    "# Ex G.4: Assemble the quote\n",
    "\n",
    "w1 = \"fail at the\"\n",
    "w2 = \"you might\"\n",
    "w3 = \"If you're\"\n",
    "w4 = \"big ones.\"\n",
    "w5 = \"going to\"\n",
    "w6 = \"as well\"\n",
    "w8 = \"fail,\""
   ]
  },
  {
   "cell_type": "markdown",
   "metadata": {},
   "source": [
    "**Ex. G.5** Use string slicing and concatenation to put the words below in the correct order (don't forget the space). [Watch this video if you are not familiar with this term.](https://youtu.be/cl6JkPtDki4) You might want to watch it even if you are familiar with the term."
   ]
  },
  {
   "cell_type": "code",
   "execution_count": null,
   "metadata": {},
   "outputs": [],
   "source": [
    "# Ex G.5\n",
    "pg = \"Professionalism Gracious\" # Leave this line alone\n",
    "\n"
   ]
  },
  {
   "cell_type": "markdown",
   "metadata": {},
   "source": [
    "## VI. The Python Tutorial\n",
    "It's fine to use the notebooks from this course as a reference if you don't remember how to do something. *It's better to be able to find the information you need in the official Python documentation!* The Python Software Foundation maintains an official [**Python Tutorial**](https://docs.python.org/3/tutorial/index.html) that is an excellent resource. We will frequently refer to the Python Tutorial and other portions of Python's official documentation.\n",
    "\n",
    "Check out the sections of the Python Tutorial that cover basic math and strings. For extra practice, try out some of the examples in the tutorial.\n",
    "\n",
    "### A. Numbers Tutorial\n",
    "Numbers are covered in [section 3.1.1 of the Python Tutorial.](https://docs.python.org/3/tutorial/introduction.html)\n",
    "\n",
    "Read the beginning of section 3 and work through section 3.1.1. For extra practice, try out the tutorial examples in the code cell below."
   ]
  },
  {
   "cell_type": "code",
   "execution_count": null,
   "metadata": {},
   "outputs": [],
   "source": [
    "# Numbers Tutorial Examples\n",
    "\n"
   ]
  },
  {
   "cell_type": "markdown",
   "metadata": {},
   "source": [
    "Now see if you can complete these calculations. Re-review the tutorial or earlier portions of this notebook if you have trouble."
   ]
  },
  {
   "cell_type": "markdown",
   "metadata": {},
   "source": [
    "### B. String Tutorial\n",
    "Strings are covered in [section 3.1.2 of the Python Tutorial](https://docs.python.org/3/tutorial/index.html). Try out the tutorial examples below."
   ]
  },
  {
   "cell_type": "code",
   "execution_count": null,
   "metadata": {},
   "outputs": [],
   "source": [
    "# String Tutorial Examples\n",
    "\n",
    "\n"
   ]
  },
  {
   "cell_type": "markdown",
   "metadata": {},
   "source": [
    "## VII. Combinations and Permutations\n",
    "It's good to have some understanding of probability when analyzing FRC competition data. Using probability concepts also makes our Python exercises more interesting. Below we discuss two important concepts in probability and then practice those concepts in Python.\n",
    "\n",
    "### Permutations\n",
    "\n",
    "Let's start with permutations. Suppose I have a stack of nine playing cards. The nine cards are the two through ten of hearts. I shuffle the cards several times and then draw the top four cards from the deck. I might draw the 3 of hearts on the first, followed by the 9 of hearts, the 5 of hearts, and then the 7 of hearts. We'll call this result [3, 9, 5, 7] (We'll drop the suits since they are all the same). Other possible results are [2, 10, 3, 8] or [5, 6, 3, 2]. Each of these possible outcomes is called a permutation. A question that comes up frequently in probability is \"How many possible permutations are there?\" Note that the order in which the cards are drawn matters. A result of [2, 3, 4, 5] is different than [5, 4, 3, 2].\n",
    "\n",
    "It's not hard to calculate the total number of permutations. There are nine possible cards that could be drawn on the first draw, eight possible cards on the second draw, seven cards on the third, etc. So the number of possible permutations is $9 \\times 8 \\times 7 \\times 6$."
   ]
  },
  {
   "cell_type": "code",
   "execution_count": null,
   "metadata": {},
   "outputs": [],
   "source": [
    "# Permutations for drawing four cards from nine-card deck\n",
    "9 * 8 * 7 * 6"
   ]
  },
  {
   "cell_type": "markdown",
   "metadata": {},
   "source": [
    "Now how would the answer change if after every draw, we placed the drawn card back in the deck and reshuffled? First of all, the experiment would take much longer. But more importantly, the same card could be drawn twice. In this scenario, [6, 10, 3, 6] is a possible outcome. Calculating the number of permutations is simple - there are nine possible cards for each draw and the total possible permutations is $9 \\times 9 \\times 9 \\times 9$, or $9^n$ where $n$ is the number of cards drawn."
   ]
  },
  {
   "cell_type": "code",
   "execution_count": null,
   "metadata": {},
   "outputs": [],
   "source": [
    "# Permutations for drawing four cards from nine-card deck, with replacement:\n",
    "9**4  # Same as 9 x 9 x 9 x 9"
   ]
  },
  {
   "cell_type": "markdown",
   "metadata": {},
   "source": [
    "The first scenario, where we did *not* replace the card in the stack, is called **sampling without replacement**. The second scenario is called **sampling with replacement**.\n",
    "\n",
    "Now let's try a permutation exercise.\n",
    "\n",
    "**Ex. VII.1** For our competition with 37 teams, calculate how many different ways teams can be assigned to a specific match. Note that teams are assigned to one of three stations (stations one through three) when they are assigned to a match. For example, [1318: station 1, 2976: station 2: 4131: station 3] and [4131: station 1, 1318: station 2, 2976: station 3] are two different permutations. Is this an example of sampling with or without replacement? (Write the answer in a comment.)"
   ]
  },
  {
   "cell_type": "code",
   "execution_count": null,
   "metadata": {},
   "outputs": [],
   "source": [
    "# Ex VII.1:\n"
   ]
  },
  {
   "cell_type": "markdown",
   "metadata": {},
   "source": [
    "#### Combinations\n",
    "Let's go back to the original permutations example with the stack of nine playing cards. Suppose we don't care about the order in which we draw the cards. For example, we would consider the results of [5, 4, 3, 2] and [2, 3, 4, 5] to be equivalent results because all we care about is what cards are in our hand after we've drawn all four cards. When the order doesn't matter, we call the result a **combination**. How many possible combinations are there when drawing four cards from a stack of nine different cards, without replacement?\n",
    "\n",
    "To answer this question, we first need to figure out how many different ways there are to order four different cards. For example, how many different results are there with the cards [2, 3, 4, 5]? There are four different possibilities for the first card, and since there is no replacement, there are 3 different possibilities for the second card, 2 possibilities for the third card, and then only one possibility for the last card (because there is only one card left). So there are $4 \\times 3 \\times 2 \\times 1$ different ways to order the four cards. "
   ]
  },
  {
   "cell_type": "code",
   "execution_count": null,
   "metadata": {},
   "outputs": [],
   "source": [
    "# How many different ways to order four playing cards?\n",
    "4 * 3 * 2 * 1"
   ]
  },
  {
   "cell_type": "markdown",
   "metadata": {},
   "source": [
    "The value $4 \\times 3 \\times 2 \\times 1$ is also known as the factorial of 4, which is written by placing an exclamation mark after the number 4: $4!$ In general, the factorial of n is:\n",
    "\n",
    "$$n! = n \\times (n-1) \\times (n-2) \\times (n-3) \\: \\times \\: ... \\: \\times \\: 3 \\times 2 \\times 1$$\n",
    "\n",
    "If we have $n$ items, there are $n!$ different ways to order the items.\n",
    "\n",
    "##### Back to Permutations for a Moment\n",
    "The factorial notation can be used to express how many permutations when selecting n items from a set of m items:\n",
    "\n",
    "$$ \\textrm{permutations} = \\frac{m!}{(m-n)!}$$\n",
    "\n",
    "If we're selecting four cards from a stack of nine cards:\n",
    "\n",
    "$$ \\textrm{permutations} = \\frac{9!}{(9-4)!} = \\frac{9!}{5!} = \\frac{9 \\times 8 \\times 7 \\times 6 \\times 5 \\times 4 \\times 3 \\times 2 \\times 1}{5 \\times 4 \\times 3 \\times 2 \\times 1} = 9 \\times 8 \\times 7 \\times 6 $$\n",
    "\n",
    "##### Now back to Combinations\n",
    "Earlier we calculated that there are 3024 different permutations when drawing four cards from a nine card stack without replacement. We also calculated that there are 24 different ways to order four cards. That means that for every combination of four cards, there are 24 permutations. So to calculate the number of combinations, we just have to divide the number of permutations by 24, the number of ways there are to order four cards."
   ]
  },
  {
   "cell_type": "code",
   "execution_count": null,
   "metadata": {},
   "outputs": [],
   "source": [
    "# Number of combinations when selecting four cards from a nine-card stack.\n",
    "(9 * 8 * 7 * 6) / (4 * 3 * 2 * 1)"
   ]
  },
  {
   "cell_type": "markdown",
   "metadata": {},
   "source": [
    "See how we used parenthesis to control the order of multiplication and division? To get the right answer we need to complete all of the multiplications first, and then the division needs to be the final operation. Without the parenthesis, Python performs the multiplication and division operations from left to right, which gives an incorrect answer.\n",
    "\n",
    "In factorial notation, for selecting $n$ items for a set of $m$ items:\n",
    "\n",
    "$$ \\textrm{combinations} = \\frac{m!}{(m-n)!n!}$$"
   ]
  },
  {
   "cell_type": "markdown",
   "metadata": {},
   "source": [
    "**Ex. #VII.2** Now calculate the number of alliance *combinations* for a 37-team competition, where station assignments don't matter."
   ]
  },
  {
   "cell_type": "code",
   "execution_count": null,
   "metadata": {},
   "outputs": [],
   "source": [
    "# Ex 11:\n"
   ]
  },
  {
   "cell_type": "markdown",
   "metadata": {},
   "source": [
    "For a more detailed description of permutations and combinations, checkout https://www.mathsisfun.com/combinatorics/combinations-permutations.html."
   ]
  },
  {
   "cell_type": "markdown",
   "metadata": {},
   "source": [
    "## VIII. Quiz to Check Your Knowledge\n",
    "Write the answers as Python comments in the code cell below each question.\n",
    "\n",
    "**#1.** What operator calculates a remainder?"
   ]
  },
  {
   "cell_type": "code",
   "execution_count": null,
   "metadata": {},
   "outputs": [],
   "source": []
  },
  {
   "cell_type": "markdown",
   "metadata": {},
   "source": [
    "**#2.** What function determines the length of a string?"
   ]
  },
  {
   "cell_type": "code",
   "execution_count": null,
   "metadata": {},
   "outputs": [],
   "source": []
  },
  {
   "cell_type": "markdown",
   "metadata": {},
   "source": [
    "**#3.** What are the values that we pass to a function called?"
   ]
  },
  {
   "cell_type": "code",
   "execution_count": null,
   "metadata": {},
   "outputs": [],
   "source": []
  },
  {
   "cell_type": "markdown",
   "metadata": {},
   "source": [
    "**#4.** Suppose we roll a standard six-sided die five times. Is this an example of sampling *with* or *without* replacement?"
   ]
  },
  {
   "cell_type": "code",
   "execution_count": null,
   "metadata": {},
   "outputs": [],
   "source": []
  },
  {
   "cell_type": "markdown",
   "metadata": {},
   "source": [
    "**#5.** Suppose we calculate the number of combinations and the number of possible permutations for rolling a standard six-sided die five times. Which will be bigger? The number of combinations or the number of permutations?"
   ]
  },
  {
   "cell_type": "code",
   "execution_count": null,
   "metadata": {},
   "outputs": [],
   "source": []
  },
  {
   "cell_type": "markdown",
   "metadata": {},
   "source": [
    "## IX. Save Your Work and Send to Another Student to Check your Answers\n",
    "Once you have completed the exercises, go to the *File* menu above and select *Download As->HTML*. Download an HTML version of this page that shows the completed exercises. Send this page to another student to check your answers."
   ]
  },
  {
   "cell_type": "markdown",
   "metadata": {},
   "source": [
    "## X. Concept and Terminology Review\n",
    "You should be able to define the following terms or describe the concept. Review this notebook if any of these seem unfamiliar.\n",
    "* Jupyter notebook\n",
    "* mybinder.org\n",
    "* markdown and code cells\n",
    "* Interpreted language\n",
    "* Code comment\n",
    "* Mathematical operators\n",
    "* print function\n",
    "* len function\n",
    "* round function\n",
    "* Function arguments\n",
    "* Variable\n",
    "* Variable assignment\n",
    "* Difference between regular division and floor division\n",
    "* String\n",
    "* String indexing\n",
    "* String slicing\n",
    "* String concatenation\n",
    "* Determining string length\n",
    "* Combinations and permutations"
   ]
  },
  {
   "cell_type": "markdown",
   "metadata": {},
   "source": [
    "[Table of Contents](../../index.ipynb)"
   ]
  }
 ],
 "metadata": {
  "kernelspec": {
   "display_name": "Python 3 (ipykernel)",
   "language": "python",
   "name": "python3"
  },
  "language_info": {
   "codemirror_mode": {
    "name": "ipython",
    "version": 3
   },
   "file_extension": ".py",
   "mimetype": "text/x-python",
   "name": "python",
   "nbconvert_exporter": "python",
   "pygments_lexer": "ipython3",
   "version": "3.9.6"
  }
 },
 "nbformat": 4,
 "nbformat_minor": 4
}
