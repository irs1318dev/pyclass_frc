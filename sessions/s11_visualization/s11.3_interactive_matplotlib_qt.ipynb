{
 "cells": [
  {
   "cell_type": "markdown",
   "metadata": {},
   "source": [
    "[Table of Contents](../../index.ipynb)  \n",
    "[Notebook 11.1](s11.1_matplotlib.ipynb)"
   ]
  },
  {
   "cell_type": "markdown",
   "metadata": {},
   "source": [
    "# FRC Analytics with Python - Session 11.3\n",
    "# Interactive Charts with Matplotlib and the QT5 Backend\n",
    "##### Last Updated: 27 December 2020"
   ]
  },
  {
   "cell_type": "markdown",
   "metadata": {},
   "source": [
    "There are many ways to display charts with Matplotlib. Session 11.1 demonstrated how to display non-interactive charts in a notebook. Session 11.2 demonstrated how to display interactive charts within Jupyter Lab. This notebook demonstrates how to display charts in pop-up windows. This technique will work both in *Jupyter Lab* and in *Jupyter Notebook*."
   ]
  },
  {
   "cell_type": "markdown",
   "metadata": {},
   "source": [
    "## I. Setting the Display Mode\n",
    "Use the `%matplotlib qt5` magic command."
   ]
  },
  {
   "cell_type": "code",
   "execution_count": 4,
   "metadata": {},
   "outputs": [],
   "source": [
    "# Importing Matplotlib\n",
    "import matplotlib.pyplot as plt   # line 1\n",
    "import matplotlib                 # line 2\n",
    "\n",
    "# Other packages used in this session\n",
    "import numpy as np\n",
    "import pandas as pd\n",
    "\n",
    "# Display interactive charts in popup windows\n",
    "%matplotlib qt5  "
   ]
  },
  {
   "cell_type": "markdown",
   "metadata": {},
   "source": [
    "## III. An Interactive Chart\n",
    "The following code cell, which is identical to the code in notebook 11.2, should cause a new window to pop up on your computer. The chart will be displayed in this new window."
   ]
  },
  {
   "cell_type": "code",
   "execution_count": 5,
   "metadata": {},
   "outputs": [],
   "source": [
    "house = pd.read_csv(\"housing.csv\")\n",
    "\n",
    "fig, axes = plt.subplots()\n",
    "fig.set_size_inches(6, 4.5)\n",
    "house.plot.hexbin(x=\"median_income\", y=\"median_house_value\", ax=axes)\n",
    "axes.set_title(\"Median Income vs. Home Value\")\n",
    "axes.set_xlabel(\"Median Income\\n(Units of $10,000)\")\n",
    "axes.set_ylabel(\"Median Home Value ($)\")\n",
    "fig.tight_layout()\n",
    "plt.show()"
   ]
  },
  {
   "cell_type": "markdown",
   "metadata": {},
   "source": [
    "The new window should look like this:  \n",
    "![QT Popup Chart Window](qt_chart_example.png)"
   ]
  },
  {
   "cell_type": "markdown",
   "metadata": {},
   "source": [
    "Try out the toolbar buttons to see what they do (in the popup window, not the static screencaptue in this notebook). The toolbar provides many different options for customizing the chart."
   ]
  },
  {
   "cell_type": "markdown",
   "metadata": {},
   "source": [
    "[Table of Contents](../../index.ipynb)  \n",
    "[Notebook 11.1](s11.1_matplotlib.ipynb)"
   ]
  }
 ],
 "metadata": {
  "kernelspec": {
   "display_name": "Python 3",
   "language": "python",
   "name": "python3"
  },
  "language_info": {
   "codemirror_mode": {
    "name": "ipython",
    "version": 3
   },
   "file_extension": ".py",
   "mimetype": "text/x-python",
   "name": "python",
   "nbconvert_exporter": "python",
   "pygments_lexer": "ipython3",
   "version": "3.8.5"
  }
 },
 "nbformat": 4,
 "nbformat_minor": 4
}
