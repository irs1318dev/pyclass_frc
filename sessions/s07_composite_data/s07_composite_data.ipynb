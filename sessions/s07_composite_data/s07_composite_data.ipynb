{
 "cells": [
  {
   "cell_type": "markdown",
   "metadata": {},
   "source": [
    "[Table of Contents](../../index.ipynb)"
   ]
  },
  {
   "cell_type": "markdown",
   "metadata": {},
   "source": [
    "# FRC Analytics with Python - Session 07\n",
    "# Composite Data Types\n",
    "**Last Updated: 23 September 2021**\n",
    "\n",
    "### I. Composite Types vs. Scalars\n",
    "This session will focus on composite data types. You have already been introduced to one composite data type, the list. Lists are considered to be composite data types because they can contain several different items, each of which can be accessed individually. For example:\n",
    "```Python\n",
    "my_list = [1, 5, 9, 37]\n",
    "my_list[2]\n",
    "```\n",
    "In the example, `my_list` contains four different integers (*n = 4*), any one of which can be extracted from the list with the notation `my_list[x]` where *x* is an integer ranging from 0 to *n-1*.\n",
    "\n",
    "Integers, floats, and Booleans are not composite types because they cannot be broken up into smaller parts. Integers, floats, and Booleans are scalar data types, or they can also be called primitive values.\n",
    "\n",
    "What about strings? Are they composite data types ore scalars? That is an interesting question and we'll return to it later."
   ]
  },
  {
   "cell_type": "markdown",
   "metadata": {},
   "source": [
    "## II. Dictionaries\n"
   ]
  },
  {
   "cell_type": "markdown",
   "metadata": {},
   "source": [
    "### A. Introduction to Dictionaries\n",
    "Dictionaries are a composite data type in Python. Run the cell below to see a dictionary in action."
   ]
  },
  {
   "cell_type": "code",
   "execution_count": null,
   "metadata": {},
   "outputs": [],
   "source": [
    "# Dictionary Example\n",
    "points = {\"initiation_line\": 5,\n",
    "          \"pc_lower_auto\": 2, \"pc_outer_auto\": 4, \"pc_inner_auto\": 6,\n",
    "          \"pc_lower_tele\": 1, \"pc_outer_tele\": 2, \"pc_inner_tele\": 3,\n",
    "          \"cp_rotation\": 10, \"cp_position\": 20,\n",
    "          \"hang\": 20, \"park\": 5, \"level\": 15}\n",
    "\n",
    "msg = \"Points from 2 robots hanging off a level switch:\"\n",
    "print(msg, 2 * points[\"hang\"] + points[\"level\"])\n",
    "print(\"Data type is:\", type(points))"
   ]
  },
  {
   "cell_type": "markdown",
   "metadata": {},
   "source": [
    "Dictionaries are like lists because they can hold multiple values. But unlike lists, we can assign a name to each value. In the `points` dictionary above, the value *15* has been assigned the name `\"level\"`, and the value *20* has been assigned the name `\"hang\"`. We can access the individual values by placing the name in square brackets after the name of the dictionary.\n",
    "\n",
    "It's not entirely correct to use the term *name* in relation to dictionaries. The correct term is *key*. Dictionaries consist of one or more **key-value** pairs, with the *key* appearing before the colon,`:`, the *value* appearing after the colon, and commas separating the key-value pairs. The key-value pairs are enclosed in curly braces, (or just *braces*).\n",
    "\n",
    "Consider this simple dictionary:\n",
    "```Python\n",
    "dnary = {\"key1\": \"value1\", \"key2\": \"value2\"}\n",
    "```\n",
    "The strings \"key1\" and \"key2\" are the keys, and \"value1\" and \"value2\" are the values.\n",
    "\n",
    "### B. Data Types Allowed in Dictionaries\n",
    "Dictionaries are even more flexible than the previous examples suggest. Run the next cell."
   ]
  },
  {
   "cell_type": "code",
   "execution_count": null,
   "metadata": {},
   "outputs": [],
   "source": [
    "# Team Name Lookup Dictionary\n",
    "# Contains names of all PNW FRC teams with team numbers < 1000\n",
    "teams = {360: \"The Revolution\", 488: \"Team XBot\",\n",
    "         492: \"Titan Robotics Club\", 568: \"Nerds of the North\",\n",
    "         753: \"High Dessert Droids\", 847: \"PHRED\",\n",
    "         948: \"Newport Robotics Group\", 949: \"Wolvorine Robotics\",\n",
    "         955: \"CV Robotics\", 997: \"Spartan Robotics\"}\n",
    "\n",
    "teams[568]"
   ]
  },
  {
   "cell_type": "markdown",
   "metadata": {},
   "source": [
    "The keys for the `teams` dictionary are integers and the values are strings! This is the exact opposite of the `points` dictionary.\n",
    "\n",
    "It just so happens that a dictionary value can be *any Python data type*, including other composite types. Different values within the same dictionary can be different data types.\n",
    "\n",
    "*But not all data types can be keys.* Dictionary keys must be an *immutable* data type. We'll explain what an immutable data type is later. For now, you just need to know that all of the data types we've covered so far, except for lists, can be used as dictionary keys.\n",
    "\n",
    "When we say that all data types except for lists can be used as keys, and all data types can be values, we mean it. Run the cell below."
   ]
  },
  {
   "cell_type": "code",
   "execution_count": null,
   "metadata": {},
   "outputs": [],
   "source": [
    "# Weird Dictionaries you should never use!\n",
    "\n",
    "boolnary = {True: False, False: True}\n",
    "print(\"boolnary[True]:\", boolnary[True])\n",
    "print(\"boolnary[False]:\", boolnary[False])\n",
    "\n",
    "print()\n",
    "none_nary = {None: \"Something\", \"Something\": None}\n",
    "print(\"nonenary[None]:\", none_nary[None])\n",
    "print('nonenary[\"Something\"]:', none_nary[\"Something\"])"
   ]
  },
  {
   "cell_type": "markdown",
   "metadata": {},
   "source": [
    "Now that is interesting."
   ]
  },
  {
   "cell_type": "markdown",
   "metadata": {},
   "source": [
    "### C. Differences Between Lists and Dictionaries\n",
    "\n",
    "It's not obvious how a dictionary with an integer key is different form a list. Consider the `teams` dictionary above. We could achieve the same effect with a list. Run the cell below:"
   ]
  },
  {
   "cell_type": "code",
   "execution_count": null,
   "metadata": {},
   "outputs": [],
   "source": [
    "# Create an empty list\n",
    "teams_list = [None] * 1000\n",
    "\n",
    "# Assign team names\n",
    "teams_list[360] = \"The Revolution\"\n",
    "teams_list[488] = \"Team XBot\"\n",
    "teams_list[492] = \"Titan Robotics Club\"\n",
    "teams_list[568] = \"Nerds of the North\"\n",
    "teams_list[847] = \"PHRED\"\n",
    "teams_list[948] = \"Newport Robotics Group\"\n",
    "teams_list[949] = \"Wolvorine Robotics\"\n",
    "teams_list[955] = \"CV Robotics\"\n",
    "teams_list[997] = \"Spartan Robotics\"\n",
    "\n",
    "teams_list[568]"
   ]
  },
  {
   "cell_type": "markdown",
   "metadata": {},
   "source": [
    "Symantically, the `teams_list` list object appears the same as the `teams` dictionary object. We can put a team number in square brackets and get the name. The `teams_list` object actually has an advantage. Run the next cell to see it:"
   ]
  },
  {
   "cell_type": "code",
   "execution_count": null,
   "metadata": {},
   "outputs": [],
   "source": [
    "# Advantages of list\n",
    "print(\"PNW Team #9 is:\", teams_list[9])\n",
    "\n",
    "print(\"PNW Team #9 is:\", teams[9])"
   ]
  },
  {
   "cell_type": "markdown",
   "metadata": {},
   "source": [
    "If we pass in a team number that does not exist in the PNW district, the list give us the `None` object, which makes sense. But if we pass a team number (i.e., key) that does not exist in the `teams` dictionary, Python throws a KeyError.\n",
    "\n",
    "So why not use a list? Here's why:"
   ]
  },
  {
   "cell_type": "code",
   "execution_count": null,
   "metadata": {},
   "outputs": [],
   "source": [
    "# Comparison of memory used by list and dictionary\n",
    "\n",
    "# The next line is needed to use the getsizeof() method.\n",
    "#   We will cover import statements later, so dont' worry\n",
    "#   if you don't understand this line.\n",
    "import sys\n",
    "\n",
    "print(\"Bytes of memory required to store teams dictionary:\",\n",
    "      sys.getsizeof(teams))\n",
    "print(\"Bytes of memory required to store teams_list:\",\n",
    "      sys.getsizeof(teams_list))"
   ]
  },
  {
   "cell_type": "markdown",
   "metadata": {},
   "source": [
    "Holy Cra...ckers! The list takes 20 times more memory than the dictionary. Can you see why?\n",
    "\n",
    "The list is actually storing 9 strings and 991 references to the `None` object. The dictionary takes up less space because it doesn't store a bunch of references to the `None` object.\n",
    "\n",
    "We can get around the *KeyError* problem with the [dictionary's `get()` method](https://docs.python.org/3/library/stdtypes.html#mapping-types-dict)."
   ]
  },
  {
   "cell_type": "code",
   "execution_count": null,
   "metadata": {},
   "outputs": [],
   "source": [
    "print(\"PNW Team # 9 is:\", teams.get(9))"
   ]
  },
  {
   "cell_type": "markdown",
   "metadata": {},
   "source": [
    "### C. The `dict()` Function\n",
    "Every Python built-in data type has it's own function and dictionaries are no execption. Using braces to create dictionaries is very common, but another option is to use the `dict()` function."
   ]
  },
  {
   "cell_type": "code",
   "execution_count": null,
   "metadata": {},
   "outputs": [],
   "source": [
    "# Building dictionaries with the dict() function\n",
    "teams2 = dict([(360, \"The Revolution\"), (488, \"Team XBot\"),\n",
    "               (492, \"Titan Robotics Club\"),\n",
    "               (568, \"Nerds of the North\"), (753, \"Nerds of the North\"),\n",
    "               (847, \"PHRED\"), (948, \"Newport Robotics Group\"),\n",
    "               (949, \"Wolvorine Robotics\"), (955, \"CV Robotics\"),\n",
    "               (997, \"Spartan Robotics\")])\n",
    "teams2"
   ]
  },
  {
   "cell_type": "markdown",
   "metadata": {},
   "source": [
    "The `dict()` function takes a list of key-value pairs. Enclosing each key and value in parentheses turns them into *tuples*, another Python composite data type, which we will cover later in this session."
   ]
  },
  {
   "cell_type": "markdown",
   "metadata": {},
   "source": [
    "### D. Looping With Dictionaries.\n",
    "It's easy to loop through all items in a dictionary. Run the following cell."
   ]
  },
  {
   "cell_type": "code",
   "execution_count": null,
   "metadata": {},
   "outputs": [],
   "source": [
    "# Loop through dictionary\n",
    "for team in teams:\n",
    "    print(team)"
   ]
  },
  {
   "cell_type": "markdown",
   "metadata": {},
   "source": [
    "Using a plain dictionary with a *for* statement causes Python to loop over the dictionary keys. There is an easy solution if we want to loop over the values."
   ]
  },
  {
   "cell_type": "code",
   "execution_count": null,
   "metadata": {},
   "outputs": [],
   "source": [
    "# Looping over dictionary values\n",
    "for team in teams.values():\n",
    "    print(team)"
   ]
  },
  {
   "cell_type": "markdown",
   "metadata": {},
   "source": [
    "The `.values()` method of the dictionary object causes the *for* loop to iterate (fancy word for *loop*) over the dictionary values instead of the keys. What if we wanted to loop over both keys *and* values?"
   ]
  },
  {
   "cell_type": "code",
   "execution_count": null,
   "metadata": {},
   "outputs": [],
   "source": [
    "# Looping over keys AND values\n",
    "for key, value in teams.items():\n",
    "    print(value, \"'s team number is FRC \", key, sep=\"\")"
   ]
  },
  {
   "cell_type": "markdown",
   "metadata": {},
   "source": [
    "The dictionary object's `.items()` method allows us to iterate over both the key and value. Did you notice how we used the named argument `sep` to eliminate the spaces that are normally printed between arguments when using the `print()` function?\n",
    "\n",
    "Dictionaries also have a `.keys()` method for iterating over just the dictionary keys. It behaves the same as iterating over a plain dictionary. Some programmers (including the mentor) like to use the `.keys()` method because it makes it more obvious what is being iterated over. See the code cell below for an example."
   ]
  },
  {
   "cell_type": "code",
   "execution_count": null,
   "metadata": {},
   "outputs": [],
   "source": [
    "# Iterating with the .keys() method\n",
    "# Loop through dictionary\n",
    "for team in teams.keys():\n",
    "    print(team)"
   ]
  },
  {
   "cell_type": "markdown",
   "metadata": {},
   "source": [
    "**Important Note:** There is no guarantee that the order of results will stay the same when looping over a dictionary. CPython, the version of Python that we are using, generally returns dictionary keys and values in the order in which they were originally defined. Programmers should not rely on this behavior if they need the keys or values to be returned in a specific order because it could change without warning at any time. Programmers should explicitly sort their results or use a different data type if order is important. This behavior is different than lists. Lists are guaranteed to preserve order within loops and other programming constructs."
   ]
  },
  {
   "cell_type": "markdown",
   "metadata": {},
   "source": [
    "### E. Python Tutorial on Dictionaries\n",
    "Now work through [section 5.5 of the Python Tutorial](https://docs.python.org/3/tutorial/datastructures.html#dictionaries). Practice some of the examples below."
   ]
  },
  {
   "cell_type": "code",
   "execution_count": null,
   "metadata": {},
   "outputs": [],
   "source": [
    "# Python Dictionary Tutorial Examples\n",
    "\n"
   ]
  },
  {
   "cell_type": "markdown",
   "metadata": {},
   "source": [
    "### F. Dictionary Exercises\n",
    "**Ex. II.1.** Add three more PNW teams to the `teams` dictionary. Make sure you run the cell that defines the `teams` dictionary (see section II.B), or you will have trouble with this exercise."
   ]
  },
  {
   "cell_type": "code",
   "execution_count": null,
   "metadata": {},
   "outputs": [],
   "source": [
    "# Ex II.1:\n",
    "\n"
   ]
  },
  {
   "cell_type": "markdown",
   "metadata": {},
   "source": [
    "**Ex. II.2.** Change the name of one of the teams in the `teams` dictionary. Make something up."
   ]
  },
  {
   "cell_type": "code",
   "execution_count": null,
   "metadata": {},
   "outputs": [],
   "source": [
    "# Ex II.2:\n",
    "\n"
   ]
  },
  {
   "cell_type": "markdown",
   "metadata": {},
   "source": [
    "**Ex. II.3.** Use the `del` keyword to remove one of the teams from the dictionary. Use the `len()` function to show that the team was removed. [See section 5.2 of the official Python tutorial if you need a refresher on the `del` statement](https://docs.python.org/3/tutorial/datastructures.html#the-del-statement)."
   ]
  },
  {
   "cell_type": "code",
   "execution_count": null,
   "metadata": {},
   "outputs": [],
   "source": [
    "# Ex II.3:\n",
    "\n"
   ]
  },
  {
   "cell_type": "markdown",
   "metadata": {},
   "source": [
    "**Ex. II.4.** Create a dictionary of fictional characters from books, movies, or TV shows. The key will be the name of the character and the value will be the title of the book, movie, or TV show in which the character is featured."
   ]
  },
  {
   "cell_type": "code",
   "execution_count": null,
   "metadata": {},
   "outputs": [],
   "source": [
    "# Ex II.4:\n",
    "\n"
   ]
  },
  {
   "cell_type": "markdown",
   "metadata": {},
   "source": [
    "**Ex. II.5.** Pick one of the characters in your dictionary and print a sentence that includes the characters name and the title of the book, movie, or TV show in which they are featured. Use your dictionary to get the title (don't type it in manually)."
   ]
  },
  {
   "cell_type": "code",
   "execution_count": null,
   "metadata": {},
   "outputs": [],
   "source": [
    "# Ex II.5:\n",
    "\n"
   ]
  },
  {
   "cell_type": "markdown",
   "metadata": {},
   "source": [
    "**Ex. II.6.** Use a *for* loop to print a list of the character names."
   ]
  },
  {
   "cell_type": "code",
   "execution_count": null,
   "metadata": {},
   "outputs": [],
   "source": [
    "# Ex II.6:\n",
    "\n"
   ]
  },
  {
   "cell_type": "markdown",
   "metadata": {},
   "source": [
    "**Ex. II.7.** Use a *for* loop to print a list of the titles."
   ]
  },
  {
   "cell_type": "code",
   "execution_count": null,
   "metadata": {},
   "outputs": [],
   "source": [
    "# Ex II.7:\n",
    "\n"
   ]
  },
  {
   "cell_type": "markdown",
   "metadata": {},
   "source": [
    "**Ex. II.8.** Use a *for* loop to print a sentence for each character. The sentence should include both the character's name and the title of the book, movie, or TV show in which they are featured."
   ]
  },
  {
   "cell_type": "code",
   "execution_count": null,
   "metadata": {},
   "outputs": [],
   "source": [
    "# Ex II.8:\n",
    "\n"
   ]
  },
  {
   "cell_type": "markdown",
   "metadata": {},
   "source": [
    "**Ex. II.9.** Using the `teams` dictionary, find the FRC team name that comes last in alphabetical order.\n",
    "\n",
    "Hints:\n",
    "* Strings can be compared with `<`, `=`, and `>` operators to determine alphabetical order *if the characters are all the same case.* Consider using the string ojects `.uppper()` or `.lower()` methods."
   ]
  },
  {
   "cell_type": "code",
   "execution_count": null,
   "metadata": {},
   "outputs": [],
   "source": [
    "# Ex II.9:\n",
    "\n"
   ]
  },
  {
   "cell_type": "markdown",
   "metadata": {},
   "source": [
    "## III. Tuples\n",
    "### A. Introduction to Tuples\n",
    "A tuple (pronounced *too-pul*, not *tuh-pul*) is an ordered sequence of items, similar to a list. Tuples are written with parentheses instead of square brackets."
   ]
  },
  {
   "cell_type": "code",
   "execution_count": null,
   "metadata": {},
   "outputs": [],
   "source": [
    "# Our first tuple\n",
    "# The parenthesis tell Python that the sequence should be a\n",
    "#   tuple (instead of a list)\n",
    "tuple1 = (1, 2, 3, 4, 5)\n",
    "\n",
    "print(\"Data type:\", type(tuple1))\n",
    "print(\"Tuple data:\", tuple1)\n",
    "print(\"Tuple length:\", len(tuple1))\n",
    "print(\"First tuple element:\", tuple1[0])\n",
    "print(\"Last tuple element:\", tuple1[-1])\n",
    "print(\"Middle tuple elements:\", tuple1[1:4])"
   ]
  },
  {
   "cell_type": "markdown",
   "metadata": {},
   "source": [
    "In many ways, we can use tuples just like we use lists. We can access individual tuple items with square brackets and integer indices, e.g., `tuple1[1]` gets the second element. We can also use the `len()` function to get the length of a tuple. Tuples and lists are both considered to be *sequence types*."
   ]
  },
  {
   "cell_type": "markdown",
   "metadata": {},
   "source": [
    "### B. Immutability of Tuples\n",
    "You may be wondering why we have tuples if we already have lists. That's a good question. To understand the answer, we need to know a bit more about Python data types.\n",
    "\n",
    "The short answer to the question of why we need both tuples and lists is that tuples are immutable and lists are mutable. Immutable objects like tuples cannot be changed after they are created. Mutable objects like lists can be changed. Run both code cells below for a demonstration."
   ]
  },
  {
   "cell_type": "code",
   "execution_count": null,
   "metadata": {},
   "outputs": [],
   "source": [
    "# Mutability Example\n",
    "list2 = [10, 9, 8, 7, 6]\n",
    "\n",
    "# We can change an item in the list\n",
    "# The ID value will stay the same, meaning the list2\n",
    "#   refers to the same object in memory before and after\n",
    "#   the change.\n",
    "print(\"list2's ID value:\", id(list2))\n",
    "list2[0] = \"new value\"\n",
    "print(\"list2 has been changed:\", list2)\n",
    "print(\"list2's ID value is still the same:\", id(list2))"
   ]
  },
  {
   "cell_type": "code",
   "execution_count": null,
   "metadata": {},
   "outputs": [],
   "source": [
    "# Immutability Example\n",
    "tuple2 = (10, 9, 8, 7, 6)\n",
    "\n",
    "# Attempting to change a tuple element will cause an error!\n",
    "tuple2[0] = \"new value\""
   ]
  },
  {
   "cell_type": "code",
   "execution_count": null,
   "metadata": {},
   "outputs": [],
   "source": [
    "# Attempting to append an item to a tuple will cause an error!\n",
    "tuple2.append(5)"
   ]
  },
  {
   "cell_type": "markdown",
   "metadata": {},
   "source": [
    "Now you are probably wondering why we need immutable objects. There are several advantages to having an immutable sequence data type (i.e., tuple) in the Python language.\n",
    "* If we know that a sequence should never change, then using a tuple instead of a list to represent the sequence guarantees it will never change. We won't have to write extra code to check that the sequence stayed the same.\n",
    "* Using a tuple instead of a list makes it clear to someone reading the code that the sequence will never change.\n",
    "* Immutable data types, like tuples, can be used as dictionary keys. Mutable data types like lists cannot be used as dictionary keys. We'll discuss why you might want to use a tuple as a dictionary key later on.\n",
    "\n",
    "There are some materials online suggesting that because tuples are immutable, they take less memory and can be manipulated faster. The memory and speed advantages of tuples over lists are small. The mentor suspects that unless you are creating a hundred-thousand sequences or more, you won't notice the memory or speed advantage.\n",
    "\n",
    "There are other materials online (including the official Python tutorial) suggesting that lists are intended for homogeneous sequences, where all list items are the same data type, and tuples are intended for heterogeneous sequences. See below for examples of heterogeneous and homogeneous sequences."
   ]
  },
  {
   "cell_type": "code",
   "execution_count": null,
   "metadata": {},
   "outputs": [],
   "source": [
    "# Homogeneous and Heterogeneous Sequences\n",
    "\n",
    "# Homogeneous\n",
    "homogeneous_tuple = (1, 2, 3)\n",
    "homogeneous_list = (\"This\", \"list\", \"is\", \"homogeneous\")\n",
    "print(\"Homogeneous Sequences\")\n",
    "print(\"tuple:\", homogeneous_tuple)\n",
    "print(\"list:\", homogeneous_list)\n",
    "print()\n",
    "\n",
    "# Heterogeneous\n",
    "heterogeneous_tuple = (1, 3.14, \"five\")\n",
    "heterogeneous_list = [\"99\", None, False]\n",
    "print(\"Heterogeneous Sequences\")\n",
    "print(\"tuple:\", heterogeneous_tuple)\n",
    "print(\"list:\", heterogeneous_list)"
   ]
  },
  {
   "cell_type": "markdown",
   "metadata": {},
   "source": [
    "The mentor doesn't buy the argument that lists should be homogeneous and tuples are should be heterogeneous. The example above shows that both lists and tuples support heterogeneous sequences just fine. Furthermore, the mentor has used heterogeneous lists in his own projects and has never encountered any problem from doing so."
   ]
  },
  {
   "cell_type": "markdown",
   "metadata": {},
   "source": [
    "### C. Tuple Packing and Unpacking\n",
    "Tuples are used frequently in Python. Sometimes you don't even notice them. Remember our program for calculating the terms of the Fibonacci sequence? The version in the Python tutorial is slightly different, as shown below."
   ]
  },
  {
   "cell_type": "code",
   "execution_count": null,
   "metadata": {},
   "outputs": [],
   "source": [
    "# Fibonacci series:\n",
    "# the sum of two elements defines the next\n",
    "a, b = 0, 1\n",
    "while a < 10:\n",
    "    print(a)\n",
    "    a, b = b, a+b  # This statement uses tuples."
   ]
  },
  {
   "cell_type": "markdown",
   "metadata": {},
   "source": [
    "See the statement `a, b = 0, 1`? This single statement assigns two different values to two different variables. This is an example of two techniques: tuple packing and tuple unpacking.\n",
    "\n",
    "You don't always actually need parentheses to create a tuple, but you must have a comma. Run the next cell."
   ]
  },
  {
   "cell_type": "code",
   "execution_count": null,
   "metadata": {},
   "outputs": [],
   "source": [
    "# Creating Tuples\n",
    "\n",
    "# Placing a comma after a value creates a tuple of length 1\n",
    "print(\"Single element tuple\")\n",
    "tuple3 = 5,\n",
    "print(\"Data Type:\", type(tuple3))\n",
    "print(\"Value:\", tuple3[0])\n",
    "print()\n",
    "\n",
    "# Tuple packing: packing multiple values into a tuple.\n",
    "print(\"Tuple Packing\")\n",
    "tuple4 = \"this\", \"is\", \"tuple\", \"packing\"\n",
    "print(\"Data Type:\", type(tuple4))\n",
    "print(\"Data\", tuple4)\n",
    "print()\n",
    "\n",
    "# Tuple unpacking: extracting multiple values from a tuple.\n",
    "print(\"Tuple Unpacking\")\n",
    "wd1, wd2, wd3, wd4 = tuple4\n",
    "print(\"Data Type:\", type(wd1))\n",
    "print(\"Unpacked Tuple data:\", wd1, wd2, wd3, \"un-\", wd4)\n",
    "print()\n",
    "\n",
    "# Lists can be unpacked as well\n",
    "print(\"List Unpacking\")\n",
    "list3 = [1, 2]\n",
    "num1, num2 = list3\n",
    "print(\"Unpacked list data:\", num1, num2)"
   ]
  },
  {
   "cell_type": "markdown",
   "metadata": {},
   "source": [
    "Separating different values with commas causes Python to combine the items into a tuple. Using commas on the left side of an assignment statement to separate variables causes Python to extract the items from the tuple or list and assign them to the separate variables. The number of variables must match the length of the list or tuple, or else Python will throw an error."
   ]
  },
  {
   "cell_type": "code",
   "execution_count": null,
   "metadata": {},
   "outputs": [],
   "source": [
    "# Error if number of variables does not match length of tuple\n",
    "#   or list during unpacking\n",
    "v1, v2 = (1, 2, 3)"
   ]
  },
  {
   "cell_type": "markdown",
   "metadata": {},
   "source": [
    "Tuple packing and unpacking is used frequently in Python and allows for compact code. Consider variable swapping. In many programming languages, three lines of code are required to swap the values in two variables."
   ]
  },
  {
   "cell_type": "code",
   "execution_count": null,
   "metadata": {},
   "outputs": [],
   "source": [
    "# Variable Swapping Example\n",
    "# Setup\n",
    "v3 = 3\n",
    "v4 = 4\n",
    "\n",
    "# Traditional swapping\n",
    "swap = v3\n",
    "v3 = v4\n",
    "v4 = swap\n",
    "print(\"After first swap:\", v3, v4)\n",
    "\n",
    "# Swapping with tuple unpacking\n",
    "v3, v4 = v4, v3\n",
    "print(\"After second swap:\", v3, v4)"
   ]
  },
  {
   "cell_type": "markdown",
   "metadata": {},
   "source": [
    "The traditional method for variable swapping requires using a third temporary variable (`swap` in our example) to hold one of the values during the swap. But in Python we can swap variables by packing both values into a tuple and then unpacking the tuple in reverse order.\n",
    "\n",
    "We can also use tuple packing and unpacking with the `return` statement."
   ]
  },
  {
   "cell_type": "code",
   "execution_count": null,
   "metadata": {},
   "outputs": [],
   "source": [
    "# Packing and Unpacking with return statements.\n",
    "def return_two_things():\n",
    "    return \"thing1\", \"thing2\"\n",
    "\n",
    "print(type(return_two_things()))\n",
    "t1, t2 = return_two_things()\n",
    "print(\"Unpacked Return Values:\", t1, t2)"
   ]
  },
  {
   "cell_type": "markdown",
   "metadata": {},
   "source": [
    "### D. The `tuple()` Function\n",
    "Just like all other Python built-in data types, there is a `tuple()` function that will create a tuple from a list other iterable item."
   ]
  },
  {
   "cell_type": "code",
   "execution_count": null,
   "metadata": {},
   "outputs": [],
   "source": [
    "# tuple() function examples\n",
    "list5 = [1, 2, 3]\n",
    "print(\"List data type:\", type(list5))\n",
    "print(\"Data type after conversion with tuple():\", type(tuple(list5)))"
   ]
  },
  {
   "cell_type": "markdown",
   "metadata": {},
   "source": [
    "### E. Python Tutorial on Tuples\n",
    "Work through [section 5.3 of the official Python tutorial on tuples](https://docs.python.org/3/tutorial/datastructures.html#tuples-and-sequences). Practice the examples from the tutorial below."
   ]
  },
  {
   "cell_type": "code",
   "execution_count": null,
   "metadata": {},
   "outputs": [],
   "source": [
    "# Python Tutorial Tuple Examples\n",
    "\n"
   ]
  },
  {
   "cell_type": "markdown",
   "metadata": {},
   "source": [
    "## IV. Putting Composite Data Types in Other Composite Data Types\n",
    "One of the interesting things about composite data types is they can contain other composite data types. Dictionaries and lists are often combined to make very interesting and sophisticated data types.\n",
    "\n",
    "Let's look at an example. Run the cell below to load some data from a text file. This cell has some extra code that allows it to run on your local computer and on Google Colab."
   ]
  },
  {
   "cell_type": "code",
   "execution_count": null,
   "metadata": {},
   "outputs": [],
   "source": [
    "# The code below loads data from a text file and converts the\n",
    "#   text data to a Python composite data structure. We will cover\n",
    "#   the techniques used here in detail later on in the course.\n",
    "import json\n",
    "import urllib.request\n",
    "\n",
    "try:\n",
    "    # This section works if running notebook on local computer\n",
    "    with open(\"wasno2020.json\", \"rt\") as sched_file:\n",
    "        sched = json.load(sched_file)\n",
    "except FileNotFoundError:\n",
    "    # This section takes over if using Google Colab\n",
    "    url = (\"https://raw.githubusercontent.com/irs1318dev/pyclass_frc/master/\"\n",
    "           \"sessions/s07_composite_data/wasno2020.json\")\n",
    "    with urllib.request.urlopen(url) as response:\n",
    "        sched = json.load(response)\n",
    "\n",
    "print(\"Data type of sched:\", type(sched))"
   ]
  },
  {
   "cell_type": "markdown",
   "metadata": {},
   "source": [
    "We can see that the data from the text file has been converted into a Python dictionary. Run the next cell to see it's content."
   ]
  },
  {
   "cell_type": "code",
   "execution_count": null,
   "metadata": {},
   "outputs": [],
   "source": [
    "# Viewing sched dictionary\n",
    "sched"
   ]
  },
  {
   "cell_type": "markdown",
   "metadata": {},
   "source": [
    "Whoa. That's a lot of content.\n",
    "\n",
    "The `sched` dictionary contains the official match schedule from the 2020 FRC competition at Glacier Peak H.S. in Snohomish, WA, which occurred on 29 Feb and 1 Mar 2020. This data was downloaded from the FIRST API server, which is operated by FIRST headquarters in New Hampshire.\n",
    "\n",
    "A reasonable question to ask would be \"How many keys does the `sched` dictionary have? It's a pain to figure that out manually because there is so much data. Let's have Python figure it out for us."
   ]
  },
  {
   "cell_type": "code",
   "execution_count": null,
   "metadata": {},
   "outputs": [],
   "source": [
    "# sched dictionary keys\n",
    "list(sched.keys())"
   ]
  },
  {
   "cell_type": "markdown",
   "metadata": {},
   "source": [
    "Interesting. There is only one key named *Schedule*. Let's see what that contains."
   ]
  },
  {
   "cell_type": "code",
   "execution_count": null,
   "metadata": {},
   "outputs": [],
   "source": [
    "# Exploring sched[\"Schedule\"]\n",
    "print(type(sched[\"Schedule\"]))"
   ]
  },
  {
   "cell_type": "markdown",
   "metadata": {},
   "source": [
    "Cool. It's a list. How long is it?"
   ]
  },
  {
   "cell_type": "code",
   "execution_count": null,
   "metadata": {},
   "outputs": [],
   "source": [
    "len(sched[\"Schedule\"])"
   ]
  },
  {
   "cell_type": "markdown",
   "metadata": {},
   "source": [
    "The `sched` dictionary contains one item, which is itself a list of length 74. The list contains one item for each of the 74 qualification matches at the Glacier Peak competition. Let's look at the first match."
   ]
  },
  {
   "cell_type": "code",
   "execution_count": null,
   "metadata": {},
   "outputs": [],
   "source": [
    "sched[\"Schedule\"][0]"
   ]
  },
  {
   "cell_type": "markdown",
   "metadata": {},
   "source": [
    "The first item in the list is a dictionary. If you've been keeping track, then you've noticed that we have a dictionary stored within a list withing a dictionary. This is what we're talking about when we refer to placing composite data types within other composite data types. And we can drill down even further - the *teams* key refers to yet another list, which contains several dictionaries. "
   ]
  },
  {
   "cell_type": "markdown",
   "metadata": {},
   "source": [
    "## V. Immutable Data Types\n",
    "We discussed earlier how lists and dictionaries are mutable and tuples are immutable. What about the scalar data types such as integers, floats, and strings? Run the following cells."
   ]
  },
  {
   "cell_type": "code",
   "execution_count": null,
   "metadata": {},
   "outputs": [],
   "source": [
    "# Integer Example\n",
    "var1 = 999\n",
    "print(\"ID number of var1:\", id(var1))\n",
    "var1 += 1\n",
    "print(\"ID number of var1 after addition:\", id(var1))"
   ]
  },
  {
   "cell_type": "code",
   "execution_count": null,
   "metadata": {},
   "outputs": [],
   "source": [
    "# Float Example\n",
    "var2 = 999.0\n",
    "print(\"ID number of var1:\", id(var2))\n",
    "var2 += 1\n",
    "print(\"ID number of var1 after addition:\", id(var2))"
   ]
  },
  {
   "cell_type": "markdown",
   "metadata": {},
   "source": [
    "See how the ID number of `var1` and `var2` changed when we added 1 to their values? This reveals some of Python's inner workings. The `var1` variable contains an integer object and `var2` contains a float. Both variables are initially set to the value 999. When we added one to this `var1` and `var2`, instead of modifying the value for the original integer or float object, Python created brand new objects with values of 1000 and assigned `var1` and `var2` to reference these new objects.\n",
    "\n",
    "Python integers and floats are immutable. Once created, Python cannot change the value of an integer or float object. We don't normally notice because Python is good at creating new integer and float objects on the fly and assigning the variable we're using to point to these objects.\n",
    "\n",
    "But what about strings? Run the following cell."
   ]
  },
  {
   "cell_type": "code",
   "execution_count": null,
   "metadata": {},
   "outputs": [],
   "source": [
    "# String Example\n",
    "str1 = \"everyone can go pro\"\n",
    "str[0] = \"E\""
   ]
  },
  {
   "cell_type": "markdown",
   "metadata": {},
   "source": [
    "In the example above, we attempted to change the first character in the string, but Python wouldn't let us do it. Python strings are immutable, just like floats and integers. We can't alter a string object once created, but we can create a new string object by modifying the original string object.\n",
    "\n",
    "So are strings a composite or scalar data type? In some ways they behave like a scalar data type because we can use square bracket syntax, e.g., `str[0:5]` to extract individual characters. But on the other hand strings are immutable and they cannot contain other data types. The general consensus is that Python strings are a scalar data type."
   ]
  },
  {
   "cell_type": "markdown",
   "metadata": {},
   "source": [
    "## VI. More Exercises\n",
    "**Ex. VI.1.** Using the `sched` variable, find the scheduled start time for match 49. (Remember, the first element in a Python list is at index 0.)"
   ]
  },
  {
   "cell_type": "code",
   "execution_count": null,
   "metadata": {},
   "outputs": [],
   "source": [
    "# Ex. VI.1:\n"
   ]
  },
  {
   "cell_type": "markdown",
   "metadata": {},
   "source": [
    "**Ex. VI.2.** Find the team at station *Blue2* in qualification match 71."
   ]
  },
  {
   "cell_type": "code",
   "execution_count": null,
   "metadata": {},
   "outputs": [],
   "source": [
    "# Ex. VI.2:\n",
    "\n"
   ]
  },
  {
   "cell_type": "markdown",
   "metadata": {},
   "source": [
    "**Ex. VI.3** Unpack the tuple below into three variables."
   ]
  },
  {
   "cell_type": "code",
   "execution_count": null,
   "metadata": {},
   "outputs": [],
   "source": [
    "# Ex. VI.3:\n",
    "up_tpl = (\"unpack\", \"this\", \"tuple\")\n"
   ]
  },
  {
   "cell_type": "markdown",
   "metadata": {},
   "source": [
    "**Ex. VI.4.** Reverse the tuple below. The result should be a tuple."
   ]
  },
  {
   "cell_type": "code",
   "execution_count": null,
   "metadata": {},
   "outputs": [],
   "source": [
    "# Ex VI.4:\n",
    "rtuple = (1, 2)\n"
   ]
  },
  {
   "cell_type": "markdown",
   "metadata": {},
   "source": [
    "**Ex. VI.5.** Create a to-do list program using a dictionary of lists.\n",
    "\n",
    "Write code that stores a to-do list for each day of the week (Sunday through Saturday). Your program needs to have the following elements:\n",
    "\n",
    "- An empty dictionary to store information\n",
    "- A key in the dictionary for each day of the week\n",
    "- Each key has a value of a list that stores the to-do list items\n",
    "\n",
    "- User can type \"add\" and the program will ask what day, then ask what item to add to that day. Ensure the user can add multiple items per day. (That is, ensure that this adds a new item, not replaces an existing item.)\n",
    "- User can type \"get\" and the program will ask for the day and print the values\n",
    "- The program will loop, using a while loop, until the user specifies \"quit\"\n",
    "\n",
    "- Some user error checking is required, specifically: upper/lowercase for the days of the week, incorrect day of the week, or an incorrect command\n",
    "- ** Hint: This task requires you to use tools you learned about in Unit 2 (\"if\" and \"loops\") along with dictionaries and lists.**\n",
    "\n",
    "Example:\n",
    "```\n",
    "Prompt: What would you like to do?\n",
    "> add\n",
    "\n",
    "Prompt: What day?\n",
    "> Friday\n",
    "\n",
    "Prompt: What would you like to add to Friday's to-do list?\n",
    "> practice clarinet\n",
    "\n",
    "Prompt: What would you like to do?\n",
    "> get\n",
    "\n",
    "Prompt: What day?\n",
    "> funday\n",
    "Invalid entry - please enter a correct day of the week (like Monday or monday).\n",
    "\n",
    "Prompt: What day?\n",
    "> friday\n",
    "\n",
    "Response: You have to practice clarinet.\n",
    "\n",
    "Prompt: What would you like to do?\n",
    "> quit\n",
    "\n",
    "Response: Ending program. Thank you for using the to-do list!\n",
    "```"
   ]
  },
  {
   "cell_type": "code",
   "execution_count": null,
   "metadata": {},
   "outputs": [],
   "source": [
    "# Ex VI.5:\n",
    "\n",
    "\n",
    "\n",
    "\n",
    "\n",
    "\n"
   ]
  },
  {
   "cell_type": "markdown",
   "metadata": {},
   "source": [
    "## VII. Quiz\n",
    "Answer the following questions by typing the answers as comments in the code block below each question."
   ]
  },
  {
   "cell_type": "markdown",
   "metadata": {},
   "source": [
    "**#1.** One of these lines of code will create an error. Which one? Why?\n",
    "```python\n",
    "dvar1 = {[1, 2]: \"three\"}\n",
    "dvar2 = {(1, 2): \"three\"}\n",
    "```"
   ]
  },
  {
   "cell_type": "code",
   "execution_count": null,
   "metadata": {},
   "outputs": [],
   "source": [
    "#\n",
    "#"
   ]
  },
  {
   "cell_type": "markdown",
   "metadata": {},
   "source": [
    "**#2.** Which of the data types listed below are mutable?\n",
    "* string \n",
    "* integer\n",
    "* float\n",
    "* list\n",
    "* tuple\n",
    "* dictionary\n",
    "* boolean"
   ]
  },
  {
   "cell_type": "code",
   "execution_count": null,
   "metadata": {},
   "outputs": [],
   "source": [
    "#\n",
    "#"
   ]
  },
  {
   "cell_type": "markdown",
   "metadata": {},
   "source": [
    "**#3.** What method can be used to loop over a dictionaries keys *and* values?"
   ]
  },
  {
   "cell_type": "code",
   "execution_count": null,
   "metadata": {},
   "outputs": [],
   "source": [
    "#\n",
    "#"
   ]
  },
  {
   "cell_type": "markdown",
   "metadata": {},
   "source": [
    "## VIII. Save Your Work\n",
    "Once you have completed the exercises, save a copy of the notebook outside of the git repository (outside of the *pyclass_frc* folder). Include your name in the file name. Send the notebook file to another student to check your answers."
   ]
  },
  {
   "cell_type": "markdown",
   "metadata": {},
   "source": [
    "## IX. Concept and Terminology Review\n",
    "You should be able to define the following terms or describe the concept.\n",
    "* Composite data type\n",
    "* Immutable data Type\n",
    "* Mutable data type\n",
    "* Dictionary\n",
    "* Key\n",
    "* Value\n",
    "* `dict()` function\n",
    "* Looping with dictionaries\n",
    "* `.keys()` method\n",
    "* `.values()` method\n",
    "* `.items()` method\n",
    "* Tuples\n",
    "* Tuple packing\n",
    "* Tuple unpackign\n",
    "* `tuple()` function\n",
    "* Composite data types that contain other composite data types."
   ]
  },
  {
   "cell_type": "markdown",
   "metadata": {},
   "source": [
    "[Table of Contents](../../index.ipynb)"
   ]
  }
 ],
 "metadata": {
  "kernelspec": {
   "display_name": "Python 3 (ipykernel)",
   "language": "python",
   "name": "python3"
  },
  "language_info": {
   "codemirror_mode": {
    "name": "ipython",
    "version": 3
   },
   "file_extension": ".py",
   "mimetype": "text/x-python",
   "name": "python",
   "nbconvert_exporter": "python",
   "pygments_lexer": "ipython3",
   "version": "3.9.6"
  }
 },
 "nbformat": 4,
 "nbformat_minor": 4
}
