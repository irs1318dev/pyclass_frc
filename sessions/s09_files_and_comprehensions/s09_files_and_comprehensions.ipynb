{
 "cells": [
  {
   "cell_type": "markdown",
   "metadata": {},
   "source": [
    "[Table of Contents](../../index.ipynb)"
   ]
  },
  {
   "cell_type": "markdown",
   "metadata": {},
   "source": [
    "# FRC Analytics with Python - Session 10\n",
    "# File Operations and Comprehensions\n",
    "**Last Updated: 15 December 2020**  \n",
    "\n",
    "Honestly, file operations and comprehensions don't have much in common with each other. They are combined here because they fit together nicely in one session."
   ]
  },
  {
   "cell_type": "markdown",
   "metadata": {},
   "source": [
    "## I. File Operations"
   ]
  },
  {
   "cell_type": "markdown",
   "metadata": {},
   "source": [
    "### A. Reading Data From a Text File\n",
    "I'm sure you all understand why the ability to read or write to files is essential. So we'll just jump right in.\n",
    "\n",
    "Python contains a built-in function called `open()`, which we'll use to work with files. Let's open and read data from our first file."
   ]
  },
  {
   "cell_type": "code",
   "execution_count": null,
   "metadata": {},
   "outputs": [],
   "source": [
    "# Opening a file and displaying contents\n",
    "txtfile = open(r\"hopper.txt\", \"rt\")     # Line 1\n",
    "txt = txtfile.read()                    # Line 2\n",
    "txtfile.close()                         # Line 3\n",
    "print(txt[:454])                        # Line 4"
   ]
  },
  {
   "cell_type": "markdown",
   "metadata": {},
   "source": [
    "#### 1. Line 1 - The `open()` Function"
   ]
  },
  {
   "cell_type": "markdown",
   "metadata": {},
   "source": [
    "##### a. First Parameter - File Path\n",
    "First, in line 1, we called the `open()` function and the first paramter was a file name, `\"hopper.txt\"`. As written, with just the file name, the `open()` function will expect the *hopper.txt* file to be located in the same folder as this notebook. If *hopper.txt* were located in some other folder, `open()` would throw an error. There are several ways to tell `open()` to look in different folders.\n",
    "\n",
    "* **Relative Path to Subfolder:** Referring to files in subfolders of the current folder is easy. Just prepend the folder name and a forward slash to the file name. For example, if *hopper.txt* was in a subfolder called *text_files*, we would pass this value to `open()`: *`\"text_files/hopper.txt\"`*\n",
    "* **Relative Path to Parent Folder:** Adding two periods (*`..`*) to the path tells Python to go to up one folder. For example, if *hopper.txt* was located in the parent folder of this notebook, we would pass *`\"../hopper.txt\"`* to `open()`. If *hopper.txt* was two folders up, we would pass *`\"../../hopper.txt\"`*.\n",
    "* **Relative Paths to Sibling Folders:** The techniques in the previous two examples can be combined to get to a sibling folder. For example, *`\"../brilliant_computer_scientists/hopper.txt\"`* will jump up to a parent folder and then down to a sibling folder called *brilliant_computer_scientists*.\n",
    "* **Absolute Paths:** An absolute path, starting with the root folder, can refer to any file on the computer. For example, *`\"C:/Users/stacy/Projects/pyclass_frc/sessions/s10_comprehensions_and_files/hopper.txt\"`* is an absolute path on a Windows computer.  On a linux system the path might look like *`\"/home/Users/stacy/Projects/pyclass_frc/sessions/s10_comprehensions_and_files/hopper.txt\"`* and on an apple computer it might look like *`\"/Users/stacy/Projects/pyclass_frc/sessions/s10_comprehensions_and_files/hopper.txt\"`*\n",
    "\n",
    "Avoid absolute paths. If we used the path *`\"C:/Users/stacy/Projects/pyclass_frc/sessions/s10_comprehensions_and_files/hopper.txt\"`* to get to the *hopper.txt* file, then the code would only work for users named Stacy who are using a Windows machine. It's better to use relative paths."
   ]
  },
  {
   "cell_type": "markdown",
   "metadata": {},
   "source": [
    "##### b. Changing the Working Directory\n",
    "An alternative to passing long file paths to the `open()` function is to change the working directory. Unless you specify otherwise, Python will assume all files are located in the working directory. Let's display our current working directory for this Jupyter notebook."
   ]
  },
  {
   "cell_type": "code",
   "execution_count": null,
   "metadata": {},
   "outputs": [],
   "source": [
    "# Display the current working directory (CWD)\n",
    "import os\n",
    "def_cwd = os.getcwd()\n",
    "def_cwd"
   ]
  },
  {
   "cell_type": "markdown",
   "metadata": {},
   "source": [
    "The `getcwd()` function in the `os` module displays the current working directory.\n",
    "By default, the working directory for a Jupyter notebook is the folder that the notebook file (*.ipynb* file) is stored in."
   ]
  },
  {
   "cell_type": "code",
   "execution_count": null,
   "metadata": {},
   "outputs": [],
   "source": [
    "# Change the CWD\n",
    "os.chdir(\"misc_files\")\n",
    "os.getcwd()"
   ]
  },
  {
   "cell_type": "markdown",
   "metadata": {},
   "source": [
    "Our current working directory is now the *misc_files* folder. Let's change back to our original working directory."
   ]
  },
  {
   "cell_type": "code",
   "execution_count": null,
   "metadata": {},
   "outputs": [],
   "source": [
    "# Restore the original CWD\n",
    "os.chdir(def_cwd)\n",
    "os.getcwd()"
   ]
  },
  {
   "cell_type": "markdown",
   "metadata": {},
   "source": [
    "##### c. Working Directory for Modules Run from Command Line\n",
    "The situtation is a little different when running Python modules from a command line. To demonstrate, we've placed a simple python module, *cwd.py* in the *misc_files* folder. The *cwd.py* file prints it's current working directory. Here are it's contents:\n",
    "\n",
    "```python\n",
    "import os\n",
    "\n",
    "print()\n",
    "print(\"Current Working Directory\")\n",
    "print(os.getcwd())\n",
    "```\n",
    "\n",
    "Let's see what the CWD is when we run *cwd.py* from a parent folder. We can execute *Command Prompt* commands from a *Jupyter* code cell by starting the line with `!`. (Unfortunately we can't run *PowerShell* from code cells.)"
   ]
  },
  {
   "cell_type": "code",
   "execution_count": null,
   "metadata": {},
   "outputs": [],
   "source": [
    "# First, verify that cwd.py is located in the misc_files subfolder.\n",
    "!dir misc_files /B"
   ]
  },
  {
   "cell_type": "code",
   "execution_count": null,
   "metadata": {},
   "outputs": [],
   "source": [
    "# Run cwd.py from a parent folder\n",
    "!python misc_files/cwd.py"
   ]
  },
  {
   "cell_type": "markdown",
   "metadata": {},
   "source": [
    "Interesting! The *cwd.py* file is located in the *misc_files* subfolder, but the current directory is not set to *misc_files*. It's set to the parent folder from which we *ran* *cwd.py*. Now let's run *cwd.py* from the *misc_files* subfolder."
   ]
  },
  {
   "cell_type": "code",
   "execution_count": null,
   "metadata": {},
   "outputs": [],
   "source": [
    "# Run cwd.py from it's own folder\n",
    "# Note that you can cram two commands onto one line with '&&'.\n",
    "!cd misc_files && python cwd.py"
   ]
  },
  {
   "cell_type": "markdown",
   "metadata": {},
   "source": [
    "When we first changed directories to *misc_files* and then ran *cwd.py* from that directory, Python's current working directory was set to *misc_files*. \n",
    "\n",
    "The bottom line is that when running a Python module from a command line, the current working diretory will initially be set to the *folder from which we ran the module*, not the folder the module is located in. These two folders will often be the same folder, but not always."
   ]
  },
  {
   "cell_type": "markdown",
   "metadata": {},
   "source": [
    "##### d. Second Parameter - The Mode Parameter\n",
    "The second parameter, `\"rt\"` specifies the mode. The first letter, `\"r\"`, specifies that we want to open the file for reading data. We can write data to a file by replacing `\"r\"` with `\"w\"`. If the file already exists, using `\"w\"` will overwrite the file. The value `\"x\"` can also be used to write data to a file. It will not overwrite an existing file, but will throw an error if the file already exists.\n",
    "\n",
    "The second character, `\"t\"`, is used for text files. For binary files, we would use `\"b\"`."
   ]
  },
  {
   "cell_type": "markdown",
   "metadata": {},
   "source": [
    "##### e. `Open()` Function's Return Value\n",
    "The `Open()` does not return the contents of the file, at least not directly. It returns a file object, which we saved to a variable named `txtfile`.\n",
    "\n",
    "[The full documentation for `open()` is here.](https://docs.python.org/3/library/functions.html#open)"
   ]
  },
  {
   "cell_type": "markdown",
   "metadata": {},
   "source": [
    "#### 2. Line 2 - Getting the Content of the File\n",
    "In line 2, we we called the `read()` method on the `txtfile` object. The `read()` method returned the entire contents of the text file as a string. We could also have used `readlines()`, which returns a list, where each list item is one row from the file. Python splits the file into rows using the newline character, '/n'."
   ]
  },
  {
   "cell_type": "code",
   "execution_count": null,
   "metadata": {},
   "outputs": [],
   "source": [
    "# Opening a file and using \n",
    "txtfile = open(r\"hopper.txt\", \"rt\")  # Line 1\n",
    "txtlist = txtfile.readlines()        # Line 2\n",
    "txtfile.close()                      # Line 3\n",
    "print(txtlist[18])                   # Line 4 - Famous Quote from Grace Hopper"
   ]
  },
  {
   "cell_type": "markdown",
   "metadata": {},
   "source": [
    "The `readlines()` method makes it easy to display just a single row from the text file. In our example we displayed the 19th line (remember, the first line has an index of 0), which contains a famous quote from\n",
    "Grace Hopper."
   ]
  },
  {
   "cell_type": "markdown",
   "metadata": {},
   "source": [
    "#### 3. Line 3 - Closing the File\n",
    "We called the `.close()` method in line 3 to close the file object. Methods like `read()` or `readlines()` won't work once the file is closed. In general, for small programs, nothing bad is going to happen if you don't explicitly close the file with `.close()`. Python will close the file automatically once the program or enclosing function exits. Still, bad things have been known to happen when programmers didn't close their files, so always close files when you are done with them."
   ]
  },
  {
   "cell_type": "markdown",
   "metadata": {},
   "source": [
    "### B. Using the `with` Statement\n",
    "Programmers don't like to have to remember to do things like closing files. You can use a `with` statement to ensure files are closed when you are finished working with them. Here is an example:"
   ]
  },
  {
   "cell_type": "code",
   "execution_count": null,
   "metadata": {},
   "outputs": [],
   "source": [
    "# Opening a file and using \n",
    "with open(r\"hopper.txt\", \"rt\") as txtfile:  # Line 1\n",
    "    txtlist = txtfile.readlines()           # Line 2\n",
    "print(txtlist[15])                          # Line 3"
   ]
  },
  {
   "cell_type": "markdown",
   "metadata": {},
   "source": [
    "The `with` statement is followed by an indented block of code. We work with the file object within the indented block. The file object will automatically be closed when we exit the indented block in line 3. Another benefit of using `with` is that if an error occurs in the indented block of code, Python will ensure that the file gets closed anyway. Using `with` is  a best practice for working with files in Python.\n",
    "\n",
    "The `with` statement can be used for things other than files. It is intended to be used with special objects called context managers. You can learn more than you probably want to know about context managers [at this link](https://docs.python.org/3/reference/datamodel.html#context-managers)."
   ]
  },
  {
   "cell_type": "markdown",
   "metadata": {},
   "source": [
    "### C. End of the Line\n",
    "If you were reading closely, then you noticed that we mentioned something about a *newline* character. A newline character is a special character used by Python to mark the end of a row in a text file, or to tell Python to move to a new row when displaying text. It can occur in a string just like any other character. In Python and many other programming languages, you can insert a newline character into a string using a backslash followed by an 'n', like so: `\\n`."
   ]
  },
  {
   "cell_type": "code",
   "execution_count": null,
   "metadata": {},
   "outputs": [],
   "source": [
    "multi_line_string = \"This is line 1.\\nThis is line 2.\"\n",
    "multi_line_string"
   ]
  },
  {
   "cell_type": "markdown",
   "metadata": {},
   "source": [
    "So far, the results are not very impressive. The notebook is just displaying the newline character in the string. The outcome is better if we pass the string to the `print()` function."
   ]
  },
  {
   "cell_type": "code",
   "execution_count": null,
   "metadata": {},
   "outputs": [],
   "source": [
    "print(multi_line_string)"
   ]
  },
  {
   "cell_type": "markdown",
   "metadata": {},
   "source": [
    "You may be thinking that `\\n` looks like *two* characters, not one. That's understandable, but Python's `ord()` function shows that `\\n` maps to a single character code."
   ]
  },
  {
   "cell_type": "code",
   "execution_count": null,
   "metadata": {},
   "outputs": [],
   "source": [
    "print(\"Character code for newline:\", ord(\"\\n\"))\n",
    "# The next row uses a list comprehension, which will be covered later in\n",
    "#   this session.\n",
    "print(\"For comparison, character codes for IRS:\", [ord(c) for c in \"IRS\"])"
   ]
  },
  {
   "cell_type": "markdown",
   "metadata": {},
   "source": [
    "We use the backslash notation because our alphabet doesn't have a symbol that means newline. \"\\n\" is sometimes referred to as a control character, or a non-printable character, or an escape sequence character. There are other control characters in Python:"
   ]
  },
  {
   "cell_type": "code",
   "execution_count": null,
   "metadata": {},
   "outputs": [],
   "source": [
    "print(\"Include a backslash (\\\\) in a string with '\\\\\\\\'.\")\n",
    "print(\"Include quotation marks (\\\"\\\") in a string with '\\\\\\\"'.\")\n",
    "print(\"Include a tab character (\\t) in a string with '\\\\t'.\")"
   ]
  },
  {
   "cell_type": "markdown",
   "metadata": {},
   "source": [
    "Technically and historically, the '\\n' character is called a line feed character. Linux and older Unix operating systems use this character by default to mark the end of lines in text files. Microsoft Windows, on the other hand, uses two characters, a carriage return character ('\\r') and a line feed character ('\\n') to mark the end of a line. That's why, when you push files to a Github repository from Windows, you see all those messages about the end of line characters on the screen. Git is automatically converting your text files from using Windows style \"\\r\\n\" sequences to Linux style \"\\n\" sequences. And if it's not confusing enough that Windows and Linux use different characters to mark the end of a line, consider that old Apple Macintosh operating systems used just a carriage return ('\\r') to mark the end of a line.\n",
    "\n",
    "**Warning: Historical Stuff that is Interesting to your Mentor and Probably No One Else!**  \n",
    "How did it get to be this way? Video monitors were nonexistant or uncommon before the late 1970s. Anyone who wanted to interact in real time with a computer used a teleprinter, like the one pictured below.\n",
    "![Vintage Teletype](misc_files/TTY33ASR.jpg)\n",
    "\n",
    "The user would type commands on the teletype, seeing what they typed on a sheet of paper. They would hit a key to send the command to a computer, and the output from the command would print out on the paper. The command line interface that we are currently using is an on-screen version of the old teletype interface. The print head would move left to right across the page and the paper would be moved up and down by the roller. To start typing a new line, the user would hit the *RE-TURN* key to move the print head back to the left side of the page, and the *LINE FEED* key to move the paper up one row, effectively moving the print head down to the beginning of the next line.\n",
    "\n",
    "So why does Windows use '\\r\\n' line endings while Linux uses just '\\n'? Microsoft Windows uses '\\r\\n' because Microsoft's earlier operating system, MS-DOS, used '\\r\\n'. MS-DOS used '\\r\\n' because back in about 1980 when MS-DOS was being developed, they wanted MS-DOS to be compatible with another popular micro-computer operating system called CP/M, which had been developed in 1974 at a company called Digital Equipment Corporation. CP/M used '\\r\\n' because that sequence worked better for sending text to teletype machines like the ASR-33 teletype pictured above.\n",
    "\n",
    "Linux doesn't use '\\r\\n' because Linux was designed to be compatible with an older operating system called Unix (Bell Labs, 1969), which itself was inspired by an even older operating system called MULTICS (Cooperattive project of MIT, Bel Labs, and General Electric, 1964). MULTICS used a device driver to communicate with the teletype (very innovative at the time). So text files could contain the simpler '\\n' line ending and the device driver would convert '\\n' to whatever sequence of characters the teletype needed to advance to the next line.\n",
    "\n",
    "So there you have it. Windows uses '\\r\\n' because the developers of CP/M  in 1974 didn't use a device driver to talk to teletype machines. This might have been due to CP/M being a single-tasking operating system designed to work on small computers with 8-bit processors and no more than 64 kilobytes of memory. I'm guessing there was not a lot of extra bandwidth to be running a device driver. MULTICS, on the other hand, was designed to run on more powerful mainframe computers, like the GE-600 series.\n",
    "\n",
    "**And Now Back to Modern Times**  \n",
    "Most of the tools used by our robotics team take care of newline sequences without much trouble, so there's no need to memorize all of the different end of line sequences. But differences between newline sequences have caused headaches for many people in the past and could do so again in the future, so it's important to understand that different operating systems use different sequences. For Python, just use '\\n'."
   ]
  },
  {
   "cell_type": "markdown",
   "metadata": {},
   "source": [
    "### D. Writing to a Text File\n",
    "Here is an example of writing text to a file:"
   ]
  },
  {
   "cell_type": "code",
   "execution_count": null,
   "metadata": {},
   "outputs": [],
   "source": [
    "# Writing Text to a File\n",
    "with open(\"numfile.txt\", \"wt\") as numfile:\n",
    "    for num in range(5):\n",
    "        line = num * \" \" + str(num) + \"\\n\"\n",
    "        numfile.write(line)\n",
    "    for num in range(5, -1, -1):\n",
    "        line = num * \" \" + str(num) + \"\\n\"\n",
    "        numfile.write(line)    "
   ]
  },
  {
   "cell_type": "markdown",
   "metadata": {},
   "source": [
    "The code for writing to a file looks almost exactly the same as the code for reading a file. There are only a couple differences.\n",
    "* We just replaced \"r\" with \"w\" in the second parameter of the `open()` method.\n",
    "* We used the file object's `.write()` method. Note that we have to manually insert a newline character at the end of each line.\n",
    "\n",
    "We could use the `print()` function instead of `.write()`."
   ]
  },
  {
   "cell_type": "code",
   "execution_count": null,
   "metadata": {},
   "outputs": [],
   "source": [
    "# Writing print()\n",
    "with open(\"numfile.txt\", \"wt\") as numfile:\n",
    "    for num in range(5):\n",
    "        print(num * \" \" + str(num), file=numfile)\n",
    "    for num in range(5, -1, -1):\n",
    "        print(num * \" \" + str(num), file=numfile)"
   ]
  },
  {
   "cell_type": "markdown",
   "metadata": {},
   "source": [
    "We didn't have to manually add a newline character since `print()` appends a newline character to the output by default. We did have to pass the file object to the `file` parameter. Let's see what the file looks like."
   ]
  },
  {
   "cell_type": "code",
   "execution_count": null,
   "metadata": {},
   "outputs": [],
   "source": [
    "with open(\"numfile.txt\", \"rt\") as numfile:\n",
    "    for line in numfile:\n",
    "        print(line, end=\"\")"
   ]
  },
  {
   "cell_type": "markdown",
   "metadata": {},
   "source": [
    "The code sample above shows that for text files, we can iterate over each line in the file. Note that becase each lin already contains a newline character, we used the `print()` function's `end` parameter to disable the newline at the end of each line. This keeps the output from being double-spaced."
   ]
  },
  {
   "cell_type": "markdown",
   "metadata": {},
   "source": [
    "## II. JSON Files\n",
    "JSON, which stands for Javascript Object Notation, refers to a technique for exchanging and storing structured data as text. As you might guess from the name, JSON is derived from Javascript, but it is now used in many systems and programming languages. Let's take a look at a simple JSON file."
   ]
  },
  {
   "cell_type": "code",
   "execution_count": null,
   "metadata": {},
   "outputs": [],
   "source": [
    "# Open a text file that contains information formatted as JSON\n",
    "with open(\"misc_files/districts.json\", \"rt\") as jfile:\n",
    "    for lin_num, line in enumerate(jfile):\n",
    "        print(line, end=\"\")\n",
    "        if lin_num > 11:\n",
    "            break"
   ]
  },
  {
   "cell_type": "markdown",
   "metadata": {},
   "source": [
    "Only the first dozen or so lines are displayed to save space. The *districts.json* file contains information about all FIRST competition districts. Unlike the information in the *hopper.txt* file, which contains freeform text, the contents of *districts.json* must comply with a strict format.\n",
    "* Sequences of items are enclosed in square brackets, like a Python list.\n",
    "* Groups of key-value pairs are enclosed in curly braces, like a Python dictionary.\n",
    "* Items are separated by commas\n",
    "* Key-value pairs are separated by colons.\n",
    "* All text is enclosed in quotes.\n",
    "\n",
    "The *hopper.txt* file contains unstructured data, whereas the *districts.json* file contains structured data.\n",
    "\n",
    "Python contains a handy JSON module that makes it easier to work with JSON data."
   ]
  },
  {
   "cell_type": "code",
   "execution_count": null,
   "metadata": {},
   "outputs": [],
   "source": [
    "# Opening and Exploring a JSON file\n",
    "import json\n",
    "\n",
    "with open(\"misc_files/districts.json\", \"rt\") as jfile:\n",
    "    districts = json.load(jfile)\n",
    "    \n",
    "print(\"Type of object returned by `json.load()`:\", type(districts))\n",
    "print(\"Length of `districts` list:\", len(districts))\n",
    "print(\"Object type for each element of `districts` list:\", type(districts[0]))\n",
    "print()\n",
    "print(\"First three elements of `districts` list:\")\n",
    "districts[1:4]"
   ]
  },
  {
   "cell_type": "markdown",
   "metadata": {},
   "source": [
    "If we use the `json.load()` method to read data from the file object, the JSON data is converted to a Python list of dictionary objects. We can save data to a JSON file in a similar fashion using `json.dump()`."
   ]
  },
  {
   "cell_type": "code",
   "execution_count": null,
   "metadata": {},
   "outputs": [],
   "source": [
    "us_temps = {\"description\":\n",
    "    {\"title\": \"Contiguous U.S., Average Temperature, January-December\",\n",
    "        \"units\": \"Degrees Fahrenheit\",\n",
    "        \"base_period\": \"1901-2000\",\n",
    "        \"missing\": \"-99\"},\n",
    "    \"data\": {\n",
    "        \"194012\": {\n",
    "            \"value\": \"51.89\",\n",
    "            \"anomaly\": \"-0.13\"},\n",
    "        \"196012\": {\n",
    "            \"value\": \"51.44\",\n",
    "            \"anomaly\": \"-0.58\"},\n",
    "        \"198012\": {\n",
    "            \"value\": \"52.39\",\n",
    "            \"anomaly\": \"0.37\"},\n",
    "        \"200012\": {\n",
    "            \"value\": \"53.27\",\n",
    "            \"anomaly\": \"1.25\"},\n",
    "        \"201612\": {\n",
    "            \"value\": \"54.92\",\n",
    "            \"anomaly\": \"2.90\"}}\n",
    "}\n",
    "with open(\"temps.json\", \"wt\") as tempfile:\n",
    "    json.dump(us_temps, tempfile)"
   ]
  },
  {
   "cell_type": "markdown",
   "metadata": {},
   "source": [
    "## III. Comprehensions\n",
    "Now we'll take a break from files and review list and dictionary comprehensions. Comprehensions are a compact syntax for generating lists and dictionaries. They can be faster than using for loops in some circumstances, but we probably won't see any difference with relatively small datasets we use for FRC. Still, the compact syntax is quite neat. Most Python devotees would consider it good form to use a comprehension in place of a for loop.\n",
    "\n",
    "Remember the `districts` JSON data object we used earlier? Suppose we wanted to build a list that contains just the district abbreviations. We could do that with a traditional `for` loop."
   ]
  },
  {
   "cell_type": "markdown",
   "metadata": {},
   "source": [
    "### A. Lists\n",
    "Remember the `districts` JSON data object we used earlier? Suppose we wanted to build a list that contains just the district abbreviations. We could do that with a traditional `for` loop."
   ]
  },
  {
   "cell_type": "code",
   "execution_count": null,
   "metadata": {},
   "outputs": [],
   "source": [
    "# Quick Refresher on districts data\n",
    "districts[:3]"
   ]
  },
  {
   "cell_type": "code",
   "execution_count": null,
   "metadata": {},
   "outputs": [],
   "source": [
    "# A for loop to build a list of district abbreviations.\n",
    "codes = []\n",
    "for district in districts:\n",
    "    codes.append(district[\"abbreviation\"])\n",
    "codes"
   ]
  },
  {
   "cell_type": "markdown",
   "metadata": {},
   "source": [
    "With a list comprehension, we can build the list in just one line of code."
   ]
  },
  {
   "cell_type": "code",
   "execution_count": null,
   "metadata": {},
   "outputs": [],
   "source": [
    "# List comprehension that buils a list of abbreviations\n",
    "codes = [district[\"abbreviation\"] for district in districts]\n",
    "codes"
   ]
  },
  {
   "cell_type": "markdown",
   "metadata": {},
   "source": [
    "We've basically compressed the *for* loop into one line and put it inside the list's square brackets.\n",
    "\n",
    "We can also do filtering in a list comprehension. Suppose we only are interested in district abbreviations that start with 'f':"
   ]
  },
  {
   "cell_type": "code",
   "execution_count": null,
   "metadata": {},
   "outputs": [],
   "source": [
    "# List comprehension with filtering\n",
    "[district[\"abbreviation\"] for district in districts if district[\"abbreviation\"][0] == \"f\"]"
   ]
  },
  {
   "cell_type": "markdown",
   "metadata": {},
   "source": [
    "### B. Dictionaries\n",
    "We can also use comprehensions to generate dictionaries:"
   ]
  },
  {
   "cell_type": "code",
   "execution_count": null,
   "metadata": {},
   "outputs": [],
   "source": [
    "# Dictionary of tuples with squares\n",
    "tuple_squares = {str(x): (x, x**2) for x in range(10) if x % 3 != 0}\n",
    "tuple_squares"
   ]
  },
  {
   "cell_type": "markdown",
   "metadata": {},
   "source": [
    "To create a dictionary comprehension, we drafted expressions for both the dictionaries key and value, separated by a colon. The key and value expressions are evaluated for every output of the iterator following the `for` keyword. The `if` expression filters out values where `x` is equal to 3. Finally, the entire expression is placed in curly braces."
   ]
  },
  {
   "cell_type": "markdown",
   "metadata": {},
   "source": [
    "### C. More Comprehension Examples\n",
    "The *matches.json* file contains the complete match results from the 2020 FIRST Robotics district competition at Glacier Peak High School in Snohomish, WA."
   ]
  },
  {
   "cell_type": "code",
   "execution_count": null,
   "metadata": {},
   "outputs": [],
   "source": [
    "with open(\"misc_files/matches.json\", \"rt\") as jfile:\n",
    "    matches = json.load(jfile)"
   ]
  },
  {
   "cell_type": "code",
   "execution_count": null,
   "metadata": {
    "scrolled": true
   },
   "outputs": [],
   "source": [
    "print(\"Object type of matches data:\", type(matches))\n",
    "print(\"Length of matches list:\", len(matches))\n",
    "print()\n",
    "print(\"First match in list:\")\n",
    "matches[0]"
   ]
  },
  {
   "cell_type": "markdown",
   "metadata": {},
   "source": [
    "#### 1. Understanding the Match Data\n",
    "The matches JSON data contains information on all of the matches, includng both qualification and playoffs. The *comp_level* key-value pair tells us whether the match was a qualification or playoff match. We can use a list comprehension to get a list of all the *comp_level* codes."
   ]
  },
  {
   "cell_type": "code",
   "execution_count": null,
   "metadata": {
    "scrolled": true
   },
   "outputs": [],
   "source": [
    "# List of all match competition levels\n",
    "[mtch[\"comp_level\"] for mtch in matches]"
   ]
  },
  {
   "cell_type": "markdown",
   "metadata": {},
   "source": [
    "That's a long list. We just want to see what values the *comp_level* field can be. We don't need the entire list. Fortunately Python provides an easy way to extract only the unique items from a list."
   ]
  },
  {
   "cell_type": "code",
   "execution_count": null,
   "metadata": {},
   "outputs": [],
   "source": [
    "# Unique competition levels\n",
    "set([mtch[\"comp_level\"] for mtch in matches])"
   ]
  },
  {
   "cell_type": "markdown",
   "metadata": {},
   "source": [
    "That's better. There are four types of matches in the dataset: qualification (qm), quarter-finals (qf), semi-finals (sf), and finals (f).\n",
    "\n",
    "The built-in `set()` function converts its argument to a new composite data type that we have not previously discussed. Python sets are similar to lists, except they are not allowed to have duplicate values. Sets can be created witht the `set()` function or by placing the desired contents within curly braces."
   ]
  },
  {
   "cell_type": "code",
   "execution_count": null,
   "metadata": {},
   "outputs": [],
   "source": [
    "# Creating a set\n",
    "myset = {1, 2, 2, 3, 3, 3, 4, 4, 4, 4}\n",
    "print(type(myset))\n",
    "myset"
   ]
  },
  {
   "cell_type": "markdown",
   "metadata": {},
   "source": [
    "#### 2. List of Match Scores\n",
    "Suppose we are interested only in the total points scored by the red and blue alliances for qualificatio matches. The following list comprehension will extract that information."
   ]
  },
  {
   "cell_type": "code",
   "execution_count": null,
   "metadata": {
    "scrolled": true
   },
   "outputs": [],
   "source": [
    "# List Comprehension for total scores\n",
    "total_scores = [{\"match_number\": mtch[\"match_number\"],\n",
    "                 \"totalPoints_blue\": mtch[\"score_breakdown\"][\"blue\"][\"totalPoints\"],\n",
    "                 \"totalPoints_red\": mtch[\"score_breakdown\"][\"red\"][\"totalPoints\"]}\n",
    "                for mtch in matches if mtch[\"comp_level\"] == \"qm\"]\n",
    "total_scores[:10]"
   ]
  },
  {
   "cell_type": "markdown",
   "metadata": {},
   "source": [
    "See how we built a dictionary within the list comprehension?"
   ]
  },
  {
   "cell_type": "markdown",
   "metadata": {},
   "source": [
    "#### 3. Using a Nested Comprehension\n",
    "Suppose we just want a list of all teams that participated in the competition?"
   ]
  },
  {
   "cell_type": "code",
   "execution_count": null,
   "metadata": {},
   "outputs": [],
   "source": [
    "# Simple list comprehension to extract blue alliance teams\n",
    "blue_alliances = [mtch[\"alliances\"][\"blue\"][\"team_keys\"] for mtch in matches]\n",
    "blue_alliances[:5]"
   ]
  },
  {
   "cell_type": "markdown",
   "metadata": {},
   "source": [
    "That's not bad, but it's still a list of lists, with a lot of duplication. We would prefer just a simple, flat list. A nested list comprehension can help us achieve that."
   ]
  },
  {
   "cell_type": "code",
   "execution_count": null,
   "metadata": {},
   "outputs": [],
   "source": [
    "# Nested list comprehension\n",
    "blue_teams_1 = [teams[0] for teams in [mtch[\"alliances\"][\"blue\"][\"team_keys\"] for mtch in matches]]\n",
    "blue_teams_1[:5]"
   ]
  },
  {
   "cell_type": "markdown",
   "metadata": {},
   "source": [
    "Can you see what we did here? We embedded a list comprehension within another list comprehension. The inner comprehension extracted the blue alliance teams into a nested list, and the outer comprehension extracted the first element of each inner list. Nesting comprehensions enables sophisticated transformations of data. But we can do better."
   ]
  },
  {
   "cell_type": "code",
   "execution_count": null,
   "metadata": {},
   "outputs": [],
   "source": [
    "blue_teams = [team for teams in [mtch[\"alliances\"][\"blue\"][\"team_keys\"] for mtch in matches] for team in teams]\n",
    "blue_teams[:10]"
   ]
  },
  {
   "cell_type": "markdown",
   "metadata": {},
   "source": [
    "The syntax is confusing, but it gave us exactly what we want. All teams have been extracted into a single flat list. There are now two `for` expressions in the outer comprehension. The syntax will make more sense if we compare the comprehension to the equivalent `for` loops."
   ]
  },
  {
   "cell_type": "code",
   "execution_count": null,
   "metadata": {},
   "outputs": [],
   "source": [
    "blue_teams = []\n",
    "for teams in [mtch[\"alliances\"][\"blue\"][\"team_keys\"] for mtch in matches]:\n",
    "    for team in teams:\n",
    "        blue_teams.append(team)\n",
    "              \n",
    "blue_teams[:10]"
   ]
  },
  {
   "cell_type": "markdown",
   "metadata": {},
   "source": [
    "The `for` expressions in the list comprehension are placed in the same order that we would use if we were writing traditional nested `for` statements."
   ]
  },
  {
   "cell_type": "markdown",
   "metadata": {},
   "source": [
    "## IV. Exercises\n",
    "Several of the following exercises require you to create text or JSON files. Make a subfolder called *s10_files* and make sure your code saves the files to that folder."
   ]
  },
  {
   "cell_type": "markdown",
   "metadata": {},
   "source": [
    "### Ex 9.1\n",
    "Create a string variable containing JSON text. The JSON string should contain a list of dictionary objects. Each dictionary object should represent a country of your choice. It should have keys and values for:\n",
    "* The country's name\n",
    "* The country's capitol\n",
    "* Famous persons from that country. This value should contain a nested list with two or more famous person.\n",
    "\n",
    "Pass the string variable to the `json.dumps()` method to verify the syntax is correct.\n",
    "\n",
    "Remember, string values must be contained within double quotes. You can see the syntax rules for JSON at [json.org](http://json.org)."
   ]
  },
  {
   "cell_type": "code",
   "execution_count": null,
   "metadata": {},
   "outputs": [],
   "source": [
    "# Ex 9.1\n",
    "import json\n",
    "json_string = # Create JSON string here\n",
    "\n",
    "# Leave this line alone.\n",
    "# You will see an error if there is an error in your json string.\n",
    "# Otherwise the json object will be displayed.\n",
    "json.loads(json_string)"
   ]
  },
  {
   "cell_type": "markdown",
   "metadata": {},
   "source": [
    "### Ex 9.2\n",
    "Use a list comprehension to create a list of tuples. Each tuple will have four items: 1) the *comp_level*, 2) the *match_number*, 3) the blue alliance score, and 4) the red alliance score. Save the list to a variable named `match_scores` and display the first six list elements."
   ]
  },
  {
   "cell_type": "code",
   "execution_count": null,
   "metadata": {},
   "outputs": [],
   "source": [
    "# Ex 9.2\n"
   ]
  },
  {
   "cell_type": "markdown",
   "metadata": {},
   "source": [
    "### Ex 9.3\n",
    "Save the list you created in **Ex IV.1** to a file using the JSON package. Name the file *match_scores.json*."
   ]
  },
  {
   "cell_type": "code",
   "execution_count": null,
   "metadata": {},
   "outputs": [],
   "source": [
    "# Ex 9.3\n"
   ]
  },
  {
   "cell_type": "markdown",
   "metadata": {},
   "source": [
    "### Ex 9.4\n",
    "Open the match_scores.json file using the json package. When opening the file, assign the contents to a variable called `match_scores2`. Display the last five elements in the `match_scores2` list."
   ]
  },
  {
   "cell_type": "code",
   "execution_count": null,
   "metadata": {},
   "outputs": [],
   "source": [
    "# Ex 9.4\n"
   ]
  },
  {
   "cell_type": "markdown",
   "metadata": {},
   "source": [
    "### Ex 9.5\n",
    "Save the `match_scores2` list you created in **EX IV.3** to a text file called *match_scores.txt* (do not use the JSON module). Each row of the file should contain one tuple. Don't forget that each row needs to end with a newline character."
   ]
  },
  {
   "cell_type": "code",
   "execution_count": null,
   "metadata": {},
   "outputs": [],
   "source": [
    "# Ex 9.5\n"
   ]
  },
  {
   "cell_type": "markdown",
   "metadata": {},
   "source": [
    "### Ex 9.6\n",
    "Use the `match_scores2` list and a list comprehension to create a list of combined match scores (i.e., the sum of the blue alliance and red alliance scores). Don't worry about tracking the matches. Then use the built-in `max()` function to find the highest combined score for a match. Finally, use the built-in `min()` function to find the lowest combined score for a match."
   ]
  },
  {
   "cell_type": "code",
   "execution_count": 10,
   "metadata": {},
   "outputs": [],
   "source": [
    "# Ex 9.6\n"
   ]
  },
  {
   "cell_type": "markdown",
   "metadata": {},
   "source": [
    "### Ex 9.7\n",
    "Open the *match_scores.txt* file. Iterate through each row of the file and find the match (i.e., competition level and match number) that had the highest combined score. Also find the match that had the lowest combined score. \n",
    "\n",
    "This one is tricky. Here are some hints.\n",
    "* Use string indexing to stript the beginning and ending square brackets from each line.\n",
    "* Use the `str.split()` method to split the string between the commas. See the [documentation for `str.split()` here](https://docs.python.org/3/library/stdtypes.html?highlight=split#str.split).\n",
    "* Don't forget to convert data types!"
   ]
  },
  {
   "cell_type": "code",
   "execution_count": 11,
   "metadata": {},
   "outputs": [],
   "source": [
    "# Ex 9.7\n"
   ]
  },
  {
   "cell_type": "markdown",
   "metadata": {},
   "source": [
    "### Ex 9.8\n",
    "The time values in the matches JSON data are all big integers, like *1583104716*. These are UNIX style time stamps. A UNIX timestamp is the number of seconds that have elapsed since 00:00 a.m. on January 1st, 1970. Use a list comprehension and methods from the `datetime` module in the standard library to build a list of match start times that is human readable.\n",
    "* You will need to review the [documentation for the datetime module](https://docs.python.org/3/library/datetime.html).\n",
    "* Check out the `datetime.fromtimestamp()` method.\n",
    "* Also check out the `datetime.strftime()` method.\n",
    "* It seems redudent, but the `datetime` module contains a `datetime` class. This is an important detail if you want your code to work."
   ]
  },
  {
   "cell_type": "code",
   "execution_count": null,
   "metadata": {},
   "outputs": [],
   "source": [
    "# Ex 9.8\n"
   ]
  },
  {
   "cell_type": "markdown",
   "metadata": {},
   "source": [
    "## V. Quiz\n",
    "Enter your answers as comments in the code cells below each question."
   ]
  },
  {
   "cell_type": "markdown",
   "metadata": {},
   "source": [
    "**#1.** What is the absolute path of this notebook file on your computer?"
   ]
  },
  {
   "cell_type": "code",
   "execution_count": null,
   "metadata": {},
   "outputs": [],
   "source": [
    "#1\n"
   ]
  },
  {
   "cell_type": "markdown",
   "metadata": {},
   "source": [
    "**#2.** What is the relative path of the session 2 notebook, *s02_data_types.ipynb* from this notebook?"
   ]
  },
  {
   "cell_type": "code",
   "execution_count": null,
   "metadata": {},
   "outputs": [],
   "source": [
    "#2\n"
   ]
  },
  {
   "cell_type": "markdown",
   "metadata": {},
   "source": [
    "**#3.** In general, is it better to use absolute or relative paths in computer programs?"
   ]
  },
  {
   "cell_type": "code",
   "execution_count": null,
   "metadata": {},
   "outputs": [],
   "source": [
    "#3\n"
   ]
  },
  {
   "cell_type": "markdown",
   "metadata": {},
   "source": [
    "**#4.** Why is it beneficial to use the `with` statement when opening or saving to files?"
   ]
  },
  {
   "cell_type": "code",
   "execution_count": null,
   "metadata": {},
   "outputs": [],
   "source": [
    "#4\n"
   ]
  },
  {
   "cell_type": "markdown",
   "metadata": {},
   "source": [
    "**#5.** What does putting an exclamation mark, `!`, at the beginning of a line in a code cell do?"
   ]
  },
  {
   "cell_type": "code",
   "execution_count": null,
   "metadata": {},
   "outputs": [],
   "source": [
    "#5\n"
   ]
  },
  {
   "cell_type": "markdown",
   "metadata": {},
   "source": [
    "**#6.** What module must be imported in order to change the current working directory? What is the command for changing the current working directory?"
   ]
  },
  {
   "cell_type": "code",
   "execution_count": null,
   "metadata": {},
   "outputs": [],
   "source": [
    "#6"
   ]
  },
  {
   "cell_type": "markdown",
   "metadata": {},
   "source": [
    "**#7.** Earlier in the notebook there was a cell that contained the statement `os.chdir(\"misc_files\")`. The cell runs one time with no problems. But if you try to run it a second time, it throws an error. Why?"
   ]
  },
  {
   "cell_type": "code",
   "execution_count": null,
   "metadata": {},
   "outputs": [],
   "source": [
    "#7"
   ]
  },
  {
   "cell_type": "markdown",
   "metadata": {},
   "source": [
    "**#8.** What will each of the following strings look like when printed? Type out what you thing the output will be in your answer.\n",
    "* \"1/n2\\n3\"\n",
    "* \"1\\n2\\\\\\\\n3\"\n",
    "* \"\\\\\"1\\\\\"\\\\\\\\m2\""
   ]
  },
  {
   "cell_type": "code",
   "execution_count": null,
   "metadata": {},
   "outputs": [],
   "source": [
    "#8\n"
   ]
  },
  {
   "cell_type": "markdown",
   "metadata": {},
   "source": [
    "**#9.** The last code example in section 1.D demonstrated how to read a file line by line. Would it be a good idea to use this technique to read the *matches.json* file? Why or why not? (HINT: How many newline characters are in *matches.json*?)"
   ]
  },
  {
   "cell_type": "code",
   "execution_count": null,
   "metadata": {},
   "outputs": [],
   "source": [
    "#9\n"
   ]
  },
  {
   "cell_type": "markdown",
   "metadata": {},
   "source": [
    "**#10.** What 1970's operating system greatly influencd MS-DOS, and subsequently Microsoft Windows?"
   ]
  },
  {
   "cell_type": "code",
   "execution_count": null,
   "metadata": {},
   "outputs": [],
   "source": [
    "#10\n"
   ]
  },
  {
   "cell_type": "markdown",
   "metadata": {},
   "source": [
    "## VI. Save Your Work\n",
    "Once you have completed the exercises, save a copy of the notebook and the two files you created (*match_scores.json* and *match_scores.txt*) outside of the git repository (outside of the *pyclass_frc* folder). Upload the files to your git assignments repository."
   ]
  },
  {
   "cell_type": "markdown",
   "metadata": {},
   "source": [
    "## VII. Concept and Terminology Review\n",
    "You should be able to define the following terms or describe the concept.\n",
    "* Built-in `open()` function\n",
    "* File read and write modes\n",
    "* Relative and absolute file paths\n",
    "* Understanding Python's working directory\n",
    "* Changing the working directory\n",
    "* Closing files\n",
    "* Using the `with` statement to work with files\n",
    "* Newline characters\n",
    "* Inserting newlines in strings\n",
    "* Javascript Object Notation (JSON)\n",
    "* Python's json package\n",
    "* List and dictionary comprehensions\n",
    "* Filtering within comprehensions\n",
    "* Nested and multi-level comprehensions\n",
    "* Python's built-in `min()` and `max()` functions\n",
    "* Converting Unix timestamps with Python's datetime module\n",
    "* The `str.split()` method."
   ]
  },
  {
   "cell_type": "markdown",
   "metadata": {},
   "source": [
    "[Table of Contents](../../index.ipynb)"
   ]
  }
 ],
 "metadata": {
  "kernelspec": {
   "display_name": "Python 3",
   "language": "python",
   "name": "python3"
  },
  "language_info": {
   "codemirror_mode": {
    "name": "ipython",
    "version": 3
   },
   "file_extension": ".py",
   "mimetype": "text/x-python",
   "name": "python",
   "nbconvert_exporter": "python",
   "pygments_lexer": "ipython3",
   "version": "3.8.5"
  },
  "toc-autonumbering": false,
  "toc-showcode": false,
  "toc-showmarkdowntxt": false,
  "toc-showtags": false
 },
 "nbformat": 4,
 "nbformat_minor": 4
}
