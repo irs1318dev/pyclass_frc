{
 "cells": [
  {
   "cell_type": "markdown",
   "id": "b3d83b5a-2c2f-4dba-97c8-527d1a83b15e",
   "metadata": {},
   "source": [
    "[Table of Contents](../../index.ipynb)"
   ]
  },
  {
   "cell_type": "markdown",
   "id": "0ff7b6f8-4b1f-46e2-8776-c8601721c8e3",
   "metadata": {
    "tags": []
   },
   "source": [
    "# FRC Analytics with Python - Session 20\n",
    "# Structured Query Language (SQL) - Part IV\n",
    "**Last Updated: 25 November 2021**\n",
    "\n",
    "Congratulations. You made it to the final SQL session. In this we'll learn how about multi-part and window queries."
   ]
  },
  {
   "cell_type": "markdown",
   "id": "e57150d7-3b8a-49d3-a36b-9661984d9d9b",
   "metadata": {},
   "source": [
    "## I. Notebook Setup"
   ]
  },
  {
   "cell_type": "markdown",
   "id": "a83cdda1-2e57-40a5-bee0-be2b89c8fbba",
   "metadata": {},
   "source": [
    "### A. If Using Google Colab\n",
    "It's best if you clone the *pyclass_frc* Github repo and run this notebook from your local computer. But if you would like to run it from Google Colab, uncomment and run the lines in the next cell. (*Don't delete the exclamation points at the start of the lines!*) The cell will download and run a shell script that will create subfolders and download the required files for this session."
   ]
  },
  {
   "cell_type": "code",
   "execution_count": 1,
   "id": "7197aca2-33b6-4f9b-ad65-3438c0fb6232",
   "metadata": {},
   "outputs": [],
   "source": [
    "# !wget -nv https://raw.githubusercontent.com/irs1318dev/pyclass_frc/master/sessions/s20_SQL_IV/get-files-s20.sh\n",
    "# !bash get-files-s20.sh"
   ]
  },
  {
   "cell_type": "markdown",
   "id": "d284de40-2c3a-47b8-8613-8a688a4c1fe2",
   "metadata": {},
   "source": [
    "### B. Imports and Database File\n",
    "Run the next cell to set up the notebook to work with our SQLite database."
   ]
  },
  {
   "cell_type": "code",
   "execution_count": 2,
   "id": "ad8a3fd0-0602-4945-9847-afafb73da704",
   "metadata": {},
   "outputs": [],
   "source": [
    "import sqlite3\n",
    "import sys\n",
    "\n",
    "import pandas as pd\n",
    "\n",
    "# Database file\n",
    "chinook_db = \"chinook.sqlite3\""
   ]
  },
  {
   "cell_type": "markdown",
   "id": "d932c736-6c95-4ee7-840b-d7f77f6fdaac",
   "metadata": {},
   "source": [
    "Since we're going to be connecting to the *Chinook* database over and over, it makes sense create a function that gets a connection, displays the query results, and closes the connection."
   ]
  },
  {
   "cell_type": "code",
   "execution_count": 3,
   "id": "bd36a3d7-2d22-42aa-8add-56e740b8d7f8",
   "metadata": {},
   "outputs": [],
   "source": [
    "def show_query(query, head=None):\n",
    "    con = sqlite3.connect(chinook_db)\n",
    "    if head is not None:\n",
    "        display(pd.read_sql_query(query, con).head(head))\n",
    "    else:\n",
    "        display(pd.read_sql_query(query, con))\n",
    "    con.close()"
   ]
  },
  {
   "cell_type": "markdown",
   "id": "e73e5b7d-5804-4978-950b-69b6630dc0c8",
   "metadata": {},
   "source": [
    "### C. SQL References\n",
    "For your convenience, here are the SQL references that were discussed in session 17.\n",
    "* [Official SQLite documentation](https://www.sqlite.org/lang.html)\n",
    "* [Python sqlite3 Package Documentation](https://docs.python.org/3/library/sqlite3.html)\n",
    "* [W3 Schools SQL Tutorial](https://www.w3schools.com/Sql/default.asp) "
   ]
  },
  {
   "cell_type": "markdown",
   "id": "377258f9-b68b-4453-854a-e099d3a21699",
   "metadata": {},
   "source": [
    "## II. Multi-Part Queries\n",
    "We've seen how we can use aggregate queries to complete sophisticated calculations in SQL. We can complete even more sophisticated calculations in SQL by combining multiple queries."
   ]
  },
  {
   "cell_type": "markdown",
   "id": "6c70ac25-de21-4485-9c7b-45b73625a252",
   "metadata": {},
   "source": [
    "### A. Nested Queries\n",
    "SQL allows us to use the output of one query as the input to another query. For example, consider the following query that calculates total sales by country."
   ]
  },
  {
   "cell_type": "code",
   "execution_count": 4,
   "id": "4859da4e-0f26-4b40-8708-d6013817e06b",
   "metadata": {},
   "outputs": [
    {
     "data": {
      "text/html": [
       "<div>\n",
       "<style scoped>\n",
       "    .dataframe tbody tr th:only-of-type {\n",
       "        vertical-align: middle;\n",
       "    }\n",
       "\n",
       "    .dataframe tbody tr th {\n",
       "        vertical-align: top;\n",
       "    }\n",
       "\n",
       "    .dataframe thead th {\n",
       "        text-align: right;\n",
       "    }\n",
       "</style>\n",
       "<table border=\"1\" class=\"dataframe\">\n",
       "  <thead>\n",
       "    <tr style=\"text-align: right;\">\n",
       "      <th></th>\n",
       "      <th>BillingCountry</th>\n",
       "      <th>Sales</th>\n",
       "    </tr>\n",
       "  </thead>\n",
       "  <tbody>\n",
       "    <tr>\n",
       "      <th>0</th>\n",
       "      <td>USA</td>\n",
       "      <td>523.06</td>\n",
       "    </tr>\n",
       "    <tr>\n",
       "      <th>1</th>\n",
       "      <td>Canada</td>\n",
       "      <td>303.96</td>\n",
       "    </tr>\n",
       "    <tr>\n",
       "      <th>2</th>\n",
       "      <td>France</td>\n",
       "      <td>195.10</td>\n",
       "    </tr>\n",
       "    <tr>\n",
       "      <th>3</th>\n",
       "      <td>Brazil</td>\n",
       "      <td>190.10</td>\n",
       "    </tr>\n",
       "    <tr>\n",
       "      <th>4</th>\n",
       "      <td>Germany</td>\n",
       "      <td>156.48</td>\n",
       "    </tr>\n",
       "    <tr>\n",
       "      <th>5</th>\n",
       "      <td>United Kingdom</td>\n",
       "      <td>112.86</td>\n",
       "    </tr>\n",
       "    <tr>\n",
       "      <th>6</th>\n",
       "      <td>Czech Republic</td>\n",
       "      <td>90.24</td>\n",
       "    </tr>\n",
       "    <tr>\n",
       "      <th>7</th>\n",
       "      <td>Portugal</td>\n",
       "      <td>77.24</td>\n",
       "    </tr>\n",
       "    <tr>\n",
       "      <th>8</th>\n",
       "      <td>India</td>\n",
       "      <td>75.26</td>\n",
       "    </tr>\n",
       "    <tr>\n",
       "      <th>9</th>\n",
       "      <td>Chile</td>\n",
       "      <td>46.62</td>\n",
       "    </tr>\n",
       "  </tbody>\n",
       "</table>\n",
       "</div>"
      ],
      "text/plain": [
       "   BillingCountry   Sales\n",
       "0             USA  523.06\n",
       "1          Canada  303.96\n",
       "2          France  195.10\n",
       "3          Brazil  190.10\n",
       "4         Germany  156.48\n",
       "5  United Kingdom  112.86\n",
       "6  Czech Republic   90.24\n",
       "7        Portugal   77.24\n",
       "8           India   75.26\n",
       "9           Chile   46.62"
      ]
     },
     "metadata": {},
     "output_type": "display_data"
    }
   ],
   "source": [
    "# Total Sales by Country\n",
    "query = \"\"\"\n",
    "    SELECT BillingCountry, SUM(Total) AS Sales\n",
    "      FROM Invoice\n",
    "  GROUP BY BillingCountry\n",
    "  ORDER BY Sales DESC;\n",
    "\"\"\"\n",
    "show_query(query, 10)"
   ]
  },
  {
   "cell_type": "markdown",
   "id": "329876ba-349f-4ba3-8891-77bf1b3094e5",
   "metadata": {},
   "source": [
    "Suppose we want to calculate the average amount of sales that comes from a single country. In other words, we want to average the contents of the *Sales* column in the preceing query. Unfortunately there is no aggregate function that takes an average of averages. We could get the results we want if we could run an aggregate query on the results from the preceding aggregate query. I'm happy to report that we can do exactly that. It's called a nested query."
   ]
  },
  {
   "cell_type": "code",
   "execution_count": 5,
   "id": "2077585c-9cb6-4711-a7e2-e0798ecd4561",
   "metadata": {},
   "outputs": [
    {
     "data": {
      "text/html": [
       "<div>\n",
       "<style scoped>\n",
       "    .dataframe tbody tr th:only-of-type {\n",
       "        vertical-align: middle;\n",
       "    }\n",
       "\n",
       "    .dataframe tbody tr th {\n",
       "        vertical-align: top;\n",
       "    }\n",
       "\n",
       "    .dataframe thead th {\n",
       "        text-align: right;\n",
       "    }\n",
       "</style>\n",
       "<table border=\"1\" class=\"dataframe\">\n",
       "  <thead>\n",
       "    <tr style=\"text-align: right;\">\n",
       "      <th></th>\n",
       "      <th>Average Sales per Country</th>\n",
       "    </tr>\n",
       "  </thead>\n",
       "  <tbody>\n",
       "    <tr>\n",
       "      <th>0</th>\n",
       "      <td>97.025</td>\n",
       "    </tr>\n",
       "  </tbody>\n",
       "</table>\n",
       "</div>"
      ],
      "text/plain": [
       "   Average Sales per Country\n",
       "0                     97.025"
      ]
     },
     "metadata": {},
     "output_type": "display_data"
    }
   ],
   "source": [
    "# A nested query\n",
    "query = \"\"\"\n",
    "    SELECT AVG(Sales) AS \"Average Sales per Country\"\n",
    "    FROM (\n",
    "            SELECT BillingCountry, SUM(Total) AS Sales\n",
    "              FROM Invoice\n",
    "          GROUP BY BillingCountry\n",
    "          ORDER BY Sales DESC\n",
    "        );\n",
    "\"\"\"\n",
    "show_query(query)"
   ]
  },
  {
   "cell_type": "markdown",
   "id": "82a871ab-d2f9-421f-9410-178ca6240dbd",
   "metadata": {},
   "source": [
    "The preceding query is an example of a nested query. Instead of a table name, the `FROM` clause includes an entire `SELECT` query in parentheses. The inner query is the aggregate query that gets the sales total by country. When we nest that query inside the `FROM` clause, SQL treats the output of that query like a table.\n",
    "\n",
    "The `FROM` clause is not the only place in which we can nest a query. The following query gets sales totals for the three countries that are last in alphabetical order. It does this by nesting a query in the `WHERE` clause."
   ]
  },
  {
   "cell_type": "code",
   "execution_count": 6,
   "id": "660792ff-eb18-4820-a5fb-37adfc2c50c3",
   "metadata": {},
   "outputs": [
    {
     "data": {
      "text/html": [
       "<div>\n",
       "<style scoped>\n",
       "    .dataframe tbody tr th:only-of-type {\n",
       "        vertical-align: middle;\n",
       "    }\n",
       "\n",
       "    .dataframe tbody tr th {\n",
       "        vertical-align: top;\n",
       "    }\n",
       "\n",
       "    .dataframe thead th {\n",
       "        text-align: right;\n",
       "    }\n",
       "</style>\n",
       "<table border=\"1\" class=\"dataframe\">\n",
       "  <thead>\n",
       "    <tr style=\"text-align: right;\">\n",
       "      <th></th>\n",
       "      <th>BillingCountry</th>\n",
       "      <th>Sales</th>\n",
       "    </tr>\n",
       "  </thead>\n",
       "  <tbody>\n",
       "    <tr>\n",
       "      <th>0</th>\n",
       "      <td>USA</td>\n",
       "      <td>523.06</td>\n",
       "    </tr>\n",
       "    <tr>\n",
       "      <th>1</th>\n",
       "      <td>United Kingdom</td>\n",
       "      <td>112.86</td>\n",
       "    </tr>\n",
       "    <tr>\n",
       "      <th>2</th>\n",
       "      <td>Sweden</td>\n",
       "      <td>38.62</td>\n",
       "    </tr>\n",
       "  </tbody>\n",
       "</table>\n",
       "</div>"
      ],
      "text/plain": [
       "   BillingCountry   Sales\n",
       "0             USA  523.06\n",
       "1  United Kingdom  112.86\n",
       "2          Sweden   38.62"
      ]
     },
     "metadata": {},
     "output_type": "display_data"
    }
   ],
   "source": [
    "# Nesting a query in the WHERE clause\n",
    "query = \"\"\"\n",
    "    SELECT BillingCountry, SUM(Total) AS Sales\n",
    "      FROM Invoice\n",
    "     WHERE BillingCountry IN (SELECT DISTINCT BillingCountry\n",
    "                                FROM Invoice\n",
    "                            ORDER BY BillingCountry DESC\n",
    "                               LIMIT 3)\n",
    "  GROUP BY BillingCountry\n",
    "  ORDER BY Sales DESC;\n",
    "\"\"\"\n",
    "show_query(query, 10)"
   ]
  },
  {
   "cell_type": "markdown",
   "id": "8aabdad6-f7af-44dc-91b8-e6ca1d33a678",
   "metadata": {},
   "source": [
    "### B. `WITH` Clause\n",
    "Nested queries can be difficult to decipher, especially if there is more than one layer of nesting. Most relational database engines support the `WITH` clause, which makes the queries easier to understand. The following cell contains a re-write of our first nested query. The re-write uses a `WITH` clause."
   ]
  },
  {
   "cell_type": "code",
   "execution_count": 7,
   "id": "a51d0bbd-37ff-43bb-85a0-ee9b111bb3c2",
   "metadata": {},
   "outputs": [
    {
     "data": {
      "text/html": [
       "<div>\n",
       "<style scoped>\n",
       "    .dataframe tbody tr th:only-of-type {\n",
       "        vertical-align: middle;\n",
       "    }\n",
       "\n",
       "    .dataframe tbody tr th {\n",
       "        vertical-align: top;\n",
       "    }\n",
       "\n",
       "    .dataframe thead th {\n",
       "        text-align: right;\n",
       "    }\n",
       "</style>\n",
       "<table border=\"1\" class=\"dataframe\">\n",
       "  <thead>\n",
       "    <tr style=\"text-align: right;\">\n",
       "      <th></th>\n",
       "      <th>Average Sales per Country</th>\n",
       "    </tr>\n",
       "  </thead>\n",
       "  <tbody>\n",
       "    <tr>\n",
       "      <th>0</th>\n",
       "      <td>97.025</td>\n",
       "    </tr>\n",
       "  </tbody>\n",
       "</table>\n",
       "</div>"
      ],
      "text/plain": [
       "   Average Sales per Country\n",
       "0                     97.025"
      ]
     },
     "metadata": {},
     "output_type": "display_data"
    }
   ],
   "source": [
    "# A nested query\n",
    "query = \"\"\"\n",
    "    WITH Avg_sales AS (\n",
    "        SELECT BillingCountry, SUM(Total) AS Sales\n",
    "          FROM Invoice\n",
    "         GROUP BY BillingCountry\n",
    "         ORDER BY Sales DESC\n",
    "    )\n",
    "    SELECT AVG(Sales) AS \"Average Sales per Country\"\n",
    "    FROM Avg_sales;\n",
    "\"\"\"\n",
    "show_query(query)"
   ]
  },
  {
   "cell_type": "markdown",
   "id": "d07c3cce-8a86-4beb-9c30-d9141179d575",
   "metadata": {},
   "source": [
    "The `WITH` clause runs a subquery and creates a virtual table from the results. In the preceding example we created the virtual table *Avg_sales*. *Avg_sales* acts just like a regular database table and can be referenced later in the query.\n",
    "\n",
    "`WITH` queries can have more than one subquery. The following query calculates the fraction of songs in each genre that are love songs. We consider a song to be a love song if it has the word 'love' in the title."
   ]
  },
  {
   "cell_type": "code",
   "execution_count": 8,
   "id": "05604558-597d-4213-8f0b-871046b92c1b",
   "metadata": {},
   "outputs": [
    {
     "data": {
      "text/html": [
       "<div>\n",
       "<style scoped>\n",
       "    .dataframe tbody tr th:only-of-type {\n",
       "        vertical-align: middle;\n",
       "    }\n",
       "\n",
       "    .dataframe tbody tr th {\n",
       "        vertical-align: top;\n",
       "    }\n",
       "\n",
       "    .dataframe thead th {\n",
       "        text-align: right;\n",
       "    }\n",
       "</style>\n",
       "<table border=\"1\" class=\"dataframe\">\n",
       "  <thead>\n",
       "    <tr style=\"text-align: right;\">\n",
       "      <th></th>\n",
       "      <th>Genre</th>\n",
       "      <th>Fraction Love Songs</th>\n",
       "    </tr>\n",
       "  </thead>\n",
       "  <tbody>\n",
       "    <tr>\n",
       "      <th>0</th>\n",
       "      <td>Easy Listening</td>\n",
       "      <td>0.1667</td>\n",
       "    </tr>\n",
       "    <tr>\n",
       "      <th>1</th>\n",
       "      <td>Pop</td>\n",
       "      <td>0.1042</td>\n",
       "    </tr>\n",
       "    <tr>\n",
       "      <th>2</th>\n",
       "      <td>R&amp;B/Soul</td>\n",
       "      <td>0.0984</td>\n",
       "    </tr>\n",
       "    <tr>\n",
       "      <th>3</th>\n",
       "      <td>Blues</td>\n",
       "      <td>0.0617</td>\n",
       "    </tr>\n",
       "    <tr>\n",
       "      <th>4</th>\n",
       "      <td>Rock</td>\n",
       "      <td>0.0493</td>\n",
       "    </tr>\n",
       "    <tr>\n",
       "      <th>5</th>\n",
       "      <td>Reggae</td>\n",
       "      <td>0.0345</td>\n",
       "    </tr>\n",
       "    <tr>\n",
       "      <th>6</th>\n",
       "      <td>Electronica/Dance</td>\n",
       "      <td>0.0333</td>\n",
       "    </tr>\n",
       "    <tr>\n",
       "      <th>7</th>\n",
       "      <td>Hip Hop/Rap</td>\n",
       "      <td>0.0286</td>\n",
       "    </tr>\n",
       "    <tr>\n",
       "      <th>8</th>\n",
       "      <td>Metal</td>\n",
       "      <td>0.0267</td>\n",
       "    </tr>\n",
       "    <tr>\n",
       "      <th>9</th>\n",
       "      <td>Alternative</td>\n",
       "      <td>0.0250</td>\n",
       "    </tr>\n",
       "    <tr>\n",
       "      <th>10</th>\n",
       "      <td>Alternative &amp; Punk</td>\n",
       "      <td>0.0241</td>\n",
       "    </tr>\n",
       "    <tr>\n",
       "      <th>11</th>\n",
       "      <td>Jazz</td>\n",
       "      <td>0.0154</td>\n",
       "    </tr>\n",
       "  </tbody>\n",
       "</table>\n",
       "</div>"
      ],
      "text/plain": [
       "                 Genre  Fraction Love Songs\n",
       "0       Easy Listening               0.1667\n",
       "1                  Pop               0.1042\n",
       "2             R&B/Soul               0.0984\n",
       "3                Blues               0.0617\n",
       "4                 Rock               0.0493\n",
       "5               Reggae               0.0345\n",
       "6    Electronica/Dance               0.0333\n",
       "7          Hip Hop/Rap               0.0286\n",
       "8                Metal               0.0267\n",
       "9          Alternative               0.0250\n",
       "10  Alternative & Punk               0.0241\n",
       "11                Jazz               0.0154"
      ]
     },
     "metadata": {},
     "output_type": "display_data"
    }
   ],
   "source": [
    "# Genres ranked by fraction of songs that are love songs.\n",
    "query = \"\"\"\n",
    "    WITH Tracks AS (\n",
    "            SELECT Track.TrackId, Track.Name AS Track, Album.Title AS Album,\n",
    "                   Artist.Name AS Artist, Genre.Name AS Genre\n",
    "              FROM Track\n",
    "        INNER JOIN Album ON Album.AlbumId = Track.AlbumId\n",
    "        INNER JOIN Genre ON Track.GenreId = Genre.GenreId\n",
    "        INNER JOIN Artist ON Album.ArtistId = Artist.ArtistId\n",
    "    ),\n",
    "    Genre_Counts AS (\n",
    "            SELECT Genre, COUNT() AS song_count\n",
    "              FROM Tracks\n",
    "          GROUP BY Genre\n",
    "    ),\n",
    "    Love_Counts AS (\n",
    "            SELECT Genre, COUNT(TrackId) AS love_song_count\n",
    "             FROM Tracks\n",
    "            WHERE Track LIKE '%love%'\n",
    "          GROUP BY Genre\n",
    "    )\n",
    "    SELECT Genre_Counts.Genre,\n",
    "           ROUND(CAST(Love_Counts.love_song_count AS FLOAT) /\n",
    "                 CAST(Genre_Counts.song_count AS FLOAT), 4) AS \"Fraction Love Songs\"\n",
    "      FROM Genre_Counts\n",
    " LEFT JOIN Love_Counts ON Genre_Counts.Genre = Love_Counts.Genre\n",
    "  ORDER BY \"Fraction Love Songs\" DESC;\n",
    "\"\"\"\n",
    "\n",
    "show_query(query, 12)"
   ]
  },
  {
   "cell_type": "markdown",
   "id": "3ef99d6b-c9e1-407b-ad41-11fa0e419457",
   "metadata": {},
   "source": [
    "Our love-song query has three subqueries. The first subquery, *Tracks*, joins the *Track*, *Artist*, *Genre*, and *Album* tables into a single flat table witout any key values. The *Genre_Counts* subquery counts the songs in each genre, and the *Love_Counts* subquery counts the number of love songs in each genre. Finally, the main query joins the *Genre_Counts* and *Love_Counts* tables to calculate a percentage.\n",
    "\n",
    "There are a few tricky syntax details for `WITH` queries:\n",
    "* The `WITH` clause is only placed before the first subquery, no matter how many subqueries there are.\n",
    "* There is a comma after all but the last subquery.\n",
    "* Only the final, main query gets a semicolon.\n",
    "\n",
    "The mentor prefers `WITH` queries to regular nested queries. The queries are easier to read because less indentation is required. More importantly, the name of each subquery describes its purpose. Finally, we can often get a high-level understanding of what the query does by reading only the final, main query. "
   ]
  },
  {
   "cell_type": "markdown",
   "id": "8afc8478-3646-47c5-ba64-24e794531217",
   "metadata": {},
   "source": [
    "### C. Views\n",
    "One of the problems with `WITH` queries is that they can be difficult to troubleshoot, especially if there is a problem in one of the earlier subqueries. One has to extract the subquery into it's own query to view its output. Sometimes it makes more sense to create a SQL view from one or more of the subqueries.\n",
    "\n",
    "Consider the first subquery in the love-song query. It displays song tracks and uses joins to replace foreign keys with artist names, genres, and album titles. It's more readable than the *Track* table. Because this query is so useful on its own, it makes sense to create a SQL view from this query."
   ]
  },
  {
   "cell_type": "code",
   "execution_count": 9,
   "id": "efde6f57-9a29-4769-a1bf-d92c4925783b",
   "metadata": {},
   "outputs": [],
   "source": [
    "# A SQL View\n",
    "# NOTE: You will only be able to run this cell once.\n",
    "#       If you run it a second time, you will get an error.\n",
    "query = \"\"\"\n",
    "    CREATE VIEW TracksView AS\n",
    "         SELECT Track.TrackId, Track.Name AS Track, Album.Title AS Album,\n",
    "                Artist.Name AS Artist, Genre.Name AS Genre\n",
    "           FROM Track\n",
    "     INNER JOIN Album ON Album.AlbumId = Track.AlbumId\n",
    "     INNER JOIN Genre ON Track.GenreId = Genre.GenreId\n",
    "     INNER JOIN Artist ON Album.ArtistId = Artist.ArtistId;\n",
    "\"\"\"\n",
    "con = sqlite3.connect(chinook_db)\n",
    "con.execute(query)\n",
    "con.commit()\n",
    "con.close()"
   ]
  },
  {
   "cell_type": "markdown",
   "id": "897b8196-514b-4335-ba42-adc4dfc7ce66",
   "metadata": {},
   "source": [
    "The `CREATE VIEW` query didn't generate any visible results. Instead, it created a virtual table called *TracksView* that can be used in later queries as if it were a table."
   ]
  },
  {
   "cell_type": "code",
   "execution_count": 10,
   "id": "6d9653c2-a8c1-4161-8018-70197a5a46ef",
   "metadata": {},
   "outputs": [
    {
     "data": {
      "text/html": [
       "<div>\n",
       "<style scoped>\n",
       "    .dataframe tbody tr th:only-of-type {\n",
       "        vertical-align: middle;\n",
       "    }\n",
       "\n",
       "    .dataframe tbody tr th {\n",
       "        vertical-align: top;\n",
       "    }\n",
       "\n",
       "    .dataframe thead th {\n",
       "        text-align: right;\n",
       "    }\n",
       "</style>\n",
       "<table border=\"1\" class=\"dataframe\">\n",
       "  <thead>\n",
       "    <tr style=\"text-align: right;\">\n",
       "      <th></th>\n",
       "      <th>TrackId</th>\n",
       "      <th>Track</th>\n",
       "      <th>Album</th>\n",
       "      <th>Artist</th>\n",
       "      <th>Genre</th>\n",
       "    </tr>\n",
       "  </thead>\n",
       "  <tbody>\n",
       "    <tr>\n",
       "      <th>0</th>\n",
       "      <td>1</td>\n",
       "      <td>For Those About To Rock (We Salute You)</td>\n",
       "      <td>For Those About To Rock We Salute You</td>\n",
       "      <td>AC/DC</td>\n",
       "      <td>Rock</td>\n",
       "    </tr>\n",
       "    <tr>\n",
       "      <th>1</th>\n",
       "      <td>2</td>\n",
       "      <td>Balls to the Wall</td>\n",
       "      <td>Balls to the Wall</td>\n",
       "      <td>Accept</td>\n",
       "      <td>Rock</td>\n",
       "    </tr>\n",
       "    <tr>\n",
       "      <th>2</th>\n",
       "      <td>3</td>\n",
       "      <td>Fast As a Shark</td>\n",
       "      <td>Restless and Wild</td>\n",
       "      <td>Accept</td>\n",
       "      <td>Rock</td>\n",
       "    </tr>\n",
       "    <tr>\n",
       "      <th>3</th>\n",
       "      <td>4</td>\n",
       "      <td>Restless and Wild</td>\n",
       "      <td>Restless and Wild</td>\n",
       "      <td>Accept</td>\n",
       "      <td>Rock</td>\n",
       "    </tr>\n",
       "    <tr>\n",
       "      <th>4</th>\n",
       "      <td>5</td>\n",
       "      <td>Princess of the Dawn</td>\n",
       "      <td>Restless and Wild</td>\n",
       "      <td>Accept</td>\n",
       "      <td>Rock</td>\n",
       "    </tr>\n",
       "    <tr>\n",
       "      <th>5</th>\n",
       "      <td>6</td>\n",
       "      <td>Put The Finger On You</td>\n",
       "      <td>For Those About To Rock We Salute You</td>\n",
       "      <td>AC/DC</td>\n",
       "      <td>Rock</td>\n",
       "    </tr>\n",
       "  </tbody>\n",
       "</table>\n",
       "</div>"
      ],
      "text/plain": [
       "   TrackId                                    Track  \\\n",
       "0        1  For Those About To Rock (We Salute You)   \n",
       "1        2                        Balls to the Wall   \n",
       "2        3                          Fast As a Shark   \n",
       "3        4                        Restless and Wild   \n",
       "4        5                     Princess of the Dawn   \n",
       "5        6                    Put The Finger On You   \n",
       "\n",
       "                                   Album  Artist Genre  \n",
       "0  For Those About To Rock We Salute You   AC/DC  Rock  \n",
       "1                      Balls to the Wall  Accept  Rock  \n",
       "2                      Restless and Wild  Accept  Rock  \n",
       "3                      Restless and Wild  Accept  Rock  \n",
       "4                      Restless and Wild  Accept  Rock  \n",
       "5  For Those About To Rock We Salute You   AC/DC  Rock  "
      ]
     },
     "metadata": {},
     "output_type": "display_data"
    }
   ],
   "source": [
    "# Using a VIEW\n",
    "query = \"\"\"\n",
    "    SELECT *\n",
    "      FROM TracksView\n",
    "     LIMIT 6;\n",
    "\"\"\"\n",
    "show_query(query)"
   ]
  },
  {
   "cell_type": "markdown",
   "id": "c9e297cc-49b5-420a-8411-b04e924769ea",
   "metadata": {},
   "source": [
    "No data is copied when we create or use views -- SQL runs the query that the view is based on whenever we reference it in another query. It's like a saved `SELECT` query. Let's create another SQL view for the number of songs in each genre."
   ]
  },
  {
   "cell_type": "code",
   "execution_count": 11,
   "id": "d7048848-da36-42c2-90fd-95f19a578b38",
   "metadata": {},
   "outputs": [],
   "source": [
    "# Another SQL View\n",
    "query = \"\"\"\n",
    "    CREATE VIEW IF NOT EXISTS GenreCounts AS\n",
    "        SELECT Genre, COUNT() AS song_count\n",
    "          FROM TracksView\n",
    "         GROUP BY Genre;\n",
    "\"\"\"\n",
    "con = sqlite3.connect(chinook_db)\n",
    "con.execute(query)\n",
    "con.commit()\n",
    "con.close()"
   ]
  },
  {
   "cell_type": "markdown",
   "id": "44543351-0349-4e6d-8aad-7a81b71d9123",
   "metadata": {},
   "source": [
    "In the preceding query we added an `IF NOT EXISTS` clause. This clause causes the query to do nothing if the view already exists. The clause allows us to re-run the cell without getting an error.\n",
    "\n",
    "Let's look at the output from our view."
   ]
  },
  {
   "cell_type": "code",
   "execution_count": 12,
   "id": "c7724922-049a-41f4-9aa5-b7f91845ab8c",
   "metadata": {},
   "outputs": [
    {
     "data": {
      "text/html": [
       "<div>\n",
       "<style scoped>\n",
       "    .dataframe tbody tr th:only-of-type {\n",
       "        vertical-align: middle;\n",
       "    }\n",
       "\n",
       "    .dataframe tbody tr th {\n",
       "        vertical-align: top;\n",
       "    }\n",
       "\n",
       "    .dataframe thead th {\n",
       "        text-align: right;\n",
       "    }\n",
       "</style>\n",
       "<table border=\"1\" class=\"dataframe\">\n",
       "  <thead>\n",
       "    <tr style=\"text-align: right;\">\n",
       "      <th></th>\n",
       "      <th>Genre</th>\n",
       "      <th>song_count</th>\n",
       "    </tr>\n",
       "  </thead>\n",
       "  <tbody>\n",
       "    <tr>\n",
       "      <th>0</th>\n",
       "      <td>Alternative</td>\n",
       "      <td>40</td>\n",
       "    </tr>\n",
       "    <tr>\n",
       "      <th>1</th>\n",
       "      <td>Alternative &amp; Punk</td>\n",
       "      <td>332</td>\n",
       "    </tr>\n",
       "    <tr>\n",
       "      <th>2</th>\n",
       "      <td>Blues</td>\n",
       "      <td>81</td>\n",
       "    </tr>\n",
       "    <tr>\n",
       "      <th>3</th>\n",
       "      <td>Bossa Nova</td>\n",
       "      <td>15</td>\n",
       "    </tr>\n",
       "    <tr>\n",
       "      <th>4</th>\n",
       "      <td>Classical</td>\n",
       "      <td>74</td>\n",
       "    </tr>\n",
       "    <tr>\n",
       "      <th>5</th>\n",
       "      <td>Comedy</td>\n",
       "      <td>17</td>\n",
       "    </tr>\n",
       "  </tbody>\n",
       "</table>\n",
       "</div>"
      ],
      "text/plain": [
       "                Genre  song_count\n",
       "0         Alternative          40\n",
       "1  Alternative & Punk         332\n",
       "2               Blues          81\n",
       "3          Bossa Nova          15\n",
       "4           Classical          74\n",
       "5              Comedy          17"
      ]
     },
     "metadata": {},
     "output_type": "display_data"
    }
   ],
   "source": [
    "# Querying a view\n",
    "query = \"\"\"\n",
    "    SELECT *\n",
    "      FROM GenreCounts\n",
    "     LIMIT 6;\n",
    "\"\"\"\n",
    "show_query(query)"
   ]
  },
  {
   "cell_type": "markdown",
   "id": "560e9c67-e0b8-4765-8fb1-8b707be3dd86",
   "metadata": {},
   "source": [
    "Now that we've created a couple views, our love-song query is much more concise."
   ]
  },
  {
   "cell_type": "code",
   "execution_count": 13,
   "id": "1ebcd6ca-21ce-465e-b96f-2ba2cf855d2c",
   "metadata": {},
   "outputs": [
    {
     "data": {
      "text/html": [
       "<div>\n",
       "<style scoped>\n",
       "    .dataframe tbody tr th:only-of-type {\n",
       "        vertical-align: middle;\n",
       "    }\n",
       "\n",
       "    .dataframe tbody tr th {\n",
       "        vertical-align: top;\n",
       "    }\n",
       "\n",
       "    .dataframe thead th {\n",
       "        text-align: right;\n",
       "    }\n",
       "</style>\n",
       "<table border=\"1\" class=\"dataframe\">\n",
       "  <thead>\n",
       "    <tr style=\"text-align: right;\">\n",
       "      <th></th>\n",
       "      <th>Genre</th>\n",
       "      <th>Fraction Love Songs</th>\n",
       "    </tr>\n",
       "  </thead>\n",
       "  <tbody>\n",
       "    <tr>\n",
       "      <th>0</th>\n",
       "      <td>Easy Listening</td>\n",
       "      <td>0.1667</td>\n",
       "    </tr>\n",
       "    <tr>\n",
       "      <th>1</th>\n",
       "      <td>Pop</td>\n",
       "      <td>0.1042</td>\n",
       "    </tr>\n",
       "    <tr>\n",
       "      <th>2</th>\n",
       "      <td>R&amp;B/Soul</td>\n",
       "      <td>0.0984</td>\n",
       "    </tr>\n",
       "    <tr>\n",
       "      <th>3</th>\n",
       "      <td>Blues</td>\n",
       "      <td>0.0617</td>\n",
       "    </tr>\n",
       "    <tr>\n",
       "      <th>4</th>\n",
       "      <td>Rock</td>\n",
       "      <td>0.0493</td>\n",
       "    </tr>\n",
       "    <tr>\n",
       "      <th>5</th>\n",
       "      <td>Reggae</td>\n",
       "      <td>0.0345</td>\n",
       "    </tr>\n",
       "  </tbody>\n",
       "</table>\n",
       "</div>"
      ],
      "text/plain": [
       "            Genre  Fraction Love Songs\n",
       "0  Easy Listening               0.1667\n",
       "1             Pop               0.1042\n",
       "2        R&B/Soul               0.0984\n",
       "3           Blues               0.0617\n",
       "4            Rock               0.0493\n",
       "5          Reggae               0.0345"
      ]
     },
     "metadata": {},
     "output_type": "display_data"
    }
   ],
   "source": [
    "# Using views to get genres ranked by fraction of songs that are love songs.\n",
    "query = \"\"\"\n",
    "    WITH Love_Counts AS (\n",
    "            SELECT Genre, COUNT(TrackId) AS love_song_count\n",
    "             FROM TracksView\n",
    "            WHERE Track LIKE '%love%'\n",
    "          GROUP BY Genre\n",
    "    )\n",
    "    SELECT GenreCounts.Genre,\n",
    "           ROUND(CAST(Love_Counts.love_song_count AS FLOAT) /\n",
    "                 CAST(GenreCounts.song_count AS FLOAT), 4) AS \"Fraction Love Songs\"\n",
    "      FROM GenreCounts\n",
    " LEFT JOIN Love_Counts ON GenreCounts.Genre = Love_Counts.Genre\n",
    "  ORDER BY \"Fraction Love Songs\" DESC;\n",
    "\"\"\"\n",
    "\n",
    "show_query(query, 6)"
   ]
  },
  {
   "cell_type": "markdown",
   "id": "4d941289-1c25-48d2-b2d5-9e693e3214f8",
   "metadata": {},
   "source": [
    "SQL views help to reduce repetition in queries. If you find yourself using the same table joins or `WHERE` clauses in multiple queries, consider creating a view. Views are also useful for troubleshooting.\n",
    "\n",
    "What can be created can also be destroyed. Use a `DROP VIEW` to remove views from a database."
   ]
  },
  {
   "cell_type": "code",
   "execution_count": 15,
   "id": "03c0dcc7-b986-4136-b26d-9449a1423dae",
   "metadata": {},
   "outputs": [],
   "source": [
    "# Removing views\n",
    "con = sqlite3.connect(chinook_db)\n",
    "con.execute(\"DROP VIEW IF EXISTS TracksView;\")\n",
    "con.execute(\"DROP VIEW IF EXISTS GenreCounts;\")\n",
    "con.commit()\n",
    "con.close()"
   ]
  },
  {
   "cell_type": "markdown",
   "id": "ab478c8d-1064-4e3f-920b-a8778cfe290a",
   "metadata": {},
   "source": [
    "Unlike other relational databases, SQLite does not allow modifying views that already exist. If you must modify a view, drop it and re-create it.\n",
    "\n",
    "Check out the SQLite documentation for additional information on [CREATE VIEW queries](https://www.sqlite.org/lang_createview.html) and [DROP VIEW queries](https://www.sqlite.org/lang_dropview.html)"
   ]
  },
  {
   "cell_type": "markdown",
   "id": "eae952f2-c733-46f9-8b90-66b51487c432",
   "metadata": {},
   "source": [
    "### D. Exercises 1 - 8"
   ]
  },
  {
   "cell_type": "markdown",
   "id": "bb6b5312-ac79-410e-993f-234d98897048",
   "metadata": {},
   "source": [
    "#### Ex. #1\n",
    "Write a nested query that calculates the average length, minimum length, and maximum length of the playlists that are included in the database.\n",
    "\n",
    "**HINT:** Start with an aggregate query that counts the number of tracks in each playlist."
   ]
  },
  {
   "cell_type": "code",
   "execution_count": null,
   "id": "1b584559-c5af-437b-a894-7bf8dcacc595",
   "metadata": {},
   "outputs": [],
   "source": [
    "# Ex. #1\n",
    "query = \"\"\"\n",
    "    -- Write query here.   \n",
    "          \n",
    "\"\"\"\n",
    "show_query(query)"
   ]
  },
  {
   "cell_type": "markdown",
   "id": "4c3a4a01-4d8c-4a37-89e9-638aaae03d64",
   "metadata": {},
   "source": [
    "#### Ex. #2\n",
    "The average playlist length from exercise #8 should be 622.5 tracks. Carefully consider your join type if you did not get that answer.\n",
    "* What type of join should be used in this query?\n",
    "* Why does changing the join type change the results for average playlist length? Be specific."
   ]
  },
  {
   "cell_type": "code",
   "execution_count": null,
   "id": "75c0c60b-e3c6-4d38-8d24-a293b233b497",
   "metadata": {},
   "outputs": [],
   "source": [
    "# Ex. #2\n",
    "#\n",
    "#"
   ]
  },
  {
   "cell_type": "markdown",
   "id": "dba811de-c284-44ae-a1e5-9b7fea6790a9",
   "metadata": {},
   "source": [
    "#### Ex. #3\n",
    "Convert the query in exercise #8 to a `WITH` query."
   ]
  },
  {
   "cell_type": "code",
   "execution_count": null,
   "id": "bf2d1ff2-10f1-48d6-890a-76548c8c9313",
   "metadata": {},
   "outputs": [],
   "source": [
    "# Ex. #3\n",
    "#\n",
    "#"
   ]
  },
  {
   "cell_type": "markdown",
   "id": "babcef7a-9d03-444f-a4ab-c80115b5bed4",
   "metadata": {},
   "source": [
    "#### Ex. #4\n",
    "Write a `WITH` query that shows the playlist name, album title, and track name for the five playlists with the fewest number of songs."
   ]
  },
  {
   "cell_type": "code",
   "execution_count": null,
   "id": "3f545f2d-60c7-4720-a44d-e578d95eb378",
   "metadata": {},
   "outputs": [],
   "source": [
    "# Ex. #4\n",
    "query = \"\"\"\n",
    "    -- Write query here.   \n",
    "\n",
    "\"\"\"\n",
    "\n",
    "show_query(query)"
   ]
  },
  {
   "cell_type": "markdown",
   "id": "0d0bbdcd-dcd5-4330-bb6a-78a2632d968d",
   "metadata": {},
   "source": [
    "#### Ex. #5\n",
    "Create a view that shows the Playlist name, album name, track name, and artist name for every track that occurs in a playlist.\n",
    "* The view's column names shold be Playlist, Album, Track, and Artist\n",
    "* Order the results by playlist name then track name.\n",
    "* Display the top 12 rows from the view."
   ]
  },
  {
   "cell_type": "code",
   "execution_count": null,
   "id": "5fa3765f-9516-4147-8e7d-439df8894b71",
   "metadata": {},
   "outputs": [],
   "source": [
    "# Ex. #5\n",
    "\n",
    "\n"
   ]
  },
  {
   "cell_type": "markdown",
   "id": "9500330b-18f2-4afc-a278-c466cee972a8",
   "metadata": {},
   "source": [
    "#### Ex. #6\n",
    "Views are included in the sqlite_master (or *sqlite_schema*) table. Show the *PlaylistTrackView* in the *sqlite_master* table.\n",
    "* **HINT:** Set the *type* column equal to 'view'."
   ]
  },
  {
   "cell_type": "code",
   "execution_count": null,
   "id": "d5c3c72e-a8ab-4081-a240-17bb6c95276b",
   "metadata": {},
   "outputs": [],
   "source": [
    "# Ex #6\n",
    "query = \"\"\"\n",
    "        -- Write query here.\n",
    "        \n",
    "\"\"\"\n",
    "show_query(query)"
   ]
  },
  {
   "cell_type": "markdown",
   "id": "dce0e7f1-b2c8-49c2-8c02-64763e21635d",
   "metadata": {},
   "source": [
    "#### Ex. #7\n",
    "Drop the view created in exercise #12."
   ]
  },
  {
   "cell_type": "code",
   "execution_count": null,
   "id": "43eef2d3-4aab-4eec-9983-b4258b27a1fb",
   "metadata": {},
   "outputs": [],
   "source": [
    "# Ex #7\n",
    "\n"
   ]
  },
  {
   "cell_type": "markdown",
   "id": "66924f69-6c7a-453f-bf8a-1de24821fd97",
   "metadata": {},
   "source": [
    "#### Ex. #8\n",
    "Write a query that finds the album with the higest percentage of love songs."
   ]
  },
  {
   "cell_type": "code",
   "execution_count": null,
   "id": "1cb0caca-b11c-4bfb-b1b8-dc70a0954b97",
   "metadata": {},
   "outputs": [],
   "source": [
    "# Ex #8\n",
    "#\n",
    "#"
   ]
  },
  {
   "cell_type": "markdown",
   "id": "fa8d0bc0-5869-4b68-a30b-1d14808f903c",
   "metadata": {},
   "source": [
    "## III. Window Queries\n",
    "\n",
    "**NOTE:** None of the window queries will work in Google Colab. Window queries were added to SQLite in version 3.25 and Google Colab used version 3.22 at the time this notebook was written.\n",
    "\n",
    "Before we discuss window queries, let's review aggregate queries, which were covered in session 19. The following aggregate query calculates the average track length in seconds by genre."
   ]
  },
  {
   "cell_type": "code",
   "execution_count": 16,
   "id": "09948e0e-bf23-4609-80cf-c81e37bc365d",
   "metadata": {},
   "outputs": [
    {
     "data": {
      "text/html": [
       "<div>\n",
       "<style scoped>\n",
       "    .dataframe tbody tr th:only-of-type {\n",
       "        vertical-align: middle;\n",
       "    }\n",
       "\n",
       "    .dataframe tbody tr th {\n",
       "        vertical-align: top;\n",
       "    }\n",
       "\n",
       "    .dataframe thead th {\n",
       "        text-align: right;\n",
       "    }\n",
       "</style>\n",
       "<table border=\"1\" class=\"dataframe\">\n",
       "  <thead>\n",
       "    <tr style=\"text-align: right;\">\n",
       "      <th></th>\n",
       "      <th>Genre</th>\n",
       "      <th>Seconds</th>\n",
       "    </tr>\n",
       "  </thead>\n",
       "  <tbody>\n",
       "    <tr>\n",
       "      <th>0</th>\n",
       "      <td>Alternative</td>\n",
       "      <td>263.6</td>\n",
       "    </tr>\n",
       "    <tr>\n",
       "      <th>1</th>\n",
       "      <td>Alternative &amp; Punk</td>\n",
       "      <td>233.9</td>\n",
       "    </tr>\n",
       "    <tr>\n",
       "      <th>2</th>\n",
       "      <td>Blues</td>\n",
       "      <td>269.8</td>\n",
       "    </tr>\n",
       "    <tr>\n",
       "      <th>3</th>\n",
       "      <td>Bossa Nova</td>\n",
       "      <td>219.0</td>\n",
       "    </tr>\n",
       "    <tr>\n",
       "      <th>4</th>\n",
       "      <td>Classical</td>\n",
       "      <td>293.4</td>\n",
       "    </tr>\n",
       "    <tr>\n",
       "      <th>5</th>\n",
       "      <td>Comedy</td>\n",
       "      <td>1,584.8</td>\n",
       "    </tr>\n",
       "  </tbody>\n",
       "</table>\n",
       "</div>"
      ],
      "text/plain": [
       "                Genre  Seconds\n",
       "0         Alternative    263.6\n",
       "1  Alternative & Punk    233.9\n",
       "2               Blues    269.8\n",
       "3          Bossa Nova    219.0\n",
       "4           Classical    293.4\n",
       "5              Comedy  1,584.8"
      ]
     },
     "metadata": {},
     "output_type": "display_data"
    }
   ],
   "source": [
    "# An aggregate query\n",
    "query = \"\"\"\n",
    "    SELECT Genre.Name AS Genre, AVG(Track.Milliseconds / 1000) AS Seconds\n",
    "      FROM Track\n",
    "INNER JOIN Genre\n",
    "        ON Genre.GenreId = Track.GenreId\n",
    "  GROUP BY Genre;\n",
    "\"\"\"\n",
    "# The following line tells Pandas how we want our floating point values\n",
    "#   to be formatted.\n",
    "with pd.option_context('display.float_format', lambda x: \"{:,.1f}\".format(x)):\n",
    "    show_query(query, 6)"
   ]
  },
  {
   "cell_type": "markdown",
   "id": "95ab7126-d0c0-4123-b05e-28201171ff39",
   "metadata": {},
   "source": [
    "The raw *Track* table contains over 3,500 rows. If we were to display the entire results from the preceding query, we would see 24 rows, one row for each genre that appears in the *Genre* table. The data for each row in our output is calculated from mutiple rows using a summary statistic, such as `AVG()`. The query *aggregates* the data from multiple rows into a single row.\n",
    "\n",
    "None of this should be new -- we're just reviewing this principle so we can contrast aggregate queries with window queries. Now let's look at a window query. Suppose we wanted to rank the songs within their genres by length."
   ]
  },
  {
   "cell_type": "code",
   "execution_count": 17,
   "id": "2bf9ae55-9251-4063-bc8b-6f1dd896d373",
   "metadata": {},
   "outputs": [
    {
     "data": {
      "text/html": [
       "<div>\n",
       "<style scoped>\n",
       "    .dataframe tbody tr th:only-of-type {\n",
       "        vertical-align: middle;\n",
       "    }\n",
       "\n",
       "    .dataframe tbody tr th {\n",
       "        vertical-align: top;\n",
       "    }\n",
       "\n",
       "    .dataframe thead th {\n",
       "        text-align: right;\n",
       "    }\n",
       "</style>\n",
       "<table border=\"1\" class=\"dataframe\">\n",
       "  <thead>\n",
       "    <tr style=\"text-align: right;\">\n",
       "      <th></th>\n",
       "      <th>Genre</th>\n",
       "      <th>Track</th>\n",
       "      <th>Seconds</th>\n",
       "      <th>Genre Rank</th>\n",
       "    </tr>\n",
       "  </thead>\n",
       "  <tbody>\n",
       "    <tr>\n",
       "      <th>0</th>\n",
       "      <td>TV Shows</td>\n",
       "      <td>Occupation / Precipice</td>\n",
       "      <td>5286</td>\n",
       "      <td>1</td>\n",
       "    </tr>\n",
       "    <tr>\n",
       "      <th>1</th>\n",
       "      <td>Drama</td>\n",
       "      <td>Through a Looking Glass</td>\n",
       "      <td>5088</td>\n",
       "      <td>1</td>\n",
       "    </tr>\n",
       "    <tr>\n",
       "      <th>2</th>\n",
       "      <td>Sci Fi &amp; Fantasy</td>\n",
       "      <td>Greetings from Earth, Pt. 1</td>\n",
       "      <td>2960</td>\n",
       "      <td>1</td>\n",
       "    </tr>\n",
       "    <tr>\n",
       "      <th>3</th>\n",
       "      <td>Sci Fi &amp; Fantasy</td>\n",
       "      <td>The Man With Nine Lives</td>\n",
       "      <td>2956</td>\n",
       "      <td>2</td>\n",
       "    </tr>\n",
       "    <tr>\n",
       "      <th>4</th>\n",
       "      <td>Sci Fi &amp; Fantasy</td>\n",
       "      <td>Battlestar Galactica, Pt. 2</td>\n",
       "      <td>2956</td>\n",
       "      <td>3</td>\n",
       "    </tr>\n",
       "    <tr>\n",
       "      <th>...</th>\n",
       "      <td>...</td>\n",
       "      <td>...</td>\n",
       "      <td>...</td>\n",
       "      <td>...</td>\n",
       "    </tr>\n",
       "    <tr>\n",
       "      <th>3498</th>\n",
       "      <td>Hip Hop/Rap</td>\n",
       "      <td>Commercial 1</td>\n",
       "      <td>7</td>\n",
       "      <td>35</td>\n",
       "    </tr>\n",
       "    <tr>\n",
       "      <th>3499</th>\n",
       "      <td>Alternative &amp; Punk</td>\n",
       "      <td>Oprah</td>\n",
       "      <td>6</td>\n",
       "      <td>330</td>\n",
       "    </tr>\n",
       "    <tr>\n",
       "      <th>3500</th>\n",
       "      <td>Alternative &amp; Punk</td>\n",
       "      <td>A Statistic</td>\n",
       "      <td>6</td>\n",
       "      <td>331</td>\n",
       "    </tr>\n",
       "    <tr>\n",
       "      <th>3501</th>\n",
       "      <td>Alternative &amp; Punk</td>\n",
       "      <td>Now Sports</td>\n",
       "      <td>4</td>\n",
       "      <td>332</td>\n",
       "    </tr>\n",
       "    <tr>\n",
       "      <th>3502</th>\n",
       "      <td>Rock</td>\n",
       "      <td>É Uma Partida De Futebol</td>\n",
       "      <td>1</td>\n",
       "      <td>1297</td>\n",
       "    </tr>\n",
       "  </tbody>\n",
       "</table>\n",
       "<p>3503 rows × 4 columns</p>\n",
       "</div>"
      ],
      "text/plain": [
       "                   Genre                        Track  Seconds  Genre Rank\n",
       "0               TV Shows       Occupation / Precipice     5286           1\n",
       "1                  Drama      Through a Looking Glass     5088           1\n",
       "2       Sci Fi & Fantasy  Greetings from Earth, Pt. 1     2960           1\n",
       "3       Sci Fi & Fantasy      The Man With Nine Lives     2956           2\n",
       "4       Sci Fi & Fantasy  Battlestar Galactica, Pt. 2     2956           3\n",
       "...                  ...                          ...      ...         ...\n",
       "3498         Hip Hop/Rap                 Commercial 1        7          35\n",
       "3499  Alternative & Punk                        Oprah        6         330\n",
       "3500  Alternative & Punk                  A Statistic        6         331\n",
       "3501  Alternative & Punk                   Now Sports        4         332\n",
       "3502                Rock     É Uma Partida De Futebol        1        1297\n",
       "\n",
       "[3503 rows x 4 columns]"
      ]
     },
     "metadata": {},
     "output_type": "display_data"
    }
   ],
   "source": [
    "# A window query\n",
    "# WARNING: will not run in Google Colab\n",
    "\n",
    "query = \"\"\"\n",
    "    SELECT Genre.Name As Genre, Track.Name AS Track,\n",
    "           Milliseconds / 1000 AS Seconds,\n",
    "           RANK() OVER (PARTITION BY Genre.Name ORDER BY Milliseconds DESC) AS \"Genre Rank\"\n",
    "      FROM Track\n",
    "INNER JOIN Genre\n",
    "        ON Track.GenreId = Genre.GenreId\n",
    "        ORDER BY Seconds DESC;\n",
    "\"\"\"\n",
    "# The following line tells Pandas how we want our floating point values\n",
    "#   to be formatted.\n",
    "with pd.option_context('display.float_format', lambda x: \"{:,.1f}\".format(x)):\n",
    "    show_query(query)"
   ]
  },
  {
   "cell_type": "markdown",
   "id": "c1b90e5f-8912-4a34-ae40-62bf758aa72b",
   "metadata": {},
   "source": [
    "The preceding query contains 3,503 rows, one for each record in the *Track* table. The first three columns are typical columns one might find in a `SELECT` query. But the final column, *Genre Rank*, is different. If a track is the longest track within it's genre, then *Genre Rank* is 1. If it's the second longest track within its genre, then *Genre Rank* is 2, and so on. If we wanted, we could include this query in a composite query and find the 5th longest track in each genre."
   ]
  },
  {
   "cell_type": "code",
   "execution_count": null,
   "id": "3b663d90-d0ee-46f1-a657-28ab9aa23bf2",
   "metadata": {},
   "outputs": [],
   "source": [
    "# Find the 5th longest track for each genre\n",
    "# WARNING: will not run in Google Colab\n",
    "query = \"\"\"\n",
    "    WITH TrackRanks AS (\n",
    "        SELECT Genre.Name As Genre, Track.Name AS Track,\n",
    "               Milliseconds / 1000 AS Seconds,\n",
    "               RANK() OVER (PARTITION BY Genre.Name ORDER BY Milliseconds DESC) AS \"Genre Rank\"\n",
    "          FROM Track\n",
    "    INNER JOIN Genre\n",
    "            ON Track.GenreId = Genre.GenreId\n",
    "            ORDER BY Seconds DESC)\n",
    "    \n",
    "    SELECT *\n",
    "      FROM TrackRanks\n",
    "     WHERE \"Genre Rank\" = 5;\n",
    "\"\"\"\n",
    "# The following line tells Pandas how we want our floating point values\n",
    "#   to be formatted.\n",
    "with pd.option_context('display.float_format', lambda x: \"{:,.1f}\".format(x)):\n",
    "    show_query(query, 8)"
   ]
  },
  {
   "cell_type": "markdown",
   "id": "7c1b57a3-f98b-4341-94fe-c4c24ecb379b",
   "metadata": {},
   "source": [
    "The *Genre Rank* column is defined by the following clause:\n",
    "```SQL\n",
    "RANK() OVER (PARTITION BY Genre.Name ORDER BY Milliseconds DESC) AS \"Genre Rank\"\n",
    "```\n",
    "* `RANK()` is a window function.\n",
    "* The `OVER ()` clause is what makes this query a window query. It defines the subset of rows, or *window*, over which the `RANK()` function operates. The preceding `OVER()` clause has two parts.\n",
    "  * The `PARTITION BY Genre.Name` operates similar to how `GROUP BY Genre.Name` would operate in an aggregate query. It causes `RANK()` to calculate different rankings within each genre.\n",
    "  * The `ORDER BY Milliseconds DESC` clause causes the rows to be ordered and ranked by the contents of the *Milliseconds* column. \n",
    "  \n",
    "The `ORDER BY` clause is mandatory when using the `RANK()` function because the `RANK()` function doesn't make any sense if there is no defined order. But we could remove the `PARTITION BY` clause if we wanted."
   ]
  },
  {
   "cell_type": "code",
   "execution_count": null,
   "id": "a9f5a8d5-ffad-43ee-9da7-bea8fb035fde",
   "metadata": {},
   "outputs": [],
   "source": [
    "# Window query with no PARTITION BY clause\n",
    "# WARNING: will not run in Google Colab\n",
    "query = \"\"\"\n",
    "    SELECT Genre.Name As Genre, Track.Name AS Track,\n",
    "           Milliseconds / 1000 AS Seconds,\n",
    "           RANK() OVER (ORDER BY Milliseconds DESC) AS \"Genre Rank\"\n",
    "      FROM Track\n",
    "INNER JOIN Genre\n",
    "        ON Track.GenreId = Genre.GenreId\n",
    "        ORDER BY Seconds DESC;\n",
    "\"\"\"\n",
    "# The following line tells Pandas how we want our floating point values\n",
    "#   to be formatted.\n",
    "with pd.option_context('display.float_format', lambda x: \"{:,.1f}\".format(x)):\n",
    "    show_query(query)"
   ]
  },
  {
   "cell_type": "markdown",
   "id": "3fde3f69-22b9-4006-b3c4-2f4732af3385",
   "metadata": {},
   "source": [
    "Without the `PARTITION BY` clause, a single ranking is generated for the entire table, ranging from 1 for the longest track to 3503 for the shortest.\n",
    "\n",
    "Figure 1 graphically depicts the difference between aggregate and window queries.\n",
    "\n",
    "#### Figure 1\n",
    "![Window Query](images/window-query.png)"
   ]
  },
  {
   "cell_type": "markdown",
   "id": "1683aebf-0c2f-40bb-b4d0-4882d9c3fd26",
   "metadata": {},
   "source": [
    "Aggregate functions can also be used in window queries. The next query calculates the cumulative sum by date for sales during the first three months of 2009."
   ]
  },
  {
   "cell_type": "code",
   "execution_count": null,
   "id": "978e62a6-9205-4bc5-b898-a5ef361b1267",
   "metadata": {},
   "outputs": [],
   "source": [
    "# Calculating cumulative sums\n",
    "# WARNING: will not run in Google Colab\n",
    "query = \"\"\"\n",
    "    SELECT DATE(InvoiceDate) AS InvoiceDate,\n",
    "           STRFTIME('%Y-%m', InvoiceDate) AS Month,\n",
    "           Total,\n",
    "           SUM(Total) OVER(\n",
    "               PARTITION BY STRFTIME('%Y-%m', InvoiceDate)\n",
    "                   ORDER BY InvoiceDate \n",
    "               ROWS BETWEEN UNBOUNDED PRECEDING\n",
    "                        AND CURRENT ROW)\n",
    "                         AS CumulativeSum\n",
    "      FROM Invoice\n",
    "     WHERE Month IN ('2009-01', '2009-02', '2009-03')\n",
    "  ORDER BY InvoiceDate;\n",
    "\"\"\"\n",
    "show_query(query)"
   ]
  },
  {
   "cell_type": "markdown",
   "id": "7d15d30a-e93f-4585-9681-098abbd9f2ef",
   "metadata": {},
   "source": [
    "The preceding query introduces two new concepts: date functions and frame specifications.\n",
    "\n",
    "### A. Date Functions\n",
    "The `DATE()` and `STRFTIME()` function are SQLite date functions. Unlike most other relational databases, SQLite does not have a date datatype, but it does have a few date functions. Dates and times can be stored as text, integers, or real numbers. If stored as text, the dates and times must adhere to the format `YYYY-MM-DD HH:MM:SS:SSS`, which corresponds to years, months, days, hours, minutes, seconds, and fractional seconds, in that order. Also, the hours must be in 24-hour time.\n",
    "\n",
    "The `DATE` function extracts the date portion of the *InvoiceDate* column and the `STRFTIME()` function uses a format string to extract the year and month from the *InvoiceDate* column. See [the SQLite documentation on date and time functions](https://www.sqlite.org/lang_datefunc.html) for more information.\n",
    "\n",
    "The SQLite `JULIANDAY()` function is worth noting. It converts dates to an integer. The integer is the number of days since noon in Greenwich on November 24th, 4714 BCE (before common era). The 4174 BCE start date is based on work by Joseph Scaliger, a classical scholar who lived from 1540 to 1609. "
   ]
  },
  {
   "cell_type": "code",
   "execution_count": null,
   "id": "cae0774c-ade5-4f62-a74c-5f18a8d385fa",
   "metadata": {},
   "outputs": [],
   "source": [
    "# JULIANDAY Function\n",
    "query = \"\"\"\n",
    "    SELECT CAST(JULIANDAY(InvoiceDate) AS Integer) AS InvoiceDate, Total\n",
    "      FROM Invoice\n",
    "  ORDER BY InvoiceDate;\n",
    "\"\"\"\n",
    "show_query(query, 6)"
   ]
  },
  {
   "cell_type": "markdown",
   "id": "3140f8b0-a016-438c-80db-c21b01d1e201",
   "metadata": {},
   "source": [
    "The `JULIANDAY()` function is surprisingly useful. Its output is meaningless to most humans, but it makes it easy to calculate the number of days between two dates, or to join tables by date."
   ]
  },
  {
   "cell_type": "markdown",
   "id": "88b83090-af52-425b-8719-9e520587768f",
   "metadata": {},
   "source": [
    "### B.Frame Specification with `ROWS`\n",
    "`OVER()` clauses, which are also called window definitions, can have up to three parts: the `PARTITION BY` clause, the `ORDER BY` clause, and the frame specification. The frame specification defines a set or rows, or window frame, that the window or aggregate function operates on.\n",
    "\n",
    "In the earlier window query, we used the `SUM()` function to calculate the sum of the values in the *Total* column, but we didn't want to sum all rows in the partition. We only want to sum rows that occur between the first row of the partition and the current row. We accomplished this by adding a frame specification to our window definition.\n",
    "\n",
    "The clause `ROWS BETWEEN UNBOUNDED PRECEDING AND CURRENT ROW` instructs SQL to sum only the rows that occur between the very first row (i.e., `UNBOUNDED PRECEDING`) and the current row.\n",
    "\n",
    "It's unlikely anyone would want to do this, but we could also calculate a shrinking sum that starts with the total sales for the month and descends to zero. Note that we are using the phrase `UNBOUNDED FOLLOWING` to refer to the final row of the partition."
   ]
  },
  {
   "cell_type": "code",
   "execution_count": null,
   "id": "c5c4bdcf-d8ff-4494-af7a-80ab785c1d26",
   "metadata": {},
   "outputs": [],
   "source": [
    "# Limiting the window to specific rows\n",
    "# WARNING: will not run in Google Colab\n",
    "query = \"\"\"\n",
    "    SELECT DATE(InvoiceDate) AS InvoiceDate,\n",
    "           STRFTIME('%Y-%m', InvoiceDate) AS Month,\n",
    "           Total,\n",
    "           SUM(Total) OVER(\n",
    "               PARTITION BY STRFTIME('%Y-%m', InvoiceDate)\n",
    "                   ORDER BY InvoiceDate \n",
    "               ROWS BETWEEN CURRENT ROW\n",
    "                        AND UNBOUNDED FOLLOWING)\n",
    "                         AS DescendingSum\n",
    "      FROM Invoice\n",
    "     WHERE Month IN ('2009-01', '2009-02')\n",
    "  ORDER BY InvoiceDate;\n",
    "\"\"\"\n",
    "show_query(query)"
   ]
  },
  {
   "cell_type": "markdown",
   "id": "cc50f0a5-62c3-4671-a244-56a188c33280",
   "metadata": {},
   "source": [
    "We could get really wierd and calculate an average total from the frame consisting of the current row and the three rows that occur before and after the current row (seven\n",
    "rows total)."
   ]
  },
  {
   "cell_type": "code",
   "execution_count": null,
   "id": "099983c9-49b8-4fd8-ba9e-6a2881f73d66",
   "metadata": {},
   "outputs": [],
   "source": [
    "# Calculating 7-day average with ROWS\n",
    "# WARNING: will not run in Google Colab\n",
    "query = \"\"\"\n",
    "    SELECT DATE(InvoiceDate) AS InvoiceDate,\n",
    "           STRFTIME('%Y-%m', InvoiceDate) AS Month,\n",
    "           Total,\n",
    "           AVG(Total) OVER(\n",
    "               PARTITION BY STRFTIME('%Y-%m', InvoiceDate)\n",
    "                   ORDER BY InvoiceDate \n",
    "               ROWS BETWEEN 3 PRECEDING\n",
    "                        AND 3 FOLLOWING)\n",
    "                         AS \"7-Day Average\"\n",
    "      FROM Invoice\n",
    "     WHERE Month IN ('2009-01', '2009-02')\n",
    "  ORDER BY InvoiceDate;\n",
    "\"\"\"\n",
    "show_query(query)"
   ]
  },
  {
   "cell_type": "markdown",
   "id": "bb9ca3ea-2b09-4cb3-971d-81f85ddc661a",
   "metadata": {},
   "source": [
    "### C.Frame Specification with `RANGE`\n",
    "Replacing `ROWS` with the `RANGE` keyword causes SQL to include rows whose *values* fall within the specified limits. The next query counts the number of invoices within the same month that have a total within $1 of the current row."
   ]
  },
  {
   "cell_type": "code",
   "execution_count": null,
   "id": "371aecf0-7c4f-45dd-82f5-de1bacc129c8",
   "metadata": {},
   "outputs": [],
   "source": [
    "# Invoices within $1 of the current row.\n",
    "# WARNING: will not run in Google Colab\n",
    "query = \"\"\"\n",
    "    SELECT DATE(InvoiceDate) AS InvoiceDate,\n",
    "           STRFTIME('%Y-%m', InvoiceDate) AS Month,\n",
    "           Total,\n",
    "           COUNT(*) OVER(\n",
    "               PARTITION BY STRFTIME('%Y-%m', InvoiceDate)\n",
    "                   ORDER BY Total\n",
    "               RANGE BETWEEN 1 PRECEDING\n",
    "                        AND 1 FOLLOWING)\n",
    "                         AS \"Count of totals within $1\"\n",
    "      FROM Invoice\n",
    "     WHERE Month IN ('2009-01', '2009-02')\n",
    "  ORDER BY InvoiceDate;\n",
    "\"\"\"\n",
    "show_query(query)"
   ]
  },
  {
   "cell_type": "markdown",
   "id": "f6a463f1-028a-498c-9036-1ba8a05edaa8",
   "metadata": {},
   "source": [
    "In addition to replacing `ROWS` with `RANGE`, we had to order the window by the *Total* column."
   ]
  },
  {
   "cell_type": "markdown",
   "id": "b06fc347-b8db-4ad3-909d-b0bfd6f6f3fa",
   "metadata": {},
   "source": [
    "### D. `LEAD()` and `LAG()`\n",
    "The `LEAD()` and `LAG()` functions will retrieve values from nearby rows."
   ]
  },
  {
   "cell_type": "code",
   "execution_count": null,
   "id": "eebd68a1-f1b8-4575-a538-f2ce59908832",
   "metadata": {},
   "outputs": [],
   "source": [
    "# LAG() example\n",
    "# WARNING: will not run in Google Colab\n",
    "query = \"\"\"\n",
    "    SELECT DATE(InvoiceDate) AS InvoiceDate,\n",
    "           BillingCity,\n",
    "           LAG(Total) OVER(ORDER BY InvoiceDate) AS \"Prior Total\",\n",
    "           Total AS \"Current Total\"\n",
    "      FROM Invoice;        \n",
    "\"\"\"\n",
    "show_query(query, 8)"
   ]
  },
  {
   "cell_type": "markdown",
   "id": "69dfebdb-7fd5-4aa3-8768-275aa1fcd52c",
   "metadata": {},
   "source": [
    "Both `LEAD()` and `LAG()` accept a row offset value. The next query shows the total from the row that is three rows ahead."
   ]
  },
  {
   "cell_type": "code",
   "execution_count": null,
   "id": "da4978bd-8d77-4b7a-b653-a978517a3b5e",
   "metadata": {},
   "outputs": [],
   "source": [
    "# LEAD() example\n",
    "# WARNING: will not run in Google Colab\n",
    "query = \"\"\"\n",
    "    SELECT DATE(InvoiceDate) AS InvoiceDate,\n",
    "           BillingCity,\n",
    "           Total AS \"Current Total\",\n",
    "           LEAD(Total, 3) OVER(ORDER BY InvoiceDate) AS \"Future Total\"\n",
    "      FROM Invoice;        \n",
    "\"\"\"\n",
    "show_query(query, 8)"
   ]
  },
  {
   "cell_type": "markdown",
   "id": "8b8cf59d-6b93-4468-af59-3bd51698db6d",
   "metadata": {},
   "source": [
    "### E. Ranking Functions\n",
    "We already used one of the ranking functions, `RANK()` in a query. Run the next query to see how the `RANK()` functions behaves when there is a tie. The query ranks employees by the year they were hired."
   ]
  },
  {
   "cell_type": "code",
   "execution_count": null,
   "id": "cfdee8a3-3a1e-4a9c-89f6-e17c05171397",
   "metadata": {},
   "outputs": [],
   "source": [
    "# RANK() Example\n",
    "# WARNING: will not run in Google Colab\n",
    "query = \"\"\"\n",
    "    SELECT FirstName || ' ' || LastName AS Name,\n",
    "           STRFTIME('%Y', HireDate) AS HireYear,\n",
    "           RANK() OVER (ORDER BY STRFTIME('%Y', HireDate)) AS \"Seniority Rank\"\n",
    "      FROM Employee;\n",
    "\"\"\"\n",
    "show_query(query)"
   ]
  },
  {
   "cell_type": "markdown",
   "id": "9389a1a3-ad25-4619-b4d9-0eb09b4d3f4e",
   "metadata": {},
   "source": [
    "There were three employees that were hired in 2002 and tied for the highest seniority. They were all assigned a *Seniority Rank* of 1. Since there was a three-way tie for first, the employees who were hired in 2003 were all assigned a *Seniority Rank* of 4.\n",
    "\n",
    "There is similar function called `DENSE_RANK()` that handles ties differently."
   ]
  },
  {
   "cell_type": "code",
   "execution_count": null,
   "id": "2a178993-4310-4bbe-a0f2-b694cb9157f9",
   "metadata": {},
   "outputs": [],
   "source": [
    "# DENSE_RANK() Example\n",
    "# WARNING: will not run in Google Colab\n",
    "query = \"\"\"\n",
    "    SELECT FirstName || ' ' || LastName AS Name,\n",
    "           STRFTIME('%Y', HireDate) AS HireYear,\n",
    "           DENSE_RANK() OVER (ORDER BY STRFTIME('%Y', HireDate)) AS \"Seniority Rank\"\n",
    "      FROM Employee;\n",
    "\"\"\"\n",
    "show_query(query)"
   ]
  },
  {
   "cell_type": "markdown",
   "id": "32278813-1fbb-4fac-9199-9fb6ca014180",
   "metadata": {},
   "source": [
    "`DENSE_RANK()` assigns the same rank to rows with the same value, but it does not skip any rank values. Even though there is a three-way tie for first, all employees hired in 2003 are still assigned a rank of 2.\n",
    "\n",
    "Sometimes we don't care about ties. We just want to assign an increasing integer to each row. `ROW_NUMBER()` is the right function for this situation."
   ]
  },
  {
   "cell_type": "code",
   "execution_count": null,
   "id": "aa4ad213-c150-4e20-846a-f07b73fffb8d",
   "metadata": {},
   "outputs": [],
   "source": [
    "# ROW_NUMBER() Example\n",
    "# WARNING: will not run in Google Colab\n",
    "query = \"\"\"\n",
    "    SELECT FirstName || ' ' || LastName AS Name,\n",
    "           STRFTIME('%Y', HireDate) AS HireYear,\n",
    "           ROW_NUMBER() OVER (ORDER BY STRFTIME('%Y', HireDate)) AS \"Seniority Rank\"\n",
    "      FROM Employee;\n",
    "\"\"\"\n",
    "show_query(query)"
   ]
  },
  {
   "cell_type": "markdown",
   "id": "94393585-af54-4b4a-b7cc-07ca580b0056",
   "metadata": {},
   "source": [
    "### F. Named Window Definitions\n",
    "What if you wanted to have two columns in your query that used the same window definition? You could just repoeat the window specification for each column, but that get's wordy."
   ]
  },
  {
   "cell_type": "code",
   "execution_count": null,
   "id": "a8fb6111-a897-4f89-8249-8d4a20cce7ac",
   "metadata": {},
   "outputs": [],
   "source": [
    "# Repeated Window Specification\n",
    "# WARNING: will not run in Google Colab\n",
    "query = \"\"\"\n",
    "    SELECT DATE(InvoiceDate) AS InvoiceDate,\n",
    "           BillingCity,\n",
    "           LAG(Total) OVER (ORDER BY InvoiceDate) AS \"Prior Total\",\n",
    "           Total AS \"Current Total\",\n",
    "           LEAD(Total) OVER (ORDER BY InvoiceDate) AS \"Next Total\"\n",
    "      FROM Invoice;        \n",
    "\"\"\"\n",
    "show_query(query, 6)"
   ]
  },
  {
   "cell_type": "markdown",
   "id": "ae99703d-4896-401f-b3c3-9b261facf859",
   "metadata": {},
   "source": [
    "SQLite allows users to define and name a window specification with a `WINDOW` clause. The named window specification can be used multiple times within the same query."
   ]
  },
  {
   "cell_type": "code",
   "execution_count": null,
   "id": "4a30b0c0-0c47-4852-8e7f-fb5b8ad0d053",
   "metadata": {},
   "outputs": [],
   "source": [
    "# Named Window Specification\n",
    "# WARNING: will not run in Google Colab\n",
    "query = \"\"\"\n",
    "    SELECT DATE(InvoiceDate) AS InvoiceDate,\n",
    "           BillingCity,\n",
    "           LAG(Total) OVER InvoiceWin AS \"Prior Total\",\n",
    "           Total AS \"Current Total\",\n",
    "           LEAD(Total) OVER InvoiceWin AS \"Next Total\"\n",
    "      FROM Invoice\n",
    "    WINDOW InvoiceWin AS (ORDER BY InvoiceDate);        \n",
    "\"\"\"\n",
    "show_query(query, 6)"
   ]
  },
  {
   "cell_type": "markdown",
   "id": "834155fd-7b93-4d10-84d2-c9bb43e07887",
   "metadata": {},
   "source": [
    "### G. Window Query References\n",
    "Scan the [SQLite's official documentation on window queries](https://www.sqlite.org/windowfunctions.html). It precisely explains the syntax that is accepted by SQLite and lists all window functions and related key words. SQLite's documentation describes many features of window queries that were not explained in this tutorial.\n",
    "\n",
    "If you are having trouble understanding window queries, try reading through the [window query tutorial on www.sqltutorial.org.](https://www.sqltutorial.org/sql-window-functions/)"
   ]
  },
  {
   "cell_type": "markdown",
   "id": "4b6ce9af-4d91-4cb6-bf06-5d77deb22360",
   "metadata": {},
   "source": [
    "### H. Exercises 9 - 11"
   ]
  },
  {
   "cell_type": "markdown",
   "id": "6bb66b79-7965-4d0f-8ace-9475afb04c90",
   "metadata": {},
   "source": [
    "#### Ex. #9\n",
    "Draft a query that returns the track name, genre, bytes, and the average number of bytes for all tracks within a specific genre. Order the results by bytes, in ascending order."
   ]
  },
  {
   "cell_type": "code",
   "execution_count": null,
   "id": "43c37826-cce3-4d23-a7a9-6c59e57c46b9",
   "metadata": {},
   "outputs": [],
   "source": [
    "# Ex. #9\n",
    "\n"
   ]
  },
  {
   "cell_type": "markdown",
   "id": "6a9c15fa-37c8-4b56-8061-e64ee40d66d7",
   "metadata": {},
   "source": [
    "#### Ex. #10\n",
    "Write a query that calculates a cumulative sum of bytes for every album. The query should include columns for the track, album, Mebibytes, and cumulative sum of Mebibytes. Order the tracks by *TrackId* within the window definition. Order the results by album title and *TrackId*.\n",
    "\n",
    "**HINTS:**\n",
    "* Divide bytes by 1048576 to convert to mebibytes.\n",
    "* The *Bytes* column has a datatype of integer. More precise results can be obtained by casting *Bytes* to a FLOAT value, i.e., `CAST(Track.Bytes AS FLOAT)`."
   ]
  },
  {
   "cell_type": "code",
   "execution_count": null,
   "id": "41ad8f80-70b0-421b-b9d8-77756ed3c513",
   "metadata": {},
   "outputs": [],
   "source": [
    "# Ex. #10\n",
    "\n"
   ]
  },
  {
   "cell_type": "markdown",
   "id": "3b3f9351-58a2-46c1-a8a2-dcb0d61a6a0a",
   "metadata": {
    "tags": []
   },
   "source": [
    "#### Ex. #11\n",
    "Write a query that shows the invoice date and total dollar amount for each invoice. Include a column that contains the 7-day average total. That is, the column should contain the average of the *Total* column for the period starting six days prior to the current date. Order the results by *InvoiceDate*.\n",
    "\n",
    "**HINTs**\n",
    "* Don't forget about the `JULIANDAY()` function. Use it in the `ORDER BY` section of the `OVER` clause.\n",
    "* Use the `DATE()` function to remove time components from *InvoiceDate*."
   ]
  },
  {
   "cell_type": "code",
   "execution_count": null,
   "id": "d0427c11-70e5-4a90-ac3a-fd2cb6f527f2",
   "metadata": {},
   "outputs": [],
   "source": [
    "# Ex. #11\n",
    "\n",
    "\n"
   ]
  },
  {
   "cell_type": "markdown",
   "id": "e38db0d1-ac73-47fb-8db4-71936c76eb7c",
   "metadata": {},
   "source": [
    "## V. Exercises 12 - 13"
   ]
  },
  {
   "cell_type": "markdown",
   "id": "f6477c2c-5182-4ba1-ab94-4d333f3f781e",
   "metadata": {},
   "source": [
    "#### Ex. #12\n",
    "Write a query that lists the artists with the 2nd-higest number of tracks for each genre.\n",
    "* The query should return four columns: genre, artist, tracks, and the artists rank by number of tracks, i.e., the artist with the most tracks in a genre will have rank 1.\n",
    "* In case of ties, show all artists who tied for first or second.\n",
    "* Order the results by genre then rank.\n",
    "* **HINT:** The mentor's solution required a `WITH` query with two subqueries and a main query."
   ]
  },
  {
   "cell_type": "code",
   "execution_count": null,
   "id": "499e8791-2741-4ff4-978a-77fd7441169f",
   "metadata": {},
   "outputs": [],
   "source": [
    "# Ex. #12\n",
    "\n"
   ]
  },
  {
   "cell_type": "markdown",
   "id": "57ce5b00-567a-4f4f-8add-613d89843f2e",
   "metadata": {},
   "source": [
    "#### Ex. #13\n",
    "Write a query that calculates the population variance of the track lengths, in seconds, for each genre.\n",
    "* The results should have two columns, genre and variance.\n",
    "* The results should be sorted by variance in descending order.\n",
    "* Display the variances as integers.\n",
    "\n",
    "**HINTS**\n",
    "* The formula for variance is:\n",
    "$$\\textrm{Var} = \\sum^n_i \\frac{(x_i - \\bar{x})^2}{n}$$\n",
    "  * $x_i$ is the length of track $i$.\n",
    "  * $\\bar{x}$ is the average track length for all tracks in a genre.\n",
    "  * $n$ is the number of tracks in the genre.\n",
    "  * In English, we want to calculate the average track length for each genre. Then for every track, we'll need to square the difference between the track's length and the average track length, sum the squared differences for each track, and finally divide the sum by the number of tracks in each genre.\n",
    "* This will require a composite query.\n",
    "  * Start by joining the *Track* and *Genre* tables and converting millisecons to seconds.\n",
    "  * Add a column *to each row* with the average track length for the applicable genre (requires window query).\n",
    "  * Calculate the square of the difference between the track length and average track length.\n",
    "  * Sum the squared differences and divide by the number of tracks in each genre (requires aggregate query).\n",
    "* With respect to displaying results as an integer, don't forget about the `CAST()` function"
   ]
  },
  {
   "cell_type": "code",
   "execution_count": null,
   "id": "f2818806-aff5-4594-bf57-cacc12f03b52",
   "metadata": {},
   "outputs": [],
   "source": [
    "# Ex. #13\n",
    "\n"
   ]
  },
  {
   "cell_type": "markdown",
   "id": "efa4211e-ef57-497f-ab8a-c017e091324f",
   "metadata": {},
   "source": [
    "## VI. Optional HackerRank Query\n",
    "SQL queries can get long and complicated. If you would like to see an example of how a complicated query can be built up in small steps, check out the [15 Days of SQL Query from HackerRank](SQL15Days/SQL15Days.ipynb)."
   ]
  },
  {
   "cell_type": "markdown",
   "id": "581dc6b1-e990-4523-8169-03d98c81785f",
   "metadata": {},
   "source": [
    "## VII. More to Learn\n",
    "We've covered many features and capabilities of Structured Query Language (SQL) in this notebook and the preceding three notebooks. But make no mistake, there is much more to learn about SQL. This class focused on commonly used SQL features and features that we expect to use in our robotics scouting system. Here is a short and incomplete list of features we *did not* cover.\n",
    "* [These notebooks covered only a fraction of SQLite's functions.](https://www.sqlite.org/lang_corefunc.html)\n",
    "* For every type of query we covered, there are options and features that we didn't have time to discuss.\n",
    "* [Python's *sqlite3* package has features that we did not discuss.](https://docs.python.org/3/library/sqlite3.html)\n",
    "* Triggers are database operations that are automatically performed when certain events occur. Triggers can automatically run update, insert, or delete queries when tables are altered. [See SQLite's documentation on triggers for more information.](https://www.sqlite.org/lang_createtrigger.html)\n",
    "* [SQLite INSERT, UPDATE, and DELETE queries can be modified to return the addeded, updated, or deleted data.](https://www.sqlite.org/lang_returning.html)\n",
    "* Other database systems have even more features. Some systems allow users to temporarily store values in variables. Others have queries that create custom functions.\n",
    "* There are many optimization techniques that will make queries on large datasets run faster.\n",
    "\n",
    "In summary, it's a good idea to explore the documentation for whatever database system you are using. If you are having a difficult time implementing a feature in your program, or your code seems more complicated than it should be, there is a good chance that there is a SQL feature that would make your work easier."
   ]
  },
  {
   "cell_type": "markdown",
   "id": "e7f65acf-f122-4289-90fb-2ae212298c77",
   "metadata": {},
   "source": [
    "## VIII. Save Your Work\n",
    "Once you have completed the exercises, save a copy of the notebook outside of the git repository (outside of the *pyclass_frc* folder). Include your name in the file name. Send the notebook file to another student to check your answers."
   ]
  },
  {
   "cell_type": "markdown",
   "id": "dfe0d5ba-5d9f-4c88-9e97-375a6918b4ea",
   "metadata": {},
   "source": [
    "## IX. Concept and Terminology Review\n",
    "You should be able to define the following terms or describe the concept. \n",
    "* Nested Query\n",
    "* `WITH`\n",
    "* Views\n",
    "* `CREATE VIEW`\n",
    "* Window Query\n",
    "* Window Definition\n",
    "* `OVER`\n",
    "* `PARTITION BY`\n",
    "* `ORDER BY`\n",
    "* Frame Specification\n",
    "* `RANK()`\n",
    "* `DENSE_RANK()`\n",
    "* `ROW_NUMBER()`\n",
    "* `LAG()`\n",
    "* `LEAD()`\n",
    "* `ROWS`\n",
    "* `RANGE`\n",
    "* `UNBOUNDED PRECEDING`\n",
    "* `UNBOUNDED FOLLOWING`\n",
    "* `CURRENT ROW`\n",
    "* `DATE()`\n",
    "* `STRFTIME()`\n",
    "* `JULIANDAY()`\n",
    "* `WINDOW`\n"
   ]
  },
  {
   "cell_type": "markdown",
   "id": "feac7634-e6c7-4464-a4d8-00ca4eb74bac",
   "metadata": {},
   "source": [
    "[Table of Contents](../../index.ipynb)"
   ]
  }
 ],
 "metadata": {
  "kernelspec": {
   "display_name": "Python 3 (ipykernel)",
   "language": "python",
   "name": "python3"
  },
  "language_info": {
   "codemirror_mode": {
    "name": "ipython",
    "version": 3
   },
   "file_extension": ".py",
   "mimetype": "text/x-python",
   "name": "python",
   "nbconvert_exporter": "python",
   "pygments_lexer": "ipython3",
   "version": "3.9.7"
  },
  "toc-autonumbering": false
 },
 "nbformat": 4,
 "nbformat_minor": 5
}
