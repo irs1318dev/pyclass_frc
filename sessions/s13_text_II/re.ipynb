{
 "cells": [
  {
   "cell_type": "markdown",
   "id": "ebf5719c",
   "metadata": {},
   "source": [
    "# Working with Text, Part II\n",
    "\n",
    "In the preceding session we studied string literals, escape sequences, string formatting, encoding, string slicing, and string methods. While a programmer can get a lot of work done with these techniques, they only go so far. If you wanted to search a block of text chemical formulas or email addresses, you probably would need to write custom functions, and these custom functions would be difficult to debug.\n",
    "\n",
    "In this session we'll study a text processing tool called *regular expressions*. Regular expressions can complete sophisticated text processing jobs, like identfying email address or chemical formulas, in just a few lines of code. It takes some effort to learn regular expressions, but they are available in most programming languages. Once you learn them you can use them anywhere!\n",
    "\n",
    "Finally, we'll cover some of the text processing tools that are available in the Pandas package. It's pretty common to have a text column in a dataframe and to need to conduct some sort of transformation or evaluation of that column."
   ]
  },
  {
   "cell_type": "markdown",
   "id": "cfc8adf3",
   "metadata": {},
   "source": [
    "## I. Regular Expresions\n",
    "\n",
    "### A. Our First Regular Expression\n",
    "First, let's create a long string on which we can try out some regular expressions (RE). "
   ]
  },
  {
   "cell_type": "code",
   "execution_count": 1,
   "id": "873b3918",
   "metadata": {},
   "outputs": [],
   "source": [
    "shel_poem = \"\"\"\n",
    "I told my robot to do my biddin'\n",
    "He yawned and said, \"You must be kiddin'.\"\n",
    "I told my robot to cook me a stew.\n",
    "He said, \"I got better things to do.\"\n",
    "I told my robot to sweep my shack.\n",
    "He said. \"You want me to strain my back?\"\n",
    "I told my robot to answer the phone.\n",
    "He said, \"I must make some calls of my own.\"\n",
    "I told my robot to brew me some tea.\n",
    "He said, \"Why don’t you make tea for me?\"\n",
    "I told my robot to boil me an egg.\n",
    "He said, \"First -– lemme hear you beg.\"\n",
    "I told my robot, \"There’s a song you can play me.\"\n",
    "He said, \"How much are you gonna pay me?\"\n",
    "So I sold that robot, 'cause I never knew\n",
    "Exactly who belonged to who.\n",
    "\"\"\""
   ]
  },
  {
   "cell_type": "markdown",
   "id": "b3b102c9",
   "metadata": {},
   "source": [
    "To use regular expressions in Python we must first import the *re* module from the standard libary. We then create a pattern that specifies what we want to do, and finally we pass that pattern to a regular expression function."
   ]
  },
  {
   "cell_type": "code",
   "execution_count": 7,
   "id": "a7c27b4a",
   "metadata": {},
   "outputs": [
    {
     "data": {
      "text/plain": [
       "<re.Match object; span=(11, 16), match='robot'>"
      ]
     },
     "execution_count": 7,
     "metadata": {},
     "output_type": "execute_result"
    }
   ],
   "source": [
    "# First regular expression example\n",
    "import re\n",
    "\n",
    "pattern = r\"robot\"\n",
    "\n",
    "mtch = re.search(pattern, shel_poem)\n",
    "mtch"
   ]
  },
  {
   "cell_type": "markdown",
   "id": "f451b193",
   "metadata": {},
   "source": [
    "In the preceding example, we created the regular expression pattern \"robot\" using a raw string. (We'll see why raw strings are useful later.) We then passed the pattern  and a poem by Shel Siverstein to the `search()` function from Python's `re` module. The search function finds the first span of text in the poem that matches the pattern, and returns the results as a `Match` object. The `Match` object tells us that the first occurrence of \"robot\" starts at position 11 and ends at position 16. Note that for `Match` objects, the first character is at position 1, not 0.\n",
    "\n",
    "`Match` objects have several different methods and attributes, which are described in the [documentation for the `re` module](https://docs.python.org/3/library/re.html#match-objects). We can extract the position of the match with the `.span()` method, and we can extract the text that matched the pattern using list-style indexing."
   ]
  },
  {
   "cell_type": "code",
   "execution_count": 20,
   "id": "eb09e7f1",
   "metadata": {},
   "outputs": [
    {
     "data": {
      "text/plain": [
       "'robot'"
      ]
     },
     "execution_count": 20,
     "metadata": {},
     "output_type": "execute_result"
    }
   ],
   "source": [
    "mtch[0]"
   ]
  },
  {
   "cell_type": "markdown",
   "id": "4f075aed",
   "metadata": {},
   "source": [
    "You might be wondering why we would use list style indexing to extract the text that was matched (\"robot\"). The answer is that it's possible for a `Match` object to contain more than one search result, which will be explained later.\n",
    "\n",
    "If no match is found, `re.search()` returns `None`."
   ]
  },
  {
   "cell_type": "code",
   "execution_count": 25,
   "id": "af5dcf2b",
   "metadata": {},
   "outputs": [
    {
     "data": {
      "text/plain": [
       "NoneType"
      ]
     },
     "execution_count": 25,
     "metadata": {},
     "output_type": "execute_result"
    }
   ],
   "source": [
    "type(re.search(\"Python\", shel_poem))"
   ]
  },
  {
   "cell_type": "markdown",
   "id": "1fde21f1",
   "metadata": {},
   "source": [
    "## B. So What?\n",
    "Right now, you might be thinking \"So what?\" We could have easily found the position of the word \"robot\" using the `.find()` method. Using the `.find()` method requires only one line of code, we don't have to import the `re` module, and we don't have to deal with a weird `Match` object. This is all true. If all you want to do is find the position of a string within another string, `.find()` is a good way to go."
   ]
  },
  {
   "cell_type": "code",
   "execution_count": 22,
   "id": "550ff797",
   "metadata": {},
   "outputs": [
    {
     "data": {
      "text/plain": [
       "11"
      ]
     },
     "execution_count": 22,
     "metadata": {},
     "output_type": "execute_result"
    }
   ],
   "source": [
    "# Using the .find() method\n",
    "shel_poem.find(\"robot\")"
   ]
  },
  {
   "cell_type": "markdown",
   "id": "eac7a742",
   "metadata": {},
   "source": [
    "The answer is that we have not even scratched the surface of what regular expressions can do. To get a better understanding of their potential, we'll start by trying out another function from the `re` module. The `re.findall()` function finds ALL matches within a string."
   ]
  },
  {
   "cell_type": "code",
   "execution_count": 28,
   "id": "33286540",
   "metadata": {},
   "outputs": [
    {
     "data": {
      "text/plain": [
       "['told', 'told', 'told', 'told', 'told', 'told', 'told']"
      ]
     },
     "execution_count": 28,
     "metadata": {},
     "output_type": "execute_result"
    }
   ],
   "source": [
    "# .findall() example\n",
    "pattern = r\"told\"\n",
    "re.findall(pattern, shel_poem)"
   ]
  },
  {
   "cell_type": "markdown",
   "id": "1a057feb",
   "metadata": {},
   "source": [
    "The `.findall()` method returns the matches as a list. Now you're probably thinking \"OK, that's a little bit more interesting, but I'm still not impressed.\" We can see that the word \"told\" occurs seven times within the poem, but the `.findall()` method does not provide the position of the matches. Lets make it more interesting."
   ]
  },
  {
   "cell_type": "code",
   "execution_count": 37,
   "id": "29a5fca2",
   "metadata": {},
   "outputs": [
    {
     "data": {
      "text/plain": [
       "['do', 'cook', 'do', 'sweep', 'strain', 'answer', 'brew', 'boil', 'who']"
      ]
     },
     "execution_count": 37,
     "metadata": {},
     "output_type": "execute_result"
    }
   ],
   "source": [
    "ptn = r\"to\\s(\\w+)\\W\"\n",
    "re.findall(ptn, shel_poem)"
   ]
  },
  {
   "cell_type": "markdown",
   "id": "05ef74a1",
   "metadata": {},
   "source": [
    "What just happened? The pattern in this example returns every word in the poem that follows the word \"to\"."
   ]
  }
 ],
 "metadata": {
  "kernelspec": {
   "display_name": "Python 3",
   "language": "python",
   "name": "python3"
  },
  "language_info": {
   "codemirror_mode": {
    "name": "ipython",
    "version": 3
   },
   "file_extension": ".py",
   "mimetype": "text/x-python",
   "name": "python",
   "nbconvert_exporter": "python",
   "pygments_lexer": "ipython3",
   "version": "3.9.4"
  }
 },
 "nbformat": 4,
 "nbformat_minor": 5
}
