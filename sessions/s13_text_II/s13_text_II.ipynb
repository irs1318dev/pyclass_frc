{
 "cells": [
  {
   "cell_type": "markdown",
   "metadata": {},
   "source": [
    "[Table of Contents](../../index.ipynb)"
   ]
  },
  {
   "cell_type": "markdown",
   "metadata": {},
   "source": [
    "# FRC Analytics with Python - Session 13\n",
    "# Working with Text, Part II\n",
    "**Last Updated: 24 April 2021**\n",
    "\n",
    "In the preceding session we studied string literals, escape sequences, string formatting, encoding, string slicing, and string methods. While a programmer can get a lot of work done with these techniques, they only go so far. If you wanted to search a block of text chemical formulas or email addresses, you probably would need to write custom functions, and these custom functions would be difficult to debug.\n",
    "\n",
    "In this session we'll study a text processing tool called *regular expressions*. Regular expressions can complete sophisticated text processing jobs, like identfying email address or chemical formulas, in just a few lines of code. It takes some effort to learn regular expressions, but they are available in most programming languages. Once you learn them you can use them anywhere!\n",
    "\n",
    "Finally, we'll cover some of the text processing tools that are available in the Pandas package. It's pretty common to have a text column in a dataframe and to need to conduct some sort of transformation or evaluation of that column."
   ]
  },
  {
   "cell_type": "markdown",
   "metadata": {},
   "source": [
    "## I. Regular Expresions\n",
    "\n",
    "### A. Our First Expression\n",
    "First, let's create a long string on which we can try out some regular expressions (RE). "
   ]
  },
  {
   "cell_type": "code",
   "execution_count": 4,
   "metadata": {},
   "outputs": [],
   "source": [
    "shel_poem = \"\"\"\n",
    "I told my robot to do my biddin'\n",
    "He yawned and said, \"You must be kiddin'.\"\n",
    "I told my robot to cook me a stew.\n",
    "He said, \"I got better things to do.\"\n",
    "I told my robot to sweep my shack.\n",
    "He said. \"You want me to strain my back?\"\n",
    "I told my robot to answer the phone.\n",
    "He said, \"I must make some calls of my own.\"\n",
    "I told my robot to brew me some tea.\n",
    "He said, \"Why don’t you make tea for me?\"\n",
    "I told my robot to boil me an egg.\n",
    "He said, \"First -– lemme hear you beg.\"\n",
    "I told my robot, \"There’s a song you can play me.\"\n",
    "He said, \"How much are you gonna pay me?\"\n",
    "So I sold that robot, 'cause I never knew\n",
    "Exactly who belonged to who.\n",
    "\"\"\""
   ]
  },
  {
   "cell_type": "markdown",
   "metadata": {},
   "source": [
    "To use regular expressions in Python we must first import the *re* module from the standard libary. We then create a pattern that specifies what text we want to find in the string, and finally we pass that pattern to a regular expression function. A simple example follows."
   ]
  },
  {
   "cell_type": "code",
   "execution_count": 12,
   "metadata": {},
   "outputs": [
    {
     "data": {
      "text/plain": [
       "<re.Match object; span=(11, 16), match='robot'>"
      ]
     },
     "execution_count": 12,
     "metadata": {},
     "output_type": "execute_result"
    }
   ],
   "source": [
    "import re\n",
    "\n",
    "ptn = r\"robot\"\n",
    "\n",
    "re.search(ptn, shel_poem)"
   ]
  },
  {
   "cell_type": "markdown",
   "metadata": {},
   "source": []
  },
  {
   "cell_type": "markdown",
   "metadata": {},
   "source": [
    "[Table of Contents](../../index.ipynb)"
   ]
  }
 ],
 "metadata": {
  "kernelspec": {
   "display_name": "Python 3",
   "language": "python",
   "name": "python3"
  },
  "language_info": {
   "codemirror_mode": {
    "name": "ipython",
    "version": 3
   },
   "file_extension": ".py",
   "mimetype": "text/x-python",
   "name": "python",
   "nbconvert_exporter": "python",
   "pygments_lexer": "ipython3",
   "version": "3.9.4"
  }
 },
 "nbformat": 4,
 "nbformat_minor": 4
}
