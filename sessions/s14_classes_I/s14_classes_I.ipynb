{
 "cells": [
  {
   "cell_type": "markdown",
   "id": "f831b016",
   "metadata": {},
   "source": [
    "[Table of Contents](../../index.ipynb)"
   ]
  },
  {
   "cell_type": "markdown",
   "id": "f54c11e9",
   "metadata": {},
   "source": [
    "# FRC Analytics with Python - Session 14\n",
    "# Classes and Automated Software Testing\n",
    "\n",
    "In this session we'll cover both classes and automated software testing. It's not common to teach these two topics together, but they complement each other nicely.\n",
    "\n",
    "Classes are an essential part of most programming languages. We've already worked with classes, at least indirectly. Classes were used to create the complex objects that we've been using, like Pandas data frames, Matplotlib plots, and regular expression matches. Programming that relies heavily on classes is called object-oriented programming.\n",
    "\n",
    "Automated software testing refers to the practice of using one software program to test another software program. Using automated tests is an essential practice if you want to write high-quality code. It's right up their adding comments, adhering to a style guide, and using version control."
   ]
  },
  {
   "cell_type": "markdown",
   "id": "a10adf26",
   "metadata": {},
   "source": [
    "## I. Example Project: Ten Thousand Dice Game\n",
    "### A. Introduction\n",
    "Instead of learning classes and object-oriented programming with boring, contrived examples, we're going to create a real program. The program will be a command-line game that can be played in Linux bash, Mac terminal, or Windows Powershell. It's a dice game called *Ten Thousand*. There are many variants of this game and it goes by many names, such as Farkle, Zilch, Zonk, Cosmic Wimpout, and Greed. Different variants typically use five, six, or seven dice. Our version uses five dice to keep things simple.\n",
    "\n",
    "### B. Rules\n",
    "1. Players take turns rolling five dice. Players earn points by rolling different combinations and the first player to reach 10,000 points wins.\n",
    "\n",
    "2. The table below shows the scoring combinations.\n",
    "\n",
    "| Combination | Points | Combination | Points |\n",
    "|-------------|--------|-------------|--------|\n",
    "| Each 5      | 50     | Three 4s    | 400    |\n",
    "| Each 1      | 100    | Three 5s    | 500    |\n",
    "| Three 2s    | 200    | Three 6s    | 600    |\n",
    "| Three 3s    | 300    | Three 1s    | 1000   |\n",
    "\n",
    "> For example, a player who rolls (1, 2, 5, 5, 5) will receive 600 points. The three 5s are worth 500 points and the 1 is worth 100 points. Note that the player does not receive 50 points for each 5 if the fives are used in a triple.\n",
    "\n",
    "3. If a roll results in one or more scoring dice, the player can choose to table one or more of the scoring dice and re-roll the remaining dice for more points.\n",
    "\n",
    "4. If all rolled dice are scoring dice, the player is said to have *hot dice*. The player can choose to re-roll all five dice for more points.\n",
    "\n",
    "5. If a player's roll results in zero points, including the player's initial roll and any subsequent re-rolls, the player's turn is over and they receive no points for the turn. All points earned from dice tabled from earlier rolls or due to hot dice are lost.\n",
    "\n",
    "6. At any time, a player can choose to end their turn and not re-roll any dice. If a player chooses to end their turn, they add the the total points from all of their scoring dice to their point total.\n",
    "\n",
    "7. All scoring combinations must occur in the same roll. If a player tables a 5 after their first roll and then rolls two 5s on the next roll, the player can take 150 points for the three 5s, but they do *not* score a triple.\n",
    "\n",
    "8. Example\n",
    "* A player rolls (1, 2, 3, 4, 3). Only 1 die scores any points. The player can end their turn and take the 100 points from the 1, or they can table the 1 and re-roll the remaining four die.\n",
    "* The player chooses to table the 1 and re-rolls the remaining four die. The player rolls (2, 2, 2, 5). All four dice scored points. The player has hot dice and can choose to re-roll all five dice, or end their turn with 350 points (100 points for tabled 1, 200 points for three 2s, and 50 points for the 5). \n",
    "* The player chooses to re-roll all five dice. They roll a (2, 2, 3, 3, 4) for zero points. The 350 points from earlier scoring combinations are lost and the player receives zero points for the turn.\n",
    "\n",
    "### C. Play 10,000\n",
    "You'll understand the rules better if you play a few rounds. Run the cell below to start the game. To speed things up, the game only goes for three rounds. Hit q at any prompt to quit early. "
   ]
  },
  {
   "cell_type": "code",
   "execution_count": null,
   "id": "3a48b85a",
   "metadata": {},
   "outputs": [],
   "source": [
    "# Run this cell to play 10000!\n",
    "import tenthou.ten1000 as ten1000\n",
    "ten1000.main()"
   ]
  },
  {
   "cell_type": "markdown",
   "id": "59eb206d",
   "metadata": {},
   "source": [
    "## II. Our First Class\n",
    "\n",
    "Since we're building a dice game, our first class will represent a single die."
   ]
  },
  {
   "cell_type": "code",
   "execution_count": 5,
   "id": "35a974c7",
   "metadata": {},
   "outputs": [],
   "source": [
    "# First Class\n",
    "class Die:\n",
    "    def __init__(self, val):\n",
    "        self.value = val"
   ]
  },
  {
   "cell_type": "markdown",
   "id": "a9a8b5f2",
   "metadata": {},
   "source": [
    "We define a class using the `class` keyword, followed by the name of the class (`Die`) and a colon.\n",
    "\n",
    "Classes can contain methods and properties. This class contains a method called `__init__()` and a property called `value`. Note that the name of the `__init__()` method starts and ends with *two* underscores. Let's see what we can do with this class."
   ]
  },
  {
   "cell_type": "code",
   "execution_count": 18,
   "id": "fb978de9",
   "metadata": {},
   "outputs": [
    {
     "name": "stdout",
     "output_type": "stream",
     "text": [
      "Value of die_a: 1\n",
      "The type of die_a is: <class '__main__.Die'>\n",
      "\n",
      "Value of die_b: 6\n",
      "The type of die_b is: <class '__main__.Die'>\n",
      "\n",
      "Value of die_a has been changed to: 3\n",
      "\n",
      "The value of die_b is still: 6\n"
     ]
    }
   ],
   "source": [
    "# Create a die object\n",
    "die_a = Die(1)\n",
    "print(\"Value of die_a:\", die_a.value)\n",
    "print(\"The type of die_a is:\", type(die_a))\n",
    "print()\n",
    "\n",
    "# Create another die object\n",
    "die_b = Die(6)\n",
    "print(\"Value of die_b:\", die_b.value)\n",
    "print(\"The type of die_b is:\", type(die_b))\n",
    "print()\n",
    "\n",
    "# Update the value of die_a\n",
    "die_a.value = 3\n",
    "print(\"Value of die_a has been changed to:\", die_a.value)\n",
    "print()\n",
    "\n",
    "# Value of die_b does not change when we change value of die_a\n",
    "print(\"The value of die_b is still:\", die_b.value)"
   ]
  },
  {
   "cell_type": "markdown",
   "id": "757c6bc3",
   "metadata": {},
   "source": [
    "We created two different objects of type `Die`, `die_a` and `die_b`. Each die has a property called `value`, which is an integer, 1 through 6, and represents the number facing up after the die is rolled. Classes can have as many properties as you want, but this class is very simple and only needs one property.\n",
    "\n",
    "We create an object from a class by placing the class name on the right side of an assignment statement and placing parentheses after the class name. We can customize how the class is created by placing arguments inside the parentheses. The variable on the left side of the assignment statement refers to the object that was created from the class.\n",
    "\n",
    "In addition to properties, classes can have one or more methods. Methods are defined inside classes similar to how functions are defined outside classes, with the `def` keyword.\n",
    "\n",
    "The method `__init__()` is a special method. Classes are not required to have an `__init__()` method, but when they do, the `__init__()` method is run when an object is created from the class. Any arguments placed in parentheses when the class was created are passed as arguments to the `__init__()` method. We set the value of the `Die.value` property in the `__init__()` method. Let's modify the class to make it easier to see what the `__init__()` method is doing"
   ]
  },
  {
   "cell_type": "code",
   "execution_count": 25,
   "id": "5f248e8a",
   "metadata": {},
   "outputs": [
    {
     "name": "stdout",
     "output_type": "stream",
     "text": [
      "The __init__() method is running now.\n",
      "The value 5 was passed to the __init__() method.\n"
     ]
    }
   ],
   "source": [
    "# Experimenting with the __init__() method.\n",
    "class Die:\n",
    "    def __init__(self, val):\n",
    "        print(\"The __init__() method is running now.\")\n",
    "        print(f\"The value {val} was passed to the __init__() method.\")\n",
    "        self.value = val\n",
    "        \n",
    "die_c = Die(5)"
   ]
  },
  {
   "cell_type": "markdown",
   "id": "20963bbd",
   "metadata": {},
   "source": [
    "You might be thinking \"Hold on! What's the `self` parameter doing? I see how we're passing a value to `__init__()`, but `__init__()` takes two arguments. How come we are not passing two arguments to `__init__()`?\"\n",
    "\n",
    "That's an excellent question. Methods operate slightly differently than functions. When a method of a class is called, Python automatically inserts a special argument into the beginning of the argument list. So when we put the argument `val` into the parentheses when we're creating a `Die` object, Python creates an argument list with two arguments, where the first argument is the special argument and the second argument is `val`.\n",
    "\n",
    "What is this special argument? It's the object itself! So when we run the statement `die_c = Die(5)`, Python first creates the basic object that will become `die_c`. Next Python runs the `__init__()` method, passing a reference to the `die_c` object in the first argument, and the integer 5 in the second argument. The reference to `die_c` is assigned to the parameter `self` within `__init__()`. Then we can create properties with the syntax `self.property_name = property_value`.\n",
    "\n",
    "If this is your first exposure to classes, then you are probably very confused right now. That's both normal and OK. There will be many more examples to illustrate these concepts -- keep reading and keep trying to figure it out."
   ]
  },
  {
   "cell_type": "markdown",
   "id": "224099ef",
   "metadata": {},
   "source": [
    "## III Classes and Objects are Different\n",
    "So our `Die` class has a property called value. What happens if we try to read it like this:"
   ]
  },
  {
   "cell_type": "code",
   "execution_count": 27,
   "id": "664114f0",
   "metadata": {},
   "outputs": [
    {
     "ename": "AttributeError",
     "evalue": "type object 'Die' has no attribute 'value'",
     "output_type": "error",
     "traceback": [
      "\u001b[1;31m---------------------------------------------------------------------------\u001b[0m",
      "\u001b[1;31mAttributeError\u001b[0m                            Traceback (most recent call last)",
      "\u001b[1;32m<ipython-input-27-3e9e631d3519>\u001b[0m in \u001b[0;36m<module>\u001b[1;34m\u001b[0m\n\u001b[0;32m      1\u001b[0m \u001b[1;31m# The wrong way to read a property\u001b[0m\u001b[1;33m\u001b[0m\u001b[1;33m\u001b[0m\u001b[1;33m\u001b[0m\u001b[0m\n\u001b[1;32m----> 2\u001b[1;33m \u001b[0mDie\u001b[0m\u001b[1;33m.\u001b[0m\u001b[0mvalue\u001b[0m\u001b[1;33m\u001b[0m\u001b[1;33m\u001b[0m\u001b[0m\n\u001b[0m",
      "\u001b[1;31mAttributeError\u001b[0m: type object 'Die' has no attribute 'value'"
     ]
    }
   ],
   "source": [
    "# The wrong way to read a property\n",
    "Die.value"
   ]
  },
  {
   "cell_type": "markdown",
   "id": "0710b997",
   "metadata": {},
   "source": [
    "`Die` represents a class. A class is like a recipe. Let's say it's like a recipe for lasagna. You can use the recipe to cook as many dishes of lasagna as you want. Each dish of lasagna that you make from the recipe is like the `die_a` or `die_b` objects that you made from the `Die` class. The difference between a recipe and the dish you make by following the recipe is that you can't eat the recipe (well, maybe you could, but it would not taste like lasagna). And similar to how you can't eat the recipe, you can't extract the value from the `Die` class."
   ]
  },
  {
   "cell_type": "code",
   "execution_count": null,
   "id": "8e722268",
   "metadata": {},
   "outputs": [],
   "source": []
  },
  {
   "cell_type": "code",
   "execution_count": null,
   "id": "07a7c1ad",
   "metadata": {},
   "outputs": [],
   "source": []
  },
  {
   "cell_type": "code",
   "execution_count": null,
   "id": "c5a19f49",
   "metadata": {},
   "outputs": [],
   "source": []
  },
  {
   "cell_type": "code",
   "execution_count": null,
   "id": "bf4b16b1",
   "metadata": {},
   "outputs": [],
   "source": []
  },
  {
   "cell_type": "markdown",
   "id": "e806dd65",
   "metadata": {},
   "source": [
    "[Table of Contents](../../index.ipynb)"
   ]
  }
 ],
 "metadata": {
  "kernelspec": {
   "display_name": "Python 3",
   "language": "python",
   "name": "python3"
  },
  "language_info": {
   "codemirror_mode": {
    "name": "ipython",
    "version": 3
   },
   "file_extension": ".py",
   "mimetype": "text/x-python",
   "name": "python",
   "nbconvert_exporter": "python",
   "pygments_lexer": "ipython3",
   "version": "3.9.4"
  }
 },
 "nbformat": 4,
 "nbformat_minor": 5
}
