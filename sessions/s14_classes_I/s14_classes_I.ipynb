{
 "cells": [
  {
   "cell_type": "markdown",
   "id": "1d1cc328",
   "metadata": {},
   "source": [
    "[Table of Contents](../../index.ipynb)"
   ]
  },
  {
   "cell_type": "markdown",
   "id": "aa4f4b29",
   "metadata": {},
   "source": [
    "# FRC Analytics with Python - Session 14\n",
    "# Classes and Automated Testing\n",
    "**Last Updated: 12 May 2021**\n",
    "\n",
    "In this session we'll cover both classes and automated software testing. It's not common to teach these two topics together, but they complement each other nicely.\n",
    "\n",
    "Classes are an essential part of most programming languages. We've already worked with classes, at least indirectly. Classes were used to create complex objects like Pandas data frames, Matplotlib plots, and regular expression matches. Programming that relies heavily on classes is called object-oriented programming.\n",
    "\n",
    "Automated software testing refers to the practice of using one software program to test another software program. Using automated tests is an essential practice if you want to write high-quality code. It's right up their with adding comments, adhering to a style guide, and using version control."
   ]
  },
  {
   "cell_type": "markdown",
   "id": "cb7314b1",
   "metadata": {},
   "source": [
    "## I. Example Project: Ten Thousand Dice Game\n",
    "### A. Introduction\n",
    "Instead of learning classes and object-oriented programming with boring, contrived examples, we're going to create a real program. The program will be a command-line game that can be played in Linux bash, Mac terminal, or Windows Powershell. It's a dice game called *Ten Thousand*. There are many variants of this game, including Farkle, Zilch, Zonk, Cosmic Wimpout, and Greed. Different variants typically use five, six, or seven dice. Our version uses five dice to keep things simple.\n",
    "\n",
    "### B. Rules\n",
    "1. Players take turns rolling five dice. Players earn points by rolling different combinations and the first player to reach 10,000 points wins.\n",
    "\n",
    "2. The table below shows the scoring combinations.\n",
    "\n",
    "| Combination | Points | Combination | Points |\n",
    "|-------------|--------|-------------|--------|\n",
    "| Each 5      | 50     | Three 4s    | 400    |\n",
    "| Each 1      | 100    | Three 5s    | 500    |\n",
    "| Three 2s    | 200    | Three 6s    | 600    |\n",
    "| Three 3s    | 300    | Three 1s    | 1000   |\n",
    "\n",
    "> For example, a player who rolls (1, 2, 5, 5, 5) will receive 600 points. The three 5s are worth 500 points and the 1 is worth 100 points. Note that the player does not receive 50 points for each 5 if the fives are used in a triple.\n",
    "\n",
    "3. If a roll results in one or more scoring dice, the player can choose to table one or more of the scoring dice and re-roll the remaining dice for more points.\n",
    "\n",
    "4. If all rolled dice are scoring dice, the player is said to have *hot dice*. The player can choose to re-roll all five dice for more points.\n",
    "\n",
    "5. If a player's roll results in zero points, including the player's initial roll and any subsequent re-rolls, the player's turn is over and they receive no points for the turn. All points earned from dice tabled from earlier rolls or due to hot dice are lost.\n",
    "\n",
    "6. At any time, a player can choose to end their turn and not re-roll any dice. If a player chooses to end their turn, they add the the total points from all of their scoring dice to their point total.\n",
    "\n",
    "7. All scoring combinations must occur in the same roll. If a player tables a 5 after their first roll and then rolls two 5s on the next roll, the player can take 150 points for the three 5s, but they do *not* score a triple.\n",
    "\n",
    "8. Example\n",
    "* A player rolls (1, 2, 3, 4, 3). Only 1 die scores any points. The player can end their turn and take the 100 points from the 1, or they can table the 1 and re-roll the remaining four die.\n",
    "* The player chooses to table the 1 and re-rolls the remaining four die. The player rolls (2, 2, 2, 5). All four dice scored points. The player has hot dice and can choose to re-roll all five dice, or end their turn with 350 points (100 points for tabled 1, 200 points for three 2s, and 50 points for the 5). \n",
    "* The player chooses to re-roll all five dice. They roll a (2, 2, 3, 3, 4) for zero points. The 350 points from earlier scoring combinations are lost and the player receives zero points for the turn.\n",
    "\n",
    "### C. Play 10,000\n",
    "You'll understand the rules better if you play a few rounds. Run the cell below to start the game. To speed things up, the game only lasts for three rounds. Hit q at any prompt to quit early. "
   ]
  },
  {
   "cell_type": "code",
   "execution_count": null,
   "id": "db794d0a",
   "metadata": {},
   "outputs": [],
   "source": [
    "# Run this cell to play 10000!\n",
    "import tenthou.ten1000 as ten1000\n",
    "ten1000.main()"
   ]
  },
  {
   "cell_type": "markdown",
   "id": "81f72dbc",
   "metadata": {},
   "source": [
    "## II. Our First Class\n",
    "\n",
    "Since we're building a dice game, our first class will represent a single die."
   ]
  },
  {
   "cell_type": "code",
   "execution_count": null,
   "id": "a586fb3c",
   "metadata": {},
   "outputs": [],
   "source": [
    "# First Class\n",
    "class DieFirst:\n",
    "    def __init__(self, val):\n",
    "        self.value = val"
   ]
  },
  {
   "cell_type": "markdown",
   "id": "2603d0b5",
   "metadata": {},
   "source": [
    "We define a class using the `class` keyword, followed by the name of the class (`DieFirst`) and a colon. The naming convention for classes is to use capitalized names with CamelCase, where there is no separation between words but all words are capitalized.\n",
    "\n",
    "Classes can contain methods and properties. This class contains a method called `__init__()` and a property called `value`. Note that the name of the `__init__()` method starts and ends with *two* underscores. Let's see what we can do with this class."
   ]
  },
  {
   "cell_type": "code",
   "execution_count": null,
   "id": "9a97b42e",
   "metadata": {},
   "outputs": [],
   "source": [
    "# Create a die object\n",
    "die_a = DieFirst(1)\n",
    "print(\"Value of die_a:\", die_a.value)\n",
    "print(\"The type of die_a is:\", type(die_a))\n",
    "print()\n",
    "\n",
    "# Create another die object\n",
    "die_b = DieFirst(6)\n",
    "print(\"Value of die_b:\", die_b.value)\n",
    "print(\"The type of die_b is:\", type(die_b))\n",
    "print()\n",
    "\n",
    "# Update the value of die_a\n",
    "die_a.value = 3\n",
    "print(\"Value of die_a has been changed to:\", die_a.value)\n",
    "print()\n",
    "\n",
    "# Value of die_b does not change when we change value of die_a\n",
    "print(\"The value of die_b is still:\", die_b.value)"
   ]
  },
  {
   "cell_type": "markdown",
   "id": "16da78f9",
   "metadata": {},
   "source": [
    "We created two different objects of type `DieFirst`, `die_a` and `die_b`. Each die has a property called `value`, which is an integer, 1 through 6, and represents the number facing up after the die is rolled. Classes can have as many properties as you want, but this class is very simple and only needs one property.\n",
    "\n",
    "We created an object from a class by placing the class name on the right side of an assignment statement and placing parentheses after the class name. We can customize how the class is created by placing arguments inside the parentheses. The variable on the left side of the assignment statement refers to the object that was created from the class.\n",
    "\n",
    "In addition to properties, classes can have one or more methods. Methods are defined inside classes similar to how functions are defined outside classes, with the `def` keyword.\n",
    "\n",
    "The method `__init__()` is a special method - it works similarly to a constructor in Java. Classes are not required to have an `__init__()` method, but when they do, the `__init__()` method is run when an object is created from the class. Any arguments placed in parentheses when the class was created are passed as arguments to the `__init__()` method. We set the value of the `DieFirst.value` property in the `__init__()` method. Let's modify the class to make it easier to see what the `__init__()` method is doing"
   ]
  },
  {
   "cell_type": "code",
   "execution_count": null,
   "id": "75fcf8fa",
   "metadata": {},
   "outputs": [],
   "source": [
    "# Experimenting with the __init__() method.\n",
    "class DieChatty:\n",
    "    def __init__(self, val):\n",
    "        print(\"The __init__() method is running now.\")\n",
    "        print(f\"The value {val} was passed to the __init__() method.\")\n",
    "        self.value = val\n",
    "        \n",
    "die_c = DieChatty(5)"
   ]
  },
  {
   "cell_type": "markdown",
   "id": "508cb3a5",
   "metadata": {},
   "source": [
    "You might be thinking \"Hold on! What's the `self` parameter doing? I see how we're passing a value to `__init__()`, but `__init__()` takes two arguments. How come we are not passing two arguments to `__init__()`?\"\n",
    "\n",
    "That's an excellent question. Methods operate slightly differently than functions. When a method of a class is called, Python automatically inserts a special argument into the beginning of the argument list. So when we create the `DieChatty` object and put the argument `val` into the parentheses, Python creates an argument list with two arguments, where the first argument is the special argument and the second argument is `val`.\n",
    "\n",
    "What is this special argument? It's the object itself! So when we run the statement `die_c = DieChatty(5)`, Python first creates the basic object that will become `die_c`. Next Python runs the `__init__()` method, passing a reference to the `die_c` object in the first argument, and the integer 5 in the second argument. The reference to `die_c` is assigned to the parameter `self` within `__init__()`. Then we can create properties with the syntax `self.property_name = property_value`.\n",
    "\n",
    "If this is your first exposure to classes, then you are probably very confused right now. That's both normal and OK. There will be many more examples to illustrate these concepts -- keep reading and keep trying to figure it out."
   ]
  },
  {
   "cell_type": "markdown",
   "id": "0dd80840",
   "metadata": {},
   "source": [
    "## III. Classes and Objects are Different\n",
    "So our `Die` class has a property called value. What happens if we try to read it like this:"
   ]
  },
  {
   "cell_type": "code",
   "execution_count": null,
   "id": "24e6fec5",
   "metadata": {},
   "outputs": [],
   "source": [
    "# The wrong way to read a property\n",
    "DieFirst.value"
   ]
  },
  {
   "cell_type": "markdown",
   "id": "6082286d",
   "metadata": {},
   "source": [
    "`DieFirst` represents a class. A class is like a recipe. Let's say it's like a recipe for lasagna. You can use the recipe to cook as many dishes of lasagna as you want. Each dish of lasagna that you make from the recipe is like the `die_a` or `die_b` objects that you made from the `DieFirst` class. The difference between a recipe and the dish you make by following the recipe is that you can't eat the recipe (well, maybe you could, but it would not taste like lasagna). And similar to how you can't eat the recipe, you can't extract the `.value` property from the `DieFirst` class."
   ]
  },
  {
   "cell_type": "markdown",
   "id": "2603b2e1",
   "metadata": {},
   "source": [
    "## IV. Methods\n",
    "Our `Die` class doesn't do much yet. In fact, it doesn't do anything that couldn't be accomplished with a simple variable. Let's add a method."
   ]
  },
  {
   "cell_type": "code",
   "execution_count": null,
   "id": "6eee5915",
   "metadata": {},
   "outputs": [],
   "source": [
    "import random\n",
    "\n",
    "# Adding a Method\n",
    "class DieRollable:\n",
    "    def __init__(self, val):\n",
    "        self.value = val\n",
    "        \n",
    "    def roll(self):\n",
    "        self.value = random.randint(1, 6)"
   ]
  },
  {
   "cell_type": "code",
   "execution_count": null,
   "id": "0521aca9",
   "metadata": {},
   "outputs": [],
   "source": [
    "# Testing the roll method\n",
    "rdie = DieRollable(1)\n",
    "rolls = []\n",
    "for _ in range(30):\n",
    "    rdie.roll()\n",
    "    rolls.append(rdie.value)\n",
    "print(rolls)"
   ]
  },
  {
   "cell_type": "markdown",
   "id": "7851c8eb",
   "metadata": {},
   "source": [
    "Every time we call the `.roll()` method, a new, randomly-generated integer is assigned to the `.value` property. The `DieRollable` class has both data and functionality. Except for `self`, the `.roll()` method does not take any arguments, but methods can be defined with arguments just like functions can.\n",
    "\n",
    "Note: The `random` module is provided by the *Python Standard Library*. Its `randint()` function generates an integer within the range specified by it's parameters. You can learn more about other functions within [the `random` module by reading its documentation](https://docs.python.org/3/library/random.html)."
   ]
  },
  {
   "cell_type": "markdown",
   "id": "561c0a47",
   "metadata": {},
   "source": [
    "## V. Our First Automated Test\n",
    "Now we'll change gears and write an automated test that will check our die class. For testing, we'll use a third-party package called *pytest*. [The *pytest* documentation](https://docs.pytest.org/en/latest/contents.html) explains how to write automated tests, but we'll cover the basics in this notebook.\n",
    "\n",
    "<span style=\"color:gold;font-size:125%\">First, use *Anaconda* to make sure *pytest* is installed on your system.</span> Run the command `conda install pytest` within the *conda* environment that you are using for this tutorial.\n",
    "\n",
    "### A. Saving Code to a File\n",
    "*Pytest* is a command line tool, so we'll have to save our python code to python files. Run the cell below to save the `Die` class to its own Python file. The `%%writefile` command is a Jupyter *magic* command that only works inside Jupyter notebook cells - don't try to use it in a plain Python file. [You can read about other Jupyter magic commands here](https://ipython.readthedocs.io/en/stable/interactive/magics.html)."
   ]
  },
  {
   "cell_type": "code",
   "execution_count": null,
   "id": "a6650f29",
   "metadata": {},
   "outputs": [],
   "source": [
    "%%writefile die.py\n",
    "import random\n",
    "\n",
    "class DieTestable:\n",
    "    def __init__(self, val=None):\n",
    "        if val is None:\n",
    "            self.roll()\n",
    "        else:\n",
    "            self.value = val\n",
    "        \n",
    "    def roll(self):\n",
    "        self.value = random.randint(1, 6)"
   ]
  },
  {
   "cell_type": "markdown",
   "id": "a3b98021",
   "metadata": {},
   "source": [
    "We made a couple tweaks in the `DieTestable` class. The constructor's `val` parameter now has a default value, `None`. This means we can create a new `DieTestable` object without specifying a value. If no value is specified, the `.__init__()` method calls the `.roll()` method and the `.value` property will be assigned an integer between 1 and 6.\n",
    "\n",
    "### B. Assert Statements\n",
    "Automated tests in *Pytest* use `assert` statements. An `assert` statement takes a Boolean expression. If the Boolean expression evaluates to `True`, the `assert` statement does nothing. If the expression evaluates to `False`, the `assert` statement throws an error."
   ]
  },
  {
   "cell_type": "code",
   "execution_count": null,
   "id": "915e611a",
   "metadata": {},
   "outputs": [],
   "source": [
    "# True assert statements do nothing.\n",
    "assert True"
   ]
  },
  {
   "cell_type": "code",
   "execution_count": null,
   "id": "3394e302",
   "metadata": {},
   "outputs": [],
   "source": [
    "# False assert statements throw an AssertionError\n",
    "assert False, \"False is always False.\""
   ]
  },
  {
   "cell_type": "markdown",
   "id": "fbb9045f",
   "metadata": {},
   "source": [
    "Assert statements can contain just an expression, like our `assert True` statement. Or they can be followed by a string, which is displayed in the error message if the assert statement failes. Assert statements help with testing and troubleshooting code. Programs usually depend on one or more assumptions. A few well-placed assertions can help a programmer discover that some of their assumptions are not always correct.\n",
    "\n",
    "### C. Test File\n",
    "Runn the following cell to create a simple *pytest* file."
   ]
  },
  {
   "cell_type": "code",
   "execution_count": null,
   "id": "8e11fd4f",
   "metadata": {},
   "outputs": [],
   "source": [
    "%%writefile test_first.py\n",
    "\n",
    "import die\n",
    "\n",
    "def test_die():\n",
    "    # Check initial value\n",
    "    die1 = die.DieTestable()\n",
    "    assert isinstance(die1.value, int)\n",
    "    assert die1.value >= 1 and die1.value <= 6"
   ]
  },
  {
   "cell_type": "markdown",
   "id": "8b090922",
   "metadata": {},
   "source": [
    "The file contains one function, `test_die()`. In *pytest*, all test functions, as well as all test files, should start with `test_`. This function creates a `DieTestable` object, then verifies that the `.value` property is an integer and that its value is between 1 and 6 inclusive."
   ]
  },
  {
   "cell_type": "markdown",
   "id": "024b7543",
   "metadata": {},
   "source": [
    "### D. Running the Test\n",
    "In *pytest*, tests are run from the command line with the command `pytest`. If we just run `pytest` with no arguments, it will search through the current folder and all subfolders for all Python files that start with `test_` and run all tests inside those files. Because the TenThou program has a lot of test files, we'll use the `-k` option to tell *pytest* which test file we want to run. The exclamation mark `!` is a special symbol in Jupyter that causes the cell's contents to be interpreted and run as a command line instruction."
   ]
  },
  {
   "cell_type": "code",
   "execution_count": null,
   "id": "ae541e38",
   "metadata": {},
   "outputs": [],
   "source": [
    "!pytest -k test_first.py"
   ]
  },
  {
   "cell_type": "markdown",
   "id": "d4008b13",
   "metadata": {},
   "source": [
    "The output from *pytest* provides information on the test results.\n",
    "* The first line is the line with all the equals signs.\n",
    "* The second line of output displays the Pythan and pytest package versions.\n",
    "* The third line shows the folder from which *pytest* was run.\n",
    "* The fifth line shows that `pytest` found seven different test files. This is because this notebook has two test files and the Ten Thousand program has five tests. But only one test was selected to be run due to the `-k` parameter we provided at the command line.\n",
    "* There is an output line for each test file that was run. Since we only ran one test file, there is only one output line. The period means that the one test in the file (`test_die()`) ran successfully. Finally, \"100%\" means all of tests in the file passed."
   ]
  },
  {
   "cell_type": "markdown",
   "id": "73262e17",
   "metadata": {},
   "source": [
    "### E. Types of Automated Tests\n",
    "There are several types of automated software tests. Three of the most common types are:\n",
    "* **Unit Test:** A test of a single portion of software code, such as a function, class, or module. The test verifies that the portion of code\n",
    "* **Functional Test:** A test of a larger portion of software than what is tested with unit testing. The term *functional* has nothing to do with functions defined in code. Functional tests verify that software provides the desired, high-level functionality.\n",
    "* **System Test:** A test of the entire software system, including numerous classes, modules, etc.\n",
    "\n",
    "For now, we will focus on unit tests. All tests in this notebook are unit tests."
   ]
  },
  {
   "cell_type": "markdown",
   "id": "cea5a288",
   "metadata": {},
   "source": [
    "## VI. Instance and Class Properties\n",
    "Our `Die` class has one property, `.value`. The `.value` property is an *instance* property because every die object has it's own copy of `.value`. Changing the value of `.value` on one die object has no impact on `.value` for another die object.\n",
    "\n",
    "*Class* properties are another type of property. They are also called *static* properties. In the following example, `DieWithClassProperty.sides` is a class property."
   ]
  },
  {
   "cell_type": "code",
   "execution_count": null,
   "id": "a9ead1b1",
   "metadata": {},
   "outputs": [],
   "source": [
    "# Adding a class property \n",
    "class DieWithClassProperty:\n",
    "    \n",
    "    sides = 6  # .sides is a class property\n",
    "    \n",
    "    def __init__(self, val):\n",
    "        self.value = val   # .value is an instance property\n",
    "        \n",
    "    def roll(self):\n",
    "        self.value = random.randint(1, self.sides)"
   ]
  },
  {
   "cell_type": "markdown",
   "id": "e25379c6",
   "metadata": {},
   "source": [
    "Class properties can be accessed from the class. It's not necessary to instantiate an object to retrieve the value of the property."
   ]
  },
  {
   "cell_type": "code",
   "execution_count": null,
   "id": "07d4322b",
   "metadata": {},
   "outputs": [],
   "source": [
    "# Accessing a class property\n",
    "DieWithClassProperty.sides"
   ]
  },
  {
   "cell_type": "markdown",
   "id": "d5faaf02",
   "metadata": {},
   "source": [
    "Instance properties are defined within a method. It's good practice to define instance properties in the `__init__()` method, but an instance property can be defined in any method. Any property defined outside of a method, like `.sides` is a *class* property.\n",
    "\n",
    "Run and inspect the following cell to see how instance and class properties behave differently."
   ]
  },
  {
   "cell_type": "code",
   "execution_count": null,
   "id": "f04c19e4",
   "metadata": {},
   "outputs": [],
   "source": [
    "die5 = DieWithClassProperty(None)\n",
    "die6 = DieWithClassProperty(None)\n",
    "die5.roll()\n",
    "die6.roll()\n",
    "print(\"Each die can have it's own value.\")\n",
    "print(f\"Die5 value: {die5.value}\\tDie6 value: {die6.value}\")\n",
    "print()\n",
    "print(\"Each die shares a `sides` property.\")\n",
    "print(f\"Die5 sides: {die5.sides}\\tDie5 sides: {die6.sides}\")\n",
    "\n",
    "print()\n",
    "DieWithClassProperty.sides = 10\n",
    "print(\"Changing `sides` modifies the property for ALL objects.\")\n",
    "print(f\"Die5 sides: {die5.sides}\\tDie5 sides: {die6.sides}\")"
   ]
  },
  {
   "cell_type": "markdown",
   "id": "503d2587",
   "metadata": {},
   "source": [
    "## VII. Raising Errors\n",
    "If you do something illegal in Python, you get an error. For example:"
   ]
  },
  {
   "cell_type": "code",
   "execution_count": null,
   "id": "efc85791",
   "metadata": {},
   "outputs": [],
   "source": [
    "# Never divide by zero!\n",
    "1/0"
   ]
  },
  {
   "cell_type": "markdown",
   "id": "c713f7d1",
   "metadata": {},
   "source": [
    "If you inadvertently divide by zero in Python, you'll get a `ZeroDivisionError`. If you haven't taken special precautions in your code, an error like `ZeroDivisionError` will cause the program to halt and print out a bunch of error messages. `ZeroDivisionError` is a Python object with a specified type."
   ]
  },
  {
   "cell_type": "code",
   "execution_count": null,
   "id": "451b6f68",
   "metadata": {},
   "outputs": [],
   "source": [
    "# We can instantiate our own ZeroDivisionError and check it's type\n",
    "zd_error = ZeroDivisionError()\n",
    "type(zd_error)"
   ]
  },
  {
   "cell_type": "markdown",
   "id": "83b8a936",
   "metadata": {},
   "source": [
    "We will cover how to catch and handle errors like `ZeroDivisionError` in a later session. In this session we'll cover how to intentionally make an error happen. It might seem surprising that we would *want* errors to happen in our code. But smart use of errors can help software to be resilient and work in a wide range of situations.\n",
    "\n",
    "For example, with our current version of the `Die` class, a user can pass a value, *any value*, to the constructor (`.__init__()`) when the class is created."
   ]
  },
  {
   "cell_type": "code",
   "execution_count": null,
   "id": "e22139ae",
   "metadata": {},
   "outputs": [],
   "source": [
    "die_bad = DieRollable(\"Synergy!\")\n",
    "die_bad.value"
   ]
  },
  {
   "cell_type": "markdown",
   "id": "c1a19cdb",
   "metadata": {},
   "source": [
    "That's not good. The value should only be allowed to be an integer between 1 and 6 inclusive. The next version of the die class addresses this issue."
   ]
  },
  {
   "cell_type": "code",
   "execution_count": null,
   "id": "ac835cde",
   "metadata": {},
   "outputs": [],
   "source": [
    "class DiePicky():\n",
    "    def __init__(self, val=None):\n",
    "        if val is None:\n",
    "            self.value = None\n",
    "        elif not isinstance(val, int):\n",
    "            raise TypeError(f\"val is incorrect type: {type(val)}\")\n",
    "        elif val < 1 or val > 6:\n",
    "            raise ValueError(f\"Incorrect Die Value: {val}.\"\n",
    "                             \"Please specify a value of 1 through 6.\")\n",
    "        else:\n",
    "            self.value = val\n",
    "            \n",
    "    \n",
    "    def roll(self):\n",
    "        self.value = random.randint(1, 6)"
   ]
  },
  {
   "cell_type": "markdown",
   "id": "2648f7f0",
   "metadata": {},
   "source": [
    "In this version of the die class, which is named `DiePicky`, we've added an if-else statement that checks the val parameter to ensure it is an appropriate type and value. If the `val` argument is not `None`, or it's not an integer between 1 and 6, a `VaueError` is raised. Run the next cell to see how that works.\n",
    "\n",
    "> Note: We used automatic string concatenation in the line that raises the `ValueError`."
   ]
  },
  {
   "cell_type": "code",
   "execution_count": null,
   "id": "ab31146a",
   "metadata": {},
   "outputs": [],
   "source": [
    "die8 = DiePicky(7)"
   ]
  },
  {
   "cell_type": "markdown",
   "id": "71cf6397",
   "metadata": {},
   "source": [
    "We can cause an error to happen by using the `raise` keyword, followed by an error object. We constructed the error object by calling its constructor. In other words, we put parentheses after the name of the error class. We also created an error message (\"Incorrect Die Value...\") and passed it as an argument to the Error constructor.\n",
    "\n",
    "`ValueError` is a built-in Python error object that is used when an inappropriate value is passed to a function or method. The `DiePicky` class will also raise a `TypeError` if the `val` argument is not an integer. Python has several different built-in error classes, which [you can read about here](https://docs.python.org/3/library/exceptions.html#concrete-exceptions). Other common errors include:\n",
    "* **KeyError**: Used when an incorrect key is passed to a dictionary\n",
    "* **IndentationError**: Occurs when Python code has faulty indentation.\n",
    "* **OverflowError**: Occurs when the results of an arithmetic operation are too large to be represented.\n",
    "* **IndexError**: Used when an index for a list of out of range.\n",
    "\n",
    "Later, we'll cover how to create your own types of errors."
   ]
  },
  {
   "cell_type": "markdown",
   "id": "2cf3cb2c",
   "metadata": {},
   "source": [
    "## VIII. Testing for Errors\n",
    "Sometimes when writing automated tests, we *want our code to generate an error!* In our die example above, we want `Die` to generate an error if we try to initialize a `Die` object with a non-integer or an integer not within the range of 1 - 6. Pytest allows use to verify that a line of code raises an error."
   ]
  },
  {
   "cell_type": "code",
   "execution_count": null,
   "id": "6077b892",
   "metadata": {},
   "outputs": [],
   "source": [
    "%%writefile die.py\n",
    "import random\n",
    "\n",
    "class DiePicky():\n",
    "    def __init__(self, val=None):\n",
    "        if val is None:\n",
    "            self.value = None\n",
    "        elif not isinstance(val, int):\n",
    "            raise TypeError(f\"val is incorrect type: {type(val)}\")\n",
    "        elif val < 1 or val > 6:\n",
    "            raise ValueError(f\"Incorrect Die Value: {val}.\"\n",
    "                             \"Please specify a value of 1 through 6.\")\n",
    "        else:\n",
    "            self.value = val\n",
    "            \n",
    "    \n",
    "    def roll(self):\n",
    "        self.value = random.randint(1, 6)"
   ]
  },
  {
   "cell_type": "code",
   "execution_count": null,
   "id": "454f2fd8",
   "metadata": {},
   "outputs": [],
   "source": [
    "%%writefile test_first.py\n",
    "\n",
    "import pytest\n",
    "\n",
    "import die\n",
    "\n",
    "def test_die():\n",
    "    # Check initial value\n",
    "    die1 = die.DiePicky()\n",
    "    assert die1.value is None\n",
    "    die1.roll()\n",
    "    assert isinstance(die1.value, int)\n",
    "    assert die1.value >= 1 and die1.value <= 6\n",
    "    \n",
    "def test_exception():\n",
    "    with pytest.raises(ValueError):\n",
    "        die1 = die.DiePicky(7)\n",
    "    with pytest.raises(TypeError):\n",
    "        die1 = die.DiePicky(\"six\")"
   ]
  },
  {
   "cell_type": "code",
   "execution_count": null,
   "id": "f473cc8f",
   "metadata": {},
   "outputs": [],
   "source": [
    "!pytest -k test_first.py"
   ]
  },
  {
   "cell_type": "markdown",
   "id": "b0b720ff",
   "metadata": {},
   "source": [
    "## IX. Special Methods\n",
    "Python provides several *special* methods that give classes powerful capabilities. We've already seen one special method: `.__init__()`. \n",
    "\n",
    "There is another special method that is helpful. But first, what happens if we try to print a `Die` object?"
   ]
  },
  {
   "cell_type": "code",
   "execution_count": null,
   "id": "f1fece5f",
   "metadata": {},
   "outputs": [],
   "source": [
    "die9 = DieRollable(None)\n",
    "die9.roll()\n",
    "print(die9)"
   ]
  },
  {
   "cell_type": "markdown",
   "id": "b348454f",
   "metadata": {},
   "source": [
    "Python tells us the class of the object we tried to print, and it gives us a hexadecimal number that identifies the location in memory where the object is stored. By the way, this memory location uniquely identifies the object, and is the same value that is returned by the built-in `id()` function."
   ]
  },
  {
   "cell_type": "code",
   "execution_count": null,
   "id": "84dcfe36",
   "metadata": {},
   "outputs": [],
   "source": [
    "# id() returns a decimal value\n",
    "# We must convert it to hexadecimal to compare it to the print() output\n",
    "hex(id(die9))"
   ]
  },
  {
   "cell_type": "markdown",
   "id": "80660bf8",
   "metadata": {},
   "source": [
    "The average user will not be interested in the memory location of a `DieRollable` object. It would be helpful if printing a `DieRollable` object provided user-friendly information. Check out the `.__str__()` method in the next version of `Die`."
   ]
  },
  {
   "cell_type": "code",
   "execution_count": null,
   "id": "5f0351d6",
   "metadata": {},
   "outputs": [],
   "source": [
    "import random\n",
    "class DiePrintable():\n",
    "    def __init__(self, val=None):\n",
    "        if val is None:\n",
    "            self.roll()\n",
    "        elif not isinstance(val, int):\n",
    "            raise TypeError(f\"val is incorrect type: {type(val)}\")\n",
    "        elif val < 1 or val > 6:\n",
    "            raise ValueError(f\"Incorrect Die Value: {val}\")\n",
    "        else:\n",
    "            self.value = val\n",
    "            \n",
    "    \n",
    "    def roll(self):\n",
    "        self.value = random.randint(1, 6)\n",
    "        \n",
    "    def __str__(self):\n",
    "        return str(\"6-sided die with value: \" + str(self.value))"
   ]
  },
  {
   "cell_type": "markdown",
   "id": "20b54cb7",
   "metadata": {},
   "source": [
    "Let's see how this new version of the `Die` class works with `print()`."
   ]
  },
  {
   "cell_type": "code",
   "execution_count": null,
   "id": "68e50726",
   "metadata": {},
   "outputs": [],
   "source": [
    "print(DiePrintable())"
   ]
  },
  {
   "cell_type": "markdown",
   "id": "5f8a3415",
   "metadata": {},
   "source": [
    "When we print a class that has a  `__str__()` method, Python calls the `__str__()` method and prints whatever value the `__str__()` method returns. The `__str__()` method also gets called if we pass the `DiePrintable` object to the built-in `str()` function."
   ]
  },
  {
   "cell_type": "code",
   "execution_count": null,
   "id": "61087706",
   "metadata": {},
   "outputs": [],
   "source": [
    "str(DiePrintable())"
   ]
  },
  {
   "cell_type": "markdown",
   "id": "09d7c701",
   "metadata": {},
   "source": [
    "Python has close to a hundred different special methods that provide a wide variety of behaviors. Here is another example: suppose we wanted to add two `DiePrintable` objects together?"
   ]
  },
  {
   "cell_type": "code",
   "execution_count": null,
   "id": "a4c03a34",
   "metadata": {},
   "outputs": [],
   "source": [
    "die1 = DiePrintable()\n",
    "die2 = DiePrintable()\n",
    "\n",
    "die1 + die2"
   ]
  },
  {
   "cell_type": "markdown",
   "id": "f36e2ca5",
   "metadata": {},
   "source": [
    "If we try to add the `DiePrintable` objects together the same way we would add numbers, with the `+` operator, we get an error. That should not be surprising. Python knows how to add numbers and knows to perform concatenation when `+` is used with strings, but there is no universally established method for adding arbitrary objects that may or may not include numbers. Fortunately Python provides special methods that allow us to define what the `+` operator should do with any object. Inspect the `.__add__()` method in the following code cell."
   ]
  },
  {
   "cell_type": "code",
   "execution_count": null,
   "id": "db4b71fc",
   "metadata": {},
   "outputs": [],
   "source": [
    "class DieAddable():\n",
    "    def __init__(self, val=None):\n",
    "        if val is None:\n",
    "            self.roll()\n",
    "        elif not isinstance(val, int):\n",
    "            raise TypeError(f\"val is not an integer: {type(val)}\")\n",
    "        elif val < 1 or val > 6:\n",
    "            raise ValueError(f\"val not between 1 and 6: {val}\")\n",
    "        else:\n",
    "            self.value = val\n",
    "            \n",
    "    \n",
    "    def roll(self):\n",
    "        self.value = random.randint(1, 6)\n",
    "        \n",
    "    def __str__(self):\n",
    "        return str(\"6-sided die with value: \" + str(self.value))\n",
    "    \n",
    "    def __add__(self, other):\n",
    "        if isinstance(other, DieAddable):\n",
    "            return self.value + other.value\n",
    "        else:\n",
    "            return self.value + other"
   ]
  },
  {
   "cell_type": "markdown",
   "id": "a17dbd49",
   "metadata": {},
   "source": [
    "If Python comes across the expression `die_object + 10`, it will convert the expression to `die_object.__add__(5)`. The `.__add__()` special method first checks if 10 is a `DieAddable` object, which it isn't. Since 10 is not a `DieAddable` object, The `.__add__()` method assumes that 10 is numeric, adds it to the `DieAddable.value` property, and returns the result.\n",
    "\n",
    "If Python were to come across the expression `die_object_1 + die_object_2`, it would convert the expression to `die_object_1.__add__(die_object_2)`. In this case, the `.__add__()` method determines that `die_object_2` is a `DieAddable` object and returns the sum of the two `Die.value` properties."
   ]
  },
  {
   "cell_type": "code",
   "execution_count": null,
   "id": "69ea8665",
   "metadata": {},
   "outputs": [],
   "source": [
    "# Adding a Die object and an integer\n",
    "die = DieAddable()\n",
    "print(die + 10)\n",
    "\n",
    "# Adding two Die objects\n",
    "print(DieAddable() + DieAddable())"
   ]
  },
  {
   "cell_type": "markdown",
   "id": "d144ad1c",
   "metadata": {},
   "source": [
    "But there is still a problem. Run the following code cell."
   ]
  },
  {
   "cell_type": "code",
   "execution_count": null,
   "id": "3d34338c",
   "metadata": {},
   "outputs": [],
   "source": [
    "100 + DieAddable()"
   ]
  },
  {
   "cell_type": "markdown",
   "id": "08fc5cfb",
   "metadata": {},
   "source": [
    "Addition does not work if we swap the order, placing a numeric value before the `+` operator and the `DieAddable` object after. When Python comes across the expression `100 + die_object`, it looks for an `.__add__()` method in the object on the *left* side of the `+` sign. In this example, the object on the left side is an integer, not a `DieAddable` object. Back in 1991, when Guido Van Rossom was creating Python, he didn't know that we would be creating a `DieAddable` class some thirty years later. Guido didn't give the `int` class an `.__add__()` method that knows how to handle our `DieAddable` objects. Yes, it's a shocking lack of foresight on his part, but we must find a way to deal with it.\n",
    "\n",
    "Fortunately, Python provides a special method called `__radd__().`. As already discussed, when Python comes across an expression like `100 + die_object`, it first checks the operand (i.e., item) on the left side of the `+` operator for a suitable `.__add__()` method. Since the operand, `100`, is an integer, it does not have a suitable `.__add__()` method. So next, Python checks the operand on the right side of the `+` operator for an `.__radd__()` method. If Python finds an `.__radd__()` method, it will use that method to perform the addition.\n",
    "\n",
    "Check out the `.__radd__()` method in our newest die class below."
   ]
  },
  {
   "cell_type": "code",
   "execution_count": null,
   "id": "0b5f3453",
   "metadata": {},
   "outputs": [],
   "source": [
    "class DieAddableFixed():\n",
    "    def __init__(self, val=None):\n",
    "        if val is None:\n",
    "            self.roll()\n",
    "        elif not isinstance(val, int):\n",
    "            raise TypeError(f\"val is incorrect type: {type(val)}\")\n",
    "        elif val < 1 or val > 6:\n",
    "            raise ValueError(f\"Incorrect Die Value: {val}\")\n",
    "        else:\n",
    "            self.value = val\n",
    "            \n",
    "    \n",
    "    def roll(self):\n",
    "        self.value = random.randint(1, 6)\n",
    "        \n",
    "    def __str__(self):\n",
    "        return str(\"6-sided die with value: \" + str(self.value))\n",
    "    \n",
    "    def __add__(self, other):\n",
    "        if isinstance(other, DieAddableFixed):\n",
    "            return self.value + other.value\n",
    "        else:\n",
    "            return self.value + other\n",
    "        \n",
    "    def __radd__(self, other):\n",
    "        return self.__add__(other)"
   ]
  },
  {
   "cell_type": "markdown",
   "id": "de5ede42",
   "metadata": {},
   "source": [
    "We can now add a die object to an integer, with the integer on the left side of the `+` operator."
   ]
  },
  {
   "cell_type": "code",
   "execution_count": null,
   "id": "89b9cefb",
   "metadata": {},
   "outputs": [],
   "source": [
    "100 + DieAddableFixed()"
   ]
  },
  {
   "cell_type": "markdown",
   "id": "1f2b2e8a",
   "metadata": {},
   "source": [
    "Or suppose we're playing a game where we roll three dice and we use the sum."
   ]
  },
  {
   "cell_type": "code",
   "execution_count": null,
   "id": "47c9d252",
   "metadata": {},
   "outputs": [],
   "source": [
    "for _ in range(15):\n",
    "    print(DieAddableFixed() + DieAddableFixed() + DieAddableFixed(), end=\", \")"
   ]
  },
  {
   "cell_type": "markdown",
   "id": "9041f45c",
   "metadata": {},
   "source": [
    "Python will add the first two die by calling `.__add__()`, producing an integer. Python next calls the `.__radd__()` method to add the integer to the third die.\n",
    "\n",
    "By the way, the underscore (`_`) in the `for` statement is a placeholder for a variable. We could have written the `for` statement like such: `for i in range(15)`, but we don't use the variable `i` in the subsequent code. Replacing `i` with `_` avoids creating a variable that we'll never use. This is useful because 1) some integrated development environments (IDE), like Pycharm or VS Code, will highlight variables that are created but never used because they think you made an error and 2) having unused variables laying around increases the risk of bugs.\n",
    "\n",
    "One final note: because addition is commutative, i.e. $a + b = b + a$, our `.__radd__()` method just needs to call our `.__add__()` method. So why have `.__radd__()`? Why not have Python just check for an `.__add__()` method in the operand on the right side of `+` if it doesn't find a suitable `.__add__()` method in the operand on the left side of `+`? The answer is that many operations, such as subtraction and division, are *not* commutative. By providing both left-hand-side and right-hand-side versions of special methods, Python allows for non-commutative operations."
   ]
  },
  {
   "cell_type": "markdown",
   "id": "fe2721b9",
   "metadata": {},
   "source": [
    "## X. Final Version of Die Class\n",
    "Here is the final version of the `Die` class that will be used in the *ten1000* program. The class is offically defined in the `tenthou/ten1000.py` file."
   ]
  },
  {
   "cell_type": "code",
   "execution_count": null,
   "id": "fd8cf41c",
   "metadata": {},
   "outputs": [],
   "source": [
    "import random\n",
    "\n",
    "class Die():\n",
    "    \"\"\"A single six-sided die.\n",
    "    \n",
    "    Attributes:\n",
    "        value: An integer between 1 and 6 inclusive.\n",
    "        roll(): Assigns a random integer to the value attribute,\n",
    "            between 1 and 6 inclusive.\n",
    "    \"\"\"\n",
    "    def __init__(self, val=None):\n",
    "        \"\"\"Constructor for a six-sided die.\n",
    "        \n",
    "        Args:\n",
    "            val: Optional. Accepts an integer value between 1\n",
    "                6 inclusive, which becomes the die's initial value.\n",
    "                If omitted, a random integer is assigned.\n",
    "                \n",
    "        Raises:\n",
    "            ValueError: if val is an integer but not between 1 and 6.\n",
    "            TypeError: if val is not an integer.\n",
    "        \"\"\"\n",
    "        if val is None:\n",
    "            self.roll()\n",
    "        elif not isinstance(val, int):\n",
    "            raise TypeError(f\"val is not an integer: {type(val)}\")\n",
    "        elif val < 1 or val > 6:\n",
    "            raise ValueError(f\"val not between 1 and 6: {val}\")\n",
    "        else:\n",
    "            self.value = val\n",
    "    \n",
    "    def roll(self):\n",
    "        \"\"\"Rolls the die, generating a new random value from 1 to 6.\n",
    "        \"\"\"\n",
    "        self.value = random.randint(1, 6)\n",
    "\n",
    "    def __str__(self):\n",
    "        \"\"\"Causes print() and str() to show the die's value.\n",
    "        \n",
    "        Returns: the .value property as a string.\n",
    "        \"\"\"\n",
    "        return str(self.value)"
   ]
  },
  {
   "cell_type": "markdown",
   "id": "d8eb18ab",
   "metadata": {},
   "source": [
    "There are a few changes.\n",
    "1. Comments have been added to the class. The comments are formatted per the [Google Python Style Guide](https://google.github.io/styleguide/pyguide.html#s3.8.4-comments-in-classes). Please read through the section of the style guide on comments.\n",
    "2. The `.__add__()` and `.__radd__()` special methods were removed. They are not needed for the *ten1000* program."
   ]
  },
  {
   "cell_type": "markdown",
   "id": "7e9d19ef",
   "metadata": {},
   "source": [
    "## XI. Exercises\n",
    "\n",
    "### Ex #1 Coin Class\n",
    "Create a `Coin` class with the following properties and methods.\n",
    "* `.coin_type`: Either \"penny\", \"nickle\", \"dime\", or \"quarter\".\n",
    "* `.cents`: The number of cents the coin is worth\n",
    "* `.up_side`: The side of the coin that is facing up, either \"heads\" or \"tails\".\n",
    "* `.flip()`: A method that flips the coin, randomly assigning a value of \"heads\" or \"tails\" to the `.up` property. The `choice()` function in the [`random` module from the Python Standard Library](https://docs.python.org/3/library/random.html) might be helpful.\n",
    "* `.__init__()`: A constructor method whose arguments are the name of the coin and the value of `.up`. The \n",
    "\n",
    "Create the `Coin` class in a separate file named `coin.py`, in the *exercises* folder. Then run the cell below. The cell should run with no errors."
   ]
  },
  {
   "cell_type": "code",
   "execution_count": null,
   "id": "d5632a27",
   "metadata": {},
   "outputs": [],
   "source": [
    "# Run cell to test your `Coin` class. It should run with no errors.\n",
    "import exercises.coin\n",
    "\n",
    "# Ensure an updated copy of exercises.coin is loaded every time the\n",
    "#   cell is run. See explanation below.\n",
    "import importlib\n",
    "importlib.reload(exercises.coin)\n",
    "\n",
    "# The testing starts here. First, verify we can create a `Coin` object\n",
    "#   with just one argument.\n",
    "cn = exercises.coin.Coin(\"penny\")\n",
    "assert cn.coin_type == \"penny\"\n",
    "assert cn.up_side is None\n",
    "assert cn.cents == 1\n",
    "\n",
    "# Now verify we can specify an up-side\n",
    "cn2 = exercises.coin.Coin(\"nickle\", \"tails\")\n",
    "assert cn2.cents == 5\n",
    "assert cn2.up_side == \"tails\"\n",
    "cn2.flip()\n",
    "assert cn2.up_side == \"heads\" or cn2.up_side == \"tails\"\n",
    "print(f\"The toss is {cn2.up_side}!\")"
   ]
  },
  {
   "cell_type": "markdown",
   "id": "afc43035",
   "metadata": {},
   "source": [
    "**Note on `importlib.reload()`**  \n",
    "> When you import a module, Python first checks to see if the module has already been imported. To save time, Python does not reload the module if it has already been imported. Consequently, within Jupyter notebooks, a module will only be imported the first time you run the cell that contains the import statement.\n",
    "\n",
    "> This behavior is annoying if you are debugging an external Python file and testing it within a Jupyter notebook. If you fix a bug in the external file and re-run the code cell, Python won't see any of your bug fixes because it won't reload the file. To test your bug fixes, you will have to restart the Python kernal by selecting *Restart Kernal...* from the Jupyter *Kernal* menu. This is time-consuming and annoying, especially if your code cell depends on other cells in the notebook (all cells will have to be re-run).\n",
    "\n",
    "> Fortunately, the `importlib` module within the Python Standard Library provides a `reload()` function that forces Python to reload a module even it it's already been loaded. The `reload()` function can only re-load a module -- it cannot load a module that has not yet been imported. That's why we still need the regular `import` statement."
   ]
  },
  {
   "cell_type": "markdown",
   "id": "a02833d6",
   "metadata": {},
   "source": [
    "### Ex #2 Test the Coin Class\n",
    "Use *Pytest* syntax to write an automated test that tests all features of your `Coin` class. Place your test code in `exercises/test_coin.py` Your test file should include at least two different test functions. Run the test by running the cell below. You should see *Pytest* output indicating that all tests passed."
   ]
  },
  {
   "cell_type": "code",
   "execution_count": null,
   "id": "31b226e7",
   "metadata": {},
   "outputs": [],
   "source": [
    "# Run your external test file\n",
    "!pytest -k test_coin.py"
   ]
  },
  {
   "cell_type": "markdown",
   "id": "37c24542",
   "metadata": {},
   "source": [
    "Run the next cell to display the contents of your test file."
   ]
  },
  {
   "cell_type": "code",
   "execution_count": null,
   "id": "e1fcb435",
   "metadata": {},
   "outputs": [],
   "source": [
    "%psorce test_coin.py"
   ]
  },
  {
   "cell_type": "markdown",
   "id": "d557d7af",
   "metadata": {},
   "source": [
    "### Ex #3 Throw Some Errors\n",
    "Modify the `.__init__()` method in your `Coin` class so that it throws a `ValueError` if a user tries to instantiate a `Coin` object with invalid input, like \"drachma\" or \"piece of eight\"."
   ]
  },
  {
   "cell_type": "code",
   "execution_count": null,
   "id": "7774329e",
   "metadata": {},
   "outputs": [],
   "source": [
    "# Run this code to verify your Coin class produced an error.\n",
    "import importlib\n",
    "import exercises.coin\n",
    "\n",
    "importlib.reload(exercises.coin)\n",
    "\n",
    "try:\n",
    "    cn = exercises.coin.Coin(\"knut\")\n",
    "except ValueError:\n",
    "    print(\"Good job. Your Coin class raised the correct type of error.\")\n",
    "else:\n",
    "    print(\"You need to try again. Your Coin class did not raise a ValueError.\")\n",
    "finally:\n",
    "    print(\"Error test is complete!\")"
   ]
  },
  {
   "cell_type": "markdown",
   "id": "6ac7a0c8",
   "metadata": {},
   "source": [
    "The test code in the preceding cell includes some new keywords that you have not seen before. Python uses `try-except` blocks to handle errors so they don't crash the entire program. We'll cover `try-except` blocks in more detail later, but you can probably figure out how they work by inspecting the code. You can read more about `try-except` blocks in the [Python Tutorial](https://docs.python.org/3/tutorial/errors.html#handling-exceptions)."
   ]
  },
  {
   "cell_type": "markdown",
   "id": "0b5a83e2",
   "metadata": {},
   "source": [
    "### Ex #4. Test for Errors\n",
    "Write a test that passes invalid input to your `Coin` class and verifies it throws a `ValueError`. Put the test in the `test_coin.py` file."
   ]
  },
  {
   "cell_type": "code",
   "execution_count": null,
   "id": "21174d03",
   "metadata": {},
   "outputs": [],
   "source": [
    "# Run your external test file\n",
    "!pytest -k test_coin.py"
   ]
  },
  {
   "cell_type": "markdown",
   "id": "18de79e8",
   "metadata": {},
   "source": [
    "Run the next cell to display the contents of your `test_coin.py` file."
   ]
  },
  {
   "cell_type": "code",
   "execution_count": null,
   "id": "97ef2169",
   "metadata": {
    "tags": []
   },
   "outputs": [],
   "source": [
    "%psource test_coin.py"
   ]
  },
  {
   "cell_type": "markdown",
   "id": "4438c8b9",
   "metadata": {},
   "source": [
    "### Ex #5. Add Up the Cents\n",
    "Modify your `Coin` class so it can be used with the `+` operator. The `+` operator should return the sum of the `.cents` properties for the two `Coin` objects. Run the code cell below to verify your `Coin` class is correct."
   ]
  },
  {
   "cell_type": "code",
   "execution_count": null,
   "id": "33e14278",
   "metadata": {},
   "outputs": [],
   "source": [
    "# Run this code to verify your Coin class works with the `+` operator.\n",
    "import importlib\n",
    "import exercises.coin\n",
    "\n",
    "importlib.reload(exercises.coin)\n",
    "\n",
    "penny = exercises.coin.Coin(\"penny\")\n",
    "nickle = exercises.coin.Coin(\"nickle\")\n",
    "dime = exercises.coin.Coin(\"dime\")\n",
    "quarter = exercises.coin.Coin(\"quarter\")\n",
    "\n",
    "assert 1 + penny == 2\n",
    "assert nickle + 5 == 10\n",
    "assert dime + quarter == 35\n",
    "assert penny + nickle + dime + quarter == 41"
   ]
  },
  {
   "cell_type": "markdown",
   "id": "b6c34d58",
   "metadata": {},
   "source": [
    "### Ex #6. Multiply and Compare!\n",
    "Modify your coin class so coin values can be multiplied by integers using `*` and compared to each other using `==`, `>`, `<`, `>=`, `<=`, and `!=` operators. Use special methods, similar to what you used for exercise #5. Figure out which special methods you need to use by reading through [this section of the Python documentation](https://docs.python.org/3/reference/datamodel.html#special-method-names) (it's a big section, you may have to scroll down a lot).\n",
    "\n",
    "Your special methods will need to check parameter types, i.e., whether the parameter is a `Coin` object or an `int`. You might find yourself writing the same `if-else` block over and over. Can you move this `if-else` block into it's own method?"
   ]
  },
  {
   "cell_type": "code",
   "execution_count": null,
   "id": "12b9ff25",
   "metadata": {},
   "outputs": [],
   "source": [
    "# Run this code to verify your Coin class works with `*`.\n",
    "import importlib\n",
    "import exercises.coin\n",
    "\n",
    "importlib.reload(exercises.coin)\n",
    "\n",
    "penny = exercises.coin.Coin(\"penny\")\n",
    "nickle = exercises.coin.Coin(\"nickle\")\n",
    "dime = exercises.coin.Coin(\"dime\")\n",
    "quarter = exercises.coin.Coin(\"quarter\")\n",
    "\n",
    "assert 5 * penny == nickle\n",
    "assert dime + dime != quarter\n",
    "assert quarter * 4 + penny == 101\n",
    "assert 5 * quarter >= 124\n",
    "assert 5 * quarter >= 125\n",
    "assert nickle < dime\n",
    "assert not nickle > dime\n",
    "assert 5 * nickle <= quarter"
   ]
  },
  {
   "cell_type": "markdown",
   "id": "838f4fbd",
   "metadata": {},
   "source": [
    "### Ex #7. More Testing!\n",
    "Add another test function to `test_coin.py` that tests all of your new special methods."
   ]
  },
  {
   "cell_type": "code",
   "execution_count": null,
   "id": "c6be1b20",
   "metadata": {},
   "outputs": [],
   "source": [
    "# Run your external test file\n",
    "!pytest -k test_coin.py"
   ]
  },
  {
   "cell_type": "markdown",
   "id": "c009e9a0",
   "metadata": {},
   "source": [
    "Run the next cell to display the contents of your `test_coin.py` file."
   ]
  },
  {
   "cell_type": "code",
   "execution_count": null,
   "id": "c30a8634",
   "metadata": {
    "tags": []
   },
   "outputs": [],
   "source": [
    "%psource test_coin.py"
   ]
  },
  {
   "cell_type": "markdown",
   "id": "32bda5d3",
   "metadata": {},
   "source": [
    "### Ex #8. Docstrings!\n",
    "Add class and method docstrings to your `Coin` class in `exercises/coin.py`. Follow the guidance in [PEP 8](https://www.python.org/dev/peps/pep-0008/#documentation-strings), [PEP 257](https://www.python.org/dev/peps/pep-0257/), and the [Google the Python Style Guide](https://google.github.io/styleguide/pyguide.html#s3.8-comments-and-docstrings). Then run the cell below to display the code for `exercises/coin.py`."
   ]
  },
  {
   "cell_type": "code",
   "execution_count": null,
   "id": "fc55f9f0",
   "metadata": {},
   "outputs": [],
   "source": [
    "# Run this cell to display exercises/coin.py\n",
    "%psource exercises.coin"
   ]
  },
  {
   "cell_type": "markdown",
   "id": "67ed4aae",
   "metadata": {},
   "source": [
    "## XII. Test-Driven Development\n",
    "In exercises #1, #5, and #6, you created classes that had to meet specific requirements. Objects created from the classes needed to meet the requirements of several `assert` statements. You had to carefully read the assert statements to successfully complete the exercise. Here are a few takeaways:\n",
    "* The groups of assert statements contained in the exercise code cells are very much like unit tests. For purposes of this discussion, let's just consider each set of assert statements to be a unit test.\n",
    "* The unit tests can be used as detailed software requirements. They are like a detailed schematic that defines exactly what classes and methods should be built and how they should function.\n",
    "* There is a type of software development where you write the unit tests *before* you write the code that will be tested. This is an effective technique for writing high quality software. [Here is an article that describes test-driven development in greater detail](https://www.freecodecamp.org/news/test-driven-development-what-it-is-and-what-it-is-not-41fa6bca02a2/).\n",
    "\n",
    "The Issaquah Robotics Society *requires* automated tests for production code that is used in its scouting systems, and test-driven development is highly encouraged. We are learning automated tests simultaneously with learning classes because we want programmers get in the habit of using automated tests right at the start. Here are some good practices:\n",
    "* Start drafting a unit test before creating a class or module, even if your first version of the unit test doesn't do anything other than create an object.\n",
    "* Update and run the unit test as you add new features to your class or module.\n",
    "* As you are writing code, use unit tests to frequently run it and verify it works."
   ]
  },
  {
   "cell_type": "markdown",
   "id": "03af390d",
   "metadata": {},
   "source": [
    "## XIII. Quiz"
   ]
  },
  {
   "cell_type": "markdown",
   "id": "e1402b32",
   "metadata": {},
   "source": [
    "**#1.** The computer opponent in the *ten1000* game is named Ona. Ona uses two simple rules to make game decisions. One rule addresses which dice should be tabled, and the other rule addresses when Ona decides to end her turn. Play the game a few times. What do you think Ona's rules are?"
   ]
  },
  {
   "cell_type": "code",
   "execution_count": null,
   "id": "e43ab099",
   "metadata": {},
   "outputs": [],
   "source": [
    "# Quiz #1\n",
    "\n"
   ]
  },
  {
   "cell_type": "markdown",
   "id": "bdb17f2a",
   "metadata": {},
   "source": [
    "**#2.** What is the difference between a class and an object? In other words, what is the difference between the class `Coin` and the object `penny`? Assume `penny` was created by the statement `penny = Coin(\"penny\")`"
   ]
  },
  {
   "cell_type": "code",
   "execution_count": null,
   "id": "b9986064",
   "metadata": {},
   "outputs": [],
   "source": [
    "# Quiz #2\n",
    "\n"
   ]
  },
  {
   "cell_type": "markdown",
   "id": "8c36799e",
   "metadata": {},
   "source": [
    "** #3.** What is the name of a class's constructor method in Python?"
   ]
  },
  {
   "cell_type": "code",
   "execution_count": null,
   "id": "d44cc6c6",
   "metadata": {},
   "outputs": [],
   "source": [
    "# Quiz #3\n",
    "\n"
   ]
  },
  {
   "cell_type": "markdown",
   "id": "c4cec674",
   "metadata": {},
   "source": [
    "**#4.** Within a method, what does the token `self` typically refer to?"
   ]
  },
  {
   "cell_type": "code",
   "execution_count": null,
   "id": "6597fb6b",
   "metadata": {},
   "outputs": [],
   "source": [
    "# Quiz #4\n",
    "\n"
   ]
  },
  {
   "cell_type": "markdown",
   "id": "3f3c5a43",
   "metadata": {},
   "source": [
    "**#5.** For a class named `Card`, if we call a property like this: `Card.property`, is the property an instance property, or a class property?"
   ]
  },
  {
   "cell_type": "code",
   "execution_count": null,
   "id": "19c469e3",
   "metadata": {},
   "outputs": [],
   "source": [
    "# Quiz #5\n",
    "\n"
   ]
  },
  {
   "cell_type": "markdown",
   "id": "6a73c223",
   "metadata": {},
   "source": [
    "**#6.** What are the rules for naming test functions and test modules in *pytest*?"
   ]
  },
  {
   "cell_type": "code",
   "execution_count": null,
   "id": "19fce34f",
   "metadata": {},
   "outputs": [],
   "source": [
    "# Quiz #6\n",
    "\n"
   ]
  },
  {
   "cell_type": "markdown",
   "id": "e659c3eb",
   "metadata": {},
   "source": [
    "**#7.** How do you run tests in *pytest*?"
   ]
  },
  {
   "cell_type": "code",
   "execution_count": null,
   "id": "b37ad5ed",
   "metadata": {},
   "outputs": [],
   "source": [
    "# Quiz #7\n",
    "\n"
   ]
  },
  {
   "cell_type": "markdown",
   "id": "28d2d127",
   "metadata": {},
   "source": [
    "**#8.** What kind of error will the statement `Assert False` raise? Don't over-think it."
   ]
  },
  {
   "cell_type": "code",
   "execution_count": null,
   "id": "43fc98e6",
   "metadata": {},
   "outputs": [],
   "source": [
    "# Quiz #8\n",
    "\n"
   ]
  },
  {
   "cell_type": "markdown",
   "id": "4b7b1af9",
   "metadata": {},
   "source": [
    "**#9.** If the following test occurs in a *pytest* module, will the test pass?\n",
    "```python\n",
    "def test_error():\n",
    "    with pytest.raises(ValueError):\n",
    "        val = 1 / 0\n",
    "```"
   ]
  },
  {
   "cell_type": "code",
   "execution_count": null,
   "id": "9b8e05af",
   "metadata": {},
   "outputs": [],
   "source": [
    "# Quiz #9\n",
    "\n"
   ]
  },
  {
   "cell_type": "markdown",
   "id": "6ed50420",
   "metadata": {},
   "source": [
    "**#10.** The special functions `.__getitem__()`, `.__setitem__()` and `.__len__()` cause a class to act like a data type that we have already studied. What data type is that? What specifically does each function do?"
   ]
  },
  {
   "cell_type": "code",
   "execution_count": null,
   "id": "2879ce1e",
   "metadata": {},
   "outputs": [],
   "source": [
    "# Quiz #10\n",
    "\n"
   ]
  },
  {
   "cell_type": "markdown",
   "id": "0243ab72",
   "metadata": {},
   "source": [
    "## XIV. Review\n",
    "You should be able to define the following terms or describe the concept.\n",
    "* Class\n",
    "* Object\n",
    "* Constructor\n",
    "* `__init__()`\n",
    "* Property\n",
    "* Method\n",
    "* Instance Property\n",
    "* Class Property\n",
    "* Automated testing\n",
    "* Unit test\n",
    "* Functional test\n",
    "* System test\n",
    "* Test-driven development\n",
    "* `assert` statement\n",
    "* Errors\n",
    "* `raise` statement\n",
    "* Special methods\n",
    "* `__str__()`\n",
    "* `__add__()`\n",
    "* `__radd__()`\n",
    "* Docstrings\n",
    "* Jupyter magic commands\n",
    "* %%writefile"
   ]
  },
  {
   "cell_type": "markdown",
   "id": "42582a64",
   "metadata": {},
   "source": [
    "## XV. Save Your Work\n",
    "Once you have completed the exercises, save a copy of the notebook outside of the git repository (outside of the *pyclass_frc* folder). Include your name in the file name. Also save the `test_coin.py` file and the `exercises` folder with the `coin.py` file. Push the changes to your git repository. Send a link to the repository to another student so they can check your answers."
   ]
  },
  {
   "cell_type": "markdown",
   "id": "4a7d8199",
   "metadata": {},
   "source": [
    "[Table of Contents](../../index.ipynb)"
   ]
  }
 ],
 "metadata": {
  "kernelspec": {
   "display_name": "Python 3",
   "language": "python",
   "name": "python3"
  },
  "language_info": {
   "codemirror_mode": {
    "name": "ipython",
    "version": 3
   },
   "file_extension": ".py",
   "mimetype": "text/x-python",
   "name": "python",
   "nbconvert_exporter": "python",
   "pygments_lexer": "ipython3",
   "version": "3.9.4"
  }
 },
 "nbformat": 4,
 "nbformat_minor": 5
}
