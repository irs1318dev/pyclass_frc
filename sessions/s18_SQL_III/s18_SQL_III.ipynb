{
 "cells": [
  {
   "cell_type": "markdown",
   "id": "b3d83b5a-2c2f-4dba-97c8-527d1a83b15e",
   "metadata": {},
   "source": [
    "[Table of Contents](../../index.ipynb)"
   ]
  },
  {
   "cell_type": "markdown",
   "id": "0ff7b6f8-4b1f-46e2-8776-c8601721c8e3",
   "metadata": {
    "tags": []
   },
   "source": [
    "# FRC Analytics with Python - Session 18\n",
    "# Structured Query Language (SQL) - Part III\n",
    "**Last Updated: 25 November 2021**\n",
    "\n",
    "In this third session on SQL we'll learn about creating tables and indexes and running upsert and aggregate queries."
   ]
  },
  {
   "cell_type": "markdown",
   "id": "e57150d7-3b8a-49d3-a36b-9661984d9d9b",
   "metadata": {},
   "source": [
    "## I. Notebook Setup"
   ]
  },
  {
   "cell_type": "markdown",
   "id": "a83cdda1-2e57-40a5-bee0-be2b89c8fbba",
   "metadata": {},
   "source": [
    "### A. If Using Google Colab\n",
    "It's best if you clone the *pyclass_frc* Github repo and run this notebook from your local computer. But if you would like to run it from Google Colab, uncomment and run the lines in the next cell. (*Don't delete the exclamation points at the start of the lines!*) The cell will download and run a shell script that will create subfolders and download the required files for this session."
   ]
  },
  {
   "cell_type": "code",
   "execution_count": null,
   "id": "7197aca2-33b6-4f9b-ad65-3438c0fb6232",
   "metadata": {},
   "outputs": [],
   "source": [
    "# !wget -nv https://raw.githubusercontent.com/irs1318dev/pyclass_frc/master/sessions/s19_SQL_III/chinook.sqlite3"
   ]
  },
  {
   "cell_type": "markdown",
   "id": "d284de40-2c3a-47b8-8613-8a688a4c1fe2",
   "metadata": {},
   "source": [
    "### B. Imports and Database File\n",
    "Run the next cell to set up the notebook to work with our SQLite databases."
   ]
  },
  {
   "cell_type": "code",
   "execution_count": null,
   "id": "ad8a3fd0-0602-4945-9847-afafb73da704",
   "metadata": {},
   "outputs": [],
   "source": [
    "import sqlite3\n",
    "\n",
    "import pandas as pd\n",
    "\n",
    "# Database files\n",
    "robotics_db = 'robotics.sqlite3'\n",
    "chinook_db = 'chinook.sqlite3'"
   ]
  },
  {
   "cell_type": "markdown",
   "id": "1bacee6d-ad1b-4808-b4f9-1ea1fe466c4c",
   "metadata": {},
   "source": [
    "### C. Reset Robotics Database\n",
    "Several SQL commands in this notebook will generate an error if we try to execute them more than once. If you would like to re-run the SQL commands in this notebook, or you are getting a `UNIQUE constaint failed:...` error message, run the next cell to revert the database to its initial condition."
   ]
  },
  {
   "cell_type": "code",
   "execution_count": null,
   "id": "831ef4cd-acb3-45be-b4a3-88f21731476e",
   "metadata": {},
   "outputs": [],
   "source": [
    "# Run this cell to revert the robotics.sqlite database back to its initial condition.\n",
    "rcon = sqlite3.connect(robotics_db)\n",
    "rcon.execute(\"DROP TABLE IF EXISTS Checkouts;\")\n",
    "rcon.execute(\"DROP TABLE IF EXISTS Members;\")\n",
    "rcon.execute(\"DROP TABLE IF EXISTS Tools;\")\n",
    "rcon.commit()\n",
    "rcon.close()   "
   ]
  },
  {
   "cell_type": "markdown",
   "id": "e73e5b7d-5804-4978-950b-69b6630dc0c8",
   "metadata": {},
   "source": [
    "### D. SQL References\n",
    "For your convenience, here are the SQL references that were discussed in session 16 and 17.\n",
    "* [Official SQLite documentation](https://www.sqlite.org/lang.html)\n",
    "* [Python sqlite3 Package Documentation](https://docs.python.org/3/library/sqlite3.html)\n",
    "* [W3 Schools SQL Tutorial](https://www.w3schools.com/Sql/default.asp) \n",
    "* [Tutorialspoint SQLite Tutorial](https://www.tutorialspoint.com/sqlite/index.htm)"
   ]
  },
  {
   "cell_type": "markdown",
   "id": "5024af6d-4be5-4434-8852-72c6c10b9a8c",
   "metadata": {},
   "source": [
    "## II. Working with Tables\n",
    "\n",
    "### A. Creating a Basic Table\n",
    "Now that we've run SQL queries against numerous tables, it's time to explain how we create them. Suppose we wanted to create a database to keep track of the members of our robotics team. We want to use the database to track who is planning on attending competitions, who has turned in their permission slips, who has paid their dues, and other stuff like that. The database will need several tables. We'll start with a *Members* table."
   ]
  },
  {
   "cell_type": "code",
   "execution_count": null,
   "id": "9a72bf01-0950-4bcb-82ab-b56cc881df43",
   "metadata": {},
   "outputs": [],
   "source": [
    "# Create a table\n",
    "query = \"\"\"\n",
    "    CREATE TABLE IF NOT EXISTS Members(\n",
    "            member_id INTEGER PRIMARY KEY,\n",
    "           given_name TEXT NOT NULL COLLATE NOCASE,\n",
    "              surname TEXT NOT NULL COLLATE NOCASE,\n",
    "                 role TEXT,\n",
    "                email TEXT NOT NULL UNIQUE,\n",
    "               mobile TEXT UNIQUE,\n",
    "                phone TEXT,\n",
    "          date_joined TEXT DEFAULT CURRENT_DATE);\n",
    "\"\"\"\n",
    "rcon = sqlite3.connect(robotics_db)\n",
    "rcon.execute(query)\n",
    "rcon.commit()\n",
    "display(pd.read_sql_query(\"SELECT * FROM Members;\", rcon))\n",
    "rcon.close()"
   ]
  },
  {
   "cell_type": "markdown",
   "id": "1097d05d-a266-461a-996a-73ddd8792874",
   "metadata": {},
   "source": [
    "The preceding query created a new, empty table.\n",
    "\n",
    "`CREATE TABLE` queries are not difficult to understand. They start with the clause `CREATE TABLE` and include a definition for each table column in parentheses. Let's look at the components of the *Members* query.\n",
    "* The phrase `IF NOT EXISTS` is optional. If we left it out and ran the `CREATE TABLE` query twice, we would get an error the second time we ran the query because the table would already exist. If the `IF NOT EXISTS` phrase is present, the query does nothing if the table already exists. The phrase is included in this query because code cells are often run more than once in a Jupyter notebook.\n",
    "* Each column definition includes the column's name and datatype.\n",
    "* SQLite has few datatypes compared to other database systems. The most common data types are `TEXT`, `INTEGER`, `REAL`, and `NUMERIC`. The `NUMERIC` datatype is intended to store both integers and real numbers (i.e., floating point numbers). SQLite also has a `BLOB` datatype, which stands for large binary object. `BLOB` columns can store any sequence of bytes, such as a photo or an audio file.\n",
    "* The phrase `NOT NULL` is a type of *column constraint*. It prevents users from adding records where the `NOT NULL` column is empty.\n",
    "* `UNIQUE` is another type of column constraint. SQLite will not allow users to create records if the value in the `UNIQUE` column is the same as the value from another record in the table.\n",
    "* The `DEFAULT CURRENT_DATE` phrase causes SQLite to enter the current date into the *date_joined* column if the user does not specify a different date. The `CURRENT_DATE` keyword could be replaced with any literal value, like 0, or 'bubble tea'.\n",
    "* The `COLLATE NOCASE` clause tells SQLite to ignore case when comparing text values. This will affect how `WHERE` clauses operate.\n",
    "* Finally, the `PRIMARY KEY` phrase instructs SQLite that the *member_id* column will be the primary key for the table. Remember, primary keys are used to identfy records in a table and SQLite will automatically insert unique integer values into this column.\n",
    "\n",
    "Let's add some data to our new table."
   ]
  },
  {
   "cell_type": "code",
   "execution_count": null,
   "id": "46a786c3-1dee-4fa7-9700-3bb973dc8c01",
   "metadata": {},
   "outputs": [],
   "source": [
    "# Add records to our table\n",
    "members = [\n",
    "    {'given_name': 'Aishwarya',\n",
    "     'surname': 'Comar',\n",
    "     'role': 'Mentor',\n",
    "     'email': 'aishwarya.comar@frcteam.org'},\n",
    "    {'given_name': 'Heng',\n",
    "     'surname': 'Pan',\n",
    "     'role': 'Student',\n",
    "     'email': 'heng.pan@frcteam.org'},\n",
    "    {'given_name': 'Pamela',\n",
    "     'surname': 'Robinson',\n",
    "     'role': 'Student',\n",
    "     'email': 'pamela.robinson@frcteam.org'}\n",
    "]\n",
    "\n",
    "query = \"\"\"\n",
    "    INSERT INTO Members (given_name, surname, role, email)\n",
    "                Values (:given_name, :surname, :role, :email);\n",
    "\"\"\"\n",
    "rcon = sqlite3.connect('robotics.sqlite3')\n",
    "rcon.executemany(query, members)\n",
    "rcon.commit()\n",
    "display(pd.read_sql_query(\"SELECT * FROM Members;\", rcon))\n",
    "rcon.close()"
   ]
  },
  {
   "cell_type": "markdown",
   "id": "640b3a88-d34c-4a5a-aeac-4e01d3914882",
   "metadata": {},
   "source": [
    "FYI, we used the `sqlite3` package's `.executemany()` method to add multiple rows at one time. We passed a list of dictionary objects to the `.executemany()` method and Python matched the key values to named parameters in the SQL query. We also could have used question marks ('?') in the SQL query instead of named parameters like `:given_name`. If question marks are used, the list of values should contain tuples instead of dictionary objects, and the order of the tuples should match the column order in the SQL query."
   ]
  },
  {
   "cell_type": "markdown",
   "id": "c44f693a-7199-4a16-8749-eb74132fc44d",
   "metadata": {},
   "source": [
    "### B. SQLite Datatypes\n",
    "SQLite considers datatypes to be suggestions, not strict requirements. SQLite will store any type of data in any column regardless of the specified datatype. This is not true for other database systems which are strictly type. Other database systems might throw an error if a user tries to store a value like 'Spartabots' in an integer column. While SQLite does not throw errors if data doesn't match a column's datatype, SQLite does use the specified datatype to decide how the value will be stored on disk.\n",
    "\n",
    "You might have noted that SQLite does not have a Boolean datatype. Use the INTEGER datatype for Boolean data, with 1 for *true* and 0 for *false*.\n",
    "\n",
    "Additionally, SQLite has no datatype for dates or times. SQLite can store date-time values in TEXT, REAL, or INTEGER columns.\n",
    "* If an INTEGER column is used, the date-time is stored as the number of seconds that have elapsed since January first, 1970 (i.e., Unix time).\n",
    "* If a REAL column is used, the date-time is stored as the number of days since noon in Greenwich, UK on November 24th, 4714 BCE. \n",
    "* If a TEXT column is used, the date-time is stored as a string using [ISO8601 format](https://en.wikipedia.org/wiki/ISO_8601), `'YYYY-MM-DD HH:MM:SS.SSS'`. The value need not include the time components, but must be ordered from longer time periods to shorter time periods, i.e., from years to months to days to hours and so on.\n",
    "\n",
    "The Issaquah Robotics Society prefers to use TEXT datatypes for date-time values, so that the date-time values don't require additional processing to be human-readable.\n",
    "\n",
    "The [SQLite documentation provides additional information on datatypes.](https://www.sqlite.org/datatype3.html)"
   ]
  },
  {
   "cell_type": "markdown",
   "id": "10dae415-406f-4637-8cdd-dff855b982e8",
   "metadata": {},
   "source": [
    "### C. Multi-Column Primary Keys\n",
    "The primary key in our *Members* table contains a single-column primary key. Single-column keys are common, but there are situations where we might want to have a multi-colum primary key.\n",
    "\n",
    "Here's a situation where one might want a multi-column primary key. Suppose that you decide to add a tool inventory program to your robotics team database. We'll need a *Tools* table. The next cell creates the *Tools* table and adds two records."
   ]
  },
  {
   "cell_type": "code",
   "execution_count": null,
   "id": "ce22ccd8-8996-403a-809a-49d1660e6473",
   "metadata": {},
   "outputs": [],
   "source": [
    "# Multi-column primary keys\n",
    "rcon = sqlite3.connect('robotics.sqlite3')\n",
    "\n",
    "query = \"\"\"\n",
    "    CREATE TABLE IF NOT EXISTS Tools(\n",
    "              tool_id INTEGER PRIMARY KEY,\n",
    "            tool_type TEXT NOT NULL,\n",
    "          tool_number INTEGER UNIQUE NOT NULL,\n",
    "          description TEXT NOT NULL COLLATE NOCASE,\n",
    "        date_acquired TEXT);\n",
    "\"\"\"\n",
    "\n",
    "rcon = sqlite3.connect('robotics.sqlite3')\n",
    "rcon.execute(query)\n",
    "\n",
    "tools = [\n",
    "    ('drill', 1, 'Ryobi 18V Lithium-Ion Cordless Drill', None),\n",
    "    ('5-axis mill', 2, 'Grob G150 5-axis Universal Machining Center',\n",
    "     '2024-08-01')\n",
    "]\n",
    "\n",
    "query = \"\"\"\n",
    "    INSERT INTO Tools (tool_type, tool_number, description, date_acquired)\n",
    "                VALUES (?, ?, ?, ?);\n",
    "\"\"\"\n",
    "rcon.executemany(query, tools)\n",
    "rcon.commit()\n",
    "display(pd.read_sql_query(\"SELECT * FROM Tools;\", rcon))\n",
    "rcon.close()"
   ]
  },
  {
   "cell_type": "markdown",
   "id": "8990c5c0-1587-4fcd-b7c6-8e3f34dfd1d7",
   "metadata": {},
   "source": [
    "Now suppose you want require team members to check out tools, and that you will use a database to record to whom a tool is checked out at any given time. We want to store this information in a *Checkouts* table, which links the *Members* and *Tools* tables."
   ]
  },
  {
   "cell_type": "code",
   "execution_count": null,
   "id": "fabe927a-bbd4-486c-a018-f8fac0b7ed94",
   "metadata": {},
   "outputs": [],
   "source": [
    "# Create a Checkouts table\n",
    "rcon = sqlite3.connect('robotics.sqlite3')\n",
    "\n",
    "query = \"\"\"\n",
    "    CREATE TABLE IF NOT EXISTS Checkouts(\n",
    "            tool_id INTEGER,\n",
    "          member_id INTEGER,\n",
    "      checkout_date TEXT NOT NULL DEFAULT CURRENT_DATE,\n",
    "       checkin_date TEXT,\n",
    "      \n",
    "         CONSTRAINT CheckoutsKey\n",
    "        PRIMARY KEY (tool_id, member_id)\n",
    "    );\n",
    "\"\"\"\n",
    "\n",
    "rcon = sqlite3.connect('robotics.sqlite3')\n",
    "rcon.execute(query)\n",
    "\n",
    "checkouts = [\n",
    "    (1, 1, '2021-10-01', '2021-10-01'),\n",
    "    (2, 2, '2021-10-02', None),\n",
    "    (1, 3, '2021-10-03', None)\n",
    "]\n",
    "\n",
    "query = \"\"\"\n",
    "    INSERT INTO Checkouts (tool_id, member_id, checkout_date, checkin_date)\n",
    "                   VALUES (?, ?, ?, ?);    \n",
    "\"\"\"\n",
    "rcon.executemany(query, checkouts)\n",
    "rcon.commit()\n",
    "display(pd.read_sql_query(\"SELECT * FROM Checkouts;\", rcon))\n",
    "rcon.close()"
   ]
  },
  {
   "cell_type": "markdown",
   "id": "f2f239d6-84c4-4e3c-9828-cfdd9aec388c",
   "metadata": {},
   "source": [
    "The `CREATE TABLE` query for the *Checkouts* table uses a table-level constraint to add a multi-column primary key. The table's primary key consists of both the *tool_id* and *member_id* columns. This means that we can have duplicates in the *tool_id* or *member_id* columns, but we can't have two records with the same values in both the *tool_id* or *member_id* columns.\n",
    "\n",
    "There are other types of table constraints in addition to primary keys. Table constraints can be used to create multi-key uniqueness constraints, check constraints that verify data values meet some specified criteria, and foreign key constraints that limit values to key values that are present in some other table. You can learn more about table-level constraints by reading through the official [SQLite documentation](https://www.sqlite.org/syntax/table-constraint.html) or at [sqlitetutorial.net](https://www.sqlitetutorial.net/).\n",
    "\n",
    "The *Checkouts* table is not a realistic example with respect to multi-column primary keys. We'll see if you can figure out why in exercise #4."
   ]
  },
  {
   "cell_type": "markdown",
   "id": "5f1875eb-4c16-4d95-afe2-1bc10446f805",
   "metadata": {},
   "source": [
    "### D. Indexes\n",
    "The databases that we use for our robotics activities are small and we don't worry much about performance. But performance is a concern for databases used by large businesses, with millions of rows and terabytes of information -- especially if the databases are driving a web application and we want to minimize latency. Indexes are a database tool that can speed up queries for large databases.\n",
    "\n",
    "Consider our *Members* table. We expect that `SELECT` queries with `WHERE surname = ...` clauses would occur frequently on the *Members* table. With a small database, SQLite can quickly search through all rows in the *Members* table to find the desired record. But if there were millions of records, such a search would take considerable time. SQLite has a `CREATE INDEX` statement that we can use to add an index to the *Members* table."
   ]
  },
  {
   "cell_type": "code",
   "execution_count": null,
   "id": "6c3b2e32-9541-42a6-82e3-914f18f3d22c",
   "metadata": {},
   "outputs": [],
   "source": [
    "# Create an index\n",
    "query = \"\"\"\n",
    "    CREATE INDEX IF NOT EXISTS surname_index\n",
    "        ON Members (surname, given_name);\n",
    "\"\"\"\n",
    "rcon = sqlite3.connect('robotics.sqlite3')\n",
    "rcon.execute(query)\n",
    "rcon.commit()\n",
    "display(pd.read_sql_query(\"SELECT * FROM sqlite_master;\", rcon))\n",
    "rcon.close()"
   ]
  },
  {
   "cell_type": "markdown",
   "id": "71aa6300-c9ed-4848-b974-ceafd338945a",
   "metadata": {},
   "source": [
    "We used the `CREATE INDEX` query to add an index on the *surname* and *given_name* columns of the *Members* table. Then demonstrated that the *surname_index* appears in the *sqlite_master* table. We can see in the *sqlite_master* table that indexes were automatically created for the primary key in the *Checkouts* table and the unique columns in the *Members* table.\n",
    "\n",
    "To understand how indexes speed up searches, consider the index at the back of a book. When we create an index in a SQL database, we create a datastructure that cross references values to locations within the database, similar to how a book index cross-references terms to page numbers. Suppose I want to look up normal probability distributions in my statistics textbook. I could scan every page, starting at page 1, for mentions of the normal probability distritution. This is analogous to searching an un-indexed column with a `SELECT` query. Or I could go to the index at the back of the book. Since the index is sorted alphabetically, I can quickly locate the index entry for normal probability distributions, get the number of the page that contains the description of normal probability distributions, and turn directly to that page. This is analogous to searching an indexed column. \n",
    "\n",
    "There is a cost to using indexes. Every time we add a new record or update the indexed value of an existing record, we have to update the index, which takes a small amount of time for each insert or update. Since most records are retrieved more frequently than they are written, we coume out ahead if we add an index for frequently searched fields. But if we had a table that was updated often and read from rarely, we might want to avoid indexes on that table. [See SQLite's official documentation for more information on indexes.](https://www.sqlite.org/lang_createindex.html)"
   ]
  },
  {
   "cell_type": "markdown",
   "id": "e997848e-070e-427e-9f69-fbd78b473745",
   "metadata": {},
   "source": [
    "### E. Exercises 1 - 6"
   ]
  },
  {
   "cell_type": "markdown",
   "id": "67c4db1d-6b63-4daa-9869-098b0092f893",
   "metadata": {},
   "source": [
    "#### Ex. #1\n",
    "Create an *Activities* table to store information about team activities. The table should have a primary key, activity type (e.g., meeting, competition, outreach event), date, location, and a field that indicates whether permission slips are required."
   ]
  },
  {
   "cell_type": "code",
   "execution_count": null,
   "id": "094ec286-8c10-409d-b9e6-f2d0270e0895",
   "metadata": {},
   "outputs": [],
   "source": [
    "# Ex. #1\n",
    "\n"
   ]
  },
  {
   "cell_type": "markdown",
   "id": "26e18486-b1d9-487f-ae93-66b1dd78f5d1",
   "metadata": {},
   "source": [
    "#### Ex. #2\n",
    "Use an `INSERT` query to add three records to the *Activities* table from exercise #1. Make up the activities. At least one of the activities should require a permission slip."
   ]
  },
  {
   "cell_type": "code",
   "execution_count": null,
   "id": "1d9287f0-94da-41c2-8af3-7f4e4e98be1e",
   "metadata": {},
   "outputs": [],
   "source": [
    "# Ex. #2.\n",
    "\n"
   ]
  },
  {
   "cell_type": "markdown",
   "id": "b54405fb-6735-4762-b6bb-8f2a494b96f1",
   "metadata": {},
   "source": [
    "#### Ex. #3.\n",
    "What datatype did you use for the field that indicates whether permission slips are required? Why?"
   ]
  },
  {
   "cell_type": "code",
   "execution_count": null,
   "id": "12e9dc84-c69a-43a0-8fca-c89dc850184e",
   "metadata": {},
   "outputs": [],
   "source": [
    "# Ex. #3\n",
    "#\n",
    "#"
   ]
  },
  {
   "cell_type": "markdown",
   "id": "e8bd673d-110a-41d6-b153-b8c43b9f9656",
   "metadata": {},
   "source": [
    "#### Ex. #4\n",
    "Explain why is the *Checkouts* table unrealistic?\n",
    "\n",
    "**HINT:** What happens if someone tries to checkout a tool that they've checked out before?"
   ]
  },
  {
   "cell_type": "code",
   "execution_count": null,
   "id": "1191950e-f629-4ed7-bcdf-d8b7eef7da6a",
   "metadata": {},
   "outputs": [],
   "source": [
    "# Ex. #4\n",
    "#\n",
    "#"
   ]
  },
  {
   "cell_type": "markdown",
   "id": "40ae5bb3-5d55-48e5-b833-86083c313e45",
   "metadata": {},
   "source": [
    "#### Ex. #5\n",
    "Creat an *Attendance* table to record what members attended the activities contained in the *Activities* table from exercise #1.\n",
    "* The *Attendance* table should have foreign keys for both the *Members* and *Activities* tables.\n",
    "* Use a multi-column primary key for the *Attendance* table.\n",
    "* The *Attendance* table should indicate whether the member has turned in their permission slip."
   ]
  },
  {
   "cell_type": "code",
   "execution_count": null,
   "id": "d40fc74d-fc08-4103-84e9-1492eef7e6c7",
   "metadata": {},
   "outputs": [],
   "source": [
    "# Ex. #5\n",
    "\n"
   ]
  },
  {
   "cell_type": "markdown",
   "id": "07982546-95df-4411-a3fe-31b6e4a4f1c6",
   "metadata": {},
   "source": [
    "#### Ex. #6\n",
    "Is it realistic to use a multi-column primary key for the *Attendance* table? If so, why would it be realistic to use a multi-column key in the *Attendance* table, but not in the *Checkouts* table?"
   ]
  },
  {
   "cell_type": "code",
   "execution_count": null,
   "id": "7b1b8780-4c92-4ecb-bca5-efaed8ff3e1a",
   "metadata": {},
   "outputs": [],
   "source": [
    "# Ex. #6\n",
    "#\n",
    "#"
   ]
  },
  {
   "cell_type": "markdown",
   "id": "b4dbd845-eb4f-448f-b20c-c26dd98dbfc0",
   "metadata": {},
   "source": [
    "### F. Altering Tables\n",
    "Use SQL's `ALTER TABLE` statement to rename a table, rename a column, add a column, or drop (delete) a column. For example, the following query will add a new column to the *Members* table.\n",
    "```sql\n",
    "ALTER TABLE Members\n",
    " ADD COLUMN graduation_year INTEGER;\n",
    "```\n",
    "The full syntax for `ALTER TABLE` statements is explained in the following syntax diagram from [SQLite's official documentation](https://www.sqlite.org/lang_altertable.html).\n",
    "\n",
    "#### Alter Table Query\n",
    "![ALTER TABLE Syntax](images/alter-table.png)\n",
    "\n",
    "To read the diagram, begin at the start of the path and follow the arrows. Every round box with an uppercase term or punctuation symbol, such as ALTER or COLUMN or \".\", represents a literal value that is typed directly into the query. Every round box in lowercase represents a value supplied by the user. Different types of queries are selected by following different paths. Optional items have a bypass path and items that can be repeated have a loop. \n",
    "\n",
    "Items in rectangular boxes, like \"column-def\" refer to a subordinate diagram. The subordinate diagram for column definitions is included below. Refer to SQLite's official documentation for other subordinate diagrams.\n",
    "\n",
    "#### Column Def Clause\n",
    "![Column Def](images/column-def.png)\n",
    "\n",
    "The ability to read a syntax diagram comes in handy. Syntax diagrams can be used to precisely specify the syntax for a variety of languages. Mathematically speaking, a syntax diagram is a directed graph where the nodes are the terms and the paths show which terms are allowed. [Check out Wikipedia's article on syntax diagrams to learn more.](https://en.wikipedia.org/wiki/Syntax_diagram)"
   ]
  },
  {
   "cell_type": "markdown",
   "id": "5fab0fbd-187b-42db-9b96-fcccc319e2b0",
   "metadata": {},
   "source": [
    "Other table schema changes can only be completed by creating a new table, transferring the old table's data to the new table, and deleting the old table. [See the SQLite documentation for additional guidance.](https://www.sqlite.org/lang_altertable.html) "
   ]
  },
  {
   "cell_type": "markdown",
   "id": "35c98195-5173-4b68-a7d8-0a6ec947530c",
   "metadata": {},
   "source": [
    "#### G. Dropping Tables\n",
    "Use a `DROP Table` query to delete a table from a database. For example:\n",
    "\n",
    "```sql\n",
    "DROP TABLE IF EXISTS Members;\n",
    "```"
   ]
  },
  {
   "cell_type": "markdown",
   "id": "93a1100c-7575-4ddd-84a8-560475f95f3f",
   "metadata": {},
   "source": [
    "## III. UPSERT Queries\n",
    "### A. INSERT Conflicts\n",
    "What would happen if we tried to insert a team member into the *Members* table who already existed in the *Members* table?"
   ]
  },
  {
   "cell_type": "code",
   "execution_count": null,
   "id": "ac6ebe96-2f4d-482b-9da3-09aa9d2a8e75",
   "metadata": {},
   "outputs": [],
   "source": [
    "query = \"\"\"\n",
    "    INSERT INTO Members (given_name, surname, role, email, mobile)\n",
    "         VALUES (:given_name, :surname, :role, :email, :mobile);\n",
    "\"\"\"\n",
    "\n",
    "student = {\n",
    "    'given_name': 'Heng',\n",
    "     'surname': 'Pan',\n",
    "     'role': 'Student',\n",
    "     'email': 'heng.pan@frcteam.org',\n",
    "     'mobile': '555-555-5555'}\n",
    "\n",
    "rcon = sqlite3.connect('robotics.sqlite3')\n",
    "rcon.execute(query, student)\n",
    "rcon.commit()\n",
    "rcon.close()"
   ]
  },
  {
   "cell_type": "markdown",
   "id": "7558d5ea-83bf-4bc3-baa3-83c676191ab9",
   "metadata": {},
   "source": [
    "SQLite threw an `IntegrityError` because we tried to add a record with an email address that already existed in the *email* column and the *email* column has a `UNIQUE` constraint.\n",
    "\n",
    "Suppose one of the team's members has typed personal inforamation into a form and we need to make sure that information gets into the *Members* table. We don't know if there is already a record in the *Members* table for the team member. What do we do?\n",
    "\n",
    "One option is to run a SELECT query and check for a record with the same email address. If the record exists, run an UPDATE query, and run an INSERT QUERY if it doesn't. This is do-able, but inefficient because we are now running two queries for every update. "
   ]
  },
  {
   "cell_type": "markdown",
   "id": "5e3d1707-a770-4af9-9c4d-3704509a56dd",
   "metadata": {},
   "source": [
    "### B. UPSERT to the Rescue\n",
    "A better option is to add an UPSERT clause to our `INSERT` query."
   ]
  },
  {
   "cell_type": "code",
   "execution_count": null,
   "id": "9a8f35ad-cdbc-4fd0-b165-28447a44f4d3",
   "metadata": {},
   "outputs": [],
   "source": [
    "# UPSERT Query\n",
    "\n",
    "# THIS CELL WILL NOT RUN ON GOOGLE COLAB\n",
    "# Upsert was not added to SQLite until version 3.24 and Google Colab uses\n",
    "# an older version of SQLite\n",
    "\n",
    "query = \"\"\"\n",
    "    INSERT INTO Members (given_name, surname, role, email, mobile)\n",
    "         VALUES (:given_name, :surname, :role, :email, :mobile)\n",
    "    ON CONFLICT (email) DO UPDATE\n",
    "            SET given_name=:given_name,\n",
    "                role=:role, email=:email, mobile=:mobile;\n",
    "\"\"\"\n",
    "\n",
    "student = {\n",
    "    'given_name': 'Heng',\n",
    "     'surname': 'Pan',\n",
    "     'role': 'Student',\n",
    "     'email': 'heng.pan@frcteam.org',\n",
    "     'mobile': '555-555-5555'}\n",
    "\n",
    "rcon = sqlite3.connect('robotics.sqlite3')\n",
    "rcon.execute(query, student)\n",
    "rcon.commit()\n",
    "display(pd.read_sql_query(\"SELECT * FROM Members;\", rcon))\n",
    "rcon.close()"
   ]
  },
  {
   "cell_type": "markdown",
   "id": "423a915b-a2a9-4eaf-98f3-ac08ef93b430",
   "metadata": {},
   "source": [
    "UPSERT is a combination of the words UPDATE and INSERT. UPSERT is a common term related to SQL queries, but there is no `UPSERT` keyword. When we talk about `UPSERT` queries, we're referring to `INSERT` queries with an add `ON CONFLICT` clause that converts the `INSERT` query into an update query. The preceding UPSERT query converts to an UPDATE query if any conflict occurs with the email column. The `ON CONFLICT ... DO UPDATE` clause allows us to specify exactly what columns get updated and what they get updated to.\n",
    "\n",
    "We could also use `DO NOTHING` instead of `DO UPDATE`."
   ]
  },
  {
   "cell_type": "code",
   "execution_count": null,
   "id": "296a9352-7ff9-4efa-8b0c-ac2035ff3b7d",
   "metadata": {},
   "outputs": [],
   "source": [
    "# Do Nothing Query\n",
    "\n",
    "# THIS CELL WILL NOT RUN ON GOOGLE COLAB\n",
    "# Upsert was not added to SQLite until version 3.24 and Google Colab uses\n",
    "# an older version of SQLite\n",
    "\n",
    "query = \"\"\"\n",
    "    INSERT INTO Members (given_name, surname, role, email, mobile)\n",
    "         VALUES (:given_name, :surname, :role, :email, :mobile)\n",
    "    ON CONFLICT (email) DO NOTHING;\n",
    "\"\"\"\n",
    "\n",
    "student = {\n",
    "    'given_name': 'Aishwarya',\n",
    "    'surname': 'Comar',\n",
    "    'role': 'Mentor',\n",
    "    'email': 'aishwarya.comar@frcteam.org',\n",
    "    'mobile': '999-999-9999'}\n",
    "\n",
    "rcon = sqlite3.connect('robotics.sqlite3')\n",
    "rcon.execute(query, student)\n",
    "rcon.commit()\n",
    "display(pd.read_sql_query(\"SELECT * FROM Members;\", rcon))\n",
    "rcon.close()"
   ]
  },
  {
   "cell_type": "markdown",
   "id": "908325e0-58ef-47e3-aac6-94d6b37cff54",
   "metadata": {},
   "source": [
    "When `DO NOTHING` is used, then the query leaves rows with conflicts unchanged."
   ]
  },
  {
   "cell_type": "markdown",
   "id": "ca5615a8-f0c6-4248-b9f3-c571b291ebb8",
   "metadata": {},
   "source": [
    "### C. Exercise #7\n",
    "Use an INSERT query to add a tool to the *Tools* table. Add an `ON CONFLICT` clause that will update the *description* column if there is a conflict with the *tool_number* column."
   ]
  },
  {
   "cell_type": "code",
   "execution_count": null,
   "id": "98ef37e0-5d59-4cc4-8f11-59e000be0c27",
   "metadata": {},
   "outputs": [],
   "source": [
    "# Ex. #7\n",
    "\n"
   ]
  },
  {
   "cell_type": "markdown",
   "id": "f17b240c-c0f2-407d-86c7-ca477a0038db",
   "metadata": {},
   "source": []
  },
  {
   "cell_type": "markdown",
   "id": "28505f82-7e39-40a9-8312-47aa1061c0ac",
   "metadata": {},
   "source": [
    "## IV. Aggregate Queries\n",
    "We will be using the *Chinook* training database in this section. since we'll be connecting over and over and displaying query results, it makes sense to create a function that will handle the repetitive work."
   ]
  },
  {
   "cell_type": "code",
   "execution_count": null,
   "id": "0601b2d2-2534-4612-9ab5-d344625c20cf",
   "metadata": {},
   "outputs": [],
   "source": [
    "def show_query(query, head=None, db=chinook_db):\n",
    "    con = sqlite3.connect(db)\n",
    "    if head is not None:\n",
    "        display(pd.read_sql_query(query, con).head(head))\n",
    "    else:\n",
    "        display(pd.read_sql_query(query, con))\n",
    "    con.close()"
   ]
  },
  {
   "cell_type": "markdown",
   "id": "dbc53255-cde6-4ec1-8de0-9318ac05cd9c",
   "metadata": {},
   "source": [
    "Suppose you took a summer job at the Chinook music store, and the general manager wanted to know from which countries the store receives the most orders. We could get the data from the *Invoice* table, which contains a record for each order."
   ]
  },
  {
   "cell_type": "code",
   "execution_count": null,
   "id": "8ca9e03a-3bbd-4111-aa68-40d3dddaa3e1",
   "metadata": {},
   "outputs": [],
   "source": [
    "# Invoice Table\n",
    "query = \"\"\"SELECT * FROM Invoice;\"\"\"\n",
    "show_query(query, 6)"
   ]
  },
  {
   "cell_type": "markdown",
   "id": "dc877cc2-e6bb-4577-8494-2ca1814a95d7",
   "metadata": {},
   "source": [
    "Unfortunately, the *Invoice* table doesn't directly indicate how many orders come from each country. We could filter the table to a single country with a `WHERE` clause and then count the records."
   ]
  },
  {
   "cell_type": "code",
   "execution_count": null,
   "id": "de2d548c-b728-474f-ad71-a0d05df1e1a9",
   "metadata": {},
   "outputs": [],
   "source": [
    "# Invoice Table\n",
    "query = \"\"\"\n",
    "    SELECT COUNT(*) AS \"Germany Orders\"\n",
    "      FROM Invoice\n",
    "     WHERE BillingCountry = 'Germany';\n",
    "\"\"\"\n",
    "show_query(query)"
   ]
  },
  {
   "cell_type": "markdown",
   "id": "f4b7f35a-2744-414c-9dd8-96b7e69e6ee8",
   "metadata": {},
   "source": [
    "This works, but we would have to run the query multiple times, once for each country that occurs in the *BillingCountry* column. "
   ]
  },
  {
   "cell_type": "markdown",
   "id": "64ef66fa-cad6-4c75-82be-a7dd10de2e79",
   "metadata": {},
   "source": [
    "### A. Aggregate Queries to the Rescue\n",
    "Fortunately SQL provides a solution that's easier than manually counting rows or running several queries: aggregate queries."
   ]
  },
  {
   "cell_type": "code",
   "execution_count": null,
   "id": "ebb925e2-532e-4586-bfc2-a1441041e992",
   "metadata": {},
   "outputs": [],
   "source": [
    "# An Aggregate Query\n",
    "query = \"\"\"\n",
    "    SELECT BillingCountry, COUNT(*) AS Quantity\n",
    "      FROM Invoice\n",
    "  GROUP BY BillingCountry\n",
    "  ORDER BY Quantity DESC;\n",
    "\"\"\"\n",
    "show_query(query, 10)"
   ]
  },
  {
   "cell_type": "markdown",
   "id": "3b191b11-2ea7-4c36-9f6a-2aa1607a33a8",
   "metadata": {},
   "source": [
    "The preceding query gives us exactly what we want. For every country that appears in the *BillingCountry* column, the query counts and displays the number of invoices from each country.\n",
    "\n",
    "An aggregate query is any query that combines data from several rows into a single summary value. For example, the *Invoice* table contained 56 records representing invoices from Canada. The aggregate query *aggregated* the information from all 56 rows into a single row with the number of invoices just for Canada.\n",
    "\n",
    "There are two characteristics that turned the query into an aggregate query.\n",
    "* The `COUNT()` function is an aggregate function that aggregates records by counting them.\n",
    "* The `GROUP BY BillingCountry` clause causes SQL to divide the records into separate groups based on the contents of the *BillingCountry* column. Consequently, the `COUNT()` function returns a separate count for each country.\n",
    "\n",
    "Let's try removing the `GROUP BY` clause and see what happens."
   ]
  },
  {
   "cell_type": "code",
   "execution_count": null,
   "id": "ebbb1fad-b519-4275-818d-86a586520e9b",
   "metadata": {},
   "outputs": [],
   "source": [
    "# What happens is we remove GROUP BY?\n",
    "query = \"\"\"\n",
    "    SELECT BillingCountry, COUNT(*) AS Quantity\n",
    "      FROM Invoice\n",
    "  ORDER BY Quantity DESC;\n",
    "\"\"\"\n",
    "show_query(query, 10)"
   ]
  },
  {
   "cell_type": "markdown",
   "id": "32870050-7339-45d9-9f0f-d961837e56ba",
   "metadata": {},
   "source": [
    "Without the `GROUP BY` clause, the `COUNT()` function causes SQL to count all of the rows in the *Invoice* table and return just a single row. The *BillingCountry* column expression does not contain an aggregate function, so SQL arbitrarily picks a country and displays it in the *BillingCountry* results column.\n",
    "\n",
    "What happens if we omit the `COUNT()` function and just include the `GROUP BY` clause?"
   ]
  },
  {
   "cell_type": "code",
   "execution_count": null,
   "id": "3fccc4fe-5062-4c9a-8c89-1ee784f5e092",
   "metadata": {},
   "outputs": [],
   "source": [
    "# What happens if we remove COUNT()?\n",
    "query = \"\"\"\n",
    "    SELECT BillingCountry\n",
    "      FROM Invoice\n",
    "      GROUP BY BillingCountry;\n",
    "\"\"\"\n",
    "show_query(query, 6)"
   ]
  },
  {
   "cell_type": "markdown",
   "id": "e8017231-adc2-454b-9889-cf5dead3f33f",
   "metadata": {},
   "source": [
    "Without the aggregate function, the result of the `GROUP BY` clause is very similar to using the `DISTINCT` keyword."
   ]
  },
  {
   "cell_type": "markdown",
   "id": "9b728be4-9692-444a-81ea-c630095fd43f",
   "metadata": {},
   "source": [
    "### B. Multiple Column `GROUP BY` Clauses\n",
    "Suppose the general manager wanted to drill down further and see how many orders came from individual cities. We could get that information by adding another column to the `GROUP BY` clause."
   ]
  },
  {
   "cell_type": "code",
   "execution_count": null,
   "id": "4fada8c4-89e3-4e42-8392-a3573d8fc296",
   "metadata": {},
   "outputs": [],
   "source": [
    "# Multiple Columns in GROUP BY\n",
    "query = \"\"\"\n",
    "    SELECT BillingCountry, BillingCity, COUNT(*) AS Quantity\n",
    "      FROM Invoice\n",
    "  GROUP BY BillingCountry, BillingCity\n",
    "  ORDER BY BillingCountry;\n",
    "\"\"\"\n",
    "show_query(query, 10)"
   ]
  },
  {
   "cell_type": "markdown",
   "id": "77a6566f-d9e5-4393-bda7-57098cb2c9c4",
   "metadata": {},
   "source": [
    "The `GROUP BY` clause can contain multiple columns. With multiple columns, SQL will return a row for every distinct combination of the two columns. Brazil, for example, has four cities that appear in the *Invoice* table, so the aggregate query generates four different rows for Brazil, one for each city.\n",
    "\n",
    "Suppose the general manager only wants to track orders of &dollar;10 or more. We can use a `WHERE` clause to filter out orders of less than &dollar;10."
   ]
  },
  {
   "cell_type": "markdown",
   "id": "eda7c873-4cab-4307-a777-4db0b9ee2514",
   "metadata": {},
   "source": [
    "### C. `WHERE` vs. `HAVING`\n",
    "Suppose the general manager only wants to track orders of &dollar;10 or more. We can use a `WHERE` clause to filter out orders of less than &dollar;10."
   ]
  },
  {
   "cell_type": "code",
   "execution_count": null,
   "id": "423432a4-4446-41cb-9d26-ac6b6babed0e",
   "metadata": {},
   "outputs": [],
   "source": [
    "# Using a WHERE clause in an aggregate query\n",
    "query = \"\"\"\n",
    "    SELECT BillingCountry, COUNT(*) AS Quantity\n",
    "      FROM Invoice\n",
    "    WHERE Total <= 10\n",
    "  GROUP BY BillingCountry\n",
    "  ORDER BY Quantity DESC;\n",
    "\"\"\"\n",
    "show_query(query, 10)"
   ]
  },
  {
   "cell_type": "markdown",
   "id": "96290a09-cd32-4bb5-8b50-169a49d0870e",
   "metadata": {},
   "source": [
    "The following query will only contain countries with 25 or more orders. "
   ]
  },
  {
   "cell_type": "code",
   "execution_count": null,
   "id": "130f57e0-8f19-4d8c-a649-4168ea042633",
   "metadata": {},
   "outputs": [],
   "source": [
    "# Using a HAVING clause\n",
    "query = \"\"\"\n",
    "    SELECT BillingCountry, COUNT(*) AS Quantity\n",
    "      FROM Invoice\n",
    "  GROUP BY BillingCountry\n",
    "  HAVING Quantity >= 25\n",
    "  ORDER BY Quantity DESC;\n",
    "\"\"\"\n",
    "show_query(query)"
   ]
  },
  {
   "cell_type": "markdown",
   "id": "e6696383-91b1-42d1-b555-158768757d83",
   "metadata": {},
   "source": [
    "Why did one query use `WHERE` and the other `HAVING`? The answer is that `WHERE` filters records *before* the aggregation takes place, and `HAVING` filters records *after* the aggregation.\n",
    "\n",
    "So for the query that used `WHERE`:\n",
    "1. The `WHERE` clause removed all rows from the *Invoice* table where *Total* was less than 10.\n",
    "2. `GROUP BY` split the rows into different groups by *BillingCountry*.\n",
    "3. `COUNT()` counted the number of rows in each group.\n",
    "\n",
    "For the query that used `HAVING`:\n",
    "1. `GROUP BY` split the rows into different groups by *BillingCountry*.\n",
    "2. `COUNT()` aggregated the rows in each group into a single row containing the row count.\n",
    "3. The `HAVING` clause eliminated all groups with fewer than 25 rows.\n",
    "\n",
    "Note that the `WHERE` clause occurs *before* the `GROUP BY` clause, and the `HAVING` clause occurs afterwards. This order matches the logical order of operations. In fact, SQL will thow an error if you try to put `WHERE` after group by or `HAVING` before `GROUP BY`."
   ]
  },
  {
   "cell_type": "code",
   "execution_count": null,
   "id": "990310d0-1b6d-47e8-bab4-583d490c7012",
   "metadata": {},
   "outputs": [],
   "source": [
    "# Throws an error - WHERE must occur before GROUP BY\n",
    "query = \"\"\"\n",
    "    SELECT BillingCountry, COUNT(*) AS Quantity\n",
    "      FROM Invoice\n",
    "  GROUP BY BillingCountry\n",
    "  WHERE Total > 10\n",
    "  ORDER BY Quantity DESC;\n",
    "\"\"\"\n",
    "show_query(query)"
   ]
  },
  {
   "cell_type": "markdown",
   "id": "c22d47c9-3b17-4bab-8fe7-72965625f042",
   "metadata": {},
   "source": [
    "### D. More Aggregate Functions\n",
    "SQL provides several aggregate functions, not just `COUNT()`. The next query uses three different aggregate functions."
   ]
  },
  {
   "cell_type": "code",
   "execution_count": null,
   "id": "f9dd7b17-6c14-4c78-8343-c7bfbddc15fc",
   "metadata": {},
   "outputs": [],
   "source": [
    "# More Aggregate Functions\n",
    "query = \"\"\"\n",
    "    SELECT BillingCountry, COUNT(*) AS Quantity,\n",
    "           AVG(Total) AS \"Average Order\", MAX(Total) AS \"Max Order\"\n",
    "      FROM Invoice\n",
    "  GROUP BY BillingCountry\n",
    "  HAVING Quantity >= 20\n",
    "  ORDER BY Quantity DESC;\n",
    "\"\"\"\n",
    "show_query(query)"
   ]
  },
  {
   "cell_type": "markdown",
   "id": "f7964e50-4e22-4d9d-8efa-2afffd6504ab",
   "metadata": {},
   "source": [
    "[The full list of SQLite aggregate functions is available in the official SQLite documentation.](https://www.sqlite.org/lang_aggfunc.html) `SUM()` and `MIN()` are two other common aggregate functions."
   ]
  },
  {
   "cell_type": "markdown",
   "id": "e20b0939-9b9a-4c5e-b343-1a08c84528f3",
   "metadata": {},
   "source": [
    "### E. Joins in Aggregate Queries\n",
    "Joins can be included in aggregate queries. The next query identifies the five biggest customers in terms of sales. "
   ]
  },
  {
   "cell_type": "code",
   "execution_count": null,
   "id": "ac7783dc-866a-483f-ac34-f630b1008541",
   "metadata": {},
   "outputs": [],
   "source": [
    "# Joins in aggregate queries\n",
    "query = \"\"\"\n",
    "    SELECT FirstName, LastName, Customer.CustomerId, SUM(Total) AS Total\n",
    "      FROM Invoice\n",
    " LEFT JOIN Customer ON Invoice.CustomerId = Customer.CustomerId\n",
    "  GROUP BY FirstName, LastName, Customer.CustomerId\n",
    "  ORDER BY Total DESC\n",
    "  LIMIT 5;\n",
    "\"\"\"\n",
    "show_query(query)"
   ]
  },
  {
   "cell_type": "markdown",
   "id": "3e812a37-2c21-4e09-a33c-e7e19a50d723",
   "metadata": {},
   "source": [
    "### F. Exercises 8 - 14"
   ]
  },
  {
   "cell_type": "markdown",
   "id": "1bc532a1-bf54-4234-a798-0ce358452451",
   "metadata": {},
   "source": [
    "#### Ex. #8\n",
    "Show the total sales by state. Your results should have three columns: country, state, and total."
   ]
  },
  {
   "cell_type": "code",
   "execution_count": null,
   "id": "d3d9841a-52cc-4041-bfa6-4dbbda04ff8f",
   "metadata": {},
   "outputs": [],
   "source": [
    "# Ex #8.\n",
    "query = \"\"\"\n",
    "  -- Write query in this string.\n",
    "  \n",
    "  \n",
    "\"\"\"\n",
    "show_query(query)"
   ]
  },
  {
   "cell_type": "markdown",
   "id": "11de569a-08d0-4e79-94e4-f50163675d68",
   "metadata": {},
   "source": [
    "#### Ex. #9\n",
    "Again, show the total sales by state. But this time, exclude order where the *BillingState* column is not NULL."
   ]
  },
  {
   "cell_type": "code",
   "execution_count": null,
   "id": "c6ea6302-e37b-46d8-b79c-70d2877627fc",
   "metadata": {},
   "outputs": [],
   "source": [
    "# Ex #9.\n",
    "query = \"\"\"\n",
    "  -- Write query in this string.\n",
    "  \n",
    "  \n",
    "\"\"\"\n",
    "show_query(query)"
   ]
  },
  {
   "cell_type": "markdown",
   "id": "64d3e81d-75b4-4a96-b944-abc9e3150283",
   "metadata": {},
   "source": [
    "#### Ex. #10\n",
    "Did you use a `WHERE` or a `HAVING` clause in exercise #2? Could you have used the other type of clause? Why or why not?"
   ]
  },
  {
   "cell_type": "code",
   "execution_count": null,
   "id": "b3534e2f-c4bd-4751-8db8-dea1210b48bf",
   "metadata": {},
   "outputs": [],
   "source": [
    "# Ex. #10\n",
    "#\n",
    "#"
   ]
  },
  {
   "cell_type": "markdown",
   "id": "e7199203-7abb-45e5-85dd-e96746a46d4c",
   "metadata": {},
   "source": [
    "#### Ex. #11\n",
    "Which five companies provided the most sales? Include the company name, the number of sales, and the sales total in your results."
   ]
  },
  {
   "cell_type": "code",
   "execution_count": null,
   "id": "41d02d16-960e-4e4b-a372-13114625c88a",
   "metadata": {},
   "outputs": [],
   "source": [
    "# Ex. #11\n",
    "query = \"\"\"\n",
    "  -- Write query in this string.\n",
    "  \n",
    "  \n",
    "\"\"\"\n",
    "show_query(query)"
   ]
  },
  {
   "cell_type": "markdown",
   "id": "4cd96e67-e981-4e12-8501-93816f996c02",
   "metadata": {},
   "source": [
    "#### Ex. #12\n",
    "The first query in section II.E grouped by the *CustomerId* field. Was this required? What could have happened if we left the *CustomerId* field out of the query?"
   ]
  },
  {
   "cell_type": "code",
   "execution_count": null,
   "id": "8bcb728b-35f9-4a5e-8962-270d8fb93f68",
   "metadata": {},
   "outputs": [],
   "source": [
    "# Ex. #12\n",
    "#\n",
    "#"
   ]
  },
  {
   "cell_type": "markdown",
   "id": "5641c763-cf4f-48ec-90e2-e41cfa2e4f6a",
   "metadata": {},
   "source": [
    "#### Ex. #13\n",
    "Find out how much sales were attributed to each sales representative. Your results should include the last name and first name of the sales representative, as well as their sales total.\n",
    "\n",
    "HINT: This requires a three-table join."
   ]
  },
  {
   "cell_type": "code",
   "execution_count": null,
   "id": "f56a4adc-d647-468d-9a7b-bd3b8540e0a0",
   "metadata": {
    "tags": []
   },
   "outputs": [],
   "source": [
    "# Ex. #13\n",
    "query = \"\"\"\n",
    "  -- Write query in this string.\n",
    "  \n",
    "  \n",
    "\"\"\"\n",
    "show_query(query)"
   ]
  },
  {
   "cell_type": "markdown",
   "id": "32027019-13ad-47ea-8681-6fb0ee6dd4c8",
   "metadata": {},
   "source": [
    "#### Ex. #14\n",
    "Using the *InvoiceLine* and other tables, determine the top three music genres in Canada by tracks sold."
   ]
  },
  {
   "cell_type": "code",
   "execution_count": null,
   "id": "ed63ee81-63b4-4455-982b-0907026bfd19",
   "metadata": {
    "tags": []
   },
   "outputs": [],
   "source": [
    "# Ex. #14\n",
    "query = \"\"\"\n",
    "  -- Write query in this string.\n",
    "  \n",
    "  \n",
    "\"\"\"\n",
    "show_query(query)"
   ]
  },
  {
   "cell_type": "markdown",
   "id": "e7f65acf-f122-4289-90fb-2ae212298c77",
   "metadata": {},
   "source": [
    "## VI. Save Your Work\n",
    "Once you have completed the exercises, save a copy of the notebook outside of the git repository (outside of the *pyclass_frc* folder). Include your name in the file name. Send the notebook file to another student to check your answers."
   ]
  },
  {
   "cell_type": "markdown",
   "id": "dfe0d5ba-5d9f-4c88-9e97-375a6918b4ea",
   "metadata": {},
   "source": [
    "## VII. Concept and Terminology Review\n",
    "You should be able to define the following terms or describe the concept. \n",
    "* `CREATE TABLE`\n",
    "* `INTEGER`, `REAL`, `NUMERIC`, and `TEXT`\n",
    "* `COLLATE NOCASE`\n",
    "* `NOT NULL`\n",
    "* `UNIQUE`\n",
    "* `PRIMARY KEY`\n",
    "* `.executemany()`\n",
    "* `CONSTRAINT`\n",
    "* `CREATE INDEX`\n",
    "* `UPSERT`\n",
    "* `ON CONFLICT DO UPDATE`\n",
    "* `ON CONFLICT DO NOTHING`\n",
    "* Aggregate Query\n",
    "* Aggregate Function\n",
    "* `GROUP BY`\n",
    "* `COUNT()`\n",
    "* `SUM()`\n",
    "* `AVG()`\n",
    "* `MAX()`\n",
    "* `MIN()`\n",
    "* `HAVING`"
   ]
  },
  {
   "cell_type": "markdown",
   "id": "feac7634-e6c7-4464-a4d8-00ca4eb74bac",
   "metadata": {},
   "source": [
    "[Table of Contents](../../index.ipynb)"
   ]
  }
 ],
 "metadata": {
  "kernelspec": {
   "display_name": "Python 3 (ipykernel)",
   "language": "python",
   "name": "python3"
  },
  "language_info": {
   "codemirror_mode": {
    "name": "ipython",
    "version": 3
   },
   "file_extension": ".py",
   "mimetype": "text/x-python",
   "name": "python",
   "nbconvert_exporter": "python",
   "pygments_lexer": "ipython3",
   "version": "3.9.7"
  },
  "toc-autonumbering": false
 },
 "nbformat": 4,
 "nbformat_minor": 5
}
