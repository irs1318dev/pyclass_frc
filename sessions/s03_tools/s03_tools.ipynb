{
 "cells": [
  {
   "cell_type": "markdown",
   "metadata": {},
   "source": [
    "[Table of Contents](../../index.ipynb)"
   ]
  },
  {
   "cell_type": "markdown",
   "metadata": {},
   "source": [
    "# FRC Analytics with Python - Session 03\n",
    "# Programming Tools\n",
    "**Last Updated: 23 September 2021**"
   ]
  },
  {
   "cell_type": "markdown",
   "metadata": {
    "tags": []
   },
   "source": [
    "## I. Introduction\n",
    "We will now take a break from coding and learn about some other tools that we'll need for programming in Python. We'll also install Python on your computer and download all of the course files so you won't have to use the Google Colab website.\n",
    "\n",
    "I've observed that the biggest obstaclefor many aspiring programmers isn't the programming language. It's all of the related tools that one must learn to use. It's not enough to know Python -- one must also know how to configure operating systems, how to manage third-party software packages, and how to use version control systems to collaborate with other programmers. Just choosing which tools to use is a challenge because there are many tools to choose from for any given task.\n",
    "\n",
    "This course will teach you to use many tools that are required for programming tasks, including:\n",
    "* Command Line Interfaces\n",
    "* Python Distributions\n",
    "* Version Control Systems\n",
    "* Package Managers\n",
    "* Programming Text Editors\n",
    "* Integrated Development Environments\n",
    "\n",
    "A few tools will be introduced during this session. The rest will be covered in later sessions. The tools included in this course are used by the Issaquah Robotics Society (FRC 1318) to maintain its scouting system.\n",
    "\n",
    "## II. Command Line Interfaces\n",
    "The first personal computer that the mentor remembers using was in the Perturbed Angular Correlation Laboratory in the Physical Sciences Building on the WSU campus. (It's now called Webster Hall, but in our day everyone called it Phy-Sci.)\n",
    "\n",
    "Anyway, this is what you saw when you turned the computer on.\n",
    "\n",
    "![Dos Prompt](images/dos_boot.jpg)\n",
    "\n",
    "Well, not quite like this. The computer clock did not indicate the year was 2020, we were probably on MS-DOS version 3.3, and we most certainly didn't have a *2-gigabyte hard drive*. I still remember one of the grad students exclaiming \"This thing has *two 20-megabyte hard drives! WE'LL NEVER FILL IT UP!*\"\n",
    "\n",
    "If you wanted to run a program, you typed the name of the program and hit enter. If you wanted to find a file, you typed `dir` to see a list of files and subfolders, and you navigated down through subfolders by typing different commands. We didn't have a mouse.\n",
    "\n",
    "This type of interface is called a command line interface (CLI). Even though computers have come with easy-to-use graphical interfaces for many years, CLIs are still important and used extensively in computer programming and data analysis. *RStudio's* console, a modern example of a CLI used for statistical analysis, is pictured below:\n",
    "![Console CLI](images/r_cli.png)"
   ]
  },
  {
   "cell_type": "markdown",
   "metadata": {},
   "source": [
    "### A. Advantages of Command Lines\n",
    "CLIs are still in use because they have several advantages over graphical interfaces.\n",
    "* They require very few system resources to run. You don't even need to have a monitor connected to the computer. This can be especially important on servers with high workload.\n",
    "* With command lines, you can see history - a list of commands that you ran previously (at least until you clear the screen). Graphical user interfaces do not generally show the history of mouse clicks and button presses.\n",
    "* Users who are familiar with command syntax can complete tasks faster with the command line than with a graphical user interface. The command line does not require users to navigate through several dialog windows.\n",
    "* Repetitive tasks are more easily automated with a command line interface because the commands themselves can be saved to a text file and run as a script.\n",
    "* Command line interfaces are easier and quicker to create than graphical interfaces. Creating buttons, menus, and checkboxes is a lot of work.\n",
    "\n",
    "### B. How the Issaquah Robotics Society uses CLIs\n",
    "Here are a few of the tasks that require a CLI:\n",
    "* Controlling the scouting system's HTTP and Bokeh application servers.\n",
    "* Source code version control with Git\n",
    "* Configuring Python environments and managing Python packages\n",
    "* Running custom-built Python programs\n",
    "\n",
    "The mentor is not aware of any operating systems without a command line. Mac computers have *Terminal*, Windows has *Command Prompt* and *PowerShell*, and Linux has *Bash*, *Tcsh*, *Ksh*, *Zsh*, and even something called *Fish*. This session will focus on Windows command lines, because the mentor and a majority of the students use the Windows 10 operating system.\n",
    "\n",
    "The screenshots in this notebook are for Windows 10 systems. Guidance for Mac and Linux users is also included."
   ]
  },
  {
   "cell_type": "markdown",
   "metadata": {},
   "source": [
    "### C. Opening the CLI\n",
    "For command line interfaces, the IRS uses *PowerShell* on Windows and *Terminal* on Macs. The author of this notebook does not own an Apple computer. Therefore all of the screenshots are from Windows 10. The notebook includes some guidance for using CLIs on Mac OS, but Mac users might want to find a tutorial that is specifically for Mac Terminal, [like this one](https://appletoolbox.com/use-the-mac-terminal-the-basics/#:~:text=Learn%20the%20basics%20of%20the%20Mac%20terminal%201,using%20the%20Mac%20terminal.%20...%20More%20items...%20)\n",
    "\n",
    "#### Mac Terminal\n",
    "THe *Terminal* program is located in the *Applications->Utilities* folder.\n",
    "\n",
    "#### Windows Powershell\n",
    "Windows: Find Powershell in the *Windows PowerShell* folder on the *Start* menu. \n",
    "![PowerShell on Start Menu](images/pwrsh_start_menu.png)\n",
    "\n",
    "This is what you will see:\n",
    "\n",
    "![Powershell Window](images/pwrsh.png)"
   ]
  },
  {
   "cell_type": "markdown",
   "metadata": {},
   "source": [
    "The bottom line of text, `PS C:\\Users\\stacy` is the prompt. The letters `PS` also indicate that this is a Powershell window, and `C:\\Users\\stacy` is the *current working directory* or *current location*. With some exceptions, commands you type into PowerShell will have different results depending on the current location. By default, the initial starting location is your user folder, `C:\\Users\\{your user name}`, or `\\Users\\{your user name|` on Mac (or `/home/{your user name}` on Linux).\n",
    "\n",
    "#### D.1. Listing Files with `ls`\n",
    "Let's enter our first command. Type `ls` and hit enter. `ls` works in both PowerShell and Terminal, but in Terminal, `ls -l` shows more detail.\n",
    "\n",
    "![ls](images/ls.png)\n",
    "\n",
    "The `ls` command causes the CLI to list the contents of the current working directory. Your output will look slightly different than what is pictured above because your computer has different files.\n",
    "\n",
    "These columns are displayed in PowerShell:\n",
    "  * **Mode:** The mode section displays file attributes, such as whether the file is read-only or hidden. The `d` in the first column means the entry is a directory.\n",
    "  * **LastWriteTime:** The date and time that the file or directory was last modified.\n",
    "  * **Length:** The size of the file in *bytes* (will be blank for directories).\n",
    "  * **Name:** The name of the file or directory.\n",
    "Typing `ls -l` in Mac Terminal displays similar information."
   ]
  },
  {
   "cell_type": "markdown",
   "metadata": {},
   "source": [
    "#### D.2. Changing Directories with `cd`\n",
    "Now type `cd downloads` and hit enter. Use the `ls` command to see a list of folders in your downloads folder. Here's what the mentor's downloads file looks like:\n",
    "\n",
    "![Downloads Folder](images/downloads.png)"
   ]
  },
  {
   "cell_type": "markdown",
   "metadata": {},
   "source": [
    "#### D.3 Moving to a Parent Folder with `cd ..`\n",
    "Now type `cd ..` and hit enter. The current location moves back to your user directory, which is the parent directory of *Downloads*. The two periods are an abbreviation for the parent directory, so `cd ..` is the command for changing the current working directory to the parent directory. This syntax is not unique to Powershell. It works in Linux, on macOS, and in Windows Command Prompt. The `..` symbol also shows up in Python and other programming languages.\n",
    "\n",
    "Enter `cd ..` one more time to move up the the *C:\\Users* folder (*/home* folder on Mac) . List the contents of the folder.\n",
    "\n",
    "![Users Folder](images/users.png)"
   ]
  },
  {
   "cell_type": "markdown",
   "metadata": {},
   "source": [
    "#### D.4. Using Absolute Paths\n",
    "So far we've been passing relative paths to the `cd` command. Absolute paths can be used as well. Try entering `cd C:/Windows` on Windows, or `cd /System` on Mac."
   ]
  },
  {
   "cell_type": "markdown",
   "metadata": {},
   "source": [
    "#### D.5. Getting Help with `Get-Help`\n",
    "You can get help for any command by typing `Get-Help` (PowerShell) or `help` (Mac and Linux) and then the name of the command. Try `Get-Help cd` or `help cd`. You should see something like this:\n",
    "\n",
    "![Help](images/help.png)\n",
    "\n",
    "Note that the official name of the `cd` command in Powershell is *Set-Location*."
   ]
  },
  {
   "cell_type": "markdown",
   "metadata": {},
   "source": [
    "#### D.6. Clearing the Screen with `cls`\n",
    "Running the help command left a lot of text on the screen. Type `cls` (Windows) or `clear` (Mac and Linux) to clear the escreen."
   ]
  },
  {
   "cell_type": "markdown",
   "metadata": {},
   "source": [
    "#### D.7 Other Userful Commands\n",
    "* `md dir_name` creates a directory in the current folder named *dir_name*.\n",
    "* `rd dir_name` (Windows) or `rmdir dir_name` (Mac, Linux) deletes the directory named *dir_name* in the current folder.\n",
    "* `copy file.txt -Destination C:\\Users\\wall_e\\documents` copies the file *file.txt* in the current folder to WALL-E's documents folder.\n",
    "* `move file.txt -Destination C:\\Users\\c3p0\\documents` moves the folder *file.txt* to someone's documents folder.\n",
    "* `del file.txt` (Windows) or `rm file.txt` (Mac, Linux) deletes the folder *file.txt* from the current folder."
   ]
  },
  {
   "cell_type": "markdown",
   "metadata": {},
   "source": [
    "#### D.8. Opening Powershell in a Specific Folder.\n",
    "Here's a neat trick for Windows users. First, open the *Windows File Explorer*. You can do this by typing `File Exploer` in the task menu search bar or by finding `File Explorer` on the start menu (in the *Windows System* folder). But my favorite way is to press the *Windows* logo key and *E* at the same time. The *Windows* logo key is the one that looks like a window.\n",
    "\n",
    "Now go to any folder on your computer, type `powershell` in the address bar, and hit ENTER.\n",
    "\n",
    "![Opening PowerShell from Within File Explorer](images/exp_pwrshell.png)\n",
    "\n",
    "A powershell window should have opened to the folder that was selected in *Windows File Explorer*.\n",
    "\n",
    "Here's another trick. In *Windows File Explorer*, hold down the SHIFT key and right click on a folder, like so:\n",
    "\n",
    "![Opening Powershell with SHIFT+click](images/shift_click.png)\n",
    "\n",
    "There is an option on the context menu that will open Powershell in the folder that is currently selected within *Windows File Explorer*.\n",
    "\n",
    "Apple computers probably have similar shortcuts, but the author of this notebook doesn't own an Apple computer."
   ]
  },
  {
   "cell_type": "markdown",
   "metadata": {},
   "source": [
    "## III. Python Distributions\n",
    "Python can be downloaded from over a [dozen different websites](https://wiki.python.org/moin/PythonDistributions). Each website offers it's own flavor of Python, bundled with different tools and optional software packages. Programmers use the word *distribution* to refer to these different flavors of Python.\n",
    "\n",
    "In this course we will use a stripped-down version of the Anaconda Python distribution called the Minconda distribution. Follow the instructions in [Procedure 01](../../procedures/pc01_install_python/pc01_install_python_windows.ipynb) to install the Miniconda Python distribution on your computer. This task will give you an opportunity to practice your new CLI skills. Return to this session after you have followed all of the steps in procedure 01."
   ]
  },
  {
   "cell_type": "markdown",
   "metadata": {},
   "source": [
    "## IV. Environments and Packages\n",
    "Even though we installed *Miniconda*, many of the tools are named *Anaconda* because *Miniconda* and *Anaconda* are almost the same thing. *Anaconda* is huge. It installs Python, the *conda* package manager tool, and about 200 different Python packages. *Miniconda* only installs Python, *conda* and a minimal set of Python packages. The IRS uses *Miniconda* because we don't need most of the packages included with *Anaconda* and *Anaconda* takes more time to download and install. \n",
    "\n",
    "### A. Anaconda Command Line Tools\n",
    "On Windows, Miniconda and Anaconda provide a special PowerShell program called Anaconda Powershell. You can find it in the *Anaconda* folder in the *All Programs* portion of the Windows Start menu (see procedure 01 for more details). Windows users should always use the Anaconda Powershell program for managing python packages and environments. The Anaconda Powershell prompt is exactly the same as a regular Powershell prompt, except that custom configuration commands are run automatically when opening this Powershell window. These configuration commands allow us to more easily run Python progams from the command line.\n",
    "\n",
    "There is no need for a special Anaconda command line on Mac or Linux. Terminal will work just fine. For the rest of this notebook, we'll use the term CLI (command line interface) to refer to PowerShell or Mac Terminal.\n",
    "\n",
    "Open a CLI window.\n",
    "\n",
    "Note how Anaconda modifies the Powershell prompt. See the text `(base)` at the beginning of the prompt? This means we are currently using the *base* Python environment. The *base* environment contains just plain old Python, with no added packages.\n",
    "\n",
    "![Anaconda Powershell Window](images/ana_pwrsh.png)"
   ]
  },
  {
   "cell_type": "markdown",
   "metadata": {},
   "source": [
    "### B. Packages \n",
    "A Python package is a collection of Python programs that is developed by a third party and provides additional features that are not included by default in Python. One of the reasons Python is so popular is that there are so many excellent Python packages available, for just about any problem or task that one can imagine. Most of them are free. Here are just a few of the excellent packages that are useful for scouting and data analysis:\n",
    "* *Pandas* for analyzing tabular data\n",
    "* *Scipy* for statistics and other high-level mathematical analysis\n",
    "* *Sympy* for symbolic mathematics\n",
    "* *Bokeh* and *Matplotlib* for data visualization\n",
    "* *Flask* and *cherrypy* for running web servers\n",
    "\n",
    "It's easy to see what package are included in the *base* environment. Just enter the command `conda list` (works on Windows, Mac, and Linux).\n",
    "\n",
    "![Conda list command](images/conda_list.png)"
   ]
  },
  {
   "cell_type": "markdown",
   "metadata": {},
   "source": [
    "Every line of output is a third-party Python package. Scroll down to the line that contains *python* in the *# Name* column. You can see the Python version in the *Version* column (version 3.7.6 at the time this notebook was authored).\n",
    "\n",
    "The Miniconda distribution comes with a Python package manager called *conda* and most of these packages are required for conda to work properly."
   ]
  },
  {
   "cell_type": "markdown",
   "metadata": {},
   "source": [
    "### C. Environments\n",
    "It's time to use conda to install our first Python package, but first we must create a new environment to contain the new package. An environment is a version of Python and a set of Python packages. A single computer can contain many different Python environments, each environment optimized for a different task.\n",
    "\n",
    "We are going to create an environment for the Python class. Run the following commands in your CLI:\n",
    "```Bash\n",
    "cls #(or clear on Mac)\n",
    "conda create --name pyclass python=3.9\n",
    "conda activate pyclass\n",
    "python -V\n",
    "```\n",
    "\n",
    "The first command clears the screen. The second command created a new Python environment called pyclass. The option `python=3.9` instructed conda to set the Python verison to 3.9 in the new environment. The next line caused Powershell to switch over to the new environment and the last line instructed Python to print its version. Powershell should now look something like this:\n",
    "\n",
    "![Activating pyclass](images/activate_pyclass.png)"
   ]
  },
  {
   "cell_type": "markdown",
   "metadata": {},
   "source": [
    "See how `(base)` has changed to `(pyclass)`?\n",
    "\n",
    "Now we will install our first package. Enter the command `conda install jupyter` and hit `Y` when asked for confirmation.\n",
    "\n",
    "Now use the `conda list` command to see all of the packages installed into our *pyclass* environment. There are a lot more packages than in the *base* environment. Jupyter is the package that will run notebooks like this on your local machine. It's a sophisticated package that requires many other packages to work. Fortunately, the `conda` package manager can figure out all the packages needed for Jupyter to work properly and install them on it's own.\n",
    "\n",
    "There is another popular Python package manager called *pip*. Don't use it with the either the *Miniconda* or *Anaconda* distributions. Always use *conda* to install Python packages."
   ]
  },
  {
   "cell_type": "markdown",
   "metadata": {},
   "source": [
    "## V. Jupyter Notebook Server\n",
    "When you create a new conda environment in Windows, Anaconda creates a shortcut to the Jupyter notebook server:\n",
    "\n",
    "![Shortcut to Jupyter](images/jupyter.png)"
   ]
  },
  {
   "cell_type": "markdown",
   "metadata": {},
   "source": [
    "You can also start the Jupyter server with these commands in Powershell:\n",
    "```bash\n",
    "conda activate pyclass\n",
    "jupyter notebook\n",
    "```\n",
    "\n",
    "After starting Jupyter, your browser should open and you should see a screen like this:\n",
    "![Jupyter Main Page](images/jupyter_main.png)"
   ]
  },
  {
   "cell_type": "markdown",
   "metadata": {},
   "source": [
    "On initial startup, Jupyter displays the contents of your user folder. You can navigate to subfolders by clicking on folder names, similar to how navigation works in Windows *File Explorer*. There are a few things to keep in mind when using Jupyter:\n",
    "  1. If you started Jupyter form the *Start Menu*, a CLI window opened up when Jupyter started. If you started Jupyter from a CLI, that CLI is still open. Either way, you have an open CLI window on your system that looks like this:\n",
    "  \n",
    "  ![Jupyter Server Powershell Window](images/jupyter_server_ps.png)\n",
    "  \n",
    "  **Don't close this window!** Closing this window will shut down the Jupyter server.\n",
    "  2. The Jupyter server will continue to run, even if you close your browser. If you accidentally close your browser, you can get back to the Jupyter main page by typing `localhost:8888` in the address bar of your browser.\n",
    "  3. If you want to shut down the server, you can click the *Quit* button on the Jupyter main page, or you can click in the CLI and hit CTR+C. You might have to hit CTR+C a few times.\n",
    "  4. You can navigate to subfolders on the Jupyter main page, but you can't navigate up to parent folders. So if you start the Jupyter server in `C:/Users/homer/documents/tuesday/donut_plan`, you will never be able to access any files in *tuesday*, *documents* or any of the other parent folders. But you will be able to get to the *jelly*, *frosted*, and *old_fashioned* subfolders.\n",
    "  \n",
    "We don't currently have any Jupyter notebooks on our system. Let's fix that.  "
   ]
  },
  {
   "cell_type": "markdown",
   "metadata": {},
   "source": [
    "## VI. Github and Git\n",
    "Github is a website that programmers use to store and share their code. It's sort of like a giant Google drive optimzed for code files. Instead of folders, Github has repositories. Each  programming project gets its own repository. The Python class folders are stored in a [Github repository called pyclass_frc](https://github.com/irs1318dev/pyclass_frc).\n",
    "\n",
    "Git is a tool you use on your local computer to save versions of your code. Github and Git are designed to work together, so you can use Git to upload and download code to and form Github.\n",
    "\n",
    "Accessing the Python class files online is fine, but in the long run it will be more convenient to have them on your own computer. Follow the instruction in [procedure 02](../../procedures/pc02_git/pc02_git.ipynb) to install git and make a copy of all of the Python class files on your computer. You will use Powershell to issue the git commands that download all of the Python class files from the Github website. Return to this session when you are done.\n",
    "\n",
    "## VII. Accessing the Python Class from Your Local Computer\n",
    "After you've cloned the git repository, you can view the Python class files on your computer.\n",
    "  1. Open a CLI in the folder that contains the Python class files.\n",
    "  2. Activate the pyclass environment: `conda activate pyclass`\n",
    "  3. Run the command `jupyter notebook`.\n",
    "  \n",
    "Click on the file *index.ipynb* to view the table of contents for the Python class.\n",
    "\n",
    "![Jupyter Start Page](images/course.png)\n",
    "\n",
    "  4. Click on *index.ipynb* to go to the *Table of Contents* for the course."
   ]
  },
  {
   "cell_type": "markdown",
   "metadata": {},
   "source": [
    "## VIII. Getting Python Class Updates\n",
    "The Python tutorial is still being developed, with new sessions, procedures, and projects being added. You will use Git to keep your version of the Python tutorial synchronized with the Python tutorial files on Github. Follow this procedure every time you work on the tutorial, or at least once a week.\n",
    "\n",
    "1. Open a CLI in the folder in which you cloned the Python class repository (that is, copied the Python class files). Run this command: `git status`. You should see something like this:\n",
    "\n",
    "![Git Status](images/git_status.png)\n",
    "\n",
    "If you see the message *fatal: not a git repository (or any of the parent directories): .git*, then you are in the wrong folder. Perhaps you need to change directories to a child folder of the one you are in?\n",
    "\n",
    "2. If you saved any personal files within the repository, copy them to another location now. Then run the command `git reset --hard`. This will reverse any changes you may have made to the repository and will hopefully prevent merge conflicts. You don't know what merge conflicts are yet, but trust me, you don't want them to happen when updating the Python course files.\n",
    "\n",
    "3. Run the command `git pull origin master`. This command will check the online repository to see if there have been any changes since you last updated your local repository. If there have been changes, it will update the your local copies of the Python class files to match the online repository."
   ]
  },
  {
   "cell_type": "markdown",
   "metadata": {},
   "source": [
    "## VII. Working with the PyClass Repository\n",
    "### A. Saving Your Work\n",
    "To save your work in a Jupyter notebook, save a copy of the notebook **outside** the *pyclass_frc* repository (outside the *pyclass_frc* folder that was created when you cloned the repository). Use the *File->Save As* command on the Jupyter menu. Internal hyperlinks will not work in copies of *pyclass_frc* notebooks that are saved outside the repository.\n",
    "\n",
    "**I say again:** save any files that you created or modified (e.g., Python scripts, HTML versions of Jupyter notebooks, modified Jupyter notebooks) outside the git repository. If you save them inside the course repository, they will get overwritten when you update the repository.\n",
    "\n",
    "### B. Updating the Repository\n",
    "To update the Python class files:\n",
    "  1. If you have saved any files within the repository or inside any of the Jupyter notebooks, make copies of the notebooks or other files outside the repository. This procedure will overwrite that work.\n",
    "  2. Open a CLI in the folder that contains the Python class files.\n",
    "  3. Run the following commands:\n",
    "```bash\n",
    "git reset --hard\n",
    "git pull origin master\n",
    "```\n",
    "\n",
    "That's it. All the files are updated. The reset command reverted the repository back to the state it was in after it was last updated or cloned, and the pull command downloaded the most recent changes from the Github repository."
   ]
  },
  {
   "cell_type": "markdown",
   "metadata": {},
   "source": [
    "## VIII. Additional References\n",
    "* [Official Powershell Documentation](https://docs.microsoft.com/en-us/powershell/)\n",
    "* [Mac Terminal Tutorial](https://appletoolbox.com/use-the-mac-terminal-the-basics/#:~:text=Learn%20the%20basics%20of%20the%20Mac%20terminal%201,using%20the%20Mac%20terminal.%20...%20More%20items...%20)\n",
    "* [Conda Package Manager](https://docs.conda.io/projects/conda/en/latest/user-guide/tasks/manage-environments.html#viewing-a-list-of-your-environments)\n",
    "* [Git Book](https://git-scm.com/book/en/v2)\n",
    "* [Hello World with Github](https://guides.github.com/activities/hello-world/)"
   ]
  },
  {
   "cell_type": "markdown",
   "metadata": {},
   "source": [
    "## IX. Quiz to Check Your Knowledge\n",
    "Write the answers as Python comments int the codes cells. Download this notebook"
   ]
  },
  {
   "cell_type": "markdown",
   "metadata": {},
   "source": [
    "**#1.** What is the CLI command for viewing the contents of a folder?"
   ]
  },
  {
   "cell_type": "code",
   "execution_count": null,
   "metadata": {},
   "outputs": [],
   "source": []
  },
  {
   "cell_type": "markdown",
   "metadata": {},
   "source": [
    "**#2.** What command will move to the parent folder?"
   ]
  },
  {
   "cell_type": "code",
   "execution_count": null,
   "metadata": {},
   "outputs": [],
   "source": []
  },
  {
   "cell_type": "markdown",
   "metadata": {},
   "source": [
    "**#3.** What Python distribution did we install?"
   ]
  },
  {
   "cell_type": "code",
   "execution_count": null,
   "metadata": {},
   "outputs": [],
   "source": []
  },
  {
   "cell_type": "markdown",
   "metadata": {},
   "source": [
    "**#4.** What command activates the conda environment we created in this session?"
   ]
  },
  {
   "cell_type": "code",
   "execution_count": null,
   "metadata": {},
   "outputs": [],
   "source": []
  },
  {
   "cell_type": "markdown",
   "metadata": {},
   "source": [
    "**#5.** Should you save files that you created or modified inside the course's git repository, or outside the repository?"
   ]
  },
  {
   "cell_type": "code",
   "execution_count": null,
   "metadata": {},
   "outputs": [],
   "source": []
  },
  {
   "cell_type": "markdown",
   "metadata": {},
   "source": [
    "**#6.** What command will start the Jupyter notebook server? From what folder should you run this command to access the course files locally on your computer?"
   ]
  },
  {
   "cell_type": "code",
   "execution_count": null,
   "metadata": {},
   "outputs": [],
   "source": []
  },
  {
   "cell_type": "markdown",
   "metadata": {},
   "source": [
    "## X. Save Your Work\n",
    "Once you have completed the exercises, save a copy of the notebook outside of the git repository (outside of the *pyclass_frc* folder). Include your name in the file name. Send the notebook file to another student to check your answers."
   ]
  },
  {
   "cell_type": "markdown",
   "metadata": {},
   "source": [
    "## XI. Concept and Terminology Review\n",
    "You should be able to define the following terms or drescribe the concept. Go back and review if you don't know what any of these items are:\n",
    "* Command Line Interface (CLI)\n",
    "* `ls`\n",
    "* `cd`\n",
    "* `cd ..`\n",
    "* Anaconda Powershell prompt\n",
    "* Python package\n",
    "* Conda environment\n",
    "* Creating a new environment\n",
    "* Listing Python packages\n",
    "* Difference between Github and Git\n",
    "* Starting the Jupyter notebook server"
   ]
  },
  {
   "cell_type": "markdown",
   "metadata": {},
   "source": [
    "[Table of Contents](../../index.ipynb)"
   ]
  }
 ],
 "metadata": {
  "kernelspec": {
   "display_name": "Python 3 (ipykernel)",
   "language": "python",
   "name": "python3"
  },
  "language_info": {
   "codemirror_mode": {
    "name": "ipython",
    "version": 3
   },
   "file_extension": ".py",
   "mimetype": "text/x-python",
   "name": "python",
   "nbconvert_exporter": "python",
   "pygments_lexer": "ipython3",
   "version": "3.9.7"
  }
 },
 "nbformat": 4,
 "nbformat_minor": 4
}
