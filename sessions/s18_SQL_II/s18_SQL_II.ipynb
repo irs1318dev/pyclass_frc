{
 "cells": [
  {
   "cell_type": "markdown",
   "id": "b3d83b5a-2c2f-4dba-97c8-527d1a83b15e",
   "metadata": {},
   "source": [
    "[Table of Contents](../../index.ipynb)"
   ]
  },
  {
   "cell_type": "markdown",
   "id": "0ff7b6f8-4b1f-46e2-8776-c8601721c8e3",
   "metadata": {
    "tags": []
   },
   "source": [
    "# FRC Analytics with Python - Session 18\n",
    "# Structured Query Language (SQL) - Part II\n",
    "**Last Updated: 8 November 2021**\n",
    "\n",
    "In SQL Part I we used SQL *SELECT* queries to retrieve information from database tables. In this notebook, we'll retrieve information from multiple tables at one time. We'll also learn how to edit database records and insert new records into the database. Finally, we'll learn how to create new database tables."
   ]
  },
  {
   "cell_type": "markdown",
   "id": "e57150d7-3b8a-49d3-a36b-9661984d9d9b",
   "metadata": {},
   "source": [
    "## I. Notebook Setup"
   ]
  },
  {
   "cell_type": "markdown",
   "id": "a83cdda1-2e57-40a5-bee0-be2b89c8fbba",
   "metadata": {},
   "source": [
    "### A. If Using Google Colab\n",
    "It's best if you clone the *pyclass_frc* Github repo and run this notebook from your local computer. But if you would like to run it from Google Colab, uncomment and run the line in the next cell. (*Don't delete the exclamation point at the start of the line!*) The cell will copy a Sqlite database file from the Github repository."
   ]
  },
  {
   "cell_type": "code",
   "execution_count": null,
   "id": "7197aca2-33b6-4f9b-ad65-3438c0fb6232",
   "metadata": {},
   "outputs": [],
   "source": [
    "# !wget -nv https://raw.githubusercontent.com/irs1318dev/pyclass_frc/master/sessions/s18_SQL_II/wasno2020edited.sqlite3\n",
    "# !wget -nv https://raw.githubusercontent.com/irs1318dev/pyclass_frc/master/sessions/s18_SQL_II/chinook.sqlite3"
   ]
  },
  {
   "cell_type": "markdown",
   "id": "d284de40-2c3a-47b8-8613-8a688a4c1fe2",
   "metadata": {},
   "source": [
    "### B. Imports and Database File\n",
    "Run the next cell to set up the notebook to work with our SQLite database."
   ]
  },
  {
   "cell_type": "code",
   "execution_count": null,
   "id": "ad8a3fd0-0602-4945-9847-afafb73da704",
   "metadata": {},
   "outputs": [],
   "source": [
    "import sqlite3\n",
    "import sys\n",
    "\n",
    "import pandas as pd\n",
    "\n",
    "# Database files\n",
    "wasno_db = \"wasno2020edited.sqlite3\"\n",
    "chinook_db = \"chinook.sqlite3\""
   ]
  },
  {
   "cell_type": "markdown",
   "id": "e73e5b7d-5804-4978-950b-69b6630dc0c8",
   "metadata": {},
   "source": [
    "### C. SQL References\n",
    "For your convenience, here are the SQL references that were discussed in session 17.\n",
    "* [Official SQLite documentation](https://www.sqlite.org/lang.html)\n",
    "* [Python sqlite3 Package Documentation](https://docs.python.org/3/library/sqlite3.html)\n",
    "* [W3 Schools SQL Tutorial](https://www.w3schools.com/Sql/default.asp) "
   ]
  },
  {
   "cell_type": "markdown",
   "id": "8d95a7e0-1115-4ca9-88bb-2cfaa9c51977",
   "metadata": {},
   "source": [
    "## II. Joining Tables\n",
    "Let's look at the first dozen rows in the *schedule* table."
   ]
  },
  {
   "cell_type": "code",
   "execution_count": null,
   "id": "4417c668-dcfe-41b1-b14f-8f47fac95f52",
   "metadata": {},
   "outputs": [],
   "source": [
    "query = \"\"\"SELECT *\n",
    "             FROM schedule\n",
    "            LIMIT 12;\"\"\"\n",
    "con = sqlite3.connect(wasno_db)\n",
    "sched = pd.read_sql_query(query, con, index_col=\"match_id\")\n",
    "con.close()\n",
    "sched"
   ]
  },
  {
   "cell_type": "markdown",
   "id": "d493cac7-2ff8-460a-a6b7-dc8c785f9bed",
   "metadata": {},
   "source": [
    "The schedule table lists all qualification matches for the robotics competition. There are six teams in every match, so there are six records in the *schedule* table for every match. \n",
    "\n",
    "### A. LEFT JOIN\n",
    "The output from the previous query contains the team number, but not the team's name. Let's fix that."
   ]
  },
  {
   "cell_type": "code",
   "execution_count": null,
   "id": "0c264566-dd8e-4afe-bc70-8447b749cb2a",
   "metadata": {},
   "outputs": [],
   "source": [
    "query = \"\"\"SELECT schedule.match_desc, schedule.alliance,\n",
    "                  schedule.team, schedule.station, teams.team_name\n",
    "             FROM schedule LEFT JOIN teams\n",
    "               ON schedule.team = teams.team_number;\"\"\"\n",
    "con = sqlite3.connect(wasno_db)\n",
    "sched = pd.read_sql_query(query, con, index_col=\"match_desc\")\n",
    "con.close()\n",
    "sched.head(6)"
   ]
  },
  {
   "cell_type": "markdown",
   "id": "2ddfe4fb-8a18-4a0f-8a6e-b3dcee7d826e",
   "metadata": {},
   "source": [
    "The preceding query contains a `LEFT JOIN` clause.\n",
    "* For a `LEFT JOIN`, SQL creates a record for every row in the *schedule* table. All rows are returned from the *schedule* table because it is on the *LEFT* of the `LEFT JOIN` phrase. Get it? \n",
    "* Next, for every row in the *schedules* table, SQL finds a row in the teams table where *teams.team_number* has the same value as *schedule.team*, as specified in the `ON` clause.\n",
    "* Finally, SQL adds the corresponding value of *teams.team_name* to the record and returns the results.\n",
    "\n",
    "Note how we prefaced the column selectors with the name of the table: `schedule.match_id`, `teams.team_name`, etc. This is not always necessary. If a column exists in only one of the tables, SQL can usually figure out what table it's in even if the table name is unspecified. But if a column exists in both tables, SQL will throw an error if the table name is not specified. It's a good practice to always specify the table name. The query will always work, even if later on someone adds a new, duplicate column to one of the tables.\n",
    "\n",
    "### B. INNER JOIN\n",
    "SQLite also supports the `INNER JOIN` clause. Inner joins behave differently than left joins. Run the next cell to investigate."
   ]
  },
  {
   "cell_type": "code",
   "execution_count": null,
   "id": "4d3512f9-f956-4698-a735-4df9715204db",
   "metadata": {},
   "outputs": [],
   "source": [
    "# Invsestigate differences between left and right joins\n",
    "\n",
    "# How many qualification matches were there?\n",
    "con = sqlite3.connect(wasno_db)\n",
    "num_matches_query = \"\"\"SELECT COUNT(DISTINCT match_desc)\n",
    "                         FROM schedule;\"\"\"\n",
    "num_matches = con.execute(num_matches_query).fetchone()[0]\n",
    "print(\"Number of matches at competition:\\t\", num_matches)\n",
    "print(\"\\nNumber of teams in each match:\\t\\t\", 6)\n",
    "\n",
    "# How many rows do we expect in our schedule table?\n",
    "print(\"\\nExpected number of rows in\\nschedule table (6 x 60):\\t\\t\",\n",
    "      6 * num_matches)\n",
    "\n",
    "# How many rows were returned from the LEFT JOIN?\n",
    "left_join_query = \"\"\"SELECT COUNT(*)\n",
    "                       FROM schedule LEFT JOIN teams\n",
    "                         ON schedule.team = teams.team_number;\"\"\"\n",
    "print(\"\\nNumber of records for LEFT JOIN:\\t\",\n",
    "      con.execute(left_join_query).fetchone()[0])\n",
    "\n",
    "# How many rows were returned from the INNER JOIN?\n",
    "inner_join_query = \"\"\"SELECT COUNT(*)\n",
    "                        FROM teams INNER JOIN schedule\n",
    "                          ON schedule.team = teams.team_number;\"\"\"\n",
    "print(\"\\nNumber of records for INNER JOIN:\\t\",\n",
    "      con.execute(inner_join_query).fetchone()[0])\n",
    "\n",
    "con.close()"
   ]
  },
  {
   "cell_type": "markdown",
   "id": "3c2c86f0-f2b1-4db2-acdd-e63afdcda56b",
   "metadata": {},
   "source": [
    "You might have noticed that we're using different functions to run the queries. We'll explain that later. The important thing is that while the `LEFT JOIN` returned all 360 records from the *schedule* table (as expected), the `INNER JOIN` dropped 29 records. Why is that?"
   ]
  },
  {
   "cell_type": "code",
   "execution_count": null,
   "id": "d030a045-58b0-468c-b021-2f5b744607a2",
   "metadata": {},
   "outputs": [],
   "source": [
    "# Investigate Differences in number of records\n",
    "con = sqlite3.connect(wasno_db)\n",
    "team_query = \"\"\"SELECT COUNT(DISTINCT team_number) FROM teams;\"\"\"\n",
    "print(\"\\nNumber of teams in teams table:\\t\\t\",\n",
    "      con.execute(team_query).fetchone()[0])\n",
    "\n",
    "sched_query = \"\"\"SELECT COUNT(DISTINCT team) FROM schedule;\"\"\"\n",
    "print(\"\\nNumber of teams in schedule table:\\t\",\n",
    "      con.execute(sched_query).fetchone()[0])\n",
    "con.close()"
   ]
  },
  {
   "cell_type": "markdown",
   "id": "e3cc7782-708c-487a-a85a-5ecf9f08f6e9",
   "metadata": {},
   "source": [
    "The different joins returned different results because there are three teams missing from the *teams* table. (The mentor deleted three teams to demonstrate the difference between inner and left joins.)\n",
    "* The `INNER JOIN` will only return records when both the *teams* and *schedule* table have rows with matching values in the *teams.team_number* and *schedule.team* fields. There are 29 rows in the schedule table for which there are no corresponding rows in the teams table, so these 29 rows are not returned.\n",
    "* In contrast, the `LEFT JOIN` returns all rows from the *schedule* table, even if there is no corresponding row in the *teams* table.\n",
    "\n",
    "See Figure 1 for an illustration of how the two different types of joins work.\n",
    "\n",
    "#### Figure 1, Join Type Comparison\n",
    "![Join Diagram](images/join_figure.png)\n",
    "\n",
    "You can also read the explanations in the *W3 Schools SQL Tutorial* for additional explations.\n",
    "* [Inner Joins](https://www.w3schools.com/Sql/sql_join_inner.asp)\n",
    "* [Left Joins](https://www.w3schools.com/Sql/sql_join_left.asp)"
   ]
  },
  {
   "cell_type": "markdown",
   "id": "4cc08123-de4d-4445-a785-cbc022e24895",
   "metadata": {},
   "source": [
    "### C. RIGHT JOIN and FULL OUTER JOIN\n",
    "Most SQL databases support a `RIGHT JOIN.` A `RIGHT JOIN` returns all records from the table on the right side of the `JOIN` clause, but only records with matching values from the table on the left side. SQLite does NOT support right joins. This is not a problem because a left join can be used in place of a right join if we just swap the two tables in the join clause. \n",
    "\n",
    "Many SQL databases support a `FULL OUTER JOIN`, which returns all records from both the left-side and right-side tables. SQLite does not support full outer joins either, but there are workarounds.\n",
    "\n",
    "Here are more relevant sections from the *W3 Schools SQL Tutorial*.\n",
    "* [Join Overview](https://www.w3schools.com/Sql/sql_join.asp)\n",
    "* [Right Joins (NOT SUPPORTED BY SQLite)](https://www.w3schools.com/Sql/sql_join_right.asp)\n",
    "* [Full Joins (NOT SUPPORTED BY SQLite)](https://www.w3schools.com/Sql/sql_join_full.asp)"
   ]
  },
  {
   "cell_type": "markdown",
   "id": "8ed04abb-3d49-4700-80eb-5128b615f350",
   "metadata": {},
   "source": [
    "### D. Cross Joins (Cartesian Products)\n",
    "We demonstrated in section B that the inner join of the *Schedule* and *Teams* table returned 360 rows. What happens if we leave off the `ON` clause?"
   ]
  },
  {
   "cell_type": "code",
   "execution_count": null,
   "id": "d3e691cf-0870-464b-a4a6-929fb5488603",
   "metadata": {},
   "outputs": [],
   "source": [
    "query = \"\"\"SELECT COUNT(*) AS num_rows\n",
    "             FROM schedule LEFT JOIN teams;\"\"\"\n",
    "con = sqlite3.connect(wasno_db)\n",
    "sched = pd.read_sql_query(query, con)\n",
    "con.close()\n",
    "sched.head(6)"
   ]
  },
  {
   "cell_type": "markdown",
   "id": "e6898e71-717d-420c-9980-cfc4c3030ae2",
   "metadata": {},
   "source": [
    "Really? 12,240 rows? What's happening here? To understand the answer, keep in mind that there are 34 rows in the *Teams* table and 360 rows in the *Schedule* table.\n",
    "$$ 34 \\times 360 = 12,240$$\n",
    "When the `ON` clause is left out, SQL combines every row with every other row. The following figure shows what would happen if we combined two three-row tables without an `ON` clause.\n",
    "\n",
    "#### Figure 2, Cross Joins\n",
    "![Cartesian Product](images/cartesian_product.png)"
   ]
  },
  {
   "cell_type": "markdown",
   "id": "19677829-aee3-42f1-b2fb-6458a54f6b17",
   "metadata": {},
   "source": [
    "Cross joins don't occur very often, at least not on purpose. Knowing about cross joins is helpful for troubleshooting misbehaving queries. If your query is unexpectedly returning a crazy amount of records, check your join condition. You might have inadvertently created a cross join.\n",
    "\n",
    "[The term *Cartesian product* comes from set theory.](https://en.wikipedia.org/wiki/Cartesian_product) Cartesian products are named after René Descartes, who founded analytic geometry in the 1600s. If we have two sets, $A$ and $B$, the Cartesian product $A \\times B$ is the set of all ordered pairs, where the first element is from $A$ and the second element is from $B$. In set notation:\n",
    "\n",
    "$$ A \\times B = \\{(a, b) \\;|\\; a \\in A \\; \\textrm{and} \\; b \\in B\\}$$\n",
    "\n",
    "The symbol $\\in$ means *is an element of*. For example, [Emmanuelle Charpentier](https://en.wikipedia.org/wiki/Emmanuelle_Charpentier) and [Jennifer Doudna](https://en.wikipedia.org/wiki/Jennifer_Doudna) are elements of the set of Nobel prize winners in chemistry."
   ]
  },
  {
   "cell_type": "markdown",
   "id": "c47c1399-fe19-485f-b7bd-fc783cbd6e61",
   "metadata": {},
   "source": [
    "### E. Old Fashioned `WHERE` Joins\n",
    "An inner join can be accomplished by using `WHERE` instead of `ON`, and without the `INNER JOIN` clause. Consider the following query."
   ]
  },
  {
   "cell_type": "code",
   "execution_count": null,
   "id": "38938be9-4d14-45fa-8ddf-1f5c505f2c9d",
   "metadata": {},
   "outputs": [],
   "source": [
    "query = \"\"\"SELECT schedule.match_desc, schedule.alliance,\n",
    "                  schedule.team, schedule.station, teams.team_name\n",
    "             FROM schedule, teams\n",
    "            WHERE schedule.team = teams.team_number;\"\"\"\n",
    "con = sqlite3.connect(wasno_db)\n",
    "sched = pd.read_sql_query(query, con, index_col=\"match_desc\")\n",
    "con.close()\n",
    "sched.head(6)"
   ]
  },
  {
   "cell_type": "markdown",
   "id": "93d7c19d-2fd7-4a22-9c54-983b008e42c9",
   "metadata": {},
   "source": [
    "This query works by creating a Cartesian product, and then selecting only the records where the team numbers match. This technique works, but it's considered better form to use `JOIN` and `ON` clauses."
   ]
  },
  {
   "cell_type": "markdown",
   "id": "0362cf57-7814-42b8-9a56-3949359ba465",
   "metadata": {},
   "source": [
    "### F. Multiple Table Joins\n",
    "We're going to use a different database for the next section. The *chinook.sqlite3* database contains sales information for a fictional digital music store in Alberta, Canada. [It is available for several different database servers and can be downloaded from Github.](https://github.com/lerocha/chinook-database)\n",
    "\n",
    "The chinook database has eleven tables, as shown below."
   ]
  },
  {
   "cell_type": "code",
   "execution_count": null,
   "id": "81df0e2d-25ab-4293-9e58-ceedbe1903fd",
   "metadata": {},
   "outputs": [],
   "source": [
    "query = \"\"\"SELECT *\n",
    "             FROM sqlite_schema\n",
    "            WHERE type = 'table';\"\"\"\n",
    "con = sqlite3.connect(chinook_db)\n",
    "df = pd.read_sql_query(query, con)\n",
    "con.close()\n",
    "df"
   ]
  },
  {
   "cell_type": "markdown",
   "id": "8b1ddba1-d947-4f6a-a3a5-50d2578ef370",
   "metadata": {},
   "source": [
    "There is a playlist table. That sounds cool. Let's check it out."
   ]
  },
  {
   "cell_type": "code",
   "execution_count": null,
   "id": "76d520ae-aff6-4f81-8f2e-dd8370406313",
   "metadata": {},
   "outputs": [],
   "source": [
    "query = \"\"\"SELECT *\n",
    "             FROM Playlist;\"\"\"\n",
    "con = sqlite3.connect(chinook_db)\n",
    "df = pd.read_sql_query(query, con)\n",
    "con.close()\n",
    "df"
   ]
  },
  {
   "cell_type": "markdown",
   "id": "a2a35630-5ac4-4ae7-9116-f8f815f25e2d",
   "metadata": {},
   "source": [
    "Hmmm. The *Playlist* table only contains the playlist names. We would like to see what songs are on each playlist. Perhaps there are some clues in the *PlaylistTrack* table?"
   ]
  },
  {
   "cell_type": "code",
   "execution_count": null,
   "id": "cd9f7ad2-fa52-4fa7-94cf-5461a856a698",
   "metadata": {},
   "outputs": [],
   "source": [
    "query = \"\"\"SELECT *\n",
    "             FROM PlaylistTrack;\"\"\"\n",
    "con = sqlite3.connect(chinook_db)\n",
    "df = pd.read_sql_query(query, con)\n",
    "con.close()\n",
    "df.head()"
   ]
  },
  {
   "cell_type": "markdown",
   "id": "4259e734-9126-4e20-b014-6d4dcf9d532e",
   "metadata": {},
   "source": [
    "Both the *Playlist* and the *PlaylistTrack* tables contain a column named *PlaylistId*. What would happen if we were to join the two tables on that column? To keep the results manageable, let's limit our results to the Grunge playlist."
   ]
  },
  {
   "cell_type": "code",
   "execution_count": null,
   "id": "d70049e2-1362-4855-b330-88c225a3bcef",
   "metadata": {},
   "outputs": [],
   "source": [
    "query = \"\"\"SELECT Playlist.Name, PlaylistTrack.TrackId\n",
    "             FROM Playlist INNER JOIN PlaylistTrack\n",
    "               ON Playlist.PlaylistId = PlaylistTrack.PlaylistId\n",
    "            WHERE Playlist.Name = 'Grunge';\"\"\"\n",
    "con = sqlite3.connect(chinook_db)\n",
    "df = pd.read_sql_query(query, con)\n",
    "con.close()\n",
    "df"
   ]
  },
  {
   "cell_type": "markdown",
   "id": "460283f1-a696-49c2-ab99-277b626b987f",
   "metadata": {},
   "source": [
    "I looks like the Grunge playlist has 15 tracks, but we don't know what the tracks are. All we have are random-looking *TrackId* numbers. Let's check out the *Track* table to see if that has some hints."
   ]
  },
  {
   "cell_type": "code",
   "execution_count": null,
   "id": "ac978f05-e353-48f8-8179-5c1d9989d26c",
   "metadata": {},
   "outputs": [],
   "source": [
    "query = \"\"\"SELECT *\n",
    "             FROM Track;\"\"\"\n",
    "con = sqlite3.connect(chinook_db)\n",
    "df = pd.read_sql_query(query, con)\n",
    "con.close()\n",
    "df.head()"
   ]
  },
  {
   "cell_type": "markdown",
   "id": "ff65f3dc-3e86-42b8-88d2-cad40c00ba36",
   "metadata": {},
   "source": [
    "The *Track* table also has a *TrackId* column. Can we join the *Track* table to the *Playlist* and *PlaylistTrack* tables? Yes, we can."
   ]
  },
  {
   "cell_type": "code",
   "execution_count": null,
   "id": "719548b5-df41-470c-a6be-974a35f0581c",
   "metadata": {},
   "outputs": [],
   "source": [
    "query = \"\"\"SELECT Playlist.Name AS Playlist, PlaylistTrack.TrackId,\n",
    "                  Track.Name AS Track, Track.Composer AS Artist\n",
    "            FROM Playlist\n",
    "                 INNER JOIN PlaylistTrack\n",
    "                         ON Playlist.PlaylistId = PlaylistTrack.PlaylistId\n",
    "                  LEFT JOIN Track\n",
    "                         ON PlaylistTrack.TrackId = Track.TrackId\n",
    "           WHERE Playlist.Name = 'Grunge';\"\"\"\n",
    "con = sqlite3.connect(chinook_db)\n",
    "df = pd.read_sql_query(query, con, index_col=\"TrackId\")\n",
    "con.close()\n",
    "df"
   ]
  },
  {
   "cell_type": "markdown",
   "id": "7a6b2164-492f-4218-b235-b418780edf9d",
   "metadata": {},
   "source": [
    "We finally have results that make sense, at least to humans. Let's break down the query.\n",
    "* We added an additional table to our join by adding a second join clause. In this example, the second join was a left join.\n",
    "* Imagine that each `JOIN` statment is creating an intermediate table. The first statement, `Playlist INNER JOIN PlaylistTrack ON Playlist.PlaylistId = PlaylistTrack.PlaylistId` creates an intermediate table with the *Playist.Name* and *PlaylistTrack.TrackId* columns. The second join statement, `... LEFT JOIN Track ON PlaylistTrack.TrackId = Track.TrackId` joins the *Track* table to the intermediate table created by the first join.\n",
    "* Sometimes the order in which joins are specified and sometimes it doesn't. For the preceding query, the order does not matter. If a query contains only inner joins, the order never matters. If a query contains some left or right joins, the order might matter.\n",
    "* SQLite may or may not use the order specified in the query. SQLite may decide that it can get the same results with less work if it changes the query order. This is a complicated topic. [See this description of SQLite's internal optimzer for mor information.](https://www.sqlite.org/optoverview.html)"
   ]
  },
  {
   "cell_type": "markdown",
   "id": "f19b5c07-2f8e-4e50-baa0-2b305f8f84a3",
   "metadata": {},
   "source": [
    "### G. Keys and Relationships\n",
    "We can finally see why our databases are called *Relational* databases. Each database contains several different tables, but there are relationships between the tables. The relationships are managed via key values that are stored in each table.\n",
    "\n",
    "#### Keys\n",
    "Consider the *Customer* table."
   ]
  },
  {
   "cell_type": "code",
   "execution_count": null,
   "id": "92b515b0-12dd-4f5f-98dc-bd05700f96d6",
   "metadata": {},
   "outputs": [],
   "source": [
    "query = \"\"\"SELECT *\n",
    "             FROM Customer;\"\"\"\n",
    "con = sqlite3.connect(chinook_db)\n",
    "df = pd.read_sql_query(query, con)\n",
    "con.close()\n",
    "df.head()"
   ]
  },
  {
   "cell_type": "markdown",
   "id": "30bfe19f-b026-4cb2-9fb9-081fbc5e9b3d",
   "metadata": {},
   "source": [
    "As expected, each record in the *Customer* table has columns like *FirstName*, *LastName*, *City*, etc.  But each record also has a mysterious *CustomerId* number. What does this number mean? Nothing! The *CustomerId* integers were arbitrarily assigned when as each new customer was added to the table. But even though they *mean* nothing, they are still important. The key values are used to identify related records in other tables. Consider the *Invoice* table."
   ]
  },
  {
   "cell_type": "code",
   "execution_count": null,
   "id": "39cc91ac-8c04-4d0b-86d2-d8e4420f080e",
   "metadata": {},
   "outputs": [],
   "source": [
    "query = \"\"\"SELECT *\n",
    "             FROM Invoice;\"\"\"\n",
    "con = sqlite3.connect(chinook_db)\n",
    "df = pd.read_sql_query(query, con)\n",
    "con.close()\n",
    "df.head()"
   ]
  },
  {
   "cell_type": "markdown",
   "id": "827b9b3d-6360-4b5f-987f-c8b67dc7910c",
   "metadata": {},
   "source": [
    "FYI, an invoice is what businesses call a bill. Suppose you ran a factory and you ordered some sprockets from *Spacely Sprockets*. You would send a purchase order to *Spacely Sprockets* specifying what sprockets you wanted to purchase, when and to where they should be shipped, and the price you intended to pay for them. *Spacely Sprockets* would ship you the sprockets and then would send you an invoice, listing the products shipped to you and how much money you owed them.\n",
    "\n",
    "Our *Invoice* table does not have any information about the customers who bought the materials listed on the invoice. But it does have a *CustomerId* column containing an arbitrary-looking integer. For example, invoice #1, which was billed to someone in Germany, has a *CustomerId* of 2. The *Customer* table also has a record with a *CustomerId* of 2, and that customer, named Leonie Köhler, has an address in Stuttgart, Germany. We're using the *CustomerId* values to match records in the *Invoice* table with records in the *Customer* table.\n",
    "\n",
    "In the *Customer* table, the *CustomerId* column is a *primary key*. It was designated as a primary key when the *Customer* table was created. Primary keys must contain a value (they can't be NULL) and every value must be unique.\n",
    "\n",
    "In the *Invoice* table, the *CustomerId* column is a *foreign key*. Foreign keys are columns that link to a primary key in another table. Foreign key values do not need to be unique. That makes sense, because if they were required to be unique then customers would only be allowed to have one invoice.\n",
    "\n",
    "#### Relationships\n",
    "The relationship between the *Invoice* and *Customer* table is a *many-to-one* relationship. One customer can have many invoices, but each invoice can only have one customer. *many-to-one* relationships occur frequently in relational databases.\n",
    "\n",
    "It's also possible to have *one-to-one* relationships, where one record corresponds to exactly one record in another table and vice versa. For example, a person is allowed to have exactly one driver's license, and a driver's license lists eactly one driver. We don't see one-to-one relationships as often in relational databases because if there is a one-to-one relationship between two tables, we generally just combine the two tables into a single table.\n",
    "\n",
    "Finally, the relationship between the *Playlist* and *Track* tables is an example of a *many-to-many* relationship. Each playlist can have several tracks, and each track can be a member of more than one playlist. Many-to-many relationships are more tricky to implement than *many-to-one* or *one-to-one* relationships. Consider the *PlaylistTrack* table."
   ]
  },
  {
   "cell_type": "code",
   "execution_count": null,
   "id": "b97f409b-7209-46e8-ad7d-7bd77f483e9d",
   "metadata": {},
   "outputs": [],
   "source": [
    "query = \"\"\"SELECT *\n",
    "             FROM PlaylistTrack;\"\"\"\n",
    "con = sqlite3.connect(chinook_db)\n",
    "df = pd.read_sql_query(query, con)\n",
    "con.close()\n",
    "df.head()"
   ]
  },
  {
   "cell_type": "markdown",
   "id": "3ab47be3-2d21-405c-834a-f362207770b5",
   "metadata": {},
   "source": [
    "The *PlaylistTrack* table consists of two foreign key columns. One of the columns, *PlaylistId*, links to the *Playlist* table, and the other column, *TrackId*, links to the *Track* table. Close inspection of this table shows that a single playlist can have many tracks."
   ]
  },
  {
   "cell_type": "code",
   "execution_count": null,
   "id": "bf1365da-a591-435c-8f24-4b29a009d9a3",
   "metadata": {},
   "outputs": [],
   "source": [
    "# Playlist 16 has 14 tracks\n",
    "query = \"\"\"SELECT *\n",
    "             FROM PlaylistTrack\n",
    "            WHERE PlaylistId = 16;\"\"\"\n",
    "con = sqlite3.connect(chinook_db)\n",
    "df = pd.read_sql_query(query, con)\n",
    "con.close()\n",
    "df"
   ]
  },
  {
   "cell_type": "code",
   "execution_count": null,
   "id": "ed479d6f-802f-465a-83ed-ecfaa1fad8bf",
   "metadata": {},
   "outputs": [],
   "source": [
    "# Track 52 appears on four different playlists\n",
    "query = \"\"\"SELECT *\n",
    "             FROM PlaylistTrack\n",
    "            WHERE TrackId = 52;\"\"\"\n",
    "con = sqlite3.connect(chinook_db)\n",
    "df = pd.read_sql_query(query, con)\n",
    "con.close()\n",
    "df"
   ]
  },
  {
   "cell_type": "markdown",
   "id": "ca864cb5-40d7-4a13-9178-9c8fb8b9763e",
   "metadata": {},
   "source": [
    "Even though there is a relationship between the *Playlist* and *Track* tables, there is no *TrackId* column on the *Playlist* table and there is no *PlaylistId* on the *Track* table. The two tables are linked only via the *PlaylistTrack* table. This is expected. The *PlaylistTrack* table is called a *joining table*. Joining tables are the standard method for implementing a many-to-many relationship in a relational database."
   ]
  },
  {
   "cell_type": "markdown",
   "id": "ceb0ef87-2efe-4bc0-af5e-cb4c90b13d0f",
   "metadata": {},
   "source": [
    "#### Schema Diagrams\n",
    "Drawing a diagram of a database can help you understand it. The figure below shows the database schema for the Chinook database.\n",
    "\n",
    "##### Chinook Database Schema Diagram\n",
    "![Chinook Database Schema](images/chinook_schema.png)\n",
    "\n",
    "The diagram was generated automatically by a program called DBSchema. Each box represents a table. The table name is at the top of the box and the columns are listed below. Arrows between boxes show the relationships between different tables."
   ]
  },
  {
   "cell_type": "markdown",
   "id": "85a10be4-6cb8-4240-8280-de725bea5338",
   "metadata": {},
   "source": [
    "### H. Exercises 1 - 8"
   ]
  },
  {
   "cell_type": "markdown",
   "id": "17b059d4-b125-49c4-bf65-9be375763afb",
   "metadata": {},
   "source": [
    "#### Ex. #1\n",
    "From the Chinnok database, display a table of invoice dates, customer last names, customer first names, and invoice totals. Order the table by invoice total, in descending order with the most expensive invoice first. Limit the size of the table to the ten most expensive invoices."
   ]
  },
  {
   "cell_type": "code",
   "execution_count": null,
   "id": "f0e9e359-7b7e-4c82-805f-301b5d2f099b",
   "metadata": {},
   "outputs": [],
   "source": [
    "# Ex. #1\n",
    "\n"
   ]
  },
  {
   "cell_type": "markdown",
   "id": "c0f0e633-7af3-4f3e-8fcd-96c3948adbe3",
   "metadata": {},
   "source": [
    "#### Ex. #2\n",
    "From the WASNO database, display the team numbers of the teams that are missing from the *teams* table. The results should have a single column, three rows, and be ordered by team number.\n",
    "\n",
    "Hints:\n",
    "* This query requires a join, even though the results contain only a single column.\n",
    "* Use this syntax to check for an empty field: `WHERE colname IS NULL`."
   ]
  },
  {
   "cell_type": "code",
   "execution_count": null,
   "id": "e1ebae2f-df3e-4678-a0f5-9be716558ecc",
   "metadata": {},
   "outputs": [],
   "source": [
    "# Ex. #2\n",
    "\n"
   ]
  },
  {
   "cell_type": "markdown",
   "id": "708b50ab-43c6-4ada-a8e7-50f1ab7d667f",
   "metadata": {},
   "source": [
    "#### Ex. #3\n",
    "From the Chinnok database, show all tracks on the album by the artist named *The Police*. Your output should have three columns name *Artist*, *Album*, and *Track*. Do not hard code any key values into your query. The only literal value in any `WHERE` clause should be *The Police*. Watch out for case sensitivity. Hint: You need to join three tables for this query."
   ]
  },
  {
   "cell_type": "code",
   "execution_count": null,
   "id": "c9b1f5cd-f66e-4ffa-9c50-735cf5dafd39",
   "metadata": {},
   "outputs": [],
   "source": [
    "# Ex. #3\n",
    "\n"
   ]
  },
  {
   "cell_type": "markdown",
   "id": "1c8bdd25-13dd-4bfb-9bfc-3fe8c89daef4",
   "metadata": {},
   "source": [
    "#### Ex. #4\n",
    "This exercise has two parts.\n",
    "\n",
    "Tables can be joined with themselves. Such joins are called self-joins. The *Employee* table in the Chinook database can support a self-join. Write a query that displays the *Employee* table."
   ]
  },
  {
   "cell_type": "code",
   "execution_count": null,
   "id": "86b45ca4-341a-4ee4-83aa-f1d1be4b8b5c",
   "metadata": {},
   "outputs": [],
   "source": [
    "# Ex #4 part 1, display entire Employee table\n",
    "\n"
   ]
  },
  {
   "cell_type": "markdown",
   "id": "736eeb23-517b-46ea-93e8-cdcedfc6b376",
   "metadata": {},
   "source": [
    "The *ReportsTo* column is a foreign key that refers to the *Employee*'s table own primary key. It identifies the record in the *Employee* table that holds the information for the employee's manager. (The contents of the *ReportsTo* column appears to be a float because of how Pandas interpreted the column's contents -- it's actually an integer column.)\n",
    "\n",
    "Display a table with every employee's first name, last name, title, and the first name and last name of their manager. The query should list all employees, even if they don't have a manager.\n",
    "\n",
    "Hints:\n",
    "* This query requires a self-join.\n",
    "* Since the table name appears twice in the join statement, self-joins require that you rename the table twice using aliases. Use *Employees* and *Managers* for your aliases. For example,\n",
    "\n",
    "  ```sql\n",
    "  Employee AS Employees INNER/LEFT JOIN Employee AS Managers\n",
    "  ON Employees. ... = Managers. ...\n",
    "  ```\n",
    "\n",
    "  <br/>[You can find another example of a self-join on the *W3 Schools Tutorial*](https://www.w3schools.com/sql/sql_join_self.asp)\n",
    "* All column names that follow the `SELECT` keyword must be prefaced with the table's alias name. For example, `Employees.FirstName` or `Managers.LastName`."
   ]
  },
  {
   "cell_type": "code",
   "execution_count": null,
   "id": "652f9524-b851-4cab-a278-ca09fda8ea69",
   "metadata": {},
   "outputs": [],
   "source": [
    "# Ex #4 part 2, self-join\n",
    "\n"
   ]
  },
  {
   "cell_type": "markdown",
   "id": "2fe854cd-0e67-4cf9-8eaf-ad1f6bb8e717",
   "metadata": {},
   "source": [
    "#### Ex. #5\n",
    "What type of join is required for the query in exercise #2 for finding the missing teams? Why? What would happen if you used the other type of join? Why?"
   ]
  },
  {
   "cell_type": "code",
   "execution_count": null,
   "id": "3fb6eee5-0a3c-464e-932d-f327b0442f70",
   "metadata": {},
   "outputs": [],
   "source": [
    "# Ex #5\n",
    "#\n",
    "#"
   ]
  },
  {
   "cell_type": "markdown",
   "id": "6a968c94-34b7-453e-8a87-75e9cf38ccf8",
   "metadata": {},
   "source": [
    "#### Ex. #6\n",
    "How would you change the query in exercise #4, the self-join, to show the manager's title instead of the employee's title."
   ]
  },
  {
   "cell_type": "code",
   "execution_count": null,
   "id": "0362e48e-c631-420f-bd95-4e61590d1b59",
   "metadata": {},
   "outputs": [],
   "source": [
    "# Ex #6\n",
    "#\n",
    "#"
   ]
  },
  {
   "cell_type": "markdown",
   "id": "00b87679-5f9c-4f61-84df-28ddbc947914",
   "metadata": {},
   "source": [
    "#### Ex. #7\n",
    "Inspect the schema diagram for the Chinook database in section II.G.\n",
    "  1. What do the blue and gold arrows indicate? \n",
    "  2. What does the key symbol indicate?\n",
    "  3. What do the letters on the right side of each row (e.g., 't', 'b', 'd') indicate?\n",
    "  4. What type of table relationships are displayed in the diagram? How can you tell what type of relationship is displayed?"
   ]
  },
  {
   "cell_type": "code",
   "execution_count": null,
   "id": "d497e611-c824-42c8-a418-826bef1881d2",
   "metadata": {},
   "outputs": [],
   "source": [
    "# Ex. #7\n",
    "#\n",
    "#\n",
    "#"
   ]
  },
  {
   "cell_type": "markdown",
   "id": "c68400b8-d761-4a74-a58b-68691c7ff4b5",
   "metadata": {},
   "source": [
    "#### Ex. #8\n",
    "Imagine that you are creating a database for tracking all of the students and classes at your school. The database should contain all of the data needed to print a class schedule for a student or teacher. A. Describe the database tables, i.e., schema, you would need for this system. Discuss the types of relationships (e.g, many-to-one, many-to-many) between the different tables.\n",
    "B. Can your schema handle multiple instances of a class? For example, there could be three different sessions of Physics that are taught by two different teachers (one of the teachers teaches two different sessions). If you schema cannot handle this, how would you change it so it could?\n",
    "\n",
    "Hint: It will help to draw a schema diagram for your database, similar to the diagram in section II.F."
   ]
  },
  {
   "cell_type": "code",
   "execution_count": null,
   "id": "900b33bc-868f-41e1-9d2a-38adb093997f",
   "metadata": {},
   "outputs": [],
   "source": [
    "# Ex #8\n",
    "#\n",
    "#"
   ]
  },
  {
   "cell_type": "markdown",
   "id": "30dc4ddb-03f5-42b1-b604-1f9b0424210e",
   "metadata": {},
   "source": [
    "## III. Insert, Update, and Delete Queries\n",
    "This section explains how to make changes to the data in the database. Changes are accomplished with `INSERT`, `UPDATE`, and `DELETE` queries.\n",
    "\n",
    "We don't want to mess up the *wasno2020.sqlite* database file. We'll copy the WASNO database into computer memory and use the copy to practie `INSERT`, `UPDATE`, and `DELETE` queries. The next cell copies the databse into memory."
   ]
  },
  {
   "cell_type": "code",
   "execution_count": null,
   "id": "ebe79799-0eaf-49ca-9bcd-088acb40883f",
   "metadata": {},
   "outputs": [],
   "source": [
    "# Copy WASNO database into memory\n",
    "\n",
    "# Get connection to database store on disk\n",
    "wasno_con = sqlite3.connect(wasno_db)\n",
    "# Create an empty database in computer memory\n",
    "memcon = sqlite3.connect(\":memory:\")\n",
    "# Copy the WASNO database into the memory database.\n",
    "wasno_con.backup(memcon)"
   ]
  },
  {
   "cell_type": "markdown",
   "id": "98fbc7b9-2d57-4d38-9b9f-2deaea252c0e",
   "metadata": {},
   "source": [
    "We're going to keep `memcon` open. If close it, we'll lose the database that's stored in memory. [You can read more about storing database in memory and the `sqlite3.Connection.backup` method in the official documentation for the Python Standard Library](https://docs.python.org/3/library/sqlite3.html)."
   ]
  },
  {
   "cell_type": "markdown",
   "id": "ee457a7b-170d-493b-ac96-99cc1ef6abc5",
   "metadata": {},
   "source": [
    "### A. `INSERT` Queries\n",
    "Let's use an `INSERT` query to add another team into the *Teams* table."
   ]
  },
  {
   "cell_type": "code",
   "execution_count": null,
   "id": "89badd86-6a86-4868-970a-dec483e93f96",
   "metadata": {},
   "outputs": [],
   "source": [
    "query = \"\"\"\n",
    "    INSERT INTO Teams (team_number, team_name, city, state)\n",
    "         VALUES ('4613', 'Barker Redbacks', 'Sydney', 'New South Wales');\n",
    "\"\"\"\n",
    "\n",
    "# Execute the update query\n",
    "memcon.execute(query)\n",
    "memcon.commit()\n",
    "\n",
    "pd.read_sql_query(\"SELECT * FROM Teams WHERE city = 'Sydney';\", memcon)"
   ]
  },
  {
   "cell_type": "markdown",
   "id": "ff5292b0-026d-4ba4-856a-b9aea6662af7",
   "metadata": {},
   "source": [
    "Insert queries are not hard to understand. We include the table and column names into which we want to insert the data, then we specify the data that we want to insert. The data values must be specified in the same order as the column names.\n",
    "\n",
    "You can run the preceding cell once with no problems. If you try to run it again, you'll get an error. The reason is that there is a uniquness constraint on the *team_number* column. SQL will not allow duplicate values in this column. Since there is already a team with number 4613 in the *Teams* table the second time we try to run the query, SQL throws an error and does nothing. \n",
    "\n",
    "You probably noticed that we used different functions for executing the query. So far, all of our queries have *read information from* the database. The `UPDATE` query is different. It's the first query that *writes information to* the database. The `pandas.read_sql_query()` method will not run queries that write information to the database. We will cover the `.execute()` and `.commit()` methods in the next section.\n",
    "\n",
    "#### Primary Key Values\n",
    "Did you notice that SQL inserted the number 38 into the *team_id* column, even though we didn't specify that column? What gives?  Let's look at the table schema to see if we can figure this out."
   ]
  },
  {
   "cell_type": "code",
   "execution_count": null,
   "id": "603672e7-8ec7-4beb-a7cd-0fe168671aa4",
   "metadata": {},
   "outputs": [],
   "source": [
    "pd.read_sql_query(\"PRAGMA table_info(Teams);\", memcon)"
   ]
  },
  {
   "cell_type": "markdown",
   "id": "ee1902c2-74e0-4c79-bccf-0095f0a8f6ad",
   "metadata": {},
   "source": [
    "The *team_id* column has a *1* in the *pk* field, which means the column was defined as a primary key. In SQLite, INTEGER primary keys cannot contain NULL values. When we try to insert a record the *Teams* table without specifying a value for *team_id*, SQLite chooses an integer to insert into the field. SQLite will choose an integer that does not already appear in that column. This behavior is similar to to other relatinal database programs.\n",
    "\n",
    "We often need to know what primary key was generated by an `INSERT` statement. We could use a `SELECT` statement retrieve the record we just inserted and get the key, but this is problematic and requires extra work. Fortunately there is a way to get the key value without a second SQL query."
   ]
  },
  {
   "cell_type": "code",
   "execution_count": null,
   "id": "87586dbf-b386-492d-ac0b-8fc13ae13e06",
   "metadata": {},
   "outputs": [],
   "source": [
    "query = \"\"\"\n",
    "    INSERT INTO Teams (team_number, team_name, city, state)\n",
    "         VALUES ('503', 'Frog Force', 'Novi', 'Michigan');\n",
    "\"\"\"\n",
    "\n",
    "# Execute the update query\n",
    "id_val = memcon.execute(query).lastrowid\n",
    "print(\"New team_id value:\", id_val)\n",
    "memcon.commit()\n",
    "\n",
    "pd.read_sql_query(f\"SELECT * FROM Teams WHERE team_id = {id_val};\", memcon)"
   ]
  },
  {
   "cell_type": "markdown",
   "id": "6e777d1a-91fb-4c41-8c65-594aad98e3a2",
   "metadata": {},
   "source": [
    "The `.execute()` returns an object with a `.lastrowid` attribute. This attribute contains the primary key for the row that was inserted."
   ]
  },
  {
   "cell_type": "markdown",
   "id": "f657119d-6ec9-4308-ac7b-ae38102ad869",
   "metadata": {},
   "source": [
    "#### Skipping the Column Names\n",
    "We can skip the column names if we insert data into every column, in the order that the columns were defined when the table was created."
   ]
  },
  {
   "cell_type": "code",
   "execution_count": null,
   "id": "624eff16-db6b-469e-a940-bcf0ecbe4512",
   "metadata": {},
   "outputs": [],
   "source": [
    "query = \"\"\"\n",
    "    INSERT INTO Teams \n",
    "         VALUES (NULL, '1816', 'The Green Machine', 'Edina', 'Minnesota', 'USA', 2006, NULL);\n",
    "\"\"\"\n",
    "\n",
    "# Execute the update query\n",
    "memcon.execute(query)\n",
    "memcon.commit()\n",
    "\n",
    "pd.read_sql_query(\"SELECT * FROM Teams WHERE team_number = '1816';\", memcon)"
   ]
  },
  {
   "cell_type": "markdown",
   "id": "636ef43c-05df-4619-9533-ed22175bdc57",
   "metadata": {},
   "source": [
    "Even though we entered `NULL` for the *team_id* column, SQLite created a new integer primary key for the record.\n",
    "\n",
    "[Refer to the *W3 Schools SQLA Tutoral* for more information on `INSERT` queries.](https://www.w3schools.com/Sql/sql_insert.asp)"
   ]
  },
  {
   "cell_type": "markdown",
   "id": "b1ff6195-d99f-4808-ad1f-f7bd2c222f2d",
   "metadata": {},
   "source": [
    "### B. UPDATE Queries\n",
    "The *team_name* and other data is missing for FRC 7461. Their name is *Sushi Squad*. Let's fix that."
   ]
  },
  {
   "cell_type": "code",
   "execution_count": null,
   "id": "f72935ef-7913-4cee-8832-b398bbbea378",
   "metadata": {},
   "outputs": [],
   "source": [
    "# Before the update query\n",
    "select_query = \"\"\"\n",
    "    SELECT *\n",
    "      FROM teams\n",
    "     WHERE team_number = '7461';\n",
    "\"\"\"\n",
    "display(pd.read_sql_query(select_query, memcon))\n",
    "\n",
    "# This query changes an existing record\n",
    "print(\"Running the Update Query\")\n",
    "update_query = \"\"\"\n",
    "    UPDATE teams\n",
    "       SET team_name = 'Sushi Squad',\n",
    "           city = 'Redmond',\n",
    "           state = 'Washington'\n",
    "     WHERE team_number = '7461';\n",
    "\"\"\"\n",
    "# Execute the update query\n",
    "memcon.execute(update_query)\n",
    "memcon.commit()\n",
    "\n",
    "# Check the results\n",
    "display(pd.read_sql_query(select_query, memcon))"
   ]
  },
  {
   "cell_type": "markdown",
   "id": "a1f6af56-fa70-416e-b117-b10c2c8650d5",
   "metadata": {},
   "source": [
    "The `UPDATE` query changes records that already exist in a database table. The `WHERE` clause is extremely important. If we had omitted it, all team names would have been changed to 'Sushi Squad'. We would be making things very hard for the match announcer if every team in the match had the same name.\n",
    "\n",
    "Update queries cannot can't add new records to a table. Depending on how you write the query, SQL will either do nothing, or completely mess up your data.\n",
    "```sql\n",
    "-- Does nothing because there is no team '42397'. \n",
    "UPDATE teams\n",
    "   SET team_name = 'Spacely Sprocketeers',\n",
    "       city = 'Orbit City'\n",
    " WHERE team_number = '42397';\n",
    " \n",
    "-- Every team in the database is now the Spacely Sprocketeers\n",
    "UPDATE teams\n",
    "   SET team_name = 'Spacely Sprocketeers',\n",
    "       city = 'Orbit City'\n",
    "       team_number = '42397';\n",
    "```\n",
    "[Refer to the *W3 SQL Tutorial* for additional information on SQL Update Queries.](https://www.w3schools.com/Sql/sql_update.asp)"
   ]
  },
  {
   "cell_type": "markdown",
   "id": "c86340b4-1f67-4849-8d37-8105628a7995",
   "metadata": {},
   "source": [
    "### C. `DELETE` Queries"
   ]
  },
  {
   "cell_type": "code",
   "execution_count": null,
   "id": "b23998ad-be8d-4ef6-8f79-949f3e6caff2",
   "metadata": {},
   "outputs": [],
   "source": [
    "select_query = \"\"\"\n",
    "    SELECT *\n",
    "      FROM Teams\n",
    "     WHERE team_number = '1318';\n",
    "\"\"\"\n",
    "display(pd.read_sql_query(select_query, memcon))\n",
    "\n",
    "# Delete Query\n",
    "print(\"Running the DELETE query!\")\n",
    "del_query = \"\"\"\n",
    "    DELETE FROM Teams \n",
    "         WHERE team_number = '1318';\n",
    "\"\"\"\n",
    "\n",
    "# Execute the update query\n",
    "memcon.execute(del_query)\n",
    "memcon.commit()\n",
    "\n",
    "pd.read_sql_query(select_query, memcon)"
   ]
  },
  {
   "cell_type": "markdown",
   "id": "1ebd4232-a5fb-4c3b-9793-fb565b826ed7",
   "metadata": {},
   "source": [
    "`DELETE` queries are simple, perhaps a bit too simple. Specify the table and use a `WHERE` clause to identify the records that will be deleted, and you are in business.\n",
    "\n",
    "But what happens if you mess up or forget the `WHERE` clause? You might just erase some or all of your records."
   ]
  },
  {
   "cell_type": "code",
   "execution_count": null,
   "id": "de584f6e-77b7-4b86-ab2b-62dcf0e64244",
   "metadata": {},
   "outputs": [],
   "source": [
    "# Bad DELETE Query\n",
    "select_query = 'SELECT COUNT(*) AS \"Records in Measures Table\" FROM measures;'\n",
    "display(pd.read_sql_query(select_query, memcon))\n",
    "\n",
    "# Run DELETE Query\n",
    "print('Running the DELETE query...')\n",
    "bad_query = 'DELETE FROM Measures;'\n",
    "memcon.execute(bad_query)\n",
    "memcon.commit()\n",
    "\n",
    "display(pd.read_sql_query(select_query, memcon))"
   ]
  },
  {
   "cell_type": "markdown",
   "id": "880f9ad6-f2a2-4712-a060-99c338c9de3f",
   "metadata": {},
   "source": [
    "Whoops! It's too bad about the *Measures* table."
   ]
  },
  {
   "cell_type": "markdown",
   "id": "f9e471df-d156-45d9-9ed4-ed3ce8051848",
   "metadata": {},
   "source": [
    "### D. Parameterized Queries\n",
    "It's a common and useful practice to wrap SQL queries in a Python function that accepts parameters. Suppose we wanted `get_team()` and `add_team()` functions in our program that would get a team from or add a team to the *Teams* table. We could write the functions like this:"
   ]
  },
  {
   "cell_type": "code",
   "execution_count": null,
   "id": "b3f6cc7d-4e49-4513-8eff-669f2ae13f00",
   "metadata": {},
   "outputs": [],
   "source": [
    "def get_team_risky(con, team_number):\n",
    "    query = \"SELECT * FROM Teams WHERE team_number = '\" + team_number + \"';\"\n",
    "    return pd.read_sql_query(query, con)\n",
    "\n",
    "def add_team_risky(con, team_number, team_name):\n",
    "    query = (\"INSERT INTO Teams (team_number, team_name)\" +\n",
    "             \"VALUES ('\" + team_number + \"', '\" + team_name + \"');\")\n",
    "    con.execute(query)\n",
    "    con.commit()\n",
    "    \n",
    "add_team_risky(memcon, \"1902\", \"Exploding Bacon\")\n",
    "get_team_risky(memcon, \"1902\")"
   ]
  },
  {
   "cell_type": "markdown",
   "id": "3bdaed31-65ef-4f70-b18c-fb555246388d",
   "metadata": {},
   "source": [
    "The functions work as written, but manually constructing the queries from variables is tedious. But's that is not the biggest problem. What if someone passed the following parameter to `.get_team()`?\n",
    "```python\n",
    "evil_team_number = \"\"\"\n",
    "    1318';\n",
    "    DELETE FROM Teams;-- \n",
    "\"\"\"\n",
    "\n",
    "get_team_risky(memcon, evil_team_number)\n",
    "```\n",
    "\n",
    "[`evil_team_number` is what's known as a SQL injection attack.](https://en.wikipedia.org/wiki/SQL_injection) It's an example of why it's dangerous to manualy insert strings into SQL queries. \n",
    "\n",
    "#### Figure 3, SQL Injection\n",
    "![XKCD Comic](https://imgs.xkcd.com/comics/exploits_of_a_mom.png)<br/>\n",
    "From [xkcd.com](https://xkcd.com/). Creative Commons Attribution-NonCommercial 2.5 License.\n",
    "\n",
    "The sqlite3 package supports parameterized queries that reduce the risk of SQL injection attacks."
   ]
  },
  {
   "cell_type": "code",
   "execution_count": null,
   "id": "88aae206-21d1-4fc8-b017-137ac60f9d9a",
   "metadata": {},
   "outputs": [],
   "source": [
    "def get_team(con, team_number):\n",
    "    query = \"SELECT * FROM Teams WHERE team_number = ?;\"\n",
    "    return con.execute(query, [team_number]).fetchone()\n",
    "\n",
    "def add_team(con, team_number, team_name):\n",
    "    query = \"INSERT INTO Teams (team_number, team_name) VALUES (?, ?);\"\n",
    "    con.execute(query, (team_number, team_name))\n",
    "    con.commit()\n",
    "    \n",
    "add_team(memcon, \"2834\", \"Bionic Black Hawks\")\n",
    "get_team(memcon, \"2834\")"
   ]
  },
  {
   "cell_type": "markdown",
   "id": "7645c5a0-f92b-4ee9-9acc-44a4e3c96303",
   "metadata": {},
   "source": [
    "To use parameterized queries, put a question mark, '?', wherever you want to insert the value of a parameter. When you call the `.execute()` method, add a second argument that contains the parameter values you want to insert into the query. The second argument to `.execute()` must be a sequence object, like a tuple or list. Parameterized queries provide several benefits.\n",
    "* No need to manually assemble query strings.\n",
    "* Protection for SQL injection.\n",
    "* Autmatically handles quotation markes. Adds quotation marks for string datatypes and omits them for numeric types.\n",
    "\n",
    "In addition to the question mark style of parameterized queries, the sqlite3 package also supports a named style."
   ]
  },
  {
   "cell_type": "code",
   "execution_count": null,
   "id": "e5f90b70-7c12-432f-b992-c83aaa488d29",
   "metadata": {},
   "outputs": [],
   "source": [
    "def get_team(con, team_number):\n",
    "    query = \"SELECT * FROM Teams WHERE team_number = :team_number;\"\n",
    "    return con.execute(query, {\"team_number\": team_number}).fetchone()\n",
    "\n",
    "def add_team(con, team_number, team_name):\n",
    "    query = \"\"\"\n",
    "        INSERT INTO Teams (team_number, team_name)\n",
    "             VALUES (:team_number, :team_name);\n",
    "    \"\"\"\n",
    "    con.execute(query, {\"team_name\": team_name, \"team_number\": team_number})\n",
    "    con.commit()\n",
    "    \n",
    "add_team(memcon, \"1311\", \"Kell Robotics\")\n",
    "print(get_team(memcon, \"1311\"))\n",
    "memcon.close()"
   ]
  },
  {
   "cell_type": "markdown",
   "id": "4dad7d97-102b-4953-8852-9b80291e947b",
   "metadata": {},
   "source": [
    "### E. Exercises 9 - 11\n",
    "Use the `ccon` connection object for exercises 9 - 11."
   ]
  },
  {
   "cell_type": "code",
   "execution_count": null,
   "id": "9a870a89-4280-48fb-940c-66762f59515e",
   "metadata": {},
   "outputs": [],
   "source": [
    "# Use in-memory copy of Chinook database\n",
    "chinook_con = sqlite3.connect(chinook_db)\n",
    "ccon = sqlite3.connect(\":memory:\")\n",
    "chinook_con.backup(ccon)"
   ]
  },
  {
   "cell_type": "markdown",
   "id": "e9c499b7-34fd-4d1d-bf8b-0ed6f2c245d2",
   "metadata": {},
   "source": [
    "#### Ex. #9\n",
    "Use an INSERT query to add an artist, any artist, to the  *Artist* table in the Chinook database. Use a SELECT query to verify the artist was added."
   ]
  },
  {
   "cell_type": "code",
   "execution_count": null,
   "id": "d1983fc1-50ea-4d1b-8737-c1d858fccb20",
   "metadata": {},
   "outputs": [],
   "source": [
    "# Exercise #9\n",
    "query = \"\"\"\n",
    "-- Write your INSERT query here\n",
    "\"\"\"\n",
    "\n",
    "ccon.execute(query, ccon)\n",
    "ccon.commit()\n",
    "\n",
    "# Execute your SELECT Query here\n",
    "\n"
   ]
  },
  {
   "cell_type": "markdown",
   "id": "ae449a60-c6cc-4575-88ff-c7e465189b95",
   "metadata": {},
   "source": [
    "#### Ex. #10\n",
    "Use an UPDATE query that changes the names of all albumns containing the word \"Rock\". The new albumn name should be \"Robot Boogie\". The cell will run with no errors if the UPDATE query is correct."
   ]
  },
  {
   "cell_type": "code",
   "execution_count": null,
   "id": "cd5098d4-31ff-46d3-b848-e5bdd7ab8f05",
   "metadata": {},
   "outputs": [],
   "source": [
    "# Exercise #10\n",
    "query = \"\"\"\n",
    "    -- Write your UPDATE query here\n",
    "    \n",
    "\"\"\"\n",
    "# This code runs and tests your query. Do not alter.\n",
    "ccon.execute(query)\n",
    "ccon.commit()\n",
    "test_query = \"\"\"\n",
    "    SELECT COUNT(*)\n",
    "      FROM Album\n",
    "     WHERE Title = 'Robot Boogie';\n",
    "\"\"\"\n",
    "assert ccon.execute(test_query).fetchone()[0] == 7"
   ]
  },
  {
   "cell_type": "markdown",
   "id": "e273b875-3d6c-4c87-b46b-18e3c6e72239",
   "metadata": {},
   "source": [
    "#### Ex. #11\n",
    "Write a DELETE query that deletes all albums from the *Album* table that contain the word \"Song\"."
   ]
  },
  {
   "cell_type": "code",
   "execution_count": null,
   "id": "ce9a32c4-a64b-487c-9481-b95af2b08c9f",
   "metadata": {},
   "outputs": [],
   "source": [
    "query = \"\"\"\n",
    "    -- Write your DELETE query here\n",
    "\"\"\"\n",
    "\n",
    "\n",
    "# This code tests your query. Do not alter.\n",
    "ccon.execute(query)\n",
    "ccon.commit()\n",
    "test_query = \"\"\"\n",
    "    SELECT COUNT(*)\n",
    "      FROM Album;\n",
    "\"\"\"\n",
    "assert ccon.execute(test_query).fetchone()[0] == 344"
   ]
  },
  {
   "cell_type": "markdown",
   "id": "6a726431-9d6d-4f82-9e14-8bc85a5f2dc2",
   "metadata": {},
   "source": [
    "## IV. Running Queries\n",
    "This notebook introduces two techniques for running SQL queries from Python.\n",
    "* The `sqlite3.connection.execute()` method\n",
    "* *Sqlite3's* `cursor` object."
   ]
  },
  {
   "cell_type": "markdown",
   "id": "5f91044c-a9e6-4c2d-b055-89f96314e889",
   "metadata": {},
   "source": [
    "### A. The `connection.execute()` Method\n",
    "For queries that write to the database and do not return any data, you must use the `execute()` method from the `sqlite3` package. Here is an example:\n",
    "```python\n",
    "# Import the sqlite3 package\n",
    "import sqlite3\n",
    "\n",
    "# Get a connection object to the database file\n",
    "con = sqlite3.connect(\"database-file.sqlite3\")\n",
    "\n",
    "# Create and execute the query\n",
    "query \"\"\"UPDATE some_table\n",
    "            SET some_column = 'some_value'\n",
    "            WHERE some_other_column = 'some_other_value';\"\"\"\n",
    "con.execute(query)\n",
    "\n",
    "# Commit the changes\n",
    "con.commit()\n",
    "con.close()\n",
    "```\n",
    "\n",
    "This is not too hard. We just run the `execute()` method on the connection object, passing the SQL query as an argument.\n",
    "\n",
    "The only mysterious part of the code snippet is the line `con.commit()`. If we were to omit this line, the changes would not be saved to the database. It's as if the `commit()` function is really the `simon_says()` function. If we don't say *Simon Says...*, nothing actually happens.\n",
    "\n",
    "The `commit()` function seems superflous but it exists for a very good reason. Suppose you have a savings and a checking account at a local bank. The bank stores account records in a SQL database. They have an *account_balances* table that contains the account balance of every account.\n",
    "* Now suppose that you try to transfer &dollar;100 from your checking account to your savings account.\n",
    "* This transfer requires two `UPDATE` queries. The first `UPDATE` query subtracts &dollar; 100 from your checking account balance. The second query adds &dollar; 100 to your savings account balance.\n",
    "* Suppose the first query, which decrements your checking account balance by &dollar; 100, runs just fine. But then there is a glitch, and the second `UPDATE` query throws an error and doesn't run.\n",
    "* You have just lost &dollar; 100. &dollar; 100 was subtracted from your checking account, but there was no corresponding increase in your savings account balance. That's bad.\n",
    "\n",
    "We want both queries to run with no errors. But if one query fails, it would be best if none of the queries run. Most of us would prefer that the transfer not happen at all over having &dollar;100 mysteriously dissapear from our checking account. The `commit()` function exists for this purpose. Consider the following code.\n",
    "\n",
    "```python\n",
    "subtract_query = \"\"\"\n",
    "    UPDATE balances\n",
    "       SET balance = balance - 100\n",
    "     WHERE user_id = '9876543'\n",
    "       AND account = 'checking';\"\"\"\n",
    "       \n",
    "add_query = \"\"\"\n",
    "    UPDATE balances\n",
    "       SET balance = balance + 100\n",
    "     WHERE user_id = '9876543'\n",
    "       AND account = 'savings';\"\"\"\n",
    "       \n",
    "con.execute(subtract_query)\n",
    "con.execute(add_query)\n",
    "con.commit()\n",
    "```\n",
    "\n",
    "The `con.commit()` method allows us to group SQL queries together. If either the `subtract_query` or `add_query` fail, execution will stop before the `con.commit()` method is run, and no changes will be saved to the database. A consequence of this is that you need to run `con.commit()` after you run one or more queries that update the database, or your updates will not be saved.\n",
    "\n",
    "A group of SQL statments that must be run as a group, with either all or none of the SQL statements being executed, is called a *transaction*. It is possible to configure *SQLite* to automatically commit every SQL query without calling `con.commit()`, but we're not going to do that.\n",
    "\n",
    "[Refer to the Python *sqlite3* documentatoin for additional information on the `.commit()` and `.rollback()` methods.](https://docs.python.org/3/library/sqlite3.html#connection-objects)"
   ]
  },
  {
   "cell_type": "markdown",
   "id": "3ac1cf28-056b-4c91-ad4c-b6b513db963e",
   "metadata": {},
   "source": [
    "### B. Using Cursors\n",
    "So far we've used two different techniques to run SQL queries on our *SQLite* database. We used *Pandas* `.read_sql_query()` for queries that return information and the *sqlite3* package's `.execute()` methods for queries that don't return any information. You may be wondering ... would we ever use the `.execute()` method for queries that do return information? The answer is yes, absolutely! But first, we need to learn about cursors.\n",
    "\n",
    "#### Cursor Etymology\n",
    "You already know about two kinds of cursors. Your computer mouse's cursor indicates the position on the screen that will be activated if you click the mouse's button. Word processors, text editors, and CLIs use a cursor to indicate the position at which text will be entered if you type characters on your keyboard. The word cursor comes from the Latin word *cursor*, which means runner or courier. Before computers were commonplace, the word cursor was [frequently used to describe the transparent slide on a slide rule](https://www.math.utah.edu/~alfeld/sliderules/) (see figure below). A slide rule cursor moves back and forth along the slide rule and has a vertical hariline that helps the users line up different scales on the slide rule. \n",
    "\n",
    "![Slide Rule](images/sliderule.jpg)\n",
    "\n",
    "#### Database Cursors\n",
    "In database programming, the word *cursor* has a special meaning. It refers to a software object that marks the current position within a set of database records that have been returned from a query. But enough talk -- let's look at an example."
   ]
  },
  {
   "cell_type": "code",
   "execution_count": null,
   "id": "60e84e45-d089-48ad-aab6-4facd7f1d51c",
   "metadata": {},
   "outputs": [],
   "source": [
    "# Using a cursor object\n",
    "query = \"\"\"SELECT team_number, team_name, city, state, year_founded FROM teams LIMIT 6;\"\"\"\n",
    "con = sqlite3.connect(wasno_db)\n",
    "cursor = con.cursor()\n",
    "cursor.execute(query)\n",
    "for record in cursor:\n",
    "    print(record)"
   ]
  },
  {
   "cell_type": "markdown",
   "id": "327bb371-775f-43b1-a4b7-726b9784fbb5",
   "metadata": {},
   "source": [
    "Here's what happened.\n",
    "1. First, we retrieved a cursor object by calling the `.cursor()` method of the *sqlite3* connection (`con`) object.\n",
    "2. We executed the query by calling the cursor's `.execute()` method.\n",
    "3. Finally, we iterated over the cursor and printed the results. Our `for` loop extracted one record at a time from the query results.\n",
    "\n",
    "Each record is a Python tuple that contains the record's fields. The fields are in the same order as the column order specified in the SQL query. If we had used the asterisk instead of explicitly naming the columns, the field order would have matched the order of the columns in the table's `CREATE` query. Individual fields can be extracted from the tuple using indexing notation:\n",
    "```python\n",
    "# Using Index Notation to Retrieve Fields\n",
    "\n",
    "# Get the team number\n",
    "team_number = record[0]\n",
    "# Get the city\n",
    "team_number = record[2]\n",
    "```\n",
    "\n",
    "There is an interesting thing about cursors. Suppose we want to loop over the query results again:"
   ]
  },
  {
   "cell_type": "code",
   "execution_count": null,
   "id": "6b371f68-6844-4d1c-817b-d80aac0986ef",
   "metadata": {},
   "outputs": [],
   "source": [
    "# Iterating again\n",
    "for record in cursor:\n",
    "    print(record)\n",
    "con.close()"
   ]
  },
  {
   "cell_type": "markdown",
   "id": "65678416-7f61-4776-9bcf-db09c1e593cf",
   "metadata": {},
   "source": [
    "No records were returned when we tried to iterate over the cursor a second time. That's because the cursor object does not contain the query results. Instead, it points to the query data in the database. Like a text cursor that indicates your current position within a document, the database cursor indicates the position within the database of the data we want to retrieve.\n",
    "\n",
    "Before the `for` loop, the cursor points to the first record of the query results. The first record is not retrieved from the database until we enter the `for` loop for the first time. On subsequent iterations of the `for` loop, the data in the `record` variable is overwritten with a new tuple containing the next record. After the final record is retrieved and the `for` loop is finished, the cursor is exhausted and points to the end of the query results.\n",
    "\n",
    "Other than re-running the query, there is no way to make the cursor move backwards and point to an earlier record or the first record. Either you save the record within the body of a `for` loop, or the record is lost forever (or until you re-run the query).\n",
    "\n",
    "#### Benefits of Using Cursors\n",
    "Why would the cursor object behave like this? Why can't we just get a data-structure that contains all the records and peruse it at our convenience, in whatever order we choose? It turns out there is a good reason the cursor behaves the way it does. The following code selects all records from the *measures* table using *Pandas* and a cursor object and compares the amount of memory used. It uses the [`sys.getsizeof()` function from the *Python Standard Library*](https://docs.python.org/3/library/sys.html#sys.getsizeof) to get the amount of memory in bytes required to store an object."
   ]
  },
  {
   "cell_type": "code",
   "execution_count": null,
   "id": "a14dce71-f5b1-4a11-aa9f-2b2fdc434b5c",
   "metadata": {},
   "outputs": [],
   "source": [
    "# Using a cursor object\n",
    "query = \"\"\"SELECT * FROM measures;\"\"\"\n",
    "\n",
    "# Run query using Pandas\n",
    "con = sqlite3.connect(wasno_db)\n",
    "measures = pd.read_sql_query(query, con)\n",
    "# Get amount of memory consumed by\n",
    "# measures dataframe \n",
    "df_bytes = sys.getsizeof(measures)\n",
    "\n",
    "# Run query using a cursor object\n",
    "cursor = con.cursor()\n",
    "cursor.execute(query)\n",
    "# Check amount of memory used by cursor and record at each\n",
    "# iteration of for loop. Keep track of maximum size.\n",
    "max_cursor_bytes = sys.getsizeof(cursor)\n",
    "for record in cursor:\n",
    "    max_cursor_bytes = max(max_cursor_bytes,\n",
    "                           sys.getsizeof(cursor) + sys.getsizeof(record))\n",
    "max_cursor_bytes = max(max_cursor_bytes,\n",
    "                           sys.getsizeof(cursor) + sys.getsizeof(record))\n",
    "\n",
    "# Display results\n",
    "print(f\"Bytes used by cursor: {max_cursor_bytes:,}\")\n",
    "print(f\"Bytes used by dataframe: {df_bytes:,}\")\n",
    "print(f\"Ratio of dataframe to cursor memory used: {int(df_bytes / max_cursor_bytes):,}\")\n",
    "con.close()"
   ]
  },
  {
   "cell_type": "markdown",
   "id": "da8fae44-2f4d-47ef-af18-2c79ac4d6e4a",
   "metadata": {},
   "source": [
    "Retrieving all of the data using *Pandas* uses over 4,000 times as much memory as using a cursor object! When we use the cursor object to retrieve data, we never hold more than one record in memory at a time, which means the cursor object uses minimal memory.\n",
    "\n",
    "The entire *measures* table requires about 1.5 Mb of memory, which is still quite small. Hundreds of megabytes to a Gigabyte are usually not a problem for 2021-era computers. The IRS's scouting data has always been small enough to fit in memory, so deciding between *Pandas* or *sqlite3's* cursor object is a matter of personal preference.\n",
    "\n",
    "Someday you might work with *really* big data. SQLite databases can contain many terabytes of information (max theoretical size of a *SQLite* database is 140 TB), so a table could easily take up dozens or hundreds of gigabytes. Such a table cannot be read into memory all at one time - the `pandas.read_sql_query()` method would crash. But with a cursor object, you could scan through the entire table one record at a time, analyze each record, and save the results of your analysis back to the database or to disk."
   ]
  },
  {
   "cell_type": "markdown",
   "id": "4870fbe4-1cd4-4baa-8760-bc7ad40fd287",
   "metadata": {},
   "source": [
    "#### Getting Column Names from the Cursor\n",
    "\n",
    "##### Using the `.description` Attribute\n",
    "Consider the following query."
   ]
  },
  {
   "cell_type": "code",
   "execution_count": null,
   "id": "76bf3069-813b-4307-8287-c4749cf72dcd",
   "metadata": {},
   "outputs": [],
   "source": [
    "# Using a cursor object\n",
    "query = \"\"\"SELECT * FROM measures LIMIT 1;\"\"\"\n",
    "con = sqlite3.connect(wasno_db)\n",
    "cursor = con.cursor()\n",
    "cursor.execute(query)\n",
    "for record in cursor:\n",
    "    print(record)\n",
    "con.close()"
   ]
  },
  {
   "cell_type": "markdown",
   "id": "d319ad3e-e11e-4c76-9694-25468f9d4b9d",
   "metadata": {},
   "source": [
    "We used an asterisk in the `SELECT` statement to get all columns from the *measures* table. The *measures* table has a lot of columns, and it's not easy to determine which columns are which. The order of the values within the tuple is the same order in which the columns were listed in the `CREATE` SQL statement that was used to create the *measures* table. We could run another SQL query to get the column names (see section III), but the *sqlite3* cursor object provides an easier way. Just access the `.description` attribute on the cursor object."
   ]
  },
  {
   "cell_type": "code",
   "execution_count": null,
   "id": "1a637391-e493-4d5b-bb5b-5b29898ee1e3",
   "metadata": {},
   "outputs": [],
   "source": [
    "# Get column names\n",
    "cursor.description"
   ]
  },
  {
   "cell_type": "markdown",
   "id": "805e6ef0-4b59-417d-aa07-3cec41c5f67d",
   "metadata": {},
   "source": [
    "The `.description` attribute returns a tuple of tuples. Each inner tuple represents a column from the query results. The inner tuples will always have seven elements, with the first element containing the column name and the remaining six elements always containing the `None` object. The reason for the `.description` attribute's odd structure is that it needs to be compatible with other (non-*SQLite*) database systems. Other database systems presumeably return information in addition to the column name.\n",
    "\n",
    "The `.description` attribute can easily be converted to a simple list of column names with a list comprehension."
   ]
  },
  {
   "cell_type": "code",
   "execution_count": null,
   "id": "314de659-2c67-4c3d-bc73-0b58c4e66ce8",
   "metadata": {},
   "outputs": [],
   "source": [
    "# Getting a Simple List of Column Namesf\n",
    "col_names = [col[0] for col in cursor.description]\n",
    "print(col_names)"
   ]
  },
  {
   "cell_type": "markdown",
   "id": "c2164ce3-06c8-4df8-8f34-bcea5d96fa03",
   "metadata": {},
   "source": [
    "##### Using Row Factories\n",
    "Row factories are a sqlite3 alternative to the `.description` attribute. Setting the `.row_factory` property of the `sqlite3.connection` object to `sqlite3.Row` causes the cursors to return named tuples. With named tuples, we can extract values from fields using `row['coname']` syntax."
   ]
  },
  {
   "cell_type": "code",
   "execution_count": null,
   "id": "7d953946-879a-4bed-9c61-43ef4f37bda1",
   "metadata": {},
   "outputs": [],
   "source": [
    "# Accessing Fields with Column Names Using a Row Factory\n",
    "con_colnames = sqlite3.connect(wasno_db)\n",
    "con_colnames.row_factory = sqlite3.Row\n",
    "\n",
    "# Run the query\n",
    "query = \"\"\"SELECT * FROM measures;\"\"\"\n",
    "cursor = con_colnames.execute(query)\n",
    "\n",
    "# Retrieve the first results row\n",
    "row = cursor.fetchone()\n",
    "\n",
    "print(\"Each row works like a Python dictionary, with column names as keys.\")\n",
    "print()\n",
    "print(\"Column Names\")\n",
    "print(row.keys())\n",
    "print()\n",
    "print(\"Example of retrieving fields with column names\")\n",
    "print(f\"Team: {row['team']}, Match: {row['match']}, Date: {row['date']}\")\n",
    "con_colnames.close()"
   ]
  },
  {
   "cell_type": "markdown",
   "id": "b8f2ae5a-13e2-4f1a-9311-304c6c7a89ac",
   "metadata": {},
   "source": [
    "#### Cursor Shortcuts\n",
    "So far, we've been explicitly creating cursor objects with the statement `cursor = con.cursor`. The *sqlite3* package provides a shortcut. If we call the `.execute()` method directly from the connection object, the `.execute()` method will execute the query and return a cursor object. This allows us to eleminate the statement that creates the cursor. An example is provided below."
   ]
  },
  {
   "cell_type": "code",
   "execution_count": null,
   "id": "6b6c20ea-2c30-42d3-b92f-d686ae9203d6",
   "metadata": {},
   "outputs": [],
   "source": [
    "# Cursor Shortcut - Calling Execute from Connection Object\n",
    "# This style eliminates one statement\n",
    "query = \"\"\"SELECT team_number, team_name, city, state, year_founded FROM teams LIMIT 6;\"\"\"\n",
    "con = sqlite3.connect(wasno_db)\n",
    "cursor = con.execute(query)\n",
    "for record in cursor:\n",
    "    print(record)\n",
    "con.close()"
   ]
  },
  {
   "cell_type": "markdown",
   "id": "3fff8e30-105f-4746-a9ff-e39d6213de17",
   "metadata": {},
   "source": [
    "We can use an even shorter sytax if desired."
   ]
  },
  {
   "cell_type": "code",
   "execution_count": null,
   "id": "ed43976e-45a0-4135-9463-c5fc21f1c965",
   "metadata": {},
   "outputs": [],
   "source": [
    "# Cursor Shortcut - Calling Execute from Connection Object\n",
    "# This style eliminates two statements!\n",
    "query = \"\"\"SELECT team_number, team_name, city, state, year_founded FROM teams LIMIT 6;\"\"\"\n",
    "con = sqlite3.connect(wasno_db)\n",
    "for record in con.execute(query):\n",
    "    print(record)\n",
    "con.close()"
   ]
  },
  {
   "cell_type": "markdown",
   "id": "1778e4c3-b066-4e38-9bac-4d78236e81c1",
   "metadata": {},
   "source": [
    "The final example is short and easy to understand. Which style you use is a matter of personal preference. Note that in the final example, it's not possiblel to get the column names from the cursor object because the cursor object is never saved to its own variable."
   ]
  },
  {
   "cell_type": "markdown",
   "id": "87712f8c-2c65-4bdf-bd1d-31568078bdbe",
   "metadata": {},
   "source": [
    "#### Cursor Methods\n",
    "We've seen how we can iterate over a sqlite3 cursor object with a `for` loop or a loop comprehension. We can also use one of the cursor object's methods to retrieve data. First, let's run a query and get a cursor object."
   ]
  },
  {
   "cell_type": "code",
   "execution_count": null,
   "id": "334746f4-1b2a-4b7d-ad68-74900300d134",
   "metadata": {},
   "outputs": [],
   "source": [
    "query = \"\"\"\n",
    "    SELECT Name, Title\n",
    "      FROM Album\n",
    "INNER JOIN Artist ON Album.ArtistId = Artist.ArtistId\n",
    "  ORDER BY Name;\n",
    "\"\"\"\n",
    "con = sqlite3.connect(chinook_db)\n",
    "cursor = con.cursor()\n",
    "cursor.execute(query)"
   ]
  },
  {
   "cell_type": "markdown",
   "id": "2b8465fb-7593-4f2e-a2b9-22ee7dd8867f",
   "metadata": {},
   "source": [
    "##### `.fetchone()`\n",
    "The `.fetchone()` method retreives the next record from the cursor object. It's especially useful when retrieving a single record from the database, like `SELECT COUNT(*) FROM Some_Table;`, but can be used with multi-record results too."
   ]
  },
  {
   "cell_type": "code",
   "execution_count": null,
   "id": "24b982f8-7b6e-45ba-b6f9-11c68bf1aeff",
   "metadata": {},
   "outputs": [],
   "source": [
    "# Use .fetchone() to fetch one record at a time\n",
    "# Fetch a record\n",
    "print(cursor.fetchone())\n",
    "\n",
    "# Fetch another record\n",
    "tuple(cursor.fetchone())"
   ]
  },
  {
   "cell_type": "markdown",
   "id": "4d030ec4-6389-43df-9234-3200766f6b2b",
   "metadata": {},
   "source": [
    "##### `.fetchmany()`\n",
    "The `.fetchmany()` method retreives however many records are specified in it's argument."
   ]
  },
  {
   "cell_type": "code",
   "execution_count": null,
   "id": "30c0cc82-82f0-4a70-93ac-079049b71d7b",
   "metadata": {},
   "outputs": [],
   "source": [
    "# Use .fetchmany()` to get a specified number of records\n",
    "print(cursor.fetchmany(3))"
   ]
  },
  {
   "cell_type": "markdown",
   "id": "338bbfe3-450e-4f4e-9eda-3cd2da4ced41",
   "metadata": {},
   "source": [
    "##### `.fetchall()`\n",
    "The `.fetchall()` method gets all remaining records from the cursor as a Python list. Be careful with this method. It's possible to return so many records that your computer runs out of memory."
   ]
  },
  {
   "cell_type": "code",
   "execution_count": null,
   "id": "888d8d3e-fc2c-43da-827c-0f24a34095a8",
   "metadata": {},
   "outputs": [],
   "source": [
    "# Use .fetchall() to get all remaining records\n",
    "remaining_albums = cursor.fetchall()\n",
    "cursor.close()\n",
    "print(\"Number of records returned:\", len(remaining_albums))\n",
    "print(\"\\nFirst five records:\")\n",
    "print(remaining_albums[:5])"
   ]
  },
  {
   "cell_type": "markdown",
   "id": "b86c3f9a-dd08-4587-b5bd-ecc8b82cd2c3",
   "metadata": {},
   "source": [
    "### C. Exercises 12 - 16"
   ]
  },
  {
   "cell_type": "markdown",
   "id": "e71f4e8d-1409-4400-9369-a5980460efaa",
   "metadata": {},
   "source": [
    "#### Ex. #12\n",
    "Using a cursor object and a `for` loop, build a list of all team numbers that completed ten or more outer goals in any match during teleop. Ensure there are no repeated values in the list.\n",
    "\n",
    "Hints:\n",
    "* Use the *task*, *phase*, and *successes* columns from the *Measures* table.\n",
    "* The task name for outer goals is 'launchOuter' and the phase name for telop is 'teleop'.\n",
    "* Your list shold contain seven teams."
   ]
  },
  {
   "cell_type": "code",
   "execution_count": null,
   "id": "a9d66b9b-1cb7-459b-8169-d1c5b976c873",
   "metadata": {},
   "outputs": [],
   "source": [
    "# Ex #12\n",
    "\n"
   ]
  },
  {
   "cell_type": "markdown",
   "id": "455142c4-44dc-4dd6-9b6c-28c9d4eed6ee",
   "metadata": {},
   "source": [
    "#### Ex. #13\n",
    "Use the same query to generate the same list of teams as in exercise #12. But instead of using a `for` loop, use a list comprehension."
   ]
  },
  {
   "cell_type": "code",
   "execution_count": null,
   "id": "e2b80212-a6a0-451f-bd65-f590ac0502ff",
   "metadata": {},
   "outputs": [],
   "source": [
    "# Ex. #13\n",
    "\n"
   ]
  },
  {
   "cell_type": "markdown",
   "id": "abefb254-89d8-4ce2-94c7-30459cf1bb4e",
   "metadata": {},
   "source": [
    "#### Ex. #14\n",
    "Add a join to the query you used in exercises 12 and 13 so you can generate a list of tuples. Each tuple will contain both the team number and team name for all teams that scored 10 or more outer goals in teleop during a single match"
   ]
  },
  {
   "cell_type": "code",
   "execution_count": null,
   "id": "5e9af976-7e10-4724-8f56-e249edee568f",
   "metadata": {},
   "outputs": [],
   "source": [
    "# Ex. #14\n",
    "\n"
   ]
  },
  {
   "cell_type": "markdown",
   "id": "714eca23-f398-43b3-aab6-b70c91120aef",
   "metadata": {},
   "source": [
    "#### Ex. #15\n",
    "Use the `.backup()` method of sqlite3's `Connection` object to copy the Chinook database into memory. Get a connection to in-memory instance of the Chinook database for use in exercise #16, #18, and #20."
   ]
  },
  {
   "cell_type": "code",
   "execution_count": null,
   "id": "8b0ab4de-8535-439a-965a-e49acca1b35f",
   "metadata": {},
   "outputs": [],
   "source": [
    "# Ex. #16\n",
    "\n"
   ]
  },
  {
   "cell_type": "markdown",
   "id": "277b21b1-5a19-4213-b4b5-59d5c575344b",
   "metadata": {},
   "source": [
    "#### Ex. #16\n",
    "Use an INSERT query to insert yourself into the *Employee* table of the Chinook music store.\n",
    "* Use the connection to the in-memory database tht you created in exercise #15.\n",
    "* Your title should be Chief Technical Officer and you should report directly to the general manager.\n",
    "* Use the `.lastrowid` attribute of the `cursor` object to get the primary key for the new record.\n",
    "* Write a parameterized SELECT query that uses the value from the `.lastrowid` attribute to display the record you just entered into the *Employee* table."
   ]
  },
  {
   "cell_type": "markdown",
   "id": "1d6efec7-868b-4b4b-80ec-d2b2ef522265",
   "metadata": {},
   "source": [
    "* Identify the primary keys in the Invoice table\n",
    "* Multi-table join using invoices\n",
    "* Execute Many\n",
    "* fetchmany returns None"
   ]
  },
  {
   "cell_type": "markdown",
   "id": "fcade3d6-219d-4508-8675-2d8d1d292b78",
   "metadata": {},
   "source": [
    "## V. Exercises 17 - 20"
   ]
  },
  {
   "cell_type": "markdown",
   "id": "16eda4e5-a5e6-4fd5-95a2-989892796cba",
   "metadata": {},
   "source": [
    "#### Ex. #17\n",
    "How many foreign key fields are in the Chinook database's *Track* table? What are they?"
   ]
  },
  {
   "cell_type": "code",
   "execution_count": null,
   "id": "29c04695-e23e-412e-b968-e0cfa4cc2c63",
   "metadata": {},
   "outputs": [],
   "source": [
    "# Ex. #17\n",
    "#\n",
    "#"
   ]
  },
  {
   "cell_type": "markdown",
   "id": "a89a498d-bd45-40ad-8b6c-9a545bd3beed",
   "metadata": {},
   "source": [
    "#### Ex. #18\n",
    "Using the Chinook database's *Track* table as one of the tables, construct a SELECT query with a multi-table join.\n",
    "* Use the join to replace every foreign key with a descriptive column from the linked table.\n",
    "* The result should be a table of all tracks (and no foreign keys).\n",
    "* Order the table by the name of the track."
   ]
  },
  {
   "cell_type": "code",
   "execution_count": null,
   "id": "26738c41-afb5-4b02-8c48-129f9755b2f2",
   "metadata": {},
   "outputs": [],
   "source": [
    "# Ex. # 18\n",
    "\n"
   ]
  },
  {
   "cell_type": "markdown",
   "id": "4609b98b-0014-4348-8e49-b0e60065ae5d",
   "metadata": {},
   "source": [
    "#### Ex. #18\n",
    "Write a function that uses a parameterized INSERT query.\n",
    "* Use the connection to the in-memory Chinook database that you created in exercise #15, so you don't alter the Chinook database file.\n",
    "* The function should accept customer data as arguments and insert a new record into the in-memory Chinook database's *Customer* table.\n",
    "* The function should return the *CustomerId* of the inserted record."
   ]
  },
  {
   "cell_type": "code",
   "execution_count": null,
   "id": "e00c90ab-bc5f-419f-aaad-590467f43e0b",
   "metadata": {},
   "outputs": [],
   "source": [
    "# Ex #18\n",
    "\n"
   ]
  },
  {
   "cell_type": "markdown",
   "id": "8dcd9aec-23c1-47a8-a9c0-28bcd2d1a27f",
   "metadata": {},
   "source": [
    "#### Ex. #19\n",
    "What does the `.fetchmany()` method return if there are no records left in the cursor object? What do the `.fetchmany()` and `.fetchall()` methods return if no records are left?\n",
    "\n",
    "Don't guess. Look up the answers in the [sqlite3 package's documentation](https://docs.python.org/3/library/sqlite3.html)."
   ]
  },
  {
   "cell_type": "code",
   "execution_count": null,
   "id": "bffa0834-0b2d-41a7-8cbf-a06d40935039",
   "metadata": {},
   "outputs": [],
   "source": [
    "# Ex #19\n",
    "#\n",
    "#"
   ]
  },
  {
   "cell_type": "markdown",
   "id": "625589c5-991c-4980-bcc0-29a1778368b6",
   "metadata": {},
   "source": [
    "#### Ex. #20\n",
    "Use sqlite3's `.executemany()` function to enter the following artists into the Chinook database's *Artist* table. These are real artists.\n",
    "* Ayron Jones\n",
    "* The Blacktones\n",
    "* Deep Sea Diver\n",
    "* Pickwick\n",
    "* Tacocat\n",
    "\n",
    "Instructions:\n",
    "* Use the connection to the in-memory Chinook datbase you created in exercise #15.\n",
    "* The `.executemany()` function has not been covered in this notebook. Figure out how to use it be reading about it in the [sqlite3 package's documentation](https://docs.python.org/3/library/sqlite3.html).\n",
    "* You must include a comma when creating length-one tuples, e.g., `my_tuple = (1, )`."
   ]
  },
  {
   "cell_type": "code",
   "execution_count": null,
   "id": "b32eda7a-975a-4e8e-b949-4ef71d823472",
   "metadata": {},
   "outputs": [],
   "source": [
    "# Ex. #20\n",
    "\n"
   ]
  },
  {
   "cell_type": "markdown",
   "id": "e7f65acf-f122-4289-90fb-2ae212298c77",
   "metadata": {},
   "source": [
    "## VI. Save Your Work\n",
    "Once you have completed the exercises, save a copy of the notebook outside of the git repository (outside of the *pyclass_frc* folder). Include your name in the file name. Send the notebook file to another student to check your answers."
   ]
  },
  {
   "cell_type": "markdown",
   "id": "dfe0d5ba-5d9f-4c88-9e97-375a6918b4ea",
   "metadata": {},
   "source": [
    "## VII. Concept and Terminology Review\n",
    "You should be able to define the following terms or describe the concept. \n",
    "* `LEFT JOIN`\n",
    "* `INNER JOIN`\n",
    "* `ON`\n",
    "* RIGHT JOIN\n",
    "* OUTER JOIN\n",
    "* Cross Join\n",
    "* Cartesian Product\n",
    "* Self Join\n",
    "* Primary Key\n",
    "* Foreign Key\n",
    "* One to One\n",
    "* Many to One\n",
    "* Many to Many\n",
    "* Schema\n",
    "* INSERT\n",
    "* UPDATE\n",
    "* DELETE\n",
    "* Parameterized Queries\n",
    "* Question mark style Parameterized Query\n",
    "* Named style parameterized query\n",
    "* SQL Injection Attack\n",
    "* `.connect()`\n",
    "* `.execute()`\n",
    "* `.executemany()`\n",
    "* `.commit()`\n",
    "* `.cursor()`\n",
    "* `.lastrowid`\n",
    "* `.row_factory`\n",
    "* `.fetchone()`\n",
    "* `.fetchmany()`\n",
    "* `.fetchall()`\n"
   ]
  },
  {
   "cell_type": "markdown",
   "id": "feac7634-e6c7-4464-a4d8-00ca4eb74bac",
   "metadata": {},
   "source": [
    "[Table of Contents](../../index.ipynb)"
   ]
  }
 ],
 "metadata": {
  "kernelspec": {
   "display_name": "Python 3 (ipykernel)",
   "language": "python",
   "name": "python3"
  },
  "language_info": {
   "codemirror_mode": {
    "name": "ipython",
    "version": 3
   },
   "file_extension": ".py",
   "mimetype": "text/x-python",
   "name": "python",
   "nbconvert_exporter": "python",
   "pygments_lexer": "ipython3",
   "version": "3.9.7"
  },
  "toc-autonumbering": false
 },
 "nbformat": 4,
 "nbformat_minor": 5
}
