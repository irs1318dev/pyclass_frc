{
 "cells": [
  {
   "cell_type": "markdown",
   "metadata": {},
   "source": [
    "[Table of Contents](../../index.ipynb)"
   ]
  },
  {
   "cell_type": "markdown",
   "metadata": {},
   "source": [
    "# FRC Analytics with Python - Session 02\n",
    "# Data Types Part I\n",
    "**Last Updated: 24 Aug 2020**\n",
    "\n",
    "In session 01 we used Python to manipulate numbers and strings (i.e., text). Python can manipulate many other kinds of data as well. But there is an important concept we must understand before we move on: **data types**."
   ]
  },
  {
   "cell_type": "markdown",
   "metadata": {},
   "source": [
    "## I. Some Advice\n",
    "![Why does it work?](images/why_it_works_cartoon.png)\n",
    "\n",
    "It is at least as important to understand *why code works* as it is important to understand why it doesn't work. Spend some time thinking about the examples and exercises and why they work. Experiment by making modifications to the code. When it comes to code, every character, every symbol, and even many of the blank spaces are there for a reason.\n",
    "\n",
    "Some things can be best explained by flipping the logic. What if you didn't care if you ever used Python to do anything useful? Here are a few ways to ensure that this course is a waste of your time.\n",
    "\n",
    "1. Don't establish a routine for learning Python. Make sure at least two weeks elapse between sessions, so you can forget all of the old material before attempting anything new.\n",
    "2. Comprehension is overrated - go ahead and speed read the explanations and documentation.\n",
    "3. If the code works, don't ask yourself why it worked this time and didn't work last time. Just move on.\n",
    "4. Use copy and paste as much as you can. Don't practice the details of syntax by typing code by hand.\n",
    "5. Minimize mental effort. Immediately look up the answer to an exercise if the solution is not obvious.\n",
    "6. Avoid reading official documentation like the plague.\n",
    "7. Don't ever look at anyone else's code to see how they approached a problem.\n",
    "8. Don't talk about concepts or exercises with other students or mentors. Assume you are on your own if you get stuck.\n",
    "9. Don't try anything that's not mentioned in this course. Assume your computer will burst into flames if you do.\n",
    "10. Don't be curious and never ask why."
   ]
  },
  {
   "cell_type": "markdown",
   "metadata": {},
   "source": [
    "## II. A Refresher on Functions\n",
    "Remember how in session 01 we used `print()` to make Python display things, and we used `round()` to round decimal numbers to an integer? How about `len()` for finding out how many characters are in a string? These items are functions. \n",
    "\n",
    "We pass data to the function by placing the data in the parenthesis that follow the function name. The values that we pass to functions inside the parenthesis are called arguments.\n",
    "\n",
    "### Return Values\n",
    "In addition to sending values to functions as arguments, we can also get values *from* methods and functions. Check out the example below."
   ]
  },
  {
   "cell_type": "code",
   "execution_count": null,
   "metadata": {},
   "outputs": [],
   "source": [
    "# Returning a value from a function\n",
    "title = \"Farenheit 451\"\n",
    "num_chars = len(title)\n",
    "num_chars"
   ]
  },
  {
   "cell_type": "markdown",
   "metadata": {},
   "source": [
    "The `len()` function gave us a value, which we assigned to a variable. In programming we generally say that a function *returns* a value. The value that is returned is often called the *return value*. Not all functions return values."
   ]
  },
  {
   "cell_type": "markdown",
   "metadata": {},
   "source": [
    "## III. Basic Data Types and the `type()` Function\n",
    "It's time to add a new function to our repertoire: `type()`."
   ]
  },
  {
   "cell_type": "code",
   "execution_count": null,
   "metadata": {},
   "outputs": [],
   "source": [
    "# What happens if we pass an integer to type()?\n",
    "type(5)"
   ]
  },
  {
   "cell_type": "code",
   "execution_count": null,
   "metadata": {},
   "outputs": [],
   "source": [
    "# What if we pass a different integer?\n",
    "type(-247)"
   ]
  },
  {
   "cell_type": "markdown",
   "metadata": {},
   "source": [
    "### A. Integers\n",
    "The `type()` function determines the data type of whatever value is placed in the parenthesis. For integers like 5 or -247, `type()` tells us that the value's data type is *int*, which is short for integer. Python integers can be positive or negative, and one of the great things about Python is that integers can be arbitrarily large. Their size is limited only by the amount of memory in your computer. I'll prove it. Run the next cell."
   ]
  },
  {
   "cell_type": "code",
   "execution_count": null,
   "metadata": {},
   "outputs": [],
   "source": [
    "365**365"
   ]
  },
  {
   "cell_type": "markdown",
   "metadata": {},
   "source": [
    "Ha! Try that in *Excel*! Unless the answer to the problem you are trying to solve is *#NUM!*, you will be disappointed.\n",
    "\n",
    "### B. Floats\n",
    "What happens if we pass a real number with digits to the right of the decimal point?"
   ]
  },
  {
   "cell_type": "code",
   "execution_count": null,
   "metadata": {},
   "outputs": [],
   "source": [
    "# How about a number with digits to the right of the decimal point?\n",
    "type(6.0221409)"
   ]
  },
  {
   "cell_type": "markdown",
   "metadata": {},
   "source": [
    "The data type *float* refers to *floating point arithmetic*, which is the mechanism computers use to represent non-integer real numbers in binary."
   ]
  },
  {
   "cell_type": "code",
   "execution_count": null,
   "metadata": {},
   "outputs": [],
   "source": [
    "# What data type is this?\n",
    "type(5.0)"
   ]
  },
  {
   "cell_type": "markdown",
   "metadata": {},
   "source": [
    "Python assumes that the `5.0` should be a float, even though it's equivalent to an integer from a mathematical perspective.\n",
    "\n",
    "Floats can be written in scientific notation>"
   ]
  },
  {
   "cell_type": "code",
   "execution_count": null,
   "metadata": {},
   "outputs": [],
   "source": [
    "G = 6.67408e-11\n",
    "h = 6.62607004E-34\n",
    "print(\"Gravity constant:\", G)\n",
    "print(\"Planck's constant:\", h)"
   ]
  },
  {
   "cell_type": "markdown",
   "metadata": {},
   "source": [
    "What happens if we mix data types in an equation?"
   ]
  },
  {
   "cell_type": "code",
   "execution_count": null,
   "metadata": {},
   "outputs": [],
   "source": [
    "# Add integer to a float\n",
    "int_5 = 5\n",
    "float_5 = 5.0\n",
    "\n",
    "print(int_5 + float_5)\n",
    "type(int_5 + float_5)"
   ]
  },
  {
   "cell_type": "markdown",
   "metadata": {},
   "source": [
    "Python has no trouble adding a float to an integer, but the result is a float. It makes sense if you think about it. The float could have a fractional part. If we added such a float to an integer and then converted the result to an integer, we would lose the fractional part of the sum. In general, Python will choose the data type that has greater precision. A float has more precision than an integer because it includes fractional values."
   ]
  },
  {
   "cell_type": "markdown",
   "metadata": {},
   "source": [
    "### C. Strings\n",
    "By now, you can likely guess what will happen if we pass a string to `type()`."
   ]
  },
  {
   "cell_type": "code",
   "execution_count": null,
   "metadata": {},
   "outputs": [],
   "source": [
    "# Sending text to type()\n",
    "type('Water Game')"
   ]
  },
  {
   "cell_type": "markdown",
   "metadata": {},
   "source": [
    "No big surprise - the data type for strings is *str*.\n",
    "\n",
    "What happens if we try to use a string in an equation?"
   ]
  },
  {
   "cell_type": "code",
   "execution_count": null,
   "metadata": {},
   "outputs": [],
   "source": [
    "# Add integer to a string\n",
    "int_6 = 6\n",
    "str_6 = '6'\n",
    "\n",
    "print(int_6 + str_6)\n",
    "type(int_y + str_6)"
   ]
  },
  {
   "cell_type": "markdown",
   "metadata": {},
   "source": [
    "Whoa. Python didn't like that at all. The `+` operation is not defined for an integer and a string. There is a good reason. In this example our string represents a number. But a string could also be a word. What does `6 + robot` even mean?\n",
    "\n",
    "It's for the best if Python just throws a type error. If you are trying to add 6 and '6', you are probably doing something you shouldn't be doing."
   ]
  },
  {
   "cell_type": "markdown",
   "metadata": {},
   "source": [
    "## IV. Type Conversions\n",
    "Each of these data types has its own built in function.\n",
    "* `int()`\n",
    "* `float()`\n",
    "* `str()`\n",
    "\n",
    "We will start with `int()`."
   ]
  },
  {
   "cell_type": "code",
   "execution_count": null,
   "metadata": {},
   "outputs": [],
   "source": [
    "# Converting a float to an integer\n",
    "floatvar = 7.5\n",
    "print(float_7, ':', type(float_7))\n",
    "newvar = int(floatvar)\n",
    "print(newvar, ':', type(newvar))"
   ]
  },
  {
   "cell_type": "markdown",
   "metadata": {},
   "source": [
    "The `int()` function converts whatever is passed to it to an integer. Remember when we caused an error in the last session by trying to add an integer and a string? The `int()` function will let us do that, but with some limitations."
   ]
  },
  {
   "cell_type": "code",
   "execution_count": null,
   "metadata": {},
   "outputs": [],
   "source": [
    "# Adding an integer and a string.\n",
    "13 + int('18')"
   ]
  },
  {
   "cell_type": "markdown",
   "metadata": {},
   "source": [
    "If we pass the string `'18'` to `int()` then the addition proceeds just fine. The caveat is the string has to represent an integer, otherwise `int()` will throw an error."
   ]
  },
  {
   "cell_type": "code",
   "execution_count": null,
   "metadata": {},
   "outputs": [],
   "source": [
    "# Attempting to convert a string with non-digit characters causes a Value Error\n",
    "int('18b')"
   ]
  },
  {
   "cell_type": "code",
   "execution_count": null,
   "metadata": {},
   "outputs": [],
   "source": [
    "# Attempting to convert a number that is not an integer causes a Value Error\n",
    "int('3.14')"
   ]
  },
  {
   "cell_type": "code",
   "execution_count": null,
   "metadata": {},
   "outputs": [],
   "source": [
    "# Use float to convert non-integer numbers\n",
    "5.5 + float('7.5')"
   ]
  },
  {
   "cell_type": "markdown",
   "metadata": {},
   "source": [
    "Read the following line of code before you run it. What will it do? Then run the code to find out."
   ]
  },
  {
   "cell_type": "code",
   "execution_count": null,
   "metadata": {},
   "outputs": [],
   "source": [
    "# Read this and predict the result before you run it.\n",
    "str(13) + \"18\""
   ]
  },
  {
   "cell_type": "markdown",
   "metadata": {},
   "source": [
    "1. The `str()` function converted the integer `13` to a string.\n",
    "2. The `+` operator works just fine on two strings. But instead of performing mathematical addition, it performs *string concatenation*, which is a fancy way of saying it joins the two strings together."
   ]
  },
  {
   "cell_type": "markdown",
   "metadata": {},
   "source": [
    "### Type Conversion Exercises\n",
    "\n",
    "**Ex IV.1.** \n",
    "Check out the [quarterfinals match results](https://www.thebluealliance.com/match/2020wasno_qf2m1) from the 2020 Pacific Northwest district competition at Glacier Peak H.S. Snohomish, WA. In this game, which is called *Infinite Recharge*, teams score points by shooting power cells (i.e., yellow balls) into either the lower port, the outer port, or the small inner port. [Watch the match video](https://youtu.be/J3XYsLmXf0I) to see for yourself. Watch [this video for an overview of game rules.](https://youtu.be/gmiYWTmFRVE)\n",
    "\n",
    "The game has two phases. During the first 15 seconds the robots are autonomous, meaning they are under computer control and humans are not allowed to touch the robot controls. The remainder of the match is the teleop period -- humans are allowed to control the robots during this period.\n",
    "\n",
    "Inspect the [match results table.](https://www.thebluealliance.com/match/2020wasno_qf2m1) Figure out how many lower, inner, and outer power cells were scored by both the red and blue alliances during the teleop phase. To find this, look for the *Teleop Power Cells* row in the table. Lower-port goals are marked by a rectangle, outer port goals are marked by a hexagon, and inner-port goals are marked by a circle. Calculate the total number of teleop power cell points for each alliance using data you found in the match results table and the three variables below. You will have to convert the data types to complete the calculation. Save the results for each alliance to a variable."
   ]
  },
  {
   "cell_type": "code",
   "execution_count": null,
   "metadata": {},
   "outputs": [],
   "source": [
    "# Ex IV.1\n",
    "# Points for scoring power cells in teleop phase.\n",
    "inner_port_points_tele = \"3\"\n",
    "outer_port_points_tele = \"2\"\n",
    "lower_port_points_tele = \"1\""
   ]
  },
  {
   "cell_type": "markdown",
   "metadata": {},
   "source": [
    "**Ex IV.2** The rules for power cell points in the autonomous phase are the same as in teleop, except that the points are doubled. From the match results table, determine how many lower-port, outer-port, and inner-port goals were scored by both the red and blue alliance during the autonomous phase. Save the results for each alliance to a variable."
   ]
  },
  {
   "cell_type": "code",
   "execution_count": null,
   "metadata": {},
   "outputs": [],
   "source": [
    "# Ex IV.2\n",
    "\n"
   ]
  },
  {
   "cell_type": "markdown",
   "metadata": {},
   "source": [
    "**Ex IV.3** Using the variables you created in exercises IV.1 and IV.2, concatenate strings and use print statements to generate the following output in Python, where u, v, x, and y are the point values calculated in exercises IV.1 and IV.2. There should be three `print()` statements, one for each row of output. Concatenate strings to generate each row. You will need to convert the integer point values to strings.\n",
    "\n",
    "```bash\n",
    "                Autonomous     Teleop\n",
    "Blue Alliance:  u              v\n",
    "Red Alliance:   x              y\n",
    "```"
   ]
  },
  {
   "cell_type": "code",
   "execution_count": null,
   "metadata": {},
   "outputs": [],
   "source": [
    "# Ex IV.3\n",
    "\n"
   ]
  },
  {
   "cell_type": "markdown",
   "metadata": {},
   "source": [
    "## V. Objects and Methods\n",
    "Consider the following code cell."
   ]
  },
  {
   "cell_type": "code",
   "execution_count": null,
   "metadata": {},
   "outputs": [],
   "source": [
    "# Method Example\n",
    "str1 = 'this text is upper case.'\n",
    "str1.upper()"
   ]
  },
  {
   "cell_type": "markdown",
   "metadata": {},
   "source": [
    "We appear to have converted the text in the *str1* variable to upper case. We used something that looks like a function `upper()` to do the conversion, but we used it differently than we use other functions. For example, if we want to know the length of a string, we just type the function name `len`, add some parentheses to it, and put the string variable inside the parenthesis, like so:"
   ]
  },
  {
   "cell_type": "code",
   "execution_count": null,
   "metadata": {},
   "outputs": [],
   "source": [
    "# Get the length of a sting\n",
    "len(str1)"
   ]
  },
  {
   "cell_type": "markdown",
   "metadata": {},
   "source": [
    "So why don't we convert *str1* to upper case like this?\n",
    "```Python\n",
    "upper(str1)\n",
    "```\n",
    "\n",
    "First of all, trying to convert an integer or float to upper case makes no sense. Converting a variable to upper case only makes sense if the variable is a string. The designers of Python wanted `upper()` to only apply to strings, so they designed `upper()` as a **method**, not a function. Methods are different because they must be called on objects. In the case of the `upper()` method, we must have a string object before we can call it.\n",
    "\n",
    "We will now take a short break from discussing methods so we can discuss objects. What's an object? Everything! Integers are objects. Strings are objects. Everything that can be assigned to a variable is an object. The concept of an object is different than the concept of a data type. Consider the following code cell:"
   ]
  },
  {
   "cell_type": "code",
   "execution_count": null,
   "metadata": {},
   "outputs": [],
   "source": [
    "# Objects have unique IDs\n",
    "var1 = 1318\n",
    "var2 = 1318\n",
    "print(type(var1))\n",
    "print(type(var2))\n",
    "print(id(var1))\n",
    "print(id(var2))"
   ]
  },
  {
   "cell_type": "markdown",
   "metadata": {},
   "source": [
    "Every object in Python is assigned a unique identification (ID) number. As an analyst, you will rarely, if ever, need to work with Python's object ID numbers. But Python provides a built-in `id()` function that will return the ID number, in case you want to see it. Now consider the code above. We created two variables, each holding the same integer value. But we got two different ID values when we passed them to `id()`. This means Python created two different copies of *1318* in memory. \n",
    "* *var1* and *var2* are the same data type: int\n",
    "* *var1* and *var2* have the same value: 1318\n",
    "* But *var1* and *var2* are different objects, as indicated by the two different ID values.\n",
    "\n",
    "Now back to methods. They key point is that we can't call a method without an object. We can call a function like `print()` all day long without an object (calling `print()` without parameters displays a blank line). But methods are different.\n",
    "\n",
    "When we called `upper()`, we called it on a string object. In terms of syntax, we typed the string variable name, *str1*, typed a period, and then typed `upper()`. The `upper()` method converted it's object, *str1*, to upper case.\n",
    "\n",
    "Methods can have return values just like functions do. The return value of the `.upper()` method is a string object that has been converted to upper case.\n",
    "\n",
    "We can call methods on strings even if we haven't assigned them to a variable. See the next cell."
   ]
  },
  {
   "cell_type": "code",
   "execution_count": null,
   "metadata": {},
   "outputs": [],
   "source": [
    "# Calling methods on literal values\n",
    "\"robot\".upper()"
   ]
  },
  {
   "cell_type": "markdown",
   "metadata": {},
   "source": [
    "See below for more methods that can be called on strings. [The full list of string methods is in the Python documentation.](https://docs.python.org/3/library/stdtypes.html#text-sequence-type-str)"
   ]
  },
  {
   "cell_type": "code",
   "execution_count": null,
   "metadata": {},
   "outputs": [],
   "source": [
    "# Convert to lower case\n",
    "\"DON'T SHOUT\".lower()"
   ]
  },
  {
   "cell_type": "code",
   "execution_count": null,
   "metadata": {},
   "outputs": [],
   "source": [
    "# Check that string only contains digits\n",
    "\"2003\".isdigit()"
   ]
  },
  {
   "cell_type": "code",
   "execution_count": null,
   "metadata": {},
   "outputs": [],
   "source": [
    "# Check that string is upper case\n",
    "str2 = \"DOH!\"\n",
    "str2.isupper()"
   ]
  },
  {
   "cell_type": "code",
   "execution_count": null,
   "metadata": {},
   "outputs": [],
   "source": [
    "five = 5.5\n",
    "five.as_integer_ratio()"
   ]
  },
  {
   "cell_type": "markdown",
   "metadata": {},
   "source": [
    "### Method Exercises\n",
    "\n",
    "**Ex V.1** Internally, computers store numbers as binary values. One is 0001, two is 0010, three is 0011, four is 0100, five is 0101, and so on. (Actually, this is a simplification of what's really going on, but it will do for now. For integer data types that can be both positive and negative, computers use a binary format called [two's complement.](https://en.wikipedia.org/wiki/Two%27s_complement) It's not necessary to understand this. I included the link in case you are curious.) Each digit in binary requires one bit of storage. A bit is the lowest level of computer memory -- it can represent a value of 0 or 1. But that's it. With two bits, we can represent the integers 0 through 3. A fourth bit is required if we want to represent the numbers 4 through 7.\n",
    "\n",
    "The integer data type has a method called [`bit_length()`](https://docs.python.org/3/library/stdtypes.html#numeric-types-int-float-complex) (scroll down a bit to find the documentation), which returns the number of bits required to represent a number. Use the method to determine how many bits are required to store the number 1318. (Forget about negative numbers for now.) Hint: first assign the number 1318 to a variable."
   ]
  },
  {
   "cell_type": "code",
   "execution_count": null,
   "metadata": {},
   "outputs": [],
   "source": [
    "# Ex V.1\n"
   ]
  },
  {
   "cell_type": "markdown",
   "metadata": {},
   "source": [
    "**Ex V.2** Use the bit_length() method to determine the largest number that can be represented with eight bits. Again, assume that we only have to represent positive integers. You will have to do some guessing, or you could use the formula:\n",
    "$$\\textrm{bits} = \\lfloor\\log_2{(\\textrm{integer})}\\rfloor + 1$$\n",
    "\n",
    "The $\\lfloor \\: \\rfloor$ notation stands for *floor* and means to round down to the nearest integer. Don't worry if you are not familiar with logarithms. Guessing should work fine."
   ]
  },
  {
   "cell_type": "code",
   "execution_count": null,
   "metadata": {},
   "outputs": [],
   "source": [
    "# Ex V.2\n",
    "2**16 - 1"
   ]
  },
  {
   "cell_type": "markdown",
   "metadata": {},
   "source": [
    "**Ex V.3** Use the `.title()` method of the *str* data type to convert the following book titles to title case (first letter of each word capitalized). Print each title in title case using the `print()` function."
   ]
  },
  {
   "cell_type": "code",
   "execution_count": null,
   "metadata": {},
   "outputs": [],
   "source": [
    "# Ex V.3.a\n",
    "title1 = \"the sirens of titen\"\n",
    "title2 = \"THE HITCHHIKERS GUIDE TO THE GALAXY\"\n",
    "title3 = \"tHE lEFTHAND oF dArKnEsS\""
   ]
  },
  {
   "cell_type": "markdown",
   "metadata": {},
   "source": [
    "## VI. Lists - Our First Composite Data Type\n",
    "So far we've experimented with three data types: integers, floating point values, and strings. Integers and floats are **scalar** data types. Objects of these types consist of only a single number that cannot be broken down into smaller values (which is why they are sometimes called *atomic*). Strings, which consist of a sequence of characters, are not exactly scalar. We saw in the last session how we can use slicing to break strings up into smaller sequences of characters. Python strings are usually described as a sequence data type.\n",
    "\n",
    "Doing calculations with individual strings and numbers is fine, but we need composite data types for more powerful calculations and analysis. A composite data type is a type whose objects can contain other objects. The first composite data type we'll study is the Python list. "
   ]
  },
  {
   "cell_type": "code",
   "execution_count": null,
   "metadata": {},
   "outputs": [],
   "source": [
    "# A Python list\n",
    "list1 = [1, 2, 3, 4, 5]\n",
    "print(\"Length of list1:\", len(list1))\n",
    "print(\"First element of list1:\", list1[0])"
   ]
  },
  {
   "cell_type": "markdown",
   "metadata": {},
   "source": [
    "In the code block above, we created a list and assigned it to the `list1` variable. The list contains five integers. We can use the `len()` function to get the length of the list, and we can use the same indexing and slicing techniques that we used on strings to extract individual elements or subsets of the list. If it's been a while since you've worked through session 01, you might want to go back and review it."
   ]
  },
  {
   "cell_type": "code",
   "execution_count": null,
   "metadata": {},
   "outputs": [],
   "source": [
    "# List indexing and slicing techniques\n",
    "print(\"Last element of list1:\", list1[-1])\n",
    "print(\"Middle three elements of list1:\", list1[1:4])\n",
    "print(\"List1 in reverse order:\", list1[::-1])"
   ]
  },
  {
   "cell_type": "markdown",
   "metadata": {},
   "source": [
    "What is the data type of list1?"
   ]
  },
  {
   "cell_type": "code",
   "execution_count": null,
   "metadata": {},
   "outputs": [],
   "source": [
    "# Data Type of list1\n",
    "print(\"list1 data type:\", type(list1))\n",
    "# Data type of an element of list1\n",
    "print(\"Data type of list1 element:\", type(list1[0]))"
   ]
  },
  {
   "cell_type": "markdown",
   "metadata": {},
   "source": [
    "By using the `type()` function, we can see that the individual elements within the list retain their original data type, but the list object has a data type of list.\n",
    "\n",
    "By the way, did you notice that we're using the `print()` function a bit differently? We're passing two arguments instead of one. The `print()` statement displays both arguments on the same line of output, separated by a space. We can pass as many arguments to `print()` as we want and it will display them all.\n",
    "\n",
    "In our first example, every element in the list had the same data type. But that's not a requirement. A single list can contain many different data types."
   ]
  },
  {
   "cell_type": "code",
   "execution_count": null,
   "metadata": {},
   "outputs": [],
   "source": [
    "list2 = [1, \"2\", 3.0, \"four\", [5, \"6\"]]\n",
    "list2"
   ]
  },
  {
   "cell_type": "markdown",
   "metadata": {},
   "source": [
    "The `list2` object contains an integer, a couple strings, a float, and *another list*. Yes, lists can contain lists. A list contained within another list is called a nested list. It's not hard to access elements of the nested list:"
   ]
  },
  {
   "cell_type": "code",
   "execution_count": null,
   "metadata": {},
   "outputs": [],
   "source": [
    "# First element of nested list\n",
    "list2[4][0]"
   ]
  },
  {
   "cell_type": "markdown",
   "metadata": {},
   "source": [
    "The `[-1]` after `list2` extracts the final element of `list2`, which is itself a list. The `[0]` extracts the first element of this nested list."
   ]
  },
  {
   "cell_type": "markdown",
   "metadata": {},
   "source": [
    "List objects have several useful methods. One method that is used frequently is `.append()`."
   ]
  },
  {
   "cell_type": "code",
   "execution_count": null,
   "metadata": {},
   "outputs": [],
   "source": [
    "list1.append(6)\n",
    "list1"
   ]
  },
  {
   "cell_type": "markdown",
   "metadata": {},
   "source": [
    "What happens if we append a list?"
   ]
  },
  {
   "cell_type": "code",
   "execution_count": null,
   "metadata": {},
   "outputs": [],
   "source": [
    "# Passing a list to the append method\n",
    "list3 = [\"I\", \"ultimately\", \"got\", \"into\", \"robotics\", \"because\", \"for\", \"me\", \",\"]\n",
    "list4 = [\"it\", \"was\", \"the\", \"best\", \"way\", \"to\", \"study\", \"intelligence\", \".\"]\n",
    "list3.append(list4)\n",
    "list3"
   ]
  },
  {
   "cell_type": "markdown",
   "metadata": {},
   "source": [
    "The `append()` method nested `list3` inside `list4`. That may or may not have been what we wanted. If we want to create a longer list with no nesting, we can just use the `+` operator."
   ]
  },
  {
   "cell_type": "code",
   "execution_count": null,
   "metadata": {},
   "outputs": [],
   "source": [
    "# Joining two lists with `+`\n",
    "list3 = [\"I\", \"ultimately\", \"got\", \"into\", \"robotics\", \"because\", \"for\", \"me\", \",\"]\n",
    "list4 = [\"it\", \"was\", \"the\", \"best\", \"way\", \"to\", \"study\", \"intelligence\", \".\"]\n",
    "list3 + list4"
   ]
  },
  {
   "cell_type": "markdown",
   "metadata": {},
   "source": [
    "By the way, the quote is by [Sebastian Thrun](https://en.wikipedia.org/wiki/Sebastian_Thrun), who is one of the founders of Google X and led Google's self-driving car project."
   ]
  },
  {
   "cell_type": "markdown",
   "metadata": {},
   "source": [
    "Another very useful method for lists is the `.pop()` method."
   ]
  },
  {
   "cell_type": "code",
   "execution_count": null,
   "metadata": {},
   "outputs": [],
   "source": [
    "# The .pop() method\n",
    "print(list4.pop())\n",
    "print(list4.pop())\n",
    "print(list4.pop(0))"
   ]
  },
  {
   "cell_type": "markdown",
   "metadata": {},
   "source": [
    "If called with no arguments, the `.pop()` method removed the last item from the list and returns it. Or we can pass an index value -- `.pop()` will remove and return the list element at that position."
   ]
  },
  {
   "cell_type": "markdown",
   "metadata": {},
   "source": [
    "Finally, an element can also be removed (i.e., deleted) from a list with the `del` keyword."
   ]
  },
  {
   "cell_type": "code",
   "execution_count": null,
   "metadata": {},
   "outputs": [],
   "source": [
    "del list1[0]\n",
    "list1"
   ]
  },
  {
   "cell_type": "markdown",
   "metadata": {},
   "source": [
    "A keyword is a term that has special meaning in a programming language. Keywords cannot be used as variable names. In addition to deleting items from a list, `del` can delete entire variables."
   ]
  },
  {
   "cell_type": "code",
   "execution_count": null,
   "metadata": {},
   "outputs": [],
   "source": [
    "# Run this cell to delete the list1 variable.\n",
    "del list1"
   ]
  },
  {
   "cell_type": "code",
   "execution_count": null,
   "metadata": {},
   "outputs": [],
   "source": [
    "# Running this cell after deleting list 1 should cause an error.\n",
    "list1"
   ]
  },
  {
   "cell_type": "markdown",
   "metadata": {},
   "source": [
    "### List Exercises\n",
    "Here are some list exercises.\n",
    "\n",
    "Run the cell below to define the list `seasons`. Use `seasons` for the next two exercises."
   ]
  },
  {
   "cell_type": "code",
   "execution_count": null,
   "metadata": {},
   "outputs": [],
   "source": [
    "# Game names for FRC seasons 2011 through 2020\n",
    "seasons = [\"Logo Motion\", \"Rebound Rumble\", \"Ultimate Ascent\", \"Aerial Assist\", \"Recycle Rush\",\n",
    "\"FIRST Stronghold\", \"FIRST Steamworks\", \"FIRST Power Up\", \"Destination: Deep Space\",\n",
    "\"Infinite Recharge\"]"
   ]
  },
  {
   "cell_type": "markdown",
   "metadata": {},
   "source": [
    "**Ex VI.1**. Use list indexing to display the four most recent seasons."
   ]
  },
  {
   "cell_type": "code",
   "execution_count": null,
   "metadata": {},
   "outputs": [],
   "source": [
    "# Ex VI.1:\n"
   ]
  },
  {
   "cell_type": "markdown",
   "metadata": {},
   "source": [
    "**Ex VI.2.** Use list indexing to display every other season, starting with \"Rebound Rumble\"."
   ]
  },
  {
   "cell_type": "code",
   "execution_count": null,
   "metadata": {},
   "outputs": [],
   "source": [
    "# Ex VI.2:\n"
   ]
  },
  {
   "cell_type": "markdown",
   "metadata": {},
   "source": [
    "Run the cell below to define the nested list. Used `nested` for the next two exercises."
   ]
  },
  {
   "cell_type": "code",
   "execution_count": null,
   "metadata": {},
   "outputs": [],
   "source": [
    "nested = [[1, 2, 3], [4, 5, 6], ['a', 'b', 'c']]"
   ]
  },
  {
   "cell_type": "markdown",
   "metadata": {},
   "source": [
    "**Ex VI.3.** Use indexing to access the 1st element of the third list (the 'a')."
   ]
  },
  {
   "cell_type": "code",
   "execution_count": null,
   "metadata": {},
   "outputs": [],
   "source": [
    "# Ex VI.3:"
   ]
  },
  {
   "cell_type": "markdown",
   "metadata": {},
   "source": [
    "**Ex VI.4.** Use the `len()` function to determine the length of `nested`. What value is returned? Does it make sense? Why? (Write your answers to the questions as a comment.)"
   ]
  },
  {
   "cell_type": "code",
   "execution_count": null,
   "metadata": {},
   "outputs": [],
   "source": [
    "# Ex VI.4:"
   ]
  },
  {
   "cell_type": "markdown",
   "metadata": {},
   "source": [
    "**Ex VI.5.** What happens if you add the two lists (`seasons` and `nested`) together?"
   ]
  },
  {
   "cell_type": "code",
   "execution_count": null,
   "metadata": {},
   "outputs": [],
   "source": [
    "# Ex VI.5: What does seasons + nested return?"
   ]
  },
  {
   "cell_type": "markdown",
   "metadata": {},
   "source": [
    "**Ex VI.6.** Use the `.append()` method to add the next number in the series to the list."
   ]
  },
  {
   "cell_type": "code",
   "execution_count": null,
   "metadata": {},
   "outputs": [],
   "source": [
    "series = [1, 4, 27, 256]"
   ]
  },
  {
   "cell_type": "code",
   "execution_count": null,
   "metadata": {},
   "outputs": [],
   "source": [
    "# Ex VI.6: Use append() method in this cell to add an element to series.\n"
   ]
  },
  {
   "cell_type": "markdown",
   "metadata": {},
   "source": [
    "**Ex VI.7.** Use the `.pop()` method to extract the third element of the `seasons` list."
   ]
  },
  {
   "cell_type": "code",
   "execution_count": null,
   "metadata": {},
   "outputs": [],
   "source": [
    "# Ex VI.7"
   ]
  },
  {
   "cell_type": "markdown",
   "metadata": {},
   "source": [
    "## VII. The `input()` Function\n",
    "Now that we know a bit about data types, we can learn about the input function. Run the next cell."
   ]
  },
  {
   "cell_type": "code",
   "execution_count": null,
   "metadata": {},
   "outputs": [],
   "source": [
    "# Run this cell to learn about the input function\n",
    "\n",
    "name = input(\"What is your name? \")\n",
    "print(\"Hello \", name, \". It's nice to meet you!\", sep=\"\")"
   ]
  },
  {
   "cell_type": "markdown",
   "metadata": {},
   "source": [
    "Similar to the `print()` function, the `input()` function displays whatever text is passed to it on the screen. It also displays a prompt and allows the user to type characters. As soon as the user presses ENTER, whatever text the user typed will be saved to the variable on the left side of the assignment statement (the equals sign).\n",
    "\n",
    "Now look at the code in the next cell but don't run it yet. Will the code work? Why or why not? Check your answer by running the code."
   ]
  },
  {
   "cell_type": "code",
   "execution_count": null,
   "metadata": {},
   "outputs": [],
   "source": [
    "# Will this work?\n",
    "num = input(\"Enter a number: \")\n",
    "print(\"The square of\", num, \"is\", num**2, \"!\")"
   ]
  },
  {
   "cell_type": "markdown",
   "metadata": {},
   "source": [
    "The code didn't work because `input()` always returns a string and Python doesn't know how to square a string (I don't either). We can make this code better with the `int()` function."
   ]
  },
  {
   "cell_type": "code",
   "execution_count": null,
   "metadata": {},
   "outputs": [],
   "source": [
    "# This should work.\n",
    "num = input(\"Enter a number: \")\n",
    "num = int(num)\n",
    "print(\"The square of\", num, \"is\", num**2, \"!\")"
   ]
  },
  {
   "cell_type": "markdown",
   "metadata": {},
   "source": [
    "Even this code will throw an error if the user enters text that is not an integer. We will learn how to check user input later on."
   ]
  },
  {
   "cell_type": "markdown",
   "metadata": {},
   "source": [
    "### Exercises with `input()`\n",
    "\n",
    "**Ex VII.1.** Use the `input()` function to ask the user for their name, and then display their name in reverse order."
   ]
  },
  {
   "cell_type": "code",
   "execution_count": null,
   "metadata": {},
   "outputs": [],
   "source": [
    "# Ex VII.1\n"
   ]
  },
  {
   "cell_type": "markdown",
   "metadata": {},
   "source": [
    "**Ex VII.2.** Use the `input()` function to ask the user for an integer and then print a message stating whether the number is even or odd. Don't forget to convert the input to an integer!"
   ]
  },
  {
   "cell_type": "code",
   "execution_count": null,
   "metadata": {},
   "outputs": [],
   "source": [
    "# Ex VII.2\n"
   ]
  },
  {
   "cell_type": "markdown",
   "metadata": {},
   "source": [
    "**Ex VIII.3.** The official documentation for `input()` [is here.](https://docs.python.org/3/library/functions.html#input) Make up your own exercise with the `input()` function. Ask the user for some information, do something with the information, and display the results to the user."
   ]
  },
  {
   "cell_type": "code",
   "execution_count": null,
   "metadata": {},
   "outputs": [],
   "source": [
    "# Ex VII.3\n"
   ]
  },
  {
   "cell_type": "markdown",
   "metadata": {},
   "source": [
    "## VIII. Python Tutorial\n",
    "For some extra practice, try some of the examples from the *Python Tutorial*.\n",
    "\n",
    "[Section 3.1.3](https://docs.python.org/3/tutorial/introduction.html#lists) covers lists."
   ]
  },
  {
   "cell_type": "code",
   "execution_count": null,
   "metadata": {},
   "outputs": [],
   "source": [
    "# Examples from Python Tutorial Section 3.1.3 on lists\n",
    "\n"
   ]
  },
  {
   "cell_type": "markdown",
   "metadata": {},
   "source": [
    "[Section 5.2](https://docs.python.org/3/tutorial/datastructures.html#the-del-statement) covers the `del` keyword."
   ]
  },
  {
   "cell_type": "code",
   "execution_count": null,
   "metadata": {},
   "outputs": [],
   "source": [
    "# Practice with del keyword\n",
    "\n"
   ]
  },
  {
   "cell_type": "markdown",
   "metadata": {},
   "source": [
    "## IX. More Exercises"
   ]
  },
  {
   "cell_type": "markdown",
   "metadata": {},
   "source": [
    "#### Ex IX.1. Tip Calculator\n",
    "\n",
    "Below, you can see the script we wrote to compute the tip for a meal.  Fix it so that it works correctly. Expect the input to be a **number.** Please format the output to 2 decimal places. [For a hint on rounding, check here.](https://docs.python.org/3/library/functions.html#round)"
   ]
  },
  {
   "cell_type": "code",
   "execution_count": null,
   "metadata": {},
   "outputs": [],
   "source": [
    "# Leave this cell alone.\n",
    "price = input(\"Enter the price of a meal: \")\n",
    "\n",
    "tip = price * 0.16\n",
    "total = price + tip\n",
    "\n",
    "print(\"A 16% tip would be:\", tip)\n",
    "print(\"The total including tip would be:\", total)"
   ]
  },
  {
   "cell_type": "code",
   "execution_count": null,
   "metadata": {},
   "outputs": [],
   "source": [
    "# Ex IX.1: Put the corrected code here:\n",
    "\n",
    "\n"
   ]
  },
  {
   "cell_type": "markdown",
   "metadata": {},
   "source": [
    "**Ex IX.2. Upgraded Tip Calculator**\n",
    "\n",
    "Modify the tip calculator program above so that it asks the user for the tip percentage after asking for the meal price. Use the tip percentage provided by the user to calculate the tip."
   ]
  },
  {
   "cell_type": "code",
   "execution_count": null,
   "metadata": {},
   "outputs": [],
   "source": [
    "# Ex IX.2"
   ]
  },
  {
   "cell_type": "markdown",
   "metadata": {},
   "source": [
    "#### Ex IX.3. Gas Pump Informer.\n",
    "Write a script that prompts the user for a **number** of gallons of gasoline. Reprint that value, along with its conversion to other measurements:\n",
    "\n",
    "- Equivalent number of liters (format to 4 decimals)\n",
    "- Number of barrels of oil required to produce it (format to 3 decimals)\n",
    "- Price in U.S. dollars (format to 2 decimals)\n",
    "\n",
    "Use the conversions list to convert the values. For clarity, the conversion factors are listed below.\n",
    "\n",
    "- 1 gallon is equivalent to 3.7854 liters.\n",
    "- 1 barrel of oil produces 19.5 gallons of gas.\n",
    "- The average price of gas is approximately $3.65 per gallon."
   ]
  },
  {
   "cell_type": "code",
   "execution_count": null,
   "metadata": {},
   "outputs": [],
   "source": [
    "# Ex IX.3:\n",
    "conversions = [3.7854, 19.5, 3.65]\n",
    "\n"
   ]
  },
  {
   "cell_type": "markdown",
   "metadata": {},
   "source": [
    "## X. Quiz to Check Your Knowledge\n",
    "Write the answers as Python comments in the code cell below each question.\n",
    "\n",
    "**#1.** What data type would be used for an object that stores the number 2.71828?"
   ]
  },
  {
   "cell_type": "code",
   "execution_count": null,
   "metadata": {},
   "outputs": [],
   "source": []
  },
  {
   "cell_type": "markdown",
   "metadata": {},
   "source": [
    "**#2.** What is the difference between a function and a method?"
   ]
  },
  {
   "cell_type": "code",
   "execution_count": null,
   "metadata": {},
   "outputs": [],
   "source": []
  },
  {
   "cell_type": "markdown",
   "metadata": {},
   "source": [
    "**#3.** What data type will result from the statement `2 + 2.0`?"
   ]
  },
  {
   "cell_type": "code",
   "execution_count": null,
   "metadata": {},
   "outputs": [],
   "source": []
  },
  {
   "cell_type": "markdown",
   "metadata": {},
   "source": [
    "**#4.** What index number is used to extract the first element from a list? The last element?"
   ]
  },
  {
   "cell_type": "code",
   "execution_count": null,
   "metadata": {},
   "outputs": [],
   "source": []
  },
  {
   "cell_type": "markdown",
   "metadata": {},
   "source": [
    "**#5.** What will the output be from the following code? Try to figure out the answer without running the code.\n",
    "```Python\n",
    "ex5_list = [11, 12, 13, 14, 15, 16, 17, 18, 19, 20]\n",
    "print(ex5_list[2:6]\n",
    "```"
   ]
  },
  {
   "cell_type": "code",
   "execution_count": null,
   "metadata": {},
   "outputs": [],
   "source": []
  },
  {
   "cell_type": "markdown",
   "metadata": {},
   "source": [
    "**6.** What is the difference between the `.pop()` method and the `del` keyword?"
   ]
  },
  {
   "cell_type": "code",
   "execution_count": null,
   "metadata": {},
   "outputs": [],
   "source": []
  },
  {
   "cell_type": "markdown",
   "metadata": {},
   "source": [
    "**7.** What function will get an object's unique identifier code?"
   ]
  },
  {
   "cell_type": "code",
   "execution_count": null,
   "metadata": {},
   "outputs": [],
   "source": []
  },
  {
   "cell_type": "markdown",
   "metadata": {},
   "source": [
    "**8.** Name at least two methods that can be used on a string object."
   ]
  },
  {
   "cell_type": "code",
   "execution_count": null,
   "metadata": {},
   "outputs": [],
   "source": []
  },
  {
   "cell_type": "markdown",
   "metadata": {},
   "source": [
    "## XI. Save Your Work\n",
    "Once you have completed the exercises, go to the *File* menu above and select *Download As->HTML*. Download an HTML version of this page that shows the completed exercises. Send this file to another student to check your answers."
   ]
  },
  {
   "cell_type": "markdown",
   "metadata": {},
   "source": [
    "## XII. Concept and Terminology Review\n",
    "You should be able to define the following terms or drescribe the concept. Re-review this session if any of these are unfamiliar.\n",
    "* Return values\n",
    "* Data types\n",
    "* `type()` function\n",
    "* Integers\n",
    "* Floats\n",
    "* Strings\n",
    "* `int()` function\n",
    "* `float()` function\n",
    "* `str()` function\n",
    "* Object\n",
    "* Method\n",
    "* `id()` function\n",
    "* `.upper()` string method\n",
    "* `.lower()` string method\n",
    "* `.title()` string method\n",
    "* Lists\n",
    "* List indexing\n",
    "* List slicing\n",
    "* `append()` list method\n",
    "* `.pop()` list method\n",
    "* `del` keyword\n",
    "* `len()` function\n",
    "* `input()` function"
   ]
  },
  {
   "cell_type": "markdown",
   "metadata": {},
   "source": [
    "## XIII. Data Type Humor\n",
    "\n",
    "### An integer walks up to a string and asks for its number.\n",
    "The string replies, \"Sorry, you're not my type.\"\n",
    "\n",
    "### Why can't integers swim?\n",
    "Because they can't float.\n",
    "\n",
    "### I tried to explain what integers are...\n",
    "It was pointless."
   ]
  },
  {
   "cell_type": "markdown",
   "metadata": {},
   "source": [
    "[Table of Contents](../../index.ipynb)"
   ]
  }
 ],
 "metadata": {
  "kernelspec": {
   "display_name": "Python 3 (ipykernel)",
   "language": "python",
   "name": "python3"
  },
  "language_info": {
   "codemirror_mode": {
    "name": "ipython",
    "version": 3
   },
   "file_extension": ".py",
   "mimetype": "text/x-python",
   "name": "python",
   "nbconvert_exporter": "python",
   "pygments_lexer": "ipython3",
   "version": "3.9.7"
  }
 },
 "nbformat": 4,
 "nbformat_minor": 4
}
