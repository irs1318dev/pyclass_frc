{
 "cells": [
  {
   "cell_type": "code",
   "execution_count": 1,
   "id": "24997983-c69f-467d-a142-3ca13c08eae4",
   "metadata": {},
   "outputs": [],
   "source": [
    "import json\n",
    "import pathlib\n",
    "import re"
   ]
  },
  {
   "cell_type": "code",
   "execution_count": 3,
   "id": "cb88e354-03ca-4ec3-9f0d-2acd27c682f6",
   "metadata": {},
   "outputs": [],
   "source": [
    "# Script for removing \"s\" in front of lesson folder names.\n",
    "lessons = pathlib.Path.cwd().parent / \"lessons\"\n",
    "ptn = re.compile(r\"s\\d\\d_\")\n",
    "\n",
    "for item in lessons.iterdir():\n",
    "    match = re.match(ptn, item.name)\n",
    "    if match is not None and item.is_dir():\n",
    "        # print(item.parent / (\"s\" + item.name))\n",
    "        item.rename(item.parent / (item.name[1:]))"
   ]
  },
  {
   "cell_type": "code",
   "execution_count": 2,
   "id": "cf64e7e1-839a-44cc-82ce-6f5c58f3f536",
   "metadata": {},
   "outputs": [],
   "source": []
  },
  {
   "cell_type": "code",
   "execution_count": null,
   "id": "2f8acaff-cd25-43ee-b9b3-bea26ecbf56f",
   "metadata": {},
   "outputs": [],
   "source": []
  }
 ],
 "metadata": {
  "kernelspec": {
   "display_name": "Python 3 (ipykernel)",
   "language": "python",
   "name": "python3"
  },
  "language_info": {
   "codemirror_mode": {
    "name": "ipython",
    "version": 3
   },
   "file_extension": ".py",
   "mimetype": "text/x-python",
   "name": "python",
   "nbconvert_exporter": "python",
   "pygments_lexer": "ipython3",
   "version": "3.9.7"
  }
 },
 "nbformat": 4,
 "nbformat_minor": 5
}
