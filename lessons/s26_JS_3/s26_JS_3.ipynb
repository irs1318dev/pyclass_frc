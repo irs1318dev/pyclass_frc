{
 "cells": [
  {
   "cell_type": "markdown",
   "id": "b3d83b5a-2c2f-4dba-97c8-527d1a83b15e",
   "metadata": {},
   "source": [
    "[Table of Contents](../../index.ipynb)"
   ]
  },
  {
   "cell_type": "markdown",
   "id": "0ff7b6f8-4b1f-46e2-8776-c8601721c8e3",
   "metadata": {
    "tags": []
   },
   "source": [
    "# FRC Analytics - Session 26\n",
    "# Javascript: The DOM, Getting Server Data, and Forms\n",
    "**Last Updated: 23 December 2021**\n",
    "\n",
    "## I. Introduction\n",
    "This is the third of three sessions on Javascript. You should have completed [session 23](../s23_JS_1/s23_JS_1.ipynb), and [session 24](../s24_JS_2/s24_JS_2.ipynb) before starting on this session.\n",
    "\n",
    "The reading assignements and exercises are in [the Observable notebook for session 26](https://observablehq.com/@irwinsnet/frc-analytics-session-26). Fork the Observable noteook to make your own copy (see instructions in session 23) and then complete the exercises and project in the Observable notebook. Finally, proceed to section II for instructions on how to get feedback on your work."
   ]
  },
  {
   "cell_type": "markdown",
   "id": "10e99270-0a75-418b-af28-ab210921a128",
   "metadata": {
    "tags": []
   },
   "source": [
    "## II. Get Feedback on Your Work\n",
    "Follow these steps to let others see your Observable notebook and get feedback on your work.\n",
    "\n",
    "1. Click on the *Publish* button at the top of your notebook. You will see the publish dialog, which should look like this:\n",
    "  * <img src=\"../s23_JS_1/images/s23-publish.png\" style=\"height:500px\">\n",
    "2. Under *Visibility*, select *Unlisted*.\n",
    "3. Click *Publish*.\n",
    "4. Copy the notebook's URL into the comment cell below.\n",
    "5. Upload this notebook to your Github assignments repository"
   ]
  },
  {
   "cell_type": "code",
   "execution_count": null,
   "id": "f2c024bc-97eb-4b8f-a105-a4d8c8aa8dd5",
   "metadata": {},
   "outputs": [],
   "source": [
    "# Feedback\n",
    "# URL of published Observable notebook:"
   ]
  },
  {
   "cell_type": "markdown",
   "id": "b7680569-ac1a-4382-8976-1941025c8da1",
   "metadata": {},
   "source": [
    "## III. Concept and Terminology Review\n",
    "* `document.createElement()`\n",
    "* `document.querySelectorAll()`\n",
    "* `NodeList()`\n",
    "* `.appendChild()`\n",
    "* `document.createTextNode()`\n",
    "* `.removeChild()`\n",
    "* `.style` property\n",
    "* `.setAttribute()`\n",
    "* AJAX\n",
    "* `XMLHttpRequest()`\n",
    "* `fetch()`\n",
    "* `.then()`\n",
    "* Promises\n",
    "* `<form>`\n",
    "* `<input>`\n",
    "* `<label>`\n",
    "* `<textarea>`\n",
    "* `<button>`\n",
    "* `<fieldset>`\n",
    "* `<legend>`\n",
    "* `<input type=\"text\">`\n",
    "* `<input type=\"password\">`\n",
    "* `<input type=\"hidden\">`\n",
    "* `<input type=\"checkbox\">`\n",
    "* `<input type=\"radio\">`\n",
    "* `<input type=\"submit\">`\n",
    "* `<input type=\"reset\">`\n",
    "* `<input type=\"button\">`\n",
    "* `<input type=\"file\">`\n",
    "* `<input type=\"range\">`\n",
    "* `<input type=\"datetime-local\">\n",
    "* `<input type=\"time\">`\n",
    "* `<input type=\"color>`\n",
    "* `<textarea>`\n",
    "* `<select>`\n",
    "* `<option>`\n",
    "* `multiple` attribute\n",
    "* `.value` property\n",
    "* `.checked` property\n",
    "* `.selectedOptions` property"
   ]
  },
  {
   "cell_type": "markdown",
   "id": "feac7634-e6c7-4464-a4d8-00ca4eb74bac",
   "metadata": {},
   "source": [
    "[Table of Contents](../../index.ipynb)"
   ]
  }
 ],
 "metadata": {
  "kernelspec": {
   "display_name": "Python 3 (ipykernel)",
   "language": "python",
   "name": "python3"
  },
  "language_info": {
   "codemirror_mode": {
    "name": "ipython",
    "version": 3
   },
   "file_extension": ".py",
   "mimetype": "text/x-python",
   "name": "python",
   "nbconvert_exporter": "python",
   "pygments_lexer": "ipython3",
   "version": "3.9.7"
  },
  "toc-autonumbering": false
 },
 "nbformat": 4,
 "nbformat_minor": 5
}
