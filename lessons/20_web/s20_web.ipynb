{
 "cells": [
  {
   "cell_type": "markdown",
   "id": "b3d83b5a-2c2f-4dba-97c8-527d1a83b15e",
   "metadata": {},
   "source": [
    "[Table of Contents](../../index.ipynb)"
   ]
  },
  {
   "cell_type": "markdown",
   "id": "0ff7b6f8-4b1f-46e2-8776-c8601721c8e3",
   "metadata": {
    "tags": []
   },
   "source": [
    "# FRC Analytics with Python - Session 20\n",
    "# Introduction to the Web\n",
    "**Last Updated: 7 December 2021**\n",
    "\n",
    "You might be wondering why a Python class includes topics related to the *World Wide Web*, like HTML, Javasript, and CSS. The obvious reason is that our FRC team's robot analytics application depends on web technologies. Our application uses Web technologies to generate user interfaces and share data between the different components of the application.\n",
    "\n",
    "There is a more important reason for learning Web technologies. Even the most profound data analysis is of little use if it cannot be shared. HTML and the related technologies of Cascading Style Sheets (CSS) and Javascript are essential for sharing information with the Internet. The next few sessions will show you how to create webpages and how to host them so they are publicly accessible. \n",
    "\n",
    "The instructional techniques in this session are different than the techniques used in prior sessions. You are proficient in Python. This means you can learn more on your own. This notebook will direct you to an excellent tutorial on the Web and will give you some exercises to complete so you can be confident that you understand and can apply the material."
   ]
  },
  {
   "cell_type": "markdown",
   "id": "e551a48c-00f4-46f4-af40-0db0c01779b6",
   "metadata": {},
   "source": [
    "## I. Tools for Writing HTML\n",
    "You need two tools to create a web page.\n",
    "\n",
    "### A. HTML Editor\n",
    "You will need a programmer's text editor for writing HTML. *Visual Studio Code*, which you probably have been using to write Python programs, is an excellent text editor for HTML. If you create a new file and save it with a `.html` extension, VS Code will recognize that it's an HTML file and provide HTML syntax highlighting and code completion. There are many other suitable text editors, such as *Atom*, *Sublime Text*, and *Notepad++*. You can use whichever one you prefer.\n",
    "\n",
    "### B. Web Browser\n",
    "You will need a web browser to open your web page and see how it looks. Any major web browser will work fine, but this class will assume you are using *Google Chrome*."
   ]
  },
  {
   "cell_type": "markdown",
   "id": "2ae75561-d58a-408e-9e90-a4894469f93e",
   "metadata": {},
   "source": [
    "### C. Exercise #1\n",
    "In this exercise you will try out your tools for writing HTML.\n",
    "\n",
    "1. Create a new, empty file in your text editor of choice (*VS Code*, *Atom*, etc.). Name the file *frc-games.html*.\n",
    "2. Copy the HTML code below into the *frc-games.html* file. Don't worry about whether you understand the HTML code.\n",
    "3. Save the *frc-games.html* file.\n",
    "4. Open the *frc-games.html* file in a web browser. You can open it by finding and double-clicking on the file in *File Explorer* (Windows) or the *Finder app* (Apple).\n",
    "\n",
    "```html\n",
    "<!DOCTYPE html>\n",
    "<html>\n",
    "  <head>\n",
    "    <meta charset=\"utf-8\">\n",
    "    <title>Five Years of FIRST Robotics Competition (FRC)</title>\n",
    "    <style>\n",
    "        img    {max-width: 50%; height: auto;}\n",
    "        body   {background-color: #6628a3;}\n",
    "        h1, h2 {color: #f0f024}\n",
    "    </style>\n",
    "  </head>\n",
    "  <body>\n",
    "    <h1>Five Years of FIRST Robotics Competition (FRC)</h1>\n",
    "    <h2>2020 - Infinite Recharge</h2>\n",
    "        <img src=\"https://upload.wikimedia.org/wikipedia/commons/thumb/1/1e/2020_Infinite_Recharge_field.jpg/1200px-2020_Infinite_Recharge_field.jpg\">\n",
    "    <h2>2019 - Destination: Deep Space</h2>\n",
    "      <img src=\"https://magazine.wne.edu/images/2019-summer-images/J-News-Robotics.png\">\n",
    "    <h2>2018 - FIRST Power Up</h2>\n",
    "      <img src=\"https://s.hdnux.com/photos/72/15/44/15259949/3/920x920.jpg\">\n",
    "    <h2>2017 - Steamworks</h2>\n",
    "      <img src=\"https://i.ytimg.com/vi/O3POnn4-1aM/maxresdefault.jpg\">\n",
    "    <h2>2016 - Stronghold</h2>\n",
    "      <img src=\"https://i.ytimg.com/vi/1iWc-UOJBBo/maxresdefault.jpg\">\n",
    "  </body>\n",
    "</html>\n",
    "```\n",
    "\n",
    "You have now experienced the workflow for writing HTML. You type some HTML in your text editor, then you open the file in a web browser to see what your page looks like. Then you go back to your text editor, make adjustments, and save the file. Then you refresh the page in your browser to see the changes. You repeat this cycle until you are satisfied with the results."
   ]
  },
  {
   "cell_type": "markdown",
   "id": "f8567c02-05e2-4169-bfb9-33c70807656d",
   "metadata": {
    "tags": []
   },
   "source": [
    "## II. Getting Started with the Web - Mozilla Style\n",
    "Mozilla is a free software community that is best known for developing and distributing the *Firefox* web browser and *Thunderbird* email client. They also have one of the best HTML tutorials on the internet. It's so good, it would be a pointless waste of time for the mentor to write his own HTML tutorial.\n",
    "\n",
    "### A. Reading Assignment\n",
    "Open Mozilla's [Getting Started with the Web](https://developer.mozilla.org/en-US/docs/Learn/Getting_started_with_the_web) tutorial. Study these sections of the tutorial:\n",
    "1. [Installing Basic Software](https://developer.mozilla.org/en-US/docs/Learn/Getting_started_with_the_web/Installing_basic_software): Just scan this section. It discusses the tools needed to write web pages, but we've already covered the essentials.\n",
    "2. [What will your website look like?](https://developer.mozilla.org/en-US/docs/Learn/Getting_started_with_the_web/What_will_your_website_look_like): Scan this section.\n",
    "3. [Dealing with Files](https://developer.mozilla.org/en-US/docs/Learn/Getting_started_with_the_web/Dealing_with_files): Read this section.\n",
    "4. [HTML Basics](https://developer.mozilla.org/en-US/docs/Learn/Getting_started_with_the_web/HTML_basics): Read this section thoroughly.\n",
    "\n",
    "The [HTML Basics](https://developer.mozilla.org/en-US/docs/Learn/Getting_started_with_the_web/HTML_basics) section covers several HTML elements, including `<html>`, `<body>`, `<p>`, `<img>`, `<h1>` - `<h6>`, `<ul>`, `<ol>`, and `<a>`. Experiment with these elements as you are reading this section. Create a small web page in your text editor that includes these elements and view the web page in a browser."
   ]
  },
  {
   "cell_type": "markdown",
   "id": "97c35033-94e7-4cb5-912e-2f11f5a17211",
   "metadata": {},
   "source": [
    "### B. Exercise #2\n",
    "Create a short web page that contains links to a few of your favorite web sites. For each site, include a link, an image, and one or two sentences that explain why you like the website. Make sure you use `<p>`, `<img>`, `<a>`, header ( `<h1>` - `<h6>`), and list (`<ul>` or `<ol>`) elements in your website.\n",
    "1. You will be sharing the website with others. Make sure the websites you choose are appropriate for a high school classroom.\n",
    "2. You will be uploading this website and making it publically available in a later exercise. Ensure the website does not include an private or identifying information."
   ]
  },
  {
   "cell_type": "markdown",
   "id": "d77b1f61-3ec7-4cdb-99a7-cec78c960e64",
   "metadata": {},
   "source": [
    "## III. Hosting Your Website\n",
    "\n",
    "### A. Hosting with Github\n",
    "Not only is Github great for sharing Python code, it can also host your website and make it available to the entire Internet -- and it's free! In this section we'll learn how to use your Github account to host a webpage.\n",
    "\n",
    "1. If you don't already have a Github account, go to https://github.com/ and create one.\n",
    "* You will be asked to create a username when you create your Github account. This username will be highly visible. It will appear in your site's web address and it will be attached to any code that you submit. Choose a username that you are comfortable sharing with others.\n",
    "2.  Find the *New* button and create a new repository.  \n",
    "> <img src=\"images/new-repo.png\" style=\"width:400px\">\n",
    "* The repository name will appear in the web address for your web page. It's best to use a concise, easy-to-type name.\n",
    "* Make the website public so others can see it.\n",
    "> <img src=\"images/repo-name.png\" style=\"width:750px\">"
   ]
  },
  {
   "cell_type": "markdown",
   "id": "c9a25e89-58ac-4859-9334-124524a3be90",
   "metadata": {},
   "source": [
    "3. Clone the repository that you just created to your local computer.\n",
    "4. Save your HTML file to the root folder of your git repository.\n",
    "5. Add the HTML file to the repository and commit the change.\n",
    "6. Push your local changes to Github."
   ]
  },
  {
   "cell_type": "markdown",
   "id": "e238e891-e199-4be6-a2dc-25025732abb3",
   "metadata": {},
   "source": [
    "7. Go to your repository's settings.\n",
    "> ![Repo Settings](images/repo-settings.png)"
   ]
  },
  {
   "cell_type": "markdown",
   "id": "a4eeb9a0-3c2a-4fce-b07d-35020d09669a",
   "metadata": {},
   "source": [
    "8. Select *Pages* from the Settings navigation menu.\n",
    "9. Click button that says *None* and select the *Main* branch.\n",
    "> <img src=\"images/repo-pages.png\" style=\"width:750px\">\n",
    "10. Click the *Save* button. Your webpage will be publicly available at `https://<github-username>.github.io/<repo-name>` in a few minutes."
   ]
  },
  {
   "cell_type": "markdown",
   "id": "d791ae52-03b3-43f7-be00-9108853b9798",
   "metadata": {},
   "source": [
    "### B. How Github Finds Files\n",
    "#### Folders\n",
    "By default, Github looks for website files in the root (uppermost) folder of the github repository. Github can be configured to look for website settings in a subfolder of the root folder called *docs*. Click on the button with the folder icon in the *Pages* section of the repository settings to change this behavior.\n",
    "> <img src=\"images/repo-folder.png\" style=\"width:500px\">\n",
    "\n",
    "#### Branches\n",
    "Github's web server will retrieve files from whichever branch is specified in the *Pages* section of the repository settings. If you upload website files to a branch that is different from the branch specified in the *Pages* settings, Github will ignore those files.\n",
    "\n",
    "#### File Names\n",
    "The full syntax for a Github pages URL is `https://<github-username>.github.io/<repo-name>/<file-name>`. If no file name is specified, Github will first look for a file named *index.html*. If *index.html* does not exist, Gihub will look for a file named *index.md* (Github pages can be created with Markdown instead of HTML. See the Github documentation to lean morea about that).\n",
    "\n",
    "[Check out the full documentation on Github Pages](https://docs.github.com/en/pages/getting-started-with-github-pages) to learn more about hosting websites on Github."
   ]
  },
  {
   "cell_type": "markdown",
   "id": "2ccf464f-bc38-4ac8-aeec-c577137802be",
   "metadata": {},
   "source": [
    "### C. Exercise 3\n",
    "Host the website that you created in exercise #2 on Github. Enter the URL of the page that you created in the code cell below."
   ]
  },
  {
   "cell_type": "code",
   "execution_count": null,
   "id": "b0eee3aa-ddef-421b-a07b-e3eacefa6e76",
   "metadata": {},
   "outputs": [],
   "source": [
    "# Ex. #3\n",
    "# URL of Website on Github: "
   ]
  },
  {
   "cell_type": "markdown",
   "id": "3251db2d-6341-48a4-943a-3a5800a7fa87",
   "metadata": {},
   "source": [
    "## IV. Introduction to Cascading Style Sheets (CSS)\n",
    "CSS is is a style sheet language that is used to modify the appearance of HTML elements in web pages. It's possible to make a web page without CSS, but formatting options and layout options would be severely limited.\n",
    "\n",
    "### A. Reading Assignment\n",
    "For this section, read the [CSS Basics](https://developer.mozilla.org/en-US/docs/Learn/Getting_started_with_the_web/CSS_basics) of the Mozilla guide to [Getting Started with the Web](https://developer.mozilla.org/en-US/docs/Learn/Getting_started_with_the_web).\n",
    "\n",
    "The example webpage in exercise #1 included a few CSS rules in the `<style>` element. The *CSS Basics* tutorial will walk you through an alternative method for assigning CSS rules: placing the CSS rules in an external file. Using an external CSS file allows you to write CSS rules once and apply them to multiple webpages. Pay attention to how CSS rules can be placed in external files. You'll use this technique in exercise #4."
   ]
  },
  {
   "cell_type": "markdown",
   "id": "54ef08fc-15ed-4f73-83bf-4e05bf80a609",
   "metadata": {},
   "source": [
    "### B. A Note on `class` and `id` Attributes\n",
    "HTML `class` and `id` attributes work hand-in-hand with CSS style rules. Any HTML element can have a `class` attribute, an `id` attribute, both a `class` and `id` attribute, or neither attribute. Consider the following HTML snippet and CSS rules.\n",
    "\n",
    "#### Example HTML Snippet\n",
    "```html\n",
    "    <h3 class=\"autonomous\", id=\"auto-header\">Autonomous Points</h3>\n",
    "        <ul class=\"autonomous\", id=\"auto-points-list\">\n",
    "            <li>Initiation Line: 5</li>\n",
    "            <li>Bottom Port: 2</li>\n",
    "            <li>Outer Port: 4</li>\n",
    "            <li>Inner Port: 6</li>\n",
    "        </ul>\n",
    "    <h3 class=\"teleop\", id=\"teleop-header\">Teleop</h3>\n",
    "        <ul class=\"teleop\", id=\"teleop-points-list\">\n",
    "            <li>Bottom Port: 1</li>\n",
    "            <li>Outer Port: 2</li>\n",
    "            <li>Inner Port: 3</li>\n",
    "            <li>Rotation Control: 10</li>\n",
    "            <li>Position Control: 20</li>\n",
    "        </ul>  \n",
    "```\n",
    "#### Example CSS Rules\n",
    "```css\n",
    "h3                  {text-decoration: underline;}\n",
    ".autonomous         {color: blue;}\n",
    ".teleop             {color: red;}\n",
    "#auto-points-list   {font-family: \"Courier New\";}\n",
    "#teleop-points-list {font-style: italic;}\n",
    "```\n",
    "The `id` and `class` attributes are used to link CSS rules to HTML elements. Id attribute values should be unique within a webpage. No two elements should have the same id value. On the other hand, you can assign the same class attribute to as many elements as you want. \n",
    "\n",
    "As mentioned in Mozilla's *CSS Basics* page, CSS has special selectors for elements with `class` and `id` attributes. Placing a period at the beginning of a CSS selector selects all elements with that class, and placing a hash mark at the beginning of a selector selects the elment with the matching id value. In the preceding example, the CSS rules that use the `class` selector (.) will turn the `<h3` and `<ul>` elements with autonomous data blue, and `<h3` and `<ul>` elements with teleop data red. Each CSS rule that uses an `id` selector (#) will affect a single HTML element.\n",
    "\n",
    "In summary,  the `class` attribute is used identify a group of HTML elements, and the `id` attribute is used to uniquely identify a single HTML element.\n",
    "\n",
    "You can read about more ways to change the appearance of text in the Mozilla tutorial's [section on text and font styling](https://developer.mozilla.org/en-US/docs/Learn/CSS/Styling_text/Fundamentals)."
   ]
  },
  {
   "cell_type": "markdown",
   "id": "0f649ab9-7718-4678-9e67-ce8ec74d4687",
   "metadata": {},
   "source": [
    "### C. Exercise #4\n",
    "Make a copy of the web page that you created for exercise #2.\n",
    "* Add an external CSS stylesheet. Name the external stylesheet *styles.css* and place it in a *styles* subfolder.\n",
    "* Add a `<link>` element to link the external stylesheet to the copied web page.\n",
    "* Add rules to the external stylesheet that change the appearance of various elements within the web page.\n",
    "* Your external stylesheet should use element, class, and id selectors.\n",
    "* Add `class` and `id` attributes to your HTML page as needed for it to work with the external stylesheet.\n",
    "* Upload your styled web page to your github repository. Ensure that Github is properly hosting the page by opening it from Github in your web browser.\n",
    "* Your Github repository should now contain two different web pages, the web page created for exercise #2, and the web page created for this exercise.\n",
    "* Enter the URL of the styled web page into the comment block below."
   ]
  },
  {
   "cell_type": "code",
   "execution_count": null,
   "id": "f1f3e9ed-e321-4fc3-ab01-27f6a1508796",
   "metadata": {},
   "outputs": [],
   "source": [
    "# Ex. #4\n",
    "# URL of style web page:"
   ]
  },
  {
   "cell_type": "markdown",
   "id": "45181aff-f6c9-4518-9fbd-6d9487c2a0a4",
   "metadata": {},
   "source": [
    "## V. Introduction to Javascript\n",
    "\n",
    "Javascript is a programming language that runs within webpages and web browsers. It can be used to create interactive web pages or complex web applications (like Google Docs). This class covers Javascript because it's indespensible if we want to collect and present data to users within a web browser.\n",
    "\n",
    "### A. Executing Javascript Statements\n",
    "Modern web browsers have a Javascript console. You can type Javascript statements into the console and immediately run them to see the results. Use your web browser's Javascript console to experiment with Javascript statements as you read about Javascript in section V.B.\n",
    "\n",
    "The Javascript console is part of the developer tools pane. You can open the developer tools pane in Chrome by hitting F12 for Windows or `OPTION + COMMAND + I`. Then navigate to the Javascript console by clicking on *Console* in the navigation bar at the top of the developer tools pane. You can also open the developers tool by clicking on the three dots to open Chrome's menu and selecting *More Tools -> Developter Tools*. Here is a silly bit of trivia: menus that are opened by clicking on a button with three dots are called *kebab menus*. Don't confuse them with menus that are opened by clicking on a button with three horizontal lines stacked on top of each other -- those are called *hamburger menus*.\n",
    "\n",
    "#### Image of Developer Tools Pane and Javascript Console\n",
    "![Javascript Console](images/js-console.png)"
   ]
  },
  {
   "cell_type": "markdown",
   "id": "a7ce6ee0-2875-4ad0-aec5-ba78e3c3d328",
   "metadata": {},
   "source": [
    "### A. Reading Assignment\n",
    "Read [Mozilla's JavaScript Basics tutorial](https://developer.mozilla.org/en-US/docs/Learn/Getting_started_with_the_web/JavaScript_basics)"
   ]
  },
  {
   "cell_type": "markdown",
   "id": "3e149db7-06cd-4b10-92f3-f7c727e7b972",
   "metadata": {},
   "source": [
    "### B. Exercise #5\n",
    "Create a web page that has the following features:\n",
    "1. Add two buttons to the web page. One button should be labeled \"Up\" and the other should be labeled \"Down\".\n",
    "2. Add a script element with two Javascript functions. One function should run when the \"Up\" button is clicked, and the other should run with the \"Down\" button is pressed.\n",
    "3. The script element should also have a `counter` variable that is initialized at zero.\n",
    "4. Add an `<h2>` header element to the page. The initial text in the header element should be zero.\n",
    "5. The \"Up\" funnction should add 1 to the `counter` variable and set the `<h2>` element to display the variable contents.\n",
    "6. The \"Down function shold subtract 1 from the `counter` variable and set the `<h2>` element to display the variable contents.\n",
    "7. Use CSS to give `<h2>` element an interesting font and change the background color. Make whatever other style changes you want, but keep the page legible.\n",
    "\n",
    "In summary, your webpage should contain a big number on it that starts at zero. The number should increment when you click the \"Up\" button and decrement when you click the bottom button.\n",
    "\n",
    "Host the page in your Github repo. Paste the URL of the page into the comments below."
   ]
  },
  {
   "cell_type": "code",
   "execution_count": null,
   "id": "ec8f7f14-f8d6-4142-a4ae-487a6a628700",
   "metadata": {},
   "outputs": [],
   "source": [
    "# Ex. #5\n",
    "# URL of Javascript Web Page:"
   ]
  },
  {
   "cell_type": "markdown",
   "id": "5de4276b-ba67-4c47-9a1a-14c01c10fc33",
   "metadata": {},
   "source": [
    "## VI. Running Your Own Web Server\n",
    "\n",
    "### A. Python's Web Server\n",
    "If you double-click on an HTML file that is stored on your computer, it should open in your default web browser. There is no web server involved -- the web browser is opening a local file the same way Microsoft Excel would open a spreadsheet.\n",
    "\n",
    "But what if you wanted to make some webpages available on a home network? Would you have to download special software and learn to operate it? No, you wouldn't. Python includes a basic web server.\n",
    "\n",
    "To run this server, go to the folder that contains your web pages in the command prompt of your choice (probably Terminal or PowerShell). Then run this command:\n",
    "```bash\n",
    "python -m http.server\n",
    "```\n",
    "\n",
    "Next, open your browser and type `http://localhost:8000/<your_html_file_name>` into the address bar. The browser should open your webpage.\n",
    "\n",
    "Python's http.server runs on port 8000 by default. You can run the server on a different port by including the port number in the command to start the server, e.g., `python -m http.server 8080`.\n",
    "\n",
    "You can stop the server by hitting CTRL+C. Also, you can replace `localhost` with `127.0.0.1`, which is the numeric equivalent of `localhost`.\n",
    "\n",
    "### B. Reading Assignment\n",
    "1. [Read Mozilla's instructions for running a local server.](https://developer.mozilla.org/en-US/docs/Learn/Common_questions/set_up_a_local_testing_server) We're all using Python3 so you can ignore the notes related to Python2. \n",
    "\n",
    "2. [Quickly scan Python's documentation on `http.server`.](https://docs.python.org/3/library/http.server.html) We don't need any of the information in this document right now, so don't spend much time on it. Just know that it exists in case you ever have questions on `http.server`."
   ]
  },
  {
   "cell_type": "markdown",
   "id": "77a8ee17-100c-476f-a638-2724c9d6cbaa",
   "metadata": {},
   "source": [
    "### C. Exercise #6\n",
    "Run `http.server` on your local machine. Ensure you can pull up all four web pages you've drafted so far using the server, i.e., by typing `localhost:8000/<html_file_name>` into the browser's address bar. Enter the URL that successfully retrieved the web page in the comments below."
   ]
  },
  {
   "cell_type": "code",
   "execution_count": null,
   "id": "f6ae1126-fac1-4abf-b04b-b0a8f42093fd",
   "metadata": {},
   "outputs": [],
   "source": [
    "# Ex #6\n",
    "# URL for Ex #1 page:\n",
    "# URL for Ex #2 page:\n",
    "# URL for Ex #4 page:\n",
    "# URL for Ex #5 page:"
   ]
  },
  {
   "cell_type": "markdown",
   "id": "28419989-61fc-4cdf-b6f5-4344e5a44906",
   "metadata": {},
   "source": [
    "## VII. Final Reading\n",
    "Read these two Mozilla articles:\n",
    "* [Publishing Your website](https://developer.mozilla.org/en-US/docs/Learn/Getting_started_with_the_web/Publishing_your_website)\n",
    "* [How the Web works](https://developer.mozilla.org/en-US/docs/Learn/Getting_started_with_the_web/How_the_Web_works)"
   ]
  },
  {
   "cell_type": "markdown",
   "id": "e7f65acf-f122-4289-90fb-2ae212298c77",
   "metadata": {},
   "source": [
    "## VIII. Save Your Work\n",
    "Once you have completed the exercises, save a copy of the notebook outside of the git repository (outside of the *pyclass_frc* folder). Include your name in the file name. Send the notebook file to another student to check your answers."
   ]
  },
  {
   "cell_type": "markdown",
   "id": "dfe0d5ba-5d9f-4c88-9e97-375a6918b4ea",
   "metadata": {},
   "source": [
    "## IX. Concept and Terminology Review\n",
    "You should be able to define the following terms or describe the concept. \n",
    "* HTML\n",
    "* CSS\n",
    "* Javascript\n",
    "* Element\n",
    "* Tag\n",
    "* Attribute\n",
    "* `<html>`\n",
    "* `<head>`\n",
    "* `<title>`\n",
    "* `<body>`\n",
    "* `<img>`\n",
    "* Headings\n",
    "* `<p>`\n",
    "* Lists\n",
    "* `<a>`\n",
    "* Github Pages\n",
    "* `<link>`\n",
    "* CSS selector\n",
    "* CSS property\n",
    "* CSS Declaration\n",
    "* CSS padding\n",
    "* CSS border\n",
    "* CSS margin\n",
    "* `<script>`\n",
    "* `let`\n",
    "* Javascript Comments\n",
    "* Javascript Datatypes\n",
    "* Javascript Operators\n",
    "* Javascript If statements\n",
    "* Javascript functions\n",
    "* `document.querySelector`\n",
    "* `.onclick` attribute\n",
    "* Python's `http.server`"
   ]
  },
  {
   "cell_type": "markdown",
   "id": "feac7634-e6c7-4464-a4d8-00ca4eb74bac",
   "metadata": {},
   "source": [
    "[Table of Contents](../../index.ipynb)"
   ]
  }
 ],
 "metadata": {
  "kernelspec": {
   "display_name": "Python 3 (ipykernel)",
   "language": "python",
   "name": "python3"
  },
  "language_info": {
   "codemirror_mode": {
    "name": "ipython",
    "version": 3
   },
   "file_extension": ".py",
   "mimetype": "text/x-python",
   "name": "python",
   "nbconvert_exporter": "python",
   "pygments_lexer": "ipython3",
   "version": "3.9.7"
  },
  "toc-autonumbering": false
 },
 "nbformat": 4,
 "nbformat_minor": 5
}
