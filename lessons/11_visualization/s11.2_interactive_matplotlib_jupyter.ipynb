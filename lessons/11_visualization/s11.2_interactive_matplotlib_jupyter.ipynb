{
 "cells": [
  {
   "cell_type": "markdown",
   "metadata": {},
   "source": [
    "[Table of Contents](../../index.ipynb)  \n",
    "[Notebook 11.1](s11.1_matplotlib.ipynb)"
   ]
  },
  {
   "cell_type": "markdown",
   "metadata": {},
   "source": [
    "# FRC Analytics with Python - Session 11.1\n",
    "# Interactive Charts with Matplotlib\n",
    "##### Last Updated: 27 December 2020"
   ]
  },
  {
   "cell_type": "markdown",
   "metadata": {},
   "source": [
    "The previous notebook included the magic command `%matplotlib inline`, which caused the Matplotlib charts to be displayed as static images, with no interactive features. This notebook demonstrates how to embed interactive plots in a jupyter notebook.\n",
    "\n",
    "<font color=\"orange\">**The code in this notebook works only in *Jupyter Lab*. The charts will not display if running the notebook in *Jupyter Notebook*.**</font>"
   ]
  },
  {
   "cell_type": "markdown",
   "metadata": {},
   "source": [
    "## I. Jupyter Lab Setup\n",
    "Complete the following steps to install and configure *Jupyter Lab*.\n",
    "\n",
    "1. If you have not yet installed Jupyter Lab:  \n",
    "    a. Ensure you are in the correct conda environment: `conda activate [environment]`  \n",
    "    b. If not done already, install base jupyter: `conda install jupyter`  \n",
    "    c. Install jupyerlab: `conda install jupyterlab`  \n",
    "2. Install the nodejs package: `conda install nodejs`\n",
    "3. Install the ipympl package: `conda install ipympl`\n",
    "4. Start jupyterlab: `jupyter lab`\n",
    "5. Enable JupyterLab extensions. Hit CTRL+SHIFT+C to open the command window on the left (or click on the third icon down that looks like a list with a magnifying glass next to a list -- tooltype should say \"commands\"). Then find the Enable Extension Manager command (you can type extensions in the search bar). Click it to enable extensions then click Enable to confirm. Make sure Enable Extensions Manager command has a checkmark next to it.\n",
    "6. You should now see an icon on the left to of the Jupyter Lab window that looks like a puzzle piece. Click on that to go to the Extension Manager.\n",
    "7. In the Extension Manager, install and enable the jupyter-matplotlib extension and the jupyter-widgets/jupyterlab-manager extension.\n",
    "\n",
    "If you have not used Jupyter Lab, it is worth trying out. It has many features that are not available in *Jupyter Notebook*, such as CSV and JSON file viewers, dedicated contextual help windows, and a multi-document interface."
   ]
  },
  {
   "cell_type": "markdown",
   "metadata": {},
   "source": [
    "## II. Setting Interactive Mode\n",
    "Matplotlib can create charts with some interactive features if we use the `%matplotlib widget` magic command. The following cell includes the necessary imports. It is identical to the imports in the session 11 notebook, except for the `%matplotlib widget` magic command."
   ]
  },
  {
   "cell_type": "code",
   "execution_count": 4,
   "metadata": {},
   "outputs": [],
   "source": [
    "# Importing Matplotlib\n",
    "import matplotlib.pyplot as plt   # line 1\n",
    "import matplotlib                 # line 2\n",
    "\n",
    "# Other packages used in this session\n",
    "import numpy as np\n",
    "import pandas as pd\n",
    "\n",
    "%matplotlib widget\n"
   ]
  },
  {
   "cell_type": "markdown",
   "metadata": {},
   "source": [
    "## III. An Interactive Chart\n",
    "The following code recreates the hexbin chart of housing value vs. income in interactive mode."
   ]
  },
  {
   "cell_type": "code",
   "execution_count": 5,
   "metadata": {},
   "outputs": [
    {
     "data": {
      "application/vnd.jupyter.widget-view+json": {
       "model_id": "544b88e16d2f46d1afdd758cfd06d64a",
       "version_major": 2,
       "version_minor": 0
      },
      "text/plain": [
       "Canvas(toolbar=Toolbar(toolitems=[('Home', 'Reset original view', 'home', 'home'), ('Back', 'Back to previous …"
      ]
     },
     "metadata": {},
     "output_type": "display_data"
    }
   ],
   "source": [
    "house = pd.read_csv(\"housing.csv\")\n",
    "house.plot.hexbin(x=\"median_income\", y=\"median_house_value\",\n",
    "                       figsize=(8, 6), gridsize=50, sharex=False)\n",
    "plt.title(\"Median Income vs. Home Value\")\n",
    "plt.xlabel(\"Median Income\\n(Units of $10,000)\")\n",
    "plt.ylabel(\"Median Home Value ($)\")\n",
    "plt.show()"
   ]
  },
  {
   "cell_type": "markdown",
   "metadata": {},
   "source": [
    "### A. The Interactive Toolbar\n",
    "Click on the buttons in the toolbar on the upper left to experiment with the interactive features.\n",
    "* **Hamburger Buttom:** The top toolbar button collapses or expands the menu.\n",
    "* **Home Button:** Returns the plot to the initial view\n",
    "* **Arrow Buttons:** Moves to previous or subsequent chart views. Works like forward and back buttons on a browser.\n",
    "* **Pan Button:** Activates the panning tool\n",
    "* **Zoom In Button:** Activates the Zoom Tool. Click and drag a box on the chart to zoom into that box.\n",
    "* **Save Button:** Downloads the current view of the chart as a *.png* file.\n",
    "\n",
    "There is yet another cool feature: the x and y coordinates of the mouse cursor are displayed when the cursor is inside the chart boundaries."
   ]
  },
  {
   "cell_type": "markdown",
   "metadata": {},
   "source": [
    "### B. The Code\n",
    "We used a couple tricks to make the Pandas plotting functions work with interactive charts.\n",
    "* We're using the object-oriented plotting syntax, which starts with using `pyplot.subplots()` to get a `Figure` and `Axes` object.\n",
    "* We passed the `Axes` object that was returned by `pyplot.subplots()` (stored in the `axes` variable) to Pandas's `.hexbin()` method via the `ax` parameter. This tells Pandas to plot the data on the existing `Axes` object and figure instead of creating it's own `Axes` object.\n",
    "* The `fig.tightlayout()` method call has nothing to do with interactivity -- it keeps our axis labels from getting clipped by the edges of the plot."
   ]
  },
  {
   "cell_type": "markdown",
   "metadata": {},
   "source": [
    "[Table of Contents](../../index.ipynb)  \n",
    "[Notebook 11.1](s11.1_matplotlib.ipynb)"
   ]
  }
 ],
 "metadata": {
  "kernelspec": {
   "display_name": "Python 3",
   "language": "python",
   "name": "python3"
  },
  "language_info": {
   "codemirror_mode": {
    "name": "ipython",
    "version": 3
   },
   "file_extension": ".py",
   "mimetype": "text/x-python",
   "name": "python",
   "nbconvert_exporter": "python",
   "pygments_lexer": "ipython3",
   "version": "3.8.5"
  }
 },
 "nbformat": 4,
 "nbformat_minor": 4
}
