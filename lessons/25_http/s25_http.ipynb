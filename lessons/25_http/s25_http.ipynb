{
 "cells": [
  {
   "cell_type": "markdown",
   "metadata": {},
   "source": [
    "[Table of Contents](../../index.ipynb)"
   ]
  },
  {
   "cell_type": "markdown",
   "metadata": {},
   "source": [
    "# FRC Analytics - Session 25\n",
    "# Hyptertext Transfer Protocol\n",
    "**Last Updated: 22 December 2021**\n",
    "\n",
    "## I. Introduction\n",
    "\n",
    "### A. What is HTTP?\n",
    "\n",
    "In this session, we'll take a break from the [Mozilla Web Tutorials](https://developer.mozilla.org/en-US/docs/Learn) and dive into Hyptertext Transfer Protocol (HTTP), which is one of the underlying technologies that makes the World Wide Web work. A working knowledge of HTTP is essential for understanding how web technolgies like HTML, web servers, and JavaScript `fetch()` calls work. For example:\n",
    "1. When you click on a hyperlink, the browser assembles an HTTP request and sends it to the appropriate web server. The HTTP request is just a long string of text that is structured per the HTTP specification.\n",
    "2. The web server will send an HTTP response back to your web browser. The HTTP response is another long string of text. In this example, it contains the HTML text for the web page that was requested.\n",
    "3. The browser reads the HTML text in the response and displays the web page. If the web page contains images, audio files, external JavaScript files, or other resources, the browser will send a separate HTTP request to the web server to request each resource.\n",
    "\n",
    "HTTP is used in many other situations.\n",
    "* JavaScript's `fetch()` function sends an HTTP request to a server. \n",
    "* Our FRC team's scouting application uses HTTP. Whenever a scouter taps on a button to record something a robot did, the application sends an HTTP request to the application server so the server can save the information in the scouting database.\n",
    "* Many Android and iOS applications use HTTP to send and receive information over the Internet.\n",
    "\n",
    "Initial development of HTTP was conducted by [Tim Berners-Lee](https://en.wikipedia.org/wiki/Tim_Berners-Lee) in 1989 while he was a research fellow at the *European Organization for Nuclear Research*, better known as CERN (*Conseil européen pour la recherche nucléaire*).\n",
    "\n",
    "<figure>\n",
    "  <img src=\"images/timbl_http.jpg\" style=\"height: 300px;\" alt=\"First HTTP Server and Tim Berners-Lee\">\n",
    "    <figcaption>First HTTP Server at CERN and Tim Berners-Lee</figcaption>\n",
    "</figure>\n",
    "\n",
    "### B. Why Are We Studying HTTP?\n",
    "\n",
    "You may be wondering why we are learning about HTTP in an analytics course. We're learning about it for the same reason that we are learning about HTML, CSS, and JavaScript. The best analysis in the world is of no use if you can't get it to the people who need it. HTTP is the tool we'll use to share information and analysis over the internet.\n",
    "\n",
    "As alluded to earlier, our FRC team's scouting system uses HTTP to:\n",
    "* Exchange data between Android tablets and our scouting system's server, which runs on a Windows laptop. The tablets are used to enter data during FRC matches.\n",
    "* Download match schedules from the *FIRST API* or *The Blue Alliance* (so we don’t have to enter them manually.\n",
    "* Send system configuration data from the web page that functions as the system's main interface to the server.\n",
    "* Display tabular and graphical information on FRC robot performance.\n",
    "\n",
    "### C. What's in This Session\n",
    "\n",
    "We will use HTTP to retrieve detailed information on FRC competitions from [The Blue Alliance](https://www.thebluealliance.com/) website. We will then use Python tools to analyze this data.\n",
    "\n",
    "HTTP can also be used to download FRC competition data from directly from FIRST. It's a bit more difficult to get an authorization key from FIRST, so we will use *The Blue Alliance* in this class. You can learn more about retrieving data from FIRST at https://usfirst.collab.net/sf/projects/first_community_developers/ and https://frcevents2.docs.apiary.io/."
   ]
  },
  {
   "cell_type": "markdown",
   "metadata": {},
   "source": [
    "## Diving into HTTP\n",
    "### A. What is HTTP Exactly?\n",
    "HTTP is a communications protocol, which is a set of rules that allows two different computers to transmit and receive information.\n",
    "\n",
    "HTTP operates at the application layer. This means HTTP doesn’t care about the physics of how the information is transmitted (wireless, serial cable, cat 6 network cable, etc.)\n",
    "\n",
    "There are many other application layer protocols that are commonly used on the Internet.\n",
    "* POP3, SMTP, and IMAP are used for email.\n",
    "* FTP is used to transfer files.\n",
    "* NTP is used for synchronizing clocks over a network.\n",
    "* *There are many more… .*\n",
    "\n",
    "HTTP messages are classified as requests or responses.\n",
    "* A client sends a request to a server.\n",
    "* Based on the information in the request, the servers sends a response back to the client.\n",
    "* For example, you might use Chrome (an HTTP client) to send an HTTP request to the web server that provides The Blue Alliance web page. The Blue Alliance will send the web page back as an HTTP response."
   ]
  },
  {
   "cell_type": "markdown",
   "metadata": {},
   "source": [
    "### B. HTTP Requests\n",
    "Suppose I want to see if my local library has a copy of one of my favorite sience fiction books, *I Robot*, by Isaac Asimov (copyright 1950). I navigate to their search page at `http://kcls.org/catalog/search` and type `asimov` into the author field and `robot` into the title field. The web browser will send an HTTP request message to the library's web server. The request message could look something like this:\n",
    "```HTTP\n",
    "GET catalog/search?author=asimov&title=robot&mediatype=book HTTP/1.1\n",
    "Accept: text/html\n",
    "Accept-Language: en-US\n",
    "User-Agent: Mozilla/5.0 (Windows NT 10.0; Win64; x64) AppleWebKit/537.36 (KHTML, like Gecko) Chrome/80.0.3987.149 Safari/537.36\n",
    "```\n",
    "\n",
    "#### Request Line\n",
    "The first line of the message is the request line.\n",
    "* The first word in the request line is the request method.\n",
    "* In the example above, we are using the GET request method, which is the most common method.\n",
    "* POST is another commonly used request method.\n",
    "* There are many other methods (e.g., PUT, DELETE, HEAD, CONNECT) that are not as common.\n",
    "\n",
    "The next portion of the request line tells the server what we want. This example tells the server to to find a page called *search* in a folder named *catalog*. Everything after the the \"?\" is a **GET parameter** or **query parameter**, in the format of  \n",
    "\n",
    "    ?{variable_name_1}={value_1}&{variable_name_2}={value_2}\n",
    "\n",
    "Finally, the last part of the request line specified that the request is per HTTP version 1.1.\n",
    "\n",
    "#### Header Lines\n",
    "The 2nd and 3rd lines are header lines, consisting of a header name, followed by a colon, followed by a value.\n",
    "* The *Accept* header tells the server to format the response as HTML text.\n",
    "* The *Accept-Language* header tells the server that our preferred language for the response is English.\n",
    "* The *User-Agent* header identifies our browswer and operating system.\n",
    "* HTTP requests can have any number of headers (including zero headers). There are numerous HTTP header fields. [Click here to see a long list.](https://en.wikipedia.org/wiki/List_of_HTTP_header_fields)\n",
    "\n",
    "#### Request Content\n",
    "HTTP requests can include a blank line after the headers, followed by more text. We won't need to include content in our HTTP requests for this class.\n",
    "\n",
    "#### URL\n",
    "Notice that there is no URL in the request (e.g., kcls.org). HTTP has no idea how to actually get the request to its destination. It depends on the internet protocol (IP) for that. We're not going to study how IP works, or how your web browser converts a human readable URL, such as https://firstinspires.org, into an IP address that Internet routers understand. These are interesting topics ([check out this TechQuickie video if you must know more](https://youtu.be/PpsEaqJV_A0)), but we should be able to trust that our browser and operating system will send the HTTP requests to the right place if we get the URL right."
   ]
  },
  {
   "cell_type": "markdown",
   "metadata": {},
   "source": [
    "### C. HTTP Responses\n",
    "Upon receiving and processing my HTTP request for information on the book *I Robot*, the library's web server will send an HTTP response containing the web page with the informatin. The response might look something like this:\n",
    "\n",
    "```HTTP\n",
    "HTTP/1.1 200 OK\n",
    "Date: Sat, 21 Mar 2020 15:28:53 GMT\n",
    "Server: Apache/2.2.14 (Win32)\n",
    "Last-Modified: Tue, 26 Jun 2018 13:18:00 GMT\n",
    "Content-Length: 428\n",
    "Content-Type: text/html\n",
    "Connection: Closed\n",
    "\n",
    "<html>\n",
    "<head><title>Search Results</title></head>\n",
    "<body>\n",
    "<h1>Search Results - I Robot</h1>\n",
    "...\n",
    "</body>\n",
    "</html>\n",
    "```\n",
    "\n",
    "HTTP responses are similar to HTTP requests.\n",
    "* **Status Line:** Responses start with a status line that includes the HTTP version and status code. Every status code has a short name that is included at the end of the line. A status code of 200 (name is *OK*) is the standard response code that indicates the HTTP request was successful. A code in the 400 range indicates there was an error with the request (like 404, *Not Found*) and a code in the 500 range means the request was valid, but the server had an error. [Click here for a list of HTTP codes.](https://en.wikipedia.org/wiki/List_of_HTTP_status_codes)\n",
    "* **Header Fields:** Similar to requests, the response contains several header fields. In this example, the response provides the date, identifies the type of server, and reports when the data provided was last modified, reports that the response data is formated as HTML, reports how many characters are being sent, and states that no connection is being maintained between my web browser and the libary's server.\n",
    "* **Content:** This response contains content, which is included after the headers, following a blank line. In this example, the content is HTML text (i.e., a web page). HTTP Responses provided by the *The Blue Alliance* API or FIRST API will contain text formatted as [Javascript Object Notation (JSON)](https://www.w3schools.com/js/js_json_intro.asp) or [Exensible Markup Language (XML)](https://www.w3schools.com/xml/default.asp), which will be covered in a later session."
   ]
  },
  {
   "cell_type": "markdown",
   "metadata": {},
   "source": [
    "## III. Using HTTP in Python\n",
    "The [Python Standard Library](https://docs.python.org/3/library/index.html), which is included with every Python installation, contains a package, [`urllib`](https://docs.python.org/3/library/urllib.html) for creating and sending HTTP requests and reading the HTTP response.\n",
    "\n",
    "### A. Simple HTTP Request\n",
    "First, let's submit a simple HTTP request to http://httpbin.org/. httpbin.org is a web site that developers can use to test HTTP requests. Run the code below:"
   ]
  },
  {
   "cell_type": "code",
   "execution_count": null,
   "metadata": {},
   "outputs": [],
   "source": [
    "# Very Simple HTTP Request\n",
    "import urllib.request\n",
    "\n",
    "resp = urllib.request.urlopen('http://httpbin.org/get')\n",
    "response_content = resp.read()\n",
    "resp.close()\n",
    "print(response_content)"
   ]
  },
  {
   "cell_type": "markdown",
   "metadata": {},
   "source": [
    "#### What just happened?\n",
    "httpbin.org sent us some JSON text that contains information about the HTTP request that we sent. The JSON text is a bit difficult to read - let's clean it up a bit. Run the next cell."
   ]
  },
  {
   "cell_type": "code",
   "execution_count": null,
   "metadata": {},
   "outputs": [],
   "source": [
    "# Very Simple HTTP Request - Nicer Output\n",
    "import json\n",
    "import urllib.request\n",
    "\n",
    "resp = urllib.request.urlopen('http://httpbin.org/get')\n",
    "response_content = resp.read()\n",
    "resp.close()\n",
    "json.loads(response_content)"
   ]
  },
  {
   "cell_type": "code",
   "execution_count": null,
   "metadata": {},
   "outputs": [],
   "source": [
    "data = json.loads(response_content)\n",
    "data['headers']['User-Agent']"
   ]
  },
  {
   "cell_type": "markdown",
   "metadata": {},
   "source": [
    "That's better. The call to `json.loads()` just converts the JSON text to a Python dictionary, which prints out more nicely in a Jupyter notebook. Don't worry if you don't fully understand it - JSON will be covered in another session.\n",
    "\n",
    "The `urlopen()` method accepted a uniform resource locater (URL) as a parameter and sent us back the following information:\n",
    "* The empty braces after `'args':` indicates we did not pass any GET parameters with our request.\n",
    "* The *headers* section lists all of the headers we included with our request. The *User-Agent* header reveals that the request was generaged by Python's `urllib` package and that we are using version 3.7 of Python.\n",
    "* httpbin.org also reports the IP address of our client computer and the URL to which we sent our HTTP request.\n",
    "\n",
    "Note that `urlopen()` returned a response object, which we saved to the variable `resp`.\n",
    "\n",
    "We used the `read()` method on the [response object](https://docs.python.org/3/library/http.client.html#http.client.HTTPResponse) to get the content of the response. The response object has several other methods, including `geturl()`, `info()`, and `getcode()`.\n",
    "\n",
    "Finally, we closed the response object with `resp.close()`, converted the response text to a Python object using the `json` package, and displayed the results. Calling the `close()` method helps Python to free up resources that are devoted to the response object.\n",
    "\n",
    "OK, I know I said that HTTP doesn't care about the URL of the server, yet here we are, passing the URL to the `urlopen()` method. The `urllib` package is using a combination of HTTP and internet protocol (IP) to process our HTTP request."
   ]
  },
  {
   "cell_type": "markdown",
   "metadata": {},
   "source": [
    "### B. Using `with` Syntax With urllib.request\n",
    "Programmers don't like having to remember to close things. We're like small children, racing into the front yard after our Mom said we can play outside, leaving the front door wide open. Or leaving the refrigerator open. Or the car door. Or cabinets.\n",
    "\n",
    "Programmers don't have to remember to close things when they use the Python `with` statement. Here is the call to urlopen() from the preceding code cell, rewritten so the call to `resp.close()` is unnecessary."
   ]
  },
  {
   "cell_type": "code",
   "execution_count": null,
   "metadata": {},
   "outputs": [],
   "source": [
    "# Using the 'with' syntax to send a HTTP request.\n",
    "with urllib.request.urlopen('http://httpbin.org/get') as resp:\n",
    "    response_content = resp.read()\n",
    "json.loads(response_content)"
   ]
  },
  {
   "cell_type": "markdown",
   "metadata": {},
   "source": [
    "The `with` statement will makes sure that the response object, stored in the `resp` variable, is closed when we are finished with it. Pay careful attention to the indentation. The `with` statement will assign the results of the `urlopen()` call to the variable `resp`. All code that accesses the response object should be indented below the `with` statement.\n",
    "\n",
    "Most online examples for the `urllib` package will use the `with` statement syntax."
   ]
  },
  {
   "cell_type": "markdown",
   "metadata": {},
   "source": [
    "### C. HTTP Request with Parameters\n",
    "Now let's try adding some GET parameters. Write the code to submit an HTTP request and read the response just like in section D.1, but add two GET parameters:  \n",
    "team = 1318 and city = issaquah.\n",
    "\n",
    "Review the GET Request section above if you don't remember how to do this. You do not need to repeat the imports as long as you ran the cell above. (Run the above cell again if you get an import error.)"
   ]
  },
  {
   "cell_type": "code",
   "execution_count": null,
   "metadata": {},
   "outputs": [],
   "source": [
    "# Send a GET request with parameters in this code block.\n",
    "\n"
   ]
  },
  {
   "cell_type": "markdown",
   "metadata": {},
   "source": [
    "If you did it right, your response should look something like this:\n",
    "```JSON\n",
    "{'args': {'city': 'issaquah', 'team': '1318'},\n",
    " 'headers': {'Accept-Encoding': 'identity',\n",
    "  'Host': 'httpbin.org',\n",
    "  'User-Agent': 'Python-urllib/3.7',\n",
    "  ...\n",
    " ```"
   ]
  },
  {
   "cell_type": "markdown",
   "metadata": {},
   "source": [
    "### D. Adding Headers\n",
    "Now let's add a header. Let's send an authorization key to the server. An authorization key is very similar to a password. But unlike standard user passwords, which are intended to be memorizable and manually typed into a password field, authorization keys are generally very long hexadecimal or random character strings.\n",
    "\n",
    "The standard header for sending an authorization key is *Authorization*. Run the code cell below:"
   ]
  },
  {
   "cell_type": "code",
   "execution_count": null,
   "metadata": {},
   "outputs": [],
   "source": [
    "# Adding an authorization header to an HTTP request.\n",
    "req = urllib.request.Request('http://httpbin.org/get')\n",
    "req.add_header('Authorization', 'my_insecure_auth_key')\n",
    "\n",
    "with urllib.request.urlopen(req) as resp:\n",
    "    response_content = resp.read()\n",
    "json.loads(response_content)"
   ]
  },
  {
   "cell_type": "markdown",
   "metadata": {},
   "source": [
    "OK, so we can't just pass a URL into `urlopen()` when we want to add or modify headers. We have to create a `urllib.request.Request` object, add the headers to that object, and then we can pass the `Request` object to `urlopen()` instead of the URL string.\n",
    "\n",
    "We can add multiple headers at one time by passing the headers as a list ot tuples. Run the code cell below:"
   ]
  },
  {
   "cell_type": "code",
   "execution_count": null,
   "metadata": {},
   "outputs": [],
   "source": [
    "# Adding or modifying multiple HTTP headers.\n",
    "headers = {'Authorization': 'my_insecure_auth_key', 'User-Agent': 'Pyclass-FRC Notebook'}\n",
    "req = urllib.request.Request('http://httpbin.org/get', headers=headers)\n",
    "\n",
    "with urllib.request.urlopen(req) as resp:\n",
    "    response_content = resp.read()\n",
    "json.loads(response_content)"
   ]
  },
  {
   "cell_type": "markdown",
   "metadata": {},
   "source": [
    "Instead of using the `add_header()` method, we passed a dictionary of headers to the `headers` argument of the `Request` object constructor. This is a useful technique for adding several headers at one time, but we could have just called `.add_header()` twice, once for the *Authorization* header and once for the *User-Agent* header.\n",
    "\n",
    "Also note that the `urlopen()` had already been including a *User-Agent* header by default. We were able to change the value of this header by adding it to the headers dictionary."
   ]
  },
  {
   "cell_type": "markdown",
   "metadata": {},
   "source": [
    "Now you try. Send an HTTP request that includes an *Authorization* header, an *Accept* header telling the server we want the result formatted as JSON (set value to *application/json*), and overwrite the *User-Agent* header with a value of your choice."
   ]
  },
  {
   "cell_type": "code",
   "execution_count": null,
   "metadata": {},
   "outputs": [],
   "source": [
    "# Send an HTTP request with multiple HTTP Headers here.\n",
    "\n"
   ]
  },
  {
   "cell_type": "markdown",
   "metadata": {},
   "source": [
    "If you did it right, your response should look something like this:\n",
    "```JSON\n",
    "{'args': {},\n",
    " 'headers': {'Accept': 'application/json',\n",
    "  'Accept-Encoding': 'identity',\n",
    "  'Authorization': 'my_insecure_auth_key',\n",
    "  'Host': 'httpbin.org',\n",
    "  'User-Agent': 'Pyclass_multi_header_exercise',\n",
    "  'X-Amzn-Trace-Id': 'Root=1-5e766683-01bd4cc86717ddf71c29f27b'},\n",
    " 'origin': '192.168.13.18',\n",
    " 'url': 'http://httpbin.org/get'}\n",
    "```"
   ]
  },
  {
   "cell_type": "code",
   "execution_count": null,
   "metadata": {},
   "outputs": [],
   "source": [
    "# Adding or modifying multiple HTTP headers.\n",
    "headers = {'Authorization': 'my_insecure_auth_key', 'User-Agent': 'Pyclass_multi_header_exercise',\n",
    "          'Accept': 'application/json'}\n",
    "req = urllib.request.Request('http://httpbin.org/get', headers=headers)\n",
    "\n",
    "with urllib.request.urlopen(req) as resp:\n",
    "    response_content = resp.read()\n",
    "json.loads(response_content)"
   ]
  },
  {
   "cell_type": "markdown",
   "metadata": {},
   "source": [
    "## III. Exercises\n",
    "\n",
    "### Exercise #1\n",
    "Send an HTTP request and use the `getcode()` name to get the response status code. What method of the response object will get the name of the code (e.g., \"OK\" for code 200)."
   ]
  },
  {
   "cell_type": "code",
   "execution_count": null,
   "metadata": {},
   "outputs": [],
   "source": [
    "# Using getcode()\n",
    "\n"
   ]
  },
  {
   "cell_type": "markdown",
   "metadata": {},
   "source": [
    "### Exercise #2\n",
    "Send an HTTP request with three query parameters of your choice. Use the `info()` method on your response."
   ]
  },
  {
   "cell_type": "code",
   "execution_count": null,
   "metadata": {},
   "outputs": [],
   "source": [
    "# Practice sending an HTTP request with multiple query parameters\n",
    "\n"
   ]
  },
  {
   "cell_type": "markdown",
   "metadata": {},
   "source": [
    "### Exercise #3\n",
    "Send an HTTP request with the additional headers *Accept-Charset* and *Accept-Language*. Appropriate values for these headers are *utf-8* and *en-US*."
   ]
  },
  {
   "cell_type": "code",
   "execution_count": null,
   "metadata": {},
   "outputs": [],
   "source": [
    "# Practice adding headers to HTTP requests.\n",
    "\n"
   ]
  },
  {
   "cell_type": "markdown",
   "metadata": {},
   "source": [
    "## IV. Concept and Terminology Review\n",
    "You should be able to define the following terms or drescribe the concept. \n",
    "* URL\n",
    "* HTTP Request\n",
    "* HTTP Response\n",
    "* HTTP Header\n",
    "* Query Parameter\n",
    "* HTTP Response code\n",
    "* `with` statement\n",
    "* HTTP Content"
   ]
  },
  {
   "cell_type": "markdown",
   "metadata": {},
   "source": [
    "## V. Further Study\n",
    "\n",
    "This session covers the bare minimum. Students are encouraged to review other HTTP references.\n",
    "* [TutorialsPoint HTTP Tutorial](https://www.tutorialspoint.com/http/http_quick_guide.htm)\n",
    "* [Wikipedia Article](https://en.wikipedia.org/wiki/Hypertext_Transfer_Protocol)\n",
    "* http://httpbin.org/"
   ]
  },
  {
   "cell_type": "markdown",
   "metadata": {},
   "source": [
    "[Table of Contents](../../index.ipynb)"
   ]
  }
 ],
 "metadata": {
  "kernelspec": {
   "display_name": "Python 3 (ipykernel)",
   "language": "python",
   "name": "python3"
  },
  "language_info": {
   "codemirror_mode": {
    "name": "ipython",
    "version": 3
   },
   "file_extension": ".py",
   "mimetype": "text/x-python",
   "name": "python",
   "nbconvert_exporter": "python",
   "pygments_lexer": "ipython3",
   "version": "3.9.7"
  }
 },
 "nbformat": 4,
 "nbformat_minor": 4
}
