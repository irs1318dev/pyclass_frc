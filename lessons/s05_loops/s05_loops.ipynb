{
 "cells": [
  {
   "cell_type": "markdown",
   "metadata": {},
   "source": [
    "[Table of Contents](../../index.ipynb)"
   ]
  },
  {
   "cell_type": "markdown",
   "metadata": {},
   "source": [
    "# FRC Analytics with Python - Session 05\n",
    "# Loops\n",
    "**Last Updated: 31 August 2020**"
   ]
  },
  {
   "cell_type": "markdown",
   "metadata": {},
   "source": [
    "## I. What are Loops?\n",
    "\n",
    "A loop is a code construct that executes a group of statements several times. Take a look at the following code snippet.\n",
    "```Python\n",
    "while power_cells < 5:\n",
    "    pickup_power_cell():\n",
    "```           \n",
    "Because Python is easy to read, you can probably understand the code snippet even though you are new to Python. The `while` statement will cause the program to keep picking up power cells until it has five on board."
   ]
  },
  {
   "cell_type": "markdown",
   "metadata": {},
   "source": [
    "## II. Additional Assignment Statements\n",
    "Before we jump into loops, we should learn a few more assignment statements. We have already used the basic assignment operator: `=`, which causes the value on the right had side of the equals sign to be assigned to the variable on the left hand side of the equals sign. Python provides several other assignment statements, which we should cover before we learn more control statements."
   ]
  },
  {
   "cell_type": "code",
   "execution_count": null,
   "metadata": {},
   "outputs": [],
   "source": [
    "# Basic Assignment Statement\n",
    "var1 = 10\n",
    "var1"
   ]
  },
  {
   "cell_type": "markdown",
   "metadata": {},
   "source": [
    "Often in computer programming, we need to add or subtract a number to an already-existing variable. These actions are called *incrementing* and *decrementing.* We can increment with the basic assignment operator."
   ]
  },
  {
   "cell_type": "code",
   "execution_count": null,
   "metadata": {},
   "outputs": [],
   "source": [
    "# Increment var1 by 1\n",
    "var1 = var1 + 1\n",
    "var1"
   ]
  },
  {
   "cell_type": "code",
   "execution_count": null,
   "metadata": {},
   "outputs": [],
   "source": [
    "# Decrement var1 by 2\n",
    "var1 = var1 - 2\n",
    "var1"
   ]
  },
  {
   "cell_type": "markdown",
   "metadata": {},
   "source": [
    "Python provides special operators for incrementing and decrementing because these actions occur so frequently. The operators are `+=` and `-=`."
   ]
  },
  {
   "cell_type": "code",
   "execution_count": null,
   "metadata": {},
   "outputs": [],
   "source": [
    "# Increment Operator\n",
    "var2 = 20\n",
    "var2 += 1\n",
    "var2"
   ]
  },
  {
   "cell_type": "code",
   "execution_count": null,
   "metadata": {},
   "outputs": [],
   "source": [
    "# Decrement Operator\n",
    "var2 = 15\n",
    "var2 -= 5\n",
    "var2"
   ]
  },
  {
   "cell_type": "markdown",
   "metadata": {},
   "source": [
    "The `+=` operator adds the number on the right side of the operator to the number already assigned to the variable on the left side of the operator. The `-=` operator uses subtraction instead of addition.\n",
    "\n",
    "Python provides similar operators for the other basic mathematical operations. These operators don't occur as frequently as increment and decrement, but they are available if you want to use them."
   ]
  },
  {
   "cell_type": "code",
   "execution_count": null,
   "metadata": {},
   "outputs": [],
   "source": [
    "# Multiplication assignment\n",
    "var3 = 4\n",
    "var3 *= 3\n",
    "var3"
   ]
  },
  {
   "cell_type": "code",
   "execution_count": null,
   "metadata": {},
   "outputs": [],
   "source": [
    "# Division assignment\n",
    "var4 = 8\n",
    "var4 /= 2\n",
    "var4"
   ]
  },
  {
   "cell_type": "code",
   "execution_count": null,
   "metadata": {},
   "outputs": [],
   "source": [
    "# Floor division assignment\n",
    "var4 = 8\n",
    "var4 //= 2\n",
    "var4"
   ]
  },
  {
   "cell_type": "code",
   "execution_count": null,
   "metadata": {},
   "outputs": [],
   "source": [
    "# Modulus assignment\n",
    "var5 = 22\n",
    "var5 %= 6\n",
    "var5"
   ]
  },
  {
   "cell_type": "code",
   "execution_count": null,
   "metadata": {},
   "outputs": [],
   "source": [
    "# Exponent assignment\n",
    "var6 = 2\n",
    "var6 **= 4\n",
    "var6"
   ]
  },
  {
   "cell_type": "markdown",
   "metadata": {},
   "source": [
    "All of these operators can be replaced with a basic assignment statement. For example, `var3 *= 3` can be replaced with `var3 = var3 * 3`. But if you use the special version of of the assignment statement you won't have to type the variable name twice (so there will be less chance of a typo) and the code will be more compact."
   ]
  },
  {
   "cell_type": "markdown",
   "metadata": {},
   "source": [
    "## III. While Loops\n",
    "The most fundamental type of loop in programming is the `while` loop. Run the cell below for an example:"
   ]
  },
  {
   "cell_type": "code",
   "execution_count": null,
   "metadata": {},
   "outputs": [],
   "source": [
    "# Coundown!\n",
    "count = 10                           # line 2\n",
    "while count >= 0:                    # line 3\n",
    "    print(str(count) + \"!\")          # line 4\n",
    "    count -= 1                       # line 5\n",
    "print(\"Liftoff, we have liftoff!\")   # line 6"
   ]
  },
  {
   "cell_type": "markdown",
   "metadata": {},
   "source": [
    "Here is a detailed description of what happened.\n",
    "1. Line 2 simply assigns the integer 10 to the variable *count*. (Line 1 is the comment line.)\n",
    "2. The *while* loop starts on line 2. Python starts by evaluating the conditional operator expression `count >= 0`. If that statement evaluates to `True`, Python will execute the indented code.\n",
    "3. Since 10 is greater than 0, Python executes the `print()` function in line 4, the first indented line.\n",
    "4. Line 5, `count -= 1`, is also indented, so Python executes that line too. the variable *count* is now equal to 9.\n",
    "5. Line 6 is not indented. Therefore it is not part of the *while* loop. Python ignores line 6 and goes back to the beginning of the loop in line 3.\n",
    "6. The *count* variable is now equal to 9, which is still greater than 0. Python executes the two statements within the loop, on lines 4 and 5, again.\n",
    "7. This cycle continues until *count* is equal to negative 1. Finally, the conditional expression on line 3 evaluates to `False`. Python will now ignore the body of the loop (the two indented lines) and proceed to line 6.\n",
    "8. Python executes line 6, displaying the liftoff string, and we're done.\n",
    "\n",
    "**Now let's try a couple things.**\n",
    "1. Insert 4 spaces in front of `print(...)` in line 6, so the statement has the same indentation level as lines 4 and 5. What do you think will happen if you re-run the loop? Run the loop and see if you were right.\n",
    "  * As you can see, the liftoff statement is now part of the *while* loop and runs during every iteration of the loop.  \n",
    "  \n",
    "  \n",
    "2. Comment out line 5. This means you should place a hash mark, `#`, in front of the line so Python will ignore it. What do you think will happen if you run the cell? Run the cell and see if you were right.\n",
    "  * You have just placed Python in an infinite loop. You can tell that it's still running because of the asterisk to the left of the code cell. Stop Python by hitting the black square on the toolbar (next to *Run*). Or you can select *Kernal -> Interrupt* from the menu. Or you can press ESC and then press *I* twice.\n",
    "  * If you remove the decrement statement (line 5), the value in count never gets smaller. Every time Python finishes an iteration of the loop, goes back to the beginning, and checks `count >= 0`, count will always be greater than zero. I suppose that sometime over the next several billion years, it's possible that some gamma rays could hit your computer and flip the bits to a value less than zero, but I suspect you will have stopped paying your electricity bill by then, so the point is moot.\n",
    "  * I think it's a good practice, when writing a while loop, to write the decrement or increment statement first, before you write any other lines of code. That makes it a bit harder to get into an infinite loop."
   ]
  },
  {
   "cell_type": "markdown",
   "metadata": {},
   "source": [
    "### While Loop for Fibonacci Sequence\n",
    "*While* loops are important, so let's review another example to make sure we understand them. The *while* loop below calculates all terms of the Fibonacci sequence that are less than ten. \n",
    "\n",
    "#### Math refresher\n",
    "* A **sequence** is an ordered list of numbers. For example, the progression of positive integers (1, 2, 3, 4, 5, ...) is a sequence. If we squared each of these numbers, resulting in (1, 4, 9, 16, 25, ...), that too would be a sequence.\n",
    "* The first two terms of the **Fibonacci** sequence are the integers 0 and 1. The third term is determined by adding together the previous two terms. $0 + 1 = 1$, so the third term is 1. Each subsequent term is the sum of the previous two terms. The fourth term is 2 ($1 + 1$), the fifth term is 3 ($1 + 2$), the sixth term is 5 ($2 + 3$), and so on.\n",
    "\n",
    "Here is a while loop that calculates the Fibonnaci sequence."
   ]
  },
  {
   "cell_type": "code",
   "execution_count": null,
   "metadata": {},
   "outputs": [],
   "source": [
    "# While Loop for calculating Fibonnaci sequence\n",
    "a = 0          # First term of Fibonacci sequence\n",
    "b = 1          # Second term of sequence\n",
    "while a < 10:\n",
    "    print(a)\n",
    "    swap = b\n",
    "    b = a + b  # Calculate next term of Fibonacci sequence\n",
    "    a = swap   # Set a to be preceeding term"
   ]
  },
  {
   "cell_type": "markdown",
   "metadata": {},
   "source": [
    "#### Fibonacci Loop Description\n",
    "1. To start, we set `a` equal to the first term of the Fibonacci Sequence (0) and `b` is set equal to the second term.\n",
    "2. Since `a < 10`, we enter the *while* loop.\n",
    "3. We print the value of `a`, the first term in the sequence.\n",
    "4. Now it get's interesting. For reasons that will be apparent momentarily, we need to make a copy of `b`, the second term. We assign the value of `b` to the variable `swap`.\n",
    "5. We calculate the next term of the sequence by adding `a` and `b` and assign the result to `b`.\n",
    "6. Before we finish, we need to update the value of `a`. `b` now contains the third terms of the sequence, but `a` still contains the 1st term. We need to set `a` to be equal to the second term of the sequence. Fortunately, we saved the value of the second term earlier in the `swap` variable.\n",
    "7. Next we go back to the beginning of the loop and check the value of `a`. `a` is now equal to 1, which is still less than 10, so we go through the loop again to calculate the fourth term of the sequence.\n",
    "8. We repeat the loop while `a < 10`. On the last iteration of the loop, `a` gets updated to equal 13 ($5 + 8$). Since `a` is not greater than 10, the loop *while* loop terminates and the program ends.\n",
    "\n",
    "Again, be careful with `while` loops. It's easy to create an infinite loop if you don't keep track of the conditions required to exit the loop."
   ]
  },
  {
   "cell_type": "markdown",
   "metadata": {},
   "source": [
    "### A. While Loop Exercises\n",
    "**Ex. III.1.** Ask the user to input a integer. Use a while loop to count down from that number by twos (print each number in the count). Stop when the count is equal to or less than 0."
   ]
  },
  {
   "cell_type": "code",
   "execution_count": null,
   "metadata": {},
   "outputs": [],
   "source": [
    "# Ex III.1\n",
    "\n"
   ]
  },
  {
   "cell_type": "markdown",
   "metadata": {},
   "source": [
    "**Ex III.2.** Write a program to compute a factorial. Ask the user to input an integer. If the user enters a negative number the program should print a message instructing the user to enter a number greater than or equal to zero. If the user enters 0, the program should set the result to be 1. Otherwise use a `while` loop to calculate the factorial of that number. Display the result to the user. The output should look like:\n",
    "```\n",
    "The factorial of 5 is 120.\n",
    "```\n",
    "Hint: Calculate the factorial by counting up from 1 to the number entered by the user."
   ]
  },
  {
   "cell_type": "code",
   "execution_count": null,
   "metadata": {},
   "outputs": [],
   "source": [
    "# Ex III.2\n",
    "\n"
   ]
  },
  {
   "cell_type": "markdown",
   "metadata": {},
   "source": [
    "## IV. Digression - You Don't Know How to Read Code!\n",
    "Don't take it personally, but if this is your first experience with programming, then your brain has not yet learned how to read programming languages. If you attempt to read code the same way you are reading this sentence, that is, with very little conscious effort -- letting your eyes scan the page such that the words just appear in your mind, you will miss important details.\n",
    "\n",
    "Here's an example. One block of code will calculate a factorial. The other will not.\n",
    "\n",
    "```\n",
    "# Code Bloc #1\n",
    "num = 5\n",
    "step = 1\n",
    "fact = 1\n",
    "While step < num:\n",
    "    step = step + 1\n",
    "     fact = fact * step\n",
    "print(f'Factorial of {num}:', fact)\n",
    "```\n",
    "```\n",
    "# Code Bloc #2\n",
    "num = 5\n",
    "step = 1\n",
    "fact = 1\n",
    "while step < num\n",
    "    step = step + 1\n",
    "    fact = fact * step\n",
    "print(f'Factorial of {num}:', Fact)\n",
    "```\n",
    "\n",
    "Actually I lied. Neither block will run. Each block has two errors. To find the errors, you will need to look at every letter, symbol, number, and whitespace character in the code blocks. They all matter. Whether a character is upper or lower case also matters.\n",
    "\n",
    "**Ex. IV.1.** Try to fix the errors and run the code below."
   ]
  },
  {
   "cell_type": "code",
   "execution_count": 1,
   "metadata": {},
   "outputs": [],
   "source": [
    "# Ex IV.1: Use a while loop to calculate a factorial\n",
    "\n"
   ]
  },
  {
   "cell_type": "markdown",
   "metadata": {},
   "source": [
    "Did you see the upper case character that should have been lower case? Did you see the missing punctation? How about the extra space?"
   ]
  },
  {
   "cell_type": "markdown",
   "metadata": {},
   "source": [
    "## V. For Loops\n",
    "Python, like most programming languages, has another type of loop called a *for* loop. Here is a simple example:"
   ]
  },
  {
   "cell_type": "code",
   "execution_count": null,
   "metadata": {},
   "outputs": [],
   "source": [
    "# for loop example\n",
    "mechanicals = [\"belt\", \"pully\", \"spur gear\", \"bevel gear\", \"worm wheel\"]\n",
    "for word in mechanicals:\n",
    "    print(word)"
   ]
  },
  {
   "cell_type": "markdown",
   "metadata": {},
   "source": [
    "For every string in the list `mechanicals`, the *for* loop printed the string. Here is another example with numbers:"
   ]
  },
  {
   "cell_type": "code",
   "execution_count": null,
   "metadata": {},
   "outputs": [],
   "source": [
    "# for loop with numbers\n",
    "squares = []\n",
    "for num in [0, 1, 2, 3, 4, 5, 6, 7, 8, 9]:\n",
    "    squares.append(num**2)\n",
    "print(squares)"
   ]
  },
  {
   "cell_type": "markdown",
   "metadata": {},
   "source": [
    "The *for* loop squared every number in the list and appended it to a list.\n",
    "\n",
    "Typing out the numbers 1 through 10 wasn't too much work, but what if we wanted to loop through the numbers 1 through 100? That would be tedious. Fortunately Python has a built-in function called `range()` that makes the work easier."
   ]
  },
  {
   "cell_type": "code",
   "execution_count": null,
   "metadata": {},
   "outputs": [],
   "source": [
    "# range function examples\n",
    "for num in range(10):\n",
    "    print(num, end=\", \")\n",
    "    \n",
    "print()\n",
    "print()\n",
    "    \n",
    "for num in range(5):\n",
    "    print(num, end=\", \")"
   ]
  },
  {
   "cell_type": "markdown",
   "metadata": {},
   "source": [
    "The `range()` function causes the `num` variable to be set to all non-negative integers that are *less than* its argument, starting with zero. So `range(10)` causes `num` to be set to zero through nine, and `num` five causes `num` to be set to 0 through four. It may seem a bit confusing that the loop never runs with the values of ten or five, but this syntax makes sense because in the first case, the loop executes five times, and in the second case, the loop executes ten times.\n",
    "\n",
    "Did you notice the trick with the `print()` statement? We added a **named argument** called `end`. Normally `print()` adds a new line to the end of whatever it displays, so any subsequent calls to `print()` will be on a new line. But if we include the `end` parameter when we call `print()`, whatever we pass to `end` will be placed at the end of the text displayed by `print()`. In this case, we passed a string with a comma and a space, causing each number to be displayed on the same line, separated by a comma and space.\n",
    "> **Experiment:** Play with the code to get a feel for how `end` works. Try replacing `', '` with `\"-\"` or `\"\\n\\n\"` (`\"\\n\"` is a special code that stands for a newline character), or remove the `end` argument entirely. Also see what happens when you remove the two empty `print()` statements in the middle of the code cell.\n",
    "\n",
    "But what if we don't want the loop to start with zero? In that case we can add a second argument to `range()`."
   ]
  },
  {
   "cell_type": "code",
   "execution_count": null,
   "metadata": {},
   "outputs": [],
   "source": [
    "# range with two arguments\n",
    "for num in range(13, 19):\n",
    "    print(num, end=\", \")"
   ]
  },
  {
   "cell_type": "markdown",
   "metadata": {},
   "source": [
    "Instead of starting with zero, our loop started with the first argument, 13. The first argument is the *start* value, and the second argument is the *stop* value. Note how the first argument is included in the output, but the second argument is not.  But wait, there's more."
   ]
  },
  {
   "cell_type": "code",
   "execution_count": null,
   "metadata": {},
   "outputs": [],
   "source": [
    "# range with three arguments - Count to 100 by fours.\n",
    "for num in range(4, 101, 4):\n",
    "    print(num, end=\", \")"
   ]
  },
  {
   "cell_type": "markdown",
   "metadata": {},
   "source": [
    "The third argument to `range()` is called the step value. The `range()` function is a good example of how functions can be called with different combinations of arguments and will behave differently as a result. The arguments to `range()` are conceptually similar to the values passed to the slice operator for selecting values from a list:"
   ]
  },
  {
   "cell_type": "code",
   "execution_count": null,
   "metadata": {},
   "outputs": [],
   "source": [
    "list_1to20 = list(range(21))  # Create a list with integers 0 through 20\n",
    "print(\"List of numbers 1 - 20:\\t\\t\\t\\t\", list_1to20)\n",
    "print(\"Select multiples of 3 from list using a slice:\\t\", list_1to20[3:21:3])\n",
    "print(\"Same output using `range()`:\\t\\t\\t\", list(range(3, 21, 3)))"
   ]
  },
  {
   "cell_type": "markdown",
   "metadata": {},
   "source": [
    "Both the arguments to `range()` and the values passed to the slice operator consist of a *start*, *stop*, and *step*.\n",
    "\n",
    "By the way, the `\"\\t\"` represents a tab character. We used `\"\\t\"` to get our output to line up nicely in two columns.\n",
    "\n",
    "Here is one last *for* loop example."
   ]
  },
  {
   "cell_type": "code",
   "execution_count": null,
   "metadata": {},
   "outputs": [],
   "source": [
    "# Sum of first 10 perfect squares\n",
    "sum_squares = 0\n",
    "for num in range(1, 11):\n",
    "    sum_squares += num**2\n",
    "print(sum_squares)"
   ]
  },
  {
   "cell_type": "markdown",
   "metadata": {},
   "source": [
    "### For Loop Exercises"
   ]
  },
  {
   "cell_type": "markdown",
   "metadata": {},
   "source": [
    "**Ex. V.1** Predict the output of each code block below. Write the answer as a comment in the code block.\n",
    "#### Block 1\n",
    "```Python\n",
    "    for idx in range(5):\n",
    "        print(idx)\n",
    "```\n",
    "#### Block 2\n",
    "```Python\n",
    "for idx in range(3, 6):\n",
    "    print(idx)\n",
    "```\n",
    "\n",
    "#### Block 3\n",
    "```Python\n",
    "for idx in range(5, -5, -2):\n",
    "    print(idx)\n",
    "```"
   ]
  },
  {
   "cell_type": "code",
   "execution_count": null,
   "metadata": {},
   "outputs": [],
   "source": [
    "# Ex. VIII.1\n"
   ]
  },
  {
   "cell_type": "markdown",
   "metadata": {},
   "source": [
    "**Ex. V.2.** Print out all numbers from 1 to 100 that are multiples of 7. Use the *step* feature of the range function (don't use the modulus operator to check every single number)."
   ]
  },
  {
   "cell_type": "code",
   "execution_count": null,
   "metadata": {},
   "outputs": [],
   "source": [
    "# Ex VIII.2: Print all numbers from 1 to 100 that are multiples of 7.\n",
    "\n"
   ]
  },
  {
   "cell_type": "markdown",
   "metadata": {},
   "source": [
    "**Ex. V.3.** Use a `for` loop extract the first character from the list of words below. Add the characters to the `chars` list. (Hint: use the `append()` method to add the character to the `chars` list.)"
   ]
  },
  {
   "cell_type": "code",
   "execution_count": null,
   "metadata": {},
   "outputs": [],
   "source": [
    "# Ex. VIII.3: Use a for loop to add the first character of each word to the chars list\n",
    "words = [\"autonomous\", \"Mindstorm\", \"Roborio\", \"Android\", \"drivetrain\", \"end-effector\"]\n",
    "chars = []\n",
    "# Put for loop below this comment\n",
    "\n",
    "\n",
    "    \n",
    "print(chars)"
   ]
  },
  {
   "cell_type": "markdown",
   "metadata": {},
   "source": [
    "**Ex. V.4** If we list all the natural numbers below 10 that are multiples of 3 or 5, we get 3, 5, 6 and 9. The sum of these multiples is 23. *Find the sum of all the multiples of 3 or 5 below 1000.*\n",
    "  * Use the modulus operator to determine if a number is a multiple of 3 or 5. You can also use one of the logical operators.\n",
    "  * You'll need to initialize a variable to store the partial sum before the `for` loop.\n",
    "  \n",
    "This is the first problem from Project Euler. See https://projecteuler.net/problem=1. To see if you have the right answer, [create an account on Project Euler](https://projecteuler.net/register) and enter your answer."
   ]
  },
  {
   "cell_type": "code",
   "execution_count": null,
   "metadata": {},
   "outputs": [],
   "source": [
    "# Ex VIII.4: Sum of all multiples of 3 or 5 below 1000\n",
    "\n",
    "\n"
   ]
  },
  {
   "cell_type": "markdown",
   "metadata": {},
   "source": [
    "## VI. Break and Continue Statements\n",
    "There are times when we want to skip a portion of a `for` or `while` loop, or exit the loop prematurely.\n",
    "\n",
    "### The `break` Statement\n",
    "\n",
    "Review the following program for an example of a `break` statement."
   ]
  },
  {
   "cell_type": "code",
   "execution_count": null,
   "metadata": {},
   "outputs": [],
   "source": [
    "# Determine if number is prime\n",
    "check_num = int(input(\"Enter a positive integer: \"))\n",
    "prime = True\n",
    "for factor in range(2, check_num):\n",
    "    if check_num % factor == 0:\n",
    "        prime = False\n",
    "        print(check_num, \"is not prime!\")\n",
    "        print(factor, \"times\", check_num // factor, \"=\", check_num)\n",
    "        break\n",
    "if prime:\n",
    "    print(check_num, \"is prime!\")"
   ]
  },
  {
   "cell_type": "markdown",
   "metadata": {},
   "source": [
    "The program asks a user to enter an integer and determines if the integer is prime. The program uses a *for* loop that checks every integer from 2 to up to one less than the number entered by the user (`check_num`).\n",
    "\n",
    "An `if` statement with a modulus operator checks whether an integer is a factor of `check_num`. Once a factor is found, there is no reason to check any other numbers because we already know the number is not prime. The `break` statement causes Python to terminate the `for` loop.\n",
    "\n",
    "For example, suppose the user enters the number 9. The program will first check to see if 2 is a factor. Next the program will check to see if 3 is a factor. Since the remainder of $ 9 \\: \\div \\: 3$ is 0, the indented statement block below the `if` statement will be executed.The final statement of the block, the `break` statement tells Python to terminate the `for` loop. The `for` loop will not continue on to 4 or any other number and the `for` loop ends.\n",
    "\n",
    "Incidentally, the prime number program is simple, but very inefficient. Can you think of any ways to speed it up?"
   ]
  },
  {
   "cell_type": "markdown",
   "metadata": {},
   "source": [
    "### The `continue` Statement\n",
    "We just saw how a `break` statement causes Python to skip all remaining iterations of a `for` loop. A `continue` statement is a bit different. It causes Python to skip the remaining portion of the current iteration of a loop, but to *continue* with the next iteration."
   ]
  },
  {
   "cell_type": "code",
   "execution_count": null,
   "metadata": {},
   "outputs": [],
   "source": [
    "# Program to demonstrate how `continue` works\n",
    "for num in list(range(6)):\n",
    "    if num % 2 == 0:\n",
    "        print(\"num =\", num, \"Skipping ahead to next loop iteration.\")\n",
    "        continue\n",
    "    print(\"num =\", num, \"Last statement in loop\")  # Final print statement"
   ]
  },
  {
   "cell_type": "markdown",
   "metadata": {},
   "source": [
    "The *for* loop above iterates over the numbers 0 through 5. If the number is divisible by 2, Python continues to the next iteration of the loop, skipping the final print statement. "
   ]
  },
  {
   "cell_type": "markdown",
   "metadata": {},
   "source": [
    "### Using `break` and `continue` with *While* Loops\n",
    "The `break` and `continue` statements work with *while* loops the same way they work with *for* loops. In the example below, the program to check if a number is prime has been rewritten using a *while* loop instead of a *for* loop. The break statement causes the program to jump out of the while loop as soon as a factor is found."
   ]
  },
  {
   "cell_type": "code",
   "execution_count": null,
   "metadata": {},
   "outputs": [],
   "source": [
    "# Determine if number is prime with while loop\n",
    "check_num = int(input(\"Enter a positive integer: \"))\n",
    "prime = True\n",
    "factor = 2\n",
    "while factor < check_num:\n",
    "    if check_num % factor == 0:\n",
    "        prime = False\n",
    "        print(check_num, \"is not prime!\")\n",
    "        print(factor, \"times\", check_num // factor, \"=\", check_num)\n",
    "        break\n",
    "    factor += 1\n",
    "if prime:\n",
    "    print(check_num, \"is prime!\")"
   ]
  },
  {
   "cell_type": "markdown",
   "metadata": {},
   "source": [
    "The following program demonstrates use of `continue` with a *while* loop."
   ]
  },
  {
   "cell_type": "code",
   "execution_count": null,
   "metadata": {},
   "outputs": [],
   "source": [
    "# Program to demonstrate how `continue` works\n",
    "num = 0\n",
    "while num < 6:\n",
    "    if num % 2 == 0:\n",
    "        print(\"num =\", num, \"Skipping ahead to next loop iteration.\")\n",
    "        num += 1\n",
    "        continue\n",
    "    print(\"num =\", num, \"Last statement in loop\")  # Final print statement\n",
    "    num += 1"
   ]
  },
  {
   "cell_type": "markdown",
   "metadata": {},
   "source": [
    "The two *while* loop examples do the same thing as earlier examples that used a *for* loop. It just so happens that any *for* loop can be rewritten as a *while* loop, but the opposite is not true. There are *while* loops that cannot be converted to *for* loops. In the previous two *while* loop examples, we had to manually increment a counting variable (`factor` in the *break* example and `num` in the *continue* example). We'll end up with an infinite loop if we forget to add this increment step. *For* loops can also be easier to understand. So use a *while* loop if you need to, but if it's easy to use a *for* loop, the *for* loop is often a better choice."
   ]
  },
  {
   "cell_type": "markdown",
   "metadata": {},
   "source": [
    "### Exercises with `break` and `continue`"
   ]
  },
  {
   "cell_type": "markdown",
   "metadata": {},
   "source": [
    "**Ex. VI.1.** Print out all of the leap years from 1875 to 2025. Years divisible by 100 are *not* leap years, unless they are also divisible by 400. Use *if* and *continue* statements to skip the print statement for years divisible by 100 but not divisible by 400."
   ]
  },
  {
   "cell_type": "code",
   "execution_count": 2,
   "metadata": {},
   "outputs": [],
   "source": [
    "# Ex VI.1.: Print all leap years from 1875 to 2025.\n",
    "\n"
   ]
  },
  {
   "cell_type": "markdown",
   "metadata": {},
   "source": [
    "**Ex. VI.2.** Write a program that repeatedly asks a user to enter a non-negative number. After each number entered, the program should print the total of all numbers entered. The program should exit if the user enters a negative number.\n",
    "  * Put the `input()` function inside a *while* loop so that the user is repeatedly asked to enter a number.\n",
    "  * Check to see if the user input is negative. If so, use a `break` statement to exit from the loop.\n",
    "  \n",
    "The program output should look something like this:\n",
    "```\n",
    "Enter a non-negative integer: 1\n",
    "Current total:  1\n",
    "Enter a non-negative integer: 3\n",
    "Current total:  4\n",
    "Enter a non-negative integer: 1\n",
    "Current total:  5\n",
    "Enter a non-negative integer: 8\n",
    "Current total:  13\n",
    "Enter a non-negative integer: -1\n",
    "Goodbye!\n",
    "```"
   ]
  },
  {
   "cell_type": "code",
   "execution_count": 3,
   "metadata": {},
   "outputs": [],
   "source": [
    "# Ex. VI.2 Calculate the sum of all numbers entered by the user.\n",
    "\n",
    "\n"
   ]
  },
  {
   "cell_type": "markdown",
   "metadata": {},
   "source": [
    "**Ex. VI.3.** Write a program that displays a total and an integer to the user and asks the user what to do with the integer.\n",
    "  * The total should start at 0.\n",
    "  * The program should sequentially display the integers 1 through 5 to the user.\n",
    "  * The user should be instructed to enter 'x' to add the integer to the total, 'm' to multiply the total by the integer, 's' to skip the integer entirely, and 'x' to exit the program.\n",
    "  * Use a `continue` statement to continue to the next integer if the user enters 's'.\n",
    "  * Use a `break` statement to exit the loop and program if the user enters 'x'.\n",
    "  * If the user enters 'a' or 'm', then add or multiply the integer by the total, respectively.\n",
    "  \n",
    "The program output should look something like this:\n",
    "```\n",
    "Current total: 0\n",
    "Current integer: 1\n",
    "Enter 'a' to add the integer, 'm' to multiply, 's' to skip, or 'x' to exit the program: s\n",
    "Skipping...\n",
    "Current total: 0\n",
    "Current integer: 2\n",
    "Enter 'a' to add the integer, 'm' to multiply, 's' to skip, or 'x' to exit the program: a\n",
    "Adding...\n",
    "Current total: 2\n",
    "Current integer: 3\n",
    "Enter 'a' to add the integer, 'm' to multiply, 's' to skip, or 'x' to exit the program: m\n",
    "Multiplying...\n",
    "Current total: 6\n",
    "Current integer: 4\n",
    "Enter 'a' to add the integer, 'm' to multiply, 's' to skip, or 'x' to exit the program: x\n",
    "Goodbye\n",
    "The final total is: 6\n",
    "```"
   ]
  },
  {
   "cell_type": "code",
   "execution_count": 4,
   "metadata": {},
   "outputs": [],
   "source": [
    "# Ex. VI.3 Display sequence of integers to the user and ask user what to do.\n",
    "\n",
    "\n"
   ]
  },
  {
   "cell_type": "markdown",
   "metadata": {},
   "source": [
    "## VII. The `pass` Statement\n",
    "It's possible to have a loop or `if` statement that does absolutely nothing."
   ]
  },
  {
   "cell_type": "code",
   "execution_count": null,
   "metadata": {},
   "outputs": [],
   "source": [
    "# This loop does absolutely nothing.\n",
    "for x in range(100):\n",
    "    pass\n",
    "\n",
    "# This if-statement does nothing.\n",
    "if True:\n",
    "    pass"
   ]
  },
  {
   "cell_type": "markdown",
   "metadata": {},
   "source": [
    "The `pass` statement does nothing. It can be helpful when writing a program. Suppose you want to test parts of your program, but you have not yet written the body of a loop or `if` statement. Placing `pass` after the loop or `if` statement allows the rest of the program to run. Python will generate an error if there are no indented statements following a loop or `if` statement. Try removing one of the `pass` statements and running the cell to see for yourself."
   ]
  },
  {
   "cell_type": "markdown",
   "metadata": {},
   "source": [
    "## VIII. Python Tutorial Review\n",
    "The topics covered in this section are also covered in the official *Python Tutorial*. Read through the following sections of the tutorial to review the concepts we just covered.\n",
    "* [Section 3.2](https://docs.python.org/3/tutorial/introduction.html#first-steps-towards-programming) of the Python tutorial covers *while* statements. Review this section for a different explanation of how *while* loops work.\n",
    "* [Section 4.2](https://docs.python.org/3/tutorial/controlflow.html#for-statements) covers *for* loops.\n",
    "* [Section 4.3](https://docs.python.org/3/tutorial/controlflow.html#the-range-function) covers the `range()` function.\n",
    "* [Section 4.4](https://docs.python.org/3/tutorial/controlflow.html#break-and-continue-statements-and-else-clauses-on-loops) covers `break` and `continue`.\n",
    "* [Section 4.5](https://docs.python.org/3/tutorial/controlflow.html#pass-statements) coves the `pass` statement.\n",
    "\n",
    "Try out some examples from the *Python Tutorial* below:"
   ]
  },
  {
   "cell_type": "code",
   "execution_count": null,
   "metadata": {},
   "outputs": [],
   "source": [
    "# Examples from Python Tutorial\n",
    "\n",
    "\n"
   ]
  },
  {
   "cell_type": "markdown",
   "metadata": {},
   "source": [
    "## IX. Quiz\n",
    "Write your answers as Python comments in the code cells provided."
   ]
  },
  {
   "cell_type": "markdown",
   "metadata": {},
   "source": [
    "**#1.** True or False: A `while` loop can always be converted to a `for` loop and vise-versa."
   ]
  },
  {
   "cell_type": "code",
   "execution_count": null,
   "metadata": {},
   "outputs": [],
   "source": [
    "# Quiz-1\n"
   ]
  },
  {
   "cell_type": "markdown",
   "metadata": {},
   "source": [
    "**#2.** Explain what it means to increment or decrement a variable."
   ]
  },
  {
   "cell_type": "code",
   "execution_count": 5,
   "metadata": {},
   "outputs": [],
   "source": [
    "# Quiz-2\n"
   ]
  },
  {
   "cell_type": "markdown",
   "metadata": {},
   "source": [
    "**#3.** Explain the difference between the `break` and `continue` statements."
   ]
  },
  {
   "cell_type": "code",
   "execution_count": null,
   "metadata": {},
   "outputs": [],
   "source": [
    "# Quiz-3\n"
   ]
  },
  {
   "cell_type": "markdown",
   "metadata": {},
   "source": [
    "## X. Save Your Work\n",
    "Once you have completed the exercises, save a copy of the notebook outside of the git repository (outside of the *pyclass_frc* folder). Include your name in the file name. Send the notebook file to another student to check your answers."
   ]
  },
  {
   "cell_type": "markdown",
   "metadata": {},
   "source": [
    "## XI. Concept and Terminology Review\n",
    "You should be able to define the following terms or describe the concept. Re-review this and prior sessions if any of the terms are unfamiliar.\n",
    "* Assignment with `+=`, `-'`, `*=`, `/=`, `//=`, `%=`, `**=`\n",
    "* Increment and decrement\n",
    "* `while` loops\n",
    "* `for` loops\n",
    "* Looping through all elements of a list with `for`.\n",
    "* The `range()` function, including the purpose of all three arguments.\n",
    "* Using `for` with `range()`\n",
    "* Difference between `break` and `continue` statements"
   ]
  },
  {
   "cell_type": "markdown",
   "metadata": {},
   "source": [
    "## XII. Loop Humor\n",
    "![While Loop Humor](images/loop_humor.jpg)"
   ]
  },
  {
   "cell_type": "markdown",
   "metadata": {},
   "source": [
    "[Table of Contents](../../index.ipynb)"
   ]
  }
 ],
 "metadata": {
  "kernelspec": {
   "display_name": "Python 3",
   "language": "python",
   "name": "python3"
  },
  "language_info": {
   "codemirror_mode": {
    "name": "ipython",
    "version": 3
   },
   "file_extension": ".py",
   "mimetype": "text/x-python",
   "name": "python",
   "nbconvert_exporter": "python",
   "pygments_lexer": "ipython3",
   "version": "3.8.5"
  }
 },
 "nbformat": 4,
 "nbformat_minor": 2
}
