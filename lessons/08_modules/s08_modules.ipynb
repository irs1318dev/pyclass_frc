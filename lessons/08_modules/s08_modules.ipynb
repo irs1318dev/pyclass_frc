{
 "cells": [
  {
   "cell_type": "markdown",
   "metadata": {},
   "source": [
    "[Table of Contents](../../index.ipynb)"
   ]
  },
  {
   "cell_type": "markdown",
   "metadata": {},
   "source": [
    "# FRC Analytics with Python - Session 08\n",
    "# Python Modules\n",
    "**Last Updated: 23 September 2021**\n",
    "\n",
    "Jupyter notebooks are great for data analysis, experimenting, and running short bits of code. But for serious programs, we need to run Python code outside the Jupyter environment. Python code is saved in a text file with a *.py* extension. Each Python file constitutes a unit of code called a *module*. First, we'll cover an essential tool for working with modules, the programming text editor. Then we'll cover the modules themselves.\n",
    "\n",
    "You can't complete Session 08 exercises in Google Colab -- they must be completed on your local machine. Follow instructions in Session 03 to install Python and *VS Code* on your local machine."
   ]
  },
  {
   "cell_type": "markdown",
   "metadata": {},
   "source": [
    "## I. Programming Text Editor\n",
    "\n",
    "### A. Installing Microsoft VS Code\n",
    "You need a programming text editor to create Python programs that you can run on your computer. If you already are familiar with programming text editors and have one that you like (e.g., *Atom*, *Vim*, *Notepad++*), great! Use that one. The examples in this course will use *VS Code* from Microsoft. If you are not familiar with text editors, then use that one.\n",
    "\n",
    "Follow the instructions in [procedure 5 to install and configure VS Code](../../procedures/pc05_vs_code/pc05_vs_code.ipynb)."
   ]
  },
  {
   "cell_type": "markdown",
   "metadata": {},
   "source": [
    "### B. Getting Started with VS Code\n",
    "Windows users should start *VS Code* by starting an Anaconda Powershell prompt and entering the command `code`. *VS Code* has a built-in CLI. If you start *VS Code* from an Anaconda PowerShell prompt, then all *conda* commands will work within VS Code's CLI, but they won't work if you start VS Code from the start menu or a desktop icon. This guidance does not apply to Mac and Linux users.\n",
    "\n",
    "You should see something like this when you start up *VS Code*:\n",
    "\n",
    "![VS Code Startup](images/vs_startup.png)"
   ]
  },
  {
   "cell_type": "markdown",
   "metadata": {},
   "source": [
    "You might or might not see a menu bar. If the menu bar is hidden:\n",
    "1. Press the ALT key to make the menu bar visible.\n",
    "2. Select *View->Appearance->Show Menu* to make the menu bar stay visible.\n",
    "\n",
    "![Make Menu Bar Visible](images/vs_menu.png)\n",
    "\n",
    "If you can see the menu bar, try making it invisible and then making it visible again, just for practice.\n",
    "\n",
    "You can also use the *View->Appearance->Zoom In/Out* menu options to make the text larger or smaller."
   ]
  },
  {
   "cell_type": "markdown",
   "metadata": {},
   "source": [
    "### C. Open a Folder in VS Code\n",
    "1. Use Windows *File Explorer* or Mac *Finder* to create a folder for this session. The folder should be named *s08* and be located with your other Python programming files, but **outside the pyclass_frc Git repository**.\n",
    "2. Open the *s08* folder you just created in *VS Code*. Select *File->Open Folder...* from the *VS Code* menu (do not select *Open File...*) and select the folder you just created. \n",
    "3. Close the *Welcome* file if it's still open (click the *X* on the tab at the top of the editor window).\n",
    "\n",
    "*VS code* now displays the contents of the *s08* folder in the side bar on the left side of the *VS Code* window. When working on a project, you will frequently be working with several different files that are contained within the same folder. Being able to view the contents of the folder and quickly open any of its files within *VS Code* is very helpful. The pane that shows the contents of the folder is called the *Explorer* view. You can get back to the *Explorer* view by clicking the top left icon that looks like two sheets of paper, or by selecting *View->Explorer* from the menu."
   ]
  },
  {
   "cell_type": "markdown",
   "metadata": {},
   "source": [
    "### D. Create a Python File and Select an Environment\n",
    "1. Select *File->New File* from the *VS Code* menu.\n",
    "2. Select *File->Save As* from the menu (or hit CTRL+S) to save the file you just created.\n",
    "3. Name the file `misc.py`.\n",
    "4. After saving the file, *VS Code* might display a message that no Python interpreter has been selected. If you see this message, follow the instructions in section3 of [procedure 5](../../procedures/pc05_vs_code/pc05_vs_code.ipynb) to select a Python environment and interpreter.\n",
    "5. You may at some point see a message stating that *Linter pylint is not installed*. If so, click on the *Install* button, then select *Install using Conda* to install pylint. You will see pylint install inside a window within *VS Code*. Pylint is a tool that helps find errors in Python code. We will use it later in the course. Or you can just close the notification and ignore it for now.\n",
    "![Pylint Message](images/vs_linter_msg.png)"
   ]
  },
  {
   "cell_type": "markdown",
   "metadata": {},
   "source": [
    "## II. Writing a Simple Function\n",
    "Now we will write a simple Python function within *VS Code*.  Write a function called `echo` with one parameter named `stuff`. The function should print a blank line and then print the `stuff` parameter. *VS Code* will highlight any syntax errors that you make - make sure you fix those. Hit CTRL+S to save the file. Name the file `misc.py`.\n",
    "\n",
    "Now select *Run->Run without Debugging* from the *VS Code* menu (or hit CTRL+F5, or click the little green triangular icon in the upper right that looks like a *Play* button). The Python program will begin to run inside the termainal window within *VS Code*. Did you see any output? If you wrote the function correctly, there should be no output. Why not?\n",
    "\n",
    "Right... we have to *call* the function if we want anything to happen. Insert a blank line after the function definition, then add this line at the end of the `misc.py` file:\n",
    "```Python\n",
    "echo(\"I just repeat what other people say!\")\n",
    "```\n",
    "Now run the file in *VS Code*. You should see the phrase `I just repeat what other people say!` somewhere in the output."
   ]
  },
  {
   "cell_type": "markdown",
   "metadata": {},
   "source": [
    "## III. Running Python from the Command Line\n",
    "### A. Simple Scenario\n",
    "1. Open a PowerShell or Terminal window to the folder that contains `misc.py`.\n",
    "2. Run this command:\n",
    "```Bash\n",
    "python misc.py\n",
    "```\n",
    "\n",
    "You should see the output phrase from section II.\n",
    "\n",
    "As you can see, you run a python program by typing `python` at the command line, followed by the name of the Python file. Don't forget the `.py` extension.\n",
    "\n",
    "### B. Pass Arguments from the Command Line\n",
    "Our `misc.py` program is pretty boring. Let's modify `misc.py` to print arguments that are passed to it from the *PowerShell* or *Terminal* comamnd line.\n",
    "\n",
    "1. Add the line `import sys` to the top of the `misc.py` file. \n",
    "2. Change the last line to read `echo(sys.argv)`.\n",
    "\n",
    "The program should now look like:\n",
    "```Python\n",
    "import sys\n",
    "\n",
    "def echo(stuff):\n",
    "    print()\n",
    "    print(stuff)\n",
    "\n",
    "echo(sys.argv)\n",
    "```\n",
    "\n",
    "Now let's experiment. Inspect the program output each time you run it.\n",
    "1. Run the program again with no arguments. Just type `python misc.py` at the command line.\n",
    "2. Run the program again, but with an argument: `python misc.py one`.\n",
    "3. Run the program again, but with several arguments: `python misc.py 1 2 3`\n",
    "\n",
    "Have you figured out how this works? To understand what's going on, let's look at the changes we made to the file.\n",
    "\n",
    "First of all, `sys` is a module that's available in the Python Standard Library (PSL). We'll discuss the PSL more in the next section. For now, just understand that the [`sys` module provides many useful functions and objects for interacting with your computer's operating system](https://docs.python.org/3/library/sys.html). To use these objects and functions, we must first import the module, which is why we added `import sys` to the `misc.py` file.\n",
    "\n",
    "Next we modifled the function call at the end of the file. Instead of passing a string to our `echo()` function, we're passing the `argv` object from the `sys` module. When we ran `misc.py` with no arguments, our program printed out `['misc.py']`. When we ran the program with several aguments, the output was `['misc.py', '1', '2', '3']`. We now know several things about `sys.argv`.\n",
    "* The `sys.argv` object is a Python list.\n",
    "* The first element in the list is a string containing the name of the program.\n",
    "* Arguments are added to the `sys.argv` list in the order that they appeared on the command line.\n",
    "* Command line arguments are always passed as strings.\n",
    "\n",
    "### C. Commend Line Exercises\n",
    "**Ex III.1.** Write a python program called `cubit.py`. The program should accept a command line argument containing a number and print out the cube of the number. You will need to use a built-in Python function to convert the command line argument to a numeric value.\n",
    "\n",
    "**Ex III.2.** Write a python program called `multiple.py` that accepts two integer arguments and reports if the larger number is a multiple of the smaller number. The output should look like this:\n",
    "\n",
    "```Bash\n",
    "python misc.py 100 10\n",
    "Bigger Number: 100\n",
    "Smaller Number: 10\n",
    "10 is a factor of 100.\n",
    "\n",
    "python misc.py 101 10\n",
    "Bigger Number: 101\n",
    "Smaller Number: 10\n",
    "10 is NOT a factor of 100.\n",
    "```"
   ]
  },
  {
   "cell_type": "markdown",
   "metadata": {},
   "source": [
    "## IV. Modules\n",
    "*Module* is a frequently-used term when it comes to Python. For now, you can consider a Python file and a Python module to be the same thing. For example, the `cubit.py` file you created for exercise III.1 creates a `cubit` module. Modules and Python files are not really the same thing, but we'll wait to discuss the distinction until after we've gone through a couple examples.\n",
    "\n",
    "Modules are important because they allow us to split our programs into multiple files and keep our programs organized. Think about it -- if all of the code for our Python program were in some 100-page Python file, it would be difficult to find the code that we want to work on. It would also be difficult for multiple programmers to work on the program because they would all be trying to work in the same file simultaneously.\n",
    "\n",
    "### A. Importing  a Module\n",
    "We already saw how we can import a module from the Python standard library with the `import` statement. Now we're going to see how we can import a module that we created and use a function from that module.\n",
    "\n",
    "1. Create a new Python file called `mod_test.py`. Make sure you put `mod_test.py` in the same folder as `misc.py`, which you created back in section II.\n",
    "2. Add the following code to `mod_test.py`:\n",
    "\n",
    "```python\n",
    "import misc\n",
    "\n",
    "def echo(stuff):\n",
    "    print(\"This version of echo ignores what you tell it to do.\")\n",
    "\n",
    "print()\n",
    "print(\"====================================================\")\n",
    "echo(\" I'm calling a function from a different module!\")\n",
    "print(\"====================================================\")    \n",
    "\n",
    "print()\n",
    "print(\"=================================================\")\n",
    "misc.echo(\" I'm calling a function from a different module!\")\n",
    "print(\"=================================================\")\n",
    "```\n",
    "\n",
    "3. Run `mod_test.py`. You can run it right from *VS Code*. Go to the *Run* menu and select *Run Without Debugging*. Note that you can also run code by hitting CTRL + F5.\n",
    "![Running code in VS Code](images/vs_run.png)\n",
    "\n",
    "\n",
    "4. If everything works as expected, a terminal window should open within *VS Code* and you should see your program's output. It should look like this:\n",
    "![Program output within VS Code](images/vs_run_results.png)\n",
    "\n",
    "Look carefully at the code we just ran.\n",
    "  * We defined another function called `echo` that takes one argument. But unlike the `echo` function in the `misc.py` file, this other version of `echo` ignores the argument and prints the same message every time it is run.\n",
    "  * We called a function called `echo` twice. The first time we called it as `echo(...)` and the second time we called `misc.echo(...)`.\n",
    "  * We can tell from the output that when we called `echo(...)`, we ran the function defined in `mod_test.py`. When we called `misc.echo(...)`, we ran the function defined in `misc.py`.\n",
    "  \n",
    "This example illustrates how we can define variables and functions in one Python file and call them from another Python file. Just import the file and put the file name and a period in front of function or variable names from the imported file when using them."
   ]
  },
  {
   "cell_type": "markdown",
   "metadata": {},
   "source": [
    "### B. Modules are Objects\n",
    "Here is another example of importing a Python module:\n",
    "\n",
    "```python\n",
    "# Another module example\n",
    "import frc1318_data\n",
    "\n",
    "print(frc1318_data.team_name)\n",
    "print(frc1318_data.city)\n",
    "\n",
    "print(frc1318_data.get_current_roster())\n",
    "```\n",
    "\n",
    "We are now ready to talk about the differences between Python files and modules. A Python file is just a text file on your hard drive that contains Python code. As far as your operating system is concerned, it's no different than any other text file. Now take a close look at `frc1318_data` in the code snippet above. Do you see how `frc1318_data` behaves like an object? It has attributes (`team_name` and `city`) and methods (`get_current_roster()`) just like other objects we've seen. It behaves like an object because *it is an object*.\n",
    "\n",
    "For example, when we ran the code `import misc`, Python found the file *misc.py*, ran all of the code in that file, and created an object of type *module* named `misc`. To see for yourself, add the line `print(type(misc))` to the end of *mod_test.py* and re-run the program. A Python module is an object that is created from a Python file and is stored in memory. Module objects can be used directly within Python programs. In summary, modules and Python files are similar in the sense that a Python module is usually created from a corresponding Python file. Nevertheless they are different. When we refer to Python files, we're referring to text files, usually with a `.py` suffix, that are stored on your hard drive. When we refer to modules, we are referring to a Python object that is created from a Python file and is stored in your computer's memory. \n",
    "\n",
    "### C. Namespaces\n",
    "Also, did you notice how using modules allowed us to have two different functions both named `echo`? This is a useful feature of modules. Suppose you and another student decide to write a Python program. If you were to store all of your Python code in one file, you would have to work out some system to avoid duplicate names for variables or functions. But if you both keep your code in separate modules, then it doesn't matter if you use duplicate names. Every Python module has it's own **namespace**. A *namespace* is a set of names for various Python objects. One set of names (i.e., namespace) is defined within `misc.py` and another set is defined within `mod_test.py`. The concept of a *namespace* occurs in many programming languages."
   ]
  },
  {
   "cell_type": "markdown",
   "metadata": {},
   "source": [
    "### D. More Ways to Import\n",
    "Suppose we plan to use many variables from the file `frc1318_data` but we don't want to type out the file name every time. We have several options.\n",
    "\n",
    "```python\n",
    "from frc1318_data import team_name, city, get_current_roster\n",
    "\n",
    "print(team_name)\n",
    "print(city)\n",
    "print(get_current_roster)\n",
    "```\n",
    "\n",
    "By using a different form of the `import` statement that starts with `from`, we can specify what items we want to install from the other file, and we won't have to prefix them with the module name. This method of importing has some drawbacks:\n",
    "1. You have to list every variable and function that you want to use in the `import` statement. This can be tedious.\n",
    "2. When you come across one of these imported items in the code, like `team_name` or `city`, it's not obvious that they were imported.\n",
    "3. You can't use items with the same names in your code. In the example above, if you were to forget you imported a variable called `city` and create another copy of it, your program might not do what you want.\n",
    "\n",
    "Here's another way to import:\n",
    "```python\n",
    "from frc1318_data import *\n",
    "\n",
    "print(team_name)\n",
    "print(city)\n",
    "print(get_current_roster)\n",
    "```\n",
    "\n",
    "Even though Python allows this method of importing, don't use it. It's a bad idea. You have no idea what new variables are going to be placed in your global namespace.\n",
    "\n",
    "Finally, here is one more way to import:\n",
    "\n",
    "Here's another way to import:\n",
    "```python\n",
    "import frc1318_data as f1318\n",
    "\n",
    "print(f1318.team_name)\n",
    "print(f1318.city)\n",
    "print(f1318.get_current_roster)\n",
    "```\n",
    "\n",
    "The mentor prefers this method of importing. There is no need to preface every variable or function with a long module name, there is little risk of conflicting variable names, and it is easy to tell which variables were imported from which module.\n",
    "\n",
    "### E. Important Tip\n",
    "For now, when you are importing a module that you or someone else in your group wrote, make sure the module to be imported is in the same folder as the module it will be imported into. Otherwise the import statement will not work. There are ways to import modules in other folders but we won't cover those techniques until later."
   ]
  },
  {
   "cell_type": "markdown",
   "metadata": {},
   "source": [
    "### F. Module Exercises I\n",
    "For these exercises, write your Python code in *VS Code* and run the code from the PowerShell command line. To keep things simple, all files should be in the same folder on your computer and run the programs from that folder (i.e., navigate to that folder in PowerShell or Terminal before you try to run the programs).\n",
    "\n",
    "**Ex. IV.1.** Write a Python program that prints out $\\pi$.\n",
    "  * Your program should get the value of pi from the *math* module in the [Python standard library](https://docs.python.org/3/library/math.html).\n",
    "  * Name the Python file `print_pi.py`.\n",
    "  * The program output should look something like:\n",
    "    ```bash\n",
    "    The value of pi is 3.14159\n",
    "    ```\n",
    "  * Run the program from the command line like this:\n",
    "    ```bash\n",
    "    python print_pi.py\n",
    "    ```"
   ]
  },
  {
   "cell_type": "markdown",
   "metadata": {},
   "source": [
    "**Ex. IV.2.** Write a Python program that asks the user for the size of an angle in degrees and calculates the cosine of the angle.\n",
    "  * Your program should use the `cos()` function from the *math* module in the [Python standard library](https://docs.python.org/3/library/math.html).\n",
    "  * Name the Python file `cos.py`.\n",
    "  * Use the `input()` function to ask the user for the size of an angle. Don't forget to convert the output of `input()` to a numeric value!\n",
    "  * Look up the `cos()` function in the Python standard library. What units of measure (e.g., degrees, radians) does it expect to receive? Perform whatever conversions are necessary.\n",
    "  * Suppose the user enters 45 when asked for the size of the angle in degrees. The result should be rounded to 4 digits after the decimal point (remember the `round()` function) and look something like this:\n",
    "    ```bash\n",
    "    The cosine of 45 degrees is 0.7071\n",
    "    ```\n",
    "  * Run the program from the command line like this:\n",
    "    ```bash\n",
    "    python cos.py\n",
    "    ```"
   ]
  },
  {
   "cell_type": "markdown",
   "metadata": {},
   "source": [
    "**Ex. IV.3.** Modify the program in exercise IV.2 so that it contains a function named `cos_degrees(degrees, num_digits)` that has an argument for the number of degrees and returns the cosine rounded to `num_digits`.\n",
    "  * In addition to asking the user for the size of the angle, the program should ask the user for the number of digits after the decimal point.\n",
    "  * The program should call the `cos_degrees()` function with the information provided by the user (from the `input()` function)."
   ]
  },
  {
   "cell_type": "markdown",
   "metadata": {},
   "source": [
    "**Ex. IV.4.** Create a new cosine program (`cos2.py`) that allows the user to specify the number of degrees and number of digits at the command line when running the program. For example, the following command would return the cosine of 45 degrees, rounded to three digits:\n",
    "\n",
    "```bash\n",
    "python cos.py 45, 3\n",
    "```\n",
    "  * Import and use the `cos_degrees()` function you created in exercise #5 (DO NOT paste the function into your new module).\n",
    "  * If the user only supplies one parameter, assume it is the number of degrees and round the result to 4 digits. If the user provides no parameters, ask the user for both the degrees and number of digits using `input()`. If the user provides more than two parameters, ignore all extra parameters.\n",
    "  * You'll need to import the *sys* module and use the `argv` variable to access the command-line arguments."
   ]
  },
  {
   "cell_type": "markdown",
   "metadata": {},
   "source": [
    "## V. Module `__name__` Variable\n",
    "\n",
    "There's a python file named `mod1.py` in the same folder as this notebook. It includes this code:\n",
    "\n",
    "```python\n",
    "def print_name():\n",
    "    print(__name__)\n",
    "        \n",
    "print_name()\n",
    "```\n",
    "\n",
    "Let's import the module and call the `print_name()` function."
   ]
  },
  {
   "cell_type": "code",
   "execution_count": null,
   "metadata": {},
   "outputs": [],
   "source": [
    "import mod1\n",
    "\n",
    "mod1.print_name()"
   ]
  },
  {
   "cell_type": "markdown",
   "metadata": {},
   "source": [
    "The variable `__name__` is a special Python variable that's always available within a module. It starts and ends with *two* underscores and contains the name of the module that it's in. The `__name__` variable is actually an attribute of the `mod1` module object -- `print(__name__)` and `print(mod1.__name__)` will print the same result. \n",
    "\n",
    "However, `__name__` doesn't always contain the name of the module. To understand this, think about what would happen if you were to run `mod1.py` from the command line. The last line of the file calls the `print_name()` function, so we would expect to see the value \"mod1\" printed out.\n",
    "\n",
    "Let's try it. Type `python mod1.py` in *Terminal* or *PowerShell*. What do you see? Instead of printing \"mod1\", the program prints \"__main__\" (starts and ends with *two* underscores). The `__name__` variable is set to \"__main__\" if the module is run from the command line. Otherwise it's set to to the name of the module. This is worth knowing because many Python modules are written like this:\n",
    "\n",
    "```python\n",
    "# Code in add.py\n",
    "import sys\n",
    "\n",
    "def add(x, y):\n",
    "    return x + y\n",
    "\n",
    "if __name__ == \"__main__\":\n",
    "    print(add(int(sys.argv[1]), int(sys.argv[2])))\n",
    "```\n",
    "\n",
    "We can run `add.py` from the command line like this: `python add.py 25 37`. Since we're running `add.py` from the command line, `__name__ == \"__main__\"` will evaluate to `True` and the code in the `if` statement will extract the command line arguments, convert them to integers, and call the `add()` function. On the other hand, if we import `add.py` into another module, `__name__` will be set to \"add\", the `if` statement will evaluate to `False`, and the print statement will be ignored. This practice allows us to create Python modules that can be imported or run from the command line."
   ]
  },
  {
   "cell_type": "markdown",
   "metadata": {},
   "source": [
    "## VI. More Exercises\n",
    "**Ex. VI.1.** Write a python program that accepts a series of words from the command line and prints the word that comes last in alphabetical order. For example,\n",
    "\n",
    "```\n",
    "python last.py cat ANT zebra horse\n",
    "Last word: zebra\n",
    "```\n",
    "Remember, Python is case sensitive. Convert all the words to all lower or upper case, or else the results may surprise you."
   ]
  },
  {
   "cell_type": "markdown",
   "metadata": {},
   "source": [
    "**Ex. VI.2.** Write a function that accepts an integer that has at least two digits. The function should create a new integer by reversing the digits in the first integer, subtract the smaller integer from the larger integer, and return the result. Put this function in a file called `reverso.py`. Create a second Python module that imports `reverso`. When run from the command line, this second module should ask the user to enter an integer with at least two digits. Then it should call the function you wrote in `reverso.py` and display the result on the command line."
   ]
  },
  {
   "cell_type": "markdown",
   "metadata": {},
   "source": [
    "## VII. Quiz\n",
    "Write you answers as comments in the code files below each question.\n",
    "\n",
    "**#1.** Suppose we execute a Python program from the command line like this: `python quiz.py 1 two three`. Also suppose that the `quiz.py` file contains this statement: `print(sys.argv[0])`. What text will be displayed?"
   ]
  },
  {
   "cell_type": "code",
   "execution_count": null,
   "metadata": {},
   "outputs": [],
   "source": [
    "# Quiz question #1:\n",
    "#"
   ]
  },
  {
   "cell_type": "markdown",
   "metadata": {},
   "source": [
    "**#2.** Suppose we want to import a module into our Python program that has a `start_robot()` function. But our Python program already has its own `start_robot()` function. How can we write the `import` statement in such a way that we can use both function?"
   ]
  },
  {
   "cell_type": "code",
   "execution_count": null,
   "metadata": {},
   "outputs": [],
   "source": [
    "# Quiz question #2:\n",
    "#"
   ]
  },
  {
   "cell_type": "markdown",
   "metadata": {},
   "source": [
    "**#3.** What text will the print statement at the bottom of the following code block display?\n",
    "\n",
    "```python\n",
    "import WOPR as wp\n",
    "wp.play_tic_tac_toe()\n",
    "print(wp.__name__)\n",
    "```"
   ]
  },
  {
   "cell_type": "code",
   "execution_count": null,
   "metadata": {},
   "outputs": [],
   "source": [
    "# Quiz question #3:\n",
    "#"
   ]
  },
  {
   "cell_type": "markdown",
   "metadata": {},
   "source": [
    "**#4.** What standard Python module provides mathematical functions like `cos()` and `sqrt()`?"
   ]
  },
  {
   "cell_type": "code",
   "execution_count": null,
   "metadata": {},
   "outputs": [],
   "source": [
    "# Quiz question #4:\n",
    "#"
   ]
  },
  {
   "cell_type": "markdown",
   "metadata": {},
   "source": [
    "## VIII. Save Your Work\n",
    "Once you have completed the exercises and quiz, save a copy of the notebook outside the repository (outside of the pyclass_frc folder). Include you name in the file name. Send the notebook file and the modules you wrote for exercises VI.1 and VI.2 to another student to check your answers and code."
   ]
  },
  {
   "cell_type": "markdown",
   "metadata": {},
   "source": [
    "## IX. Concept and Terminology Review\n",
    "You should be able to define the following terms or describe the concept.\n",
    "* Using `sys.argv`\n",
    "* Module\n",
    "* The difference between `import mod1`, `from mod1 import ...`, and `import mod1 as ...`\n",
    "* namespace\n",
    "* `__name__` attribute"
   ]
  },
  {
   "cell_type": "markdown",
   "metadata": {},
   "source": [
    "[Table of Contents](../../index.ipynb)"
   ]
  }
 ],
 "metadata": {
  "kernelspec": {
   "display_name": "Python 3 (ipykernel)",
   "language": "python",
   "name": "python3"
  },
  "language_info": {
   "codemirror_mode": {
    "name": "ipython",
    "version": 3
   },
   "file_extension": ".py",
   "mimetype": "text/x-python",
   "name": "python",
   "nbconvert_exporter": "python",
   "pygments_lexer": "ipython3",
   "version": "3.9.6"
  }
 },
 "nbformat": 4,
 "nbformat_minor": 4
}
