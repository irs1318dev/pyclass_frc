{
 "cells": [
  {
   "cell_type": "markdown",
   "id": "b3d83b5a-2c2f-4dba-97c8-527d1a83b15e",
   "metadata": {},
   "source": [
    "[Table of Contents](../../index.ipynb)"
   ]
  },
  {
   "cell_type": "markdown",
   "id": "0ff7b6f8-4b1f-46e2-8776-c8601721c8e3",
   "metadata": {
    "tags": []
   },
   "source": [
    "# FRC Analytics with Python - Session 21\n",
    "# HTML\n",
    "**Last Updated: 12 December 2021**\n",
    "\n",
    "This session will dive deeper into HTML. We will continue to rely on Mozilla's web tutorials."
   ]
  },
  {
   "cell_type": "markdown",
   "id": "47d3345b-c0c9-462b-a04c-7780a92762b0",
   "metadata": {},
   "source": [
    "## I. Getting Started with HTML\n",
    "### A. Reading Assignment\n",
    "Read [Mozilla's Getting Started with HTML tutorial.](https://developer.mozilla.org/en-US/docs/Learn/HTML/Introduction_to_HTML/Getting_started) This tutorial duplicates some of the information that was covered in session #20, but it contains more detailed explanations of how HTML tags work. It's also good practice, especially if you are new to HTML."
   ]
  },
  {
   "cell_type": "markdown",
   "id": "aabdde89-cadf-4810-b46a-de247a102e90",
   "metadata": {},
   "source": [
    "### B. Exercise #1\n",
    "[Mozilla's Getting Started with HTML tutorial](https://developer.mozilla.org/en-US/docs/Learn/HTML/Introduction_to_HTML/Getting_started) contains several interactive tasks. Complete all of the interactive exercises in the tutorial. Then use the next markdown cell to show your work in this notebook. In addition to markdown formatted text, Jupyter markdown cells can contain regular HTML text. Here are the specific instructions for completing this exercise:\n",
    "1. Double click the next cell to put it in *edit* mode.\n",
    "2. The markdown cell contains a header for each task in the Mozilla tutorial. Copy the solution to each task into the blank line under the corresponding markdown header.\n",
    "3. Put the markdown cell back in display mode (CTRL+ENTER) to see the output of your HTML markup and make sure it looks correct."
   ]
  },
  {
   "cell_type": "markdown",
   "id": "3f11850d-fdbe-4038-843b-7c6ed5ecb783",
   "metadata": {},
   "source": [
    "##### (Double Click on this Cell)\n",
    "#### Task 1: Your First HTML Element\n",
    "\n",
    "\n",
    "#### Task 2: Adding Attributes to an Element - Link that Opens in New Window\n",
    "\n",
    "\n",
    "#### Task 3: Adding Some Features to an HTML Document\n",
    "###### (Copy the contents of the `<body>` element below this header.)\n",
    "\n"
   ]
  },
  {
   "cell_type": "markdown",
   "id": "d730332c-2502-4dca-870e-d13e8e1525a0",
   "metadata": {},
   "source": [
    "### C. Quiz #1"
   ]
  },
  {
   "cell_type": "markdown",
   "id": "0d1a31bc-efbd-4fc7-8925-86f3431c5432",
   "metadata": {},
   "source": [
    "#### Question 1.1\n",
    "What are the three components of an HTML element?"
   ]
  },
  {
   "cell_type": "code",
   "execution_count": null,
   "id": "4bede024-dfb6-48f3-8dd6-1e608f14d8eb",
   "metadata": {},
   "outputs": [],
   "source": [
    "# Quiz 1.1\n",
    "#\n",
    "#"
   ]
  },
  {
   "cell_type": "markdown",
   "id": "1438f2b3-4365-43b7-bdb1-6f45d63f1d03",
   "metadata": {},
   "source": [
    "#### Question 1.2.\n",
    "What is the difference between block and inline elements?"
   ]
  },
  {
   "cell_type": "code",
   "execution_count": null,
   "id": "a1f012df-cb88-4b15-a5b4-9d5754fbb556",
   "metadata": {},
   "outputs": [],
   "source": [
    "# Quiz 1.2\n",
    "#\n",
    "#"
   ]
  },
  {
   "cell_type": "markdown",
   "id": "1bef73ab-7582-4df0-a4f5-a013fb2b8765",
   "metadata": {},
   "source": [
    "#### Question 1.3\n",
    "Which line is correctly nested?\n",
    "```html\n",
    "<em>This is line <strong>A</strong>.</em>\n",
    "<em> This is line <strong>B</em>.</strong>\n",
    "```"
   ]
  },
  {
   "cell_type": "code",
   "execution_count": null,
   "id": "b58d59e1-dde7-490b-a82e-31868f1c99a2",
   "metadata": {},
   "outputs": [],
   "source": [
    "# Quiz 1.3\n",
    "#\n",
    "#"
   ]
  },
  {
   "cell_type": "markdown",
   "id": "c8f9b9ad-8ffb-4c56-940e-2b73f92d4eb1",
   "metadata": {},
   "source": [
    "## II. `<head>` Element\n",
    "### A. Reading Assignment\n",
    "Read the [Mozilla tutorial on the `<head>` element.](https://developer.mozilla.org/en-US/docs/Learn/HTML/Introduction_to_HTML/The_head_metadata_in_HTML)"
   ]
  },
  {
   "cell_type": "markdown",
   "id": "e9d8a825-26bd-46e3-85ca-726258254a3b",
   "metadata": {},
   "source": [
    "### B. Quiz #2\n",
    "#### Question 2.1\n",
    "What element is used to specify a web page's title? Where in the browser will the title appear?"
   ]
  },
  {
   "cell_type": "code",
   "execution_count": 1,
   "id": "7fec406d-5855-4191-bc3a-59d292570341",
   "metadata": {},
   "outputs": [],
   "source": [
    "# Quiz 2.1\n",
    "#\n",
    "#"
   ]
  },
  {
   "cell_type": "markdown",
   "id": "be963f76-c92d-4834-aaef-504db0e65522",
   "metadata": {},
   "source": [
    "#### Question 2.2\n",
    "Our robotics team will use utf-8 encoding in our web applications. Write the HTML element that sets a web page's encoding to utf-8."
   ]
  },
  {
   "cell_type": "code",
   "execution_count": null,
   "id": "02f038bb-7379-4e7f-8e31-bc7b621e31a7",
   "metadata": {},
   "outputs": [],
   "source": [
    "# Quiz 2.2\n",
    "#\n",
    "#"
   ]
  },
  {
   "cell_type": "markdown",
   "id": "ff4e014d-51c0-46fb-a46f-f7b0acc0924b",
   "metadata": {},
   "source": [
    "#### Question 2.3\n",
    "List three common uses of the `<meta>` element."
   ]
  },
  {
   "cell_type": "code",
   "execution_count": null,
   "id": "18f1591b-2ae1-4833-b538-fc9e6e7d2b57",
   "metadata": {},
   "outputs": [],
   "source": [
    "# Quiz 2.3\n",
    "#\n",
    "#"
   ]
  },
  {
   "cell_type": "markdown",
   "id": "9b01a03a-00da-453b-892a-df0fc2acac14",
   "metadata": {},
   "source": [
    "### C. Exercise #2\n",
    "Complete the Mozilla active learning task in section *Active learning: applying CSS and JavaScript to a page*. Paste the `<link>` and `<script>` elements that you drafted for the exercise in the Python comment below."
   ]
  },
  {
   "cell_type": "code",
   "execution_count": null,
   "id": "a1f83cf8-e6ec-48b4-be40-d0b70294c865",
   "metadata": {},
   "outputs": [],
   "source": [
    "# Ex. #2\n",
    "# <link> element: \n",
    "# <script> element:"
   ]
  },
  {
   "cell_type": "markdown",
   "id": "4e46157f-f9ce-411f-b9b2-f0c7e2dcec06",
   "metadata": {},
   "source": [
    "## III. HTML Text Fundamentals\n",
    "### A. Reading Assignment\n",
    "Read [Mozilla's tutorial on HTML text.](https://developer.mozilla.org/en-US/docs/Learn/HTML/Introduction_to_HTML/HTML_text_fundamentals)"
   ]
  },
  {
   "cell_type": "markdown",
   "id": "67632fdc-a870-4dab-ab21-fe286f12ebfc",
   "metadata": {},
   "source": [
    "### B. Exercise #3\n",
    "Complete the interactive tasks in [Mozilla's tutorial on HTML text.](https://developer.mozilla.org/en-US/docs/Learn/HTML/Introduction_to_HTML/HTML_text_fundamentals). Paste the answers to each task into the corresponding section of the markdown cell below (see exercise #1 for additional guidance on pasting answers into a markdown cell)."
   ]
  },
  {
   "cell_type": "markdown",
   "id": "9fb0882a-d23e-4651-b0ec-f8b3c87694cd",
   "metadata": {},
   "source": [
    "#### Task 1: Giving Our Content Structure\n",
    "\n",
    "\n",
    "#### Task 2: Marking Up an Unordered List\n",
    "\n",
    "\n",
    "#### Task 3: Marking Up an Ordered List\n",
    "\n",
    "\n",
    "#### Task 4: Marking Up Our Recipe Page\n",
    "\n",
    "\n",
    "#### Task 5: Let's Be Important\n",
    "\n"
   ]
  },
  {
   "cell_type": "markdown",
   "id": "965c9160-a5a9-4aa1-84a2-58fc5653d35d",
   "metadata": {},
   "source": [
    "## IV. Creating Hyperlinks\n",
    "### A. Reading Assignment\n",
    "Read [Mozilla's tutorial on hyperlinks.](https://developer.mozilla.org/en-US/docs/Learn/HTML/Introduction_to_HTML/Creating_hyperlinks)"
   ]
  },
  {
   "cell_type": "markdown",
   "id": "05dda543-d9da-4a4f-ba8d-29b9608f8825",
   "metadata": {},
   "source": [
    "### B. Exercise #2\n",
    "Complete the active learning tasks in the Mozilla tutorial. Paste the answers into the following markdown cell."
   ]
  },
  {
   "cell_type": "markdown",
   "id": "ff6e108d-ecc8-4688-9214-bb342a7ba388",
   "metadata": {},
   "source": [
    "#### Task 1: Creating a Navigation Menue\n",
    "(Paste the unordered list below, including the navigation links.\n",
    "\n"
   ]
  },
  {
   "cell_type": "markdown",
   "id": "91d2d7ee-efb6-4eb0-ae7c-c0d12c64bb01",
   "metadata": {},
   "source": [
    "## V. Advanced Text Formatting\n",
    "Scan [Mozilla's Tutorial on Advanced Text Formatting.](https://developer.mozilla.org/en-US/docs/Learn/HTML/Introduction_to_HTML/Advanced_text_formatting) We expect that the text formatting elements described in this section would be used infrequently in robotis analytics work, but it's good to know they exist."
   ]
  },
  {
   "cell_type": "markdown",
   "id": "f51a4f31-e3da-484f-a13b-69d75fc84a6a",
   "metadata": {},
   "source": [
    "## VI. Documment and Website Structure\n",
    "### A. Reading Assignment\n",
    "Read [Mozilla's tutorial on Document and Website Structure.](https://developer.mozilla.org/en-US/docs/Learn/HTML/Introduction_to_HTML/Document_and_website_structure)"
   ]
  },
  {
   "cell_type": "markdown",
   "id": "d0859148-70b6-48e9-92c3-a02e746ebcbf",
   "metadata": {},
   "source": [
    "### B. Quiz #3\n",
    "#### Question 3.1\n",
    "Describe the purpose of each element listed in the next cell. You should be able to describe each element in a single sentence."
   ]
  },
  {
   "cell_type": "code",
   "execution_count": null,
   "id": "0db32f3a-433c-4552-98da-72c499de0c8d",
   "metadata": {},
   "outputs": [],
   "source": [
    "# Question 3.1\n",
    "#\n",
    "# <header>:\n",
    "#\n",
    "# <nav>:\n",
    "#\n",
    "# <footer>\n",
    "# \n",
    "# <main>\n",
    "#\n",
    "# <aside>\n",
    "#\n",
    "# <div>\n",
    "#\n",
    "# <span>\n",
    "#"
   ]
  },
  {
   "cell_type": "markdown",
   "id": "2490f9f4-e0b2-474a-acae-cbfcff22bfd1",
   "metadata": {},
   "source": [
    "### Question 3.2\n",
    "What is the difference between the `<head>` and `<header>` elements?"
   ]
  },
  {
   "cell_type": "code",
   "execution_count": 2,
   "id": "da8949f3-5235-4bd0-b406-be13e43539f2",
   "metadata": {},
   "outputs": [],
   "source": [
    "# Question 3.2\n",
    "#\n",
    "#"
   ]
  },
  {
   "cell_type": "markdown",
   "id": "82a41b1e-1fb4-4f42-ae80-9c1c9d3d1120",
   "metadata": {},
   "source": [
    "## VII. Debugging HTML\n",
    "### A. Reading Assignment\n",
    "Read [Mozilla's Tutorial on how to debug HTML.](https://developer.mozilla.org/en-US/docs/Learn/HTML/Introduction_to_HTML/Debugging_HTML). "
   ]
  },
  {
   "cell_type": "markdown",
   "id": "4ba6963e-b4f9-43c9-94e6-8f5acad1477f",
   "metadata": {},
   "source": [
    "### B. Exercise #3\n",
    "#### Part 1\n",
    "Draft a short HTML page that has at least three errors. Paste the HTML page text into the next markdown cell. Make sure you"
   ]
  },
  {
   "cell_type": "markdown",
   "id": "b17dc8cf-af96-48ce-ae3b-d8d2b60fd623",
   "metadata": {},
   "source": [
    "##### Paste Code into this Markdown Cell\n",
    "* Double click to enter edit mode.\n",
    "* Paste the code within the tickmarks that define the HTML code section.\n",
    "```html\n",
    "<!-- Paste your web page below this line -->\n",
    "```"
   ]
  },
  {
   "cell_type": "markdown",
   "id": "9a9e9acf-4062-4628-aff1-27999b4ef745",
   "metadata": {},
   "source": [
    "#### Part 2\n",
    "Validate your HTML page using [W3's HTML validator](https://validator.w3.org/#validate_by_input). You can paste the HTML text directly into the site's text box. How many errors did the validator report."
   ]
  },
  {
   "cell_type": "code",
   "execution_count": null,
   "id": "99456ae6-cd73-4be3-bc74-fba72d11d013",
   "metadata": {},
   "outputs": [],
   "source": [
    "# Ex. #3, Part 2\n",
    "#\n",
    "#"
   ]
  },
  {
   "cell_type": "markdown",
   "id": "0517482f-0ea1-4e3c-aa93-09ee687b79f9",
   "metadata": {},
   "source": [
    "## VIII. Multimedia and Embedding\n",
    "### A. Reading Assignment\n",
    "The Mozilla HTML tutorial includes [several sections on embedding images and multimedia in web pages](https://developer.mozilla.org/en-US/docs/Learn/HTML/Multimedia_and_embedding). Read the section on [HTML images](https://developer.mozilla.org/en-US/docs/Learn/HTML/Multimedia_and_embedding/Images_in_HTML). All other sections are optional."
   ]
  },
  {
   "cell_type": "markdown",
   "id": "ce509b6e-6565-4fea-8c8e-bb02a9f20657",
   "metadata": {},
   "source": [
    "### B. Exercise #4\n",
    "Complete the active learning tasks in the Mozilla HTML images tutorial. Paste the links into the following markdown cell."
   ]
  },
  {
   "cell_type": "markdown",
   "id": "6fa092d4-ed49-4f4c-97ff-818507078b83",
   "metadata": {},
   "source": [
    "#### Task 1: Embedding an Image\n",
    "**Note** CSS styles are required to control image sizes within Jupyter notebooks -- HTML width and height attributes won't work. Try adding a style attribute: `style = \"width: 400px; height: 341px\"`.\n",
    "\n",
    "\n",
    "#### Task 2: Creating a Figure\n",
    "\n"
   ]
  },
  {
   "cell_type": "markdown",
   "id": "8324224f-aa46-42de-b9f6-eb14f39271d3",
   "metadata": {},
   "source": [
    "## IX. HTML Tables\n",
    "Read Mozilla's tuorials on [HTML table basics](https://developer.mozilla.org/en-US/docs/Learn/HTML/Tables/Basics) and [advanced table features](https://developer.mozilla.org/en-US/docs/Learn/HTML/Tables/Advanced)."
   ]
  },
  {
   "cell_type": "markdown",
   "id": "50968570-9043-4e47-b8b6-17f90caedf14",
   "metadata": {},
   "source": [
    "## X. Assessments\n",
    "### Exercise #5\n",
    "Complete [Mozilla's assessment on marking up a letter](https://developer.mozilla.org/en-US/docs/Learn/HTML/Introduction_to_HTML/Marking_up_a_letter). Host the finished webpage on Github. Be sure to include it's stylesheet and any other related resources when you upload it to Github. Enter the URL of the finished page in the comment cell below."
   ]
  },
  {
   "cell_type": "code",
   "execution_count": null,
   "id": "d67df599-c816-4c86-b11d-17d932d547b5",
   "metadata": {},
   "outputs": [],
   "source": [
    "# Ex. #4\n",
    "# URL of marked-up letter:"
   ]
  },
  {
   "cell_type": "markdown",
   "id": "6aad17e1-3e6d-4d23-9999-c3ff09631516",
   "metadata": {},
   "source": [
    "### Exercise #6\n",
    "Complete [Mozilla's assessment on structuring content](https://developer.mozilla.org/en-US/docs/Learn/HTML/Introduction_to_HTML/Structuring_a_page_of_content). Host the finished webpage on Github. Be sure to include it's stylesheet and any other related resources when you upload it to Github. Enter the URL of the finished page in the comment cell below."
   ]
  },
  {
   "cell_type": "code",
   "execution_count": null,
   "id": "c18d557c-4188-400d-a0d3-819e440b4cd1",
   "metadata": {},
   "outputs": [],
   "source": [
    "# Ex. #5\n",
    "# URL of structured content:  "
   ]
  },
  {
   "cell_type": "markdown",
   "id": "30732904-3155-4032-b998-0ff2b9bf7b31",
   "metadata": {
    "tags": []
   },
   "source": [
    "### B. Exercise #7\n",
    "Complete Mozilla's [table assessment (structuring planet data)](https://developer.mozilla.org/en-US/docs/Learn/HTML/Tables/Structuring_planet_data). Host the webpage with the table on your github repository. Paste the URL to the webpage in the comment cell below. "
   ]
  },
  {
   "cell_type": "code",
   "execution_count": null,
   "id": "f59d6dfa-750c-4cb3-aa0d-f1f7d0bf843f",
   "metadata": {},
   "outputs": [],
   "source": [
    "# Ex #7\n",
    "# URL of web page with table:  "
   ]
  },
  {
   "cell_type": "markdown",
   "id": "dfe0d5ba-5d9f-4c88-9e97-375a6918b4ea",
   "metadata": {},
   "source": [
    "## XI. Concept and Terminology Review\n",
    "You should be able to define the following terms or describe the concept. \n",
    "* `<em>`\n",
    "* `<strong>`\n",
    "* Block Elements\n",
    "* Inline Elements\n",
    "* Empty Elements\n",
    "* Attributes\n",
    "* `href` and `target` Attributes\n",
    "* Boolean Attributes\n",
    "* Entity References\n",
    "* HTML Comments\n",
    "* `<meta>` Element\n",
    "* Absolute URLs\n",
    "* Relative URLs\n",
    "* Title Attribute for `<a>` Elements\n",
    "* Content Structuring Elements: `<header>`, `<nav>`, `<main>`, `<aside>`, and `<footer>`\n",
    "* Non-semantic Elements: `<span>`, and `<div>`.\n",
    "* `<br>`\n",
    "* `<hr>`\n",
    "* The `<img>` Element's Attributes: `alt`, `title`, `width`, and `height`.\n",
    "* `<figure>` and `<figcaption>` Elements\n",
    "* Table elements: `<table>`, `<th>`, `<tr>`, `<td>`, `<colgroup>`, and `<col>`.\n",
    "* `<caption>`   "
   ]
  },
  {
   "cell_type": "markdown",
   "id": "feac7634-e6c7-4464-a4d8-00ca4eb74bac",
   "metadata": {},
   "source": [
    "[Table of Contents](../../index.ipynb)"
   ]
  }
 ],
 "metadata": {
  "kernelspec": {
   "display_name": "Python 3 (ipykernel)",
   "language": "python",
   "name": "python3"
  },
  "language_info": {
   "codemirror_mode": {
    "name": "ipython",
    "version": 3
   },
   "file_extension": ".py",
   "mimetype": "text/x-python",
   "name": "python",
   "nbconvert_exporter": "python",
   "pygments_lexer": "ipython3",
   "version": "3.9.7"
  },
  "toc-autonumbering": false
 },
 "nbformat": 4,
 "nbformat_minor": 5
}
