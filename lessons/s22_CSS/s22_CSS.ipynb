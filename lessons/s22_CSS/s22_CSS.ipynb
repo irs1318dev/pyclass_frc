{
 "cells": [
  {
   "cell_type": "markdown",
   "id": "b3d83b5a-2c2f-4dba-97c8-527d1a83b15e",
   "metadata": {},
   "source": [
    "[Table of Contents](../../index.ipynb)"
   ]
  },
  {
   "cell_type": "markdown",
   "id": "0ff7b6f8-4b1f-46e2-8776-c8601721c8e3",
   "metadata": {
    "tags": []
   },
   "source": [
    "# FRC Analytics with Python - Session 22\n",
    "# Cascading Style Sheets (CSS)\n",
    "**Last Updated: 15 December 2021**\n",
    "\n",
    "Cascading Style Sheets are wierd. [As discussed on the video on this webpage, Mozilla agrees](https://developer.mozilla.org/en-US/docs/Learn/CSS). Tim Berners-Lee, who started creating HTML in 1989, didn't intend for HTML to be used for multimedia or complex applications. He was imagining that HTML would be used for formatting scientific documents. But as the Web gained popularity in the 1990s, it became clear that web developers needed more options for styling their webpages, and that style rules needed to be separated from presentation. The Web community started to work on Cascading Style Sheets (CSS) in 1994 and the first web browsers with significant support for CSS were released around 2000.\n",
    "\n",
    "CSS is a big topic and the Mozilla tutorial is quite long. We will skip some sessions. Also, there is guidance within each session on which topics can be skimmed over quickly."
   ]
  },
  {
   "cell_type": "markdown",
   "id": "7717a58d-5a0e-4ec3-98db-e0ed4c97f50c",
   "metadata": {},
   "source": [
    "## I. Getting Started with CSS\n",
    "### A. First Reading Assignment - Getting Started\n",
    "Read the Mozilla CSS tutorials titled [What is CSS?](https://developer.mozilla.org/en-US/docs/Learn/CSS/First_steps/What_is_CSS) and [Getting Started with CSS](https://developer.mozilla.org/en-US/docs/Learn/CSS/First_steps/Getting_started).\n",
    "\n",
    "#### Areas to Skim Over Quickly\n",
    "* In *What is CSS?*\n",
    "  * The embedded video by Miriam Suzanne can be skipped.\n",
    "  * CSS modules, specifications, and browser support information.\n",
    "* In *Getting Started with CSS*\n",
    "  * Nothing. Everything in this section is essential for understanding CSS."
   ]
  },
  {
   "cell_type": "markdown",
   "id": "9a946eb6-e8e2-4009-b399-8eb1ce5b8a06",
   "metadata": {},
   "source": [
    "### B. Quiz\n",
    "#### Question 1.1\n",
    "Read the CSS snippet and answer the questions below.\n",
    "```css\n",
    "p {\n",
    "    font-style: italic;\n",
    "    text-decoration: underline\n",
    "}\n",
    "```\n",
    "A. What are the two CSS values?  \n",
    "B. Which part of the snippet is the CSS selector? What is the selector used for?  \n",
    "C. What are the two CSS properties?  "
   ]
  },
  {
   "cell_type": "code",
   "execution_count": null,
   "id": "1aa1a711-17e1-412a-983c-a5540abbc5d2",
   "metadata": {},
   "outputs": [],
   "source": [
    "# Q. I.1\n",
    "# A. Values: \n",
    "# B. Snippet:\n",
    "#\n",
    "# C. Properties:"
   ]
  },
  {
   "cell_type": "markdown",
   "id": "96927e17-0516-4ad8-a5a8-6efc5fa3f48f",
   "metadata": {},
   "source": [
    "#### Question 1.2\n",
    "Read the CSS snippet and answer the question below.\n",
    "```css\n",
    "div.robots p.cool {\n",
    "    color: purple;\n",
    "}\n",
    "\n",
    "h2 + ul {\n",
    "    color: gold;\n",
    "}\n",
    "```\n",
    "A. What text will be colored purple?  \n",
    "B. What text will be colored gold?  "
   ]
  },
  {
   "cell_type": "code",
   "execution_count": null,
   "id": "b2fd3c47-2f60-4290-a13c-a73c292aec2b",
   "metadata": {},
   "outputs": [],
   "source": [
    "# Q. I.2\n",
    "# A. Purple:\n",
    "#\n",
    "# B. Gold:\n",
    "#"
   ]
  },
  {
   "cell_type": "markdown",
   "id": "1c460106-b0d0-429a-bf13-fcf4a8118792",
   "metadata": {},
   "source": [
    "### C. Second Reading Assignment - CSS Structure and How it Works\n",
    "Read the Mozilla CSS tutorials titled [How CSS is structured](https://developer.mozilla.org/en-US/docs/Learn/CSS/First_steps/How_CSS_is_structured) and [How CSS Works](https://developer.mozilla.org/en-US/docs/Learn/CSS/First_steps/How_CSS_works).\n",
    "\n",
    "You should also complet the interactive exercises that are contained within each reading assignment. There is no need to include the answers to the interactive exercises in this notebook -- we'll use the honor system for those.\n",
    "\n",
    "#### Areas to Skim Over Quickly\n",
    "Nothing. All material is essential."
   ]
  },
  {
   "cell_type": "markdown",
   "id": "b720dad0-9a84-4211-a5ce-a3f12adf1011",
   "metadata": {},
   "source": [
    "### D. Quiz\n",
    "#### Question 1.3\n",
    "There are three techniques for applying CSS to a web page.\n",
    "A. Which techniques allow you to apply the same CSS rule to multiple webpages?  \n",
    "B. Which technique can apply CSS rules to only a single element?  \n",
    "C. Which technique can apply CSS rules to multiple elements, but only within a single web page?\n",
    "\n",
    "For each sub-question, explain which HTML tags or attributes are used to apply the technique."
   ]
  },
  {
   "cell_type": "code",
   "execution_count": 1,
   "id": "ce7ee88f-d06c-4741-875d-dc087f3d453c",
   "metadata": {},
   "outputs": [],
   "source": [
    "# Q. 1.3\n",
    "# A.\n",
    "#\n",
    "# B.\n",
    "#\n",
    "# C.\n",
    "#"
   ]
  },
  {
   "cell_type": "markdown",
   "id": "9d0fd1bc-e372-4a1e-9b03-852680678ddc",
   "metadata": {},
   "source": [
    "#### Question 1.4\n",
    "Read the following HTML snippet. What color will the text be?\n",
    "```html\n",
    "<head>\n",
    "    <style>\n",
    "        h3       {color: purple}\n",
    "        .important {color: gold}\n",
    "    </style>\n",
    "</head>\n",
    "<body><h3 class=\"important\">This is important stuff</h3></body>\n",
    "```"
   ]
  },
  {
   "cell_type": "code",
   "execution_count": null,
   "id": "6712c95b-86b4-4e5f-8ff8-016286261b90",
   "metadata": {},
   "outputs": [],
   "source": [
    "# Q. 1.4"
   ]
  },
  {
   "cell_type": "markdown",
   "id": "452c4bc2-5e4c-4ba3-8a13-96d93ad328c9",
   "metadata": {},
   "source": [
    "#### Question 1.5\n",
    "What is the difference between the CSS *cascade* and *specificity* rules? Which rule applied in question 2.2?"
   ]
  },
  {
   "cell_type": "code",
   "execution_count": null,
   "id": "6a26246c-8697-47c7-9de4-0b6484587929",
   "metadata": {},
   "outputs": [],
   "source": [
    "# Q. 1.5\n",
    "#\n",
    "#"
   ]
  },
  {
   "cell_type": "markdown",
   "id": "4cb42d72-8474-469e-8b04-93e09ab1adc3",
   "metadata": {},
   "source": [
    "#### Question 1.6\n",
    "What is the document object model (DOM)? What is the difference between the DOM and a web page's HTML file?\n",
    "\n",
    "**Hint:** The Mozilla tutorials do not explicitly answer this question, but it's worth thinking about. Think about where the DOM or an HTML file reside. Can the browser make changes to an HTML file? Can a browser make changes to a DOM?"
   ]
  },
  {
   "cell_type": "code",
   "execution_count": 1,
   "id": "9ca9abc3-0f9e-48a0-9abe-f7a53efc69bf",
   "metadata": {},
   "outputs": [],
   "source": [
    "# Q. 1.6\n",
    "#\n",
    "#\n",
    "#"
   ]
  },
  {
   "cell_type": "markdown",
   "id": "142de8ea-2648-419a-a1b3-3ebac5d4baf0",
   "metadata": {},
   "source": [
    "#### Question 1.7\n",
    "Using the DOM syntax shown below, which is the same syntax that's in Mozilla's *How CSS Works* tutorial, convert the HTML snippet below into a DOM representation, showing the relationship between child and parent nodes. Remember, a node can be an element or it's content. Copy and past the `├─`, `└─`, and `|` characters as needed.\n",
    "\n",
    "**DOM Syntax**\n",
    "```\n",
    "root-node\n",
    "├─ node 1\n",
    "└─ node 2\n",
    "|  ├─ child-node 1\n",
    "|  |  └─ grand-child node\n",
    "|  └─ child-node 2\n",
    "└─ node 3\n",
    "```\n",
    "\n",
    "**HTML Snippet**\n",
    "```html\n",
    "<h4>Robot Book List</h4>\n",
    "<ol>\n",
    "    <li>\n",
    "        <a href=\"https://www.goodreads.com/book/show/41804.I_Robot\">I robot</a>\n",
    "    </li>\n",
    "    <li>Do Androids Dream of Electric Sheep?</li>\n",
    "</ol>\n",
    "```"
   ]
  },
  {
   "cell_type": "code",
   "execution_count": 2,
   "id": "0673d0a8-a059-4ea0-b92b-9d8fb3519b89",
   "metadata": {},
   "outputs": [],
   "source": [
    "# Q. 1.7\n",
    "#\n",
    "#\n",
    "#"
   ]
  },
  {
   "cell_type": "markdown",
   "id": "30524ba7-4d4d-46cc-bf97-45bf83717b69",
   "metadata": {},
   "source": [
    "### E. Exercise #1\n",
    "Complete the exercise described in [Using your new knowledge](https://developer.mozilla.org/en-US/docs/Learn/CSS/First_steps/Using_your_new_knowledge). \n",
    "1. [Download the starting point file](https://github.com/mdn/css-examples/blob/master/learn/getting-started/biog-download.html/) and use VS Code or another suitable editor to modify the CSS code.\n",
    "2. Upload the completed file to your Github repository and host it on Github pages.\n",
    "3. Enter the URL of your hosted HTML file in the comment box below."
   ]
  },
  {
   "cell_type": "code",
   "execution_count": null,
   "id": "8cc084a6-56c0-4703-8eb4-a64db28bde39",
   "metadata": {},
   "outputs": [],
   "source": [
    "# Ex. #1\n",
    "# URL: "
   ]
  },
  {
   "cell_type": "markdown",
   "id": "6dcb591d-7763-4fb9-bab1-a5d5fc0f7480",
   "metadata": {},
   "source": [
    "## II. Cascade, Inheritance, and Selectors\n",
    "### A. Reading Assignment\n",
    "Read the following Mozilla tutorials.\n",
    "1. [Cascade and Inheritance](https://developer.mozilla.org/en-US/docs/Learn/CSS/Building_blocks/Cascade_and_inheritance)\n",
    "2. [CSS Selectors](https://developer.mozilla.org/en-US/docs/Learn/CSS/Building_blocks/Selectors)\n",
    "3. [Type, Class, and ID Selectors](https://developer.mozilla.org/en-US/docs/Learn/CSS/Building_blocks/Selectors/Type_Class_and_ID_Selectors)\n",
    "4. [Attribute Selectors](https://developer.mozilla.org/en-US/docs/Learn/CSS/Building_blocks/Selectors/Attribute_selectors)\n",
    "5. [Pseudo-classes and pseudo-elements](https://developer.mozilla.org/en-US/docs/Learn/CSS/Building_blocks/Selectors/Pseudo-classes_and_pseudo-elements)\n",
    "6. [Combinators](https://developer.mozilla.org/en-US/docs/Learn/CSS/Building_blocks/Selectors/Combinators)\n",
    "\n",
    "Unless otherwise specified in *Areas to Skim Over Quickly*, complete all of the interactive exercises.\n",
    "\n",
    "A few of these tutorials contain a link to a *Test Your Skills* exercise. You will be instructed to complete those exercises after this section's quiz.\n",
    "\n",
    "#### Areas to Skim Over Quickly\n",
    "* In *Cascade and Inheritance*, the embedded video on *Inspecting the Cascade* can be skipped.\n",
    "* Skim the *Attribute Selectors* section. It's important to know that you can select HTML elements based on their attribute values, but you can come back to this tutorial if needed. You can also skip the interactive exercises in this section.\n",
    "* In *Pseudo-classes and Pseudo-Elements*, skim the reference section at the end."
   ]
  },
  {
   "cell_type": "markdown",
   "id": "1b533fa7-73f9-44eb-bd5f-02d0029b0fd2",
   "metadata": {},
   "source": [
    "### B. Quiz\n",
    "#### Question 2.1\n",
    "Consider the HTML and CSS snippet below.\n",
    "1. What color will the text be?\n",
    "2. Will each paragraph get it's own border?\n",
    "3. Which feature of a CSS property applies to this example?\n",
    "```html\n",
    "<style>\n",
    "    .articles {\n",
    "        color: green;\n",
    "        border-style: solid\n",
    "    }        \n",
    "</style>\n",
    "<div class=\"articles\">\n",
    "  <p>Clustered Regularly Interspaced Short Palindromic Repeats</p>\n",
    "  <p>Category Theory</p>\n",
    "</div>\n",
    "```"
   ]
  },
  {
   "cell_type": "code",
   "execution_count": null,
   "id": "cfe66c51-c3c1-4904-9f35-04007c0f5f61",
   "metadata": {},
   "outputs": [],
   "source": [
    "# Q. 2.1\n",
    "# 1.\n",
    "# 2.\n",
    "# 3."
   ]
  },
  {
   "cell_type": "markdown",
   "id": "5f1f4d22-57d6-49c6-a158-bb6d94d85829",
   "metadata": {},
   "source": [
    "#### Question 2.2\n",
    "Which special CSS value will override all other CSS rules when assigned to a CSS property?"
   ]
  },
  {
   "cell_type": "code",
   "execution_count": null,
   "id": "1468ff8e-94b7-4308-ad5b-8a095529bb25",
   "metadata": {},
   "outputs": [],
   "source": [
    "# Q. 2.2\n",
    "#"
   ]
  },
  {
   "cell_type": "markdown",
   "id": "563d4ebe-2f00-4a29-be0a-07f1ac32e6e1",
   "metadata": {},
   "source": [
    "#### Question 2.3\n",
    "Consider the HTML snippet below.\n",
    "1. Write a CSS selector that applies to the two lists that have a *type* attribute?\n",
    "2. Write a CSS selector that only applies to the list where the value of *type* is \"I\".\n",
    "```html\n",
    "<h3>Axis and Allies Game Editions</h3>\n",
    "<ol type=\"A\">\n",
    "    <li>1941</li>\n",
    "    <li>1942</li>\n",
    "    <li>Anniversary Edition</li>\n",
    "</ol>\n",
    "<h3>Catan Expansion Sets</h3>\n",
    "<ol type=\"I\">\n",
    "    <li>Seafarers</li>\n",
    "    <li>Traders & Barbarians</li>\n",
    "    <li>age of Enlightenment</li>\n",
    "</ol>\n",
    "<h3>Dominion Expansion Sets</h3>\n",
    "<ol>\n",
    "    <li>Seaside</li>\n",
    "    <li>Alchemy</li>\n",
    "    <li>Prosperity</li>\n",
    "</ol>\n",
    "```\n",
    "    \n"
   ]
  },
  {
   "cell_type": "code",
   "execution_count": null,
   "id": "19984a1a-8a4a-4ff2-a15b-829006e15df5",
   "metadata": {},
   "outputs": [],
   "source": [
    "# Q. 2.3\n",
    "# 1.\n",
    "# 2."
   ]
  },
  {
   "cell_type": "markdown",
   "id": "01229a3f-be43-4fbd-8b48-0feda4b24b1e",
   "metadata": {},
   "source": [
    "#### Question 2.4\n",
    "1. What pseudo-class would match an element with no child elements?\n",
    "2. What two pseudo elements would make your English teacher happy?"
   ]
  },
  {
   "cell_type": "code",
   "execution_count": null,
   "id": "121d2a0b-9c6f-4ab9-8a1e-e4daf605bfb1",
   "metadata": {},
   "outputs": [],
   "source": [
    "# Q. 2.4\n",
    "# 1.\n",
    "# 2."
   ]
  },
  {
   "cell_type": "markdown",
   "id": "294ffd88-edd1-45d4-8319-48b65b32710f",
   "metadata": {},
   "source": [
    "#### Question 2.5\n",
    "Consider the two selectors below.\n",
    "1. What is the difference between the two selectors?\n",
    "2. Which type of combinator is each selector?\n",
    "```css\n",
    "section > p {font-weight: bold}\n",
    "ol a        {font-style: italic}\n",
    "```"
   ]
  },
  {
   "cell_type": "code",
   "execution_count": null,
   "id": "18dde8d2-b7c1-4abd-bb1a-b49661ad88d0",
   "metadata": {},
   "outputs": [],
   "source": [
    "# Q. 2.5\n",
    "# 1.\n",
    "# 2."
   ]
  },
  {
   "cell_type": "markdown",
   "id": "fa9a60c5-11d2-4f9a-b795-3f66f9440685",
   "metadata": {},
   "source": [
    "#### Question 2.6\n",
    "Paste the answer to the <em>[Test your skills: The Cascade](https://developer.mozilla.org/en-US/docs/Learn/CSS/Building_blocks/Cascade_tasks)</em> knowledge test below."
   ]
  },
  {
   "cell_type": "code",
   "execution_count": null,
   "id": "2f513f80-f17e-45bf-b8a6-a1404f2af1ae",
   "metadata": {},
   "outputs": [],
   "source": [
    "# Q 2.6\n",
    "#\n",
    "#"
   ]
  },
  {
   "cell_type": "markdown",
   "id": "317ad2fa-1c5f-428f-81d8-2fb5252f381f",
   "metadata": {},
   "source": [
    "#### Question 2.7\n",
    "Paste the answer to the *[Test Your Skills: Selectors](https://developer.mozilla.org/en-US/docs/Learn/CSS/Building_blocks/Selectors/Selectors_Tasks)* knowledge test below."
   ]
  },
  {
   "cell_type": "code",
   "execution_count": null,
   "id": "e07bff97-2a27-4bd2-998b-b113a20ad970",
   "metadata": {},
   "outputs": [],
   "source": [
    "# Q 2.7\n",
    "#\n",
    "#"
   ]
  },
  {
   "cell_type": "markdown",
   "id": "a071c5fe-3a5a-4d4a-848e-ff3156a9ddf8",
   "metadata": {},
   "source": [
    "## III. Box Model, Backgrounds, and Borders\n",
    "### A. Reading Assignment\n",
    "Read the Mozilla tutorials on [The box model](https://developer.mozilla.org/en-US/docs/Learn/CSS/Building_blocks/The_box_model) and [backgrounds and borders](https://developer.mozilla.org/en-US/docs/Learn/CSS/Building_blocks/Backgrounds_and_borders).\n",
    "\n",
    "Complete all interactive exercises in these two tutorials.\n",
    "\n",
    "#### Areas to Skim Over Quickly\n",
    "Nothing. All material is important."
   ]
  },
  {
   "cell_type": "markdown",
   "id": "a65b9f4a-aa45-41e7-b901-31b88b6e4aa9",
   "metadata": {},
   "source": [
    "### B. Quiz\n",
    "#### Question 3.1\n",
    "Consider the following CSS snippet that specifies the dimensions of a box created with a `<div>` tag.\n",
    "1. How wide and tall is the box?\n",
    "2. How wide and tall would the box be if the `box-sizing` property was omitted?\n",
    "```css\n",
    "div {margin: 15px;\n",
    "     padding-top: 25px;\n",
    "     padding-bottom: 50px;\n",
    "     border: 2px solid;\n",
    "     width: 400px;\n",
    "     height: 250px;\n",
    "     box-sizing: border-box;\n",
    "}\n",
    "```"
   ]
  },
  {
   "cell_type": "code",
   "execution_count": null,
   "id": "e5badd9b-2c33-4b4c-b32e-fd2db585aaba",
   "metadata": {},
   "outputs": [],
   "source": [
    "# Q. 3.1\n",
    "# 1.\n",
    "# 2."
   ]
  },
  {
   "cell_type": "markdown",
   "id": "da5bfc1d-cbfc-4189-88d6-e32e89948aaf",
   "metadata": {},
   "source": [
    "#### Question 3.2\n",
    "What CSS properties are used to specify a background color or image?"
   ]
  },
  {
   "cell_type": "code",
   "execution_count": null,
   "id": "677f07e7-4024-4afa-9eb8-f02eeec2b9be",
   "metadata": {},
   "outputs": [],
   "source": [
    "# Q. 3.2\n",
    "#"
   ]
  },
  {
   "cell_type": "markdown",
   "id": "70cba89b-c756-48fc-b31b-999b6d25a199",
   "metadata": {},
   "source": [
    "#### Question 3.3\n",
    "Paste the answer to *[Test your skills: The Box Model](https://developer.mozilla.org/en-US/docs/Learn/CSS/Building_blocks/Box_Model_Tasks)* below."
   ]
  },
  {
   "cell_type": "code",
   "execution_count": null,
   "id": "33000fac-241d-4137-b60c-813fc3f1be6a",
   "metadata": {},
   "outputs": [],
   "source": [
    "# Q. 3.3\n",
    "#"
   ]
  },
  {
   "cell_type": "markdown",
   "id": "ca6a7773-ae60-4586-b209-7f6992dc6715",
   "metadata": {},
   "source": [
    "#### Question 3.4\n",
    "Paste the answers to *[Test your skills: Backgrounds and Borders](https://developer.mozilla.org/en-US/docs/Learn/CSS/Building_blocks/Test_your_skills_backgrounds_and_borders)* below."
   ]
  },
  {
   "cell_type": "code",
   "execution_count": null,
   "id": "c8becc37-2a8b-496d-925b-fdd83d743121",
   "metadata": {},
   "outputs": [],
   "source": [
    "# Q. 3.4\n",
    "# Part 1\n",
    "#\n",
    "# Part 2\n",
    "#"
   ]
  },
  {
   "cell_type": "markdown",
   "id": "9a81f2f6-f7fa-4da6-a561-9385ba600ea4",
   "metadata": {},
   "source": [
    "## IV. Text Direction and Overflow\n",
    "### A. Reading Assignment\n",
    "Work through the Mozilla tutorials on [handling different text directions](https://developer.mozilla.org/en-US/docs/Learn/CSS/Building_blocks/Handling_different_text_directions) and [overflowing content](https://developer.mozilla.org/en-US/docs/Learn/CSS/Building_blocks/Overflowing_content).\n",
    "\n"
   ]
  },
  {
   "cell_type": "markdown",
   "id": "97626665-2dbb-4bc3-bf4a-cb932a88c1bd",
   "metadata": {},
   "source": [
    "### B. Quiz\n",
    "#### Question 4.1\n",
    "Paste the answers to *[Test your skills: Writing Modes and Logical Properties](https://developer.mozilla.org/en-US/docs/Learn/CSS/Building_blocks/Writing_Modes_Tasks)* below."
   ]
  },
  {
   "cell_type": "code",
   "execution_count": null,
   "id": "99312b5e-8a2f-41bf-ba5f-e4eff53bd572",
   "metadata": {},
   "outputs": [],
   "source": [
    "# Q. 4.1\n",
    "# Task 1\n",
    "#\n",
    "# Task 2\n",
    "#\n",
    "# Task 3"
   ]
  },
  {
   "cell_type": "markdown",
   "id": "d9de9367-0c4e-4f8f-94d1-7ded2145de17",
   "metadata": {},
   "source": [
    "#### Question 4.2\n",
    "Paste the answers to *[Test your skills: Overflow](https://developer.mozilla.org/en-US/docs/Learn/CSS/Building_blocks/Overflow_Tasks)* below."
   ]
  },
  {
   "cell_type": "code",
   "execution_count": null,
   "id": "31ea01d7-6d5a-4abb-a7f5-f138bebea52b",
   "metadata": {},
   "outputs": [],
   "source": [
    "# Q. 4.2\n",
    "# Task 1\n",
    "#\n",
    "# Task 2\n",
    "#"
   ]
  },
  {
   "cell_type": "markdown",
   "id": "8e8d9747-7a94-4c55-bc71-c73615a80d11",
   "metadata": {},
   "source": [
    "## V. CSS Values, Units and Sizing\n",
    "### A. Reading Assignment\n",
    "Work through the Mozilla tutorials on [CSS Values and Units](https://developer.mozilla.org/en-US/docs/Learn/CSS/Building_blocks/Values_and_units) and [Sizing Items in CSS](https://developer.mozilla.org/en-US/docs/Learn/CSS/Building_blocks/Sizing_items_in_CSS) and complete all of the interactive exercises.\n",
    "\n",
    "#### Areas to Skim Over Quickly\n",
    "Nothing. All material in these tutorials is important."
   ]
  },
  {
   "cell_type": "markdown",
   "id": "a6a742b4-e04a-4bb0-abc5-280a2057562a",
   "metadata": {},
   "source": [
    "### B. Quiz\n",
    "#### Question 5.1\n",
    "Paste the answers to *[Test your skills: Values and Units](https://developer.mozilla.org/en-US/docs/Learn/CSS/Building_blocks/Values_tasks)* below."
   ]
  },
  {
   "cell_type": "code",
   "execution_count": null,
   "id": "830efb72-e027-4b91-b5b1-745d499175ff",
   "metadata": {},
   "outputs": [],
   "source": [
    "# Q. 5.1\n",
    "# Task 1\n",
    "#\n",
    "# Task 2\n",
    "#\n",
    "# Task 3\n",
    "#"
   ]
  },
  {
   "cell_type": "markdown",
   "id": "91170f67-d533-45a6-b6d3-21e7469f0ea2",
   "metadata": {},
   "source": [
    "#### Question 5.2\n",
    "Paste the answers to *[Test your skills: Sizing](https://developer.mozilla.org/en-US/docs/Learn/CSS/Building_blocks/Sizing_tasks)* below."
   ]
  },
  {
   "cell_type": "code",
   "execution_count": null,
   "id": "c2af5c99-cc02-452c-afd5-259f4bdfb797",
   "metadata": {},
   "outputs": [],
   "source": [
    "# Q. 5.2\n",
    "# Task 1\n",
    "#\n",
    "# Task 2\n",
    "#\n",
    "# Task 3\n",
    "#"
   ]
  },
  {
   "cell_type": "markdown",
   "id": "4ab55c98-135b-4b23-911e-0e56d299dc3a",
   "metadata": {},
   "source": [
    "## VI. Images, Media, Forms, and Tables\n",
    "### A. Reading Assignment\n",
    "Skim the tutorials on [Images, Media, and Form Elements](https://developer.mozilla.org/en-US/docs/Learn/CSS/Building_blocks/Images_media_form_elements) and [Styling Tables](https://developer.mozilla.org/en-US/docs/Learn/CSS/Building_blocks/Styling_tables).\n",
    "\n",
    "#### Areas to Skim Over Quickly\n",
    "Everything. You can carefully read these sections later if your project requires sophisticated styling of images, other media, form elements, or tables."
   ]
  },
  {
   "cell_type": "markdown",
   "id": "41430d1f-bc9e-4a18-96c6-05083c717002",
   "metadata": {},
   "source": [
    "## VII. Debugging and Organizing CSS\n",
    "### A. Reading Assignment\n",
    "Skim the tutorials on [Debugging CSS](https://developer.mozilla.org/en-US/docs/Learn/CSS/Building_blocks/Debugging_CSS) and [Organizing CSS](https://developer.mozilla.org/en-US/docs/Learn/CSS/Building_blocks/Organizing).\n",
    "\n",
    "#### Areas to Skim Over Quickly\n",
    "Everything. You can carefully read these sections later if you are working on a challenging web design and need guidance on debugging or organizing your CSS. "
   ]
  },
  {
   "cell_type": "markdown",
   "id": "15f79abe-6245-4704-a0ec-09d92a995e84",
   "metadata": {},
   "source": [
    "## VIII. Styling Text\n",
    "### A. Reading Assignment\n",
    "Work through the Mozilla tutorial on [Fundamental Text and Font Styling](https://developer.mozilla.org/en-US/docs/Learn/CSS/Styling_text/Fundamentals). \n",
    "\n",
    "#### Areas to Skim Over Quickly\n",
    "Nothing. Text formatting is a fundamental part of CSS."
   ]
  },
  {
   "cell_type": "markdown",
   "id": "80f7bb89-518d-4266-a632-ed503d1eecec",
   "metadata": {},
   "source": [
    "### B. Quiz\n",
    "#### Question 7.1\n",
    "Write a CSS ruleset for an `<h2>` element that has the following features:\n",
    "* The font should have serifs. Serifs are small, decorative lines that are added to the end of character strokes in some fonts. For example,\n",
    "  * Letter with serifs: <span style=\"font-family: serif;\">T</span>.\n",
    "  * Letter without serifs: <span style=\"font-family: sans-serif;\">T</span>.\n",
    "* The text should be bold and italic.\n",
    "* Center the text.\n",
    "* The font color should be #FFF8DC.\n",
    "* The background should be #00008B.\n",
    "\n",
    "Do *not* use the font shorthand syntax for this exercise. Your answer should have six property-value pairs."
   ]
  },
  {
   "cell_type": "code",
   "execution_count": null,
   "id": "b2abd24d-e074-486c-9380-0aa089c94ac6",
   "metadata": {},
   "outputs": [],
   "source": [
    "# Q 7.1\n",
    "#\n",
    "#"
   ]
  },
  {
   "cell_type": "markdown",
   "id": "d5a5af9a-3306-4beb-9089-75ce2b219732",
   "metadata": {},
   "source": [
    "#### Question 7.1\n",
    "Modify the answer to question 7.1 to use the font shorthand syntax. You should be able to produce the same text with only four property-value pairs."
   ]
  },
  {
   "cell_type": "code",
   "execution_count": null,
   "id": "7b8ee592-22b2-4244-a09c-e8cd8610deb8",
   "metadata": {},
   "outputs": [],
   "source": [
    "# Q 7.2\n",
    "#\n",
    "#"
   ]
  },
  {
   "cell_type": "markdown",
   "id": "2f1daf4d-449c-40bb-b1d8-f95404ecaa2f",
   "metadata": {},
   "source": [
    "#### Exercise # 2\n",
    "Complete the exercise on [Typesetting a community school homepage](https://developer.mozilla.org/en-US/docs/Learn/CSS/Styling_text/Typesetting_a_homepage). Copy the completed CSS into the markdown cell below (paste the text within the tick marks)."
   ]
  },
  {
   "cell_type": "markdown",
   "id": "0cd4056a-6183-47d3-ab84-5dd2dba3c9c6",
   "metadata": {},
   "source": [
    "Ex. #2. Double click on this cell and pasted the CSS code between the two comments.\n",
    "```css\n",
    "/*Paste CSS code below this line*/\n",
    "\n",
    "/*Paste the CSS code above this line*/\n",
    "```"
   ]
  },
  {
   "cell_type": "markdown",
   "id": "fe4197fa-02a5-4e06-872e-b570de8661ce",
   "metadata": {},
   "source": [
    "### IX. Styling Lists, Links, and Using Web Fonts\n",
    "Mozilla has tutorials for [styling lists](https://developer.mozilla.org/en-US/docs/Learn/CSS/Styling_text/Styling_lists), [links](https://developer.mozilla.org/en-US/docs/Learn/CSS/Styling_text/Styling_links), and [using fonts downloaded from the web](https://developer.mozilla.org/en-US/docs/Learn/CSS/Styling_text/Web_fonts). We will skip these sections. Come back to them if you are working on a web design that requires special fonts or customized appearances for lists and hyperlinks.\n",
    "\n",
    "#### Areas to Skim Over Quickly\n",
    "Everything. In fact, don't even skim. Just skip these sections."
   ]
  },
  {
   "cell_type": "markdown",
   "id": "69c70404-da94-4a6b-9b8d-16330d882828",
   "metadata": {},
   "source": [
    "## X. CSS Layouts\n",
    "### A. Reading Assignment\n",
    "Work through the following tutorials:\n",
    "1. [Introduction to CSS Layout](https://developer.mozilla.org/en-US/docs/Learn/CSS/CSS_layout/Introduction)\n",
    "2. [Normal Flow](https://developer.mozilla.org/en-US/docs/Learn/CSS/CSS_layout/Normal_Flow)\n",
    "3. [Flexbox](https://developer.mozilla.org/en-US/docs/Learn/CSS/CSS_layout/Flexbox)\n",
    "4. [Grids](https://developer.mozilla.org/en-US/docs/Learn/CSS/CSS_layout/Grids)\n",
    "\n",
    "#### Areas to Skim Over\n",
    "* In *Introduction to CSS Layout*:\n",
    "  * Table Layout\n",
    "  * Multi-column Layout\n",
    "* In *Grids*:\n",
    "  * You can skip the embedded video. It's a good video, but the information we need is available in the text."
   ]
  },
  {
   "cell_type": "markdown",
   "id": "d4cd625a-55de-458c-8475-e6a58d330103",
   "metadata": {},
   "source": [
    "### B. Quiz\n",
    "#### Question 10.1\n",
    "Complete the tasks in [Test your skills: Flexbox](https://developer.mozilla.org/en-US/docs/Learn/CSS/CSS_layout/Flexbox_skills). Paste your CSS and HTML code in the markdown cells below."
   ]
  },
  {
   "cell_type": "markdown",
   "id": "c2c99d76-03ce-457f-82c0-fd16f938e52c",
   "metadata": {
    "tags": []
   },
   "source": [
    "##### Q10.1, Task 1\n",
    "```css\n",
    "/*Paste CSS Code below this line*/\n",
    "\n",
    "```\n",
    "\n",
    "```html\n",
    "<!-- Paste HTML code below this line-->\n",
    "\n",
    "```"
   ]
  },
  {
   "cell_type": "markdown",
   "id": "dac614d3-6637-40fd-a84f-19b0fbc323b9",
   "metadata": {
    "tags": []
   },
   "source": [
    "##### Q10.1, Task 2\n",
    "```css\n",
    "/*Paste CSS Code below this line*/\n",
    "\n",
    "```\n",
    "\n",
    "```html\n",
    "<!-- Paste HTML code below this line-->\n",
    "\n",
    "```"
   ]
  },
  {
   "cell_type": "markdown",
   "id": "044c3b91-7641-4cd5-94a4-63f22bb459d1",
   "metadata": {
    "tags": []
   },
   "source": [
    "##### Q10.1, Task 3\n",
    "```css\n",
    "/*Paste CSS Code below this line*/\n",
    "\n",
    "```\n",
    "\n",
    "```html\n",
    "<!-- Paste HTML code below this line-->\n",
    "\n",
    "```"
   ]
  },
  {
   "cell_type": "markdown",
   "id": "e3b14833-1649-4741-9bbc-4d13c1f759cf",
   "metadata": {
    "tags": []
   },
   "source": [
    "##### Q10.1, Task 4\n",
    "```css\n",
    "/*Paste CSS Code below this line*/\n",
    "\n",
    "```\n",
    "\n",
    "```html\n",
    "<!-- Paste HTML code below this line-->\n",
    "\n",
    "```"
   ]
  },
  {
   "cell_type": "markdown",
   "id": "a603ee79-2c55-4dd1-bd8f-a29dc789d230",
   "metadata": {},
   "source": [
    "#### Question 10.2\n",
    "Complete the tasks in [Test your skills: Grid Layout](https://developer.mozilla.org/en-US/docs/Learn/CSS/CSS_layout/Grid_skills). Paste your CSS and HTML code in the markdown cells below."
   ]
  },
  {
   "cell_type": "markdown",
   "id": "c9224769-3b3f-409d-b55f-d62dc1a95a12",
   "metadata": {
    "tags": []
   },
   "source": [
    "##### Q10.2, Task 1\n",
    "```css\n",
    "/*Paste CSS Code below this line*/\n",
    "\n",
    "```\n",
    "\n",
    "```html\n",
    "<!-- Paste HTML code below this line-->\n",
    "\n",
    "```"
   ]
  },
  {
   "cell_type": "markdown",
   "id": "7bec4507-59b1-46b3-93bb-4b28cd795c27",
   "metadata": {
    "tags": []
   },
   "source": [
    "##### Q10.2, Task 2\n",
    "```css\n",
    "/*Paste CSS Code below this line*/\n",
    "\n",
    "```\n",
    "\n",
    "```html\n",
    "<!-- Paste HTML code below this line-->\n",
    "\n",
    "```"
   ]
  },
  {
   "cell_type": "markdown",
   "id": "e703a749-106b-4ea6-9cfd-10f63571ad9d",
   "metadata": {
    "tags": []
   },
   "source": [
    "##### Q10.2, Task 3\n",
    "```css\n",
    "/*Paste CSS Code below this line*/\n",
    "\n",
    "```\n",
    "\n",
    "```html\n",
    "<!-- Paste HTML code below this line-->\n",
    "\n",
    "```"
   ]
  },
  {
   "cell_type": "markdown",
   "id": "fba1502d-1cbd-48d8-be46-d9cb1ab6a583",
   "metadata": {
    "tags": []
   },
   "source": [
    "##### Q10.2, Task 4\n",
    "```css\n",
    "/*Paste CSS Code below this line*/\n",
    "\n",
    "```\n",
    "\n",
    "```html\n",
    "<!-- Paste HTML code below this line-->\n",
    "\n",
    "```"
   ]
  },
  {
   "cell_type": "markdown",
   "id": "bd501b91-dd92-46f3-b381-0e05081e6b52",
   "metadata": {},
   "source": [
    "## XI. More Exercises"
   ]
  },
  {
   "cell_type": "markdown",
   "id": "a5f5913f-1e77-4824-8316-b9c53273b3e6",
   "metadata": {},
   "source": [
    "### Exercise #3\n",
    "Complete the assessment on [fundamental CSS Comprehension](https://developer.mozilla.org/en-US/docs/Learn/CSS/Building_blocks/Fundamental_CSS_comprehension). Place the modified CSS and HTML files in a subfolder named s22-ex3 and upload them to your Github assignments repository."
   ]
  },
  {
   "cell_type": "markdown",
   "id": "370cbfbf-66f1-492c-a29b-0be983373a47",
   "metadata": {},
   "source": [
    "### Exercise #4\n",
    "Complete the assessment on [creating fancy letterhead paper](https://developer.mozilla.org/en-US/docs/Learn/CSS/Building_blocks/Creating_fancy_letterheaded_paper). Place the modified CSS and HTML files in a subfolder named s22-ex4 and upload them to your Github assignments repository."
   ]
  },
  {
   "cell_type": "markdown",
   "id": "a75b05e3-fef4-42f2-b6d8-e510ec4ae6f5",
   "metadata": {},
   "source": [
    "### Exercise #5\n",
    "Complete the assessment on creating [a cool looking box](https://developer.mozilla.org/en-US/docs/Learn/CSS/Building_blocks/A_cool_looking_box). Place the modified CSS and HTML files in a subfolder named s22-ex5 and upload them to your Github assignments repository."
   ]
  },
  {
   "cell_type": "markdown",
   "id": "ba5ae806-b257-433c-bc2b-797e434b07a6",
   "metadata": {},
   "source": [
    "## XII. Save and Upload your Work\n",
    "Once you have completed the exercises, save a copy of the notebook and associated files outside of the git repository (outside of the *pyclass_frc* folder). Upload the files to your assignments repository. Have another student or a mentor give you feedback on your work."
   ]
  },
  {
   "cell_type": "markdown",
   "id": "4f33ae38-7d92-40bd-9be7-e0504c14c43b",
   "metadata": {},
   "source": [
    "## XIII. Further Study\n",
    "### A. Mozilla Resources\n",
    "CSS is a big topic. Anyone aspiring to be an expert web designer is encouraged to review the topics that we skimmed or skipped over.\n",
    "\n",
    "In addition to the tutorials, Mozilla provides a detailed reference on every CSS property. Keep it handy when you are designing your website.\n",
    "\n",
    "### B. CSS Frameworks\n",
    "There are many free, ready-made, open-source CSS frameworks available on the Web. CSS frameworks allow you to add attractive layouts, animations, and navigation elements to your web page without having to write your own CSS. Checkout \n",
    "* [Bootstrap](https://getbootstrap.com/docs/5.1/getting-started/introduction/) is one of the most popular CSS frameworks.\n",
    "* [uikit](https://getuikit.com/docs/introduction) is a lightweight CSS framework that is reported to be easy to use."
   ]
  },
  {
   "cell_type": "markdown",
   "id": "dfe0d5ba-5d9f-4c88-9e97-375a6918b4ea",
   "metadata": {},
   "source": [
    "## XIV. Concept and Terminology Review\n",
    "You should be able to define the following terms or describe the concept. \n",
    "* Rule\n",
    "* Selector\n",
    "* Property\n",
    "* Value\n",
    "* External Stylesheet\n",
    "* Internal Stylesheet\n",
    "* Inline Styles\n",
    "* Document Object Model (DOM)\n",
    "* CSS Cascade\n",
    "* CSS Inheritance\n",
    "* Specificity\n",
    "* Type, Class, and ID Selectors\n",
    "* Attribute Selectors\n",
    "* Pseudo-Classes\n",
    "* Pseudo-Elements\n",
    "* Combinators\n",
    "* Box Model\n",
    "* Backgrounds\n",
    "* Borders\n",
    "* CSS Values\n",
    "* CSS Units\n",
    "* Normal Flow\n",
    "* Flexbox Layout\n",
    "* Grid Layout"
   ]
  },
  {
   "cell_type": "markdown",
   "id": "feac7634-e6c7-4464-a4d8-00ca4eb74bac",
   "metadata": {},
   "source": [
    "[Table of Contents](../../index.ipynb)"
   ]
  }
 ],
 "metadata": {
  "kernelspec": {
   "display_name": "Python 3 (ipykernel)",
   "language": "python",
   "name": "python3"
  },
  "language_info": {
   "codemirror_mode": {
    "name": "ipython",
    "version": 3
   },
   "file_extension": ".py",
   "mimetype": "text/x-python",
   "name": "python",
   "nbconvert_exporter": "python",
   "pygments_lexer": "ipython3",
   "version": "3.9.7"
  },
  "toc-autonumbering": false
 },
 "nbformat": 4,
 "nbformat_minor": 5
}
