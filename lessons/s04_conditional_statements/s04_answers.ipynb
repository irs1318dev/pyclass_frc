{
 "cells": [
  {
   "cell_type": "markdown",
   "metadata": {},
   "source": [
    "[Table of Contents](../../index.ipynb)"
   ]
  },
  {
   "cell_type": "markdown",
   "metadata": {},
   "source": [
    "# FRC Analytics with Python - Session 02\n",
    "# Control Statements"
   ]
  },
  {
   "cell_type": "markdown",
   "metadata": {},
   "source": [
    "## I. Why do We Need Control Statements? \n",
    "Completing numerical calculations and extracting characters from text strings is all well and good. But programs that just execute the same sequence of statements every time are a bit boring. For a program to do anythng interesting, it needs to make decisions and execute different statements based on the situation.\n",
    "\n",
    "Control statements allow a program to respond differently in different situations. Fundamentally, a control statement determines whether other statements are executed.\n",
    "\n",
    "The most basic control statement is the `if` statement. Consider the following:\n",
    "\n",
    "```Python\n",
    "if num_cheetos_left == 0:\n",
    "    print('We need to buy more Cheetos!')\n",
    "```\n",
    "\n",
    "Another common control statement is the `while` statement, which continues to execute a block of statements until a condition is true.\n",
    "```Python\n",
    "while power_cells < 5:\n",
    "    pickup_power_cell():\n",
    "```           \n",
    "\n",
    "One of the great things about Python is that it is easy to read. Even though you are new to Python, you probably get the gist of both of these control statements."
   ]
  },
  {
   "cell_type": "markdown",
   "metadata": {},
   "source": [
    "# II. While Loops\n",
    "Work through [section 3.2 of the Python tutorial.](https://docs.python.org/3/tutorial/introduction.html#first-steps-towards-programming). This section contains important information so read it carefully.\n",
    "* Use the code cell below to try out the `while` loop the computes the Fibonnacci sequence.\n",
    "* The line in the cell below that starts with `#` is a comment line. Python ignores everything on a line that comes after `#`."
   ]
  },
  {
   "cell_type": "code",
   "execution_count": null,
   "metadata": {},
   "outputs": [],
   "source": [
    "# While loop that calculates Fibbonaci Sequence.\n",
    "\n"
   ]
  },
  {
   "cell_type": "markdown",
   "metadata": {},
   "source": [
    "### A. While Loop Exercise\n",
    "**Ex. #1.** For your first exercise, use a `while` loop that repeated divides 1318 by 1.318 until the result is less than one.\\\n",
    "* In other words, the loop divides 1318 by 1.318, and then divides the quotient (result of the division) by 1.318, and then divides the new quotient by 1.318, etc. The loop should print the quotient each time it executes.\n",
    "* You will need to store the result of the division in a variable. Don't forget to update the variable within the body of the loop, or you might create an infinite loop.\n",
    "* If you do accidently create an infinite loop, hit the stop button (black square) in the toolbar at the top of this page."
   ]
  },
  {
   "cell_type": "code",
   "execution_count": 10,
   "metadata": {},
   "outputs": [],
   "source": [
    "# Create while loop that repeatedly divides 1318 by 1.318\n",
    "\n"
   ]
  },
  {
   "cell_type": "markdown",
   "metadata": {},
   "source": [
    "## III. If Statements\n",
    "Now work through [section 4.1 on `if` statements](https://docs.python.org/3/tutorial/controlflow.html#if-statements). Use the code cell below to try out the `if` and `else` statements from the tutorial."
   ]
  },
  {
   "cell_type": "code",
   "execution_count": null,
   "metadata": {},
   "outputs": [],
   "source": [
    "# Try out if and else statements here\n",
    "\n"
   ]
  },
  {
   "cell_type": "markdown",
   "metadata": {},
   "source": [
    "### A. Equality Versus Variable Assignment - IMPORTANT DISTINCTION\n",
    "What is the difference between the following two statements?\n",
    "1. `my_var = 0`\n",
    "2. `my_var == 0`?\n",
    "\n",
    "In statement #1, with just one equals sign, we are assigning the value of 0 to the variable `my_var`. Perhaps `my_var` was equal to some other number before this statement, like 432. But after the statement, `print(my_var)` will display 0.\n",
    "\n",
    "**Ex. #2.** In statement #2, we are checking to see if `my_var` is equal to 0. So if `my_var` is actually equal to 432, what will `print(my_var == 0)` display? Run the cell below to find out."
   ]
  },
  {
   "cell_type": "code",
   "execution_count": 14,
   "metadata": {},
   "outputs": [
    {
     "name": "stdout",
     "output_type": "stream",
     "text": [
      "False\n"
     ]
    }
   ],
   "source": [
    "# Run this cell to see difference between variable assignment and conditional equality\n",
    "my_var = 432\n",
    "print(my_var == 0)"
   ]
  },
  {
   "cell_type": "markdown",
   "metadata": {},
   "source": [
    "Change the code above to make the `print` function display `True`.\n",
    "\n",
    "**Bottom line:** One equals sign and two equals signs are two completely different things. One equals sign is called the *assignment operator* and two equals signs are called the *equality* operator. Try not to mix these up."
   ]
  },
  {
   "cell_type": "markdown",
   "metadata": {},
   "source": [
    "### B. If Statement Exercise\n",
    "**Ex. #3.** Now write an `if` statement with `else` and `elif` clauses that takes a numeric grade from 0 to 100 and determines if the grade is an *A*, *B*, *C*, *D*, or *F*. A 90 or above is an *A*, 80 - 89 is a *B*, 70 - 79 is a *C*, 60 - 69 is a *D*, and below a 60 is an *F*.\n",
    "* Use the `print()` function to display the grade.\n",
    "* Hint: start with checking that the grade is an *A*, then check for a *B*, and so forth."
   ]
  },
  {
   "cell_type": "code",
   "execution_count": null,
   "metadata": {},
   "outputs": [],
   "source": [
    "# if statement that determines letter grade\n",
    "\n"
   ]
  },
  {
   "cell_type": "markdown",
   "metadata": {},
   "source": [
    "## IV. Digression - You Don't Know How to Read Code!\n",
    "Don't take it personally, but if this is your first experience with programming, then your brain has not yet learned how to read programming languages. If you attempt to read code the same way you are reading this sentence, that is, with very litter concous effort -- just letting your eyes scan the page such that the words just appear in your mind, you will miss important details.\n",
    "\n",
    "Here's an example. One block of code will calculate a factorial. The other will not.\n",
    "\n",
    "```\n",
    "# Code Bloc #1\n",
    "num = 5\n",
    "step = 1\n",
    "fact = 1\n",
    "While step < num:\n",
    "    step = step + 1\n",
    "     fact = fact * step\n",
    "print(f'Factorial of {num}:', fact)\n",
    "```\n",
    "```\n",
    "# Code Bloc #2\n",
    "num = 5\n",
    "step = 1\n",
    "fact = 1\n",
    "while step < num\n",
    "    step = step + 1\n",
    "    fact = fact * step\n",
    "print(f'Factorial of {num}:', Fact)\n",
    "```\n",
    "\n",
    "Actually I lied. Niether block will run. Each block has two errors. To find the errors, you will need to look at every letter, symbol, number, and whitespace character in the code blocks. They all matter. Whether a character is upper or lower case also matters.\n",
    "\n",
    "**Ex. #4.** Try to fix the errors and run the code below."
   ]
  },
  {
   "cell_type": "code",
   "execution_count": 17,
   "metadata": {},
   "outputs": [],
   "source": [
    "# Use a while loop to calculate a factorial\n",
    "\n"
   ]
  },
  {
   "cell_type": "markdown",
   "metadata": {},
   "source": [
    "Did you see the upper case character that should have been lower case? Did you see the missing punctation? How about the extra space?"
   ]
  },
  {
   "cell_type": "markdown",
   "metadata": {},
   "source": [
    "## V. For Loops\n",
    "Work through [section 4.2 on `for` loops](https://docs.python.org/3/tutorial/controlflow.html#for-statements). Try out the examples in the cell below."
   ]
  },
  {
   "cell_type": "code",
   "execution_count": null,
   "metadata": {},
   "outputs": [],
   "source": [
    "# Try for loop examples here.\n",
    "\n"
   ]
  },
  {
   "cell_type": "markdown",
   "metadata": {},
   "source": [
    "### A. For Loop with a List\n",
    "**Ex. #5.** Use a `for` loop extract the first character from the list of words below. Add the characters to the `chars` list. (Hint: use the `append()` method to add the character to the `chars` list.)"
   ]
  },
  {
   "cell_type": "code",
   "execution_count": null,
   "metadata": {},
   "outputs": [],
   "source": [
    "# USe a for loop to add the first character of each word to the chars list\n",
    "words = [\"autonomous\", \"Mindstorm\", \"Roborio\", \"Android\", \"drivetrain\", \"end-effector\"]\n",
    "chars = []\n",
    "# Put for loop below this comment\n",
    "\n",
    "\n",
    "    \n",
    "print(chars)"
   ]
  },
  {
   "cell_type": "markdown",
   "metadata": {},
   "source": [
    "### B. The `range()` Function\n",
    "The `range()` function is often used with a `for` loop. Work through [section 4.3 on the `range()` function](https://docs.python.org/3/tutorial/controlflow.html#the-range-function). Try out the examples in the cell below."
   ]
  },
  {
   "cell_type": "code",
   "execution_count": null,
   "metadata": {},
   "outputs": [],
   "source": [
    "# Practice with the range() function here.\n",
    "\n",
    "\n"
   ]
  },
  {
   "cell_type": "markdown",
   "metadata": {},
   "source": [
    "Using the knowledge you just gained by reading section 4.3, predict the output of each code block below:\n",
    "\n",
    "#### Block 1\n",
    "```Python\n",
    "    for idx in range(5):\n",
    "        print(idx)\n",
    "```\n",
    "\n",
    "#### Block 2\n",
    "```Python\n",
    "for idx in range(3, 6):\n",
    "    print(idx)\n",
    "```\n",
    "\n",
    "#### Block 3\n",
    "```Python\n",
    "for idx in range(5, -5, -2):\n",
    "    print(idx)\n",
    "```\n"
   ]
  },
  {
   "cell_type": "markdown",
   "metadata": {},
   "source": [
    "**Ex. #6.** Use a `for` loop and the `range()` function to print out all numbers between 0 and 10 inclusive. Inclusive means your output should include both 0 and 10."
   ]
  },
  {
   "cell_type": "code",
   "execution_count": null,
   "metadata": {},
   "outputs": [],
   "source": [
    "# Ex 6: Print out all numbers between 0 and 10\n",
    "\n"
   ]
  },
  {
   "cell_type": "markdown",
   "metadata": {},
   "source": [
    "**Ex. #7.** Now print out all numbers from 0 to 10 inclusive, but in reverse order, starting with 10 and ending with zero."
   ]
  },
  {
   "cell_type": "code",
   "execution_count": null,
   "metadata": {},
   "outputs": [],
   "source": [
    "# Ex 7: Print all numbers from 10 down to 0\n",
    "\n"
   ]
  },
  {
   "cell_type": "markdown",
   "metadata": {},
   "source": [
    "**Ex. #8.** Print out all numbers from 1 to 100 that are multiples of 7. Use the *step* feature of the range function (don't use the modulus operator to check every single number)."
   ]
  },
  {
   "cell_type": "code",
   "execution_count": 3,
   "metadata": {},
   "outputs": [],
   "source": [
    "# Ex 8: Print all numbes from 1 to 100 that are multiples of 7.\n",
    "\n"
   ]
  },
  {
   "cell_type": "markdown",
   "metadata": {},
   "source": [
    "## VI. Break and Continue Statements\n",
    "You should be able to answer these questions\n",
    "- Where are break and continue statements used?\n",
    "- What is the difference between a break and a continue statement?\n",
    "- Under what conditions, exactly, will statements within a for-loop else clause not be executed?\n",
    "\n",
    "More information on for loops: https://www.tutorialspoint.com/python/python_loops.htm"
   ]
  },
  {
   "cell_type": "markdown",
   "metadata": {},
   "source": [
    "In the cells below, go through sections 4.1-4.5 of the python tutorial linked. \n",
    "Experiment with:\n",
    "- If statements\n",
    "- For loops\n",
    "- Range function\n",
    "- Else Clauses\n",
    "- Break and Continue statements\n",
    "\n",
    "https://docs.python.org/3/tutorial/index.html"
   ]
  },
  {
   "cell_type": "markdown",
   "metadata": {},
   "source": [
    "## Python Tutorial Sections 4.4 - 4.5: Break, Continue, and pass Statements\n",
    "You should be able to answer these questions\n",
    "- Where are break and continue statements used?\n",
    "- What is the difference between a break and a continue statement?\n",
    "- Under what conditions, exactly, will statements within a for-loop else clause not be executed?\n",
    "- What statement does nothing, but might be useful while you are coding?"
   ]
  },
  {
   "cell_type": "markdown",
   "metadata": {},
   "source": [
    "Complete the excersises in the cells below:"
   ]
  },
  {
   "cell_type": "code",
   "execution_count": null,
   "metadata": {},
   "outputs": [],
   "source": [
    "#Use a for loop to calculate the factorial of 13, 18, and 1318"
   ]
  },
  {
   "cell_type": "code",
   "execution_count": null,
   "metadata": {},
   "outputs": [],
   "source": [
    "#Use a while loop to calculate the factorial of 13, 18, and 1318"
   ]
  },
  {
   "cell_type": "code",
   "execution_count": null,
   "metadata": {},
   "outputs": [],
   "source": [
    "#Print all integers between 0 and 1318 that are multiples of 13 or 18"
   ]
  },
  {
   "cell_type": "code",
   "execution_count": null,
   "metadata": {},
   "outputs": [],
   "source": [
    "'''Use a for loop and range() to reverse the letters in \"Issaquah Robotics Society\" \n",
    "Hint: The += operator might also come in handy.'''"
   ]
  },
  {
   "cell_type": "code",
   "execution_count": null,
   "metadata": {},
   "outputs": [],
   "source": [
    "'''Use a for loop and to print out all the numbers between 0 and 100, \n",
    "except for numbers that are multiples of 9 (use the continue statement and % operator)'''\n"
   ]
  },
  {
   "cell_type": "markdown",
   "metadata": {},
   "source": [
    "## III. If Statements\n",
    "https://docs.python.org/3/tutorial/controlflow.html#if-statements\n",
    "Go back and work through section 4.1 if you have trouble answering any of these questions:\n",
    "- What is the difference between the elif and else keywords? \n",
    "- Can there be more than one elif statement?\n",
    "- Can there be more than one else statement?\n",
    "\n",
    "More information on if statements: https://www.tutorialspoint.com/python/python_decision_making.htm"
   ]
  },
  {
   "cell_type": "markdown",
   "metadata": {},
   "source": [
    "## Check your answers!"
   ]
  },
  {
   "cell_type": "code",
   "execution_count": null,
   "metadata": {},
   "outputs": [],
   "source": [
    "#Factorial of 13\n",
    "fact = 1\n",
    "for idx in range(1,14):\n",
    "     fact *= idx\n",
    "fact"
   ]
  },
  {
   "cell_type": "code",
   "execution_count": null,
   "metadata": {},
   "outputs": [],
   "source": [
    "#Factorial of 18\n",
    "fact = 1\n",
    "for idx in range(1,19):\n",
    "     fact *= idx\n",
    "fact"
   ]
  },
  {
   "cell_type": "code",
   "execution_count": null,
   "metadata": {},
   "outputs": [],
   "source": [
    "#Factorial of 1318\n",
    "fact = 1\n",
    "for idx in range(1,1319):\n",
    "     fact *= idx\n",
    "fact"
   ]
  },
  {
   "cell_type": "markdown",
   "metadata": {},
   "source": [
    "You should be able to answer these questions:\n",
    "- Why do we use range objects that go to 14 and 19 instead of 13 and 18?\n",
    "- What answer would we get if we omitted the 1 from the range arguments (i.e., range(14)?"
   ]
  },
  {
   "cell_type": "code",
   "execution_count": null,
   "metadata": {},
   "outputs": [],
   "source": [
    "#Factorial of 13\n",
    "idx = 13\n",
    "result = 1 \n",
    "while idx > 0:\n",
    "    result *= idx\n",
    "    idx -= -1\n",
    "result"
   ]
  },
  {
   "cell_type": "code",
   "execution_count": null,
   "metadata": {},
   "outputs": [],
   "source": [
    "#Factorial of 18\n",
    "idx = 18\n",
    "result = 1 \n",
    "while idx > 0:\n",
    "    result *= idx\n",
    "    idx -= -1\n",
    "result"
   ]
  },
  {
   "cell_type": "code",
   "execution_count": null,
   "metadata": {},
   "outputs": [],
   "source": [
    "#Factorial of 1318\n",
    "idx = 1318\n",
    "result = 1 \n",
    "while idx > 0:\n",
    "    result *= idx\n",
    "    idx -= -1\n",
    "result"
   ]
  },
  {
   "cell_type": "code",
   "execution_count": null,
   "metadata": {},
   "outputs": [],
   "source": [
    "#All integers between 0 and 1318 that are multiples of 13 or 18\n",
    "result = []\n",
    "for idx in range(1319):\n",
    "    if(idx%13 == 0 or idx%18 == 0):\n",
    "        result.append(idx)\n",
    "result"
   ]
  },
  {
   "cell_type": "code",
   "execution_count": null,
   "metadata": {},
   "outputs": [],
   "source": [
    "#Use a for loop and range() to reverse the letters in \"Issaquah Robotics Society\"\n",
    "\n",
    "irs_str = 'Issaquah Robotics Society'\n",
    "result = ''\n",
    "for idx in range(len(irs_str) -1, -1, -1):\n",
    "    result += irs_str[idx]\n",
    "result"
   ]
  },
  {
   "cell_type": "code",
   "execution_count": null,
   "metadata": {},
   "outputs": [],
   "source": [
    "#Use a for loop to print out all the numbers between 0 and 100, except for numbers that are multiples of 9 \n",
    "\n",
    "for i in range(0,101):\n",
    "    if (i % 9 == 0):\n",
    "        continue\n",
    "    print(i, end = ', ')"
   ]
  },
  {
   "cell_type": "markdown",
   "metadata": {},
   "source": [
    "# Control Statements\n",
    "\n",
    "![](flowchart.png)\n",
    "\n",
    "Control statements in python are used to control the order of execution of the program based on the values and logic"
   ]
  }
 ],
 "metadata": {
  "kernelspec": {
   "display_name": "Python 3",
   "language": "python",
   "name": "python3"
  },
  "language_info": {
   "codemirror_mode": {
    "name": "ipython",
    "version": 3
   },
   "file_extension": ".py",
   "mimetype": "text/x-python",
   "name": "python",
   "nbconvert_exporter": "python",
   "pygments_lexer": "ipython3",
   "version": "3.7.6"
  }
 },
 "nbformat": 4,
 "nbformat_minor": 2
}
