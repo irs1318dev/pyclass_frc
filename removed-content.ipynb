{
 "cells": [
  {
   "cell_type": "markdown",
   "id": "b74f4ecd-b96d-42c1-a3b8-497e009e1b76",
   "metadata": {},
   "source": [
    "# Section 01\n",
    "\n",
    "One of the most popular computer programming languages, along with Java, C, and C++\n",
    "* First released in 1991.\n",
    "* Open source and free to use.\n",
    "* Designed for readability.\n",
    "* Supports many different styles of programming, such as functional and object-oriented.\n",
    "\n",
    "Python is an interpreted language\n",
    "* Interpreted means program code is not compiled.\n",
    "* Instead, text files with program code are read and executed by another program called the Python interpreter.\n",
    "\n",
    "Benefits of an interpreted language\n",
    "* Programs can be run on any operating system (e.g., Linux, Windows, Mac, etc.).\n",
    "* Simpler development cycle since no compilation is required.\n",
    "Disadvantages of an interpreted language\n",
    "* Computer must have interpreter installed to be able to run program.\n",
    "* Programs do not execute as fast as compiled languages.\n",
    "\n",
    "## III. Why Does the IRS Use Python for Data Analysis?\n",
    "* Python is one of the most popular languages for data science. So there are many excellent and free packages available in Python for data analysis, data access and retrieval, graphing, statistics, etc.\n",
    "* Python is relatively easy to learn (compared to C or Java)\n",
    "* Python programming is a valuable skill for all STEM majors (not just computer science).\n",
    "* Python is an excellent tool for:\n",
    "  * Statistical analysis via numpy and scipy packages\n",
    "  * Symbolic mathematics via Sympy package\n",
    "  * Writing technical reports via Jupyter Notebooks\n",
    "  * And much more...\n",
    "* Slow speed due to being interpreted is not an issue - Python is plenty fast for our purposes.\n",
    "\n",
    "The IRS uses the CPython implementation, which is the most common implementation. It is written in C and can be extended with modules written in C or C++.\n",
    "\n",
    "The IRS uses Python 3. Python 2 is no longer be supported as of 1 January 2020."
   ]
  },
  {
   "cell_type": "markdown",
   "id": "e5c9cf6b-043b-45ba-86ad-6411cad907ee",
   "metadata": {},
   "source": [
    "## IV. Running Python Code in this Notebook\n",
    "\n",
    "#### Jupyter Notebooks\n",
    "Later on we'll cover how to write Python programs that you can run by double clicking an icon or from a command line, but for our first few class sessions we'll run Python code directly in this document, which is called a **Notebook**. Notebooks are a special kind of document that can include descriptive text (like the sentence you are reading right now), graphics, and Python code. Notebooks are useful because you can run the Python code and inspect its output directly in the notebook.\n",
    "\n",
    "#### Google Colab\n",
    "If you are reading this notebook for the first time, you are probably accessing this page from a [Google Colab](https://colab.research.google.com/). Gooble Colab allows us to get started quickly because we can experiment with simple Python code without having to install and configure special software on our computers.\n",
    "\n",
    "Google Colab will display a warning the first time you try to run Python code within a given notebook (see below). It's fine to click *Run Anyway*.\n",
    "<img src=\"images/colab-warning.png\" style=\"height: 200px;\">\n",
    "  \n",
    "Later sessions require installing Python and downloading course materials to your local computer. [Session 03](../../sessions/s03_tools/s03_tools.ipynb) will walk you through the process of installing Python and downloading all of the *FRC Analytics with Python* course materials. If you are feel confident with respect to your computer skills (or you're just feeling lucky), then you can skip ahead to session 04 and set up Python on your computer. Once downloaded, you'll use a program called [Jupyter](https://jupyter.org/) to run notebooks. The interface for Jupyter notebooks is slightly different than the Google Colab interface.\n",
    "\n",
    "#### Notebook Cells\n",
    "Jupyter and Colab notebooks have two kinds of cells: code cells and markdown cells.\n",
    "\n",
    "##### Markdown Cells\n",
    "The cell you are reading this very instant is a markdown cell, which is used to display formated text, hyperlinks, and images. Double click on this cell to enter edit mode and see how the text is formatted. See if you can figure out how to do the following formatting:\n",
    "* Italic text\n",
    "* Bold text\n",
    "* Paragraph breaks\n",
    "* Hyperlinks\n",
    "* Headers\n",
    "* Bulletized list\n",
    "* Numbered list\n",
    "\n",
    "Put the cursor in the cell and press *SHIFT + ENTER* to convert the cell back into nice-looking, formatted text. In Jupyter, *SHIFT + CTRL* will also work."
   ]
  },
  {
   "cell_type": "markdown",
   "id": "b26713c1-08c7-436f-a531-741e308f078c",
   "metadata": {},
   "source": [
    "##### Code Cells\n",
    "The cell immediately below this cell is a code cell. Put the cursor in that cell and press *SHIFT + ENTER* to run the Python code and see the results. Remember, if you are working in Google Colab, then Google Colab will ask if you trust the notebook the first time you try to run a cell. Click on *Run Anyways*."
   ]
  },
  {
   "cell_type": "markdown",
   "id": "d5d79d8c-029e-4b3c-9a38-d313a7e1ffc4",
   "metadata": {},
   "source": [
    "#### Working in the Notebook\n",
    "2. You can create new cells by pressing the \"+\" button (Jupyter) or \"+ Code\" and \"+ Text\" (Google Colab) in the notebook toolbar. Or you can press *ESC* then *A* to insert a cell above the current cell. Can you guess what *ESC* then *B* does?\n",
    "3. You change the cell from code to markdown using the dropdown box in the tool menu. Or you can press *ESC + M* to change to a markdown cell, or *ESC + Y* to change back to a code cell.\n",
    "4. The notebook toolbar also includes buttons for cutting, copying, and pasting cells, as well as saving your notebook, running cells, and moving cells up or down within the notebook.\n",
    "5. There are lots of keyboard shortcuts. Go to *Help->Keyboard Shortcuts* to see them all. Explore the notebook menu while you are at it.\n",
    "6. Both *SHIFT + ENTER* and *CTRL + ENTER* will run the code cell that the cursor is in. *SHIFT + ENTER* will run the cell and select the next cell down (or create a new empty code cell if you ran the last cell in the notebook). *SHIFT + ENTER* is handy if you want to run a sequence of cells in order. *CTRL + ENTER* will also run the cell, but the cursor will not move the next cell -- the cell you just ran will stay selected. *CTRL + ENTER* is useful if you want to run the same cell repeatedly.\n",
    "7. You can also run a cell by pressing *ALT + ENTER*. Pressing *ALT + ENTER* will always insert a new empty cell after the cell you just ran.\n",
    "8. Finally, in Jupyter you can run a cell by clicking on the *Run* button in the toolbar, or by selecting *Cell -> Run Cells* from the menu. In Colab you can run a cell by clicking on the run button to the left of the cell (looks like a *Play* button)."
   ]
  },
  {
   "cell_type": "markdown",
   "id": "9baf5e4d-f208-4d11-a48e-fb21d51bcc9b",
   "metadata": {},
   "source": [
    "## VII. Combinations and Permutations\n",
    "It's good to have some understanding of probability when analyzing FRC competition data. Using probability concepts also makes our Python exercises more interesting. Below we discuss two important concepts in probability and then practice those concepts in Python.\n",
    "\n",
    "### Permutations\n",
    "\n",
    "Let's start with permutations. Suppose I have a stack of nine playing cards. The nine cards are the two through ten of hearts. I shuffle the cards several times and then draw the top four cards from the deck. I might draw the 3 of hearts on the first, followed by the 9 of hearts, the 5 of hearts, and then the 7 of hearts. We'll call this result [3, 9, 5, 7] (We'll drop the suits since they are all the same). Other possible results are [2, 10, 3, 8] or [5, 6, 3, 2]. Each of these possible outcomes is called a permutation. A question that comes up frequently in probability is \"How many possible permutations are there?\" Note that the order in which the cards are drawn matters. A result of [2, 3, 4, 5] is different than [5, 4, 3, 2].\n",
    "\n",
    "It's not hard to calculate the total number of permutations. There are nine possible cards that could be drawn on the first draw, eight possible cards on the second draw, seven cards on the third, etc. So the number of possible permutations is $9 \\times 8 \\times 7 \\times 6$."
   ]
  },
  {
   "cell_type": "code",
   "execution_count": null,
   "id": "2a009846-2b55-4290-ad63-f2df5cf2a637",
   "metadata": {},
   "outputs": [],
   "source": [
    "# Permutations for drawing four cards from nine-card deck\n",
    "9 * 8 * 7 * 6"
   ]
  },
  {
   "cell_type": "markdown",
   "id": "9742d5ce-0ee9-4e17-8317-27126c14ec14",
   "metadata": {},
   "source": [
    "Now how would the answer change if after every draw, we placed the drawn card back in the deck and reshuffled? First of all, the experiment would take much longer. But more importantly, the same card could be drawn twice. In this scenario, [6, 10, 3, 6] is a possible outcome. Calculating the number of permutations is simple - there are nine possible cards for each draw and the total possible permutations is $9 \\times 9 \\times 9 \\times 9$, or $9^n$ where $n$ is the number of cards drawn."
   ]
  },
  {
   "cell_type": "code",
   "execution_count": null,
   "id": "3141bc05-4c38-4462-bf9a-8ea9565e40c9",
   "metadata": {},
   "outputs": [],
   "source": [
    "# Permutations for drawing four cards from nine-card deck, with replacement:\n",
    "9**4  # Same as 9 x 9 x 9 x 9"
   ]
  },
  {
   "cell_type": "markdown",
   "id": "ec4d756f-6bc1-4939-9cf1-89189549a871",
   "metadata": {},
   "source": [
    "The first scenario, where we did *not* replace the card in the stack, is called **sampling without replacement**. The second scenario is called **sampling with replacement**.\n",
    "\n",
    "Now let's try a permutation exercise.\n",
    "\n",
    "**Ex. VII.1** For our competition with 37 teams, calculate how many different ways teams can be assigned to a specific match. Note that teams are assigned to one of three stations (stations one through three) when they are assigned to a match. For example, [1318: station 1, 2976: station 2: 4131: station 3] and [4131: station 1, 1318: station 2, 2976: station 3] are two different permutations. Is this an example of sampling with or without replacement? (Write the answer in a comment.)"
   ]
  },
  {
   "cell_type": "code",
   "execution_count": null,
   "id": "49aa19a5-2e7a-47b0-8a55-23bc864ef37d",
   "metadata": {},
   "outputs": [],
   "source": [
    "# Ex VII.1:\n"
   ]
  },
  {
   "cell_type": "markdown",
   "id": "f5e57da0-8b92-4d4d-a15c-320671a2ae1c",
   "metadata": {},
   "source": [
    "#### Combinations\n",
    "Let's go back to the original permutations example with the stack of nine playing cards. Suppose we don't care about the order in which we draw the cards. For example, we would consider the results of [5, 4, 3, 2] and [2, 3, 4, 5] to be equivalent results because all we care about is what cards are in our hand after we've drawn all four cards. When the order doesn't matter, we call the result a **combination**. How many possible combinations are there when drawing four cards from a stack of nine different cards, without replacement?\n",
    "\n",
    "To answer this question, we first need to figure out how many different ways there are to order four different cards. For example, how many different results are there with the cards [2, 3, 4, 5]? There are four different possibilities for the first card, and since there is no replacement, there are 3 different possibilities for the second card, 2 possibilities for the third card, and then only one possibility for the last card (because there is only one card left). So there are $4 \\times 3 \\times 2 \\times 1$ different ways to order the four cards. "
   ]
  },
  {
   "cell_type": "code",
   "execution_count": null,
   "id": "b5a0c319-8cf1-433d-9e8b-dd9b0a2afa9b",
   "metadata": {},
   "outputs": [],
   "source": [
    "# How many different ways to order four playing cards?\n",
    "4 * 3 * 2 * 1"
   ]
  },
  {
   "cell_type": "markdown",
   "id": "8ba050c5-25e6-4f9a-8474-65cb187230fd",
   "metadata": {},
   "source": [
    "The value $4 \\times 3 \\times 2 \\times 1$ is also known as the factorial of 4, which is written by placing an exclamation mark after the number 4: $4!$ In general, the factorial of n is:\n",
    "\n",
    "$$n! = n \\times (n-1) \\times (n-2) \\times (n-3) \\: \\times \\: ... \\: \\times \\: 3 \\times 2 \\times 1$$\n",
    "\n",
    "If we have $n$ items, there are $n!$ different ways to order the items.\n",
    "\n",
    "##### Back to Permutations for a Moment\n",
    "The factorial notation can be used to express how many permutations when selecting n items from a set of m items:\n",
    "\n",
    "$$ \\textrm{permutations} = \\frac{m!}{(m-n)!}$$\n",
    "\n",
    "If we're selecting four cards from a stack of nine cards:\n",
    "\n",
    "$$ \\textrm{permutations} = \\frac{9!}{(9-4)!} = \\frac{9!}{5!} = \\frac{9 \\times 8 \\times 7 \\times 6 \\times 5 \\times 4 \\times 3 \\times 2 \\times 1}{5 \\times 4 \\times 3 \\times 2 \\times 1} = 9 \\times 8 \\times 7 \\times 6 $$\n",
    "\n",
    "##### Now back to Combinations\n",
    "Earlier we calculated that there are 3024 different permutations when drawing four cards from a nine card stack without replacement. We also calculated that there are 24 different ways to order four cards. That means that for every combination of four cards, there are 24 permutations. So to calculate the number of combinations, we just have to divide the number of permutations by 24, the number of ways there are to order four cards."
   ]
  },
  {
   "cell_type": "code",
   "execution_count": null,
   "id": "af4b29f6-7ab5-4f28-b5c6-1a9f805d097f",
   "metadata": {},
   "outputs": [],
   "source": [
    "# Number of combinations when selecting four cards from a nine-card stack.\n",
    "(9 * 8 * 7 * 6) / (4 * 3 * 2 * 1)"
   ]
  },
  {
   "cell_type": "markdown",
   "id": "a1327b22-2bc5-4bd8-a197-0aa7c4fd1e42",
   "metadata": {},
   "source": [
    "See how we used parenthesis to control the order of multiplication and division? To get the right answer we need to complete all of the multiplications first, and then the division needs to be the final operation. Without the parenthesis, Python performs the multiplication and division operations from left to right, which gives an incorrect answer.\n",
    "\n",
    "In factorial notation, for selecting $n$ items for a set of $m$ items:\n",
    "\n",
    "$$ \\textrm{combinations} = \\frac{m!}{(m-n)!n!}$$"
   ]
  },
  {
   "cell_type": "markdown",
   "id": "b7204719-9518-40b9-b55f-f398b3681f4a",
   "metadata": {},
   "source": [
    "**Ex. #VII.2** Now calculate the number of alliance *combinations* for a 37-team competition, where station assignments don't matter."
   ]
  },
  {
   "cell_type": "code",
   "execution_count": null,
   "id": "d2c659e8-21f9-4a7e-b95a-9750b06ccaba",
   "metadata": {},
   "outputs": [],
   "source": [
    "# Ex 11:\n"
   ]
  },
  {
   "cell_type": "markdown",
   "id": "b3a3ce51-7042-40b1-84e0-056c51b0ab84",
   "metadata": {},
   "source": [
    "For a more detailed description of permutations and combinations, checkout https://www.mathsisfun.com/combinatorics/combinations-permutations.html."
   ]
  },
  {
   "cell_type": "markdown",
   "id": "716acf22-df56-4264-a2db-07d281bfd596",
   "metadata": {},
   "source": [
    "## X. Concept and Terminology Review\n",
    "You should be able to define the following terms or describe the concept. Review this notebook if any of these seem unfamiliar.\n",
    "* Jupyter notebook\n",
    "* mybinder.org\n",
    "* markdown and code cells\n",
    "* Interpreted language\n",
    "* Combinations and permutations"
   ]
  },
  {
   "cell_type": "markdown",
   "id": "94dbd662-d111-42f5-8d3d-a3b85dd53d3c",
   "metadata": {},
   "source": [
    "**#5.** Suppose we calculate the number of combinations and the number of possible permutations for rolling a standard six-sided die five times. Which will be bigger? The number of combinations or the number of permutations?"
   ]
  },
  {
   "cell_type": "code",
   "execution_count": null,
   "id": "ee58839f-b5f6-481f-917a-c7635d3afc31",
   "metadata": {
    "tags": []
   },
   "outputs": [],
   "source": []
  },
  {
   "cell_type": "code",
   "execution_count": null,
   "id": "354d8c8c-ed9a-4e08-8e4c-e255c9d74766",
   "metadata": {},
   "outputs": [],
   "source": []
  }
 ],
 "metadata": {
  "kernelspec": {
   "display_name": "Python 3 (ipykernel)",
   "language": "python",
   "name": "python3"
  },
  "language_info": {
   "codemirror_mode": {
    "name": "ipython",
    "version": 3
   },
   "file_extension": ".py",
   "mimetype": "text/x-python",
   "name": "python",
   "nbconvert_exporter": "python",
   "pygments_lexer": "ipython3",
   "version": "3.9.7"
  }
 },
 "nbformat": 4,
 "nbformat_minor": 5
}
