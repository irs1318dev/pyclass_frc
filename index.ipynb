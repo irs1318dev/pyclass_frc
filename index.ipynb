{
 "cells": [
  {
   "cell_type": "markdown",
   "metadata": {},
   "source": [
    "# Programming for FRC Data Analysis\n",
    "\n",
    "## I. Introduction\n",
    "This is an introductory course in programming that focuses on data analysis and visualization. The course was developed to help members of a FIRST Robotics Competition (FRC) team analyze data at robotics competitions.\n",
    "\n",
    "This course assumes no prior programming knowledge. Students who complete this course will be able to:\n",
    "* Analyze data and create interactive visualizations\n",
    "* Connect to databases and other data sources\n",
    "* Create interactive computer programs\n",
    "* Create web applications\n",
    "* Use common programming tools like Git, Github, and terminal windows\n",
    "\n",
    "This course focuses primarily on Python, but Structured Query Language (SQL), Javascript, Hypertext Markup Language (HTML), and Cascading Stylesheets (CSS) are also covered."
   ]
  },
  {
   "cell_type": "markdown",
   "metadata": {},
   "source": [
    "## II. What You Need to Get Started\n",
    "1. **Access to a web browser.** Most of the lessons can be completed right here in Google Colab. You don't need to install any software and you can work from different computers.\n",
    "2. **A Google Gmail account.** You need a Gmail account to be able to save your work to your Google Drive, and to share your code and get feedback.\n",
    "\n",
    "## III. What You Will Need Later (for the Advanced Assignments)\n",
    "1. **A Windows, Mac, or Linux Computer.** Eventually you will need to run Python and other software on a local computer. All the necessary software can be downloaded for free.\n",
    "3. **A Github Account.** Github is a website that allows people to share code with each other and collaborate on programming projects. We'll use it for a few projects."
   ]
  },
  {
   "cell_type": "markdown",
   "metadata": {},
   "source": [
    "# IV. Contents\n",
    "1. [Introduction to Python](lessons/01_intro_python/lesson01_intro_python.ipynb)"
   ]
  },
  {
   "cell_type": "code",
   "execution_count": null,
   "metadata": {},
   "outputs": [],
   "source": []
  }
 ],
 "metadata": {
  "kernelspec": {
   "display_name": "Python 3 (ipykernel)",
   "language": "python",
   "name": "python3"
  },
  "language_info": {
   "codemirror_mode": {
    "name": "ipython",
    "version": 3
   },
   "file_extension": ".py",
   "mimetype": "text/x-python",
   "name": "python",
   "nbconvert_exporter": "python",
   "pygments_lexer": "ipython3",
   "version": "3.9.7"
  }
 },
 "nbformat": 4,
 "nbformat_minor": 4
}
