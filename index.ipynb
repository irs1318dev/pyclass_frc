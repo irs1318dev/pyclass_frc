{
 "cells": [
  {
   "cell_type": "markdown",
   "metadata": {},
   "source": [
    "# FRC Analytics with Python\n",
    "## I. Table of Contents\n",
    "This course is still under construction.\n",
    "\n",
    "[Notes for FRC Mentors](notes_for_mentors.ipynb)\n",
    "\n",
    "### A. Class Sessions\n",
    "If you are new to this course, start with session 1 below.\n",
    "* [Session 01: Introduction to Python](sessions/s01_intro_python/s01_intro.ipynb)\n",
    "* [Session 02: Data Types](sessions/s02_data_types/s02_data_types.ipynb)\n",
    "* [Session 03: Programming Tools](sessions/s03_tools/s03_tools.ipynb)\n",
    "* [Session 04: Conditional Statements](sessions/s04_conditional_statements/s04_conditional_statements.ipynb)\n",
    "* [Session 05: Loops](sessions/s05_loops/s05_loops.ipynb)\n",
    "* [Session 06: Functions](sessions/s06_functions/s06_functions.ipynb)\n",
    "* [Session 07: Composite Data Types](sessions/s07_composite_data/s07_composite_data.ipynb)\n",
    "* [Session 08: Modules](sessions/s08_modules/s08_modules.ipynb)\n",
    "* [Session 09: Files and Comprehensions](sessions/s09_files_and_comprehensions/s09_files_and_comprehensions.ipynb)\n",
    "* [Session 10: Tabular Data](sessions/s10_tabular_data/s10_tabular_data.ipynb)\n",
    "* [Session 11: Plotting with Matplotlib](sessions/s11_visualization/s11.1_matplotlib.ipynb)\n",
    "* [Session 12: Working with Text I](sessions/s12_text_I/s12_text_I.ipynb)\n",
    "* [Session 13: Working with Text II](sessions/s13_text_II/s13_text_II.ipynb)\n",
    "* [Session 14: Classes Part I, Introduction to Classes and Automated Testing](sessions/s14_classes_I/s14_classes_I.ipynb)\n",
    "* [Session 15: Classes Part II, Object Oriented Programming](sessions/s15_classes_II/s15_class_II.ipynb)\n",
    "* [Session 16: HTTP](sessions/s16_http/s16_http.ipynb)\n",
    "* [Session 17: Basic Structured Query Language (SQL)](sessions/s17_SQL_I/s17_SQL_I.ipynb)\n",
    "* [Session 18: More SQL: Joins](sessions/s18_SQL_II/s18_SQL_II.ipynb)\n",
    "* [Session 19: More SQL: Creating tables, Upserts, and Aggregate Queries](sessions/s19_SQL_III/s19_SQL_III.ipynb)\n",
    "* [Session 20: More SQL: Multi-part and Window Queries](sessions/s20_SQL_IV/s20_SQL_IV.ipynb)\n",
    "\n",
    "### B. Procedures\n",
    "Procedures address how to install and configure software or setup online accounts that are needed for this course. \n",
    "* [Procedure 01: Installing Python](procedures/pc01_install_python/pc01_install_python_windows.ipynb)\n",
    "* [Procedure 02: Installing Git](procedures/pc02_git/pc02_git.ipynb)\n",
    "* [Procedure 03: Using Git](procedures/pc03_using_git/pc03_using_git.ipynb)\n",
    "* [Procedure 04: Managing Python Environments](procedures/pc04_environments/pc04_environments.ipynb)\n",
    "* [Procedure 05: Blue Alliance API Key](procedures/pc05_tba_api_key/pc05_tba_api_key.ipynb)\n",
    "* [Procedure 06: VS Code](procedures/pc06_vs_code/pc06_vs_code.ipynb)\n",
    "* [Procedure 07: Windows Terminal](procedures/pc07_windows_terminal/pc07_windows_terminal.ipynb)\n",
    "\n",
    "### C. Projects\n",
    "Try out these projects once you are familiar with Python and are interested in a challenge.\n",
    "\n",
    "Retrieve and Analyze Data from *The Blue Alliance*\n",
    "  * [Notebook 1: HTTP Requests](projects/pj01_tba_api/pj01_nb01_tba_http.ipynb)\n",
    "  * [Notebook 2: Flat Data](projects/pj01_tba_api/pj01_nb02_tba_flat_data.ipynb)\n",
    "  * [Notebook 3: Nested Data](projects/pj01_tba_api/pj01_nb03_tba_nested_data.ipynb)\n",
    "\n",
    "### D. Useful Links\n",
    "* All of the files that make up this course are store on the [FRC Python Class Github Repository](https://github.com/irs1318dev/pyclass_frc).\n",
    "* These course materials are replacing an older course that was constructed entirely in Google Docs. [The Github repository for that course is here](https://github.com/irs1318dev/python_class) and links to the [Google Docs are here.](https://github.com/irs1318dev/python_class/blob/master/sessions.md)"
   ]
  },
  {
   "cell_type": "markdown",
   "metadata": {},
   "source": [
    "## II. Scouting Verses Analytics\n",
    "\n",
    "#### Scouting\n",
    "* Collection and evaluation of data on rival drive teams and robot performance.\n",
    "* The data is used to improve decisions regarding drive team strategy and alliance selection.\n",
    "* This use of the term *scouting* is unique to FIRST Robotics Competition (FRC).\n",
    "\n",
    "#### Analytics\n",
    "* The discovery, interpretation, and communication of meaningful patterns in data; and the process of applying those patterns towards effective decision making.\n",
    "* Relies heavily on statistics, other branches of mathematics, and computer programming\n",
    "* The term *analytics* is common in many fields (business, tech, etc.)\n",
    "* Applications: Finance, sports, software design, marketing, healthcare, etc.\n",
    "* See https://en.wikipedia.org/wiki/Analytics\n"
   ]
  },
  {
   "cell_type": "markdown",
   "metadata": {},
   "source": [
    "## III. Cool Things Python Can Do\n",
    "\n",
    "### Answering Questions and Generating Charts\n",
    "Our team, FRC 1318, competed in the Turing Division at the Houston world championships in 2018. It seemed like we had a difficult schedule, but did we really? To answer that question we took the difference of the average ranking points of each team's opponents and the average ranking points of each team's alliance partners. A positive number indicated that the team had a tougher than average match schedule, and a negative number indicated a less challenging schedule. The units are in ranking points. Here are the results:\n",
    "\n",
    "![Schedule Strength Chart](fun_stuff/turing2018_sched_strength.png)\n",
    "\n",
    "* The data to generate this chart was downloaded from [The Blue Alliance website](https://www.thebluealliance.com/) using Python. The calculations were all completed using a Python package called [Pandas](https://pandas.pydata.org), and the chart was generated with a Python package called [matplotlib](https://matplotlib.org/). Packages are extensions that add additional features to Python. The popular ones are free and can be downloaded from the Internet.\n",
    "* The difference between the most and least challenging schedules is about 0.8 ranking points. The data supports our impression that FRC 1318 had a challenging schedule.\n",
    "* *One does need to be careful with this sort of calculation.* Consider the #1 ranked team in the competition. Teams that play as alliance partners of the #1 ranked team will likely have slightly more ranking points than teams that play against the #1 ranked team, because by definition, the #1 ranked team won most of its matches. This phenomena will cause the schedule strength of the #1 ranked team to appear less challenging than it really is. The opposite effect occurs for teams near the bottom of the ranking list. To correct for this, when calculating schedule strength for each team, we did not include the matches that the team played in. In other words, when calculating schedule strength for FRC 1318, we only used matches in which FRC 1318 *did not play* to calculate the average ranking points of alliance partners and opponents. This way, a team's performance has no impact on their schedule strength.\n",
    "\n",
    "### Help You with Math Homework\n",
    "There is a free Python package called *sympy* that will do symbolic math. Here's an example of simplifying a complicated algebraic equation:\n",
    "![Math](fun_stuff/math.png)\n",
    "\n",
    "The *sympy* package can do many other things, such as calculating derivatives and integrals and performing matrix operations.\n",
    "\n",
    "### Run Machine Learning Algorithms\n",
    "Python is one of the most popular languages for machine learning. Here is a table showing the performance of a machine learning algorithm that predicted what type of forest cover would be present at specific locations in the Rocky Mountains, based on elevation, topography, distance to water, soil type, etc. The data set is from the [Kaggle website](https://www.kaggle.com/c/forest-cover-type-prediction).\n",
    "\n",
    "![Forest Cover Predictions](fun_stuff/ml.png)\n",
    "* The algorithm was evaluated on a test data set. The row labels (e.g., Spruce/Fir, Lodgepole Pine, etc.) indicate the true forest cover at the location, and the column labels represent what the machine learning algorithm predicted. The values in the table are the number of times that the algorithm predicted the value in the column label when the actual cover type corresponded to the value in the row label. This type of table is called a **Confusion Matrix**.\n",
    "* Our overall accuracy was about 80%. Our algorithm had difficulty distinguishing between spruce/fir and lodgepole pine. It correctly predicted that forest cover would be spruce/fir on 333 occasions, but misclassified the cover as Lodgepole pine on 64 equations. Our algorithm was very accurate with cottonwood/willow and Krummholtz forest cover types.\n"
   ]
  }
 ],
 "metadata": {
  "kernelspec": {
   "display_name": "Python 3 (ipykernel)",
   "language": "python",
   "name": "python3"
  },
  "language_info": {
   "codemirror_mode": {
    "name": "ipython",
    "version": 3
   },
   "file_extension": ".py",
   "mimetype": "text/x-python",
   "name": "python",
   "nbconvert_exporter": "python",
   "pygments_lexer": "ipython3",
   "version": "3.9.7"
  }
 },
 "nbformat": 4,
 "nbformat_minor": 4
}
