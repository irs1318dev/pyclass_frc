{
 "cells": [
  {
   "cell_type": "markdown",
   "id": "097740eb",
   "metadata": {},
   "source": [
    "[Table of Contents](../../index.ipynb)"
   ]
  },
  {
   "cell_type": "markdown",
   "id": "8a5a5a80",
   "metadata": {},
   "source": [
    "# FRC Analytics with Python - Procedure 06\n",
    "# Windows Terminal\n",
    "**Last Updated: 9 July 2021**\n",
    "\n",
    "Windows Terminal is a major upgrade from *Command Prompt* or the *Powershell* window. Properly configured, it can help you get your work done faster. Plus, it looks cool.\n",
    "\n",
    "![Windows Terminal](images/terminal_overview.png)"
   ]
  },
  {
   "cell_type": "markdown",
   "id": "cf6189ef",
   "metadata": {},
   "source": [
    "## 1. Installation\n",
    "Download and install Windows Terminal from [Microsoft's website.](https://www.microsoft.com/en-us/p/windows-terminal/9n0dx20hk701?activetab=pivot:overviewtab) \n",
    "\n",
    "## 2. Documentation\n",
    "[The documentation for Windows Terminal is here.](https://docs.microsoft.com/en-us/windows/terminal/)"
   ]
  },
  {
   "cell_type": "markdown",
   "id": "f5fd81a5",
   "metadata": {},
   "source": [
    "## 3. Configuration\n",
    "### Running Windows Terminal\n",
    "Once installed, you'll find Windows Terminal (WT) on your *Start* menu under **W**. I recommend creating pinning it to your *Start* menu or creating a desktop shortcut so you can quickly start WT.\n",
    "\n",
    "### Creating a Profile for Conda and Python\n",
    "Windows Terminal allows you to create custom profiles. We'll create a profile that opens an Anaconda Powershell prompt in the folder of your choice.\n",
    "\n",
    "1. Start WT and open the settings pane.\n",
    "\n",
    "![Opening Settings](images/settings.png)\n",
    "\n",
    "2. Scroll down to the bottom of the left-side navigation menu and select *+ Add New*.\n",
    "3. Give your profile a name (in the *Name* box), like *Conda IRS* or something like that."
   ]
  },
  {
   "cell_type": "markdown",
   "id": "0e161651",
   "metadata": {},
   "source": [
    "4. Paste the following text into the *Command line* box:\n",
    "\n",
    "```powershell\n",
    "powershell.exe -ExecutionPolicy ByPass -NoExit -Command \"& '%USERPROFILE%\\miniconda3\\shell\\condabin\\conda-hook.ps1' ; conda activate '%USERPROFILE%\\miniconda3\\envs\\ENV_NAME' \"\n",
    "```\n",
    "\n",
    "5. Verify that you installed miniconda in your user folder. Go to `C:\\Windows\\Users\\YOUR_USER_NAME` and verify you see a subfolder called *miniconda3*.\n",
    "* If you see it, great. Proceed to step 6.\n",
    "* If you don't see it, then you will need to figure out where you installed Miniconda or Anaconda and alter the command accordingly. You will need to fix the path to `conda-hook.ps1` and to your environment.\n",
    "\n",
    "6. replace `ENV_NAME` with the name of the conda environment you want to use. To see what conda environments are installed on your machine, you can type `conda info --envs` within an anaconda prompt, or you can see what subfolders are in `%USERPROFILE%\\miniconda3\\envs\\ENV_NAME`\n",
    "\n",
    "7. Triple check the command to make sure it's right. There cannot be any newline characters in the command. Also, the double and single quotes must be reproduced exactly!\n",
    "\n",
    "8. Hit the *Browse* button next to the *Starting Directory* box and select the folder you would like the terminal to start in. It's usually the folder where you put your Python projects.\n",
    "\n",
    "9. If everything looks good, hit *Save*. You should see the profile show up when you click the menu drop-down arrow. If it doesn't, go back to settings and re-check everything because you made a mistake. When you start the profile, you should see the conda environment name in parentheses to the left of the command prompt.\n",
    "\n",
    "#### Some explanatory notes\n",
    "* The long command in step 4 is necessary to be able to run Conda commands from the PowerShell prompt.\n",
    "  * `powershell.exe` tells windows terminal that we want a Powershell prompt.\n",
    "  * `-ExecutionPolicy ByPass` tells Powershell to lighten up on the security checks.\n",
    "  * `-NoExit` tells Powershell to stay open and wait for more user input.\n",
    "  * `-Command` tells Powershell that we want to run a couple commands right away, as soon as the terminal window opens. The commands are contained in the string value that follows `-Command`.\n",
    "  * The first command runs the `conda-hook.ps1` script, which is part of Miniconda and Anaconda, and configures PowerShell to run conda commands.\n",
    "  * Finally, the `conda activate` command activates the conda environment we want to use.\n",
    "* FYI, %USERPROFILE% is an environment variable. It tells Windows to get the path to the user folder for the currently logged-in user."
   ]
  },
  {
   "cell_type": "markdown",
   "id": "aca2c07e",
   "metadata": {},
   "source": [
    "### Play with the Appearance\n",
    "Go back to settings, click on the profile, and go to the *Appearance* tab. Play with the color scheme, font, and background photo as desired to make the profile look cool. Here's mine:\n",
    "\n",
    "![Custom Terminal](images/customized_terminal.png)"
   ]
  },
  {
   "cell_type": "markdown",
   "id": "a75320a1",
   "metadata": {},
   "source": [
    "## Advanced Settings\n",
    "Windows Terminal stores it's settings in a JSON file, which you can edit by clicking on *Open JSON file* at the bottom of the settings navigation pane. You can do thing like:\n",
    "* Create your own color schemes\n",
    "* Create custom keyboard shortcuts\n",
    "* Change startup behavior\n",
    "\n",
    "[See the *Customized Settings* section of the documentation for explanations of the settings in the JSON file.](https://docs.microsoft.com/en-us/windows/terminal/)\n"
   ]
  },
  {
   "cell_type": "markdown",
   "id": "3d7bd8fb",
   "metadata": {},
   "source": [
    "[Table of Contents](../../index.ipynb)"
   ]
  }
 ],
 "metadata": {
  "kernelspec": {
   "display_name": "Python 3",
   "language": "python",
   "name": "python3"
  },
  "language_info": {
   "codemirror_mode": {
    "name": "ipython",
    "version": 3
   },
   "file_extension": ".py",
   "mimetype": "text/x-python",
   "name": "python",
   "nbconvert_exporter": "python",
   "pygments_lexer": "ipython3",
   "version": "3.9.4"
  }
 },
 "nbformat": 4,
 "nbformat_minor": 5
}
