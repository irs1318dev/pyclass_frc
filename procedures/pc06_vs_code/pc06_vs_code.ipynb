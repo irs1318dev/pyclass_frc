{
 "cells": [
  {
   "cell_type": "markdown",
   "metadata": {},
   "source": [
    "[Table of Contents](../../index.ipynb)"
   ]
  },
  {
   "cell_type": "markdown",
   "metadata": {},
   "source": [
    "# FRC Analytics with Python - Procedure 05\n",
    "# Microsoft Visual Studio Code\n",
    "**Last Updated: 4 May 2020**\n",
    "\n",
    "A programming text editor is an essential tool for any programmer. There are many free programming text editors available for download. This course will cover Microsoft's Visual Studio (VS) Code text editor."
   ]
  },
  {
   "cell_type": "markdown",
   "metadata": {},
   "source": [
    "## I. Download and Install\n",
    "1. Download the appropriate version of VS Code for your operating system at https://code.visualstudio.com/download. For most students the correct version will be for 64-bit windows or macOS.\n",
    "\n",
    "![VS Code Download Page](images/vs_code_download.png)\n",
    "\n",
    "2. Run the installer program.\n",
    "3. Accept the license agreement.\n",
    "4. On the next two dialogs, accept the default install location and the default *Start Menu Folder*.\n",
    "5. On the *Select Additional Tasks* dialog, consider checking the two *Add \"Open with Code\"...* checkboxes to make it easy to open files with VS Code from Windows File Exporer (Windows Installer).\n",
    "\n",
    "![VS Code Additional Tasks](images/vs_code_additional_tasks.png)\n",
    "\n",
    "6. Continue accepting default options and complete the installation."
   ]
  },
  {
   "cell_type": "markdown",
   "metadata": {},
   "source": [
    "## II. Install Anaconda and Python Extensions for VS Code\n",
    "1. Open VS Code.\n",
    "![VS Code Startup Screen](images/vs_code_startup.png)  \n",
    "\n",
    "2. Click on the extensions icon on the left side of the *VS Code* window. The icon looks like four square blocks.\n",
    "3. In the *Search* box at the top of the *Extensions* window, type `anaconda`.\n",
    "4. Find the Anaconda extension **from Microsoft**. Click the *install* button for this extension.\n",
    "![Microsoft Anaconda extension](images/anaconda_ext.png)  \n",
    "\n",
    "5. VS Code will ask if you want to install the recommended extensions for Python. You do, so click the *Install* button.\n",
    "![Install recommended Python extensions](images/recc_ext.png)  \n",
    "\n",
    "6. Click the *Reload Required* button to restart VS Code and finish installing the Python extension. If you don't see the *Reload Required* button, just close VS Code and restart it.\n",
    "![Reload to complete install](images/reload.png)  \n",
    "\n",
    "\n",
    "7. After reloading, VS Code might ask again whether you want to install recommended Python extensions. If so, click *Install* again. When finished, your VS Code installation should have the Anaconda, Python, and YAML extensions (the YAML extension should be installed automatically when you install the Anaconda extension).\n",
    "![Reload to complete install](images/extensions.png)  \n",
    "\n",
    "VS Code is now ready to go!"
   ]
  },
  {
   "cell_type": "markdown",
   "metadata": {},
   "source": [
    "## III. Select a Python Environment\n",
    "1. Select *View->Command Pallette...* from the menu (or hit CTRL+SHIFT+P) to open the command pallete window.\n",
    "![VS Code Command Pallette](images/vs_cmd_pallette.png)\n",
    "*VS Code* has so many options that they can't all fit on a menu. Many options are only available from the command pallette. If you see the option *Python: Select Interpreter*, click on it. If not, start to type `Python: Select Interpreter` in the command pallete search box. Click on it when it appears in the search results.\n",
    "6. You should see a list of Conda environments appear at the top of the screen. Select the environment you want to use to run Python programs within *VS Code*.\n",
    "![List of Conda Environments](images/vs_py_int_select.png)\n",
    "You should see your Python environment in the bottom left corner of the *VS Code* window after you've completed this step.\n",
    "![Python Environment](images/vs_python_env.png)"
   ]
  },
  {
   "cell_type": "markdown",
   "metadata": {},
   "source": [
    "[Table of Contents](../../index.ipynb)"
   ]
  }
 ],
 "metadata": {
  "kernelspec": {
   "display_name": "Python 3",
   "language": "python",
   "name": "python3"
  },
  "language_info": {
   "codemirror_mode": {
    "name": "ipython",
    "version": 3
   },
   "file_extension": ".py",
   "mimetype": "text/x-python",
   "name": "python",
   "nbconvert_exporter": "python",
   "pygments_lexer": "ipython3",
   "version": "3.9.4"
  }
 },
 "nbformat": 4,
 "nbformat_minor": 4
}
