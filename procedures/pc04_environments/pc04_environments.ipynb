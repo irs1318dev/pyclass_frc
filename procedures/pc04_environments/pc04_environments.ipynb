{
 "cells": [
  {
   "cell_type": "markdown",
   "metadata": {},
   "source": [
    "[Table of Contents](../../index.ipynb)"
   ]
  },
  {
   "cell_type": "markdown",
   "metadata": {},
   "source": [
    "# FRC Analytics with Python - Procedure 03\n",
    "# Managing Python Packages\n",
    "**Last Upated: 29 April 2020**"
   ]
  },
  {
   "cell_type": "markdown",
   "metadata": {},
   "source": [
    "# I. Environments and Packages\n",
    "Open an Anaconda Powershell Window. You can find the shortcut in the *Anaconda* folder on the Windows *Start Menu*.\n",
    "\n",
    "![Anaconda Powershell Window](images/pwrsh.png)"
   ]
  },
  {
   "cell_type": "markdown",
   "metadata": {},
   "source": [
    "The Anaconda Powershell prompt is exactly the same as a regular Powershell prompt, except that custom configuration commands are automatically run when this Powershell window is open. These configuration commands allow us to more easily run Python progams from the command line.\n",
    "\n",
    "The special Anaconda configuration also modifies the Powershell prompt. See the text `(base)` at the beginning of the prompt? This means we are currently using the *base* Python environment. The *base* environment contains just plain old Python, with no added packages.\n",
    "\n",
    "A Python package is a collection of Python programs that is developed by a third party and provides additional features that are not included by default in Python. One of the reasons Python is so popular is that there are so many excellent Python packages available, for just about any problem or task that one can imagine. Most of them are free. Here are just a few of the excellent packages that are useful for scouting and data analysis:\n",
    "* Pandas for analyzing tabular data\n",
    "* Scipy for statistics and other high-level mathematical analysis\n",
    "* Sympy for symbolic mathematics\n",
    "* Bokeh and Matplotlib for data visualization\n",
    "* Flask and cherrypy for running web servers\n",
    "\n",
    "\n",
    "There currently are over 100,000 Python packages to choose from.\n",
    "\n"
   ]
  }
 ],
 "metadata": {
  "kernelspec": {
   "display_name": "Python 3",
   "language": "python",
   "name": "python3"
  },
  "language_info": {
   "codemirror_mode": {
    "name": "ipython",
    "version": 3
   },
   "file_extension": ".py",
   "mimetype": "text/x-python",
   "name": "python",
   "nbconvert_exporter": "python",
   "pygments_lexer": "ipython3",
   "version": "3.8.2"
  }
 },
 "nbformat": 4,
 "nbformat_minor": 4
}
