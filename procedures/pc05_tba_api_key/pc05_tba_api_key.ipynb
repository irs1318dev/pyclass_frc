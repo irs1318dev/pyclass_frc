{
 "cells": [
  {
   "cell_type": "markdown",
   "metadata": {},
   "source": [
    "[Table of Contents](../../index.ipynb)"
   ]
  },
  {
   "cell_type": "markdown",
   "metadata": {},
   "source": [
    "# Getting a Blue Alliance Authorization Key\n",
    "[The Blue Alliance](http://www.thebluealliance.com) is an extensive online repository of FIRST Robotics Competition (FRC) data. The Blue Alliance (TBA) contains detailed information on every single FRC match. [Click here for an example.](https://www.thebluealliance.com/match/2020wasno_qf2m1)\n",
    "\n",
    "In addition providing information website, TBA makes all FRC competition data available via hyptetext transfer protocol (HTTP). The FRC data is provided as javascript object notation (JSON) text, which can be read by Python. This allows us find new ways to analyze and visualize FRC data."
   ]
  },
  {
   "cell_type": "markdown",
   "metadata": {},
   "source": [
    "## A. TBA Account and Authorization Key\n",
    "An authorization key, issued by TBA, is required to retrieve FRC data from TBA. But don't worry, you can get an authorization key is just a few minutes.\n",
    "\n",
    "1. TBA requires users to have a Google account to log into thier site and obtain a key. If you already have a Google account and email address, proceed to step 2. If not, go to [https://accounts.google.com/signup](https://accounts.google.com/signup) and get one.  \n",
    "\n",
    "\n",
    "2. Go to [thebluealliance.com](http://thebluealliance.com) and click on *myTBA* in the menu bar at the top of the page.\n",
    "![myTBA Link](images/tba_auth_key_01.png)  \n",
    "\n",
    "\n",
    "3. Click on *Take me to the login page!*.\n",
    "![myTBA Link](images/tba_auth_key_02.png)\n",
    "\n",
    "\n",
    "4. Select the Google account you would like to use and click *Allow*.\n",
    "\n",
    "\n",
    "5. Select *Manage myTBA*.\n",
    "![myTBA Link](images/tba_auth_key_03.png)\n",
    "\n",
    "\n",
    "6. Select *Account Overview*.\n",
    "![myTBA Link](images/tba_auth_key_04.png)\n",
    "\n",
    "\n",
    "7. Scroll down to the *Read API Keys* section. Type `python_analysis` into the description box and click on *+ Add New Key*.\n",
    "![myTBA Link](images/tba_auth_key_05.png)\n",
    "\n",
    "\n",
    "8. The authorization key, a 64-character random has now appeared in the *Read API Keys* section. Copy the key.\n",
    "![myTBA Link](images/tba_auth_key_06.png)\n",
    "\n",
    "\n",
    "9. Create an empty python file named `auth.py`. Copy the key into that file. Surround the key with quotes and assign it to a variable named `tba_key`. the file will only have one line of code:\n",
    "```\n",
    "tba_key = 'hhk3kjWhKHKkD4hgkGjhHGMFhgS5fHfh4Fklk1KUnhkHk6lYi4YiYHGut9yEhvHF'\n",
    "```\n",
    "10. Be careful not to upload auth.py to a Github repository. One way to prevent this is to add `**/auth.py` to the repository's .gitignore file."
   ]
  },
  {
   "cell_type": "markdown",
   "metadata": {},
   "source": [
    "[Table of Contents](../../index.ipynb)"
   ]
  }
 ],
 "metadata": {
  "kernelspec": {
   "display_name": "Python 3",
   "language": "python",
   "name": "python3"
  },
  "language_info": {
   "codemirror_mode": {
    "name": "ipython",
    "version": 3
   },
   "file_extension": ".py",
   "mimetype": "text/x-python",
   "name": "python",
   "nbconvert_exporter": "python",
   "pygments_lexer": "ipython3",
   "version": "3.8.2"
  }
 },
 "nbformat": 4,
 "nbformat_minor": 4
}
