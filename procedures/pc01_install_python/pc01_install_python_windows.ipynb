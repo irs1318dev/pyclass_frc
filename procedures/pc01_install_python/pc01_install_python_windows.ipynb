{
 "cells": [
  {
   "cell_type": "markdown",
   "metadata": {},
   "source": [
    "[Table of Contents](../../index.ipynb)"
   ]
  },
  {
   "cell_type": "markdown",
   "metadata": {},
   "source": [
    "# FRC Analytics with Python - Procedure 01\n",
    "# Installing Python\n",
    "**Last Upated: 20 September 2021**"
   ]
  },
  {
   "cell_type": "markdown",
   "metadata": {},
   "source": [
    "## I. Windows 10\n",
    "### A. Preparing for Install\n",
    "1. Make sure there are no spaces in your user folder name on Windows. Spaces can cause problems later on.\n",
    "  * BAD: C:\\Users\\Don Bossi\n",
    "  * GOOD: C:\\Users\\don\n",
    "  * Consider installing Python on a different user account if your account name contains a space.\n",
    "2. Uninstall all other versions of Python that were previously installed.\n",
    "  * Goto *Add or Remove Programs*.\n",
    "  * Search the list of installed programs and uninstall anything with Python in the program name.\n",
    "  * Restart your computer after install."
   ]
  },
  {
   "cell_type": "markdown",
   "metadata": {},
   "source": [
    "### B. Download Python\n",
    "There are many ways to install Python. The IRS uses the Miniconda version of CPython.\n",
    "* Miniconda downloads and installs faster than other types of Python.\n",
    "* Download Python here: https://docs.conda.io/en/latest/miniconda.html\n",
    "* Select the 64-bit versin of Python 3.7 or newer. (Do not download version 2.7!)\n",
    "![Miniconda Download Page](images/miniconda.png)\n",
    "\n",
    "Miniconda is almost exactly the same as another Python distribution called Anaconda\n",
    "* In addition to installing Python, Anaconda installs over a hundred optional Python software modules, which makes downloading and installing take a long time.\n",
    "* We don't need most of the  optional modules, so we install Miniconda instead.\n",
    "* Even though we installed Miniconda, you will see many references to Anaconda -- in many respects they are the same thing."
   ]
  },
  {
   "cell_type": "markdown",
   "metadata": {},
   "source": [
    "### C. Install Miniconda\n",
    "![Python Install Process](images\\install_process.png)"
   ]
  },
  {
   "cell_type": "markdown",
   "metadata": {},
   "source": [
    "### D. Verify Installation\n",
    "1. Miniconda adds a shortcut to the *Windows Start Menu* for a special version of the Powershell CLI, called the *Anaconda Powershell*. Find the Anaconda *Powershell* program in the Anaconda3 folder on the start menu.\n",
    "  * There are shortcuts to two different programs in your anaconda folder, one for *PowerShell* and one for the traditional Windows command prompt. Open the *PowerShell* prompt.\n",
    "![Start Menu](images/start_menu.png)\n",
    "2. Type `Python -V` and hit enter. You should see something like this:\n",
    "![Anaconda Prompt on Windows](images/verify_python.png)"
   ]
  },
  {
   "cell_type": "markdown",
   "metadata": {},
   "source": [
    "## II. Notes for Installing on Mac\n",
    "Python works great on Macs as well. Here are some notes for installing Python on an Apple operating system.\n",
    "\n",
    "1. Uninstall any earlier installations of Python.\n",
    "2. Download the Python 3.9 (or newer) 64-bit bash version of the Mac OS installer from https://docs.conda.io/en/latest/miniconda.html.\n",
    "3. After the installer is done downloading, it will be in the Downloads tab in *finder*. Run the installer.\n",
    "  * Open a *Terminal* window at *Applications -> Utilities -> Terminal*\n",
    "  * Change directories (`cd Downloads`)( through the terminal to the *downloads* folder.\n",
    "  * Run the bash `.sh` file in terminal: `sudo bash Miniconda3-latest-MacOSX-x86_64.sh`\n",
    "  * Follow the prompts and accept all defaults when installing.\n",
    "6. Type \"yes\" to accept all the terms and conditions\n",
    "7. Close and reopen the terminal to make sure conda has been setup\n",
    "  * Type \"conda list\" and if a list of packages appears, the installation has been done correctly"
   ]
  },
  {
   "cell_type": "markdown",
   "metadata": {},
   "source": [
    "## V. Next Steps\n",
    "* Go to [session 04](../../sessions/s04_tools/s04_tools.ipynb) to create a new environment and install Jupyter.\n",
    "* Go to [procedure 02](../pc02_git/pc02_git.ipynb) to install Git and copy the Python class to your local computer."
   ]
  },
  {
   "cell_type": "markdown",
   "metadata": {},
   "source": [
    "[Table of Contents](../../index.ipynb)"
   ]
  }
 ],
 "metadata": {
  "kernelspec": {
   "display_name": "Python 3 (ipykernel)",
   "language": "python",
   "name": "python3"
  },
  "language_info": {
   "codemirror_mode": {
    "name": "ipython",
    "version": 3
   },
   "file_extension": ".py",
   "mimetype": "text/x-python",
   "name": "python",
   "nbconvert_exporter": "python",
   "pygments_lexer": "ipython3",
   "version": "3.9.6"
  }
 },
 "nbformat": 4,
 "nbformat_minor": 4
}
