{
 "cells": [
  {
   "cell_type": "markdown",
   "metadata": {},
   "source": [
    "# Pyclass Project #1\n",
    "\n",
    "For project #1, students will evaluate a dataset using the Pandas package. Students will draft a report on the dataset using Jupyter notebook and Markdown. The report will include plots of the data that were created with Matplotlib or other Python plotting packages."
   ]
  },
  {
   "cell_type": "markdown",
   "metadata": {},
   "source": [
    "## Step 1: Get some interesting data\n",
    "There are many datasets available on the Internet. Here are some sources:"
   ]
  },
  {
   "cell_type": "markdown",
   "metadata": {},
   "source": [
    "### Kaggle\n",
    "[Kaggle](https://www.kaggle.com/)  \n",
    "Kaggle is a website that hosts machine learning competitions. I suspect you are wondering what a machine learning competition is. I'll provide an example.\n",
    "\n",
    "One Kaggle competition was called *Random Acts of Pizza*. *Random Acts of Pizza* is a subreddit (i.e., a channel on Reddit) where people talk about hardhips they've experienced in their life and ask strangers to send them a free pizza to help them fell better.\n",
    "* Competitors downloaded a training dataset from Kaggle that contained 5,671 requests for pizzas from Reddit.\n",
    "* The dataset was split into training and test datasets. The training dataset included information on whether the requester received a free pizza. The test dataset did not.\n",
    "* Competitors trained a machine learning alorithm on the test data, and then made predictions on the test data.\n",
    "* Competitors uploaded their predictions to Kaggle. The competitor with the most corrected predictions won the competition.\n",
    "\n",
    "The Pyclass FRC does not cover machine learning, so we will not be submitting predictions to Kaggle. But the datasets are interesting in their own right. Here is one of the 5,671 pizza reqests from the dataset:\n",
    "\n",
    "```json\n",
    "    {\n",
    "        \"giver_username_if_known\": \"N/A\", \n",
    "        \"number_of_downvotes_of_request_at_retrieval\": 0, \n",
    "        \"number_of_upvotes_of_request_at_retrieval\": 1, \n",
    "        \"post_was_edited\": false, \n",
    "        \"request_id\": \"t3_l25d7\", \n",
    "        \"request_number_of_comments_at_retrieval\": 0, \n",
    "        \"request_text\": \"Hi I am in need of food for my 4 children we are a military family that has really hit hard times and we have exahusted all means of help just to be able to feed my family and make it through another night is all i ask i know our blessing is coming so whatever u can find in your heart to give is greatly appreciated\", \n",
    "        \"request_text_edit_aware\": \"Hi I am in need of food for my 4 children we are a military family that has really hit hard times and we have exahusted all means of help just to be able to feed my family and make it through another night is all i ask i know our blessing is coming so whatever u can find in your heart to give is greatly appreciated\", \n",
    "        \"request_title\": \"Request Colorado Springs Help Us Please\", \n",
    "        \"requester_account_age_in_days_at_request\": 0.0, \n",
    "        \"requester_account_age_in_days_at_retrieval\": 792.4204050925925, \n",
    "        \"requester_days_since_first_post_on_raop_at_request\": 0.0, \n",
    "        \"requester_days_since_first_post_on_raop_at_retrieval\": 792.4204050925925, \n",
    "        \"requester_number_of_comments_at_request\": 0, \n",
    "        \"requester_number_of_comments_at_retrieval\": 0, \n",
    "        \"requester_number_of_comments_in_raop_at_request\": 0, \n",
    "        \"requester_number_of_comments_in_raop_at_retrieval\": 0, \n",
    "        \"requester_number_of_posts_at_request\": 0, \n",
    "        \"requester_number_of_posts_at_retrieval\": 1, \n",
    "        \"requester_number_of_posts_on_raop_at_request\": 0, \n",
    "        \"requester_number_of_posts_on_raop_at_retrieval\": 1, \n",
    "        \"requester_number_of_subreddits_at_request\": 0, \n",
    "        \"requester_received_pizza\": false, \n",
    "        \"requester_subreddits_at_request\": [], \n",
    "        \"requester_upvotes_minus_downvotes_at_request\": 0, \n",
    "        \"requester_upvotes_minus_downvotes_at_retrieval\": 1, \n",
    "        \"requester_upvotes_plus_downvotes_at_request\": 0, \n",
    "        \"requester_upvotes_plus_downvotes_at_retrieval\": 1, \n",
    "        \"requester_user_flair\": null, \n",
    "        \"requester_username\": \"nickylvst\", \n",
    "        \"unix_timestamp_of_request\": 1317852607.0, \n",
    "        \"unix_timestamp_of_request_utc\": 1317849007.0\n",
    "    },\n",
    "```\n",
    "\n",
    "This particular dataset is in JSON format. Many of the datasets are in CSV format. Other interesting Kaggle datasets include:\n",
    "* [Netflix Movies and TV Shows](https://www.kaggle.com/datasets)\n",
    "* [COVID-19](https://www.kaggle.com/kimjihoo/coronavirusdataset)\n",
    "* [Used Cars](https://www.kaggle.com/austinreese/craigslist-carstrucks-data)\n",
    "* [New York State Math Test Results](https://www.kaggle.com/new-york-city/new-york-state-math-test-results)\n",
    "* [League of Legends Ranked Games](https://www.kaggle.com/bobbyscience/league-of-legends-diamond-ranked-games-10-min)"
   ]
  },
  {
   "cell_type": "markdown",
   "metadata": {},
   "source": [
    "### Other Sources of Data\n",
    "* [Fivethirtyeight](https://data.fivethirtyeight.com/): Mostly politics and sports.\n",
    "* [UCI Machine Learning Repository](http://archive.ics.uci.edu/ml/index.php): Wide range of datsets used to evaluate machine learning algorithms\n",
    "* [Data.Gov](https://catalog.data.gov/dataset): Wide range of topics"
   ]
  },
  {
   "cell_type": "markdown",
   "metadata": {},
   "source": [
    "### What to Look for in a Dataset\n",
    "You are not limited to the sources listed on this page. Your dataset *must* meet these requirements:\n",
    "* Be publicly available\n",
    "* Be in either JSON or CSV format\n",
    "* Be appropriate for an educational environment\n",
    "\n",
    "Here are recommendations that will help you be successful:\n",
    "* Dataset should not be too big or too small. Specifically:\n",
    "  * If your data consists of just one table, try to have a dozen or more columns. It might be hard to make interesting observations if there are just a few columns. Also try to have 500 or more rows. IF the dataset consists of more than one table, then each table can be smaller\n",
    "  * We have not yet covered joining and merging. So if your dataset is spread across more than two or three tables, that might be too much."
   ]
  },
  {
   "cell_type": "markdown",
   "metadata": {},
   "source": [
    "## Step 2: Analyze the Data in a Jupyter Notebook\n",
    "1. Import the data into Pandas Dataframes.\n",
    "2. Do interesting stuff with Pandas, like\n",
    "  * Calcualate summary statistics\n",
    "  * Sort or filter the data\n",
    "  * Do mathematical calculations on the data\n",
    "3. Make some charts. For example\n",
    "  * Look for relationships by plotting different columns against each other\n",
    "  * View the distribution of the data with a histogram\n",
    "  * Use barcharts to aggregate the data"
   ]
  },
  {
   "cell_type": "markdown",
   "metadata": {},
   "source": [
    "## Step 3: Write up your observations in the Jupyter notebook using Markdown"
   ]
  },
  {
   "cell_type": "markdown",
   "metadata": {},
   "source": [
    "## Step 4: Share your notebook on Github."
   ]
  },
  {
   "cell_type": "code",
   "execution_count": null,
   "metadata": {},
   "outputs": [],
   "source": []
  }
 ],
 "metadata": {
  "kernelspec": {
   "display_name": "Python 3",
   "language": "python",
   "name": "python3"
  },
  "language_info": {
   "codemirror_mode": {
    "name": "ipython",
    "version": 3
   },
   "file_extension": ".py",
   "mimetype": "text/x-python",
   "name": "python",
   "nbconvert_exporter": "python",
   "pygments_lexer": "ipython3",
   "version": "3.8.5"
  }
 },
 "nbformat": 4,
 "nbformat_minor": 4
}
